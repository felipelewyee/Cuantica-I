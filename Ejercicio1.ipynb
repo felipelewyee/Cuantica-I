{
 "cells": [
  {
   "cell_type": "markdown",
   "metadata": {},
   "source": [
    "# Partícula Libre y Partícula en la caja"
   ]
  },
  {
   "cell_type": "markdown",
   "metadata": {},
   "source": [
    "A continuación estudiaremos sistemas sencillos que nos permiten entender como surge la cuantización. Además, nos permitirán familiarizarnos con los pasos para resolver los problemas de química cuántica. Podemos resumir estos como:\n",
    "1. Identificar las interacciones y restricciones del sistema.\n",
    "2. Escrbir el Hamiltoniano ($\\mathcal{H}$) y la ecuación de Schrodinger ($\\mathcal{H}\\psi = \\varepsilon \\psi$).\n",
    "3. Encontrar la función de onda ($\\psi$).\n",
    "4. Estudiar las condiciones de cuantización."
   ]
  },
  {
   "cell_type": "markdown",
   "metadata": {
    "colab_type": "text",
    "id": "0uqEvNyjIaaQ"
   },
   "source": [
    "## Partícula Libre"
   ]
  },
  {
   "cell_type": "markdown",
   "metadata": {
    "colab_type": "text",
    "id": "6pT07AnAIaaS"
   },
   "source": [
    "La partícula libre es el sistema más sencillo posible, consiste en una partícula que se mueve en un potencial **uniforme**, **conservativo** y **sin restricciones**. \n",
    "\n",
    "El primer paso consiste en escribir el Hamiltoniano, el cuál contiene las interacciones del sistema. En 1D el Hamiltoniano es\n",
    "\n",
    "$$\n",
    "\\mathcal{H} = - \\frac{\\hbar^2}{2m} \\frac{d^2}{dx^2} + V(x)\n",
    "$$\n",
    "\n",
    "donde el primer término es la energía cinética y el segundo el potencial.\n",
    "\n",
    "La ecuación de Schrodinger a resolver se obtiene de susituir el Hamiltoniano en $\\mathcal{H}\\psi=\\varepsilon\\psi$:\n",
    "\n",
    "$$\n",
    "\\left(- \\frac{\\hbar^2}{2m} \\frac{d^2}{dx^2} +V(x)\\right)\\psi(x)=\\varepsilon\\psi(x)\n",
    "$$\n",
    "\n",
    "Esta se puede reescribir como una ecuación diferencial homogénea de segundo orden\n",
    "\n",
    "$$\n",
    "-\\frac{d^2 \\psi(x)}{dx^2} = \\frac{2m(\\varepsilon-V)}{\\hbar^2}\\psi(x) = \\frac{2mE}{\\hbar^2}\\psi(x)\n",
    "$$\n",
    "\n",
    "La solución a la ecuación anterior es una función cuya segunda derivada es la misma función multiplicada por alguna constante. Esta característica la cumplen las exponenciales, por tanto se propone que la solución tenga la forma:\n",
    "\n",
    "$$\n",
    "\\psi = A'e^{ikx} + B'e^{-ikx}\n",
    "$$\n",
    "\n",
    "Al sustituir en la ecuación diferencial\n",
    "\n",
    "$$\n",
    "-\\frac{d^2 \\psi(x)}{dx^2} = k^2(A'e^{ikx} + B'e^{-ikx}) = k^2\\psi\n",
    "$$\n",
    "\n",
    "Podemos encontrar la forma de $k$ por simple comparación:\n",
    "\n",
    "$$\n",
    "k^2 = \\frac{2mE}{\\hbar^2}\n",
    "$$\n",
    "\n",
    "Por la identidad de Euler, la función de onda también puede escribirse como:\n",
    "\n",
    "$$\n",
    "\\psi = Acos(kx) + Bsin(kx)\n",
    "$$\n",
    "\n",
    "Los pasos anteriores nos han permitido encontrar una forma para la función de onda, sin embargo, no ha surgido cuantización."
   ]
  },
  {
   "cell_type": "markdown",
   "metadata": {
    "colab_type": "text",
    "id": "dC5a3P57IaaT"
   },
   "source": [
    "## Partícula en una caja"
   ]
  },
  {
   "cell_type": "markdown",
   "metadata": {
    "colab_type": "text",
    "id": "PtW2LMinIaaV"
   },
   "source": [
    "La versión 1D de este sistema consiste en una partícula que se mueve en el espacio con un potencial definido en tres regiones, tal que:\n",
    "\n",
    "$$\n",
    "V(x) = \\left\\{\n",
    "  \\begin{array}{lll}\n",
    "  \\infty      & \\mathrm{si\\ } x < 0 & I\\\\\n",
    "  V & \\mathrm{si\\ } 0 \\le x \\le L & II \\\\\n",
    "  \\infty     & \\mathrm{si\\ } x > L & III\n",
    "  \\end{array}\n",
    "  \\right.\n",
    "$$\n",
    "\n",
    "Esto significa que la partícula está confinada a un intervalo en $x \\epsilon [0,L]$. La función de onda se puede dividir por regiones. Es imposible que la partícula se encuentre en la región I y en la región III, ya que el potencial es infinito, por lo tanto:\n",
    "\n",
    "$$\n",
    "\\psi(x) = 0 \\left\\{\n",
    "  \\begin{array}{lll}\n",
    "  \\mathrm{si\\ } x < 0 & I\\\\\n",
    "  \\mathrm{si\\ } x > L & III\n",
    "  \\end{array}\n",
    "  \\right.\n",
    "$$\n",
    "\n",
    "Para encontrar la función de onda en la región II hay que escribir la de Schrodinger\n",
    "\n",
    "$$\n",
    "\\left(- \\frac{\\hbar^2}{2m} \\frac{d^2}{dx^2} +V(x)\\right)\\psi(x)=\\varepsilon\\psi(x)\n",
    "$$\n",
    "\n",
    "cuya solución, como se vio anteriormente, es\n",
    "\n",
    "$$\n",
    "  \\begin{array}{lll}\n",
    "  \\psi(x) = Acos(kx) + Bsin(kx)      & \\mathrm{si\\ } 0 \\leq x \\leq L; & k^2 = \\frac{2mE}{\\hbar^2}\\\\\n",
    "  \\end{array}\n",
    "$$\n",
    "\n",
    "La función de onda debe ser continua, esto significa que la región I y la región II deben unirse en el mismo punto, es decir, $\\psi_{I}(0) = \\psi_{II}(0) = 0$. Esto implica que $A=0$, ya que\n",
    "\n",
    "$$\n",
    "\\psi_{II}(0) = 0 = Acos(0) + Bsin(0) = A\n",
    "$$\n",
    "\n",
    "Por la continuidad con la región III también se cumple $\\psi_{II}(L) = \\psi_{III}(L) = 0$, es decir\n",
    "\n",
    "$$\n",
    "\\psi_{II}(L) = 0 = Bsin(kL)\n",
    "$$\n",
    "\n",
    "Ya obtuvimos que $A$ vale cero, sin embargo, $B$ no puede ser cero porque $\\psi_{II}$ se anularía. La única forma de que se cumpla la ecuación anterior es que $kL$ sea un múltiplo de $\\pi$, es decir $kL = n \\pi$, o lo que es lo mismo\n",
    "\n",
    "$$\n",
    "  \\begin{array}{ll}\n",
    "  k=\\frac{n\\pi}{L};      & n=1,2,3,...\\\\\n",
    "  \\end{array}\n",
    "$$\n",
    "\n",
    "Hemos obtenido que\n",
    "\n",
    "$$\n",
    "\\psi = B sin \\left( \\frac{n \\pi x}{L}\\right)\n",
    "$$\n",
    "\n",
    "Para encontrar el valor de B hay que normalizar la función de onda, resultando que:\n",
    "\n",
    "$$\n",
    "\\psi_n(x)=\\left(\\frac{2}{L}\\right)^{1/2}sin\\left(\\frac{n\\pi x}{L}\\right)\n",
    "$$\n",
    "\n",
    "Al sustituir la función de onda se obtiene la expresión de la energía, que es\n",
    "\n",
    "$$\n",
    "  \\begin{array}{ll}\n",
    "  E = \\frac{\\hbar^2 k^2}{2m} = \\frac{h^2 n^2}{8mL^2};      & n=1,2,3,...\\\\\n",
    "  \\end{array}\n",
    "$$\n"
   ]
  },
  {
   "cell_type": "markdown",
   "metadata": {
    "colab_type": "text",
    "id": "V5X5Hz5lIaaW"
   },
   "source": [
    "**Grafique la función de onda y el cuadrado de la función de onda para n=1 para L=4.0 A**\n",
    "\n",
    "Sugerencias\n",
    "1. Importe numpy y matplotlib.pyplot\n",
    "2. Declare la variable L y asígnele un valor, por ejemplo $L=1$\n",
    "3. Cree el dominio de x de 0 a L con numpy.linspace, utilice una cantidad de puntos, por ejemplo 50.\n",
    "4. Evalúe la función de onda en el dominio\n",
    "5. Calcule el cuadrado de la función de onda en el dominio\n",
    "6. Grafique la función de onda y su cuadrado usando matplotlib y pyplot."
   ]
  },
  {
   "cell_type": "code",
   "execution_count": null,
   "metadata": {
    "colab": {},
    "colab_type": "code",
    "id": "RJcBnSTWIaaX"
   },
   "outputs": [],
   "source": [
    "# Gráfica de psi_1 y su cuadrado\n",
    "\n",
    "import numpy as np\n",
    "from matplotlib import pyplot as plt\n",
    "\n",
    "L=4.0\n",
    "n=1.0\n",
    "\n",
    "x=np.linspace(0,L,100)\n",
    "\n",
    "psi=np.sqrt(2.0/L)*np.sin(n*np.pi*x/L)\n",
    "psi2=psi*psi\n",
    "\n",
    "plt.plot(x,psi,label=\"psi\")\n",
    "plt.plot(x,psi2,label=\"psi^2\")\n",
    "\n",
    "plt.legend()\n",
    "plt.axhline(y=0, color='k')\n",
    "plt.show()"
   ]
  },
  {
   "cell_type": "markdown",
   "metadata": {
    "colab_type": "text",
    "id": "1x7Het3kIaaa"
   },
   "source": [
    "**Grafique la función de onda y el cuadrado de la función de onda para n=1,2,3,4 para L=4.0 A**\n",
    "Sugerencias:\n",
    "1. Importe numpy y matplotlib.pyplot\n",
    "2. Declare la variable L y asígnele un valor, por ejemplo $L=1$\n",
    "3. Cree el dominio de x de 0 a L con numpy.linspace, utilice una cantidad de puntos, por ejemplo 50.\n",
    "4. Evalúe las 4 funciones de onda en el dominio\n",
    "5. Calcule el cuadrado de las 4 funciones de onda en el dominio\n",
    "6. Grafique las funciones y su cuadrado usando matplotlib y pyplot."
   ]
  },
  {
   "cell_type": "code",
   "execution_count": null,
   "metadata": {
    "colab": {},
    "colab_type": "code",
    "id": "Vazta8tPIaab"
   },
   "outputs": [],
   "source": [
    "# Gráfica de psi_1, psi_2, psi_3, psi_4 y su cuadrado\n",
    "\n",
    "import numpy as np\n",
    "from matplotlib import pyplot as plt\n",
    "\n",
    "L=4.0\n",
    "x=np.linspace(0,L,100)\n",
    "\n",
    "n=1.0\n",
    "\n",
    "psi=np.sqrt(2.0/L)*np.sin(n*np.pi*x/L)\n",
    "psi2=psi*psi\n",
    "plt.plot(x,psi,label=\"psi\")\n",
    "plt.plot(x,psi2,label=\"psi^2\")\n",
    "\n",
    "plt.legend()\n",
    "plt.axhline(y=0, color='k')\n",
    "plt.show()\n",
    "\n",
    "n=2.0\n",
    "\n",
    "psi=np.sqrt(2.0/L)*np.sin(n*np.pi*x/L)\n",
    "psi2=psi*psi\n",
    "plt.plot(x,psi,label=\"psi\")\n",
    "plt.plot(x,psi2,label=\"psi^2\")\n",
    "\n",
    "plt.legend()\n",
    "plt.axhline(y=0, color='k')\n",
    "plt.show()\n",
    "\n",
    "n=3.0\n",
    "\n",
    "psi=np.sqrt(2.0/L)*np.sin(n*np.pi*x/L)\n",
    "psi2=psi*psi\n",
    "plt.plot(x,psi,label=\"psi\")\n",
    "plt.plot(x,psi2,label=\"psi^2\")\n",
    "\n",
    "plt.legend()\n",
    "plt.axhline(y=0, color='k')\n",
    "plt.show()\n",
    "\n",
    "n=4.0\n",
    "\n",
    "psi=np.sqrt(2.0/L)*np.sin(n*np.pi*x/L)\n",
    "psi2=psi*psi\n",
    "plt.plot(x,psi,label=\"psi\")\n",
    "plt.plot(x,psi2,label=\"psi^2\")\n",
    "\n",
    "plt.legend()\n",
    "plt.axhline(y=0, color='k')\n",
    "plt.show()"
   ]
  },
  {
   "cell_type": "markdown",
   "metadata": {
    "colab_type": "text",
    "id": "hoNly7aCIaad"
   },
   "source": [
    "Como estamos haciendo una secuencia de gráficas donde aumentamos n de uno en uno, podemos hacerlo con un ciclo for. **Repita la gráfica de la función de onda con $n=1,2,3,4$ utilizando un ciclo for**."
   ]
  },
  {
   "cell_type": "code",
   "execution_count": null,
   "metadata": {
    "colab": {},
    "colab_type": "code",
    "id": "3N0qLQt5Iaae"
   },
   "outputs": [],
   "source": [
    "# Gráfica de psi_1, psi_2, psi_3, psi_4 y su cuadrado con for\n",
    "\n",
    "import numpy as np\n",
    "from matplotlib import pyplot as plt\n",
    "\n",
    "L=4.0\n",
    "x=np.linspace(0,L,100)\n",
    "\n",
    "for n in range(1,5):\n",
    "    psi=np.sqrt(2.0/L)*np.sin(n*np.pi*x/L)\n",
    "    psi2=psi*psi\n",
    "    plt.plot(x,psi,label=\"psi\")\n",
    "    plt.plot(x,psi2,label=\"$psi^2$\")\n",
    "    plt.legend()\n",
    "    plt.axhline(y=0, color='k')\n",
    "    plt.show()"
   ]
  },
  {
   "cell_type": "markdown",
   "metadata": {
    "colab_type": "text",
    "id": "E4mgT2GqIaaf"
   },
   "source": [
    "**Haga la gráfica de E en función de n para los primeros 10 niveles energéticos de un electrón en una caja.**\n",
    "\n",
    "Recuerde que\n",
    "\n",
    "$$\n",
    "  E = \\frac{h^2 n^2}{8mL^2}\n",
    "$$\n",
    "\n",
    "Con $n=1,2,3,...$\n",
    "\n",
    "Considere h=1 y m=1. Esto se llama unidades atómicas. Tome L=1 A"
   ]
  },
  {
   "cell_type": "code",
   "execution_count": null,
   "metadata": {
    "colab": {},
    "colab_type": "code",
    "id": "dCxuqxA1Iaag"
   },
   "outputs": [],
   "source": [
    "from matplotlib import pyplot as plt\n",
    "\n",
    "for n in range(1,11):\n",
    "    plt.hlines(n**2.0/(8.0*(1.0**2.0)),0,1)\n",
    "\n",
    "plt.xlim(0,4)\n",
    "plt.show()"
   ]
  },
  {
   "cell_type": "markdown",
   "metadata": {
    "colab_type": "text",
    "id": "D_49Al_0Iaah"
   },
   "source": [
    "**Muestre que $\\psi_1$ y $\\psi_3$ son ortonormales (Tome $L=2.0$).**\n",
    "\n",
    "Ayuda. Haga la integral"
   ]
  },
  {
   "cell_type": "code",
   "execution_count": null,
   "metadata": {
    "colab": {},
    "colab_type": "code",
    "id": "FSkPM386Iaai"
   },
   "outputs": [],
   "source": [
    "import numpy as np\n",
    "import scipy.integrate as integrate\n",
    "\n",
    "L=2.0\n",
    "\n",
    "integrate.quad(lambda x: np.sqrt(2.0/L)*np.sin(np.pi*1.0*x/L)*np.sqrt(2.0/L)*np.sin(np.pi*3.0*x/L),0,L)"
   ]
  },
  {
   "cell_type": "markdown",
   "metadata": {
    "colab_type": "text",
    "id": "l-PiPnK8Iaaj"
   },
   "source": [
    "También existe la partícula en una caja para 2-Dimensiones. Se confina la partícula en $x\\varepsilon[0,L_x]$ y $y\\varepsilon[0,L_y]$.\n",
    "\n",
    "La ecuación de Schrodinger a resolver es\n",
    "\n",
    "$$\n",
    "- \\frac{\\hbar^2}{2m} \\left(\\frac{\\partial^2}{\\partial x^2} + \\frac{\\partial^2}{\\partial y^2} \\right)\\psi(x,y)=E\\psi(x,y)\n",
    "$$\n",
    "\n",
    "Que se resuelve por el método de separación de variables y se obtiene:\n",
    "\n",
    "$$\n",
    "  \\begin{array}{ll}\n",
    "  k_x=\\frac{n_x\\pi}{L_x};      & n_x=1,2,3,...\\\\\n",
    "  k_y=\\frac{n_y\\pi}{L_y};      & n_y=1,2,3,...\\\\\n",
    "  \\end{array}\n",
    "$$\n",
    "\n",
    "$$\n",
    "\\psi_{n_x,n_y}(x)=\\left(\\frac{2}{L_x}\\right)^{1/2} \\left(\\frac{2}{L_y}\\right)^{1/2}sin\\left(\\frac{n_x\\pi x}{L_x}\\right)sin\\left(\\frac{n_y\\pi y}{L_y}\\right)\n",
    "$$\n",
    "\n",
    "$$\n",
    "E = \\frac{h^2 }{8m} \\left(\\frac{n_x^2}{L_x^2} + \\frac{n_y^2}{L_y^2} \\right)\n",
    "$$\n"
   ]
  },
  {
   "cell_type": "markdown",
   "metadata": {
    "colab_type": "text",
    "id": "UNtequ7NIaak"
   },
   "source": [
    "**Obtenga la gráfica de $\\psi_{1,1}$, es decir $n_x=1$ y $n_y=1$, y de $|\\psi_{1,1}|^2$ con $L_x = L_y = 4.0$**"
   ]
  },
  {
   "cell_type": "code",
   "execution_count": null,
   "metadata": {
    "colab": {},
    "colab_type": "code",
    "id": "RSxNLjyaIaak"
   },
   "outputs": [],
   "source": [
    "from mpl_toolkits import mplot3d\n",
    "import numpy as np\n",
    "import matplotlib.pyplot as plt\n",
    "\n",
    "Lx=4.0\n",
    "Ly=4.0\n",
    "\n",
    "nx=1.0\n",
    "ny=1.0\n",
    "\n",
    "x = np.linspace(0, Lx, 30)\n",
    "y = np.linspace(0, Ly, 30)\n",
    "X, Y = np.meshgrid(x, y)\n",
    "\n",
    "psi = np.sqrt(2.0/Lx)*np.sqrt(2.0/Ly)*np.sin(nx*np.pi*X/Lx)*np.sin(ny*np.pi*Y/Ly)\n",
    "\n",
    "ax = plt.axes(projection='3d')\n",
    "ax.plot_surface(X, Y, psi, rstride=1, cstride=1,\n",
    "                cmap='YlGnBu', edgecolor='none')\n",
    "ax.set_title(\"$\\Psi$\")\n",
    "plt.show()\n",
    "\n",
    "psi = np.sqrt(2.0/Lx)*np.sqrt(2.0/Ly)*np.sin(nx*np.pi*X/Lx)*np.sin(ny*np.pi*Y/Ly)\n",
    "\n",
    "ax = plt.axes(projection='3d')\n",
    "ax.plot_surface(X, Y, psi**2.0, rstride=1, cstride=1,\n",
    "                cmap='YlGnBu', edgecolor='none')\n",
    "ax.set_title(\"$|\\Psi|^2$\")\n",
    "plt.show()"
   ]
  },
  {
   "cell_type": "markdown",
   "metadata": {
    "colab_type": "text",
    "id": "K6h8njUuIaal"
   },
   "source": [
    "**Obtenga las gráfica de $\\psi_{3,3}$ y $|\\psi_{3,3}|^2$ con $L_x = L_y = 4.0$**"
   ]
  },
  {
   "cell_type": "code",
   "execution_count": null,
   "metadata": {
    "colab": {},
    "colab_type": "code",
    "id": "cEumwRQxIaam"
   },
   "outputs": [],
   "source": [
    "from mpl_toolkits import mplot3d\n",
    "import numpy as np\n",
    "import matplotlib.pyplot as plt\n",
    "\n",
    "Lx=4.0\n",
    "Ly=4.0\n",
    "\n",
    "nx=3.0\n",
    "ny=3.0\n",
    "\n",
    "x = np.linspace(0, Lx, 70)\n",
    "y = np.linspace(0, Ly, 70)\n",
    "X, Y = np.meshgrid(x, y)\n",
    "\n",
    "psi = np.sqrt(2.0/Lx)*np.sqrt(2.0/Ly)*np.sin(nx*np.pi*X/Lx)*np.sin(ny*np.pi*Y/Ly)\n",
    "\n",
    "ax = plt.axes(projection='3d')\n",
    "ax.plot_surface(X, Y, psi, rstride=1, cstride=1,\n",
    "                cmap='YlGnBu', edgecolor='none')\n",
    "ax.set_title(\"$\\Psi$\")\n",
    "plt.show()\n",
    "\n",
    "psi = np.sqrt(2.0/Lx)*np.sqrt(2.0/Ly)*np.sin(nx*np.pi*X/Lx)*np.sin(ny*np.pi*Y/Ly)\n",
    "\n",
    "ax = plt.axes(projection='3d')\n",
    "ax.plot_surface(X, Y, psi**2.0, rstride=1, cstride=1,\n",
    "                cmap='YlGnBu', edgecolor='none')\n",
    "ax.set_title(\"$|\\Psi|^2$\")\n",
    "plt.show()"
   ]
  },
  {
   "cell_type": "markdown",
   "metadata": {
    "colab_type": "text",
    "id": "T7wcHzhHIaan"
   },
   "source": [
    "## Referencias"
   ]
  },
  {
   "cell_type": "markdown",
   "metadata": {
    "colab_type": "text",
    "id": "c-KrvwuVIaan"
   },
   "source": [
    "(1) Pilar, F. L. Elementary Quantum Chemistry, Dover ed.; Dover Publications: Mineola, N.Y, 2001.\n",
    "\n",
    "(2) Breneman, G. L. The Two-Dimensional Particle in a Box. Journal of Chemical Education 1990, 67 (10), 866."
   ]
  },
  {
   "cell_type": "markdown",
   "metadata": {
    "colab_type": "text",
    "id": "rC79w43oIaan"
   },
   "source": [
    "Hecho por Juan Felipe Huan Lew Yee y Jorge Martín del Campo Ramírez para la clase de Química Cuántica I. Universidad Nacional Autónoma de México.\n",
    "\n",
    "Este archivo puede distribuise libremente y ser considerado Open Source. Si deseas modificarlo para su distribución, solo se pide conservar el nombre de los autores originales."
   ]
  }
 ],
 "metadata": {
  "colab": {
   "name": "Ejercicio1.ipynb",
   "provenance": []
  },
  "kernelspec": {
   "display_name": "Python 3",
   "language": "python",
   "name": "python3"
  },
  "language_info": {
   "codemirror_mode": {
    "name": "ipython",
    "version": 3
   },
   "file_extension": ".py",
   "mimetype": "text/x-python",
   "name": "python",
   "nbconvert_exporter": "python",
   "pygments_lexer": "ipython3",
   "version": "3.8.3"
  }
 },
 "nbformat": 4,
 "nbformat_minor": 1
}
