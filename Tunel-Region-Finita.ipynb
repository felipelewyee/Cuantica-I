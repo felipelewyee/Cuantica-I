{
 "cells": [
  {
   "cell_type": "markdown",
   "metadata": {
    "id": "3_tkSDmfEtap"
   },
   "source": [
    "# Efecto Túnel\n",
    "\n",
    "Considere una partícula moviéndose por la izquierda hacia una barrera de potencial de longitud finita con valor V en $0 \\leq x \\leq  L$, es decir:\n",
    "\n",
    "$$\n",
    "V(x) = \\left\\{\n",
    "  \\begin{array}{lll}\n",
    "  0      & \\mathrm{si\\ } x < 0 & \\text{I}\\\\\n",
    "  V & \\mathrm{si\\ } 0 \\leq x \\leq L & \\text{II} \\\\\n",
    "  0 & \\mathrm{si\\ } L \\le x & \\text{III} \\\\\n",
    "  \\end{array}\n",
    "  \\right.\n",
    "$$\n",
    "\n",
    "<img src=\"images/tunel-barrera-finita.png\" alt=\"Figura de tunel de barrera finita\" width=\"300\"/>\n",
    "\n",
    "En este caso no hay cuantización, por lo que la partícula puede tomar cualquier valor de energía. Analizaremos dos casos particulares\n",
    "\n",
    "1. La partícula tiene menor energía que el potencial $E<V$.\n",
    "2. La partícula tiene mayor energía que el potencial $E>V$."
   ]
  },
  {
   "cell_type": "markdown",
   "metadata": {
    "id": "XsVKjeftRffY"
   },
   "source": [
    "## Energía menor que el potencial $E < V$\n",
    "\n",
    "```{admonition} Para pensar\n",
    ":class: tip\n",
    "\n",
    "De manera clásica, cuando la partícula tiene menor energía que el potencial, $E<V$, no debería poder pasar a la región II ni a la región III. ¿Qué pasará cuánticamente? \n",
    "```\n",
    "\n",
    "El sistema puede analizarse por regiones\n",
    "```{admonition} Inserto matemático: Hamiltoniano por regiones\n",
    "\n",
    "| Región      | Hamiltoniano | Eigenfunción | Constantes |\n",
    "|:----------------:|:---------:|:--------:|:--------:|\n",
    "| ${\\rm I}$ | $- \\frac{\\hbar^2}{2m} \\frac{d^2}{dx^2}$ | $\\psi_{\\rm I}(x) = Ae^{ik_1x} + Be^{-ik_1x}$ | $k_1^2 = \\frac{2mE}{\\hbar^2}$ |\n",
    "| ${\\rm II}$| $- \\frac{\\hbar^2}{2m} \\frac{d^2}{dx^2} + V$ | $\\psi_{\\rm II}(x) = C e^{-k_2x} + De^{k_2x}$ | $k_2^2 = \\frac{2m(V-E)}{\\hbar^2}$ |\n",
    "| ${\\rm III}$ | $- \\frac{\\hbar^2}{2m} \\frac{d^2}{dx^2}$ | $\\psi_{\\rm III}(x) = Fe^{ik_1x} + Ge^{-ik_1x}$ | $k_1^2 = \\frac{2mE}{\\hbar^2}$ |\n",
    "```\n",
    "\n",
    "Los coeficientes pueden obtenerse a partir de la condición de continuidad de la eigenfunción en $x=0$ y $x=L$\n",
    "```{admonition} Inserto matemático: Condiciones de continuidad\n",
    "\n",
    "| Regiones | Condición | Ecuación |\n",
    "|:---: |:---: | :---:|\n",
    "| ${\\rm I}$ y ${\\rm II}$ | $\\psi_{\\rm I}(0) = \\psi_{\\rm II}(0)$ | $A + B = C + D$ |\n",
    "| ${\\rm I}$ y ${\\rm II}$ | $\\frac{d\\psi_{\\rm I}}{dx}(0) = \\frac{d\\psi_{\\rm II}}{dx}(0)$ | $ik_1 (A - B) = -k_2 (C - D)$|\n",
    "|   ${\\rm III}$  | La partícula viaja hacia la derecha | $G = 0$ |\n",
    "| ${\\rm II}$ y ${\\rm III}$ | $\\psi_{\\rm II}(L) = \\psi_{\\rm III}(L)$ | $Ce^{-k_2L} + De^{k_2L} = F e^{ik_1L}$|\n",
    "| ${\\rm II}$ y ${\\rm III}$ | $\\frac{d\\psi_{\\rm II}}{dx}(L) = \\frac{d\\psi_{\\rm III}}{dx}(L)$ | $-k_2 C e^{-k_2L} + k_2 D e^{k_2L}  = ik_1F e^{ik_1L}$|\n",
    "\n",
    "Al despejar, se obtiene\n",
    "\n",
    "$$\n",
    "C = \\frac{F}{2} \\left( 1 - \\frac{i k_1}{k_2} \\right) e^{ik_1L + k_2L}\n",
    "$$\n",
    "\n",
    "$$\n",
    "D = \\frac{F}{2} \\left( 1 + \\frac{i k_1}{k_2} \\right) e^{ik_1L - k_2L}\n",
    "$$\n",
    "\n",
    "$$\n",
    "A = \\frac{1}{2} \\left[ \\left(1 + \\frac{i k_2}{k_1} \\right)C + \\left(1 - \\frac{i k_2}{k_1} \\right)D \\right]\n",
    "$$\n",
    "\n",
    "```\n",
    "\n",
    "El coeficiente de transmisión se puede calcular al dividir el cuadrado del coeficiente de la parte de la función que representa el paso de partículas a la región ${\\rm III}$ (coeficiente $F$), entre el cuadrado del coeficiente de la parte de la eigenfunción que representa a la partícula dirigiéndose hacia la región ${\\rm I}$ (coeficiente $A$).\n",
    "\n",
    "$$\n",
    "T = \\frac{|F|^2}{|A|^2} = \\frac{16(E/V)(1-E/V)}{16(E/V)(1-E/V) + (e^{k_2L} - e^{-k_2L})^2}\n",
    "$$"
   ]
  },
  {
   "cell_type": "markdown",
   "metadata": {
    "id": "DjqT9ED5L0CL"
   },
   "source": [
    "**Importe numpy y pyplot de matplotlib.**"
   ]
  },
  {
   "cell_type": "code",
   "execution_count": 1,
   "metadata": {
    "id": "kZHhg0qML4oc"
   },
   "outputs": [],
   "source": [
    "# Importe librerías"
   ]
  },
  {
   "cell_type": "code",
   "execution_count": 2,
   "metadata": {
    "id": "VAKUysgW4W01",
    "tags": [
     "hide-cell"
    ]
   },
   "outputs": [],
   "source": [
    "import numpy as np\n",
    "from matplotlib import pyplot as plt"
   ]
  },
  {
   "cell_type": "markdown",
   "metadata": {
    "id": "RwWTP7KtY9dm"
   },
   "source": [
    "**De valores a las constantes del sistema**. Considere $m=1$, $\\hbar=1$ y $L=1$. Asigne un valor de energía y potencial respetando la relación $E < V$, por ejemplo, $E=1$, $V=10$."
   ]
  },
  {
   "cell_type": "code",
   "execution_count": 3,
   "metadata": {
    "id": "PqrqsJVKfbCv"
   },
   "outputs": [],
   "source": [
    "# m, hbar, L, E, V"
   ]
  },
  {
   "cell_type": "code",
   "execution_count": 4,
   "metadata": {
    "id": "xRe4PfpC5eEV",
    "tags": [
     "hide-cell"
    ]
   },
   "outputs": [],
   "source": [
    "m = 1\n",
    "hbar = 1\n",
    "L = 1\n",
    "E = 1\n",
    "V = 10"
   ]
  },
  {
   "cell_type": "markdown",
   "metadata": {},
   "source": [
    "Defina $k_1$ y $k_2$ acorde a\n",
    "\n",
    "$$\n",
    "k_1 = \\sqrt{\\frac{2mE}{\\hbar^2}}\n",
    "$$\n",
    "\n",
    "$$\n",
    "k_2 = \\sqrt{\\frac{2m(V-E)}{\\hbar^2}}\n",
    "$$"
   ]
  },
  {
   "cell_type": "code",
   "execution_count": 5,
   "metadata": {},
   "outputs": [],
   "source": [
    "#k1 y k2"
   ]
  },
  {
   "cell_type": "code",
   "execution_count": 6,
   "metadata": {},
   "outputs": [],
   "source": [
    "k1 = np.sqrt(2*m*E/hbar**2)\n",
    "k2 = np.sqrt(2*m*(V-E)/hbar**2)"
   ]
  },
  {
   "cell_type": "markdown",
   "metadata": {},
   "source": [
    "A continuación graficaremos el cuadrado de la eigenfunción. Para ello, primero defina las siguientes constantes.\n",
    "\n",
    "$$\n",
    "C = \\frac{F}{2} \\left( 1 - \\frac{i k_1}{k_2} \\right) e^{ik_1L + k_2L}\n",
    "$$\n",
    "\n",
    "$$\n",
    "D = \\frac{F}{2} \\left( 1 + \\frac{i k_1}{k_2} \\right) e^{ik_1L - k_2L}\n",
    "$$\n",
    "\n",
    "$$\n",
    "A = \\frac{1}{2} \\left[ \\left(1 + \\frac{i k_2}{k_1} \\right)C + \\left(1 - \\frac{i k_2}{k_1} \\right)D \\right]\n",
    "$$\n",
    "\n",
    "$$\n",
    "B = C + D - A\n",
    "$$\n",
    "\n",
    "Considere\n",
    "\n",
    "$$\n",
    "F = 1\n",
    "$$"
   ]
  },
  {
   "cell_type": "code",
   "execution_count": 7,
   "metadata": {},
   "outputs": [],
   "source": [
    "# A, B, C, D, F"
   ]
  },
  {
   "cell_type": "code",
   "execution_count": 8,
   "metadata": {
    "tags": [
     "hide-cell"
    ]
   },
   "outputs": [],
   "source": [
    "F = 1\n",
    "\n",
    "C = F/2*(1 - 1j*k1/k2)*np.exp(1j*k1*L+k2*L)\n",
    "D = F/2*(1 + 1j*k1/k2)*np.exp(1j*k1*L-k2*L)\n",
    "A = 1/2*((1 + 1j*k1/k2)*C + (1 - 1j*k1/k2)*D)\n",
    "B = C + D - A"
   ]
  },
  {
   "cell_type": "markdown",
   "metadata": {},
   "source": [
    "Defina un dominio para $x$. Sugerencia: Use numpy.linspace"
   ]
  },
  {
   "cell_type": "code",
   "execution_count": 9,
   "metadata": {},
   "outputs": [],
   "source": [
    "# Dominio de x"
   ]
  },
  {
   "cell_type": "code",
   "execution_count": 10,
   "metadata": {
    "tags": [
     "hide-cell"
    ]
   },
   "outputs": [],
   "source": [
    "x1 = np.linspace(-10,0,100)\n",
    "x2 = np.linspace(0,L,100)\n",
    "x3 = np.linspace(L,10,100)"
   ]
  },
  {
   "cell_type": "markdown",
   "metadata": {},
   "source": [
    "Defina la eigenfunción en las tres regiones según\n",
    "\n",
    "$$\n",
    "\\psi(x) = \\left\\{\n",
    "  \\begin{array}{lll}\n",
    "  A e^{ik_1x}+ B e^{-ik_1x}      & \\mathrm{si\\ } x < 0 & \\text{I}\\\\\n",
    "  C e^{-k_2x} + De^{k_2x} & \\mathrm{si\\ } 0 \\leq x \\leq L & \\text{II} \\\\\n",
    "  F e^{ik_1x}& \\mathrm{si\\ } L \\le x & \\text{III} \\\\\n",
    "  \\end{array}\n",
    "  \\right.\n",
    "$$"
   ]
  },
  {
   "cell_type": "code",
   "execution_count": 11,
   "metadata": {},
   "outputs": [],
   "source": [
    "# psi_I, psi_II y psi_III"
   ]
  },
  {
   "cell_type": "code",
   "execution_count": 12,
   "metadata": {
    "tags": [
     "hide-cell"
    ]
   },
   "outputs": [],
   "source": [
    "psi_I = A*np.exp(1j*k1*x1) + B*np.exp(-1j*k1*x1)\n",
    "psi_II = C*np.exp(-k2*x2) + D*np.exp(k2*x2)\n",
    "psi_III = F*np.exp(1j*k1*x3)"
   ]
  },
  {
   "cell_type": "markdown",
   "metadata": {},
   "source": [
    "Grafique el cuadrado de la eigenfunción."
   ]
  },
  {
   "cell_type": "code",
   "execution_count": 13,
   "metadata": {},
   "outputs": [],
   "source": [
    "# Gráfica"
   ]
  },
  {
   "cell_type": "code",
   "execution_count": 14,
   "metadata": {
    "tags": [
     "hide-input"
    ]
   },
   "outputs": [
    {
     "data": {
      "text/plain": [
       "[<matplotlib.lines.Line2D at 0x15018ba20a90>]"
      ]
     },
     "execution_count": 14,
     "metadata": {},
     "output_type": "execute_result"
    },
    {
     "data": {
      "image/png": "[encoded data removed]",
      "text/plain": [
       "<Figure size 432x288 with 1 Axes>"
      ]
     },
     "metadata": {
      "needs_background": "light"
     },
     "output_type": "display_data"
    }
   ],
   "source": [
    "plt.plot(x1,abs(psi_I)**2)\n",
    "plt.plot(x2,abs(psi_II)**2)\n",
    "plt.plot(x3,abs(psi_III)**2)"
   ]
  },
  {
   "cell_type": "markdown",
   "metadata": {},
   "source": [
    "A continuación, calcule el coeficiente de transmisión a diferentes energías y diferentes potenciales, cumpliendo $E<V$."
   ]
  },
  {
   "cell_type": "markdown",
   "metadata": {
    "id": "rKxvs_5kd5Dv"
   },
   "source": [
    "Para $V=2,4,8,16$:\n",
    "\n",
    "1 Defina un conjunto de 100 energías de 0 a V. **Sugerencia.** Use numpy.linspace.\n",
    "\n",
    "2 Calcule $k_2$\n",
    "\n",
    "$$\n",
    "k_2^2 = \\frac{2m(V-E)}{\\hbar^2}\n",
    "$$\n",
    "\n",
    "3 Calcule el coeficiente de transmisión. Recuerde\n",
    "\n",
    "$$\n",
    "T = \\frac{16(E/V)(1-E/V)}{16(E/V)(1-E/V) + (e^{k_2L} - e^{-k_2L})^2}\n",
    "$$\n",
    "\n",
    "4 Grafique T vs E/V"
   ]
  },
  {
   "cell_type": "code",
   "execution_count": 15,
   "metadata": {
    "id": "Dp-Y47d-gCfG"
   },
   "outputs": [],
   "source": [
    "# Gráficas"
   ]
  },
  {
   "cell_type": "code",
   "execution_count": 16,
   "metadata": {
    "colab": {
     "base_uri": "https://localhost:8080/",
     "height": 282
    },
    "id": "5odQjn0r5eNQ",
    "outputId": "f0d61c3c-563a-47b7-8fac-0dd709b71c89",
    "tags": [
     "hide-input"
    ]
   },
   "outputs": [
    {
     "data": {
      "image/png": "[encoded data removed]",
      "text/plain": [
       "<Figure size 432x288 with 1 Axes>"
      ]
     },
     "metadata": {
      "needs_background": "light"
     },
     "output_type": "display_data"
    }
   ],
   "source": [
    "for V in [2,4,8,16]:\n",
    "    \n",
    "    E = np.linspace(0,V,100,endpoint=False)\n",
    "    k2 = np.sqrt(2*m*(V-E)/hbar**2)\n",
    "    T = 16*(E/V)*(1-E/V)/(16*(E/V)*(1-E/V) + (np.exp(k2*L) - np.exp(-k2*L))**2)\n",
    "    plt.plot(E/V,T,label=\"V = \"+str(V))\n",
    "    plt.legend()"
   ]
  },
  {
   "cell_type": "markdown",
   "metadata": {},
   "source": [
    "## Energía mayor que el potencial $E > V$\n",
    "\n",
    "```{admonition} Para pensar\n",
    ":class: tip\n",
    "\n",
    "De manera clásica, cuando la partícula tiene mayor energía que el potencial, $E>V$, debería poder moverse sin ninguna restricción. ¿Qué pasará cuánticamente? \n",
    "```\n",
    "\n",
    "El sistema puede analizarse por regiones\n",
    "```{admonition} Inserto matemático: Hamiltoniano por regiones\n",
    "\n",
    "| Región      | Hamiltoniano | Eigenfunción | Constantes |\n",
    "|:----------------:|:---------:|:--------:|:--------:|\n",
    "| ${\\rm I}$ | $- \\frac{\\hbar^2}{2m} \\frac{d^2}{dx^2}$ | $\\psi_I(x) = Ae^{ik_1x} + Be^{-ik_1x}$ | $k_1^2 = \\frac{2mE}{\\hbar^2}$ |\n",
    "| ${\\rm II}$| $- \\frac{\\hbar^2}{2m} \\frac{d^2}{dx^2} + V$ | $\\psi_{II}(x) = C e^{ik_2x} + De^{-ik_2x}$ | $k_2^2 = \\frac{2m(E-V)}{\\hbar^2}$ |\n",
    "| ${\\rm III}$ | $- \\frac{\\hbar^2}{2m} \\frac{d^2}{dx^2}$ | $\\psi_{III}(x) = Fe^{ik_1x} + Ge^{-ik_1x}$ | $k_1^2 = \\frac{2mE}{\\hbar^2}$ |\n",
    "```\n",
    "\n",
    "Los coeficientes pueden obtenerse a partir de la condición de continuidad de la eigenfunción en $x=0$ y $x=L$\n",
    "```{admonition} Inserto matemático: Condiciones de continuidad\n",
    "\n",
    "| Regiones | Condición | Ecuación |\n",
    "|:---: |:---: | :---:|\n",
    "| ${\\rm I}$ y ${\\rm II}$ | $\\psi_{\\rm I}(0) = \\psi_{II}(0)$ | $A + B = C + D$ |\n",
    "| ${\\rm I}$ y ${\\rm II}$ | $\\frac{d\\psi_{\\rm I}}{dx}(0) = \\frac{d\\psi_{\\rm II}}{dx}(0)$ | $k_1 (A - B) = k_2 (C - D)$|\n",
    "|   ${\\rm III}$  | La partícula viaja hacia la derecha | $G = 0$ |\n",
    "| ${\\rm II}$ y ${\\rm III}$ | $\\psi_{\\rm II}(L) = \\psi_{III}(L)$ | $Ce^{ik_2L} + De^{-k_2L} = F e^{ik_1L}$|\n",
    "| ${\\rm II}$ y ${\\rm III}$ | $\\frac{d\\psi_{\\rm II}}{dx}(L) = \\frac{d\\psi_{\\rm III}}{dx}(L)$ | $k_2 \\left( C e^{ik_2L} + D e^{-ik_2L} \\right)  = k_1F e^{ik_1L}$|\n",
    "\n",
    "Al despejar, se obtiene\n",
    "\n",
    "$$\n",
    "C = \\frac{F}{2} \\left( 1 + \\frac{k_1}{k_2} \\right) e^{i(k_1-k_2)L}\n",
    "$$\n",
    "\n",
    "$$\n",
    "D = \\frac{F}{2} \\left( 1 - \\frac{k_1}{k_2} \\right) e^{i(k_1+k_2)L}\n",
    "$$\n",
    "\n",
    "$$\n",
    "A = \\frac{1}{2} \\left[ \\left(1 + \\frac{k_2}{k_1} \\right)C + \\left(1 - \\frac{k_2}{k_1} \\right)D \\right]\n",
    "$$\n",
    "```\n",
    "\n",
    "El coeficiente de transmisión se puede calcular al dividir el cuadrado del coeficiente de la parte de la función que representa el paso de partículas a la región ${\\rm III}$ (coeficiente $F$), entre el cuadrado del coeficiente de la parte de la eigenfunción que representa a la partícula dirigiéndose hacia la región ${\\rm I}$ (coeficiente $A$).\n",
    "\n",
    "$$\n",
    "T = \\frac{4(E/V)(E/V-1)}{4(E/V)(E/V-1) + \\sin^2(k_2L)}\n",
    "$$"
   ]
  },
  {
   "cell_type": "markdown",
   "metadata": {
    "id": "RwWTP7KtY9dm"
   },
   "source": [
    "**De valores a las constantes del sistema**. Considere $m=1$, $\\hbar=1$ y $L=1$. Asigne un valor de energía y potencial respetando la relación $E > V$, por ejemplo, $E=40$, $V=10$."
   ]
  },
  {
   "cell_type": "code",
   "execution_count": 17,
   "metadata": {
    "id": "PqrqsJVKfbCv"
   },
   "outputs": [],
   "source": [
    "# m, hbar, L, E, V"
   ]
  },
  {
   "cell_type": "code",
   "execution_count": 18,
   "metadata": {
    "id": "xRe4PfpC5eEV",
    "tags": [
     "hide-cell"
    ]
   },
   "outputs": [],
   "source": [
    "m = 1\n",
    "hbar = 1\n",
    "L = 1\n",
    "E = 40\n",
    "V = 10"
   ]
  },
  {
   "cell_type": "markdown",
   "metadata": {},
   "source": [
    "Defina $k_1$ y $k_2$ acorde a\n",
    "\n",
    "$$\n",
    "k_1 = \\sqrt{\\frac{2mE}{\\hbar^2}}\n",
    "$$\n",
    "\n",
    "$$\n",
    "k_2 = \\sqrt{\\frac{2m(E-V)}{\\hbar^2}}\n",
    "$$"
   ]
  },
  {
   "cell_type": "code",
   "execution_count": 19,
   "metadata": {},
   "outputs": [],
   "source": [
    "#k1 y k2"
   ]
  },
  {
   "cell_type": "code",
   "execution_count": 20,
   "metadata": {
    "tags": [
     "hide-cell"
    ]
   },
   "outputs": [],
   "source": [
    "k1 = np.sqrt(2*m*E/hbar**2)\n",
    "k2 = np.sqrt(2*m*(E-V)/hbar**2)"
   ]
  },
  {
   "cell_type": "markdown",
   "metadata": {},
   "source": [
    "A continuación graficaremos el cuadrado de la eigenfunción. Para ello, primero defina las siguientes constantes.\n",
    "\n",
    "$$\n",
    "C = \\frac{F}{2} \\left( 1 + \\frac{k_1}{k_2} \\right) e^{i(k_1-k_2)L}\n",
    "$$\n",
    "\n",
    "$$\n",
    "D = \\frac{F}{2} \\left( 1 - \\frac{k_1}{k_2} \\right) e^{i(k_1+k_2)L}\n",
    "$$\n",
    "\n",
    "$$\n",
    "A = \\frac{1}{2} \\left[ \\left(1 + \\frac{k_2}{k_1} \\right)C + \\left(1 - \\frac{k_2}{k_1} \\right)D \\right]\n",
    "$$\n",
    "\n",
    "$$\n",
    "B = C + D - A\n",
    "$$\n",
    "\n",
    "Considere\n",
    "\n",
    "$$\n",
    "F = 1\n",
    "$$"
   ]
  },
  {
   "cell_type": "code",
   "execution_count": 21,
   "metadata": {},
   "outputs": [],
   "source": [
    "# A, B, C, D, F"
   ]
  },
  {
   "cell_type": "code",
   "execution_count": 22,
   "metadata": {
    "tags": [
     "hide-cell"
    ]
   },
   "outputs": [],
   "source": [
    "F = 1\n",
    "\n",
    "C = F/2*(1 + k1/k2)*np.exp(1j*(k1-k2)*L)\n",
    "D = F/2*(1 - k1/k2)*np.exp(1j*(k1+k2)*L)\n",
    "A = 1/2*((1 + k2/k1)*C + (1 - k2/k1)*D)\n",
    "B = C + D - A"
   ]
  },
  {
   "cell_type": "markdown",
   "metadata": {},
   "source": [
    "Defina un dominio para $x$. Sugerencia: Use numpy.linspace"
   ]
  },
  {
   "cell_type": "code",
   "execution_count": 23,
   "metadata": {},
   "outputs": [],
   "source": [
    "# Dominio de x"
   ]
  },
  {
   "cell_type": "code",
   "execution_count": 24,
   "metadata": {
    "tags": [
     "hide-cell"
    ]
   },
   "outputs": [],
   "source": [
    "x1 = np.linspace(-2,0,100)\n",
    "x2 = np.linspace(0,L,100)\n",
    "x3 = np.linspace(L,2,100)"
   ]
  },
  {
   "cell_type": "markdown",
   "metadata": {},
   "source": [
    "Defina la eigenfunción en las tres regiones según\n",
    "\n",
    "$$\n",
    "\\psi(x) = \\left\\{\n",
    "  \\begin{array}{lll}\n",
    "  A e^{ik_1x}+ B e^{-ik_1x}      & \\mathrm{si\\ } x < 0 & I\\\\\n",
    "  C e^{ik_2x} + De^{-ik_2x} & \\mathrm{si\\ } 0 \\leq x \\leq L & II \\\\\n",
    "  F e^{ik_1x}& \\mathrm{si\\ } L \\le x & III \\\\\n",
    "  \\end{array}\n",
    "  \\right.\n",
    "$$"
   ]
  },
  {
   "cell_type": "code",
   "execution_count": 25,
   "metadata": {},
   "outputs": [],
   "source": [
    "# psi_I, psi_II y psi_III"
   ]
  },
  {
   "cell_type": "code",
   "execution_count": 26,
   "metadata": {
    "tags": [
     "hide-cell"
    ]
   },
   "outputs": [],
   "source": [
    "psi_I = A*np.exp(1j*k1*x1) + B*np.exp(-1j*k1*x1)\n",
    "psi_II = C*np.exp(1j*k2*x2) + D*np.exp(-1j*k2*x2)\n",
    "psi_III = F*np.exp(1j*k1*x3)"
   ]
  },
  {
   "cell_type": "markdown",
   "metadata": {},
   "source": [
    "Grafique el cuadrado de la eigenfunción."
   ]
  },
  {
   "cell_type": "code",
   "execution_count": 27,
   "metadata": {},
   "outputs": [],
   "source": [
    "# Grafica"
   ]
  },
  {
   "cell_type": "code",
   "execution_count": 28,
   "metadata": {
    "tags": [
     "hide-input"
    ]
   },
   "outputs": [
    {
     "data": {
      "text/plain": [
       "[<matplotlib.lines.Line2D at 0x15018b8c2fa0>]"
      ]
     },
     "execution_count": 28,
     "metadata": {},
     "output_type": "execute_result"
    },
    {
     "data": {
      "image/png": "[encoded data removed]",
      "text/plain": [
       "<Figure size 432x288 with 1 Axes>"
      ]
     },
     "metadata": {
      "needs_background": "light"
     },
     "output_type": "display_data"
    }
   ],
   "source": [
    "plt.plot(x1,abs(psi_I)**2)\n",
    "plt.plot(x2,abs(psi_II)**2)\n",
    "plt.plot(x3,abs(psi_III)**2)"
   ]
  },
  {
   "cell_type": "markdown",
   "metadata": {},
   "source": [
    "Para $V=2,4,8,16$:\n",
    "\n",
    "1 Defina un conjunto de 100 energías de V a 4V. **Sugerencia.** Use numpy.linspace.\n",
    "\n",
    "2 Calcule $k_2$\n",
    "\n",
    "3 Calcule el coeficiente de transmisión. Recuerde\n",
    "\n",
    "4 Grafique T vs E/V"
   ]
  },
  {
   "cell_type": "code",
   "execution_count": 29,
   "metadata": {},
   "outputs": [],
   "source": [
    "# Gráfica"
   ]
  },
  {
   "cell_type": "code",
   "execution_count": 30,
   "metadata": {
    "tags": [
     "hide-input"
    ]
   },
   "outputs": [
    {
     "data": {
      "image/png": "[encoded data removed]",
      "text/plain": [
       "<Figure size 432x288 with 1 Axes>"
      ]
     },
     "metadata": {
      "needs_background": "light"
     },
     "output_type": "display_data"
    }
   ],
   "source": [
    "for V in [2,4,8,16]:\n",
    "    \n",
    "    E = np.linspace(V+0.1,4*V,100)\n",
    "    k2 = np.sqrt(2*m*(E-V)/hbar**2)\n",
    "    T = 4*(E/V)*(E/V-1)/(4*(E/V)*(E/V-1) + (np.sin(k2*L))**2)\n",
    "    plt.plot(E/V,T,label=\"V = \"+str(V))\n",
    "    plt.legend()"
   ]
  },
  {
   "cell_type": "markdown",
   "metadata": {},
   "source": [
    "````{admonition} Reto para aprender más\n",
    ":class: seealso\n",
    "\n",
    "Para ver una combinación del efecto túnel debido a una barrera de potencial a la mitad de la caja puede revisar el Notebook de [](CajaConTope.ipynb).\n",
    "````"
   ]
  }
 ],
 "metadata": {
  "celltoolbar": "Tags",
  "colab": {
   "name": "Tunel.ipynb",
   "provenance": []
  },
  "kernelspec": {
   "display_name": "Python 3 (ipykernel)",
   "language": "python",
   "name": "python3"
  },
  "language_info": {
   "codemirror_mode": {
    "name": "ipython",
    "version": 3
   },
   "file_extension": ".py",
   "mimetype": "text/x-python",
   "name": "python",
   "nbconvert_exporter": "python",
   "pygments_lexer": "ipython3",
   "version": "3.9.12"
  }
 },
 "nbformat": 4,
 "nbformat_minor": 1
}
