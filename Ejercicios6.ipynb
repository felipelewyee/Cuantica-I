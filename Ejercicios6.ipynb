{
 "cells": [
  {
   "cell_type": "markdown",
   "metadata": {},
   "source": [
    "# Ejercicios 6. Método variacional lineal"
   ]
  },
  {
   "cell_type": "markdown",
   "metadata": {},
   "source": [
    "**Paso 1.** Elijo funciones $\\psi_i$ para $\\psi_{prueba}$\n",
    "\\begin{equation}\n",
    "\\psi_{prueba} = \\sum_{i=1} c_i \\psi_i  \n",
    "\\end{equation}"
   ]
  },
  {
   "cell_type": "markdown",
   "metadata": {},
   "source": [
    "Para este ejemplo tomaremos dos funciones:\n",
    "\\begin{equation}\n",
    "\\psi_1 = \\left( \\frac{2(1.309756377)}{\\pi} \\right)^{\\frac{3}{4}} e^{-1.309756377r^2}\n",
    "\\end{equation}\n",
    "\\begin{equation}\n",
    "\\psi_2 = \\left( \\frac{2(0.233135974)}{\\pi} \\right)^{\\frac{3}{4}} e^{-0.233135974r^2}\n",
    "\\end{equation}\n"
   ]
  },
  {
   "cell_type": "code",
   "execution_count": 1,
   "metadata": {},
   "outputs": [
    {
     "name": "stdout",
     "output_type": "stream",
     "text": [
      "                                       2\n",
      "                  -0.75  -1.309756377⋅r \n",
      "2.05904286572975⋅π     ⋅ℯ               \n",
      "                                        2\n",
      "                   -0.75  -0.233135974⋅r \n",
      "0.564260261842472⋅π     ⋅ℯ               \n"
     ]
    }
   ],
   "source": [
    "import numpy as np\n",
    "import sympy as sp\n",
    "\n",
    "sp.init_printing()\n",
    "\n",
    "r = sp.Symbol(\"r\")\n",
    "psi_1 = (2*1.309756377/sp.pi)**(3.0/4.0)*sp.exp(-1.309756377*r**2) \n",
    "psi_2 = (2*0.233135974/sp.pi)**(3.0/4.0)*sp.exp(-0.233135974*r**2) \n",
    "sp.pprint(psi_1)\n",
    "sp.pprint(psi_2)"
   ]
  },
  {
   "cell_type": "markdown",
   "metadata": {},
   "source": [
    "**Paso 2.** Evalúo las matrices $\\mathcal{H}$ y $\\mathcal{S}$."
   ]
  },
  {
   "cell_type": "markdown",
   "metadata": {},
   "source": [
    "En este ejemplo recordaremos que\n",
    "\\begin{equation}\n",
    "\\hat{H} = -\\frac{1}{2} \\nabla^2 - \\frac{1}{r} = -\\frac{1}{2} \\frac{1}{r} \\frac{d^2}{dr^2} r -\\frac{1}{r}\n",
    "\\end{equation}\n",
    "\n",
    "\\begin{equation}\n",
    "\\mathcal{H} = \\begin{pmatrix} H_{11} & H_{12}\\\\\n",
    "H_{21} & H_{22}\n",
    "\\end{pmatrix} = \\begin{pmatrix} 4 \\pi\\int_0^\\infty \\psi_1^* \\hat{H} \\psi_1 r^2dr & 4 \\pi\\int_0^\\infty \\psi_1^* \\hat{H} \\psi_2 r^2dr\\\\\n",
    "4 \\pi\\int_0^\\infty \\psi_2^* \\hat{H} \\psi_1 r^2dr & 4 \\pi\\int_0^\\infty \\psi_2^* \\hat{H} \\psi_2 r^2dr\n",
    "\\end{pmatrix}\n",
    "\\end{equation}\n",
    "\n",
    "\\begin{equation}\n",
    "\\mathcal{S} = \\begin{pmatrix} S_{11} & S_{12}\\\\\n",
    "S_{21} & S_{22}\n",
    "\\end{pmatrix} = \\begin{pmatrix} 4 \\pi\\int_0^\\infty \\psi_1^* \\psi_1 r^2dr & 4 \\pi\\int_0^\\infty \\psi_1^* \\psi_2 r^2dr\\\\\n",
    "4 \\pi\\int_0^\\infty \\psi_2^* \\psi_1 r^2dr & 4 \\pi\\int_0^\\infty \\psi_2^* \\psi_2 r^2dr\n",
    "\\end{pmatrix}\n",
    "\\end{equation}"
   ]
  },
  {
   "cell_type": "code",
   "execution_count": 2,
   "metadata": {},
   "outputs": [
    {
     "data": {
      "image/png": "[encoded data removed]",
      "text/latex": [
       "$$\\left[\\begin{matrix}0.138363165534784 & -0.489760093394105\\\\-0.489760093394105 & -0.420799694276402\\end{matrix}\\right]$$"
      ],
      "text/plain": [
       "⎡0.138363165534784   -0.489760093394105⎤\n",
       "⎢                                      ⎥\n",
       "⎣-0.489760093394105  -0.420799694276402⎦"
      ]
     },
     "execution_count": 2,
     "metadata": {},
     "output_type": "execute_result"
    }
   ],
   "source": [
    "H_1 = -1/2*1/r*sp.diff(r*psi_1,r,r) - 1/r*psi_1\n",
    "H_2 = -1/2*1/r*sp.diff(r*psi_2,r,r) - 1/r*psi_2\n",
    "\n",
    "#sp.pprint(H_1)\n",
    "#sp.pprint(H_2)\n",
    "\n",
    "H = sp.zeros(2)\n",
    "#sp.pprint(H)\n",
    "H[0,0] = 4*sp.pi*sp.integrate(psi_1*H_1*r**2,(r,0,sp.oo))\n",
    "#sp.pprint(H[0,0])\n",
    "H[0,1] = 4*sp.pi*sp.integrate(psi_1*H_2*r**2,(r,0,sp.oo))\n",
    "H[1,0] = 4*sp.pi*sp.integrate(psi_2*H_1*r**2,(r,0,sp.oo))\n",
    "H[1,1] = 4*sp.pi*sp.integrate(psi_2*H_2*r**2,(r,0,sp.oo))\n",
    "H=H.evalf()\n",
    "H"
   ]
  },
  {
   "cell_type": "code",
   "execution_count": 3,
   "metadata": {},
   "outputs": [
    {
     "data": {
      "image/png": "[encoded data removed]",
      "text/latex": [
       "$$\\left[\\begin{matrix}1.0 & 0.606235570910297\\\\0.606235570910297 & 1.0\\end{matrix}\\right]$$"
      ],
      "text/plain": [
       "⎡       1.0         0.606235570910297⎤\n",
       "⎢                                    ⎥\n",
       "⎣0.606235570910297         1.0       ⎦"
      ]
     },
     "execution_count": 3,
     "metadata": {},
     "output_type": "execute_result"
    }
   ],
   "source": [
    "S = sp.zeros(2)\n",
    "S[0,0] = 4*sp.pi*sp.integrate(r**2*psi_1*psi_1,(r,0,sp.oo))\n",
    "S[0,1] = 4*sp.pi*sp.integrate(r**2*psi_1*psi_2,(r,0,sp.oo))\n",
    "S[1,0] = 4*sp.pi*sp.integrate(r**2*psi_2*psi_1,(r,0,sp.oo))\n",
    "S[1,1] = 4*sp.pi*sp.integrate(psi_2*psi_2*r**2,(r,0,sp.oo))\n",
    "S"
   ]
  },
  {
   "cell_type": "markdown",
   "metadata": {},
   "source": [
    "**Paso 3.** Resuelvo $\\color{red}{\\mathcal{H}\\mathcal{C} = \\mathcal{S}\\mathcal{C} \\mathcal{\\epsilon}}$\n",
    "\n",
    "Propongo $\\mathcal{C} = \\mathcal{S}^{-1/2} \\mathcal{C}'$\n",
    "\n",
    "Entonces: \n",
    "\\begin{equation}\n",
    "\\mathcal{H}\\mathcal{S}^{-1/2} \\mathcal{C}' = \\mathcal{S}\\mathcal{S}^{-1/2} \\mathcal{C}' \\mathcal{\\epsilon}\n",
    "\\end{equation}\n",
    "\n",
    "Multiplico por la izquierda por $\\mathcal{S}^{-1/2}$:\n",
    "\\begin{equation}\n",
    "\\mathcal{S}^{-1/2} \\mathcal{H}\\mathcal{S}^{-1/2} \\mathcal{C}' = \\mathcal{S}^{-1/2} \\mathcal{S}\\mathcal{S}^{-1/2} \\mathcal{C}' \\mathcal{\\epsilon}\n",
    "\\end{equation}\n",
    "\n",
    "Si $\\mathcal{H}' = \\mathcal{S}^{-1/2} \\mathcal{H}\\mathcal{S}^{-1/2}$:\n",
    "\\begin{equation}\n",
    "\\mathcal{H}' \\mathcal{C}' = \\mathcal{C}' \\mathcal{\\epsilon}\n",
    "\\end{equation}"
   ]
  },
  {
   "cell_type": "code",
   "execution_count": 4,
   "metadata": {},
   "outputs": [
    {
     "name": "stdout",
     "output_type": "stream",
     "text": [
      "[-0.4831514   0.97547404]\n",
      "[[-0.2599737  -1.23024195]\n",
      " [-0.82078782  0.95256965]]\n"
     ]
    }
   ],
   "source": [
    "from scipy import linalg as LA\n",
    "import numpy\n",
    "\n",
    "H = np.array(H).astype(np.float64)\n",
    "S = np.array(S).astype(np.float64)\n",
    "\n",
    "E,C = LA.eigh(H,S)\n",
    "print(E)\n",
    "print(C)"
   ]
  },
  {
   "cell_type": "markdown",
   "metadata": {},
   "source": [
    "**Paso 4.** Sustituyo en $$\\psi_{prueba} = \\sum_{i=1} c_i \\psi_i$$."
   ]
  },
  {
   "cell_type": "code",
   "execution_count": 5,
   "metadata": {},
   "outputs": [],
   "source": [
    "psi_p = -1*C[0][0]*psi_1 - 1*C[1][0]*psi_2\n"
   ]
  },
  {
   "cell_type": "code",
   "execution_count": 6,
   "metadata": {},
   "outputs": [
    {
     "data": {
      "image/png": "[encoded data removed]",
      "text/latex": [
       "$$\\frac{0.535296992908604 e^{- 1.309756377 r^{2}}}{\\pi^{0.75}} + \\frac{0.46313795048033 e^{- 0.233135974 r^{2}}}{\\pi^{0.75}}$$"
      ],
      "text/plain": [
       "                                        2                                     \n",
       "                   -0.75  -1.309756377⋅r                      -0.75  -0.233135\n",
       "0.535296992908604⋅π     ⋅ℯ                + 0.46313795048033⋅π     ⋅ℯ         \n",
       "\n",
       "     2\n",
       "974⋅r \n",
       "      "
      ]
     },
     "execution_count": 6,
     "metadata": {},
     "output_type": "execute_result"
    }
   ],
   "source": [
    "psi_p"
   ]
  },
  {
   "cell_type": "code",
   "execution_count": 7,
   "metadata": {},
   "outputs": [
    {
     "data": {
      "image/png": "[encoded data removed]",
      "text/latex": [
       "$$1.0$$"
      ],
      "text/plain": [
       "1.00000000000000"
      ]
     },
     "execution_count": 7,
     "metadata": {},
     "output_type": "execute_result"
    }
   ],
   "source": [
    "4*sp.pi*sp.integrate(psi_p*psi_p*r**2,(r,0,sp.oo))"
   ]
  },
  {
   "cell_type": "code",
   "execution_count": 8,
   "metadata": {},
   "outputs": [],
   "source": [
    "psi_2g = psi_p\n",
    "psi_2g_1 = psi_1\n",
    "psi_2g_2 = psi_2"
   ]
  },
  {
   "cell_type": "code",
   "execution_count": 10,
   "metadata": {},
   "outputs": [
    {
     "data": {
      "image/png": "[encoded data removed]",
      "text/plain": [
       "<Figure size 432x288 with 1 Axes>"
      ]
     },
     "metadata": {
      "needs_background": "light"
     },
     "output_type": "display_data"
    }
   ],
   "source": [
    "from matplotlib import pyplot as plt\n",
    "\n",
    "s=1/sp.sqrt(sp.pi)*sp.exp(-sp.Abs(r))\n",
    "lam_s = sp.lambdify(r,s,modules=['numpy'])\n",
    "lam_psi_2g = sp.lambdify(r,psi_2g,modules=['numpy'])\n",
    "lam_psi_2g_1 = sp.lambdify(r,psi_2g_1,modules=['numpy'])\n",
    "lam_psi_2g_2 = sp.lambdify(r,psi_2g_2,modules=['numpy'])\n",
    "\n",
    "r1 = np.linspace(-7,7,100)\n",
    "psi_s = lam_s(r1)\n",
    "psi_2g1 = lam_psi_2g(r1)\n",
    "psi_2g_1 = lam_psi_2g_1(r1)\n",
    "psi_2g_2 = lam_psi_2g_2(r1)\n",
    "\n",
    "plt.plot(r1,psi_s,label=\"1s\")\n",
    "plt.plot(r1,psi_2g1,label=\"2g\")\n",
    "plt.plot(r1,psi_2g_1,label=\"psi_1\",linestyle=':')\n",
    "plt.plot(r1,psi_2g_2,label=\"psi_2\",linestyle=':')\n",
    "plt.legend()\n",
    "plt.show()"
   ]
  },
  {
   "cell_type": "markdown",
   "metadata": {},
   "source": [
    "# Con tres Gaussiana"
   ]
  },
  {
   "cell_type": "markdown",
   "metadata": {},
   "source": [
    "**Paso 1.**"
   ]
  },
  {
   "cell_type": "code",
   "execution_count": null,
   "metadata": {},
   "outputs": [],
   "source": [
    "import numpy as np\n",
    "import sympy as sp\n",
    "\n",
    "sp.init_printing()\n",
    "\n",
    "r = sp.Symbol(\"r\")\n",
    "psi_1 = (2*3.42525091/sp.pi)**(3/4)*sp.exp(-3.42525091*r**2)\n",
    "psi_2 = (2*0.62391373/sp.pi)**(3/4)*sp.exp(-0.62391373*r**2)\n",
    "psi_3 = (2*0.16885540/sp.pi)**(3/4)*sp.exp(-0.16885540*r**2)\n",
    "print(\"psi_1\")\n",
    "sp.pprint(psi_1)\n",
    "print(\"psi_2\")\n",
    "sp.pprint(psi_2)\n",
    "print(\"psi_3\")\n",
    "sp.pprint(psi_3)"
   ]
  },
  {
   "cell_type": "markdown",
   "metadata": {},
   "source": [
    "**Paso 2.**"
   ]
  },
  {
   "cell_type": "code",
   "execution_count": null,
   "metadata": {},
   "outputs": [],
   "source": [
    "H_1 = -1/2*1/r*sp.diff(r*psi_1,r,r) - 1/r*psi_1\n",
    "H_2 = -1/2*1/r*sp.diff(r*psi_2,r,r) - 1/r*psi_2\n",
    "H_3 = -1/2*1/r*sp.diff(r*psi_3,r,r) - 1/r*psi_3\n",
    "#\n",
    "H = sp.zeros( )\n",
    "H[0,0] = 4*sp.pi*sp.integrate(psi_1*H_1*r**2,(r,0,sp.oo))\n",
    "H[0,1] = 4*sp.pi*sp.integrate(psi_1*H_2*r**2,(r,0,sp.oo))\n",
    "H[0,2] = 4*sp.pi*sp.integrate(psi_1*H_3*r**2,(r,0,sp.oo))\n",
    "H[1,0] = 4*sp.pi*sp.integrate(psi_2*H_1*r**2,(r,0,sp.oo))\n",
    "H[1,1] = 4*sp.pi*sp.integrate(psi_2*H_2*r**2,(r,0,sp.oo))\n",
    "H[1,2] = 4*sp.pi*sp.integrate(psi_2*H_3*r**2,(r,0,sp.oo))\n",
    "H[2,0] = 4*sp.pi*sp.integrate(psi_3*H_1*r**2,(r,0,sp.oo))\n",
    "H[2,1] = 4*sp.pi*sp.integrate(psi_3*H_2*r**2,(r,0,sp.oo))\n",
    "H[2,2] = 4*sp.pi*sp.integrate(psi_3*H_3*r**2,(r,0,sp.oo))\n",
    "\n",
    "H=H.evalf()\n",
    "H"
   ]
  },
  {
   "cell_type": "code",
   "execution_count": null,
   "metadata": {},
   "outputs": [],
   "source": [
    "#\n",
    "S = sp.zeros()\n",
    "S[0,0] = 4*sp.pi*sp.integrate(psi_1*psi_1*r**2,(r,0,sp.oo))\n",
    "S[0,1] = 4*sp.pi*sp.integrate(psi_1*psi_2*r**2,(r,0,sp.oo))\n",
    "S[0,2] = 4*sp.pi*sp.integrate(psi_1*psi_3*r**2,(r,0,sp.oo))\n",
    "S[1,0] = 4*sp.pi*sp.integrate(psi_2*psi_1*r**2,(r,0,sp.oo))\n",
    "S[1,1] = 4*sp.pi*sp.integrate(psi_2*psi_2*r**2,(r,0,sp.oo))\n",
    "S[1,2] = 4*sp.pi*sp.integrate(psi_2*psi_3*r**2,(r,0,sp.oo))\n",
    "S[2,0] = 4*sp.pi*sp.integrate(psi_3*psi_1*r**2,(r,0,sp.oo))\n",
    "S[2,1] = 4*sp.pi*sp.integrate(psi_3*psi_2*r**2,(r,0,sp.oo))\n",
    "S[2,2] = 4*sp.pi*sp.integrate(psi_3*psi_3*r**2,(r,0,sp.oo))\n",
    "S"
   ]
  },
  {
   "cell_type": "markdown",
   "metadata": {},
   "source": [
    "**Paso3.**"
   ]
  },
  {
   "cell_type": "code",
   "execution_count": null,
   "metadata": {},
   "outputs": [],
   "source": [
    "from scipy import linalg as LA\n",
    "\n",
    "H = np.array(H).astype(np.float64)\n",
    "S = np.array(S).astype(np.float64)\n",
    "\n",
    "E,C = LA.eig(H,S)\n",
    "print(E)\n",
    "print(C)"
   ]
  },
  {
   "cell_type": "markdown",
   "metadata": {},
   "source": [
    "**Paso 4.**"
   ]
  },
  {
   "cell_type": "code",
   "execution_count": null,
   "metadata": {},
   "outputs": [],
   "source": [
    "psi_p = "
   ]
  },
  {
   "cell_type": "code",
   "execution_count": null,
   "metadata": {},
   "outputs": [],
   "source": [
    "psi_p"
   ]
  },
  {
   "cell_type": "code",
   "execution_count": null,
   "metadata": {},
   "outputs": [],
   "source": [
    "4*sp.pi*sp.integrate(psi_p*psi_p*r**2,(r,0,sp.oo))"
   ]
  },
  {
   "cell_type": "code",
   "execution_count": null,
   "metadata": {},
   "outputs": [],
   "source": [
    "psi_3g = psi_p\n",
    "psi_3g_1 = psi_1\n",
    "psi_3g_2 = psi_2\n",
    "psi_3g_3 = psi_3"
   ]
  },
  {
   "cell_type": "code",
   "execution_count": null,
   "metadata": {
    "scrolled": true
   },
   "outputs": [],
   "source": [
    "from matplotlib import pyplot as plt\n",
    "\n",
    "s=1/sp.sqrt(sp.pi)*sp.exp(-sp.Abs(r))\n",
    "lam_s = sp.lambdify(r,s,modules=['numpy'])\n",
    "lam_psi_3g = sp.lambdify(r,psi_3g,modules=['numpy'])\n",
    "lam_psi_3g_1 = sp.lambdify(r,psi_3g_1,modules=['numpy'])\n",
    "lam_psi_3g_2 = sp.lambdify(r,psi_3g_2,modules=['numpy'])\n",
    "lam_psi_3g_3 = sp.lambdify(r,psi_3g_3,modules=['numpy'])\n",
    "\n",
    "r1 = np.linspace(-7,7,100)\n",
    "psi_s = lam_s(r1)\n",
    "psi_3g1 = lam_psi_3g(r1)\n",
    "psi_3g_1 = lam_psi_3g_1(r1)\n",
    "psi_3g_2 = lam_psi_3g_2(r1)\n",
    "psi_3g_3 = lam_psi_3g_3(r1)\n",
    "\n",
    "plt.plot(r1,psi_s,label=\"1s\")\n",
    "plt.plot(r1,psi_3g1,label=\"3g\")\n",
    "plt.plot(r1,psi_3g_1,label=\"psi_1\",linestyle=':')\n",
    "plt.plot(r1,psi_3g_2,label=\"psi_2\",linestyle=':')\n",
    "plt.plot(r1,psi_3g_3,label=\"psi_3\",linestyle=':')\n",
    "plt.legend()\n",
    "plt.show()"
   ]
  },
  {
   "cell_type": "markdown",
   "metadata": {},
   "source": [
    "# Graficamos"
   ]
  },
  {
   "cell_type": "code",
   "execution_count": null,
   "metadata": {},
   "outputs": [],
   "source": [
    "from matplotlib import pyplot as plt\n",
    "\n",
    "s=1/sp.sqrt(sp.pi)*sp.exp(-sp.Abs(r))\n",
    "lam_s = sp.lambdify(r,s,modules=['numpy'])\n",
    "lam_psi_2g = sp.lambdify(r,psi_2g,modules=['numpy'])\n",
    "lam_psi_3g = sp.lambdify(r,psi_3g,modules=['numpy'])\n",
    "\n",
    "r1 = np.linspace(-7,7,100)\n",
    "psi_s = lam_s(r1)\n",
    "psi_2g1 = lam_psi_2g(r1)\n",
    "psi_3g1 = lam_psi_3g(r1)\n",
    "\n",
    "plt.plot(r1,psi_s,label=\"1s\")\n",
    "plt.plot(r1,-psi_2g1,label=\"2g\")\n",
    "plt.plot(r1,psi_3g1,label=\"3g\")\n",
    "plt.legend()\n",
    "plt.show()"
   ]
  },
  {
   "cell_type": "markdown",
   "metadata": {},
   "source": [
    "# Referencias"
   ]
  },
  {
   "cell_type": "markdown",
   "metadata": {},
   "source": [
    "- Atkins, P. W.; Friedman, R. Molecular Quantum Mechanics, 4th ed.; Oxford University Press: New York, 2005.\n",
    "- Pilar, F. L. Elementary Quantum Chemistry; 2001.\n",
    "- Zettili, N. Quantum Mechanics: Concepts and Applications, 2nd ed.; Wiley: Chichester, U.K, 2009.\n",
    "- Levine, I. N. Quantum Chemistry, 5th ed.; Prentice Hall: Upper Saddle River, N.J, 2000.\n",
    "- McQuarrie, D. A.; Simon, J. D. Physical Chemistry: A Molecular Approach; University Science Books: Sausalito, Calif, 1997."
   ]
  },
  {
   "cell_type": "markdown",
   "metadata": {},
   "source": [
    "Hecho por Juan Felipe Huan Lew Yee y Jorge Martín del Campo Ramírez para la clase de Química Cuántica I del ciclo 2019-I. Universidad Nacional Autónoma de México.\n",
    "\n",
    "Este archivo puede distribuise libremente y ser considerado Open Source. Si deseas modificarlo para su distribución, solo se pide conservar el nombre de los autores originales."
   ]
  }
 ],
 "metadata": {
  "kernelspec": {
   "display_name": "Python 3",
   "language": "python",
   "name": "python3"
  },
  "language_info": {
   "codemirror_mode": {
    "name": "ipython",
    "version": 3
   },
   "file_extension": ".py",
   "mimetype": "text/x-python",
   "name": "python",
   "nbconvert_exporter": "python",
   "pygments_lexer": "ipython3",
   "version": "3.6.6"
  }
 },
 "nbformat": 4,
 "nbformat_minor": 2
}
