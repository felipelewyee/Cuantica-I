{
 "cells": [
  {
   "cell_type": "markdown",
   "metadata": {},
   "source": [
    "# Ejercicios 8. Hartree-Fock-Roothan"
   ]
  },
  {
   "cell_type": "markdown",
   "metadata": {},
   "source": [
    "Tenemos que resolver:\n",
    "\\begin{equation}\n",
    "\\textbf{F} \\textbf{C} = \\textbf{S}\\textbf{C}\\varepsilon\n",
    "\\end{equation}"
   ]
  },
  {
   "cell_type": "markdown",
   "metadata": {},
   "source": [
    "- <span style=\"color:green\"> **Paso 1.** Especificar molécula: Coordenadas de los núcleos $\\{R_A\\}$, Carga de los núcleos $\\{Z_A\\}$, Número de electrones $(N)$, y funciones base $\\{\\phi_i\\}$</span>\n",
    "- <span style=\"color:green\"> **Paso 2.** Calcular $S$, $H$, $(ij|kl)$.</span>\n",
    "- <span style=\"color:green\"> **Paso 3.** Proponer una matriz $C$.</span>\n",
    "- <span style=\"color:black\"> **Paso 4.** Calcular $P$, $J$ y $K$.</span>\n",
    "- <span style=\"color:black\"> **Paso 5.** Calcular $F=H+2J-K$</span>\n",
    "- <span style=\"color:black\"> **Paso 6.** Resolver $FC=SC\\varepsilon$</span>\n",
    "- <span style=\"color:black\"> **Paso 7.** $E_{elec} = \\sum_\\mu \\sum_\\nu P_{\\nu \\mu} (H_{\\mu \\nu} + F_{\\mu \\nu})$<span>\n",
    "- <span style=\"color:black\"> **Paso 8.** ¿$E_i=E_{i-1}$?, Sí: acabé. No: volver a paso 4.</span>\n",
    "- <span style=\"color:black\">**Paso 9.** Calcular energía nuclear y sumarla a la energía electrónica.</span>"
   ]
  },
  {
   "cell_type": "code",
   "execution_count": 2,
   "metadata": {},
   "outputs": [],
   "source": [
    "import psi4\n",
    "import numpy as np\n",
    "from scipy.linalg import eigh\n",
    "import sympy as sp\n",
    "sp.init_printing()"
   ]
  },
  {
   "cell_type": "markdown",
   "metadata": {},
   "source": [
    "**Paso 1.** Especificar molécula: Coordenadas de los núcleos <span style=\"color:red\">$\\{R_A\\}$</span>, Carga de los núcleos <span style=\"color:red\">$\\{Z_A\\}$</span>, Número de electrones <span style=\"color:red\">$(N)$</span>, y funciones base <span style=\"color:red\">$\\{\\phi_i\\}$</span>."
   ]
  },
  {
   "cell_type": "code",
   "execution_count": 4,
   "metadata": {},
   "outputs": [],
   "source": [
    "H2 = psi4.geometry(\"\"\"\n",
    "0 1\n",
    "H 0.0000  0.0000 0.0000\n",
    "H 0.0000  0.0000 0.7414 \n",
    "units angstrom\n",
    "\"\"\")"
   ]
  },
  {
   "cell_type": "code",
   "execution_count": 5,
   "metadata": {},
   "outputs": [],
   "source": [
    "psi4.set_options({'basis':'STO-3G'})"
   ]
  },
  {
   "cell_type": "markdown",
   "metadata": {},
   "source": [
    "**Paso 2.** Calcular $S$, $H$, $(ij|kl)$.\n",
    "\n",
    "<span style=\"color:red\">\n",
    "\\begin{equation}\n",
    "S_{ij} = \\int \\psi_i^*(r) \\psi_j(r) dr\n",
    "\\end{equation}\n",
    "</span>\n",
    "\\begin{equation}\n",
    "H_{ij} = \\int \\psi_i^*(r) \\hat{H} \\psi_j(r) dr\n",
    "\\end{equation}\n",
    "<span style=\"color:red\">\n",
    "\\begin{equation}\n",
    "H_{ij} = T_{ij} + V_{ij}\n",
    "\\end{equation}\n",
    "</span>\n",
    "\\begin{equation}\n",
    "\\psi_i(r) = \\sum_\\mu a_\\mu \\phi_\\mu(r)\n",
    "\\end{equation}\n",
    "\\begin{equation}\n",
    "(\\mu \\nu|\\sigma \\lambda) = \\int \\int \\phi_\\mu^*(r_1) \\phi_\\nu(r_1) \\frac{1}{r_{12}} \\phi_\\sigma^*(r_2) \\phi_\\lambda(r_2) dr_1 dr_2\n",
    "\\end{equation}"
   ]
  },
  {
   "cell_type": "code",
   "execution_count": 6,
   "metadata": {},
   "outputs": [
    {
     "name": "stdout",
     "output_type": "stream",
     "text": [
      "----------------Matriz S----------------\n",
      "⎡       1.0         0.658957118138402⎤\n",
      "⎢                                    ⎥\n",
      "⎣0.658957118138402         1.0       ⎦\n",
      "----------------Matriz H----------------\n",
      "⎡ -1.1200511397292   -0.957732217573683⎤\n",
      "⎢                                      ⎥\n",
      "⎣-0.957732217573683   -1.1200511397292 ⎦\n"
     ]
    }
   ],
   "source": [
    "wfn = psi4.core.Wavefunction.build(H2, 'sto-3g')\n",
    "mints = psi4.core.MintsHelper(wfn.basisset())\n",
    "\n",
    "S = np.asarray(mints.ao_overlap())\n",
    "print(\"----------------Matriz S----------------\")\n",
    "sp.pprint(sp.Matrix(S))\n",
    "\n",
    "T = np.asarray(mints.ao_kinetic())\n",
    "V = np.asarray(mints.ao_potential())\n",
    "H=T+V\n",
    "print(\"----------------Matriz H----------------\")\n",
    "sp.pprint(sp.Matrix(H))\n",
    "\n",
    "I = np.asarray(mints.ao_eri())\n",
    "#print(\"Integrales (ij|kl):\")\n",
    "#print(I)\n",
    "\n",
    "nbf = S.shape[0]\n",
    "ndocc = wfn.nalpha()\n",
    "#print(nbf)\n",
    "#print(ndocc)"
   ]
  },
  {
   "cell_type": "markdown",
   "metadata": {},
   "source": [
    "**Paso 3.** Proponer una matriz C."
   ]
  },
  {
   "cell_type": "code",
   "execution_count": 7,
   "metadata": {},
   "outputs": [
    {
     "name": "stdout",
     "output_type": "stream",
     "text": [
      "[[0. 0.]\n",
      " [0. 0.]]\n"
     ]
    }
   ],
   "source": [
    "C = np.zeros((nbf,nbf))\n",
    "print(C)"
   ]
  },
  {
   "cell_type": "markdown",
   "metadata": {},
   "source": [
    "- **Paso 4.** Calcular $P$, $J$ y $K$.\n",
    "\\begin{equation}\n",
    "P_{\\mu \\nu} = \\sum_a^{N/2} C_{\\mu a} C_{\\nu a}^*\n",
    "\\end{equation}\n",
    "\\begin{equation}\n",
    "J_{\\mu \\nu} = \\sum_{\\lambda \\sigma} P_{\\lambda \\sigma} (\\mu \\nu | \\sigma \\lambda)\n",
    "\\end{equation}\n",
    "\\begin{equation}\n",
    "K_{\\mu \\nu} = \\sum_{\\lambda \\sigma} P_{\\lambda \\sigma} (\\mu \\lambda | \\sigma \\nu)\n",
    "\\end{equation}\n",
    "- **Paso 5.** Calcular $F=H+2J-K$\n",
    "- **Paso 6.** Resolver $FC=SC\\varepsilon$\n",
    "- **Paso 7.** $E_{elec} = \\sum_\\mu \\sum_\\nu P_{\\nu \\mu}(H_{\\mu \\nu} + F_{\\mu \\nu})$\n",
    "- **Paso 8.** ¿$E_i=E_{i-1}$?, Sí: acabé. No: volver a paso 4."
   ]
  },
  {
   "cell_type": "code",
   "execution_count": 8,
   "metadata": {},
   "outputs": [
    {
     "name": "stdout",
     "output_type": "stream",
     "text": [
      "---------------------------------ITERACION---------------------------------\n",
      "------------Matriz C Entrada------------\n",
      "⎡0.0  0.0⎤\n",
      "⎢        ⎥\n",
      "⎣0.0  0.0⎦\n",
      "----------------Matriz P----------------\n",
      "⎡0.0  0.0⎤\n",
      "⎢        ⎥\n",
      "⎣0.0  0.0⎦\n",
      "----------------Matriz J----------------\n",
      "⎡0.0  0.0⎤\n",
      "⎢        ⎥\n",
      "⎣0.0  0.0⎦\n",
      "----------------Matriz K----------------\n",
      "⎡0.0  0.0⎤\n",
      "⎢        ⎥\n",
      "⎣0.0  0.0⎦\n",
      "----------------Matriz F----------------\n",
      "⎡ -1.1200511397292   -0.957732217573683⎤\n",
      "⎢                                      ⎥\n",
      "⎣-0.957732217573683   -1.1200511397292 ⎦\n",
      "-------------Matriz C Salida-------------\n",
      "⎡-0.548993777539937  1.21082256919196 ⎤\n",
      "⎢                                     ⎥\n",
      "⎣-0.548993777539937  -1.21082256919196⎦\n",
      "Energia Electronica:  0.0\n",
      "---------------------------------ITERACION---------------------------------\n",
      "------------Matriz C Entrada------------\n",
      "⎡-0.548993777539937  1.21082256919196 ⎤\n",
      "⎢                                     ⎥\n",
      "⎣-0.548993777539937  -1.21082256919196⎦\n",
      "----------------Matriz P----------------\n",
      "⎡0.30139416777757  0.30139416777757⎤\n",
      "⎢                                  ⎥\n",
      "⎣0.30139416777757  0.30139416777757⎦\n",
      "----------------Matriz J----------------\n",
      "⎡0.672609505226375  0.446338433792268⎤\n",
      "⎢                                    ⎥\n",
      "⎣0.446338433792268  0.672609505226375⎦\n",
      "----------------Matriz K----------------\n",
      "⎡0.590387598341338  0.528560340677304⎤\n",
      "⎢                                    ⎥\n",
      "⎣0.528560340677304  0.590387598341338⎦\n",
      "----------------Matriz F----------------\n",
      "⎡-0.365219727617788  -0.593615690666451⎤\n",
      "⎢                                      ⎥\n",
      "⎣-0.593615690666451  -0.365219727617788⎦\n",
      "-------------Matriz C Salida-------------\n",
      "⎡-0.548993777539937  -1.21082256919196⎤\n",
      "⎢                                     ⎥\n",
      "⎣-0.548993777539937  1.21082256919196 ⎦\n",
      "Energia Electronica:  -1.8304383774516493\n",
      "---------------------------------ITERACION---------------------------------\n",
      "------------Matriz C Entrada------------\n",
      "⎡-0.548993777539937  -1.21082256919196⎤\n",
      "⎢                                     ⎥\n",
      "⎣-0.548993777539937  1.21082256919196 ⎦\n",
      "----------------Matriz P----------------\n",
      "⎡0.30139416777757  0.30139416777757⎤\n",
      "⎢                                  ⎥\n",
      "⎣0.30139416777757  0.30139416777757⎦\n",
      "----------------Matriz J----------------\n",
      "⎡0.672609505226375  0.446338433792268⎤\n",
      "⎢                                    ⎥\n",
      "⎣0.446338433792268  0.672609505226375⎦\n",
      "----------------Matriz K----------------\n",
      "⎡0.590387598341338  0.528560340677304⎤\n",
      "⎢                                    ⎥\n",
      "⎣0.528560340677304  0.590387598341338⎦\n",
      "----------------Matriz F----------------\n",
      "⎡-0.365219727617788  -0.593615690666451⎤\n",
      "⎢                                      ⎥\n",
      "⎣-0.593615690666451  -0.365219727617788⎦\n",
      "-------------Matriz C Salida-------------\n",
      "⎡-0.548993777539937  -1.21082256919196⎤\n",
      "⎢                                     ⎥\n",
      "⎣-0.548993777539937  1.21082256919196 ⎦\n",
      "Energia Electronica:  -1.8304383774516493\n"
     ]
    }
   ],
   "source": [
    "E_old = -1.0\n",
    "converged=False\n",
    "\n",
    "while(not converged):\n",
    "    print(\"---------------------------------ITERACION---------------------------------\")  \n",
    "\n",
    "    print(\"------------Matriz C Entrada------------\")\n",
    "    sp.pprint(sp.Matrix(C))    \n",
    "    \n",
    "    #Paso 4. Calcular P, J y K\n",
    "    P = np.zeros((nbf,nbf))\n",
    "    for i in range(nbf):\n",
    "        for j in range(nbf):\n",
    "            for k in range(ndocc):\n",
    "                    P[i][j] = P[i][j] + C[i][k]*C[j][k]\n",
    "    print(\"----------------Matriz P----------------\")\n",
    "    sp.pprint(sp.Matrix(P))\n",
    "                    \n",
    "    J = np.zeros((nbf,nbf))\n",
    "    for i in range(nbf):\n",
    "        for j in range(nbf):\n",
    "            for k in range(nbf):\n",
    "                for l in range(nbf):\n",
    "                    J[i][j] = J[i][j] + P[k][l]*I[i][j][l][k]\n",
    "    print(\"----------------Matriz J----------------\")\n",
    "    sp.pprint(sp.Matrix(J))\n",
    "                    \n",
    "    K = np.zeros((nbf,nbf))\n",
    "    for i in range(nbf):\n",
    "        for j in range(nbf):\n",
    "            for k in range(nbf):\n",
    "                for l in range(nbf):\n",
    "                    K[i][j] = K[i][j] + P[k][l]*I[i][l][k][j]         \n",
    "    print(\"----------------Matriz K----------------\")\n",
    "    sp.pprint(sp.Matrix(K))                    \n",
    "\n",
    "    #Paso 5. Calcular F = H + 2J - K\n",
    "    F = H + 2*J - K\n",
    "    print(\"----------------Matriz F----------------\")\n",
    "    sp.pprint(sp.Matrix(F))\n",
    "    \n",
    "    #Paso 6. Resolver FC=SCE\n",
    "    E,C = eigh(F, S, eigvals_only=False)\n",
    "    print(\"-------------Matriz C Salida-------------\")\n",
    "    sp.pprint(sp.Matrix(C))\n",
    "    \n",
    "    #Paso 7. Calcular E=sum_i sum_j P_ji (H_ij+F_ij)\n",
    "    E_elec = 0.0\n",
    "    for i in range(nbf):\n",
    "        for j in range(nbf):\n",
    "            E_elec = E_elec + P[j][i]*(H[i][j] + F[i][j])\n",
    "\n",
    "    \n",
    "    print(\"Energia Electronica: \",E_elec)\n",
    "\n",
    "    #Paso 8. ¿$E_i=E_{i-1}$?, Si: acabe. No: volver a paso 4.\n",
    "    if(abs(E_old - E_elec)< 0.0000001):\n",
    "        converged = True\n",
    "    else:\n",
    "        E_old = E_elec\n",
    "        "
   ]
  },
  {
   "cell_type": "markdown",
   "metadata": {},
   "source": [
    "**Paso 9.** Calcular energía nuclear y sumarla a la energía electrónica.\n",
    "\\begin{equation}\n",
    "E_{\\rm nuc} = \\sum_{A>B}\\frac{Z_AZ_B}{r_{AB}}\n",
    "\\end{equation}\n",
    "\\begin{equation}\n",
    "E_{Tot} = E_{elec} + E_{nuc}\n",
    "\\end{equation}"
   ]
  },
  {
   "cell_type": "code",
   "execution_count": 9,
   "metadata": {},
   "outputs": [
    {
     "name": "stdout",
     "output_type": "stream",
     "text": [
      "Energia nuclear:  0.7137539905449153\n",
      "Energia Total:  -1.116684386906734\n"
     ]
    }
   ],
   "source": [
    "E_nuc = H2.nuclear_repulsion_energy() \n",
    "print(\"Energia nuclear: \", E_nuc)\n",
    "E_T = E_elec + E_nuc\n",
    "print(\"Energia Total: \", E_T)"
   ]
  },
  {
   "cell_type": "markdown",
   "metadata": {},
   "source": [
    "# Método Simple. PSI4"
   ]
  },
  {
   "cell_type": "markdown",
   "metadata": {},
   "source": [
    "Geometría del agua\n",
    "\n",
    "|Átomo|X (A)|Y (A)|Z (A)|\n",
    "|----|----|----|----|\n",
    "|H|0.0000|0.0000|0.0000|\n",
    "|H|0.0000|0.0000|0.7414|\n"
   ]
  },
  {
   "cell_type": "code",
   "execution_count": 13,
   "metadata": {},
   "outputs": [],
   "source": [
    "import psi4"
   ]
  },
  {
   "cell_type": "code",
   "execution_count": 14,
   "metadata": {},
   "outputs": [],
   "source": [
    "H2 = psi4.geometry(\"\"\"\n",
    "0 1\n",
    "H 0.0000  0.0000 0.0000\n",
    "H 0.0000  0.0000 0.7414 \n",
    "units angstrom\n",
    "\"\"\")"
   ]
  },
  {
   "cell_type": "code",
   "execution_count": 15,
   "metadata": {},
   "outputs": [
    {
     "data": {
      "image/png": "[encoded data removed]",
      "text/latex": [
       "$$-1.1279712476694064$$"
      ],
      "text/plain": [
       "-1.1279712476694064"
      ]
     },
     "execution_count": 15,
     "metadata": {},
     "output_type": "execute_result"
    }
   ],
   "source": [
    "psi4.energy(\"HF/6-311G\")"
   ]
  },
  {
   "cell_type": "markdown",
   "metadata": {},
   "source": [
    "# Referencias"
   ]
  },
  {
   "cell_type": "markdown",
   "metadata": {},
   "source": [
    "- Szabo, A.; Ostlund, N. S. Modern Quantum Chemistry: Introduction to Advanced Electronic Structure Theory; Dover Publications: Mineola, N.Y, 1996."
   ]
  },
  {
   "cell_type": "markdown",
   "metadata": {},
   "source": [
    "Hecho por Juan Felipe Huan Lew Yee y Jorge Martín del Campo Ramírez para la clase de Química Cuántica I del ciclo 2019-I. Universidad Nacional Autónoma de México.\n",
    "\n",
    "Este archivo puede distribuise libremente y ser considerado Open Source. Si deseas modificarlo para su distribución, solo se pide conservar el nombre de los autores originales."
   ]
  }
 ],
 "metadata": {
  "kernelspec": {
   "display_name": "Python 3",
   "language": "python",
   "name": "python3"
  },
  "language_info": {
   "codemirror_mode": {
    "name": "ipython",
    "version": 3
   },
   "file_extension": ".py",
   "mimetype": "text/x-python",
   "name": "python",
   "nbconvert_exporter": "python",
   "pygments_lexer": "ipython3",
   "version": "3.6.8"
  }
 },
 "nbformat": 4,
 "nbformat_minor": 2
}
