{
 "cells": [
  {
   "cell_type": "markdown",
   "metadata": {},
   "source": [
    "# Expansión en series"
   ]
  },
  {
   "cell_type": "markdown",
   "metadata": {},
   "source": [
    "Las funciones se pueden representar como una expansión en serie. Una serie es una suma infinita de términos de una sucesión. Representar a una función como una serie es útil para resolver ecuaciones diferenciales o para generar una intución sobre el comportamiento de la función. A continuación se ejemplifica las dos expansiones en serie más usadas: series de Taylor y series de Fourier."
   ]
  },
  {
   "cell_type": "markdown",
   "metadata": {},
   "source": [
    "## Serie de Taylor"
   ]
  },
  {
   "cell_type": "markdown",
   "metadata": {},
   "source": [
    "Sea una función f(x) continua e infinitamente diferenciable, esta puede expresarse en torno a $a$ mediante una serie de potencias\n",
    "\\begin{equation*}\n",
    "f(x) = \\sum_{n=0}^\\infty c_n (x-a)^n \n",
    "\\end{equation*}\n",
    "donde $c_n$ es un coeficiente que no depende de $x$ y que se determinará a continuación.\n",
    "\n",
    "La m-ésima derivada de $f(x)$ es:\n",
    "\\begin{equation*}\n",
    "f^{(m)}(x) = \\sum_{n=m}^\\infty c_n\\,m!\\, (x-a)^{n-m} \\>\\>. \n",
    "\\end{equation*}\n",
    "\n",
    "Realizando el cambio de índice $p=n-m$ tenemos la expresión:\n",
    "\n",
    "\\begin{equation*}\n",
    "f^{(m)}(x) = \\sum_{p=0}^\\infty c_{p+m}\\,m!\\, (x-a)^{p} \\>\\>. \n",
    "\\end{equation*}\n",
    "\n",
    "Al evaluar en $x=a$ se obtiene\n",
    "\\begin{equation*}\n",
    "f^{(m)}(a) = \\sum_{p=0}^\\infty c_{p+m}\\,m!\\, (a-a)^{p} = c_m\\,m! \\>\\>.\n",
    "\\end{equation*}\n",
    "\n",
    "El único término que sobrevive es el que tiene potencia cero, $p=0$, despejando $c_m$:\n",
    "\\begin{equation*}\n",
    "c_m = \\frac{f^{(m)}(a)}{m!} \\>\\>. \n",
    "\\end{equation*}\n",
    "\n",
    "Sustituyendo en la serie\n",
    "\\begin{equation*}\n",
    "f(x) = \\sum_{n=0}^\\infty \\frac{f^{(n)}(a)}{n!} (x-a)^n \n",
    "\\end{equation*}"
   ]
  },
  {
   "cell_type": "markdown",
   "metadata": {},
   "source": [
    "````{admonition} Aprendizaje de código\n",
    ":class: important\n",
    "**A continuación realizaremos la expansión en series de Taylor en torno a $x=0$ de $f(x)=e^{x}$ en el intervalo $x \\in [0,10]$ truncada hasta la potencia de grado 6.**\n",
    "\n",
    "Importamos las librerías necesarias\n",
    "~~~python\n",
    "from scipy.misc import derivative\n",
    "from matplotlib import pyplot as plt\n",
    "import numpy as np\n",
    "~~~\n",
    "\n",
    "Definimos la función a aproximar\n",
    "~~~python\n",
    "def f(x):\n",
    "    return np.exp(x)\n",
    "~~~\n",
    "\n",
    "Seleccionamos el centro de la expansión en serie\n",
    "~~~python\n",
    "a=0.0\n",
    "~~~\n",
    "\n",
    "Damos valores a la variable $x$ en el intervalo establecido en el problema\n",
    "~~~python\n",
    "x=np.linspace(0,10,11)\n",
    "~~~\n",
    "\n",
    "Sumamos los términos de la serie de Taylor acorde a la ecuación\n",
    "\\begin{equation*}\n",
    "f(x) = \\sum_{n=0}^\\infty \\frac{f^{(n)}(a)}{n!} (x-a)^n\n",
    "\\end{equation*}\n",
    "~~~python\n",
    "y=0\n",
    "for n in range(0,7):\n",
    "    y=y+derivative(f,a,n=n,order=2*n+1)/np.math.factorial(n)*(x-a)**n \\nonumber\n",
    "\n",
    "~~~\n",
    "\n",
    "Graficamos la función exacta, $f(x)$ y la serie de Taylor, $y$.\n",
    "~~~python\n",
    "plt.scatter(x,y,color='r')\n",
    "plt.plot(x,f(x))\n",
    "plt.show()\n",
    "~~~\n",
    "````"
   ]
  },
  {
   "cell_type": "markdown",
   "metadata": {},
   "source": [
    "**Haga la expansión en series de Taylor en torno a $x=0$ de $f(x)=e^{x}$ en el intervalo $x \\in [0,10]$ truncada hasta la potencia de grado 7 y compárela con la función original.**"
   ]
  },
  {
   "cell_type": "code",
   "execution_count": 1,
   "metadata": {},
   "outputs": [],
   "source": [
    "#Serie de Taylor de f(x)=e^x con x \\in [0,10] usando 6 términos"
   ]
  },
  {
   "cell_type": "code",
   "execution_count": 2,
   "metadata": {
    "tags": [
     "remove-input",
     "hide-output"
    ]
   },
   "outputs": [
    {
     "data": {
      "image/png": "[encoded data removed]",
      "text/plain": [
       "<Figure size 432x288 with 1 Axes>"
      ]
     },
     "metadata": {
      "needs_background": "light"
     },
     "output_type": "display_data"
    }
   ],
   "source": [
    "from scipy.misc import derivative\n",
    "from matplotlib import pyplot as plt\n",
    "import numpy as np\n",
    "import sympy as sym\n",
    "\n",
    "def f(x):\n",
    "    return np.exp(x)\n",
    "\n",
    "a=0.0\n",
    "\n",
    "x=np.linspace(0,10,11)\n",
    "\n",
    "y=0\n",
    "for n in range(0,7):\n",
    "    y=y+derivative(f,a,n=n,order=2*n+1)/np.math.factorial(n)*(x-a)**n\n",
    "    \n",
    "plt.scatter(x,y,color='r')\n",
    "plt.plot(x,f(x))\n",
    "plt.show()"
   ]
  },
  {
   "cell_type": "markdown",
   "metadata": {},
   "source": [
    "**Adapte el código para realizar las series de Taylor de $f(x)=e^x$ con:**\n",
    "- 6 Términos\n",
    "- 9 Términos\n",
    "- 12 Términos"
   ]
  },
  {
   "cell_type": "code",
   "execution_count": 3,
   "metadata": {},
   "outputs": [],
   "source": [
    "#Series de Taylor de f(x)=e^x con x \\in [0,10] usando 6, 9 y 12 términos"
   ]
  },
  {
   "cell_type": "code",
   "execution_count": 4,
   "metadata": {
    "tags": [
     "remove-input",
     "hide-output"
    ]
   },
   "outputs": [
    {
     "data": {
      "image/png": "[encoded data removed]",
      "text/plain": [
       "<Figure size 432x288 with 1 Axes>"
      ]
     },
     "metadata": {
      "needs_background": "light"
     },
     "output_type": "display_data"
    }
   ],
   "source": [
    "def f(x):\n",
    "    return np.exp(x)\n",
    "\n",
    "a=0.0\n",
    "\n",
    "x=np.linspace(0,10,51)\n",
    "\n",
    "plt.plot(x,f(x))\n",
    "\n",
    "y=0\n",
    "for n in range(0,7):\n",
    "    y=y+derivative(f,a,n=n,order=2*n+1)/np.math.factorial(n)*(x-a)**n\n",
    "plt.scatter(x,y,color='r',label=\"6 términos\")\n",
    "y=0\n",
    "for n in range(0,10):\n",
    "    y=y+derivative(f,a,n=n,order=2*n+1)/np.math.factorial(n)*(x-a)**n\n",
    "plt.scatter(x,y,color='g',label=\"9 términos\")\n",
    "y=0\n",
    "for n in range(0,13):\n",
    "    y=y+derivative(f,a,n=n,order=2*n+1)/np.math.factorial(n)*(x-a)**n\n",
    "plt.scatter(x,y,color='y',label=\"12 términos\")\n",
    "y=0\n",
    "\n",
    "plt.legend()\n",
    "plt.show()"
   ]
  },
  {
   "cell_type": "markdown",
   "metadata": {},
   "source": [
    "```{admonition} Pregunta\n",
    ":class: note\n",
    "¿Qué observa al comparar las series de Taylor truncadas a diferentes grados de potencia con respecto a la función original?\n",
    "```"
   ]
  },
  {
   "cell_type": "code",
   "execution_count": 5,
   "metadata": {
    "tags": [
     "remove-cell"
    ]
   },
   "outputs": [],
   "source": [
    "from OptMultiple import MultipleChoice\n",
    "question = \"¿Cuál de las expansión en serie de Taylor es más parecida a la función?\"\n",
    "answers = [\n",
    "    \"La serie truncada hasta la potencia de grado 6.\",\n",
    "    \"La serie truncada hasta la potencia de grado 9.\",\n",
    "    \"La serie truncada hasta la potencia de grado 12.\"\n",
    "]\n",
    "explanation = (\n",
    "    \"La serie truncada hasta la potencia de grado 12. \" \n",
    "    \"Entre más términos se sumen más parecida será la serie truncada a la función, \"\n",
    "    \"y la igualdad se dará cuando no se trunque ningún término.\"\n",
    ")"
   ]
  },
  {
   "cell_type": "code",
   "execution_count": 6,
   "metadata": {
    "tags": [
     "remove-input"
    ]
   },
   "outputs": [
    {
     "data": {
      "text/html": [
       "<div class=\"note admonition\"><p class=\"admonition-title\">Pregunta</p><p><span class=\"math notranslate nohighlight\">¿Cuál de las expansión en serie de Taylor es más parecida a la función?</span></p><form><input type=\"radio\" name=\"answer\" value=\"La serie truncada hasta la potencia de grado 6.\"><span class=\"math notranslate nohighlight\">La serie truncada hasta la potencia de grado 6.</span><br><input type=\"radio\" name=\"answer\" value=\"La serie truncada hasta la potencia de grado 9.\"><span class=\"math notranslate nohighlight\">La serie truncada hasta la potencia de grado 9.</span><br><input type=\"radio\" name=\"answer\" value=\"La serie truncada hasta la potencia de grado 12.\"><span class=\"math notranslate nohighlight\">La serie truncada hasta la potencia de grado 12.</span><br></form>\n",
       "<details class=\"toggle-details\">\n",
       "<summary class=\"toggle-details__summary\">\n",
       "<svg xmlns=\"http://www.w3.org/2000/svg\" class=\"tb-icon toggle-chevron-right\" width=\"44\" height=\"44\" viewBox=\"0 0 24 24\" stroke-width=\"1.5\" stroke=\"#000000\" fill=\"none\" stroke-linecap=\"round\" stroke-linejoin=\"round\">\n",
       "<path stroke=\"none\" d=\"M0 0h24v24H0z\" fill=\"none\"></path>\n",
       "<polyline points=\"9 6 15 12 9 18\"></polyline>\n",
       "</svg>\n",
       "<span class=\"toggle-details__summary-text\">Mostrar respuesta</span>\n",
       "</summary>\n",
       "<div class=\"cell_output docutils container\">\n",
       "<div><span class=\"math notranslate nohighlight\">La respuesta correcta es: <br><b>La serie truncada hasta la potencia de grado 12.</b><br><span class=\"math notranslate nohighlight\">La serie truncada hasta la potencia de grado 12. Entre más términos se sumen más parecida será la serie truncada a la función, y la igualdad se dará cuando no se trunque ningún término.</span></span></div>\n",
       "</div></details>\n",
       "</div)"
      ],
      "text/plain": [
       "<OptMultiple.MultipleChoice at 0x14b38e5e3820>"
      ]
     },
     "execution_count": 6,
     "metadata": {},
     "output_type": "execute_result"
    }
   ],
   "source": [
    "MultipleChoice(\n",
    "    question, answers, correct_answer=2, explanation=explanation\n",
    ")"
   ]
  },
  {
   "cell_type": "markdown",
   "metadata": {},
   "source": [
    "## Serie de Fourier"
   ]
  },
  {
   "cell_type": "markdown",
   "metadata": {},
   "source": [
    "Una función periódica se puede aproximar por\n",
    "\\begin{equation*}\n",
    "f(x)=\\frac{a_0}{2} + \\sum_{n=1}^{\\infty} \\left[ a_n \\cos \\left( \\frac{2n\\pi}{T}x \\right) + b_n \\sin \\left( \\frac{2n\\pi}{T}x \\right) \\right]\n",
    "\\end{equation*}\n",
    "\n",
    "donde\n",
    "\\begin{equation*}\n",
    "a_0 = \\frac{2}{T} \\int\\limits_{-T/2}^{T/2} f(x) dx\n",
    "\\end{equation*}\n",
    "\\begin{equation*}\n",
    "a_n = \\frac{2}{T} \\int\\limits_{-T/2}^{T/2} f(x) \\cos \\left( \\frac{2n\\pi}{T}x \\right) dx\n",
    "\\end{equation*}\n",
    "\\begin{equation*}\n",
    "b_n = \\frac{2}{T} \\int\\limits_{-T/2}^{T/2} f(x) \\sin \\left( \\frac{2n\\pi}{T}x \\right) dx\n",
    "\\end{equation*}\n"
   ]
  },
  {
   "cell_type": "markdown",
   "metadata": {},
   "source": [
    "**Haga la expansión en series de Fourier de la $f(x)=x$ en el intervalo $x \\in [-10,10]$ con $n=10$**"
   ]
  },
  {
   "cell_type": "code",
   "execution_count": 7,
   "metadata": {},
   "outputs": [],
   "source": [
    "# Serie de Fourier"
   ]
  },
  {
   "cell_type": "code",
   "execution_count": 8,
   "metadata": {
    "tags": [
     "hide-cell"
    ]
   },
   "outputs": [
    {
     "data": {
      "image/png": "[encoded data removed]",
      "text/plain": [
       "<Figure size 432x288 with 1 Axes>"
      ]
     },
     "metadata": {
      "needs_background": "light"
     },
     "output_type": "display_data"
    }
   ],
   "source": [
    "from scipy import integrate\n",
    "from matplotlib import pyplot as plt\n",
    "import numpy as np\n",
    "\n",
    "a=-10.0\n",
    "b=10.0\n",
    "\n",
    "T=b-a\n",
    "\n",
    "x=np.linspace(a,b,100)\n",
    "\n",
    "a_0 = 2.0/T*integrate.quad(lambda x: x,a,b)[0]\n",
    "y = a_0/2.0*x**0.0\n",
    "\n",
    "for n in range(1,11):\n",
    "    a_n = 2.0/T*integrate.quad(lambda x: x*np.cos(2*n*np.pi/T*x),a,b)[0]\n",
    "    b_n = 2.0/T*integrate.quad(lambda x: x*np.sin(2*n*np.pi/T*x),a,b)[0]\n",
    "    y=y+a_n*np.cos(2*n*np.pi/T*x)+b_n*np.sin(2*n*np.pi/T*x)\n",
    "    \n",
    "plt.plot(x,y,color='r')\n",
    "plt.plot(x,x)\n",
    "plt.show()"
   ]
  },
  {
   "cell_type": "markdown",
   "metadata": {},
   "source": [
    "**Realice la expansión en series de Fourier de la función escalón en el intervalo $x \\in [-10,10]$ con $n=10$**\n",
    "\n",
    "\\begin{equation*}\n",
    "f(x) = \\left\\{\n",
    "  \\begin{array}{ll}\n",
    "  0      & \\mathrm{si\\ } x < 0\\\\\n",
    "  1 & \\mathrm{si\\ } x>0 \\\\\n",
    "  \\end{array}\n",
    "  \\right.\n",
    "\\end{equation*}\n"
   ]
  },
  {
   "cell_type": "code",
   "execution_count": 9,
   "metadata": {},
   "outputs": [],
   "source": [
    "# Serie de Fourier"
   ]
  },
  {
   "cell_type": "code",
   "execution_count": 10,
   "metadata": {
    "tags": [
     "hide-cell"
    ]
   },
   "outputs": [
    {
     "data": {
      "image/png": "[encoded data removed]",
      "text/plain": [
       "<Figure size 432x288 with 1 Axes>"
      ]
     },
     "metadata": {
      "needs_background": "light"
     },
     "output_type": "display_data"
    }
   ],
   "source": [
    "from scipy import integrate\n",
    "from matplotlib import pyplot as plt\n",
    "import numpy as np\n",
    "\n",
    "a=-10.0\n",
    "b=10.0\n",
    "\n",
    "T=b-a\n",
    "\n",
    "x=np.linspace(-10,10,100)\n",
    "\n",
    "a_0 = 2.0/T*integrate.quad(lambda x: np.piecewise(x,x>=0,[1,0]),a,b)[0]\n",
    "y = a_0/2.0*x**0.0\n",
    "\n",
    "for n in range(1,11):\n",
    "    a_n = 2.0/T*integrate.quad(lambda x: np.piecewise(x,x>=0,[1,0])*np.cos(2*n*np.pi/T*x),a,b)[0]\n",
    "    b_n = 2.0/T*integrate.quad(lambda x: np.piecewise(x,x>=0,[1,0])*np.sin(2*n*np.pi/T*x),a,b)[0]\n",
    "    y=y+a_n*np.cos(2*n*np.pi/T*x)+b_n*np.sin(2*n*np.pi/T*x)\n",
    "    \n",
    "plt.plot(x,y,color='r')\n",
    "plt.plot(x,np.piecewise(x,x>=0,[1,0]))\n",
    "plt.show()"
   ]
  },
  {
   "cell_type": "markdown",
   "metadata": {},
   "source": [
    "## Referencias"
   ]
  },
  {
   "cell_type": "markdown",
   "metadata": {},
   "source": [
    "- G.P. Tolstov, Fourier Series (Dover ed., 1992).\n",
    "- J.D. Jackson, Mathematics for Quantum Mechanics: An Introductory Survey of Operators, Eigenvalues, and Linear Vector Spaces (Dover ed., 2006).\n",
    "- J.L. Gersting, Technical Calculus with Analytic Geometry (Dover ed., 2009)."
   ]
  }
 ],
 "metadata": {
  "celltoolbar": "Tags",
  "kernelspec": {
   "display_name": "Python 3 (ipykernel)",
   "language": "python",
   "name": "python3"
  },
  "language_info": {
   "codemirror_mode": {
    "name": "ipython",
    "version": 3
   },
   "file_extension": ".py",
   "mimetype": "text/x-python",
   "name": "python",
   "nbconvert_exporter": "python",
   "pygments_lexer": "ipython3",
   "version": "3.9.12"
  }
 },
 "nbformat": 4,
 "nbformat_minor": 2
}
