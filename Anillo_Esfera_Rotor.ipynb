{
 "cells": [
  {
   "cell_type": "markdown",
   "metadata": {},
   "source": [
    "# Parícula en el anillo, Partícula en la esfera y Rotor Rígido"
   ]
  },
  {
   "cell_type": "markdown",
   "metadata": {
    "colab_type": "text",
    "id": "C4mRnLa0Whcu"
   },
   "source": [
    "## Partícula en el anillo"
   ]
  },
  {
   "cell_type": "markdown",
   "metadata": {
    "colab_type": "text",
    "id": "4xRjrOOoWhcv"
   },
   "source": [
    "Es el sistema de una partícula moviéndose en una trayectoria de radio constante tal que $x^2 + y^2 = r^2$.\n",
    "\n",
    "El Hamiltoniano para una partícula en dos dimensiones, tanto en coordenadas cartesianas como en coordenadas polares es\n",
    "\\begin{equation}\n",
    "H = -\\frac{\\hbar^2}{2m} \\left( \\frac{\\partial^2}{\\partial x^2} + \\frac{\\partial^2}{\\partial y^2} \\right) = -\\frac{\\hbar^2}{2mr^2} \\left( \\frac{\\partial^2}{\\partial r^2} + \\frac{1}{r} \\frac{\\partial}{\\partial r} + \\frac{1}{r^2} \\frac{\\partial^2}{\\partial \\phi^2} \\right)\n",
    "\\end{equation}\n",
    "\n",
    "Como r es constante en el anillo, entonces se eliminan las derivadas respecto a r, y el Hamiltoniano se vuelve más simple\n",
    "\\begin{equation}\n",
    "H = -\\frac{\\hbar^2}{2mr^2} \\frac{d^2}{d\\phi^2}\n",
    "\\end{equation}\n",
    "\n",
    "Al sustituir el Hamiltoniano en la ecuación de Schrodinger, se obtiene\n",
    "\\begin{equation}\n",
    "-\\frac{\\hbar^2}{2mr^2} \\frac{d^2}{d\\phi^2} \\psi = E \\psi\n",
    "\\end{equation}\n",
    "\n",
    "La solución a la ecuación diferencial tiene la forma\n",
    "\\begin{equation}\n",
    "\\psi = Ae^{im_l\\phi} + Be^{-im_l\\phi}\n",
    "\\end{equation}\n",
    "\n",
    "con $m_l = ( 2mr^2 E/\\hbar^2 )^{1/2}$. Despejando se obtiene que \n",
    "\\begin{equation}\n",
    "E = \\frac{\\hbar^2 m_l^2}{2mr^2}\n",
    "\\end{equation}\n",
    "\n",
    "Debido a que la función de onda debe ser contínua, y a que la partícula se mueve en un anillo, debe de cumplirse la condición cíclica $\\psi(\\phi) = \\psi(\\phi+2\\pi)$, es decir que al dar una vuelta, la función de onda debe terminar en el mismo punto donde comenzó. Sustituyendo la función de onda en la condición cíclica se obtiene\n",
    "\\begin{equation}\n",
    "Ae^{im_l\\phi} + Be^{-im_l\\phi} = Ae^{im_l\\phi}e^{im_l2\\pi} + Be^{-im_l\\phi}e^{-im_l2\\pi}\n",
    "\\end{equation}\n",
    "\n",
    "Para que la igualdad anterior pueda cumplirse, $m_l$ debe ser un número entero, tal que se cumpla $e^{im_l2\\pi}=e^{-im_l2\\pi}=1$. Esto origina la cuantización $m_l = {0, \\pm 1, \\pm 2, \\cdots}$.\n",
    "\n",
    "Tras normalizar y con B=0,\n",
    "\\begin{equation}\n",
    "\\psi = \\left( \\frac{1}{2\\pi} \\right)^{1/2} e^{i m_l \\phi} = \\left( \\frac{1}{2\\pi} \\right)^{1/2} cos(m_l \\phi) + i \\left( \\frac{1}{2\\pi} \\right)^{1/2} sin(m_l \\phi)\n",
    "\\end{equation}"
   ]
  },
  {
   "cell_type": "markdown",
   "metadata": {
    "colab_type": "text",
    "id": "EhguX53jWhcw"
   },
   "source": [
    "**Grafique la función de onda y su cuadrado para $m_l=1$**"
   ]
  },
  {
   "cell_type": "code",
   "execution_count": null,
   "metadata": {
    "colab": {},
    "colab_type": "code",
    "id": "EnNBWgqFWhcy"
   },
   "outputs": [],
   "source": [
    "# Grafica\n",
    "\n",
    "from mpl_toolkits.mplot3d import Axes3D\n",
    "import numpy as np\n",
    "import matplotlib.pyplot as plt\n",
    "\n",
    "#Numero cuantico\n",
    "ml=1\n",
    "\n",
    "#Coordenadas polares\n",
    "phi = np.linspace(0, 2 * np.pi, 100)\n",
    "r=1.0\n",
    "psi_r = np.sqrt(1/(2*np.pi))*np.cos(ml*phi)\n",
    "psi_i = np.sqrt(1/(2*np.pi))*np.sin(ml*phi)\n",
    "\n",
    "#Grafica de la funcion de onda\n",
    "fig = plt.figure()\n",
    "ax = fig.gca(projection='3d')\n",
    "x = r * np.sin(phi)\n",
    "y = r * np.cos(phi)\n",
    "ax.plot(x, y, 0, color='k') #Eje de la grafica\n",
    "ax.plot(x, y, psi_r, label='psi-R')\n",
    "ax.plot(x, y, psi_i, label='psi-I')\n",
    "ax.legend()\n",
    "plt.show()\n",
    "\n",
    "#Grafica del cuadrado de la funcion de onda\n",
    "fig = plt.figure()\n",
    "ax = fig.gca(projection='3d')\n",
    "x = r * np.sin(phi)\n",
    "y = r * np.cos(phi)\n",
    "ax.plot(x, y, 0, color='k') #Eje de la grafica\n",
    "ax.plot(x, y, ((psi_r+1J*psi_i)*(psi_r-1J*psi_i)).real, label='$psi^2$')\n",
    "ax.legend()\n",
    "plt.show()"
   ]
  },
  {
   "cell_type": "markdown",
   "metadata": {
    "colab_type": "text",
    "id": "7pC0yb6fWhc1"
   },
   "source": [
    "## Partícula en la esfera"
   ]
  },
  {
   "cell_type": "markdown",
   "metadata": {
    "colab_type": "text",
    "id": "zkzqvdJEWhc2"
   },
   "source": [
    "Se tiene una partícula moviéndose sobre una superficie esférica de radio constante.\n",
    "\n",
    "La ecuación de Schrodinger a resolver es\n",
    "\\begin{equation}\n",
    "-\\frac{\\hbar^2}{2m} \\nabla^2 \\psi(\\theta,\\phi) = E \\psi(\\theta,\\phi)\n",
    "\\end{equation}\n",
    "\n",
    "Donde\n",
    "\\begin{equation}\n",
    "\\nabla^2 = \\frac{1}{r} \\frac{\\partial^2}{\\partial r^2}r + \\frac{1}{r^2} \\Lambda^2 = \\frac{1}{r} \\frac{\\partial^2}{\\partial r^2} r + \\frac{1}{r^2} \\left( \\frac{1}{sin^2 \\theta} \\frac{\\partial^2}{\\partial \\phi^2} + \\frac{1}{sin \\theta} \\frac{\\partial}{\\partial \\theta} sin \\theta \\frac{\\partial}{\\partial \\theta} \\right)\n",
    "\\end{equation}\n",
    "\n",
    "Si r es constante, entonces\n",
    "\\begin{equation}\n",
    "-\\frac{\\hbar^2}{2mr^2} \\Lambda^2 \\psi(\\theta,\\phi) = E \\psi(\\theta,\\phi)\n",
    "\\end{equation}\n",
    "\n",
    "Las soluciones de esta ecuación son los armónicos esféricos, dados por\n",
    "\n",
    "\\begin{equation}\n",
    "Y_l^{m_l}(\\theta,\\phi) = \\sqrt{\\frac{2l+1}{4\\pi} \\frac{(l-|m_l|)!}{(l+|m_l|)!}} e^{i m_l \\phi} P_l^{m_l}(cos(\\theta))\n",
    "\\end{equation}\n",
    "\n",
    "donde $P_l^{m_l}(cos(\\phi))$ son los polinomios asociados de Legendre, dados por\n",
    "\\begin{equation}\n",
    "P_l^{m_l}(x) = \\frac{l}{2^l l!}(1-x^2)^{|m_l|/2} \\frac{d^{l+|m_l|}}{dx^{l+|m_l|}} (x^2-1)^l\n",
    "\\end{equation}\n",
    "\n",
    "En la tabla se muestra la forma de los primeros armónicos esféricos. En este punto han aparecido dos números cuánticos, tal que $l = 0,1,2,3,...$ y $m_l = -l, -l+1, 0, l-1, l$\n",
    "\n",
    "\n",
    "|$l$|$m_l$|Armónico esférico $Y_l^{m_l}(\\theta,\\phi)$|\n",
    "|---|---|---|\n",
    "|0|0|$\\frac{1}{(4\\pi)^{1/2}}$|\n",
    "|1|-1|$+\\frac{3}{(8\\pi)^{1/2}} sin \\theta e^{-i\\phi}$|\n",
    "|1|0|$\\frac{3}{(4\\pi)^{1/2}} cos \\theta$|\n",
    "|1|1|$-\\frac{3}{(8\\pi)^{1/2}} sin \\theta e^{i\\phi}$|\n",
    "|2|-2|$+\\frac{15}{(32\\pi)^{1/2}} sin^2 \\theta e^{-2i\\phi}$|\n",
    "|2|-1|$+\\frac{15}{(8\\pi)^{1/2}} sin \\theta cos \\theta e^{-i\\phi}$|\n",
    "|2|0|$\\frac{5}{(16\\pi)^{1/2}} (3cos^2 \\theta - 1)$|\n",
    "|2|1|$-\\frac{15}{(8\\pi)^{1/2}} sin \\theta cos \\theta e^{i\\phi}$|\n",
    "|2|2|$-\\frac{15}{(32\\pi)^{1/2}} sin^2 \\theta e^{2i\\phi}$|\n",
    "\n",
    "La energía del sistema está dada por\n",
    "\\begin{equation}\n",
    "E = -l(l+1)\n",
    "\\end{equation}"
   ]
  },
  {
   "cell_type": "markdown",
   "metadata": {
    "colab_type": "text",
    "id": "wWvbKCO2Whc2"
   },
   "source": [
    "**Grafique el armónico esférico $|Y_1^{0}|$ y su cuadrado.**"
   ]
  },
  {
   "cell_type": "code",
   "execution_count": null,
   "metadata": {
    "colab": {},
    "colab_type": "code",
    "id": "vYozd5-7Whc3"
   },
   "outputs": [],
   "source": [
    "#Grafica\n",
    "\n",
    "import scipy.special as sp\n",
    "import numpy as np\n",
    "from mpl_toolkits.mplot3d import Axes3D\n",
    "import numpy as np\n",
    "import matplotlib.pyplot as plt\n",
    "\n",
    "ml=0\n",
    "l=1\n",
    "\n",
    "theta = np.linspace(0,np.pi,100)\n",
    "phi = np.linspace(0,2*np.pi,100)\n",
    "THETA,PHI=np.meshgrid(theta,phi)\n",
    "\n",
    "R=np.abs(sp.sph_harm(ml,l,PHI,THETA))\n",
    "\n",
    "X = R * np.sin(THETA) * np.cos(PHI)\n",
    "Y = R * np.sin(THETA) * np.sin(PHI)\n",
    "Z = R * np.cos(THETA)\n",
    "\n",
    "fig = plt.figure()\n",
    "ax = plt.gca(projection='3d')\n",
    "ax.plot_surface(X, Y, Z,cmap='YlOrRd')\n",
    "#ax.set_xlim(-0.4,0.4)\n",
    "#ax.set_ylim(-0.4,0.4)\n",
    "#ax.set_zlim(-0.4,0.4)\n",
    "ax.set_title(\"$\\Psi$\")\n",
    "plt.show()\n",
    "\n",
    "R=np.power(R,2.0)\n",
    "\n",
    "X = R * np.sin(THETA) * np.cos(PHI)\n",
    "Y = R * np.sin(THETA) * np.sin(PHI)\n",
    "Z = R * np.cos(THETA)\n",
    "\n",
    "fig = plt.figure()\n",
    "ax = plt.gca(projection='3d')\n",
    "ax.plot_surface(X, Y, Z,cmap='YlOrRd')\n",
    "ax.set_xlim(-0.2,0.2)\n",
    "ax.set_ylim(-0.2,0.2)\n",
    "ax.set_zlim(-0.2,0.2)\n",
    "ax.set_title(\"$\\Psi^2$\")\n",
    "plt.show()"
   ]
  },
  {
   "cell_type": "markdown",
   "metadata": {
    "colab_type": "text",
    "id": "93jDndSFWhc5"
   },
   "source": [
    "## Rotor Rígido"
   ]
  },
  {
   "cell_type": "markdown",
   "metadata": {
    "colab_type": "text",
    "id": "rtbOKKB7Whc6"
   },
   "source": [
    "Este sistema consiste en dos partículas de masa $m_1$ y $m_2$ moviéndose con una separación constante $r=r_2-r_1$.\n",
    "\n",
    "El Hamiltoniano consta de los términos de energía cinética de ambas partículas\n",
    "\\begin{equation}\n",
    "H = -\\frac{\\hbar^2}{2m_1} \\nabla^2_1 -\\frac{\\hbar^2}{2m_2} \\nabla^2_2\n",
    "\\end{equation}\n",
    "\n",
    "Este sistema es equivalente al de una partícula de masa reducida girando en torno al centro de masa de ambas partículas. La masa total del sistema está dada por la suma de las masas de las partículas\n",
    "\\begin{equation}\n",
    "m_T = m_1 + m_2\n",
    "\\end{equation}\n",
    "\n",
    "La masa reducida de la nueva partícula está dada por\n",
    "\\begin{equation}\n",
    "\\frac{1}{\\mu} = \\frac{1}{m_1} + \\frac{1}{m_2}\n",
    "\\end{equation}\n",
    "\n",
    "El centro de masa del sistema se calcula mediante\n",
    "\\begin{equation}\n",
    "R_{cm} = \\left( \\frac{m_1}{m_T} \\right) r_1 + \\left( \\frac{m_2}{m_T} \\right) r_2\n",
    "\\end{equation}\n",
    "\n",
    "y el Hamiltoniano se calcula con la energía cinética de la masa reducida y del centro de masa, es decir\n",
    "\\begin{equation}\n",
    "H = -\\frac{\\hbar^2}{2m_T} \\nabla^2_{R_{cm}} - \\frac{\\hbar^2}{2\\mu} \\nabla^2_{r}\n",
    "\\end{equation}\n",
    "\n",
    "La ecuación de Schrodinger a resolver es\n",
    "\\begin{equation}\n",
    "\\left(-\\frac{\\hbar^2}{2m_T} \\nabla^2_{R_{cm}} - \\frac{\\hbar^2}{2\\mu} \\nabla^2_{r}\\right) \\psi = E \\psi\n",
    "\\end{equation}\n",
    "\n",
    "Se propone que la función de onda se puede separar en el producto de una función de onda del centro de masa y una función de onda de la partícula de masa reducida\n",
    "\\begin{equation}\n",
    "\\psi=\\psi_{cm}\\psi_r\n",
    "\\end{equation}\n",
    "\n",
    "Al sustituir en la ecuación de Schrodinger se obtiene\n",
    "\\begin{equation}\n",
    "\\left(-\\frac{\\hbar^2}{2m_T} \\nabla^2_{R_{cm}} - \\frac{\\hbar^2}{2\\mu} \\nabla^2_{r}\\right) \\psi_{cm}\\psi_r = E \\psi_{cm}\\psi_r\n",
    "\\end{equation}\n",
    "\n",
    "Si consideramos que la energía está dada por $E_T = E_{cm} + E_{r}$ y distribuímos, resulta\n",
    "\n",
    "\\begin{equation}\n",
    "-\\psi_{r} \\frac{\\hbar^2}{2m_T} \\nabla^2_{R_{cm}} \\psi_{cm} - \\psi_{cm}\\frac{\\hbar^2}{2\\mu} \\nabla^2_{r} \\psi_r = \\psi_r E_{cm} \\psi_{cm} +  \\psi_{cm} E_r \\psi_r\n",
    "\\end{equation}\n",
    "\n",
    "Si multiplicamos ambos lados de la ecuación anterior por $\\frac{1}{\\psi_{r}\\psi_{cm}}$, resulta\n",
    "\n",
    "\\begin{equation}\n",
    "-\\frac{1}{\\psi_{cm}} \\left( \\frac{\\hbar^2}{2m_T} \\nabla^2_{R_{cm}} \\psi_{cm} - E_{cm} \\psi_{cm} \\right) = \\frac{1}{\\psi_{r}} \\left( \\frac{\\hbar^2}{2\\mu} \\nabla^2_{r} \\psi_r + E_r \\psi_r \\right)\n",
    "\\end{equation}\n",
    "\n",
    "ya que el lado izquierdo solo depende de las coordenadas del centro de masa, y el lado derecho solo depende de las coordenadas de la masa reducida, ambos lados deben ser igual a una constante. Si elegimos esta constante como cero, y despejamos lo que está dentro de cada paréntesis se obtienen dos ecuaciones independientes. La primera ecuación corresponde al movimiento del centro de masa del sistema y la hemos estudiado previamene en el movimiento de la partícula libre\n",
    "\\begin{equation}\n",
    "-\\frac{\\hbar^2}{2m_T} \\nabla^2_{R_{cm}} \\psi_{cm} = E_{cm} \\psi_{cm}\n",
    "\\end{equation}\n",
    "esta ecuación tiene como soluciones\n",
    "\\begin{equation}\n",
    "\\psi_{cm} = A e^{ikx} + B e^{-ikx}\n",
    "\\end{equation}\n",
    "con $k^2=2m_TE/\\hbar^2$, y simplemente nos dice que el sistema en conjunto se mueve libremente por el espacio.\n",
    "\n",
    "La segunda ecuación corresponde a la masa reducida, y la hemos estudiado en la partícula en la esfera\n",
    "\\begin{equation}\n",
    "-\\frac{\\hbar^2}{2\\mu} \\nabla^2_{r} \\psi_r = E_r \\psi_r\n",
    "\\end{equation}\n",
    "sabemos por tanto que su solución son los armónico esféricos $Y_l^{m_l}(\\theta,\\phi)$ con $E = -l(l+1)$."
   ]
  },
  {
   "cell_type": "markdown",
   "metadata": {
    "colab_type": "text",
    "id": "S6EJOb8AWhc7"
   },
   "source": [
    "## Referencias"
   ]
  },
  {
   "cell_type": "markdown",
   "metadata": {
    "colab_type": "text",
    "id": "8pVzHYyUWhc8"
   },
   "source": [
    "- Atkins, P. W.; Friedman, R. Molecular Quantum Mechanics, 4th ed.; Oxford University Press: New York, 2005.\n",
    "- Zettili, N. Quantum Mechanics: Concepts and Applications, 2nd ed.; Wiley: Chichester, U.K, 2009.\n",
    "- Levine, I. N. Quantum Chemistry, 5th ed.; Prentice Hall: Upper Saddle River, N.J, 2000.\n",
    "- McQuarrie, D. A.; Simon, J. D. Physical Chemistry: A Molecular Approach; University Science Books: Sausalito, Calif, 1997."
   ]
  }
 ],
 "metadata": {
  "colab": {
   "name": "Ejercicio2.ipynb",
   "provenance": []
  },
  "kernelspec": {
   "display_name": "Python 3",
   "language": "python",
   "name": "python3"
  },
  "language_info": {
   "codemirror_mode": {
    "name": "ipython",
    "version": 3
   },
   "file_extension": ".py",
   "mimetype": "text/x-python",
   "name": "python",
   "nbconvert_exporter": "python",
   "pygments_lexer": "ipython3",
   "version": "3.8.3"
  }
 },
 "nbformat": 4,
 "nbformat_minor": 1
}
