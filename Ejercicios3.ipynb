{
 "cells": [
  {
   "cell_type": "markdown",
   "metadata": {},
   "source": [
    "# Ejercicio 3"
   ]
  },
  {
   "cell_type": "markdown",
   "metadata": {},
   "source": [
    "# Serie de Taylor"
   ]
  },
  {
   "cell_type": "markdown",
   "metadata": {},
   "source": [
    "Sea una función f(x) continua e infinitamente diferenciable, esta puede expresarse en torno a $a$ mediante una serie de potencias\n",
    "\\begin{equation}\n",
    "f(x) = \\sum_{n=0}^\\infty c_n (x-a)^n\n",
    "\\end{equation}\n",
    "\n",
    "La m-ésima derivada de $f(x)$ es:\n",
    "\\begin{equation}\n",
    "f^{(m)}(x) = \\sum_{n=m}^\\infty c_n (m!)(x-a)^{n-m} = \\sum_{p=0}^\\infty c_{p+m} (m!)(x-a)^{p}\n",
    "\\end{equation}\n",
    "\n",
    "donde se ha hecho el cambio de índice $p=n-m$. Al evaluar en x=a se obtiene\n",
    "\\begin{equation}\n",
    "f^{(m)}(a) = \\sum_{p=0}^\\infty c_{p+m} (m!)(a-a)^{p} = c_p (m!)\n",
    "\\end{equation}\n",
    "\n",
    "El único término que sobrevive es el que tiene potencia cero, despejando $c_p$:\n",
    "\\begin{equation}\n",
    "c_m = \\frac{f^{(m)}(a)}{m!}\n",
    "\\end{equation}\n",
    "\n",
    "Sustituyendo en la serie\n",
    "\\begin{equation}\n",
    "f(x) = \\sum_{n=0}^\\infty \\frac{f^{(n)}(a)}{n!} (x-a)^n\n",
    "\\end{equation}"
   ]
  },
  {
   "cell_type": "markdown",
   "metadata": {},
   "source": [
    "**Haga la expansión en series de Taylor en torno a $x=0$ de $f(x)=e^{x}$ en el intervalo $x \\varepsilon [0,10]$ hasta potencias de grado 10.**"
   ]
  },
  {
   "cell_type": "code",
   "execution_count": null,
   "metadata": {},
   "outputs": [],
   "source": []
  },
  {
   "cell_type": "markdown",
   "metadata": {},
   "source": [
    "# Serie de Fourier"
   ]
  },
  {
   "cell_type": "markdown",
   "metadata": {},
   "source": [
    "Una funcion periodica se puede aproximar por\n",
    "\\begin{equation}\n",
    "f(x)=\\frac{a_0}{2} + \\sum_{n=1}^{\\infty} \\left[ a_n cos \\left( \\frac{2n\\pi}{T}x \\right) + b_n sin \\left( \\frac{2n\\pi}{T}x \\right) \\right]\n",
    "\\end{equation}\n",
    "\n",
    "donde\n",
    "\\begin{equation}\n",
    "a_0 = \\frac{2}{T} \\int\\limits_{-T/2}^{T/2} f(x) dx\n",
    "\\end{equation}\n",
    "\\begin{equation}\n",
    "a_n = \\frac{2}{T} \\int\\limits_{-T/2}^{T/2} f(x) cos \\left( \\frac{2n\\pi}{T}x \\right) dx\n",
    "\\end{equation}\n",
    "\\begin{equation}\n",
    "b_n = \\frac{2}{T} \\int\\limits_{-T/2}^{T/2} f(x) sin \\left( \\frac{2n\\pi}{T}x \\right) dx\n",
    "\\end{equation}\n"
   ]
  },
  {
   "cell_type": "markdown",
   "metadata": {},
   "source": [
    "**Haga la expansión en series de Fourier de la $f(x)=x$ en el intervalo $x \\varepsilon [-10,10]$ con $n=10$**"
   ]
  },
  {
   "cell_type": "code",
   "execution_count": null,
   "metadata": {},
   "outputs": [],
   "source": []
  },
  {
   "cell_type": "markdown",
   "metadata": {},
   "source": [
    "**Haga la expansión en series de Fourier de la fución escalón en el intervalo $x \\varepsilon [-10,10]$ con $n=10$**\n",
    "\n",
    "\\begin{equation}\n",
    "f(x) = \\left\\{\n",
    "  \\begin{array}{ll}\n",
    "  0      & \\mathrm{si\\ } x < 0\\\\\n",
    "  1 & \\mathrm{si\\ } x>0 \\\\\n",
    "  \\end{array}\n",
    "  \\right.\n",
    "\\end{equation}\n"
   ]
  },
  {
   "cell_type": "code",
   "execution_count": null,
   "metadata": {},
   "outputs": [],
   "source": []
  },
  {
   "cell_type": "markdown",
   "metadata": {},
   "source": [
    "# Oscilador Armónico Cuántico"
   ]
  },
  {
   "cell_type": "markdown",
   "metadata": {},
   "source": [
    "El sistema es una partícula en un potencial\n",
    "\\begin{equation}\n",
    "V = \\frac{1}{2} kx^2\n",
    "\\end{equation}\n",
    "donde $k$ es una constante.\n",
    "\n",
    "En este caso, el Hamiltoniano es:\n",
    "\\begin{equation}\n",
    "H = -\\frac{\\hbar^2}{2m} \\frac{d}{dx} + \\frac{1}{2} kx^2\n",
    "\\end{equation}\n",
    "\n",
    "y la ecuación de Schrodinger a resolver es:\n",
    "En este caso, el Hamiltoniano es:\n",
    "\\begin{equation}\n",
    "-\\frac{\\hbar^2}{2m} \\frac{d}{dx}\\psi + \\frac{1}{2} kx^2 \\psi = E \\psi\n",
    "\\end{equation}    \n",
    "\n",
    "Las soluciones a este problema son:\n",
    "\\begin{equation}\n",
    "E_\\nu = \\left(\\nu + \\frac{1}{2} \\right) \\hbar \\omega\n",
    "\\end{equation}    \n",
    "\n",
    "\\begin{equation}\n",
    "\\psi_\\nu = N_\\nu H_\\nu(\\alpha x) e^{-\\alpha^2x^2/2}\n",
    "\\end{equation}    \n",
    "\n",
    "Con:\n",
    "\n",
    "\\begin{equation}\n",
    "N_\\nu = \\left(\\frac{\\alpha}{2^\\nu \\nu! \\pi^{1/2}} \\right)^{1/2}\n",
    "\\end{equation}\n",
    "\n",
    "\\begin{equation}\n",
    "\\alpha = \\left( \\frac{mk}{\\hbar^2} \\right)^{1/4}\n",
    "\\end{equation}    \n",
    "\n",
    "y $H_\\nu(x)$ los polinomios de Hermite\n",
    "\n",
    "|$\\nu$|$H_\\nu(x)$|\n",
    "|-|-|\n",
    "|0|$1$|\n",
    "|1|$2x$|\n",
    "|2|$4x^2 -2$|\n",
    "|3|$8x^3 - 12 x$|\n",
    "|4|$16x^4 - 48 x^2 +12$|"
   ]
  },
  {
   "cell_type": "markdown",
   "metadata": {},
   "source": [
    "**Grafique la función de onda del oscilador Harmónico cuántico para $\\nu=0,2,4$. Considere $m=1$, $k=1$, $\\hbar=1$.**\n",
    "\n",
    "Compare con Atkins, P. W.; Friedman, R. Molecular Quantum Mechanics, 4th ed.; Oxford University Press: New York, 2005, p.62."
   ]
  },
  {
   "cell_type": "code",
   "execution_count": null,
   "metadata": {},
   "outputs": [],
   "source": []
  },
  {
   "cell_type": "markdown",
   "metadata": {},
   "source": [
    "# Referencias"
   ]
  },
  {
   "cell_type": "markdown",
   "metadata": {},
   "source": [
    "- Gersting, J. L. Technical Calculus with Analytic Geometry, Dover ed.; Dover: New York, 1992.\n",
    "- Jackson, J. D. Mathematics for Quantum Mechanics: An Introductory Survey of Operators, Eigenvalues, and Linear Vector Spaces, Dover ed.; Dover books on mathematics; Dover: Mineola, N.Y, 2006.\n",
    "- Tolstov, G. P. Fourier Series, Nachdr.; Dover books on mathematics; Dover: New York, 2009.\n",
    "- Atkins, P. W.; Friedman, R. Molecular Quantum Mechanics, 4th ed.; Oxford University Press: New York, 2005, p.62."
   ]
  },
  {
   "cell_type": "markdown",
   "metadata": {},
   "source": [
    "Hecho por Juan Felipe Huan Lew Yee y Jorge Martín del Campo Ramírez para la clase de Química Cuántica I del ciclo 2019-I. Universidad Nacional Autónoma de México.\n",
    "\n",
    "Este archivo puede distribuise libremente y ser considerado Open Source. Si deseas modificarlo para su distribución, solo se pide conservar el nombre de los autores originales."
   ]
  }
 ],
 "metadata": {
  "kernelspec": {
   "display_name": "Python 3",
   "language": "python",
   "name": "python3"
  },
  "language_info": {
   "codemirror_mode": {
    "name": "ipython",
    "version": 3
   },
   "file_extension": ".py",
   "mimetype": "text/x-python",
   "name": "python",
   "nbconvert_exporter": "python",
   "pygments_lexer": "ipython3",
   "version": "3.6.5"
  }
 },
 "nbformat": 4,
 "nbformat_minor": 2
}
