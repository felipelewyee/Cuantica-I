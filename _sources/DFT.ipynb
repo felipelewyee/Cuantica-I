{
 "cells": [
  {
   "cell_type": "markdown",
   "metadata": {},
   "source": [
    "# Teoría de los funcionales de la densidad (DFT)"
   ]
  },
  {
   "cell_type": "markdown",
   "metadata": {},
   "source": [
    "La teoría de los funcionales de la densidad se basa en que la densidad electrónica contiene toda la información del sistema, por lo que se puede extraer de ella la energía mediante un funcional\n",
    "\n",
    "$$\n",
    "E[\\rho] = T_s[\\rho] + V_{ext}[\\rho] + J[\\rho] + E_{xc}[\\rho]\n",
    "$$\n",
    "\n",
    "\n",
    "```{warning}\n",
    "Los teoremas de Hohenberg y Kohn, y Kohn y Sham prueban que existe un funcional universal que conecta a la densidad electrónica con la energía del sistema, pero este funcional no se conoce. Se realizan diversas propuestas de como construir este funcional, por lo que en la práctica existen cientos de funcionales de DFT.\n",
    "```\n",
    "\n",
    "```{note}\n",
    "En la práctica, ciertos funcionales son mejores que otros para analizar ciertos tipos de moléculas, mientras que la tendencia se invierte al cambiar a otro tipo de moléculas. `No existe el mejor funcional, sino que depende de la molécula que se esté estudiando.`\n",
    "```\n",
    "\n",
    "En general los funcionales aproximan de diferente manera el intercambio y la correlación, dependiendo de como se aproxime el funcional, estos se pueden clasificar en diferentes categorías. La clasificación fue propuesta por Perdew y se conoce como la `escalera de Jacob`."
   ]
  },
  {
   "cell_type": "markdown",
   "metadata": {},
   "source": [
    "**Importe psi4**"
   ]
  },
  {
   "cell_type": "code",
   "execution_count": 10,
   "metadata": {},
   "outputs": [],
   "source": [
    "#Importe psi4"
   ]
  },
  {
   "cell_type": "code",
   "execution_count": 11,
   "metadata": {
    "tags": [
     "hide-cell"
    ]
   },
   "outputs": [],
   "source": [
    "import psi4"
   ]
  },
  {
   "cell_type": "markdown",
   "metadata": {},
   "source": [
    "Para ejemplificar el uso de estos funcionales, declare la molécula de agua.\n",
    "\n",
    "```\n",
    "h2o = psi4.geometry(\"\"\"\n",
    "0 1\n",
    "O    0.0000    0.0000    0.1173\n",
    "H    0.0000    0.7572   -0.4692\n",
    "H    0.0000   -0.7572   -0.4692 \n",
    "units angstrom\n",
    "\"\"\")\n",
    "```"
   ]
  },
  {
   "cell_type": "code",
   "execution_count": 12,
   "metadata": {},
   "outputs": [],
   "source": [
    "# h2o"
   ]
  },
  {
   "cell_type": "code",
   "execution_count": 13,
   "metadata": {
    "tags": [
     "hide-cell"
    ]
   },
   "outputs": [],
   "source": [
    "h2o = psi4.geometry(\"\"\"\n",
    "0 1\n",
    "O    0.0000    0.0000    0.1173\n",
    "H    0.0000    0.7572   -0.4692\n",
    "H    0.0000   -0.7572   -0.4692 \n",
    "units angstrom\n",
    "\"\"\")"
   ]
  },
  {
   "cell_type": "markdown",
   "metadata": {},
   "source": [
    "## Aproximación Local de la Densidad (LDA)\n",
    "\n",
    "Fue una de las primeros aproximaciones y ha sido superada hoy en día. En este caso, el intercambio se calcula mediante\n",
    "\n",
    "$$\n",
    "E_x^{LDA} = -\\frac{3}{4} \\left( \\frac{3}{\\pi} \\right)^{1/3} \\int \\rho^{4/3} (r) dr \n",
    "$$\n",
    "\n",
    "y la correlación se calcula mediante el funcional de Vosko, Wilk y Nusair\n",
    "$$\n",
    "E_c^{LDA} = E_c^{VWN}\n",
    "$$\n",
    "\n",
    "Haga un cálculo de energía con SVWN y la base 6-311G con la siguiente instrucción\n",
    "```\n",
    "psi4.energy('SVWN/6-311G')\n",
    "```"
   ]
  },
  {
   "cell_type": "code",
   "execution_count": 14,
   "metadata": {},
   "outputs": [],
   "source": [
    "# SVWN"
   ]
  },
  {
   "cell_type": "code",
   "execution_count": 15,
   "metadata": {
    "tags": [
     "hide-cell"
    ]
   },
   "outputs": [
    {
     "data": {
      "text/plain": [
       "-76.04571335890917"
      ]
     },
     "execution_count": 15,
     "metadata": {},
     "output_type": "execute_result"
    }
   ],
   "source": [
    "psi4.energy('SVWN/6-311G')"
   ]
  },
  {
   "cell_type": "markdown",
   "metadata": {},
   "source": [
    "## Aproximación de Gradientes Generalizados (GGA)\n",
    "\n",
    "Esto calcula la energía con base en la densidad electrónica y su gradiente\n",
    "\n",
    "$$\n",
    "E_{xc}^{GGA} = -\\int f(\\rho,\\nabla \\rho) dr\n",
    "$$\n",
    "\n",
    "Para ello separa los funcionales en intercambio y correlación.\n",
    "\n",
    "Algunos funcionales de intercambio GGA son\n",
    "- PWx86: Perdew-Wang 1986\n",
    "- B88: Becke 1988\n",
    "- PWx91: Perdew-Wang 1991\n",
    "- PBE: Perdew-Burke-Ernzerhof\n",
    "    \n",
    "Algunos funcionales de correlación son\n",
    "- LYP: Lee-Yang-Parr\n",
    "- Pc86: Perdew 1986\n",
    "- PWc91: Perdew-Wang 1991\n",
    "- PBE: Perdew-Burke-Ernzerhof\n",
    "    \n",
    "La combinación de estos funcionales genera los funcionales GGA. **Haga un cálculo de energía con PBE y la base 6-311G con la siguiente instrucción**\n",
    "```\n",
    "psi4.energy('PBE/6-311G')\n",
    "```"
   ]
  },
  {
   "cell_type": "code",
   "execution_count": 16,
   "metadata": {
    "tags": [
     "hide-cell"
    ]
   },
   "outputs": [
    {
     "data": {
      "text/plain": [
       "-76.32774681964372"
      ]
     },
     "execution_count": 16,
     "metadata": {},
     "output_type": "execute_result"
    }
   ],
   "source": [
    "psi4.energy('pbe/6-311G')"
   ]
  },
  {
   "cell_type": "markdown",
   "metadata": {},
   "source": [
    "## Aproximación meta-GGA\n",
    "\n",
    "Los funcionales meta-GGA usan la densidad electrónica, el gradiente de la densidad electrónica, y el laplaciano de la densidad electrónica.\n",
    "\n",
    "$$\n",
    "E_{xc}^{meta-GGA} = -\\int f(\\rho,\\nabla \\rho,\\nabla^2 \\rho) dr\n",
    "$$\n",
    "\n",
    "Algunos ejemplos son:\n",
    "- B95: Becke 1995\n",
    "- TPSS: Tau-Perdew-Staroverov-Scuseria\n",
    "\n",
    "**Haga un cálculo de energía con TPSS y la base 6-311G con la siguiente instrucción**\n",
    "```\n",
    "psi4.energy('TPSS/6-311G')\n",
    "```"
   ]
  },
  {
   "cell_type": "code",
   "execution_count": 17,
   "metadata": {},
   "outputs": [],
   "source": [
    "# TPSS"
   ]
  },
  {
   "cell_type": "code",
   "execution_count": 18,
   "metadata": {
    "tags": [
     "hide-cell"
    ]
   },
   "outputs": [
    {
     "data": {
      "text/plain": [
       "-76.41723477103014"
      ]
     },
     "execution_count": 18,
     "metadata": {},
     "output_type": "execute_result"
    }
   ],
   "source": [
    "psi4.energy('TPSS/6-311G')"
   ]
  },
  {
   "cell_type": "markdown",
   "metadata": {},
   "source": [
    "# Funcionales Híbridos\n",
    "\n",
    "Mezclan el funcional de intercambio con el `intercambio de Hartree-Fock` en alguna proporción. Algunos ejemplos de estos funcionales son:\n",
    "\n",
    "- B3LYP\n",
    "- PBE0\n",
    "- M05-2X y M06-2X\n",
    "- TPSSh\n",
    "\n",
    "**Haga un cálculo de energía con M06-2X y la base 6-311G con la siguiente instrucción**\n",
    "```\n",
    "psi4.energy('M062X/6-311G')\n",
    "```"
   ]
  },
  {
   "cell_type": "code",
   "execution_count": 19,
   "metadata": {},
   "outputs": [],
   "source": [
    "#M062X"
   ]
  },
  {
   "cell_type": "code",
   "execution_count": 20,
   "metadata": {
    "tags": [
     "hide-cell"
    ]
   },
   "outputs": [
    {
     "data": {
      "text/plain": [
       "-76.37840759939165"
      ]
     },
     "execution_count": 20,
     "metadata": {},
     "output_type": "execute_result"
    }
   ],
   "source": [
    "psi4.energy('M062X/6-311G')"
   ]
  },
  {
   "cell_type": "markdown",
   "metadata": {},
   "source": [
    "## Referencias\n",
    "- Atkins, P. W.; Friedman, R. Molecular Quantum Mechanics, 4th ed.; Oxford University Press: New York, 2005.\n",
    "- Rappoport, D.; Crawford, N. R. M.; Furche, F.; y Burke, K. Which functional should I choose?, 2008.\n",
    "- W. Koch y M.C. Holthausen, A Chemist’s Guide to Density Functional Theory, 2001."
   ]
  }
 ],
 "metadata": {
  "celltoolbar": "Tags",
  "kernelspec": {
   "display_name": "Python 3",
   "language": "python",
   "name": "python3"
  },
  "language_info": {
   "codemirror_mode": {
    "name": "ipython",
    "version": 3
   },
   "file_extension": ".py",
   "mimetype": "text/x-python",
   "name": "python",
   "nbconvert_exporter": "python",
   "pygments_lexer": "ipython3",
   "version": "3.7.9"
  }
 },
 "nbformat": 4,
 "nbformat_minor": 4
}
