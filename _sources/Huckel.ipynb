{
 "cells": [
  {
   "cell_type": "markdown",
   "metadata": {},
   "source": [
    "# Método de Hückel"
   ]
  },
  {
   "cell_type": "markdown",
   "metadata": {},
   "source": [
    "El método de Hückel fue propuesto por Erich Hückel en 1930 y permite modelar de una forma muy aproximada a sistemas $\\pi$ conjugados, el cual establece un Hamiltoniano para los electrones $\\pi$.\n",
    "\n",
    "```{admonition} Descripción del Hamiltoniano de electrones $\\pi$\n",
    ":class: dropdown\n",
    "$$\n",
    "H_\\pi = \\sum_{i=1}^{n_\\pi}h^{\\rm eff}(i)\n",
    "$$\n",
    "\n",
    "donde a $h^{\\rm eff}(i)$ se le conoce como Hamiltoniano efectivo, y representa las interacciones promediadas del i-ésimo electrón $\\pi$ con los núcleos y los otros electrones. Se debe cumplir la ecuación\n",
    "\n",
    "$$\n",
    "h^{\\rm eff}(i) \\phi_i = \\varepsilon_i \\phi_i\n",
    "$$\n",
    "\n",
    "donde $\\phi_i$ son los orbitales moleculares de Hückel. Aplicaremos la combinación lineal de orbitales atómicos\n",
    "\n",
    "$$\n",
    "\\phi_i(\\vec{r}) = \\sum_{\\mu} C_{\\mu i} \\, \\mu (\\vec{r}-\\vec{r}_i)\n",
    "$$\n",
    "\n",
    "donde $ \\mu (\\vec{r}-\\vec{r}_i)$ es un orbital atómico $\\mu$ centrado en la posición del núcleo $i$ ($\\vec{r}_i$).\n",
    "\n",
    "```\n",
    "\n",
    "Determinaremos los coeficientes que minimicen la energía, resolviendo la ecuación del método variacional lineal\n",
    "\n",
    "$$\n",
    "H_{\\pi}C = SC\\varepsilon\n",
    "$$"
   ]
  },
  {
   "cell_type": "markdown",
   "metadata": {},
   "source": [
    "**Importe las siguientes librerías**\n",
    "\n",
    "- numpy\n",
    "- sympy\n",
    "- pyplot de matplotlib"
   ]
  },
  {
   "cell_type": "code",
   "execution_count": 1,
   "metadata": {},
   "outputs": [],
   "source": [
    "# Librerías"
   ]
  },
  {
   "cell_type": "code",
   "execution_count": 2,
   "metadata": {
    "tags": [
     "hide-cell"
    ]
   },
   "outputs": [],
   "source": [
    "import numpy as np\n",
    "import sympy as sp\n",
    "from matplotlib import pyplot as plt"
   ]
  },
  {
   "cell_type": "markdown",
   "metadata": {},
   "source": [
    "El método de Hückel implica las siguientes aproximaciones\n",
    "\n",
    "1. El traslape entre el mismo orbital es uno, y entre orbitales distintos es cero.\n",
    "2. Los elementos diagonales, $h^{\\rm eff}_{ii}$ valen $\\alpha$\n",
    "3. Los elementos $h^{\\rm eff}_{ij}$ valen $\\beta$ si el i-ésimo átomo y el j-ésimo átomo son vecinos, y cero si no lo son.\n",
    "\n",
    "El valor de $\\alpha$ y $\\beta$ es negativo."
   ]
  },
  {
   "cell_type": "markdown",
   "metadata": {},
   "source": [
    "## Butadieno\n",
    "\n",
    "<img src=\"images/butadieno.png\" alt=\"butadieno\" width=\"150\"/>\n",
    "\n",
    "Considere al butadieno con la numeración que se muestra sobre cada carbono."
   ]
  },
  {
   "cell_type": "markdown",
   "metadata": {},
   "source": [
    "**Defina los símbolos $\\alpha$ y $\\beta$ con sympy.**"
   ]
  },
  {
   "cell_type": "code",
   "execution_count": 3,
   "metadata": {},
   "outputs": [],
   "source": [
    "# Defina alpha y beta"
   ]
  },
  {
   "cell_type": "code",
   "execution_count": 4,
   "metadata": {
    "tags": [
     "hide-cell"
    ]
   },
   "outputs": [],
   "source": [
    "alpha = sp.Symbol(\"alpha\")\n",
    "beta = sp.Symbol(\"beta\")"
   ]
  },
  {
   "cell_type": "markdown",
   "metadata": {},
   "source": [
    "**Construya la matriz S de $4 \\times 4$, donde cada columna y cada renglón corresponde a un renglón según su numeración.** Por ejemplo, la primera columna corresponde al carbono con el número 1, la segunda columna al carbono con el número 2, etc. Recuerde que\n",
    "\n",
    "$$\n",
    "S_{ij} = \\left\\{\n",
    "  \\begin{array}{lll}\n",
    "  1 & \\mathrm{si\\ } i=j \\\\\n",
    "  0 & \\mathrm{si\\ } i \\neq j\n",
    "  \\end{array}\n",
    "  \\right.\n",
    "$$\n",
    "\n",
    "Note que $S$ es la matriz identidad."
   ]
  },
  {
   "cell_type": "code",
   "execution_count": 5,
   "metadata": {
    "tags": [
     "hide-cell"
    ]
   },
   "outputs": [
    {
     "data": {
      "text/latex": [
       "$\\displaystyle \\left[\\begin{matrix}1 & 0 & 0 & 0\\\\0 & 1 & 0 & 0\\\\0 & 0 & 1 & 0\\\\0 & 0 & 0 & 1\\end{matrix}\\right]$"
      ],
      "text/plain": [
       "Matrix([\n",
       "[1, 0, 0, 0],\n",
       "[0, 1, 0, 0],\n",
       "[0, 0, 1, 0],\n",
       "[0, 0, 0, 1]])"
      ]
     },
     "execution_count": 5,
     "metadata": {},
     "output_type": "execute_result"
    }
   ],
   "source": [
    "S = sp.zeros(4)\n",
    "\n",
    "S[0,0] = 1\n",
    "S[1,1] = 1\n",
    "S[2,2] = 1\n",
    "S[3,3] = 1\n",
    "\n",
    "S"
   ]
  },
  {
   "cell_type": "markdown",
   "metadata": {},
   "source": [
    "**Construya la matriz $H$ de $4 \\times 4$, donde cada columna y cada renglón corresponde a un renglón según su numeración.** Por ejemplo, la primera columna corresponde al carbono con el número 1, la segunda columna al carbono con el número 2, etc. Recuerde que\n",
    "\n",
    "$$\n",
    "H_{ij} = \\left\\{\n",
    "  \\begin{array}{lll}\n",
    "  \\alpha & \\mathrm{si\\ } i=j \\\\\n",
    "  \\beta & \\mathrm{si\\ } i \\neq j \\mathrm{\\ pero\\ pertenecen\\ a\\ átomos\\ vecinos}\\\\\n",
    "  0 & \\mathrm{si\\ } i \\neq j \\mathrm{\\ pero\\ NO \\ pertenecen\\ a\\ átomos\\ vecinos}\\\\\n",
    "  \\end{array}\n",
    "  \\right.\n",
    "$$"
   ]
  },
  {
   "cell_type": "code",
   "execution_count": 6,
   "metadata": {},
   "outputs": [],
   "source": [
    "# Matriz H"
   ]
  },
  {
   "cell_type": "code",
   "execution_count": 7,
   "metadata": {
    "tags": [
     "hide-cell"
    ]
   },
   "outputs": [
    {
     "data": {
      "text/latex": [
       "$\\displaystyle \\left[\\begin{matrix}\\alpha & \\beta & 0 & 0\\\\\\beta & \\alpha & \\beta & 0\\\\0 & \\beta & \\alpha & \\beta\\\\0 & 0 & \\beta & \\alpha\\end{matrix}\\right]$"
      ],
      "text/plain": [
       "Matrix([\n",
       "[alpha,  beta,     0,     0],\n",
       "[ beta, alpha,  beta,     0],\n",
       "[    0,  beta, alpha,  beta],\n",
       "[    0,     0,  beta, alpha]])"
      ]
     },
     "execution_count": 7,
     "metadata": {},
     "output_type": "execute_result"
    }
   ],
   "source": [
    "H = sp.zeros(4)\n",
    "\n",
    "H[0,0] = alpha\n",
    "H[1,1] = alpha\n",
    "H[2,2] = alpha\n",
    "H[3,3] = alpha\n",
    "\n",
    "H[0,1] = beta\n",
    "H[1,0] = beta\n",
    "H[1,2] = beta\n",
    "H[2,1] = beta\n",
    "H[2,3] = beta\n",
    "H[3,2] = beta\n",
    "\n",
    "H"
   ]
  },
  {
   "cell_type": "markdown",
   "metadata": {},
   "source": [
    "Hay que resolver\n",
    "\n",
    "$$\n",
    "HC = SC\\varepsilon\n",
    "$$\n",
    "\n",
    "Note que como $S$ es la matriz identidad, en realidad hay que resolver\n",
    "\n",
    "$$\n",
    "HC = C\\varepsilon\n",
    "$$\n",
    "\n",
    "es decir, hay que calcular los vectores y valores propios de $H$.\n",
    "\n",
    "Para ello utilizaremos la instrucción\n",
    "~~~python\n",
    "H.eigenvects(simplify=True)\n",
    "~~~\n",
    "\n",
    "El primer número es el valor propio (energía orbital), el segundo número su repetición (degeneración) y el tercer número son los coeficientes no normalizados (orbital molecular)."
   ]
  },
  {
   "cell_type": "code",
   "execution_count": 8,
   "metadata": {},
   "outputs": [],
   "source": [
    "# Valores y vectores propios de H"
   ]
  },
  {
   "cell_type": "code",
   "execution_count": 9,
   "metadata": {
    "scrolled": true,
    "tags": [
     "hide-cell"
    ]
   },
   "outputs": [
    {
     "name": "stdout",
     "output_type": "stream",
     "text": [
      "⎡⎛                 ⎡⎡   -1   ⎤⎤⎞  ⎛                 ⎡⎡  1   ⎤⎤⎞  ⎛                 ⎡⎡   -1   ⎤⎤⎞  ⎛                 ⎡⎡  1   ⎤⎤⎞⎤\n",
      "⎢⎜                 ⎢⎢        ⎥⎥⎟  ⎜                 ⎢⎢      ⎥⎥⎟  ⎜                 ⎢⎢        ⎥⎥⎟  ⎜                 ⎢⎢      ⎥⎥⎟⎥\n",
      "⎢⎜                 ⎢⎢ 1   √5 ⎥⎥⎟  ⎜                 ⎢⎢1   √5⎥⎥⎟  ⎜                 ⎢⎢ 1   √5 ⎥⎥⎟  ⎜                 ⎢⎢1   √5⎥⎥⎟⎥\n",
      "⎢⎜                 ⎢⎢ ─ - ── ⎥⎥⎟  ⎜                 ⎢⎢─ + ──⎥⎥⎟  ⎜                 ⎢⎢ ─ + ── ⎥⎥⎟  ⎜                 ⎢⎢─ - ──⎥⎥⎟⎥\n",
      "⎢⎜    β   √5⋅β     ⎢⎢ 2   2  ⎥⎥⎟  ⎜    β   √5⋅β     ⎢⎢2   2 ⎥⎥⎟  ⎜    √5⋅β   β     ⎢⎢ 2   2  ⎥⎥⎟  ⎜    √5⋅β   β     ⎢⎢2   2 ⎥⎥⎟⎥\n",
      "⎢⎜α - ─ + ────, 1, ⎢⎢        ⎥⎥⎟, ⎜α + ─ + ────, 1, ⎢⎢      ⎥⎥⎟, ⎜α - ──── - ─, 1, ⎢⎢        ⎥⎥⎟, ⎜α - ──── + ─, 1, ⎢⎢      ⎥⎥⎟⎥\n",
      "⎢⎜    2    2       ⎢⎢  1   √5⎥⎥⎟  ⎜    2    2       ⎢⎢1   √5⎥⎥⎟  ⎜     2     2     ⎢⎢  √5   1⎥⎥⎟  ⎜     2     2     ⎢⎢1   √5⎥⎥⎟⎥\n",
      "⎢⎜                 ⎢⎢- ─ + ──⎥⎥⎟  ⎜                 ⎢⎢─ + ──⎥⎥⎟  ⎜                 ⎢⎢- ── - ─⎥⎥⎟  ⎜                 ⎢⎢─ - ──⎥⎥⎟⎥\n",
      "⎢⎜                 ⎢⎢  2   2 ⎥⎥⎟  ⎜                 ⎢⎢2   2 ⎥⎥⎟  ⎜                 ⎢⎢  2    2⎥⎥⎟  ⎜                 ⎢⎢2   2 ⎥⎥⎟⎥\n",
      "⎢⎜                 ⎢⎢        ⎥⎥⎟  ⎜                 ⎢⎢      ⎥⎥⎟  ⎜                 ⎢⎢        ⎥⎥⎟  ⎜                 ⎢⎢      ⎥⎥⎟⎥\n",
      "⎣⎝                 ⎣⎣   1    ⎦⎦⎠  ⎝                 ⎣⎣  1   ⎦⎦⎠  ⎝                 ⎣⎣   1    ⎦⎦⎠  ⎝                 ⎣⎣  1   ⎦⎦⎠⎦\n"
     ]
    }
   ],
   "source": [
    "sp.pprint(H.eigenvects(simplify=True))"
   ]
  },
  {
   "cell_type": "markdown",
   "metadata": {},
   "source": [
    "**Extra**. Dibuje a mano una representación esquemática del diagrama de orbitales moleculares según las energías que obtuvo. Las energías son\n",
    "\n",
    "$$\\varepsilon_1 = \\alpha + \\left(\\frac{1+\\sqrt{5}}{2} \\right)\\beta$$\n",
    "$$\\varepsilon_2 = \\alpha + \\left(\\frac{-1+\\sqrt{5}}{2} \\right)\\beta$$\n",
    "$$\\varepsilon_3 = \\alpha + \\left(\\frac{1-\\sqrt{5}}{2} \\right)\\beta$$\n",
    "$$\\varepsilon_4 = \\alpha + \\left(\\frac{-1-\\sqrt{5}}{2} \\right)\\beta$$"
   ]
  },
  {
   "cell_type": "code",
   "execution_count": 10,
   "metadata": {
    "tags": [
     "hide-input"
    ]
   },
   "outputs": [
    {
     "data": {
      "image/png": "[encoded data removed]",
      "text/plain": [
       "<Figure size 432x288 with 1 Axes>"
      ]
     },
     "metadata": {
      "needs_background": "light"
     },
     "output_type": "display_data"
    }
   ],
   "source": [
    "alpha = -1\n",
    "beta = -1\n",
    "\n",
    "plt.hlines(alpha + (-1-np.sqrt(5))/2*beta,1,2,label=r'$\\varepsilon_1 = \\alpha + \\left(\\frac{-1-\\sqrt{5}}{2}\\right)\\beta$',colors='y')\n",
    "plt.hlines(alpha + (1-np.sqrt(5))/2*beta,1,2,label=r'$\\varepsilon_1 = \\alpha + \\left(\\frac{1-\\sqrt{5}}{2}\\right)\\beta$',colors='r')\n",
    "plt.hlines(alpha + (-1+np.sqrt(5))/2*beta,1,2,label=r'$\\varepsilon_1 = \\alpha + \\left(\\frac{-1+\\sqrt{5}}{2}\\right)\\beta$',colors='b')\n",
    "plt.hlines(alpha + (1+np.sqrt(5))/2*beta,1,2,label=r'$\\varepsilon_1 = \\alpha + \\left(\\frac{1+\\sqrt{5}}{2}\\right)\\beta$',colors='g')\n",
    "\n",
    "plt.xlim(0,4)\n",
    "plt.legend()\n",
    "plt.show()"
   ]
  },
  {
   "cell_type": "markdown",
   "metadata": {},
   "source": [
    "## Benceno\n",
    "\n",
    "<img src=\"images/benceno.png\" alt=\"benceno\" width=\"150\"/>\n",
    "\n",
    "Considere al benceno con la numeración que se muestra sobre cada carbono."
   ]
  },
  {
   "cell_type": "markdown",
   "metadata": {},
   "source": [
    "**Defina los símbolos $\\alpha$ y $\\beta$ con sympy.**"
   ]
  },
  {
   "cell_type": "code",
   "execution_count": 11,
   "metadata": {},
   "outputs": [],
   "source": [
    "# Defina alpha y beta"
   ]
  },
  {
   "cell_type": "code",
   "execution_count": 12,
   "metadata": {
    "tags": [
     "hide-cell"
    ]
   },
   "outputs": [],
   "source": [
    "alpha = sp.Symbol(\"alpha\")\n",
    "beta = sp.Symbol(\"beta\")"
   ]
  },
  {
   "cell_type": "markdown",
   "metadata": {},
   "source": [
    "**Construya la matriz S de $6 \\times 6$, donde cada columna y cada renglón corresponde a un renglón según su numeración.**\n",
    "\n",
    "$$\n",
    "S_{ij} = \\left\\{\n",
    "  \\begin{array}{lll}\n",
    "  1 & \\mathrm{si\\ } i=j \\\\\n",
    "  0 & \\mathrm{si\\ } i \\neq j\n",
    "  \\end{array}\n",
    "  \\right.\n",
    "$$"
   ]
  },
  {
   "cell_type": "code",
   "execution_count": 13,
   "metadata": {
    "tags": [
     "hide-cell"
    ]
   },
   "outputs": [
    {
     "data": {
      "text/latex": [
       "$\\displaystyle \\left[\\begin{matrix}1 & 0 & 0 & 0 & 0 & 0\\\\0 & 1 & 0 & 0 & 0 & 0\\\\0 & 0 & 1 & 0 & 0 & 0\\\\0 & 0 & 0 & 1 & 0 & 0\\\\0 & 0 & 0 & 0 & 1 & 0\\\\0 & 0 & 0 & 0 & 0 & 1\\end{matrix}\\right]$"
      ],
      "text/plain": [
       "Matrix([\n",
       "[1, 0, 0, 0, 0, 0],\n",
       "[0, 1, 0, 0, 0, 0],\n",
       "[0, 0, 1, 0, 0, 0],\n",
       "[0, 0, 0, 1, 0, 0],\n",
       "[0, 0, 0, 0, 1, 0],\n",
       "[0, 0, 0, 0, 0, 1]])"
      ]
     },
     "execution_count": 13,
     "metadata": {},
     "output_type": "execute_result"
    }
   ],
   "source": [
    "S = sp.zeros(6)\n",
    "\n",
    "S[0,0] = 1\n",
    "S[1,1] = 1\n",
    "S[2,2] = 1\n",
    "S[3,3] = 1\n",
    "S[4,4] = 1\n",
    "S[5,5] = 1\n",
    "\n",
    "S"
   ]
  },
  {
   "cell_type": "markdown",
   "metadata": {},
   "source": [
    "**Construya la matriz $H$ de $4 \\times 4$, donde cada columna y cada renglón corresponde a un renglón según su numeración.** Por ejemplo, la primera columna corresponde al carbono con el número 1, la segunda columna al carbono con el número 2, etc. Recuerde que\n",
    "\n",
    "$$\n",
    "H_{ij} = \\left\\{\n",
    "  \\begin{array}{lll}\n",
    "  \\alpha & \\mathrm{si\\ } i=j \\\\\n",
    "  \\beta & \\mathrm{si\\ } i \\neq j \\mathrm{\\ pero\\ pertenecen\\ a\\ átomos\\ vecinos}\\\\\n",
    "  0 & \\mathrm{si\\ } i \\neq j \\mathrm{\\ pero\\ NO \\ pertenecen\\ a\\ átomos\\ vecinos}\\\\\n",
    "  \\end{array}\n",
    "  \\right.\n",
    "$$"
   ]
  },
  {
   "cell_type": "code",
   "execution_count": 14,
   "metadata": {},
   "outputs": [],
   "source": [
    "# Matriz H"
   ]
  },
  {
   "cell_type": "code",
   "execution_count": 15,
   "metadata": {
    "tags": [
     "hide-cell"
    ]
   },
   "outputs": [
    {
     "data": {
      "text/latex": [
       "$\\displaystyle \\left[\\begin{matrix}\\alpha & \\beta & 0 & 0 & 0 & \\beta\\\\\\beta & \\alpha & \\beta & 0 & 0 & 0\\\\0 & \\beta & \\alpha & \\beta & 0 & 0\\\\0 & 0 & \\beta & \\alpha & \\beta & 0\\\\0 & 0 & 0 & \\beta & \\alpha & \\beta\\\\\\beta & 0 & 0 & 0 & \\beta & \\alpha\\end{matrix}\\right]$"
      ],
      "text/plain": [
       "Matrix([\n",
       "[alpha,  beta,     0,     0,     0,  beta],\n",
       "[ beta, alpha,  beta,     0,     0,     0],\n",
       "[    0,  beta, alpha,  beta,     0,     0],\n",
       "[    0,     0,  beta, alpha,  beta,     0],\n",
       "[    0,     0,     0,  beta, alpha,  beta],\n",
       "[ beta,     0,     0,     0,  beta, alpha]])"
      ]
     },
     "execution_count": 15,
     "metadata": {},
     "output_type": "execute_result"
    }
   ],
   "source": [
    "H = sp.zeros(6)\n",
    "\n",
    "H[0,0] = alpha\n",
    "H[1,1] = alpha\n",
    "H[2,2] = alpha\n",
    "H[3,3] = alpha\n",
    "H[4,4] = alpha\n",
    "H[5,5] = alpha\n",
    "\n",
    "H[0,1] = beta\n",
    "H[0,5] = beta\n",
    "H[1,0] = beta\n",
    "H[1,2] = beta\n",
    "H[2,1] = beta\n",
    "H[2,3] = beta\n",
    "H[3,2] = beta\n",
    "H[3,4] = beta\n",
    "H[4,3] = beta\n",
    "H[4,5] = beta\n",
    "H[5,4] = beta\n",
    "H[5,0] = beta\n",
    "\n",
    "H"
   ]
  },
  {
   "cell_type": "markdown",
   "metadata": {},
   "source": [
    "Note que $H$ en benceno es similar, pero no igual al caso del butadieno.\n",
    "\n",
    "Hay que resolver\n",
    "\n",
    "$$\n",
    "HC = SC\\varepsilon\n",
    "$$\n",
    "\n",
    "Note que como $S$ es la matriz identidad, en realidad hay que resolver\n",
    "\n",
    "$$\n",
    "HC = C\\varepsilon\n",
    "$$"
   ]
  },
  {
   "cell_type": "code",
   "execution_count": 16,
   "metadata": {},
   "outputs": [],
   "source": [
    "# Valores y vectores propios de H"
   ]
  },
  {
   "cell_type": "code",
   "execution_count": 17,
   "metadata": {
    "scrolled": true,
    "tags": [
     "hide-cell"
    ]
   },
   "outputs": [
    {
     "name": "stdout",
     "output_type": "stream",
     "text": [
      "⎡⎛            ⎡⎡-1⎤⎤⎞  ⎛          ⎡⎡-1⎤  ⎡-1⎤⎤⎞  ⎛          ⎡⎡-1⎤  ⎡1 ⎤⎤⎞  ⎛            ⎡⎡1⎤⎤⎞⎤\n",
      "⎢⎜            ⎢⎢  ⎥⎥⎟  ⎜          ⎢⎢  ⎥  ⎢  ⎥⎥⎟  ⎜          ⎢⎢  ⎥  ⎢  ⎥⎥⎟  ⎜            ⎢⎢ ⎥⎥⎟⎥\n",
      "⎢⎜            ⎢⎢1 ⎥⎥⎟  ⎜          ⎢⎢1 ⎥  ⎢0 ⎥⎥⎟  ⎜          ⎢⎢-1⎥  ⎢0 ⎥⎥⎟  ⎜            ⎢⎢1⎥⎥⎟⎥\n",
      "⎢⎜            ⎢⎢  ⎥⎥⎟  ⎜          ⎢⎢  ⎥  ⎢  ⎥⎥⎟  ⎜          ⎢⎢  ⎥  ⎢  ⎥⎥⎟  ⎜            ⎢⎢ ⎥⎥⎟⎥\n",
      "⎢⎜            ⎢⎢-1⎥⎥⎟  ⎜          ⎢⎢0 ⎥  ⎢1 ⎥⎥⎟  ⎜          ⎢⎢0 ⎥  ⎢-1⎥⎥⎟  ⎜            ⎢⎢1⎥⎥⎟⎥\n",
      "⎢⎜α - 2⋅β, 1, ⎢⎢  ⎥⎥⎟, ⎜α - β, 2, ⎢⎢  ⎥, ⎢  ⎥⎥⎟, ⎜α + β, 2, ⎢⎢  ⎥, ⎢  ⎥⎥⎟, ⎜α + 2⋅β, 1, ⎢⎢ ⎥⎥⎟⎥\n",
      "⎢⎜            ⎢⎢1 ⎥⎥⎟  ⎜          ⎢⎢-1⎥  ⎢-1⎥⎥⎟  ⎜          ⎢⎢1 ⎥  ⎢-1⎥⎥⎟  ⎜            ⎢⎢1⎥⎥⎟⎥\n",
      "⎢⎜            ⎢⎢  ⎥⎥⎟  ⎜          ⎢⎢  ⎥  ⎢  ⎥⎥⎟  ⎜          ⎢⎢  ⎥  ⎢  ⎥⎥⎟  ⎜            ⎢⎢ ⎥⎥⎟⎥\n",
      "⎢⎜            ⎢⎢-1⎥⎥⎟  ⎜          ⎢⎢1 ⎥  ⎢0 ⎥⎥⎟  ⎜          ⎢⎢1 ⎥  ⎢0 ⎥⎥⎟  ⎜            ⎢⎢1⎥⎥⎟⎥\n",
      "⎢⎜            ⎢⎢  ⎥⎥⎟  ⎜          ⎢⎢  ⎥  ⎢  ⎥⎥⎟  ⎜          ⎢⎢  ⎥  ⎢  ⎥⎥⎟  ⎜            ⎢⎢ ⎥⎥⎟⎥\n",
      "⎣⎝            ⎣⎣1 ⎦⎦⎠  ⎝          ⎣⎣0 ⎦  ⎣1 ⎦⎦⎠  ⎝          ⎣⎣0 ⎦  ⎣1 ⎦⎦⎠  ⎝            ⎣⎣1⎦⎦⎠⎦\n"
     ]
    }
   ],
   "source": [
    "sp.pprint(H.eigenvects(simplify=True))"
   ]
  },
  {
   "cell_type": "markdown",
   "metadata": {},
   "source": [
    "**Extra**. Dibuje una representación esquemática del diagrama de orbitales moleculares según las energías que obtuvo. Las energías son\n",
    "\n",
    "$$\\varepsilon_1 = \\alpha - 2\\beta$$\n",
    "$$\\varepsilon_2 = \\alpha - \\beta$$\n",
    "$$\\varepsilon_3 = \\alpha - \\beta$$\n",
    "$$\\varepsilon_4 = \\alpha + \\beta$$\n",
    "$$\\varepsilon_5 = \\alpha + \\beta$$\n",
    "$$\\varepsilon_6 = \\alpha + 2\\beta$$\n",
    "\n",
    "Note que hay degeneración."
   ]
  },
  {
   "cell_type": "code",
   "execution_count": 18,
   "metadata": {
    "tags": [
     "hide-input"
    ]
   },
   "outputs": [
    {
     "data": {
      "image/png": "[encoded data removed]",
      "text/plain": [
       "<Figure size 432x288 with 1 Axes>"
      ]
     },
     "metadata": {
      "needs_background": "light"
     },
     "output_type": "display_data"
    }
   ],
   "source": [
    "alpha = -1\n",
    "beta = -1\n",
    "\n",
    "plt.hlines(alpha - 2*beta,1,2,label=r'$\\varepsilon_1 = \\alpha - 2\\beta$',colors='g')\n",
    "plt.hlines(alpha - beta,0,1,label=r'$\\varepsilon_2 = \\alpha - \\beta$',colors='b')\n",
    "plt.hlines(alpha - beta,2,3,label=r'$\\varepsilon_3 = \\alpha - \\beta$',colors='b')\n",
    "plt.hlines(alpha + beta,0,1,label=r'$\\varepsilon_4 = \\alpha + \\beta$',colors='r')\n",
    "plt.hlines(alpha + beta,2,3,label=r'$\\varepsilon_5 = \\alpha + \\beta$',colors='r')\n",
    "plt.hlines(alpha + 2*beta,1,2,label=r'$\\varepsilon_6  = \\alpha + 2\\beta$',colors='y')\n",
    "\n",
    "plt.xlim(0,4)\n",
    "plt.legend()\n",
    "plt.show()"
   ]
  },
  {
   "cell_type": "markdown",
   "metadata": {},
   "source": [
    "<img src=\"images/benceno-hmo1.png\" alt=\"benceno-hmo1\" width=\"100\"/>\n",
    "\n",
    "<img src=\"images/benceno-hmo2.png\" alt=\"benceno-hmo2\" width=\"120\"/>\n",
    "\n",
    "<img src=\"images/benceno-hmo3.png\" alt=\"benceno-hmo3\" width=\"80\"/>\n",
    "\n",
    "<img src=\"images/benceno-hmo4.png\" alt=\"benceno-hmo4\" width=\"120\"/>\n",
    "\n",
    "<img src=\"images/benceno-hmo5.png\" alt=\"benceno-hmo5\" width=\"80\"/>\n",
    "\n",
    "<img src=\"images/benceno-hmo6.png\" alt=\"benceno-hmo6\" width=\"120\"/>"
   ]
  },
  {
   "cell_type": "markdown",
   "metadata": {},
   "source": [
    "## Referencias\n",
    "\n",
    "- E.F. Healy, Huckel Calculations using Mathematica, J. Chem. Educ. 72, A120 (1995).\n",
    "- R.M. Hanson, Huckel Determinant Solver, J. Chem. Educ. 79, 1379 (2002).\n",
    "- L.J. Schaad y B.A. Hess, Huckel theory and aromatically, J. Chem. Educ. 51, 640 (1974).\n",
    "- Z. Chen, Graphical Representation of Hückel Molecular Orbitals, J. Chem. Educ. 97, 448 (2020).\n",
    "- P. W. Atkins, y R. Friedman, Molecular Quantum Mechanics (Oxford University Press, 2005)."
   ]
  }
 ],
 "metadata": {
  "celltoolbar": "Tags",
  "kernelspec": {
   "display_name": "Python 3 (ipykernel)",
   "language": "python",
   "name": "python3"
  },
  "language_info": {
   "codemirror_mode": {
    "name": "ipython",
    "version": 3
   },
   "file_extension": ".py",
   "mimetype": "text/x-python",
   "name": "python",
   "nbconvert_exporter": "python",
   "pygments_lexer": "ipython3",
   "version": "3.9.12"
  }
 },
 "nbformat": 4,
 "nbformat_minor": 2
}
