{
 "cells": [
  {
   "cell_type": "markdown",
   "metadata": {},
   "source": [
    "# Solución Radial"
   ]
  },
  {
   "cell_type": "markdown",
   "metadata": {},
   "source": [
    "El sistema consta de un electrón y un núcleo (protón) con una interacción inversamente proporcional a la distancia entre ellos.\n",
    "\n",
    "El Hamiltoniano de este sistema contiene la energía cinética del electrón, la energía cinética del núcleo y la interacción coulómbica núcleo-electrón.\n",
    "\n",
    "$$\n",
    "H=-\\frac{\\hbar^2}{2m_N}\\nabla^2_N-\\frac{\\hbar^2}{2m_e}\\nabla^2_e-\\frac{e^2}{4\\pi\\varepsilon_0|\\vec{r}_N-\\vec{r}_e|}\n",
    "$$\n",
    "\n",
    "```{margin}\n",
    "En los `átomos hidrogenoides` consideramos la carga del núcleo, $Ze$, en el término del `potencial` y escribir $\\frac{Ze^2}{4\\pi\\varepsilon_0|\\vec{r}_N-\\vec{r}_e|}$.\n",
    "```\n",
    "\n",
    "```{margin}\n",
    "Los `átomos hidrogenoides` son aquellos que solo tienen un electrón. Por ejemplo `H`, `He`$^+$, `Li`$^{2+}$, `C`$^{5+}$, `U`$^{91+}$.\n",
    "```\n",
    "\n",
    "\n",
    "La ecuación de Schrödinger a resolver es\n",
    "\n",
    "$$\n",
    "\\left(-\\frac{\\hbar^2}{2m_N}\\nabla^2_N-\\frac{\\hbar^2}{2m_e}\\nabla^2_e-\\frac{e^2}{4\\pi\\varepsilon_0|\\vec{r}_N-\\vec{r}_e|}\\right) \\Psi = E \\Psi\n",
    "$$\n",
    "\n",
    "```{admonition} Inserto matemático: Cambio a sistema de masa reducida\n",
    ":class: dropdown\n",
    "\n",
    "El problema se puede simplificar al utilizar coordenadas de masa reducida. La `masa reducida` tiene masa $\\mu$ y coordenadas $r$, el `centro de masa` tiene masa $m_T$ y coordenadas $R_{\\rm cm}$. Para ver como hacer este cambio, vea {doc}`Rotor`.\n",
    "\n",
    "La nueva ecuación de Schrödinger es\n",
    "\n",
    "$$\n",
    "\\left(-\\frac{\\hbar^2}{2m_T}\\nabla^2_{\\cm cm}-\\frac{\\hbar^2}{2\\mu}\\nabla^2_{\\mu}-\\frac{e^2}{4\\pi\\varepsilon_0r}\\right) \\Psi = E \\Psi\n",
    "$$\n",
    "\n",
    "La eigenfunción $\\Psi$ de la ecuación anterior depende de las coordenadas del centro de masa, $R_{\\rm cm}$ y de las coordenadas de la masa reducida, $r$. Se propone una solución por separación de variables, tal que $\\Psi(R,r) = \\Phi(R_{\\rm cm}) \\psi(r)$. Al sustituir en la ecuación de Schrodinger se obtienen 2 ecuaciones\n",
    "\n",
    "$$\n",
    "\\left(-\\frac{\\hbar^2}{2m_T}\\nabla^2_{cm}\\right) \\Phi = E_{cm} \\Phi\n",
    "$$\n",
    "\n",
    "$$\n",
    "\\left(-\\frac{\\hbar^2}{2\\mu}\\nabla^2_{\\mu}-\\frac{e^2}{4\\pi\\varepsilon_0r}\\right) \\psi = E \\psi\n",
    "$$\n",
    "\n",
    "La primera ecuación corresponde al movimiento de una partícula libre.\n",
    "\n",
    "Para resolver la segunda ecuación cambiamos a coordenadas esféricas, recordando que (vea {doc}`Esfera`)\n",
    "\n",
    "$$\n",
    "\\nabla^2_{\\mu}=\\left(\\frac{\\partial^2}{\\partial x^2} + \\frac{\\partial^2}{\\partial y^2} + \\frac{\\partial^2}{\\partial z^2} \\right) = \\left( \\frac{1}{r} \\frac{\\partial^2}{\\partial r^2} r + \\frac{1}{r^2} \\Lambda^2 \\right) \n",
    "$$\n",
    "\n",
    "Entonces\n",
    "\n",
    "$$\n",
    "\\left(-\\frac{\\hbar^2}{2\\mu} \\frac{1}{r} \\frac{\\partial^2}{\\partial r^2} r -\\frac{\\hbar^2}{2\\mu} \\frac{1}{r^2} \\Lambda^2 -\\frac{e^2}{4\\pi\\varepsilon_0r}\\right) \\psi = E \\psi\n",
    "$$\n",
    "```\n",
    "\n",
    "```{admonition} Inserto matemático: Separación de variables\n",
    ":class: dropdown\n",
    "\n",
    "Se propone que la eigenfunción $\\psi$ puede ser separada en una parte radial y una parte angular, es decir\n",
    "\n",
    "$$\n",
    "\\psi=R(r)Y(\\theta,\\phi)\n",
    "$$\n",
    "\n",
    "Esto genera una ecuación a resolver para la parte radial (y una para la parte angular que trataremos posteriormente)\n",
    "\n",
    "$$\n",
    "-\\frac{\\hbar^2}{2\\mu} \\frac{1}{r} \\frac{d^2(rR)}{dr^2} - \\left[ \\frac{e^2}{4\\pi\\varepsilon_0r} -\\frac{l(l+1)\\hbar^2}{2\\mu r^2} \\right] R = ER \n",
    "$$\n",
    "```\n",
    "\n",
    "Las soluciones a la ecuación radial son\n",
    "\n",
    "$$\n",
    "R_{n,l}(r) = -N_{n,l} \\left( \\frac{2r}{na_0} \\right)^l e^{-r/na_0} L_{n+l}^{2l+1} \\left( \\frac{2r}{n a_0} \\right)\n",
    "$$\n",
    "\n",
    "aquí han surgido los números cuánticos\n",
    "\n",
    "```{margin}\n",
    "$n$ es el `número cuántico principal`.\n",
    "```\n",
    "$$\n",
    "n=1,2,3,...\n",
    "$$\n",
    "\n",
    "```{margin}\n",
    "$l$ es el `número cuántico azimutal` o `momento angular`.\n",
    "```\n",
    "$$\n",
    "l=0,...,n-1\n",
    "$$\n",
    "\n",
    "$N_{n,l}$ toma la forma\n",
    "\n",
    "$$\n",
    "N_{n,l} = \\left( \\frac{2}{na_0} \\right)^{3/2} \\sqrt{\\frac{(n-l-1)!}{2n[(n+l)!]^3}}\n",
    "$$\n",
    "\n",
    "$L_{n+l}^{2l+1}$ son los polinomios asociados de Laguerre\n",
    "\n",
    "```{admonition} Inserto matemático: Polinomios de Laguerre\n",
    ":class: dropdown\n",
    "\n",
    "$$\n",
    "L_{k}^N (r) = \\frac{d^N}{dr^N} L_k(r)\n",
    "$$\n",
    "\n",
    "$$\n",
    "L_{k} (r) = e^r \\frac{d^k}{dr^k} \\left(r^k e^{-r}\\right)\n",
    "$$\n",
    "```"
   ]
  },
  {
   "cell_type": "markdown",
   "metadata": {},
   "source": [
    "**Importe las siguientes librerías**\n",
    "\n",
    "- pyplot de matplotlib\n",
    "- numpy\n",
    "- derivative de scipy.misc\n",
    "- laguerre de scipy.special"
   ]
  },
  {
   "cell_type": "code",
   "execution_count": 1,
   "metadata": {},
   "outputs": [],
   "source": [
    "# Librerías"
   ]
  },
  {
   "cell_type": "code",
   "execution_count": 2,
   "metadata": {
    "tags": [
     "hide-input"
    ]
   },
   "outputs": [],
   "source": [
    "from matplotlib import pyplot as plt\n",
    "import numpy as np\n",
    "from scipy.misc import derivative\n",
    "from scipy.special import laguerre"
   ]
  },
  {
   "cell_type": "markdown",
   "metadata": {},
   "source": [
    "**Defina una función que reciba valores de $n$ y $l$ y regresen la función $R(r)$**"
   ]
  },
  {
   "cell_type": "code",
   "execution_count": 3,
   "metadata": {},
   "outputs": [],
   "source": [
    "# def R(r)"
   ]
  },
  {
   "cell_type": "code",
   "execution_count": 4,
   "metadata": {
    "tags": [
     "hide-cell"
    ]
   },
   "outputs": [],
   "source": [
    "def R_func(r,n,l):\n",
    "    N = (2/(n*a0))**(3/2)*np.sqrt((np.math.factorial(n-l-1))/(2*n*((np.math.factorial(n+l)))**3))\n",
    "    L = laguerre(n+l)\n",
    "    L = L/np.abs(L[n+l])\n",
    "    assoc_L = derivative(L,2*r/(n*a0),n=2*l+1,order=2*l+3)\n",
    "    R = -N*(2*r/(n*a0))**l*np.exp(-r/(n*a0))*assoc_L\n",
    "    \n",
    "    return R"
   ]
  },
  {
   "cell_type": "markdown",
   "metadata": {},
   "source": [
    "**Grafique el cuadrado de la función de densidad de probabilidad del orbital 1s, $R^2_{n=1,l=0}$, y su función de distribución radial $r^2R^2_{n=1,l=0}$**"
   ]
  },
  {
   "cell_type": "code",
   "execution_count": 5,
   "metadata": {},
   "outputs": [],
   "source": [
    "# Gráfica"
   ]
  },
  {
   "cell_type": "code",
   "execution_count": 6,
   "metadata": {
    "tags": [
     "hide-input"
    ]
   },
   "outputs": [
    {
     "data": {
      "image/png": "[encoded data removed]",
      "text/plain": [
       "<Figure size 432x288 with 1 Axes>"
      ]
     },
     "metadata": {
      "needs_background": "light"
     },
     "output_type": "display_data"
    },
    {
     "data": {
      "image/png": "[encoded data removed]",
      "text/plain": [
       "<Figure size 432x288 with 1 Axes>"
      ]
     },
     "metadata": {
      "needs_background": "light"
     },
     "output_type": "display_data"
    }
   ],
   "source": [
    "r=np.linspace(0,25,100)\n",
    "\n",
    "a0=1.0\n",
    "\n",
    "n = 1\n",
    "l = 0\n",
    "\n",
    "R = R_func(r,n,l)\n",
    "\n",
    "plt.plot(r,R**2,label=n)\n",
    "plt.xlabel(\"$r$\")\n",
    "plt.ylabel(\"$R^2$\")\n",
    "plt.title(\"Función de densidad de probabilidad\")\n",
    "plt.show()\n",
    "\n",
    "plt.plot(r,4*np.pi*r**2*R**2,label=n)\n",
    "plt.xlabel(\"$r$\")\n",
    "plt.ylabel(\"$r^2R^2$\")\n",
    "plt.title(\"Función de distribución radial\")\n",
    "plt.show()"
   ]
  },
  {
   "cell_type": "markdown",
   "metadata": {},
   "source": [
    "**Realice la gráfica de $R^2(r)$ (el cuadrado de la parte radial de la eigenfunción) para los orbitales 1s ($n=1$, $l=0$),2s ($n=2$, $l=0$),3s ($n=3$, $l=0$) y 4s ($n=4$, $l=0$), y de $r^2R^2$.**"
   ]
  },
  {
   "cell_type": "code",
   "execution_count": 7,
   "metadata": {},
   "outputs": [],
   "source": [
    "# Gráfica"
   ]
  },
  {
   "cell_type": "code",
   "execution_count": 8,
   "metadata": {
    "tags": [
     "hide-input"
    ]
   },
   "outputs": [
    {
     "data": {
      "image/png": "[encoded data removed]",
      "text/plain": [
       "<Figure size 432x288 with 1 Axes>"
      ]
     },
     "metadata": {
      "needs_background": "light"
     },
     "output_type": "display_data"
    },
    {
     "data": {
      "image/png": "[encoded data removed]",
      "text/plain": [
       "<Figure size 432x288 with 1 Axes>"
      ]
     },
     "metadata": {
      "needs_background": "light"
     },
     "output_type": "display_data"
    }
   ],
   "source": [
    "#Cambiar aqui para ajustar limites del eje X\n",
    "r=np.linspace(0,25,100)\n",
    "\n",
    "#Cambiar aqui para usar s,p,d,etc\n",
    "l=0\n",
    "#Cambiar aquí para elegir limites de los numeros cuanticos n\n",
    "n_min=1\n",
    "n_max=4\n",
    "\n",
    "for n in range(n_min,n_max+1):\n",
    "    R = R_func(r,n,l)\n",
    "    plt.plot(r,R**2,label=n)\n",
    "\n",
    "plt.legend()\n",
    "#Cambiar aqui los titulos de los ejes\n",
    "plt.xlabel(\"$r$\")\n",
    "plt.ylabel(\"$R^2$\")\n",
    "plt.title(\"$R^2(r)$ 1s, 2s ,3s y 4s\")\n",
    "plt.show()\n",
    "\n",
    "for n in range(n_min,n_max+1):\n",
    "    R = R_func(r,n,l)\n",
    "    plt.plot(r,r**2*R**2,label=n)\n",
    "\n",
    "plt.legend()\n",
    "#Cambiar aqui los titulos de los ejes\n",
    "plt.xlabel(\"$r$\")\n",
    "plt.ylabel(\"$r^2R^2$\")\n",
    "plt.title(\"$r^2R^2(r)$ 1s, 2s ,3s y 4s\")\n",
    "plt.show()"
   ]
  },
  {
   "cell_type": "code",
   "execution_count": 9,
   "metadata": {
    "tags": [
     "remove-cell"
    ]
   },
   "outputs": [],
   "source": [
    "from OptMultiple import MultipleChoice"
   ]
  },
  {
   "cell_type": "code",
   "execution_count": 10,
   "metadata": {
    "tags": [
     "remove-input"
    ]
   },
   "outputs": [
    {
     "data": {
      "text/html": [
       "<div class=\"note admonition\"><p class=\"admonition-title\">Pregunta</p><p><span class=\"math notranslate nohighlight\">¿Cuántos máximos tiene el cuadrado de la parte radial del orbital 1s?</span></p><form><input type=\"radio\" name=\"answer\" value=\"Uno\"><span class=\"math notranslate nohighlight\">Uno</span><br><input type=\"radio\" name=\"answer\" value=\"Dos\"><span class=\"math notranslate nohighlight\">Dos</span><br><input type=\"radio\" name=\"answer\" value=\"Tres\"><span class=\"math notranslate nohighlight\">Tres</span><br><input type=\"radio\" name=\"answer\" value=\"Diverge en cero\"><span class=\"math notranslate nohighlight\">Diverge en cero</span><br></form>\n",
       "<details class=\"toggle-details\">\n",
       "<summary class=\"toggle-details__summary\">\n",
       "<svg xmlns=\"http://www.w3.org/2000/svg\" class=\"tb-icon toggle-chevron-right\" width=\"44\" height=\"44\" viewBox=\"0 0 24 24\" stroke-width=\"1.5\" stroke=\"#000000\" fill=\"none\" stroke-linecap=\"round\" stroke-linejoin=\"round\">\n",
       "<path stroke=\"none\" d=\"M0 0h24v24H0z\" fill=\"none\"></path>\n",
       "<polyline points=\"9 6 15 12 9 18\"></polyline>\n",
       "</svg>\n",
       "<span class=\"toggle-details__summary-text\">Mostrar respuesta</span>\n",
       "</summary>\n",
       "<div class=\"cell_output docutils container\">\n",
       "<div><span class=\"math notranslate nohighlight\">La respuesta correcta es: <br><b>Diverge en cero</b><br><span class=\"math notranslate nohighlight\">La parte radial de la eigenfunción es \\(R_{n=1,l=0}^2(r)\\).</span></span></div>\n",
       "</div></details>\n",
       "</div)"
      ],
      "text/plain": [
       "<OptMultiple.MultipleChoice at 0x15008919bdf0>"
      ]
     },
     "execution_count": 10,
     "metadata": {},
     "output_type": "execute_result"
    }
   ],
   "source": [
    "question = \"¿Cuántos máximos tiene el cuadrado de la parte radial del orbital 1s?\"\n",
    "answers = [\n",
    "    \"Uno\",\n",
    "    \"Dos\",\n",
    "    \"Tres\",\n",
    "    \"Diverge en cero\"\n",
    "]\n",
    "explanation = (\n",
    "    \"La parte radial de la eigenfunción es \\(R_{n=1,l=0}^2(r)\\).\"\n",
    ")\n",
    "MultipleChoice(\n",
    "    question, answers, correct_answer=3, explanation=explanation\n",
    ")"
   ]
  },
  {
   "cell_type": "code",
   "execution_count": 11,
   "metadata": {
    "tags": [
     "remove-input"
    ]
   },
   "outputs": [
    {
     "data": {
      "text/html": [
       "<div class=\"note admonition\"><p class=\"admonition-title\">Pregunta</p><p><span class=\"math notranslate nohighlight\">¿Cuántos máximos tiene el cuadrado de la parte radial del orbital 2s?</span></p><form><input type=\"radio\" name=\"answer\" value=\"Uno\"><span class=\"math notranslate nohighlight\">Uno</span><br><input type=\"radio\" name=\"answer\" value=\"Dos\"><span class=\"math notranslate nohighlight\">Dos</span><br><input type=\"radio\" name=\"answer\" value=\"Tres\"><span class=\"math notranslate nohighlight\">Tres</span><br><input type=\"radio\" name=\"answer\" value=\"Diverge en cero\"><span class=\"math notranslate nohighlight\">Diverge en cero</span><br></form>\n",
       "<details class=\"toggle-details\">\n",
       "<summary class=\"toggle-details__summary\">\n",
       "<svg xmlns=\"http://www.w3.org/2000/svg\" class=\"tb-icon toggle-chevron-right\" width=\"44\" height=\"44\" viewBox=\"0 0 24 24\" stroke-width=\"1.5\" stroke=\"#000000\" fill=\"none\" stroke-linecap=\"round\" stroke-linejoin=\"round\">\n",
       "<path stroke=\"none\" d=\"M0 0h24v24H0z\" fill=\"none\"></path>\n",
       "<polyline points=\"9 6 15 12 9 18\"></polyline>\n",
       "</svg>\n",
       "<span class=\"toggle-details__summary-text\">Mostrar respuesta</span>\n",
       "</summary>\n",
       "<div class=\"cell_output docutils container\">\n",
       "<div><span class=\"math notranslate nohighlight\">La respuesta correcta es: <br><b>Diverge en cero</b><br><span class=\"math notranslate nohighlight\">La parte radial de la eigenfunción es \\(R_{n=2,l=0}^2(r)\\).</span></span></div>\n",
       "</div></details>\n",
       "</div)"
      ],
      "text/plain": [
       "<OptMultiple.MultipleChoice at 0x150089195130>"
      ]
     },
     "execution_count": 11,
     "metadata": {},
     "output_type": "execute_result"
    }
   ],
   "source": [
    "question = \"¿Cuántos máximos tiene el cuadrado de la parte radial del orbital 2s?\"\n",
    "answers = [\n",
    "    \"Uno\",\n",
    "    \"Dos\",\n",
    "    \"Tres\",\n",
    "    \"Diverge en cero\"\n",
    "]\n",
    "explanation = (\n",
    "    \"La parte radial de la eigenfunción es \\(R_{n=2,l=0}^2(r)\\).\"\n",
    ")\n",
    "MultipleChoice(\n",
    "    question, answers, correct_answer=3, explanation=explanation\n",
    ")"
   ]
  },
  {
   "cell_type": "code",
   "execution_count": 12,
   "metadata": {
    "tags": [
     "remove-input"
    ]
   },
   "outputs": [
    {
     "data": {
      "text/html": [
       "<div class=\"note admonition\"><p class=\"admonition-title\">Pregunta</p><p><span class=\"math notranslate nohighlight\">¿Cuántos máximos tiene el cuadrado de la parte radial del orbital 3s?</span></p><form><input type=\"radio\" name=\"answer\" value=\"Uno\"><span class=\"math notranslate nohighlight\">Uno</span><br><input type=\"radio\" name=\"answer\" value=\"Dos\"><span class=\"math notranslate nohighlight\">Dos</span><br><input type=\"radio\" name=\"answer\" value=\"Tres\"><span class=\"math notranslate nohighlight\">Tres</span><br><input type=\"radio\" name=\"answer\" value=\"Diverge en cero\"><span class=\"math notranslate nohighlight\">Diverge en cero</span><br></form>\n",
       "<details class=\"toggle-details\">\n",
       "<summary class=\"toggle-details__summary\">\n",
       "<svg xmlns=\"http://www.w3.org/2000/svg\" class=\"tb-icon toggle-chevron-right\" width=\"44\" height=\"44\" viewBox=\"0 0 24 24\" stroke-width=\"1.5\" stroke=\"#000000\" fill=\"none\" stroke-linecap=\"round\" stroke-linejoin=\"round\">\n",
       "<path stroke=\"none\" d=\"M0 0h24v24H0z\" fill=\"none\"></path>\n",
       "<polyline points=\"9 6 15 12 9 18\"></polyline>\n",
       "</svg>\n",
       "<span class=\"toggle-details__summary-text\">Mostrar respuesta</span>\n",
       "</summary>\n",
       "<div class=\"cell_output docutils container\">\n",
       "<div><span class=\"math notranslate nohighlight\">La respuesta correcta es: <br><b>Diverge en cero</b><br><span class=\"math notranslate nohighlight\">La parte radial de la eigenfunción es \\(R_{n=3,l=0}^2(r)\\).</span></span></div>\n",
       "</div></details>\n",
       "</div)"
      ],
      "text/plain": [
       "<OptMultiple.MultipleChoice at 0x15008911fbb0>"
      ]
     },
     "execution_count": 12,
     "metadata": {},
     "output_type": "execute_result"
    }
   ],
   "source": [
    "question = \"¿Cuántos máximos tiene el cuadrado de la parte radial del orbital 3s?\"\n",
    "answers = [\n",
    "    \"Uno\",\n",
    "    \"Dos\",\n",
    "    \"Tres\",\n",
    "    \"Diverge en cero\"\n",
    "]\n",
    "explanation = (\n",
    "    \"La parte radial de la eigenfunción es \\(R_{n=3,l=0}^2(r)\\).\"\n",
    ")\n",
    "MultipleChoice(\n",
    "    question, answers, correct_answer=3, explanation=explanation\n",
    ")"
   ]
  },
  {
   "cell_type": "code",
   "execution_count": 13,
   "metadata": {
    "tags": [
     "remove-input"
    ]
   },
   "outputs": [
    {
     "data": {
      "text/html": [
       "<div class=\"note admonition\"><p class=\"admonition-title\">Pregunta</p><p><span class=\"math notranslate nohighlight\">¿Cuántos máximos tiene el cuadrado de la función de distribución radial del orbital 1s?</span></p><form><input type=\"radio\" name=\"answer\" value=\"Uno\"><span class=\"math notranslate nohighlight\">Uno</span><br><input type=\"radio\" name=\"answer\" value=\"Dos\"><span class=\"math notranslate nohighlight\">Dos</span><br><input type=\"radio\" name=\"answer\" value=\"Tres\"><span class=\"math notranslate nohighlight\">Tres</span><br><input type=\"radio\" name=\"answer\" value=\"Diverge en cero\"><span class=\"math notranslate nohighlight\">Diverge en cero</span><br></form>\n",
       "<details class=\"toggle-details\">\n",
       "<summary class=\"toggle-details__summary\">\n",
       "<svg xmlns=\"http://www.w3.org/2000/svg\" class=\"tb-icon toggle-chevron-right\" width=\"44\" height=\"44\" viewBox=\"0 0 24 24\" stroke-width=\"1.5\" stroke=\"#000000\" fill=\"none\" stroke-linecap=\"round\" stroke-linejoin=\"round\">\n",
       "<path stroke=\"none\" d=\"M0 0h24v24H0z\" fill=\"none\"></path>\n",
       "<polyline points=\"9 6 15 12 9 18\"></polyline>\n",
       "</svg>\n",
       "<span class=\"toggle-details__summary-text\">Mostrar respuesta</span>\n",
       "</summary>\n",
       "<div class=\"cell_output docutils container\">\n",
       "<div><span class=\"math notranslate nohighlight\">La respuesta correcta es: <br><b>Uno</b><br><span class=\"math notranslate nohighlight\">La función de distribución radial de la eigenfunción es \\(r^2 R_{n=1,l=0}^2(r)\\).</span></span></div>\n",
       "</div></details>\n",
       "</div)"
      ],
      "text/plain": [
       "<OptMultiple.MultipleChoice at 0x15008919b310>"
      ]
     },
     "execution_count": 13,
     "metadata": {},
     "output_type": "execute_result"
    }
   ],
   "source": [
    "question = \"¿Cuántos máximos tiene el cuadrado de la función de distribución radial del orbital 1s?\"\n",
    "answers = [\n",
    "    \"Uno\",\n",
    "    \"Dos\",\n",
    "    \"Tres\",\n",
    "    \"Diverge en cero\"\n",
    "]\n",
    "explanation = (\n",
    "    \"La función de distribución radial de la eigenfunción es \\(r^2 R_{n=1,l=0}^2(r)\\).\"\n",
    ")\n",
    "MultipleChoice(\n",
    "    question, answers, correct_answer=0, explanation=explanation\n",
    ")"
   ]
  },
  {
   "cell_type": "code",
   "execution_count": 14,
   "metadata": {
    "tags": [
     "remove-input"
    ]
   },
   "outputs": [
    {
     "data": {
      "text/html": [
       "<div class=\"note admonition\"><p class=\"admonition-title\">Pregunta</p><p><span class=\"math notranslate nohighlight\">¿Cuántos máximos tiene el cuadrado de la función de distribución radial del orbital 2s?</span></p><form><input type=\"radio\" name=\"answer\" value=\"Uno\"><span class=\"math notranslate nohighlight\">Uno</span><br><input type=\"radio\" name=\"answer\" value=\"Dos\"><span class=\"math notranslate nohighlight\">Dos</span><br><input type=\"radio\" name=\"answer\" value=\"Tres\"><span class=\"math notranslate nohighlight\">Tres</span><br><input type=\"radio\" name=\"answer\" value=\"Diverge en cero\"><span class=\"math notranslate nohighlight\">Diverge en cero</span><br></form>\n",
       "<details class=\"toggle-details\">\n",
       "<summary class=\"toggle-details__summary\">\n",
       "<svg xmlns=\"http://www.w3.org/2000/svg\" class=\"tb-icon toggle-chevron-right\" width=\"44\" height=\"44\" viewBox=\"0 0 24 24\" stroke-width=\"1.5\" stroke=\"#000000\" fill=\"none\" stroke-linecap=\"round\" stroke-linejoin=\"round\">\n",
       "<path stroke=\"none\" d=\"M0 0h24v24H0z\" fill=\"none\"></path>\n",
       "<polyline points=\"9 6 15 12 9 18\"></polyline>\n",
       "</svg>\n",
       "<span class=\"toggle-details__summary-text\">Mostrar respuesta</span>\n",
       "</summary>\n",
       "<div class=\"cell_output docutils container\">\n",
       "<div><span class=\"math notranslate nohighlight\">La respuesta correcta es: <br><b>Dos</b><br><span class=\"math notranslate nohighlight\">La función de distribución radial de la eigenfunción es \\(r^2 R_{n=2,l=0}^2(r)\\).</span></span></div>\n",
       "</div></details>\n",
       "</div)"
      ],
      "text/plain": [
       "<OptMultiple.MultipleChoice at 0x1500890e0580>"
      ]
     },
     "execution_count": 14,
     "metadata": {},
     "output_type": "execute_result"
    }
   ],
   "source": [
    "question = \"¿Cuántos máximos tiene el cuadrado de la función de distribución radial del orbital 2s?\"\n",
    "answers = [\n",
    "    \"Uno\",\n",
    "    \"Dos\",\n",
    "    \"Tres\",\n",
    "    \"Diverge en cero\"\n",
    "]\n",
    "explanation = (\n",
    "    \"La función de distribución radial de la eigenfunción es \\(r^2 R_{n=2,l=0}^2(r)\\).\"\n",
    ")\n",
    "MultipleChoice(\n",
    "    question, answers, correct_answer=1, explanation=explanation\n",
    ")"
   ]
  },
  {
   "cell_type": "code",
   "execution_count": 15,
   "metadata": {
    "tags": [
     "remove-input"
    ]
   },
   "outputs": [
    {
     "data": {
      "text/html": [
       "<div class=\"note admonition\"><p class=\"admonition-title\">Pregunta</p><p><span class=\"math notranslate nohighlight\">¿Cuántos máximos tiene el cuadrado de la función de distribución radial del orbital 3s?</span></p><form><input type=\"radio\" name=\"answer\" value=\"Uno\"><span class=\"math notranslate nohighlight\">Uno</span><br><input type=\"radio\" name=\"answer\" value=\"Dos\"><span class=\"math notranslate nohighlight\">Dos</span><br><input type=\"radio\" name=\"answer\" value=\"Tres\"><span class=\"math notranslate nohighlight\">Tres</span><br><input type=\"radio\" name=\"answer\" value=\"Diverge en cero\"><span class=\"math notranslate nohighlight\">Diverge en cero</span><br></form>\n",
       "<details class=\"toggle-details\">\n",
       "<summary class=\"toggle-details__summary\">\n",
       "<svg xmlns=\"http://www.w3.org/2000/svg\" class=\"tb-icon toggle-chevron-right\" width=\"44\" height=\"44\" viewBox=\"0 0 24 24\" stroke-width=\"1.5\" stroke=\"#000000\" fill=\"none\" stroke-linecap=\"round\" stroke-linejoin=\"round\">\n",
       "<path stroke=\"none\" d=\"M0 0h24v24H0z\" fill=\"none\"></path>\n",
       "<polyline points=\"9 6 15 12 9 18\"></polyline>\n",
       "</svg>\n",
       "<span class=\"toggle-details__summary-text\">Mostrar respuesta</span>\n",
       "</summary>\n",
       "<div class=\"cell_output docutils container\">\n",
       "<div><span class=\"math notranslate nohighlight\">La respuesta correcta es: <br><b>Tres</b><br><span class=\"math notranslate nohighlight\">La función de distribución radial de la eigenfunción es \\(r^2 R_{n=3,l=0}^2(r)\\).</span></span></div>\n",
       "</div></details>\n",
       "</div)"
      ],
      "text/plain": [
       "<OptMultiple.MultipleChoice at 0x150089b1b5b0>"
      ]
     },
     "execution_count": 15,
     "metadata": {},
     "output_type": "execute_result"
    }
   ],
   "source": [
    "question = \"¿Cuántos máximos tiene el cuadrado de la función de distribución radial del orbital 3s?\"\n",
    "answers = [\n",
    "    \"Uno\",\n",
    "    \"Dos\",\n",
    "    \"Tres\",\n",
    "    \"Diverge en cero\"\n",
    "]\n",
    "explanation = (\n",
    "    \"La función de distribución radial de la eigenfunción es \\(r^2 R_{n=3,l=0}^2(r)\\).\"\n",
    ")\n",
    "MultipleChoice(\n",
    "    question, answers, correct_answer=2, explanation=explanation\n",
    ")"
   ]
  },
  {
   "cell_type": "markdown",
   "metadata": {},
   "source": [
    "```{admonition} Pregunta\n",
    ":class: note\n",
    "\n",
    "¿Encuentra algún patrón entre el número de máximos de la función de distribución radial con el número cuántico $n$ del orbital?\n",
    "```"
   ]
  },
  {
   "cell_type": "markdown",
   "metadata": {},
   "source": [
    "**Realice la gráfica del cuadrado de la parte radial de la eigenfunción para los orbitales 3s ($n=3$, $l=0$),3p ($n=3$, $l=1$) y 3d ($n=3$, $l=2$), y de $r^2R^2$.**"
   ]
  },
  {
   "cell_type": "code",
   "execution_count": 16,
   "metadata": {},
   "outputs": [],
   "source": [
    "# Gráfica"
   ]
  },
  {
   "cell_type": "code",
   "execution_count": 17,
   "metadata": {
    "tags": [
     "hide-input"
    ]
   },
   "outputs": [
    {
     "data": {
      "image/png": "[encoded data removed]",
      "text/plain": [
       "<Figure size 432x288 with 1 Axes>"
      ]
     },
     "metadata": {
      "needs_background": "light"
     },
     "output_type": "display_data"
    },
    {
     "data": {
      "image/png": "[encoded data removed]",
      "text/plain": [
       "<Figure size 432x288 with 1 Axes>"
      ]
     },
     "metadata": {
      "needs_background": "light"
     },
     "output_type": "display_data"
    }
   ],
   "source": [
    "#Cambiar aqui para ajustar eje X\n",
    "r=np.linspace(0,25,100)\n",
    "\n",
    "a0=1.0\n",
    "\n",
    "#Cambiar aqui para elegir n\n",
    "n=3\n",
    "#Cambiar aquí para elegir numeros cuanticos l\n",
    "lmin=0\n",
    "lmax=2\n",
    "\n",
    "for l in range(lmin,lmax+1):\n",
    "    R = R_func(r,n,l)\n",
    "    plt.plot(r,R**2,label=l)\n",
    "\n",
    "plt.legend()\n",
    "#Cambiar aqui los titulos de los ejes\n",
    "plt.xlabel(\"$r$\")\n",
    "plt.ylabel(\"$R$\")\n",
    "plt.title(\"$R^2(r)$ 3s, 3p ,3d\")\n",
    "plt.show()\n",
    "\n",
    "for l in range(lmin,lmax+1):\n",
    "    R = R_func(r,n,l)\n",
    "    plt.plot(r,4*np.pi*r**2.0*R**2.0,label=l)\n",
    "\n",
    "plt.legend()\n",
    "#Cambiar aqui los titulos de los ejes\n",
    "plt.xlabel(\"$r$\")\n",
    "plt.ylabel(\"$r^2R^2$\")\n",
    "plt.title(\"$r^2R^2$ 3s, 3p ,3d\")\n",
    "plt.show()"
   ]
  },
  {
   "cell_type": "code",
   "execution_count": 18,
   "metadata": {
    "tags": [
     "remove-input"
    ]
   },
   "outputs": [
    {
     "data": {
      "text/html": [
       "<div class=\"note admonition\"><p class=\"admonition-title\">Pregunta</p><p><span class=\"math notranslate nohighlight\">¿Cuál de los orbitales (3s/3p/3d) tiene el máximo del cuadrado de la parte radial más cerca del origen? Es decir, ¿Cuál de estos orbitales (3s/3p/3d) es más penetrante?</span></p><form><input type=\"radio\" name=\"answer\" value=\"3s\"><span class=\"math notranslate nohighlight\">3s</span><br><input type=\"radio\" name=\"answer\" value=\"3p\"><span class=\"math notranslate nohighlight\">3p</span><br><input type=\"radio\" name=\"answer\" value=\"3d\"><span class=\"math notranslate nohighlight\">3d</span><br></form>\n",
       "<details class=\"toggle-details\">\n",
       "<summary class=\"toggle-details__summary\">\n",
       "<svg xmlns=\"http://www.w3.org/2000/svg\" class=\"tb-icon toggle-chevron-right\" width=\"44\" height=\"44\" viewBox=\"0 0 24 24\" stroke-width=\"1.5\" stroke=\"#000000\" fill=\"none\" stroke-linecap=\"round\" stroke-linejoin=\"round\">\n",
       "<path stroke=\"none\" d=\"M0 0h24v24H0z\" fill=\"none\"></path>\n",
       "<polyline points=\"9 6 15 12 9 18\"></polyline>\n",
       "</svg>\n",
       "<span class=\"toggle-details__summary-text\">Mostrar respuesta</span>\n",
       "</summary>\n",
       "<div class=\"cell_output docutils container\">\n",
       "<div><span class=\"math notranslate nohighlight\">La respuesta correcta es: <br><b>3s</b><br><span class=\"math notranslate nohighlight\">El cuadrado de la parte radial del 3s diverge en cero. Note que el máximo de la función de distribución radial de 3d es más cercano al origen.</span></span></div>\n",
       "</div></details>\n",
       "</div)"
      ],
      "text/plain": [
       "<OptMultiple.MultipleChoice at 0x150088fe8c40>"
      ]
     },
     "execution_count": 18,
     "metadata": {},
     "output_type": "execute_result"
    }
   ],
   "source": [
    "question = \"¿Cuál de los orbitales (3s/3p/3d) tiene el máximo del cuadrado de la parte radial más cerca del origen? Es decir, ¿Cuál de estos orbitales (3s/3p/3d) es más penetrante?\"\n",
    "answers = [\n",
    "    \"3s\",\n",
    "    \"3p\",\n",
    "    \"3d\"\n",
    "]\n",
    "explanation = (\n",
    "    \"El cuadrado de la parte radial del 3s diverge en cero. Note que el máximo de la función de distribución radial de 3d es más cercano al origen.\"\n",
    ")\n",
    "MultipleChoice(\n",
    "    question, answers, correct_answer=0, explanation=explanation\n",
    ")"
   ]
  },
  {
   "cell_type": "markdown",
   "metadata": {},
   "source": [
    "## Referencias"
   ]
  },
  {
   "cell_type": "markdown",
   "metadata": {},
   "source": [
    "- P. W. Atkins, y R. Friedman, Molecular Quantum Mechanics (Oxford University Press, 2005).\n",
    "- F.L. Pilar, Elementary Quantum Chemistry (Dover ed., 2001).\n",
    "- I.N. Levine, D.H. Busch, y H. Shull, Quantum chemistry (Pearson Prentice Hall Upper Saddle River, NJ, 2009).\n",
    "- D.A. McQuarrie y J.D. Simon, Physical Chemistry: A Molecular Approach (University Science Books, 1997)."
   ]
  }
 ],
 "metadata": {
  "celltoolbar": "Tags",
  "kernelspec": {
   "display_name": "Python 3 (ipykernel)",
   "language": "python",
   "name": "python3"
  },
  "language_info": {
   "codemirror_mode": {
    "name": "ipython",
    "version": 3
   },
   "file_extension": ".py",
   "mimetype": "text/x-python",
   "name": "python",
   "nbconvert_exporter": "python",
   "pygments_lexer": "ipython3",
   "version": "3.9.12"
  }
 },
 "nbformat": 4,
 "nbformat_minor": 2
}
