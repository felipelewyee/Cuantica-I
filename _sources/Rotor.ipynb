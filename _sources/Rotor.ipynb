{
 "cells": [
  {
   "cell_type": "markdown",
   "metadata": {
    "colab_type": "text",
    "id": "93jDndSFWhc5"
   },
   "source": [
    "# Rotor Rígido"
   ]
  },
  {
   "cell_type": "markdown",
   "metadata": {
    "colab_type": "text",
    "id": "rtbOKKB7Whc6"
   },
   "source": [
    "Este sistema consiste en dos partículas de masa $m_1$ y $m_2$ moviéndose con una separación constante $r=r_2-r_1$.\n",
    "\n",
    "El Hamiltoniano consta de los términos de energía cinética de ambas partículas\n",
    "\n",
    "$$\n",
    "H = -\\frac{\\hbar^2}{2m_1} \\nabla^2_1 -\\frac{\\hbar^2}{2m_2} \\nabla^2_2\n",
    "$$\n",
    "\n",
    "```{admonition} Inserto matemático: Sistema de masa reducida\n",
    ":class: dropdown\n",
    "\n",
    "Este sistema es equivalente al de una partícula de masa reducida girando en torno al centro de masa de ambas partículas. La masa total del sistema está dada por la suma de las masas de las partículas\n",
    "\n",
    "$$\n",
    "m_T = m_1 + m_2\n",
    "$$\n",
    "\n",
    "La masa reducida de la nueva partícula está dada por\n",
    "\n",
    "$$\n",
    "\\frac{1}{\\mu} = \\frac{1}{m_1} + \\frac{1}{m_2}\n",
    "$$\n",
    "\n",
    "El centro de masa del sistema se calcula mediante\n",
    "\n",
    "$$\n",
    "R_{cm} = \\left( \\frac{m_1}{m_T} \\right) r_1 + \\left( \\frac{m_2}{m_T} \\right) r_2\n",
    "$$\n",
    "\n",
    "y el Hamiltoniano se calcula con la energía cinética de la masa reducida y del centro de masa, es decir\n",
    "\n",
    "$$\n",
    "H = -\\frac{\\hbar^2}{2m_T} \\nabla^2_{R_{cm}} - \\frac{\\hbar^2}{2\\mu} \\nabla^2_{r}\n",
    "$$\n",
    "\n",
    "La ecuación de Schrödinger a resolver es\n",
    "\n",
    "$$\n",
    "\\left(-\\frac{\\hbar^2}{2m_T} \\nabla^2_{R_{cm}} - \\frac{\\hbar^2}{2\\mu} \\nabla^2_{r}\\right) \\psi = E \\psi\n",
    "$$\n",
    "\n",
    "Se propone que la función de onda se puede separar en el producto de una función de onda del centro de masa y una función de onda de la partícula de masa reducida\n",
    "\n",
    "$$\n",
    "\\psi=\\psi_{cm}\\psi_r\n",
    "$$\n",
    "\n",
    "Al sustituir en la ecuación de Schrödinger se obtiene\n",
    "\n",
    "$$\n",
    "\\left(-\\frac{\\hbar^2}{2m_T} \\nabla^2_{R_{cm}} - \\frac{\\hbar^2}{2\\mu} \\nabla^2_{r}\\right) \\psi_{cm}\\psi_r = E \\psi_{cm}\\psi_r\n",
    "$$\n",
    "\n",
    "Si consideramos que la energía está dada por $E_T = E_{cm} + E_{r}$ y distribuimos, resulta\n",
    "\n",
    "$$\n",
    "-\\psi_{r} \\frac{\\hbar^2}{2m_T} \\nabla^2_{R_{cm}} \\psi_{cm} - \\psi_{cm}\\frac{\\hbar^2}{2\\mu} \\nabla^2_{r} \\psi_r = \\psi_r E_{cm} \\psi_{cm} +  \\psi_{cm} E_r \\psi_r\n",
    "$$\n",
    "\n",
    "Si multiplicamos ambos lados de la ecuación anterior por $\\frac{1}{\\psi_{r}\\psi_{cm}}$, resulta\n",
    "\n",
    "$$\n",
    "-\\frac{1}{\\psi_{cm}} \\left( \\frac{\\hbar^2}{2m_T} \\nabla^2_{R_{cm}} \\psi_{cm} - E_{cm} \\psi_{cm} \\right) = \\frac{1}{\\psi_{r}} \\left( \\frac{\\hbar^2}{2\\mu} \\nabla^2_{r} \\psi_r + E_r \\psi_r \\right)\n",
    "$$\n",
    "\n",
    "ya que el lado izquierdo solo depende de las coordenadas del centro de masa, y el lado derecho solo depende de las coordenadas de la masa reducida, ambos lados deben ser igual a una constante. Si elegimos esta constante como cero, y despejamos lo que está dentro de cada paréntesis se obtienen dos ecuaciones independientes.\n",
    "```\n",
    "\n",
    "Después de cambiar a un sistema de masa reducida se obtienen dos ecuaciones.\n",
    "\n",
    "La primera ecuación corresponde al movimiento del `centro de masa del sistema` y la hemos estudiado previamente en el movimiento de la `partícula libre`\n",
    "\n",
    "$$\n",
    "-\\frac{\\hbar^2}{2m_T} \\nabla^2_{R_{cm}} \\psi_{cm} = E_{cm} \\psi_{cm}\n",
    "$$\n",
    "\n",
    "esta ecuación tiene como soluciones\n",
    "\n",
    "$$\n",
    "\\psi_{cm} = A e^{ikx} + B e^{-ikx}\n",
    "$$\n",
    "\n",
    "con $k^2=2m_TE/\\hbar^2$, y simplemente nos dice que el sistema en conjunto se mueve libremente por el espacio.\n",
    "\n",
    "La segunda ecuación corresponde a la `masa reducida`, y la hemos estudiado en la `partícula en la esfera`\n",
    "\n",
    "$$\n",
    "-\\frac{\\hbar^2}{2\\mu} \\nabla^2_{r} \\psi_r = E_r \\psi_r\n",
    "$$\n",
    "\n",
    "sabemos por tanto que su solución son los armónico esféricos $Y_l^{m_l}(\\theta,\\phi)$ con $E = -l(l+1)$."
   ]
  },
  {
   "cell_type": "markdown",
   "metadata": {
    "colab_type": "text",
    "id": "S6EJOb8AWhc7"
   },
   "source": [
    "## Referencias"
   ]
  },
  {
   "cell_type": "markdown",
   "metadata": {
    "colab_type": "text",
    "id": "8pVzHYyUWhc8"
   },
   "source": [
    "- Atkins, P. W.; Friedman, R. Molecular Quantum Mechanics, 4th ed.; Oxford University Press: New York, 2005.\n",
    "- Zettili, N. Quantum Mechanics: Concepts and Applications, 2nd ed.; Wiley: Chichester, U.K, 2009.\n",
    "- Levine, I. N. Quantum Chemistry, 5th ed.; Prentice Hall: Upper Saddle River, N.J, 2000.\n",
    "- McQuarrie, D. A.; Simon, J. D. Physical Chemistry: A Molecular Approach; University Science Books: Sausalito, Calif, 1997."
   ]
  }
 ],
 "metadata": {
  "celltoolbar": "Tags",
  "colab": {
   "name": "Ejercicio2.ipynb",
   "provenance": []
  },
  "kernelspec": {
   "display_name": "Python 3",
   "language": "python",
   "name": "python3"
  },
  "language_info": {
   "codemirror_mode": {
    "name": "ipython",
    "version": 3
   },
   "file_extension": ".py",
   "mimetype": "text/x-python",
   "name": "python",
   "nbconvert_exporter": "python",
   "pygments_lexer": "ipython3",
   "version": "3.7.9"
  }
 },
 "nbformat": 4,
 "nbformat_minor": 1
}
