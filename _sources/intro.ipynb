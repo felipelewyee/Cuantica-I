{
 "cells": [
  {
   "cell_type": "markdown",
   "metadata": {},
   "source": [
    "# La Química Cuántica a tu alcance"
   ]
  },
  {
   "cell_type": "markdown",
   "metadata": {},
   "source": [
    "El objetivo del presente libro digital es ser un manual de prácticas de la asignatura de `Química Cuántica I (clave 1404)` de la Facultad de Química (UNAM). Algunas prácticas podrían ser de ayuda para cursos más avanzados de Química Cuántica. El libro digital es un esfuerzo compartido de Juan Felipe Huan Lew Yee y de los profesores del Departamento de Física y Química Teórica. Toda retroalimentación es bienvenida, y se le invita a compartir a los correos:\n",
    "\n",
    "M. en C. Juan Felipe Huan Lew Yee: [felipe.lew.yee@gmail.com](mailto:felipe.lew.yee@gmail.com)\n",
    "\n",
    "Dr. Jorge Martín del Campo Ramirez: [jormacara@gmail.com](mailto:jormacara@gmail.com)\n",
    "\n",
    "Dr. José Eduardo Barrios Vargas: [j.e.barrios@gmail.com](mailto:j.e.barrios@gmail.com)\n",
    "\n",
    "La lectura recomendada es en orden para los alumnos del curso de **Química Cuántica I**. Pueden seguir el orden de los capítulos utilizando la barra de navegación del lado izquierdo o el menú emergente, si están utilizando un dispositivo móvil. Dentro de los objetivos del libro es que ustedes interactuen con el contenido, para lo cual les recomendamos alguna de las dos opciones siguientes:\n",
    "\n",
    "\n",
    "````{admonition} Ejecución de los notebooks (en línea)\n",
    ":class: tip\n",
    "Los ejercicios de este libro requieren un conocimiento básico de Python, mismo que puede adquirirse en el primer capítulo del libro. Los notebooks pueden ejecutarse en línea desde **Google Colab** al presionar el ícono de la nave y dar clic sobre Colab, este ícono aparece en la parte superior de cada notebook. Los archivos generados en Google Colab se guardan automáticamente en su Google Drive. El único requisito este tener una cuenta asociada a **Google**.\n",
    "\n",
    "![Google Colab example button](images/google_colab.png)\n",
    "````\n",
    "\n",
    "````{admonition} Ejecución de los notebooks (en computadora)\n",
    ":class: tip\n",
    "Puede descargar los *.ipynb y ejecutarlos directamente en su computadora dando click sobre el botón con la flecha apuntando hacia abajo. Para ejecutarlos localmente es su computadora se requiere una instalación previa de Python. En caso de no tenerla puede instalar [Anaconda](https://www.anaconda.com/products/individual). Una vez descargado puede interactuar con el notebook utilizando Jupyter Notebook.\n",
    "\n",
    "En caso de tener una instalación local de Anaconda en Linux verifique que tenga instaladas las librerías utilizadas en los notebooks. Dichas librerías las puede instalar desde la terminal utilizando las siguientes líneas:\n",
    "```\n",
    "conda install matplotlib numpy scipy sympy \n",
    "```\n",
    "Después, puede ejecutar un notebook con Jupyter\n",
    "```\n",
    "jupyter-notebook NOMBRE.ipynb\n",
    "```\n",
    "\n",
    "Algunos ejercicios utilizan el software psi4, este se puede instalar desde Anaconda con\n",
    "```\n",
    "conda install psi4 psi4-rt python=3.7 -c psi4\n",
    "```\n",
    "````"
   ]
  },
  {
   "cell_type": "markdown",
   "metadata": {},
   "source": [
    "## Uso del manual"
   ]
  },
  {
   "cell_type": "markdown",
   "metadata": {},
   "source": [
    "A lo largo de los ejercicios encontrará celdas con el código correspondiente, y celdas vacías con una nota para indicar que debe ser llenada siguiendo alguna instrucción, **como la siguiente**"
   ]
  },
  {
   "cell_type": "code",
   "execution_count": 3,
   "metadata": {},
   "outputs": [],
   "source": [
    "# Llene la siguiente celda con su código"
   ]
  },
  {
   "cell_type": "markdown",
   "metadata": {},
   "source": [
    "La primera vez que se presente una instrucción se mostrará directamente para copiar y pegar en la celda, por ejemplo, el siguiente código muestra como realizar una impresión\n",
    "```\n",
    "print(\"Bienvenidos al manual de Química Cuántica I\")\n",
    "```"
   ]
  },
  {
   "cell_type": "markdown",
   "metadata": {},
   "source": [
    "Posteriormente, cuando se solicite realizar algo usando código ya presentado, se mostrará la respuesta oculta para permitir que se intente resolver el ejercicio en la celda vacía por cuenta propia. Para revelar la respuesta hay que presionar en el botón con el símbolo + como en la siguiente celda"
   ]
  },
  {
   "cell_type": "code",
   "execution_count": 4,
   "metadata": {
    "tags": [
     "hide-cell"
    ]
   },
   "outputs": [
    {
     "name": "stdout",
     "output_type": "stream",
     "text": [
      "Bienvenidos al manual de Química Cuántica I\n"
     ]
    }
   ],
   "source": [
    "print(\"Bienvenidos al manual de Química Cuántica I\")"
   ]
  }
 ],
 "metadata": {
  "celltoolbar": "Tags",
  "kernelspec": {
   "display_name": "Python 3",
   "language": "python",
   "name": "python3"
  },
  "language_info": {
   "codemirror_mode": {
    "name": "ipython",
    "version": 3
   },
   "file_extension": ".py",
   "mimetype": "text/x-python",
   "name": "python",
   "nbconvert_exporter": "python",
   "pygments_lexer": "ipython3",
   "version": "3.8.3"
  }
 },
 "nbformat": 4,
 "nbformat_minor": 4
}
