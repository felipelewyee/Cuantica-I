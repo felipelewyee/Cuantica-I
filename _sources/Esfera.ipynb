{
 "cells": [
  {
   "cell_type": "markdown",
   "metadata": {
    "colab_type": "text",
    "id": "7pC0yb6fWhc1"
   },
   "source": [
    "# Partícula en la esfera"
   ]
  },
  {
   "cell_type": "markdown",
   "metadata": {
    "colab_type": "text",
    "id": "zkzqvdJEWhc2"
   },
   "source": [
    "Se tiene una partícula moviéndose sobre una superficie esférica de radio constante.\n",
    "\n",
    "La ecuación de Schrödinger a resolver es\n",
    "\n",
    "$$\n",
    "-\\frac{\\hbar^2}{2m} \\nabla^2 \\psi(\\theta,\\phi) = E \\psi(\\theta,\\phi)\n",
    "$$\n",
    "\n",
    "```{admonition} Inserto matemático: Hamiltoniano\n",
    ":class: dropdown\n",
    "Donde\n",
    "$$\n",
    "\\nabla^2 = \\frac{1}{r} \\frac{\\partial^2}{\\partial r^2}r + \\frac{1}{r^2} \\Lambda^2 = \\frac{1}{r} \\frac{\\partial^2}{\\partial r^2} r + \\frac{1}{r^2} \\left( \\frac{1}{sin^2 \\theta} \\frac{\\partial^2}{\\partial \\phi^2} + \\frac{1}{sin \\theta} \\frac{\\partial}{\\partial \\theta} sin \\theta \\frac{\\partial}{\\partial \\theta} \\right)\n",
    "$$\n",
    "\n",
    "Si r es constante, entonces\n",
    "$$\n",
    "-\\frac{\\hbar^2}{2mr^2} \\Lambda^2 \\psi(\\theta,\\phi) = E \\psi(\\theta,\\phi)\n",
    "$$\n",
    "```\n",
    "\n",
    "Las soluciones de esta ecuación son los armónicos esféricos.\n",
    "\n",
    "```{admonition} Inserto matemático: Armónicos esféricos\n",
    ":class: dropdown\n",
    "\n",
    "Los armónicos esféricos se definen por\n",
    "\n",
    "$$\n",
    "Y_l^{m_l}(\\theta,\\phi) = \\sqrt{\\frac{2l+1}{4\\pi} \\frac{(l-|m_l|)!}{(l+|m_l|)!}} e^{i m_l \\phi} P_l^{m_l}(cos(\\theta))\n",
    "$$\n",
    "\n",
    "donde $P_l^{m_l}(cos(\\phi))$ son los polinomios asociados de Legendre, dados por\n",
    "$$\n",
    "P_l^{m_l}(x) = \\frac{l}{2^l l!}(1-x^2)^{|m_l|/2} \\frac{d^{l+|m_l|}}{dx^{l+|m_l|}} (x^2-1)^l\n",
    "$$\n",
    "```\n",
    "\n",
    "En la tabla se muestra la forma de los primeros armónicos esféricos. En este punto han aparecido dos números cuánticos, tal que $l = 0,1,2,3,...$ y $m_l = -l, -l+1, 0, l-1, l$\n",
    "\n",
    "\n",
    "|$l$|$m_l$|Armónico esférico $Y_l^{m_l}(\\theta,\\phi)$|\n",
    "|---|---|---|\n",
    "|0|0|$\\frac{1}{(4\\pi)^{1/2}}$|\n",
    "|1|-1|$+\\frac{3}{(8\\pi)^{1/2}} sin \\theta e^{-i\\phi}$|\n",
    "|1|0|$\\frac{3}{(4\\pi)^{1/2}} cos \\theta$|\n",
    "|1|1|$-\\frac{3}{(8\\pi)^{1/2}} sin \\theta e^{i\\phi}$|\n",
    "|2|-2|$+\\frac{15}{(32\\pi)^{1/2}} sin^2 \\theta e^{-2i\\phi}$|\n",
    "|2|-1|$+\\frac{15}{(8\\pi)^{1/2}} sin \\theta cos \\theta e^{-i\\phi}$|\n",
    "|2|0|$\\frac{5}{(16\\pi)^{1/2}} (3cos^2 \\theta - 1)$|\n",
    "|2|1|$-\\frac{15}{(8\\pi)^{1/2}} sin \\theta cos \\theta e^{i\\phi}$|\n",
    "|2|2|$-\\frac{15}{(32\\pi)^{1/2}} sin^2 \\theta e^{2i\\phi}$|\n",
    "\n",
    "La energía del sistema está dada por\n",
    "\n",
    "$$\n",
    "E = -l(l+1)\n",
    "$$"
   ]
  },
  {
   "cell_type": "markdown",
   "metadata": {
    "colab_type": "text",
    "id": "wWvbKCO2Whc2"
   },
   "source": [
    "**Grafique el armónico esférico $|Y_1^{0}|$ y su cuadrado.**"
   ]
  },
  {
   "cell_type": "code",
   "execution_count": null,
   "metadata": {},
   "outputs": [],
   "source": [
    "# Grafica"
   ]
  },
  {
   "cell_type": "code",
   "execution_count": null,
   "metadata": {
    "colab": {},
    "colab_type": "code",
    "id": "vYozd5-7Whc3",
    "tags": [
     "hide-input"
    ]
   },
   "outputs": [],
   "source": [
    "#Grafica\n",
    "\n",
    "import scipy.special as sp\n",
    "import numpy as np\n",
    "from mpl_toolkits.mplot3d import Axes3D\n",
    "import numpy as np\n",
    "import matplotlib.pyplot as plt\n",
    "\n",
    "ml=0\n",
    "l=1\n",
    "\n",
    "theta = np.linspace(0,np.pi,100)\n",
    "phi = np.linspace(0,2*np.pi,100)\n",
    "THETA,PHI=np.meshgrid(theta,phi)\n",
    "\n",
    "R=np.abs(sp.sph_harm(ml,l,PHI,THETA))\n",
    "\n",
    "X = R * np.sin(THETA) * np.cos(PHI)\n",
    "Y = R * np.sin(THETA) * np.sin(PHI)\n",
    "Z = R * np.cos(THETA)\n",
    "\n",
    "fig = plt.figure()\n",
    "ax = plt.gca(projection='3d')\n",
    "ax.plot_surface(X, Y, Z,cmap='YlOrRd')\n",
    "#ax.set_xlim(-0.4,0.4)\n",
    "#ax.set_ylim(-0.4,0.4)\n",
    "#ax.set_zlim(-0.4,0.4)\n",
    "ax.set_title(\"$\\Psi$\")\n",
    "plt.show()\n",
    "\n",
    "R=np.power(R,2.0)\n",
    "\n",
    "X = R * np.sin(THETA) * np.cos(PHI)\n",
    "Y = R * np.sin(THETA) * np.sin(PHI)\n",
    "Z = R * np.cos(THETA)\n",
    "\n",
    "fig = plt.figure()\n",
    "ax = plt.gca(projection='3d')\n",
    "ax.plot_surface(X, Y, Z,cmap='YlOrRd')\n",
    "ax.set_xlim(-0.2,0.2)\n",
    "ax.set_ylim(-0.2,0.2)\n",
    "ax.set_zlim(-0.2,0.2)\n",
    "ax.set_title(\"$\\Psi^2$\")\n",
    "plt.show()"
   ]
  },
  {
   "cell_type": "markdown",
   "metadata": {
    "colab_type": "text",
    "id": "S6EJOb8AWhc7"
   },
   "source": [
    "## Referencias"
   ]
  },
  {
   "cell_type": "markdown",
   "metadata": {
    "colab_type": "text",
    "id": "8pVzHYyUWhc8"
   },
   "source": [
    "- Atkins, P. W.; Friedman, R. Molecular Quantum Mechanics, 4th ed.; Oxford University Press: New York, 2005.\n",
    "- Zettili, N. Quantum Mechanics: Concepts and Applications, 2nd ed.; Wiley: Chichester, U.K, 2009.\n",
    "- Levine, I. N. Quantum Chemistry, 5th ed.; Prentice Hall: Upper Saddle River, N.J, 2000.\n",
    "- McQuarrie, D. A.; Simon, J. D. Physical Chemistry: A Molecular Approach; University Science Books: Sausalito, Calif, 1997."
   ]
  }
 ],
 "metadata": {
  "celltoolbar": "Tags",
  "colab": {
   "name": "Ejercicio2.ipynb",
   "provenance": []
  },
  "kernelspec": {
   "display_name": "Python 3",
   "language": "python",
   "name": "python3"
  },
  "language_info": {
   "codemirror_mode": {
    "name": "ipython",
    "version": 3
   },
   "file_extension": ".py",
   "mimetype": "text/x-python",
   "name": "python",
   "nbconvert_exporter": "python",
   "pygments_lexer": "ipython3",
   "version": "3.7.9"
  }
 },
 "nbformat": 4,
 "nbformat_minor": 1
}
