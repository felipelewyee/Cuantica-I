{
 "cells": [
  {
   "cell_type": "markdown",
   "metadata": {},
   "source": [
    "# Dimerización de $NO_2$"
   ]
  },
  {
   "cell_type": "markdown",
   "metadata": {},
   "source": [
    "El $N_2O_4$ es un compuesto que se encuentra en la atmósfera. Con los cambios de temperatura se descompone en el radical $NO_2$ mediante la reacción:\n",
    "\n",
    "$N_2O_4 <=> 2NO_2$\n",
    "\n",
    "Las geometrías de $N_2O_4$ y $NO_2$ se dan a continuación:\n",
    "\n",
    "Molécula: $N_2O_4$ Carga: 0 Multiplicidad: 1\n",
    "\n",
    "|Átomo |x (Å)  |y (Å)  |z (Å) |\n",
    "|------|-------|-------|------|\n",
    "|N     |0.0000 |0.0000 |0.0000|\n",
    "|N     |-1.7820|0.0000 |0.0000|\n",
    "|O     |0.4516 |1.1010 |0.0000|\n",
    "|O     |0.4516 |-1.1010|0.0000|\n",
    "|O     |-2.2336|1.1010 |0.0000|\n",
    "|O     |-2.2336|-1.1010|0.0000|\n",
    "\n",
    "Molécula: $NO_2$ Carga: 0 Multiplicidad: 2\n",
    "\n",
    "|Átomo |x (Å)  |y (Å)  |z (Å) |\n",
    "|------|-------|-------|------|\n",
    "|N     | 0.0000| 0.0000|0.0000|\n",
    "|O     | 0.0000| 1.0989|0.4653|\n",
    "|O     | 0.0000|-1.0989|0.4653|\n"
   ]
  },
  {
   "cell_type": "markdown",
   "metadata": {},
   "source": [
    "**Pregunta 1.** Calule la energía de la molécula de $N_2O_4$ con HF y la base aug-cc-pvdz. "
   ]
  },
  {
   "cell_type": "code",
   "execution_count": 1,
   "metadata": {},
   "outputs": [
    {
     "name": "stdout",
     "output_type": "stream",
     "text": [
      "Optimizer: Optimization complete!\n",
      "-408.115175081757\n"
     ]
    }
   ],
   "source": [
    "import psi4\n",
    "psi4.set_memory(\"2 gb\")\n",
    "psi4.geometry(\"\"\"\n",
    "0 1\n",
    "   N       -4.84638        1.76109        0.00000\n",
    "   N       -3.46888        1.78415        0.00000\n",
    "   O       -2.82385        2.93169       -0.00000\n",
    "   O       -2.85055        0.76276        0.00000\n",
    "   O       -5.46471        2.78248        0.00000\n",
    "   O       -5.49141        0.61355        0.00000\n",
    "\"\"\")\n",
    "n2o4,wfn=psi4.opt(\"HF/aug-cc-pvdz\", return_wfn=True)\n",
    "print(n2o4)"
   ]
  },
  {
   "cell_type": "markdown",
   "metadata": {},
   "source": [
    "**Pregunta 2.** Calule la energía de la molécula de $NO_2$ con HF y la base aug-cc-pvdz. [Complete donde haga falta - Reemplace las X]"
   ]
  },
  {
   "cell_type": "code",
   "execution_count": 2,
   "metadata": {},
   "outputs": [
    {
     "name": "stdout",
     "output_type": "stream",
     "text": [
      "Optimizer: Optimization complete!\n",
      "-204.06967821085573\n"
     ]
    }
   ],
   "source": [
    "import psi4\n",
    "NO2 = psi4.geometry(\"\"\"\n",
    "0 2\n",
    "   N       -4.39539        1.87380        0.00000\n",
    "   O       -3.90978        3.09520       -0.00000\n",
    "   O       -3.65594        0.93810        0.00000\n",
    "units angstrom\n",
    "\"\"\")\n",
    "psi4.set_options({'reference': 'uhf'})\n",
    "no2=psi4.optimize(\"HF/aug-cc-pvdz\")\n",
    "print(no2)"
   ]
  },
  {
   "cell_type": "markdown",
   "metadata": {},
   "source": [
    "**Pregunta a.** Calcule el $\\Delta U$ de la reacción $N_2O_4 <=> 2NO_2$ según HF."
   ]
  },
  {
   "cell_type": "code",
   "execution_count": 3,
   "metadata": {},
   "outputs": [
    {
     "data": {
      "text/plain": [
       "-63.48810805041529"
      ]
     },
     "execution_count": 3,
     "metadata": {},
     "output_type": "execute_result"
    }
   ],
   "source": [
    "(2*no2-n2o4)*2625.5"
   ]
  },
  {
   "cell_type": "markdown",
   "metadata": {},
   "source": [
    "**Pregunta 3.** Calule la energía de la molécula de $N_2O_4$ con DFT B3LYP y la base aug-cc-pvdz."
   ]
  },
  {
   "cell_type": "code",
   "execution_count": 4,
   "metadata": {},
   "outputs": [
    {
     "name": "stdout",
     "output_type": "stream",
     "text": [
      "Optimizer: Optimization complete!\n",
      "-410.2464298911095\n"
     ]
    }
   ],
   "source": [
    "import psi4\n",
    "psi4.set_memory(\"2 gb\")\n",
    "psi4.geometry(\"\"\"\n",
    "0 1\n",
    "N     0.0000  0.0000  0.0000\n",
    "N     -1.7820 0.0000  0.0000\n",
    "O     0.4516  1.1010  0.0000\n",
    "O     0.4516  -1.1010 0.0000\n",
    "O     -2.2336 1.1010  0.0000\n",
    "O     -2.2336 -1.1010 0.0000\n",
    "\"\"\")\n",
    "n2o4,wfn=psi4.opt(\"B3LYP/aug-cc-pvdz\", return_wfn=True)\n",
    "print(n2o4)"
   ]
  },
  {
   "cell_type": "markdown",
   "metadata": {},
   "source": [
    "**Pregunta 4.** Calule la energía de la molécula de $NO_2$ con DFT B3LYP y la base aug-cc-pvdz."
   ]
  },
  {
   "cell_type": "code",
   "execution_count": 5,
   "metadata": {},
   "outputs": [
    {
     "name": "stdout",
     "output_type": "stream",
     "text": [
      "Optimizer: Optimization complete!\n",
      "-205.1126037341589\n"
     ]
    }
   ],
   "source": [
    "import psi4\n",
    "NO2 = psi4.geometry(\"\"\"\n",
    "0 2\n",
    "N      0.0000  0.0000 0.0000 \n",
    "O      0.0000  1.0989 0.4653 \n",
    "O      0.0000 -1.0989 0.4653 \n",
    "units angstrom\n",
    "\"\"\")\n",
    "psi4.set_options({'reference': 'uhf'})\n",
    "no2=psi4.optimize(\"B3LYP/aug-cc-pvdz\")\n",
    "print(no2)"
   ]
  },
  {
   "cell_type": "markdown",
   "metadata": {},
   "source": [
    "**Preguna b.** Calcule el $\\Delta U$ de la reacción $N_2O_4 <=> 2NO_2$ según DFT B3LYP."
   ]
  },
  {
   "cell_type": "code",
   "execution_count": 6,
   "metadata": {},
   "outputs": [
    {
     "data": {
      "text/plain": [
       "55.71947103963211"
      ]
     },
     "execution_count": 6,
     "metadata": {},
     "output_type": "execute_result"
    }
   ],
   "source": [
    "(2*no2-n2o4)*2625.5"
   ]
  },
  {
   "cell_type": "markdown",
   "metadata": {},
   "source": [
    "## Referencias"
   ]
  },
  {
   "cell_type": "markdown",
   "metadata": {},
   "source": [
    "- Parrish, R. M.; Burns, L. A.; Smith, D. G. A.; Simmonett, A. C.; DePrince, A. E.; Hohenstein, E. G.; Bozkaya, U.; Sokolov, A. Y.; Di Remigio, R.; Richard, R. M.; et al. **Psi4 1.1: An Open-Source Electronic Structure Program Emphasizing Automation, Advanced Libraries, and Interoperability.** Journal of Chemical Theory and Computation 2017, 13 (7), 3185–3197.\n"
   ]
  }
 ],
 "metadata": {
  "kernelspec": {
   "display_name": "Python 3",
   "language": "python",
   "name": "python3"
  },
  "language_info": {
   "codemirror_mode": {
    "name": "ipython",
    "version": 3
   },
   "file_extension": ".py",
   "mimetype": "text/x-python",
   "name": "python",
   "nbconvert_exporter": "python",
   "pygments_lexer": "ipython3",
   "version": "3.7.9"
  }
 },
 "nbformat": 4,
 "nbformat_minor": 2
}
