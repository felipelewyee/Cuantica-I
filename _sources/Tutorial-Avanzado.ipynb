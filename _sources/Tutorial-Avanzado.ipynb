{
 "cells": [
  {
   "cell_type": "markdown",
   "metadata": {},
   "source": [
    "# Tutorial Avanzado"
   ]
  },
  {
   "cell_type": "markdown",
   "metadata": {},
   "source": [
    "En esta parte del tutorial aprenderá a utilizar Python para manejar vectores y matrices, crear gráficas y resolver integrales. Estas funciones serán trascendentales para el curso de `Química Cuántica`. **Recuerde escribir en los cuadros vacíos y presionar el botón Run o las teclas \"Shift\" + \"Enter\".**\n",
    "\n",
    "Utilizaremos las librerías numpy, matplotlib y scipy que aprendió a utilizar en el Tutorial Básico, **impórtelas en el siguiente recuadro**."
   ]
  },
  {
   "cell_type": "code",
   "execution_count": 1,
   "metadata": {},
   "outputs": [],
   "source": [
    "# Importe librerías"
   ]
  },
  {
   "cell_type": "code",
   "execution_count": 2,
   "metadata": {
    "tags": [
     "hide-cell"
    ]
   },
   "outputs": [],
   "source": [
    "import numpy as np\n",
    "from matplotlib import pyplot as plt\n",
    "import scipy"
   ]
  },
  {
   "cell_type": "markdown",
   "metadata": {},
   "source": [
    "## Vectores y Matrices"
   ]
  },
  {
   "cell_type": "markdown",
   "metadata": {},
   "source": [
    "Python permite manejar fácilmente objetos multidimensionales, como vectores y matrices.\n",
    "````{admonition} Aprendizaje de código\n",
    ":class: important\n",
    "Empezaremos creando una lista, la cual es un conjunto de cosas. Las listas se crean poniendo elementos entre corchetes cuadrados, por ejemplo\n",
    "~~~python\n",
    "lista = [5, 9, 4]\n",
    "~~~\n",
    "\n",
    "Podemos imprimir todos los elementos de la lista con\n",
    "~~~python\n",
    "print(lista)\n",
    "~~~\n",
    "También podemos imprimir un elemento específico indicando el número del elemento entre paréntesis cuadrados. En Python los elementos se cuentan desde \"cero\". Para imprimir el número 9 en la lista anterior ejecutaríamos:\n",
    "~~~python\n",
    "print(lista[1])\n",
    "~~~\n",
    "````\n",
    "\n",
    "**Cree la siguiente lista [8,25,32,41] y guárdela en la variable \"lista\". Imprima la lista completa, así como el primer elemento del vector.**"
   ]
  },
  {
   "cell_type": "code",
   "execution_count": 3,
   "metadata": {},
   "outputs": [],
   "source": [
    "#Cree una lista"
   ]
  },
  {
   "cell_type": "code",
   "execution_count": 4,
   "metadata": {
    "tags": [
     "hide-cell"
    ]
   },
   "outputs": [
    {
     "name": "stdout",
     "output_type": "stream",
     "text": [
      "[8, 25, 32, 41]\n",
      "8\n"
     ]
    }
   ],
   "source": [
    "lista = [8,25,32,41]\n",
    "print(lista)\n",
    "print(lista[0])"
   ]
  },
  {
   "cell_type": "markdown",
   "metadata": {},
   "source": [
    "La lista puede convertirse en un arreglo de numpy, esto facilita el manejo de cantidades vectoriales.\n",
    "````{admonition} Aprendizaje de código\n",
    ":class: important\n",
    "Para declarar la lista anterior como un arreglo de numpy escribiremos\n",
    "~~~python\n",
    "vector = np.array([5, 9, 4])\n",
    "~~~\n",
    "\n",
    "Una ventaja es que podemos declarar dos arreglos, por ejemplo\n",
    "~~~python\n",
    "v1 = np.array([2, 4, 6])\n",
    "v2 = np.array([3, 5, 7])\n",
    "~~~\n",
    "\n",
    "y sumarlos, de una forma muy parecida a como se haría en física.\n",
    "\n",
    "~~~python\n",
    "print(v1+v2)\n",
    "~~~\n",
    "````\n",
    "\n",
    "**Cree dos vectores como arreglos de numpy, uno que contenga los elementos \"1,8,6\", y otro que contenga \"5,2,7\", e imprima su suma**"
   ]
  },
  {
   "cell_type": "code",
   "execution_count": 5,
   "metadata": {},
   "outputs": [],
   "source": [
    "#Suma de dos vectores"
   ]
  },
  {
   "cell_type": "code",
   "execution_count": 6,
   "metadata": {
    "tags": [
     "hide-cell"
    ]
   },
   "outputs": [
    {
     "name": "stdout",
     "output_type": "stream",
     "text": [
      "[ 6 10 13]\n"
     ]
    }
   ],
   "source": [
    "v1 = np.array([1,8,6])\n",
    "v2 = np.array([5,2,7])\n",
    "\n",
    "print(v1+v2)"
   ]
  },
  {
   "cell_type": "markdown",
   "metadata": {},
   "source": [
    "````{admonition} Aprendizaje de código\n",
    ":class: important\n",
    "También podemos crear matrices como una \"lista de listas\", donde cada lista representa un renglón de la matriz. A continuación generemos una matriz de 3x3 que contenga ceros en todos sus elementos\n",
    "~~~python\n",
    "matriz = [[0.0, 0.0, 0.0],[0.0, 0.0, 0.0],[0.0, 0.0, 0.0]]\n",
    "~~~\n",
    "````\n",
    "**Genere la matriz de ceros anterior, e imprímala.**"
   ]
  },
  {
   "cell_type": "code",
   "execution_count": 7,
   "metadata": {},
   "outputs": [],
   "source": [
    "#Cree matriz"
   ]
  },
  {
   "cell_type": "markdown",
   "metadata": {},
   "source": [
    "````{admonition} Aprendizaje de código\n",
    ":class: important\n",
    "Podemos usar numpy para hacer nuestra matriz de ceros de forma más fácil\n",
    "~~~python\n",
    "matriz = np.zeros((3,3))\n",
    "print(matriz)\n",
    "~~~\n",
    "````\n",
    "**Prueba usar numpy para definir una matriz de ceros de 5x5, e imprímala.**"
   ]
  },
  {
   "cell_type": "code",
   "execution_count": 8,
   "metadata": {},
   "outputs": [],
   "source": [
    "#Cree matriz de ceros con numpy"
   ]
  },
  {
   "cell_type": "code",
   "execution_count": 9,
   "metadata": {
    "tags": [
     "hide-cell"
    ]
   },
   "outputs": [
    {
     "name": "stdout",
     "output_type": "stream",
     "text": [
      "[[0. 0. 0. 0. 0.]\n",
      " [0. 0. 0. 0. 0.]\n",
      " [0. 0. 0. 0. 0.]\n",
      " [0. 0. 0. 0. 0.]\n",
      " [0. 0. 0. 0. 0.]]\n"
     ]
    }
   ],
   "source": [
    "matriz = np.zeros((5,5))\n",
    "print(matriz)"
   ]
  },
  {
   "cell_type": "markdown",
   "metadata": {},
   "source": [
    "**A continuación genere una matriz de 3x3, guárdela en la variable \"matriz1\", y asígnele los valores del 1 al 9, tal que**\n",
    "\n",
    "$$\n",
    "\\text{matriz}1 = \\begin{pmatrix}\n",
    "1 & 2 & 3\\\\\n",
    "4 & 5 & 6\\\\\n",
    "7 & 8 & 9\\\\\n",
    "\\end{pmatrix}\n",
    "$$\n",
    "\n",
    "Puede ayudarse del siguiente código.\n",
    "~~~python\n",
    "matriz1 = np.zeros((3,3))\n",
    "matriz1[0][0]=1.0\n",
    "matriz1[0][1]=2.0\n",
    "matriz1[0][2]=3.0\n",
    "matriz1[1][0]=4.0\n",
    "matriz1[1][2]=5.0\n",
    "...\n",
    "~~~"
   ]
  },
  {
   "cell_type": "code",
   "execution_count": 10,
   "metadata": {},
   "outputs": [],
   "source": [
    "#Llene una matriz de 3x3"
   ]
  },
  {
   "cell_type": "code",
   "execution_count": 11,
   "metadata": {
    "tags": [
     "hide-cell"
    ]
   },
   "outputs": [],
   "source": [
    "matriz1 = np.zeros((3,3))\n",
    "matriz1[0][0]=1.0\n",
    "matriz1[0][1]=2.0\n",
    "matriz1[0][2]=3.0\n",
    "matriz1[1][0]=4.0\n",
    "matriz1[1][1]=5.0\n",
    "matriz1[1][2]=6.0\n",
    "matriz1[2][0]=7.0\n",
    "matriz1[2][1]=8.0\n",
    "matriz1[2][2]=9.0"
   ]
  },
  {
   "cell_type": "markdown",
   "metadata": {},
   "source": [
    "````{admonition} Aprendizaje de código\n",
    ":class: important\n",
    "Hacer esto puede tomar mucho tiempo con matrices grandes. Existe una instrucción llamada **for** que nos permite hacer cosas repetitivas. Por ejemplo:\n",
    "~~~python\n",
    "matriz2 = np.zeros((3,3))\n",
    "val=0.0\n",
    "for i in range(3):\n",
    "    for j in range(3):\n",
    "        val=val+1.0\n",
    "        matriz2[i][j]=val\n",
    "~~~\n",
    "````\n",
    "**Prueba la instrucción anterior e imprime las dos matrices (matriz1 y matriz2) en el siguiente recuadro.**"
   ]
  },
  {
   "cell_type": "code",
   "execution_count": 12,
   "metadata": {},
   "outputs": [],
   "source": [
    "#Matriz de 3x3 con for"
   ]
  },
  {
   "cell_type": "markdown",
   "metadata": {},
   "source": [
    "````{admonition} Aprendizaje de código\n",
    ":class: important\n",
    "Se pueden multiplicar dos matrices con\n",
    "~~~python\n",
    "matriz3=np.matmul(matriz1,matriz2)\n",
    "~~~\n",
    "````\n",
    "**Multiplique las dos matrices anteriores e imprima el resultado.**"
   ]
  },
  {
   "cell_type": "code",
   "execution_count": 13,
   "metadata": {},
   "outputs": [],
   "source": [
    "#Matriz3 = Matriz1 x Matriz2"
   ]
  },
  {
   "cell_type": "markdown",
   "metadata": {},
   "source": [
    "Los valores propios ($\\lambda$) y vectores propios ($v$) de una matriz ($M$) son muy importantes en química cuántica. Cumplen la propiedad de que al multiplicar la matriz por el vector propio resulta el mismo vector multiplicado por una constante, es decir:\n",
    "\n",
    "$$\n",
    "M v = \\lambda v\n",
    "$$\n",
    "\n",
    "````{admonition} Aprendizaje de código\n",
    ":class: important\n",
    "Los valores y vectores propios se pueden calcular con\n",
    "~~~python\n",
    "val,vec=np.linalg.eig(matriz)\n",
    "~~~\n",
    "````\n",
    "\n",
    "**Calcule los valores propios y vectores propios de la matriz 1, e imprímalos.**\n",
    "\n",
    "```{margin}\n",
    "Si la matriz es simétrica o hermitiana es más conveniente usar `np.linalg.eigh(matriz)`.\n",
    "```\n",
    "\n",
    "```{margin}\n",
    "`np.linalg.eig(matriz)` regresa valores propios desordenados mientras que `np.linalg.eigh(matriz)` los regresa ordenados.\n",
    "```"
   ]
  },
  {
   "cell_type": "code",
   "execution_count": 14,
   "metadata": {},
   "outputs": [],
   "source": [
    "# Valores y vectores propios"
   ]
  },
  {
   "cell_type": "code",
   "execution_count": 15,
   "metadata": {
    "tags": [
     "hide-cell"
    ]
   },
   "outputs": [],
   "source": [
    "val,vec=np.linalg.eig(matriz1)"
   ]
  },
  {
   "cell_type": "markdown",
   "metadata": {},
   "source": [
    "## Gráficas"
   ]
  },
  {
   "cell_type": "markdown",
   "metadata": {},
   "source": [
    "Vamos a graficar la función $y=\\sin(x)$ de $-3$ a $3$.\n",
    "\n",
    "````{admonition} Aprendizaje de código\n",
    ":class: important\n",
    "Primero crearemos el dominio de la función (los valores de x), en nuestro ejemplo le daremos 50 puntos. Utilizaremos la función linspace(a,b,n) de numpy, esta crea un conjunto de n números distribuidos en el intervalo de a hasta b.\n",
    "~~~python\n",
    "x=np.linspace(-3,3,50)\n",
    "~~~\n",
    "````\n",
    "\n",
    "**Genere el dominio tal que $x\\in[-3,3]$, utilice 50 puntos, guárdelo en la variable x e imprímalo.**"
   ]
  },
  {
   "cell_type": "code",
   "execution_count": 16,
   "metadata": {},
   "outputs": [],
   "source": [
    "# Cree dominio de x"
   ]
  },
  {
   "cell_type": "markdown",
   "metadata": {},
   "source": [
    "````{admonition} Aprendizaje de código\n",
    ":class: important\n",
    "Obtendremos el valor de \"y\" usando numpy. Al escribir la siguiente instrucción Python toma cada valor de x, le aplica la función y lo guarda en la variable \"y\".\n",
    "~~~python\n",
    "y=np.sin(x)\n",
    "~~~\n",
    "````\n",
    "\n",
    "**Evalúe la función**\n",
    "\n",
    "$$\n",
    "y = \\sin(x)\n",
    "$$"
   ]
  },
  {
   "cell_type": "code",
   "execution_count": 17,
   "metadata": {},
   "outputs": [],
   "source": [
    "# Evalúe función"
   ]
  },
  {
   "cell_type": "markdown",
   "metadata": {},
   "source": [
    "````{admonition} Aprendizaje de código\n",
    ":class: important\n",
    "Finalmente, **realice la gráfica con**\n",
    "\n",
    "~~~python\n",
    "plt.scatter(x,y)\n",
    "plt.show()\n",
    "~~~\n",
    "````\n",
    "\n",
    "```{margin}\n",
    "Prueba cambiar `plt.scatter(x,y)` por `plt.plot(x,y)` para tener una gráfica continua.\n",
    "```"
   ]
  },
  {
   "cell_type": "code",
   "execution_count": 18,
   "metadata": {},
   "outputs": [],
   "source": [
    "# Genere gráfica"
   ]
  },
  {
   "cell_type": "code",
   "execution_count": 19,
   "metadata": {
    "tags": [
     "hide-cell"
    ]
   },
   "outputs": [
    {
     "data": {
      "image/png": "[encoded data removed]",
      "text/plain": [
       "<Figure size 432x288 with 1 Axes>"
      ]
     },
     "metadata": {
      "needs_background": "light"
     },
     "output_type": "display_data"
    }
   ],
   "source": [
    "from matplotlib import pyplot as plt\n",
    "import numpy as np\n",
    "\n",
    "x=np.linspace(-3,3,50)\n",
    "y=np.sin(x)\n",
    "\n",
    "plt.scatter(x,y)\n",
    "#plt.plot(x,y)\n",
    "plt.show()"
   ]
  },
  {
   "cell_type": "markdown",
   "metadata": {},
   "source": [
    "Las instrucciones anteriores son los pasos básicos para generar una gráfica. **En el siguiente recuadro genere la gráfica de las funciones $y_1=e^{-|x|}$ y $y_2=e^{-|x|^2}$ con 100 puntos desde -3 hasta 3.**"
   ]
  },
  {
   "cell_type": "code",
   "execution_count": 20,
   "metadata": {},
   "outputs": [],
   "source": [
    "# Gráfica"
   ]
  },
  {
   "cell_type": "code",
   "execution_count": 21,
   "metadata": {
    "tags": [
     "hide-cell"
    ]
   },
   "outputs": [
    {
     "data": {
      "image/png": "[encoded data removed]",
      "text/plain": [
       "<Figure size 432x288 with 1 Axes>"
      ]
     },
     "metadata": {
      "needs_background": "light"
     },
     "output_type": "display_data"
    }
   ],
   "source": [
    "x  = np.linspace(-3,3,100)\n",
    "y1 = np.exp(-np.abs(x))\n",
    "y2 = np.exp(-np.abs(x)**2)\n",
    "\n",
    "plt.scatter(x,y1)\n",
    "plt.scatter(x,y2)\n",
    "\n",
    "plt.show()"
   ]
  },
  {
   "cell_type": "markdown",
   "metadata": {},
   "source": [
    "## Integrales"
   ]
  },
  {
   "cell_type": "markdown",
   "metadata": {},
   "source": [
    "````{admonition} Aprendizaje de código\n",
    ":class: important\n",
    "También podemos hacer integrales con Python. Por ejemplo, vamos a integrar $y=x^2$ en el dominio $-3 \\leq x \\leq 3$. Para ello importaremos el subpaquete integrate de la librería scipy.\n",
    "~~~python\n",
    "from scipy import integrate\n",
    "~~~\n",
    "y luego realizaremos la integral con la función quad\n",
    "\n",
    "~~~python\n",
    "integrate.quad(lambda x: x**2,-3,3)[0]\n",
    "~~~\n",
    "Aquí \"lambda\" indica las variables de la ecuación, seguido de la ecuación y los límites de la integral.\n",
    "````\n",
    "\n",
    "```{margin}\n",
    "El resultado de `integrate.quad` es un vector, por eso al final de la línea escribimos `[0]` para acceder al primer elemento, que contiene el resultado de la integral. Pruebe escribiendo `integrate.quad(lambda x: x**2,-3,3)` y observe la diferencia.\n",
    "```\n",
    "\n",
    "**Pruebe a realizar la integral.**"
   ]
  },
  {
   "cell_type": "code",
   "execution_count": 22,
   "metadata": {},
   "outputs": [],
   "source": [
    "# Integre y = x**2 de -3 a 3"
   ]
  },
  {
   "cell_type": "code",
   "execution_count": 23,
   "metadata": {
    "tags": [
     "hide-cell"
    ]
   },
   "outputs": [
    {
     "data": {
      "text/plain": [
       "18.0"
      ]
     },
     "execution_count": 23,
     "metadata": {},
     "output_type": "execute_result"
    }
   ],
   "source": [
    "import scipy.integrate as integrate\n",
    "integrate.quad(lambda x: x**2,-3,3)[0]"
   ]
  },
  {
   "cell_type": "markdown",
   "metadata": {},
   "source": [
    "Considere la función de onda $\\psi = x$, con $x \\epsilon [-3,3]$, **proponga una función de onda normalizada y evalúe la integral con integrate.quad para comprobar que la norma es 1.**\n",
    "\n",
    "```{tip}\n",
    "Recuerde que para normalizar:\n",
    "\n",
    "1 Integre el cuadrado de la función de onda en el dominio.\n",
    "\n",
    "$$\n",
    "N^2 = \\int_{x_1}^{x_2} |\\psi_ {\\rm original}|^2 dr\n",
    "$$\n",
    "\n",
    "2 Obtenga la norma.\n",
    "\n",
    "$$\n",
    "N = \\sqrt{N^2} = \\sqrt{\\int_{x_1}^{x_2} |\\psi_{\\rm original}|^2 dx}\n",
    "$$\n",
    "\n",
    "3 Multiplique la función de onda original por el inverso de su norma.\n",
    "\n",
    "$$\n",
    "\\psi_{\\rm normalizada} = \\frac{1}{N} \\psi_{\\rm original}\n",
    "$$\n",
    "```"
   ]
  },
  {
   "cell_type": "code",
   "execution_count": 24,
   "metadata": {},
   "outputs": [],
   "source": [
    "#Normalice función de onda"
   ]
  },
  {
   "cell_type": "code",
   "execution_count": 25,
   "metadata": {
    "tags": [
     "hide-cell"
    ]
   },
   "outputs": [
    {
     "name": "stdout",
     "output_type": "stream",
     "text": [
      "N**2 = 18.0\n",
      "N = 4.242640687119285\n"
     ]
    },
    {
     "data": {
      "text/plain": [
       "1.0"
      ]
     },
     "execution_count": 25,
     "metadata": {},
     "output_type": "execute_result"
    }
   ],
   "source": [
    "norm2 = integrate.quad(lambda x: x*x,-3,3)[0]\n",
    "print(\"N**2 =\",norm2)\n",
    "\n",
    "norm = np.sqrt(norm2)\n",
    "print(\"N =\",norm)\n",
    "\n",
    "integrate.quad(lambda x: (x/norm)*(x/norm),-3,3)[0]"
   ]
  },
  {
   "cell_type": "markdown",
   "metadata": {},
   "source": [
    "**OPCIONAL**\n",
    "\n",
    "````{admonition} Aprendizaje de código\n",
    ":class: important\n",
    "También es posible realizar integrales triples, el siguiente ejemplo solo es demostrativo, **simplemente copie y pegue para realizar la integral.**\n",
    "\n",
    "Sea la función de onda\n",
    "\n",
    "$$\n",
    "\\psi = e^{-(x^2+y^2+z^2)}=e^{-r^2}\n",
    "$$\n",
    "\n",
    "La integral de su cuadrado será\n",
    "\n",
    "\\begin{eqnarray*}\n",
    "N^2 &=& \\int \\bigg( \\psi^* \\psi \\bigg)\\,d\\textbf{r}  = \\int\\limits_{0}^\\pi \\int\\limits_{0}^{2\\pi} \\int\\limits_{0}^\\infty \\bigg(\\psi^* \\psi\\, r^2 \\sin\\theta \\bigg) dr d\\phi d\\theta \\\\\n",
    "&=& \\int\\limits_{0}^{\\pi} \\sin \\theta d\\theta \\int\\limits_{0}^{2\\pi} d\\phi \\int\\limits_{0}^\\infty e^{-2r^2} r^2 dr \\\\\n",
    "&=& \\left(2\\pi\\right)\\left(2\\right)\\left(\\frac{1}{8}\\sqrt{\\frac{\\pi}{2}}\\right) = \\left(\\frac{\\pi}{2}\\right)^{3/2}\n",
    "\\end{eqnarray*}\n",
    "\n",
    "El siguiente código evalúa la integral y la guarda en la variable \"norm2\".\n",
    "~~~python\n",
    "norm2 = integrate.tplquad(lambda theta,phi,r: r**2.0*np.sin(theta)*np.exp(-2.0*r**2.0), 0, np.inf, lambda r: 0, lambda theta: 2*np.pi,lambda r, theta: 0, lambda r, theta: np.pi)[0]\n",
    "~~~\n",
    "````\n",
    "\n",
    "```{margin}\n",
    "Nuestro objetivo en este punto es que conozca lo mucho que se puede hacer en Python. Exploraremos estas ideas más adelante.\n",
    "```"
   ]
  },
  {
   "cell_type": "code",
   "execution_count": 26,
   "metadata": {},
   "outputs": [],
   "source": [
    "#Determine el cuadrado de la norma de la función de onda"
   ]
  },
  {
   "cell_type": "code",
   "execution_count": 27,
   "metadata": {
    "tags": [
     "hide-cell"
    ]
   },
   "outputs": [
    {
     "name": "stdout",
     "output_type": "stream",
     "text": [
      "N**2 = 1.968701243215302\n"
     ]
    }
   ],
   "source": [
    "norm2 = integrate.tplquad(lambda theta,phi,r: r**2.0*np.sin(theta)*np.exp(-2.0*r**2.0), 0, np.inf, lambda r: 0, lambda theta: 2*np.pi,lambda r, theta: 0, lambda r, theta: np.pi)[0]\n",
    "\n",
    "print(\"N**2 =\",norm2)"
   ]
  },
  {
   "cell_type": "markdown",
   "metadata": {},
   "source": [
    "**Compruebe que numéricamente esto es $\\left(\\frac{\\pi}{2}\\right)^{3/2}$.**"
   ]
  },
  {
   "cell_type": "code",
   "execution_count": 28,
   "metadata": {},
   "outputs": [],
   "source": [
    "#Evalúe (pi/2)^(3/2)"
   ]
  },
  {
   "cell_type": "code",
   "execution_count": 29,
   "metadata": {
    "tags": [
     "hide-cell"
    ]
   },
   "outputs": [
    {
     "name": "stdout",
     "output_type": "stream",
     "text": [
      "1.9687012432153024\n"
     ]
    }
   ],
   "source": [
    "print((np.pi/2)**(3/2))"
   ]
  },
  {
   "cell_type": "markdown",
   "metadata": {},
   "source": [
    "Evalúe la norma"
   ]
  },
  {
   "cell_type": "code",
   "execution_count": 30,
   "metadata": {},
   "outputs": [],
   "source": [
    "# Constante de normalización"
   ]
  },
  {
   "cell_type": "code",
   "execution_count": 31,
   "metadata": {
    "tags": [
     "hide-cell"
    ]
   },
   "outputs": [
    {
     "name": "stdout",
     "output_type": "stream",
     "text": [
      "N = 1.403104145534216\n"
     ]
    }
   ],
   "source": [
    "norm = np.sqrt(norm2)\n",
    "print(\"N =\",norm)"
   ]
  },
  {
   "cell_type": "markdown",
   "metadata": {},
   "source": [
    "**OPCIONAL**\n",
    "\n",
    "Proponga una $\\psi$ normalizada, y compruebe que la integral de su cuadrado da 1. Recuerde la siguiente relación\n",
    "\n",
    "$$\n",
    "\\psi_{\\rm normalizada} = \\frac{1}{\\sqrt{N}} \\psi_{\\rm original}\n",
    "$$\n",
    "\n",
    "y que para este ejercicio\n",
    "\n",
    "$$\n",
    "\\psi_{\\rm original} = e^{-r}\n",
    "$$"
   ]
  },
  {
   "cell_type": "code",
   "execution_count": 32,
   "metadata": {},
   "outputs": [],
   "source": [
    "#Comprobación"
   ]
  },
  {
   "cell_type": "code",
   "execution_count": 33,
   "metadata": {
    "scrolled": true,
    "tags": [
     "hide-cell"
    ]
   },
   "outputs": [
    {
     "name": "stdout",
     "output_type": "stream",
     "text": [
      "1.0\n"
     ]
    }
   ],
   "source": [
    "norm = integrate.tplquad(lambda theta,phi,r: 1/norm**2*r**2.0*np.sin(theta)*np.exp(-2.0*r**2.0), 0, np.inf, lambda r: 0, lambda theta: 2*np.pi,lambda r, theta: 0, lambda r, theta: np.pi)[0]\n",
    "print(norm)"
   ]
  },
  {
   "cell_type": "markdown",
   "metadata": {},
   "source": [
    "**OPCIONAL**\n",
    "\n",
    "**Repita el proceso de normalización para $\\psi=re^{-r^2}$.** La integral sin normalizar será\n",
    "\n",
    "$$\n",
    "\\int \\psi^* \\psi \\,d\\textbf{r} = \\frac{3}{4}\\left(\\frac{\\pi}{2}\\right)^{3/2}\n",
    "$$"
   ]
  },
  {
   "cell_type": "code",
   "execution_count": 34,
   "metadata": {},
   "outputs": [],
   "source": [
    "#Normalice"
   ]
  },
  {
   "cell_type": "code",
   "execution_count": 35,
   "metadata": {
    "tags": [
     "hide-cell"
    ]
   },
   "outputs": [
    {
     "name": "stdout",
     "output_type": "stream",
     "text": [
      "N**2 = 1.4765259324114768\n",
      "N = 1.2151238341878892\n",
      "1.0\n"
     ]
    }
   ],
   "source": [
    "norm2=integrate.tplquad(lambda theta,phi,r: r**4.0*np.sin(theta)*np.exp(-2.0*r**2.0), 0, np.inf, lambda r: 0, lambda theta: 2*np.pi,lambda r, theta: 0, lambda r, theta: np.pi)[0]\n",
    "print(\"N**2 =\",norm2)\n",
    "\n",
    "norm = np.sqrt(norm2)\n",
    "print(\"N =\",norm)\n",
    "\n",
    "norm=integrate.tplquad(lambda theta,phi,r: 1/norm**2*r**4.0*np.sin(theta)*np.exp(-2.0*r**2.0), 0, np.inf, lambda r: 0, lambda theta: 2*np.pi,lambda r, theta: 0, lambda r, theta: np.pi)[0]\n",
    "print(norm)"
   ]
  }
 ],
 "metadata": {
  "celltoolbar": "Tags",
  "kernelspec": {
   "display_name": "Python 3 (ipykernel)",
   "language": "python",
   "name": "python3"
  },
  "language_info": {
   "codemirror_mode": {
    "name": "ipython",
    "version": 3
   },
   "file_extension": ".py",
   "mimetype": "text/x-python",
   "name": "python",
   "nbconvert_exporter": "python",
   "pygments_lexer": "ipython3",
   "version": "3.9.12"
  }
 },
 "nbformat": 4,
 "nbformat_minor": 2
}
