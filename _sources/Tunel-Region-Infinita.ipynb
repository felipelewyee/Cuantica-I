{
 "cells": [
  {
   "cell_type": "markdown",
   "metadata": {
    "id": "3_tkSDmfEtap"
   },
   "source": [
    "# Penetración"
   ]
  },
  {
   "cell_type": "markdown",
   "metadata": {
    "id": "ffWT6U3FE6a9"
   },
   "source": [
    "Considere una partícula moviéndose hacia una barrera de potencial de longitud infinita de valor V en $x=0$. Antes de $x=0$ el potencial vale cero, y después vale $V$, es decir:\n",
    "\n",
    "$$\n",
    "V(x) = \\left\\{\n",
    "  \\begin{array}{lll}\n",
    "  0      & \\mathrm{si\\ } x < 0 & \\text{I}\\\\\n",
    "  V & \\mathrm{si\\ } 0 \\le x < \\infty & \\text{II} \\\\\n",
    "  \\end{array}\n",
    "  \\right.\n",
    "$$\n",
    "\n",
    "<img src=\"images/tunel-barrera-infinita.png\" alt=\"Figura de tunel de barrera infinita\" width=\"300\"/>\n",
    "\n",
    "En este sistema consideraremos el caso en el que la partícula tiene menor energía, $E$, que el potencial, $V$, es decir, $E < V$.\n",
    "\n",
    "```{admonition} Para pensar\n",
    ":class: tip\n",
    "De manera clásica, la partícula no podría pasar del lado izquierdo (región I) al lado derecho (región II) de la caja, porque no tiene suficiente energía. Por esta razón, no podríamos encontrar a la partícula en la región II. ¿Qué pasará cuánticamente?\n",
    "```\n",
    "\n",
    "Para resolver el sistema hay que planear el Hamiltoniano por regiones y resolver una eigenfunción para cada región.\n",
    "\n",
    "```{admonition} Inserto matemático: Hamiltoniano por regiones\n",
    "\n",
    "| Región      | Hamiltoniano | Eigenfunción | Constantes |\n",
    "|:----------------:|:---------:|:--------:|:--------:|\n",
    "| I | $- \\frac{\\hbar^2}{2m} \\frac{d^2}{dx^2}$ | $\\psi_{\\rm I}(x) = Ae^{ikx} + Be^{-ikx}$ | $k^2 = \\frac{2mE}{\\hbar^2}$ |\n",
    "| II| $- \\frac{\\hbar^2}{2m} \\frac{d^2}{dx^2} + V$ | $\\psi_{\\rm II}(x) = C e^{-\\kappa x} + De^{\\kappa x}$ | $\\kappa ^2 = \\frac{2m(V-E)}{\\hbar^2}$ |\n",
    "```\n",
    "\n",
    "Se obtienen la eigenfunción por regiones\n",
    "\n",
    "$$\n",
    "\\psi_I(x) = Ae^{ikx} + Be^{-ikx}\n",
    "$$\n",
    "\n",
    "$$\n",
    "\\psi_{\\rm II}(x) = C e^{-\\kappa x} + De^{\\kappa x}\n",
    "$$\n",
    "\n",
    "```{margin}\n",
    "Note la diferencia entre la letra `k` y la letra griega $\\kappa$.\n",
    "```\n",
    "\n",
    "Los coeficientes pueden obtenerse a partir de la condición de continuidad de la eigenfunción en $x=0$\n",
    "\n",
    "```{admonition} Inserto matemático: Condiciones de continuidad\n",
    "\n",
    "| Regiones | Condición | Ecuación |\n",
    "|:---: |:---: | :---:|\n",
    "| II | $\\psi_{\\rm II}(\\infty) = 0$ | $D = 0$|\n",
    "| I y II | $\\psi_{\\rm I}(0) = \\psi_{\\rm II}(0)$ | $A + B = C$ |\n",
    "| I y II | $\\frac{\\psi_{\\rm I}}{dx}(0) = \\frac{\\psi_{\\rm II}}{dx}(0)$ | $ik (A - B) = - \\kappa C$|\n",
    "```\n",
    "\n",
    "Se obtiene\n",
    "\n",
    "$$\n",
    "B = -\\left(\\frac{\\kappa + ik}{\\kappa - ik}\\right) A\n",
    "$$\n",
    "\n",
    "$$\n",
    "C = \\frac{2ik}{ik - \\kappa} A\n",
    "$$"
   ]
  },
  {
   "cell_type": "markdown",
   "metadata": {
    "id": "DjqT9ED5L0CL"
   },
   "source": [
    "**Importe numpy y pyplot de matplotlib.**"
   ]
  },
  {
   "cell_type": "code",
   "execution_count": 1,
   "metadata": {
    "id": "kZHhg0qML4oc"
   },
   "outputs": [],
   "source": [
    "# Importe librerías"
   ]
  },
  {
   "cell_type": "code",
   "execution_count": 2,
   "metadata": {
    "id": "VAKUysgW4W01",
    "tags": [
     "hide-cell"
    ]
   },
   "outputs": [],
   "source": [
    "import numpy as np\n",
    "from matplotlib import pyplot as plt"
   ]
  },
  {
   "cell_type": "markdown",
   "metadata": {
    "id": "r8oBQQpjL9dN"
   },
   "source": [
    "**De valores a las constantes del sistema**. Considere $m=1$, $\\hbar=1$. Asigne algún valor a la energía y al potencial, respetando que $V > E$, observe que en este caso la energía no está cuantizada, por lo que puede tomar cualquier valor. A manera de ejemplo, considere $E=1$ y $V=10$. "
   ]
  },
  {
   "cell_type": "code",
   "execution_count": 3,
   "metadata": {
    "id": "w5aUcz4ee-jY"
   },
   "outputs": [],
   "source": [
    "# Valores de m,hbar,E,V"
   ]
  },
  {
   "cell_type": "code",
   "execution_count": 4,
   "metadata": {
    "id": "YVvBrBC04NBX",
    "tags": [
     "hide-cell"
    ]
   },
   "outputs": [],
   "source": [
    "m = 1\n",
    "hbar = 1\n",
    "E = 1\n",
    "V = 10"
   ]
  },
  {
   "cell_type": "markdown",
   "metadata": {
    "id": "EruRn1ePNTM0"
   },
   "source": [
    "Defina $k$ y $\\kappa$, recuerde que\n",
    "\n",
    "$$\n",
    "k = \\frac{\\sqrt{2mE}}{\\hbar}\n",
    "$$\n",
    "\n",
    "$$\n",
    "\\kappa = \\frac{\\sqrt{2m(V-E)}}{\\hbar}\n",
    "$$"
   ]
  },
  {
   "cell_type": "code",
   "execution_count": 5,
   "metadata": {
    "id": "DoUmGJlefDwC"
   },
   "outputs": [],
   "source": [
    "# k y kappa"
   ]
  },
  {
   "cell_type": "code",
   "execution_count": 6,
   "metadata": {
    "id": "fNQ-Is1YNqnF",
    "tags": [
     "hide-cell"
    ]
   },
   "outputs": [],
   "source": [
    "k = np.sqrt(2*m*E)/hbar\n",
    "kappa = np.sqrt(2*m*(V-E))/hbar"
   ]
  },
  {
   "cell_type": "markdown",
   "metadata": {
    "id": "WKp5MbiLNxwD"
   },
   "source": [
    "Defina las constantes\n",
    "\n",
    "$$\n",
    "B = -\\left(\\frac{k_2 + ik_1}{k_2 - ik_1}\\right) A\n",
    "$$\n",
    "\n",
    "$$\n",
    "C = \\frac{2ik_1}{ik_1 - k_2} A\n",
    "$$\n",
    "\n",
    "Por conveniencia, defina \n",
    "\n",
    "$$\n",
    "A=1\n",
    "$$"
   ]
  },
  {
   "cell_type": "code",
   "execution_count": 7,
   "metadata": {
    "id": "mXcgmjRNfF3B"
   },
   "outputs": [],
   "source": [
    "# A, B, C"
   ]
  },
  {
   "cell_type": "code",
   "execution_count": 8,
   "metadata": {
    "id": "DUCNfee44hk0",
    "tags": [
     "hide-cell"
    ]
   },
   "outputs": [],
   "source": [
    "A = 1\n",
    "B = -((kappa + 1j*k)/(kappa - 1j*k))*A\n",
    "C = 2*1j*k/(1j*k-kappa)*A"
   ]
  },
  {
   "cell_type": "markdown",
   "metadata": {
    "id": "QZP7my2TOcEA"
   },
   "source": [
    "Defina el dominio de $x$ para la región I y para la región II, recuerde que ambos se separan en $x=0$."
   ]
  },
  {
   "cell_type": "code",
   "execution_count": 9,
   "metadata": {
    "id": "8-IZ33_HfJK8"
   },
   "outputs": [],
   "source": [
    "# x1 y x2"
   ]
  },
  {
   "cell_type": "code",
   "execution_count": 10,
   "metadata": {
    "id": "2Oi_f3p94ybq",
    "tags": [
     "hide-cell"
    ]
   },
   "outputs": [],
   "source": [
    "x1 = np.linspace(-2,0,100)\n",
    "x2 = np.linspace(0,2,100)"
   ]
  },
  {
   "cell_type": "markdown",
   "metadata": {
    "id": "419fEO_IOqLT"
   },
   "source": [
    "Genere la eigenfunción para la región I y para la región II. Recuerde\n",
    "\n",
    "$$\n",
    "\\psi_{\\rm I} = A e^{ik x} + B e^{-ik x}\n",
    "$$\n",
    "\n",
    "$$\n",
    "\\psi_{\\rm II} = C e^{-\\kappa x}\n",
    "$$"
   ]
  },
  {
   "cell_type": "code",
   "execution_count": 11,
   "metadata": {
    "id": "6u0bu0eTfMBO"
   },
   "outputs": [],
   "source": [
    "# psi_I y psi_II"
   ]
  },
  {
   "cell_type": "code",
   "execution_count": 12,
   "metadata": {
    "id": "Zu_vFHRI41YD",
    "tags": [
     "hide-cell"
    ]
   },
   "outputs": [],
   "source": [
    "psi_I = A*np.exp(1j*k*x1) + B*np.exp(-1j*k*x1)\n",
    "psi_II = C*np.exp(-kappa*x2)"
   ]
  },
  {
   "cell_type": "markdown",
   "metadata": {
    "id": "czcRD_87O-i8"
   },
   "source": [
    "Grafique $|\\psi_{\\rm I}|^2$ y $|\\psi_{\\rm II}|^2$"
   ]
  },
  {
   "cell_type": "code",
   "execution_count": 13,
   "metadata": {
    "id": "i4OnkCKvfOmh"
   },
   "outputs": [],
   "source": [
    "# Gráfica"
   ]
  },
  {
   "cell_type": "code",
   "execution_count": 14,
   "metadata": {
    "colab": {
     "base_uri": "https://localhost:8080/",
     "height": 282
    },
    "id": "MOSRlMvf5Lze",
    "outputId": "1b25b149-aac9-4a16-a1a7-41ed7180482a",
    "tags": [
     "hide-input"
    ]
   },
   "outputs": [
    {
     "data": {
      "text/plain": [
       "[<matplotlib.lines.Line2D at 0x1505f467ea30>]"
      ]
     },
     "execution_count": 14,
     "metadata": {},
     "output_type": "execute_result"
    },
    {
     "data": {
      "image/png": "[encoded data removed]",
      "text/plain": [
       "<Figure size 432x288 with 1 Axes>"
      ]
     },
     "metadata": {
      "needs_background": "light"
     },
     "output_type": "display_data"
    }
   ],
   "source": [
    "plt.plot(x1,abs(psi_I)**2)\n",
    "plt.plot(x2,abs(psi_II)**2)"
   ]
  },
  {
   "cell_type": "markdown",
   "metadata": {
    "id": "Iw51Kw7eRdZV"
   },
   "source": [
    "Note que la partícula puede ser encontrada dentro de la región clásicamente prohibida, esto se conoce como penetración. \n",
    "\n",
    "```{admonition} Concepto: Longitud de decaimiento\n",
    ":class: note\n",
    "\n",
    "La longitud de decaimiento, $\\kappa^{-1}$ es la distancia dentro de la barrera a la cual la eigenfunción ha decaído a  $e^{-1}$.\n",
    "```"
   ]
  },
  {
   "cell_type": "markdown",
   "metadata": {
    "id": "yszq5r5yfR5Q"
   },
   "source": [
    "**Calcule la longitud de decaimiento de este sistema.**"
   ]
  },
  {
   "cell_type": "markdown",
   "metadata": {},
   "source": [
    "## Referencias"
   ]
  },
  {
   "cell_type": "markdown",
   "metadata": {},
   "source": [
    "- P. W. Atkins, y R. Friedman, Molecular Quantum Mechanics (Oxford University Press, 2005)."
   ]
  }
 ],
 "metadata": {
  "celltoolbar": "Tags",
  "colab": {
   "name": "Tunel.ipynb",
   "provenance": []
  },
  "kernelspec": {
   "display_name": "Python 3 (ipykernel)",
   "language": "python",
   "name": "python3"
  },
  "language_info": {
   "codemirror_mode": {
    "name": "ipython",
    "version": 3
   },
   "file_extension": ".py",
   "mimetype": "text/x-python",
   "name": "python",
   "nbconvert_exporter": "python",
   "pygments_lexer": "ipython3",
   "version": "3.9.12"
  }
 },
 "nbformat": 4,
 "nbformat_minor": 1
}
