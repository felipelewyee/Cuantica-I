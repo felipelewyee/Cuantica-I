{
 "cells": [
  {
   "cell_type": "markdown",
   "metadata": {},
   "source": [
    "# Ejercicio 8"
   ]
  },
  {
   "cell_type": "markdown",
   "metadata": {},
   "source": [
    "## Hartree-Fock-Roothan"
   ]
  },
  {
   "cell_type": "markdown",
   "metadata": {},
   "source": [
    "Tenemos que resolver:\n",
    "\\begin{equation}\n",
    "\\textbf{F} \\textbf{C} = \\textbf{S}\\textbf{C}\\varepsilon\n",
    "\\end{equation}"
   ]
  },
  {
   "cell_type": "markdown",
   "metadata": {},
   "source": [
    "- <span style=\"color:green\"> **Paso 1.** Especificar molécula: Coordenadas de los núcleos $\\{R_A\\}$, Carga de los núcleos $\\{Z_A\\}$, Número de electrones $(N)$, y funciones base $\\{\\phi_i\\}$</span>\n",
    "- <span style=\"color:green\"> **Paso 2.** Calcular $S$, $H$, $(ij|kl)$.</span>\n",
    "- <span style=\"color:green\"> **Paso 3.** Proponer una matriz $C$.</span>\n",
    "- <span style=\"color:black\"> **Paso 4.** Calcular $P$, $J$ y $K$.</span>\n",
    "- <span style=\"color:black\"> **Paso 5.** Calcular $F=H+2J-K$</span>\n",
    "- <span style=\"color:black\"> **Paso 6.** Resolver $FC=SC\\varepsilon$</span>\n",
    "- <span style=\"color:black\"> **Paso 7.** $E_{elec} = \\sum_\\mu \\sum_\\nu P_{\\nu \\mu} (H_{\\mu \\nu} + F_{\\mu \\nu})$<span>\n",
    "- <span style=\"color:black\"> **Paso 8.** ¿$E_i=E_{i-1}$?, Sí: acabé. No: volver a paso 4.</span>\n",
    "- <span style=\"color:black\">**Paso 9.** Calcular energía nuclear y sumarla a la energía electrónica.</span>"
   ]
  },
  {
   "cell_type": "code",
   "execution_count": null,
   "metadata": {},
   "outputs": [],
   "source": []
  },
  {
   "cell_type": "markdown",
   "metadata": {},
   "source": [
    "**Paso 1.** Especificar molécula: Coordenadas de los núcleos <span style=\"color:red\">$\\{R_A\\}$</span>, Carga de los núcleos <span style=\"color:red\">$\\{Z_A\\}$</span>, Número de electrones <span style=\"color:red\">$(N)$</span>, y funciones base <span style=\"color:red\">$\\{\\phi_i\\}$</span>."
   ]
  },
  {
   "cell_type": "code",
   "execution_count": null,
   "metadata": {},
   "outputs": [],
   "source": [
    "H2 = psi4.geometry(\"\"\"\n",
    "\n",
    "\n",
    "\n",
    "\n",
    "\"\"\")"
   ]
  },
  {
   "cell_type": "code",
   "execution_count": null,
   "metadata": {},
   "outputs": [],
   "source": [
    "psi4.set_options({'basis':''})"
   ]
  },
  {
   "cell_type": "markdown",
   "metadata": {},
   "source": [
    "**Paso 2.** Calcular $S$, $H$, $(ij|kl)$.\n",
    "\n",
    "<span style=\"color:red\">\n",
    "\\begin{equation}\n",
    "S_{ij} = \\int \\psi_i^*(r) \\psi_j(r) dr\n",
    "\\end{equation}\n",
    "</span>\n",
    "\\begin{equation}\n",
    "H_{ij} = \\int \\psi_i^*(r) \\hat{H} \\psi_j(r) dr\n",
    "\\end{equation}\n",
    "<span style=\"color:red\">\n",
    "\\begin{equation}\n",
    "H_{ij} = T_{ij} + V_{ij}\n",
    "\\end{equation}\n",
    "</span>\n",
    "\\begin{equation}\n",
    "\\psi_i(r) = \\sum_\\mu a_\\mu \\phi_\\mu(r)\n",
    "\\end{equation}\n",
    "\\begin{equation}\n",
    "(\\mu \\nu|\\sigma \\lambda) = \\int \\int \\phi_\\mu^*(r_1) \\phi_\\nu(r_1) \\frac{1}{r_{12}} \\phi_\\sigma^*(r_2) \\phi_\\lambda(r_2) dr_1 dr_2\n",
    "\\end{equation}"
   ]
  },
  {
   "cell_type": "code",
   "execution_count": null,
   "metadata": {},
   "outputs": [],
   "source": [
    "wfn = psi4.core.Wavefunction.build(H2)\n",
    "mints = psi4.core.MintsHelper(wfn.basisset())\n",
    "\n",
    "S = np.asarray(mints.ao_overlap())\n",
    "print(\"----------------Matriz S----------------\")\n",
    "sp.pprint(sp.Matrix(S))\n",
    "\n",
    "T = np.asarray(mints.ao_kinetic())\n",
    "V = np.asarray(mints.ao_potential())\n",
    "H=\n",
    "print(\"----------------Matriz H----------------\")\n",
    "sp.pprint(sp.Matrix(H))\n",
    "\n",
    "I = np.asarray(mints.ao_eri())\n",
    "#print(\"Integrales (ij|kl):\")\n",
    "#print(I)\n",
    "\n",
    "nbf = S.shape[0]\n",
    "ndocc = wfn.nalpha()\n",
    "#print(nbf)\n",
    "#print(ndocc)"
   ]
  },
  {
   "cell_type": "markdown",
   "metadata": {},
   "source": [
    "**Paso 3.** Proponer una matriz C."
   ]
  },
  {
   "cell_type": "code",
   "execution_count": null,
   "metadata": {},
   "outputs": [],
   "source": [
    "C = \n",
    "#print(C)"
   ]
  },
  {
   "cell_type": "markdown",
   "metadata": {},
   "source": [
    "- **Paso 4.** Calcular $P$, $J$ y $K$.\n",
    "\\begin{equation}\n",
    "P_{\\mu \\nu} = \\sum_a^{N/2} C_{\\mu a} C_{\\nu a}^*\n",
    "\\end{equation}\n",
    "\\begin{equation}\n",
    "J_{\\mu \\nu} = \\sum_{\\lambda \\sigma} P_{\\lambda \\sigma} (\\mu \\nu | \\sigma \\lambda)\n",
    "\\end{equation}\n",
    "\\begin{equation}\n",
    "K_{\\mu \\nu} = \\sum_{\\lambda \\sigma} P_{\\lambda \\sigma} (\\mu \\lambda | \\sigma \\nu)\n",
    "\\end{equation}\n",
    "- **Paso 5.** Calcular $F=H+2J-K$\n",
    "- **Paso 6.** Resolver $FC=SC\\varepsilon$\n",
    "- **Paso 7.** $E_{elec} = \\sum_\\mu \\sum_\\nu P_{\\nu \\mu}(H_{\\mu \\nu} + F_{\\mu \\nu})$\n",
    "- **Paso 8.** ¿$E_i=E_{i-1}$?, Sí: acabé. No: volver a paso 4."
   ]
  },
  {
   "cell_type": "code",
   "execution_count": null,
   "metadata": {},
   "outputs": [],
   "source": [
    "\n",
    "\n",
    "while():\n",
    "    print(\"---------------------------------ITERACION---------------------------------\")  \n",
    "\n",
    "    print(\"------------Matriz C Entrada------------\")\n",
    "    sp.pprint(sp.Matrix(C))    \n",
    "    \n",
    "    #Paso 4. Calcular P, J y K\n",
    "    P = np.zeros((nbf,nbf))\n",
    "    for i in range(nbf):\n",
    "        for j in range(nbf):\n",
    "            for k in range(ndocc):\n",
    "                    P[i][j] = P[i][j] + C[i][k]*C[j][k]\n",
    "    print(\"----------------Matriz P----------------\")\n",
    "    sp.pprint(sp.Matrix(P))\n",
    "                    \n",
    "    J = np.zeros((nbf,nbf))\n",
    "    for i in range(nbf):\n",
    "        for j in range(nbf):\n",
    "            for k in range(nbf):\n",
    "                for l in range(nbf):\n",
    "                    J[i][j] = J[i][j] + P[k][l]*I[i][j][l][k]\n",
    "    print(\"----------------Matriz J----------------\")\n",
    "    sp.pprint(sp.Matrix(J))\n",
    "                    \n",
    "    K = np.zeros((nbf,nbf))\n",
    "    for i in range(nbf):\n",
    "        for j in range(nbf):\n",
    "            for k in range(nbf):\n",
    "                for l in range(nbf):\n",
    "                    K[i][j] = K[i][j] + P[k][l]*I[i][l][k][j]         \n",
    "    print(\"----------------Matriz K----------------\")\n",
    "    sp.pprint(sp.Matrix(K))                    \n",
    "\n",
    "    #Paso 5. Calcular F = H + 2J - K\n",
    "    F = \n",
    "    print(\"----------------Matriz F----------------\")\n",
    "    sp.pprint(sp.Matrix(F))\n",
    "    \n",
    "    #Paso 6. Resolver FC=SCE\n",
    "    E,C = \n",
    "    print(\"-------------Matriz C Salida-------------\")\n",
    "    sp.pprint(sp.Matrix(C))\n",
    "    \n",
    "    #Paso 7. Calcular E=sum_i sum_j P_ji (H_ij+F_ij)\n",
    "    E_elec = 0.0\n",
    "    for i in range(nbf):\n",
    "        for j in range(nbf):\n",
    "            E_elec = E_elec + P[j][i]*(H[i][j] + F[i][j])\n",
    "\n",
    "    \n",
    "    print(\"Energia Electronica: \",E_elec)\n",
    "\n",
    "    #Paso 8. ¿$E_i=E_{i-1}$?, Si: acabe. No: volver a paso 4.\n",
    "\n",
    "        "
   ]
  },
  {
   "cell_type": "markdown",
   "metadata": {},
   "source": [
    "**Paso 9.** Calcular energía nuclear y sumarla a la energía electrónica.\n",
    "\\begin{equation}\n",
    "E_{\\rm nuc} = \\sum_{A>B}\\frac{Z_AZ_B}{r_{AB}}\n",
    "\\end{equation}\n",
    "\\begin{equation}\n",
    "E_{Tot} = E_{elec} + E_{nuc}\n",
    "\\end{equation}"
   ]
  },
  {
   "cell_type": "code",
   "execution_count": null,
   "metadata": {},
   "outputs": [],
   "source": [
    "E_nuc = H2.nuclear_repulsion_energy() \n",
    "print(\"Energia nuclear: \", E_nuc)\n",
    "E_T = \n",
    "print(\"Energia Total: \", E_T)"
   ]
  },
  {
   "cell_type": "markdown",
   "metadata": {},
   "source": [
    "## Método Simple. PSI4"
   ]
  },
  {
   "cell_type": "markdown",
   "metadata": {},
   "source": [
    "Geometría del agua\n",
    "\n",
    "|Átomo|X (A)|Y (A)|Z (A)|\n",
    "|----|----|----|----|\n",
    "|H|0.0000|0.0000|0.0000|\n",
    "|H|0.0000|0.0000|0.7414|\n"
   ]
  },
  {
   "cell_type": "code",
   "execution_count": null,
   "metadata": {},
   "outputs": [],
   "source": []
  },
  {
   "cell_type": "code",
   "execution_count": null,
   "metadata": {},
   "outputs": [],
   "source": []
  },
  {
   "cell_type": "code",
   "execution_count": null,
   "metadata": {},
   "outputs": [],
   "source": []
  },
  {
   "cell_type": "markdown",
   "metadata": {},
   "source": [
    "## Referencias"
   ]
  },
  {
   "cell_type": "markdown",
   "metadata": {},
   "source": [
    "- Szabo, A.; Ostlund, N. S. Modern Quantum Chemistry: Introduction to Advanced Electronic Structure Theory; Dover Publications: Mineola, N.Y, 1996."
   ]
  },
  {
   "cell_type": "markdown",
   "metadata": {},
   "source": [
    "Hecho por Juan Felipe Huan Lew Yee y Jorge Martín del Campo Ramírez para la clase de Química Cuántica I del ciclo 2019-I. Universidad Nacional Autónoma de México.\n",
    "\n",
    "Este archivo puede distribuise libremente y ser considerado Open Source. Si deseas modificarlo para su distribución, solo se pide conservar el nombre de los autores originales."
   ]
  }
 ],
 "metadata": {
  "kernelspec": {
   "display_name": "Python 3",
   "language": "python",
   "name": "python3"
  },
  "language_info": {
   "codemirror_mode": {
    "name": "ipython",
    "version": 3
   },
   "file_extension": ".py",
   "mimetype": "text/x-python",
   "name": "python",
   "nbconvert_exporter": "python",
   "pygments_lexer": "ipython3",
   "version": "3.8.5"
  }
 },
 "nbformat": 4,
 "nbformat_minor": 2
}
