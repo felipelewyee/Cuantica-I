{
 "cells": [
  {
   "cell_type": "markdown",
   "metadata": {},
   "source": [
    "# Ejercicio 2"
   ]
  },
  {
   "cell_type": "markdown",
   "metadata": {},
   "source": [
    "# Partícula en el anillo"
   ]
  },
  {
   "cell_type": "markdown",
   "metadata": {},
   "source": [
    "Es el sistema de una partícula moviéndose en una trayectoria de radio constante tal que $x^2 + y^2 = r^2$.\n",
    "\n",
    "El Hamiltoniano para una partícula en dos dimensiones es:\n",
    "\\begin{equation}\n",
    "H = -\\frac{\\hbar^2}{2m} \\left( \\frac{\\partial^2}{\\partial x^2} + \\frac{\\partial^2}{\\partial y^2} \\right) = -\\frac{\\hbar^2}{2mr^2} \\left( \\frac{\\partial^2}{\\partial r^2} + \\frac{1}{r} \\frac{\\partial}{\\partial r} + \\frac{1}{r^2} \\frac{\\partial^2}{\\partial \\phi^2} \\right)\n",
    "\\end{equation}\n",
    "\n",
    "\n",
    "Como r es constante, entonces:\n",
    "\\begin{equation}\n",
    "H = -\\frac{\\hbar^2}{2mr^2} \\frac{d^2}{d\\phi^2}\n",
    "\\end{equation}\n",
    "\n",
    "Tal que la ecuación de Schrodinger resulta:\n",
    "\\begin{equation}\n",
    "-\\frac{\\hbar^2}{2mr^2} \\frac{d^2}{d\\phi^2} \\psi = E \\psi\n",
    "\\end{equation}\n",
    "\n",
    "Cuyas soluciones son\n",
    "\\begin{equation}\n",
    "\\psi = Ae^{im_l\\phi} + Be^{-im_l\\phi}\n",
    "\\end{equation}\n",
    "\n",
    "con $m_l = ( 2mr^2 E/\\hbar^2 )^{1/2}$, de donde se obtiene que \n",
    "\\begin{equation}\n",
    "E = \\frac{\\hbar^2 m_l^2}{2mr^2}\n",
    "\\end{equation}\n",
    "\n",
    "La condición cíclica implica que $\\psi(\\phi) = \\psi(\\phi+2\\pi)$, es decir:\n",
    "\\begin{equation}\n",
    "Ae^{im_l\\phi} + Be^{-im_l\\phi} = Ae^{im_l\\phi}e^{im_l2\\pi} + Be^{-im_l2\\pi}\n",
    "\\end{equation}\n",
    "\n",
    "Por la cuál $m_l$ debe ser un número entero. Es decir: $m_l = {0, \\pm 1, \\pm 2, \\cdots}$.\n",
    "\n",
    "Tras normslizar y con B=0,\n",
    "\\begin{equation}\n",
    "\\psi = \\left( \\frac{1}{2\\pi} \\right)^{1/2} e^{i m_l \\phi} = \\left( \\frac{1}{2\\pi} \\right)^{1/2} cos(m_l \\phi) + i \\left( \\frac{1}{2\\pi} \\right)^{1/2} sin(m_l \\phi)\n",
    "\\end{equation}"
   ]
  },
  {
   "cell_type": "markdown",
   "metadata": {},
   "source": [
    "**Grafique la función de onda y su cuadrado para $m_l=1$**"
   ]
  },
  {
   "cell_type": "code",
   "execution_count": null,
   "metadata": {},
   "outputs": [],
   "source": []
  },
  {
   "cell_type": "markdown",
   "metadata": {},
   "source": [
    "# Particula en la esfera"
   ]
  },
  {
   "cell_type": "markdown",
   "metadata": {},
   "source": [
    "Se tiene una partícula moviéndose sobre una superficie esférica de radio constante.\n",
    "\n",
    "La ecuación de Schrodinger a resolver es:\n",
    "\\begin{equation}\n",
    "-\\frac{\\hbar^2}{2m} \\nabla^2 \\psi(\\theta,\\phi) = E \\psi(\\theta,\\phi)\n",
    "\\end{equation}\n",
    "\n",
    "Donde\n",
    "\\begin{equation}\n",
    "\\nabla^2 = \\frac{1}{r} \\frac{\\partial^2}{\\partial r^2}r + \\frac{1}{r^2} \\Lambda^2 = \\frac{1}{r} \\frac{\\partial^2}{\\partial r^2} r + \\frac{1}{r^2} \\left( \\frac{1}{sin^2 \\theta} \\frac{\\partial^2}{\\partial \\phi^2} + \\frac{1}{sin \\theta} \\frac{\\partial}{\\partial \\theta} sin \\theta \\frac{\\partial}{\\partial \\theta} \\right)\n",
    "\\end{equation}\n",
    "\n",
    "Si r es constante entonces\n",
    "\\begin{equation}\n",
    "-\\frac{\\hbar^2}{2mr^2} \\Lambda^2 \\psi(\\theta,\\phi) = E \\psi(\\theta,\\phi)\n",
    "\\end{equation}\n",
    "\n",
    "Las soluciones de esta ecuación son los armónicos esféricos.\n",
    "\n",
    "\\begin{equation}\n",
    "Y_l^{m_l}(\\theta,\\phi) = \\sqrt{\\frac{2l+1}{4\\pi} \\frac{(l-|m_l|)!}{(l+|m_l|)!}} e^{i m_l \\phi} P_l^{m_l}(cos(\\theta))\n",
    "\\end{equation}\n",
    "\n",
    "donde $P_l^{m_l}(cos(\\phi))$ son los polinomios asociados de Legendre dados por:\n",
    "\\begin{equation}\n",
    "P_l^{m_l}(x) = \\frac{l}{2^l l!}(1-x^2)^{|m_l|/2} \\frac{d^{l+|m_l|}}{dx^{l+|m_l|}} (x^2-1)^l\n",
    "\\end{equation}\n",
    "\n",
    "En la tabla se muestran los primeros armónicos esféricos.\n",
    "\n",
    "\n",
    "|$l$|$m_l$|Armónico esférico $Y_l^{m_l}(\\theta,\\phi)$|\n",
    "|---|---|---|\n",
    "|0|0|$\\frac{1}{(4\\pi)^{1/2}}$|\n",
    "|1|-1|$+\\frac{3}{(8\\pi)^{1/2}} sin \\theta e^{-i\\phi}$|\n",
    "|1|0|$\\frac{3}{(4\\pi)^{1/2}} cos \\theta$|\n",
    "|1|1|$-\\frac{3}{(8\\pi)^{1/2}} sin \\theta e^{i\\phi}$|\n",
    "|2|-2|$+\\frac{15}{(32\\pi)^{1/2}} sin^2 \\theta e^{-2i\\phi}$|\n",
    "|2|-1|$+\\frac{15}{(8\\pi)^{1/2}} sin \\theta cos \\theta e^{-i\\phi}$|\n",
    "|2|0|$\\frac{5}{(16\\pi)^{1/2}} (3cos^2 \\theta - 1)$|\n",
    "|2|1|$-\\frac{15}{(8\\pi)^{1/2}} sin \\theta cos \\theta e^{i\\phi}$|\n",
    "|2|2|$-\\frac{15}{(32\\pi)^{1/2}} sin^2 \\theta e^{2i\\phi}$|\n",
    "\n"
   ]
  },
  {
   "cell_type": "markdown",
   "metadata": {},
   "source": [
    "**Grafique el armónico esférico $|Y_1^{0}|$ y su cuadrado.**"
   ]
  },
  {
   "cell_type": "code",
   "execution_count": null,
   "metadata": {},
   "outputs": [],
   "source": []
  },
  {
   "cell_type": "markdown",
   "metadata": {},
   "source": [
    "# Rotor Rígido"
   ]
  },
  {
   "cell_type": "markdown",
   "metadata": {},
   "source": [
    "Se trata de un sistema de dos masas $m_1$ y $m_2$ moviéndose a una separación fija $r=r_1-r_2$. El Hamiltoniano consta de los términos de energía cinética:\n",
    "\\begin{equation}\n",
    "H = -\\frac{\\hbar^2}{2m_1} \\nabla^2_1 -\\frac{\\hbar^2}{2m_2} \\nabla^2_2\n",
    "\\end{equation}\n",
    "\n",
    "Este sistema es equivalente al de una partícula de masa reducida girando en torno al centro de masa de ambas partículas, con\n",
    "\\begin{equation}\n",
    "m_T = m_1 + m_2\n",
    "\\end{equation}\n",
    "\\begin{equation}\n",
    "\\frac{1}{\\mu} = \\frac{1}{m_1} + \\frac{1}{m_2}\n",
    "\\end{equation}\n",
    "\\begin{equation}\n",
    "R_{cm} = \\left( \\frac{m_1}{m_T} \\right) r_1 + \\left( \\frac{m_2}{m_T} \\right) r_2\n",
    "\\end{equation}\n",
    "\n",
    "y los Hamiltonianos son equivalentes, es decir:\n",
    "\\begin{equation}\n",
    "H = -\\frac{\\hbar^2}{2m_T} \\nabla^2_{R_{cm}} - \\frac{\\hbar^2}{2\\mu} \\nabla^2_{r}\n",
    "\\end{equation}\n",
    "\n",
    "La ecuación de Schrodinger a resolver es:\n",
    "\\begin{equation}\n",
    "\\left(-\\frac{\\hbar^2}{2m_T} \\nabla^2_{R_{cm}} - \\frac{\\hbar^2}{2\\mu} \\nabla^2_{r}\\right) \\psi = E \\psi\n",
    "\\end{equation}\n",
    "\n",
    "Se propone una función de onda separable en una función de onda del centro de masa y una función de onda de la partícula de masa reducida $\\psi=\\psi_{cm}\\psi_r$:\n",
    "\\begin{equation}\n",
    "\\left(-\\frac{\\hbar^2}{2m_T} \\nabla^2_{R_{cm}} - \\frac{\\hbar^2}{2\\mu} \\nabla^2_{r}\\right) \\psi_{cm}\\psi_r = E \\psi_{cm}\\psi_r\n",
    "\\end{equation}\n",
    "\n",
    "\\begin{equation}\n",
    "-\\psi_{r} \\frac{\\hbar^2}{2m_T} \\nabla^2_{R_{cm}} \\psi_{cm} - \\psi_{cm}\\frac{\\hbar^2}{2\\mu} \\nabla^2_{r} \\psi_r = \\psi_r E_{cm} \\psi_{cm} +  \\psi_{cm} E_r \\psi_r\n",
    "\\end{equation}\n",
    "\n",
    "Separando los términos de $\\psi_r$ y $\\psi_{cm}$, y considrando r constante:\n",
    "\n",
    "**Partícula libre**\n",
    "\\begin{equation}\n",
    "-\\frac{\\hbar^2}{2m_T} \\nabla^2_{R_{cm}} \\psi_{cm} = E_{cm} \\psi_{cm}\n",
    "\\end{equation}\n",
    "**Partícula en la esfera**\n",
    "\\begin{equation}\n",
    "- \\frac{\\hbar^2}{2\\mu} \\nabla^2_{r} \\psi_r = E_r \\psi_r\n",
    "\\end{equation}"
   ]
  },
  {
   "cell_type": "markdown",
   "metadata": {},
   "source": [
    "# Referencias"
   ]
  },
  {
   "cell_type": "markdown",
   "metadata": {},
   "source": [
    "- Atkins, P. W.; Friedman, R. Molecular Quantum Mechanics, 4th ed.; Oxford University Press: New York, 2005.\n",
    "- Zettili, N. Quantum Mechanics: Concepts and Applications, 2nd ed.; Wiley: Chichester, U.K, 2009.\n",
    "- Levine, I. N. Quantum Chemistry, 5th ed.; Prentice Hall: Upper Saddle River, N.J, 2000.\n",
    "- McQuarrie, D. A.; Simon, J. D. Physical Chemistry: A Molecular Approach; University Science Books: Sausalito, Calif, 1997."
   ]
  },
  {
   "cell_type": "markdown",
   "metadata": {},
   "source": [
    "Hecho por Juan Felipe Huan Lew Yee y Jorge Martín del Campo Ramírez para la clase de Química Cuántica I del ciclo 2019-I. Universidad Nacional Autónoma de México.\n",
    "\n",
    "Este archivo puede distribuise libremente y ser considerado Open Source. Si deseas modificarlo para su distribución, solo se pide conservar el nombre de los autores originales."
   ]
  }
 ],
 "metadata": {
  "kernelspec": {
   "display_name": "Python 3",
   "language": "python",
   "name": "python3"
  },
  "language_info": {
   "codemirror_mode": {
    "name": "ipython",
    "version": 3
   },
   "file_extension": ".py",
   "mimetype": "text/x-python",
   "name": "python",
   "nbconvert_exporter": "python",
   "pygments_lexer": "ipython3",
   "version": "3.6.6"
  }
 },
 "nbformat": 4,
 "nbformat_minor": 2
}
