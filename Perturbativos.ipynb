{
 "cells": [
  {
   "cell_type": "markdown",
   "metadata": {},
   "source": [
    "# Métodos perturbativos\n",
    "\n",
    "$\\newcommand{\\ket}[1]{\\left|{#1}\\right\\rangle}$\n",
    "$\\newcommand{\\bra}[1]{\\left\\langle{#1}\\right|}$\n",
    "$\\newcommand{\\braket}[2]{\\left\\langle{#1}\\middle|{#2}\\right\\rangle}$"
   ]
  },
  {
   "cell_type": "markdown",
   "metadata": {
    "slideshow": {
     "slide_type": "-"
    }
   },
   "source": [
    "Los métodos perturbativos permiten aproximarnos a la solución de un sistema de interés a partir de otro sistema más simple cuya solución ya se conozca. Un ejemplo de esto es resolver el átomo de helio a partir del sistema completamente conocido del átomo de hidrógeno. Para plantear el fundamento de los métodos perturbativos, consideremos un sistema conocido, cuya Hamiltoniano es $\\mathcal{H}_0$, y que cumple la ecuación de Schrodinger\n",
    "\\begin{equation}\n",
    "\\mathcal{H}_0 \\ket{\\psi_i^{(0)}} = E_i^{(0)} \\ket{\\psi_i^{(0)}}\n",
    "\\end{equation}\n",
    "\n",
    "como conocemos completamente al sistema, sabemos que las funciones de onda que cumplen la ecuación son $\\psi_i^{(0)}$ con energías $E_i^{(0)}$. El sistema a estudiar tiene un Hamiltoniano $\\mathcal{H}$, y cumple la ecuación de Schrodinger \n",
    "\\begin{equation}\n",
    "\\mathcal{H} \\ket{\\psi_i^{\\phantom{(0)}}} = E_i \\ket{\\psi_i^{\\phantom{(0)}}}\n",
    "\\end{equation}\n",
    "las soluciones a esta ecuación son las funciones de onda $\\psi_i$ con energías $E_i$, sin embargo, como no hemos resuelto el problema, estas son desconocidas.\n",
    "\n",
    "Podemos usar el sistema conocido ($\\mathcal{H}_0$) para resolver el sistema a estudiar ($\\mathcal{H}$) al agregar una **perturbación** ($\\mathcal{V}$). Es deseable que ambos sistemas se parezcan.\n",
    "\\begin{equation}\n",
    "\\mathcal{H} = \\mathcal{H}_0 + \\mathcal{V}\n",
    "\\end{equation}\n",
    "\n",
    "Transformemos poco a poco el Hamiltoniano del sistema conocido en el del sistema a estudiar multiplicando la perturbación por $\\lambda$, el cual modula la perturbación\n",
    "\\begin{equation}\n",
    "    \\mathcal{H}' = \\mathcal{H}_0 + \\color{red}{\\lambda} \\mathcal{V}\n",
    "\\end{equation}\n",
    "\n",
    "Tenemos los siguientes casos límite\n",
    "\\begin{equation}\n",
    "\\lambda = \\left\\{\n",
    "  \\begin{array}{lll}\n",
    "  0      & \\mathrm{Se\\ obtiene\\ el\\ sistema\\ conocido\\ }\\mathcal{H}'=\\mathcal{H}_0\\\\\n",
    "  1      & \\mathrm{Se\\ obtiene\\ el\\ sistema\\ a\\ estudiar }\\mathcal{H}'=\\mathcal{H}\n",
    "  \\end{array}\n",
    "  \\right.\n",
    "\\end{equation}\n",
    "\n",
    "Considerando la expresión anterior, podemos escribir la ecuación de Schrodinger como\n",
    "\\begin{equation}\n",
    "    (\\mathcal{H}_0 + \\color{red}{\\lambda} \\mathcal{V}) \\ket{\\psi_i} = E_i \\ket{\\psi_i}\n",
    "\\end{equation}\n",
    "si tomamos $\\lambda=0$ se recupera la ecuación de Schrodinger del sistema conocido, y con $\\lambda=1$ se recupera la ecuación de Schrodinger del sistema a estudiar, por tanto, la forma de $E_i$ y $\\psi_i$ depende de $\\lambda$.\n",
    "\n",
    "Si expandimos $E_i$ y $\\psi_i$ en series de Taylor respecto a $\\lambda$ se obtienen las expresiones\n",
    "\\begin{eqnarray}\n",
    "E_i(\\lambda) &=& \\sum_{n=0}^{\\infty} \\frac{1}{n!} \\frac{d^n E_i}{d\\lambda^n} (\\lambda)^n = E_i^{(0)} + \\lambda E_i^{(1)} + \\lambda^2 E_i^{(2)} + ... \\\\\n",
    "\\psi_i(\\lambda) &=& \\sum_{n=0}^{\\infty} \\frac{1}{n!} \\frac{d^n \\psi_i}{d\\lambda^n} (\\lambda)^n = \\psi_i^{(0)} + \\lambda \\psi_i^{(1)} + \\lambda^2 \\psi_i^{(2)} + ...\n",
    "\\end{eqnarray}\n",
    "\n",
    "Al término $E_i^{(n)}$ se le conoce como **corrección de orden-$n$ a la energía**, mientras que al término $\\psi_i^{(n)}$ se le conoce como **corrección de orden-$n$ a la función de onda**."
   ]
  },
  {
   "cell_type": "markdown",
   "metadata": {},
   "source": [
    "## Corrección a la energía"
   ]
  },
  {
   "cell_type": "markdown",
   "metadata": {},
   "source": [
    "Al sustituir las series en la ecuación de Schrodinger se obtiene\n",
    "\\begin{eqnarray}\n",
    "    (\\mathcal{H}_0 &+& \\lambda \\mathcal{V}) \\left(\\ket{\\psi_i^{(0)}} + \\lambda \\ket{\\psi_i^{(1)}} + \\lambda^2 \\ket{\\psi_i^{(2)}} + ... \\right) \\nonumber \\\\\n",
    "    &=& \\left(E_i^{(0)} + \\lambda E_i^{(1)} + \\lambda^2 E_i^{(2)} + ... \\right) \\left(\\ket{\\psi_i^{(0)}} + \\lambda \\ket{\\psi_i^{(1)}} + ... \\right)\n",
    "\\end{eqnarray}\n",
    "\n",
    "Al operar y agrupar por $\\lambda^n$\n",
    "\\begin{eqnarray}\n",
    "    \\color{blue}{\\left(\\mathcal{H}_0 \\ket{\\psi_i^{(0)}}\\right)} \\color{red}{\\lambda^0} \n",
    "    + \\color{olive}{\\left(\\mathcal{H}_0 \\ket{\\psi_i^{(1)}} + \\mathcal{V}\\ket{\\psi_i^{(0)}}\\right)} \\color{red}{\\lambda^1} \n",
    "    + \\color{purple}{\\left(\\mathcal{H}_0 \\ket{\\psi_i^{(2)}} + \\mathcal{V}\\ket{\\psi_i^{(1)}}\\right)} \\color{red}{\\lambda^2}\n",
    "    + ... \\nonumber\n",
    "    \\\\\n",
    "    = \\color{blue}{\\left(E_i^{(0)} \\ket{\\psi_i^{(0)}}\\right)} \\color{red}{\\lambda^0}\n",
    "    + \\color{olive}{\\left(E_i^{(0)} \\ket{\\psi_i^{(1)}} + E_i^{(1)} \\ket{\\psi_i^{(0)}}\\right)} \\color{red}{\\lambda^1}\n",
    "    + \\color{purple}{\\left(E_i^{(2)} \\ket{\\psi_i^{(0)}} + E_i^{(1)} \\ket{\\psi_i^{(1)}} + E_i^{(0)} \\ket{\\psi_i^{(2)}}\\right)} \\color{red}{\\lambda^2} + ...\n",
    "\\end{eqnarray}\n",
    "\n",
    "La expresión anterior es un polinomio de $\\color{red}{\\lambda^n}$, y cada término a su derecha se puede considerar como un **coeficiente**. La igualdad se cumple solo si los coeficientes de cada lado son iguales, es decir\n",
    "- $\\lambda^0$: $\\color{blue}{\\mathcal{H}_0 \\ket{\\psi_i^{(0)}} = E_i^{(0)} \\ket{\\psi_i^{(0)}}}$\n",
    "- $\\lambda^1$: $\\color{olive}{\\mathcal{H}_0 \\ket{\\psi_i^{(1)}} + \\mathcal{V}\\ket{\\psi_i^{(0)}} = E_i^{(0)} \\ket{\\psi_i^{(1)}} + E_i^{(1)} \\ket{\\psi_i^{(0)}}}$    \n",
    "- $\\lambda^2$: $\\color{purple}{\\mathcal{H}_0 \\ket{\\psi_i^{(2)}} + \\mathcal{V}\\ket{\\psi_i^{(1)}} = E_i^{(2)} \\ket{\\psi_i^{(0)}} + E_i^{(1)} \\ket{\\psi_i^{(1)}} + E_i^{(0)} \\ket{\\psi_i^{(2)}}}$\n",
    "-    $\\vdots$\n",
    "- $\\lambda^n$: $\\mathcal{H}_0 \\ket{\\psi_i^{(n)}} + \\mathcal{V}\\ket{\\psi_i^{(n-1)}} = \\sum_{k=0}^n E_i^{(n-k)} \\ket{\\psi_i^{(k)}}$\n",
    "\n",
    "En este punto se propone la normalización intermedia, que significa que se cumple la siguiente condición\n",
    "\\begin{equation}\n",
    "    \\braket{\\psi_i^{(0)}}{\\psi_i} = 1 \\>\\>y\\>\\>\\braket{\\psi_i^{(0)}}{\\psi_i^{(n)}} = 0 \\>\\>;\\>\\> n=1,2,...\n",
    "\\end{equation}\n",
    "\n",
    "Multiplicamos por $\\color{blue}{\\bra{\\psi_i^{(0)}}}$ por la izquierda\n",
    "- $\\lambda^0$: $\\color{blue}{\\bra{\\psi_i^{(0)}}} \\mathcal{H}_0 \\ket{\\psi_i^{(0)}} = \\color{blue}{\\bra{\\psi_i^{(0)}}} E_i^{(0)} \\ket{\\psi_i^{(0)}}$\n",
    "- $\\lambda^1$: $\\color{blue}{\\bra{\\psi_i^{(0)}}} \\mathcal{H}_0 \\ket{\\psi_i^{(1)}} + \\color{blue}{\\bra{\\psi_i^{(0)}}} \\mathcal{V}\\ket{\\psi_i^{(0)}} = \\color{blue}{\\bra{\\psi_i^{(0)}}} E_i^{(0)} \\ket{\\psi_i^{(1)}} + \\color{blue}{\\bra{\\psi_i^{(0)}}} E_i^{(1)} \\ket{\\psi_i^{(0)}}$    \n",
    "- $\\lambda^2$: $\\color{blue}{\\bra{\\psi_i^{(0)}}} \\mathcal{H}_0 \\ket{\\psi_i^{(2)}} + \\color{blue}{\\bra{\\psi_i^{(0)}}}\\mathcal{V}\\ket{\\psi_i^{(1)}} = \\color{blue}{\\bra{\\psi_i^{(0)}}}E_i^{(2)} \\ket{\\psi_i^{(0)}} + \\color{blue}{\\bra{\\psi_i^{(0)}}}E_i^{(1)} \\ket{\\psi_i^{(1)}} + \\color{blue}{\\bra{\\psi_i^{(0)}}}E_i^{(0)} \\ket{\\psi_i^{(2)}}$\n",
    "- $\\vdots$    \n",
    "- $\\lambda^n$: $\\color{blue}{\\bra{\\psi_i^{(0)}}}\\mathcal{H}_0 \\ket{\\psi_i^{(n)}} + \\color{blue}{\\bra{\\psi_i^{(0)}}}\\mathcal{V}\\ket{\\psi_i^{(n-1)}} = \\sum_{k=0}^n \\color{blue}{\\bra{\\psi_i^{(0)}}}E_i^{(n-k)} \\ket{\\psi_i^{(k)}}$\n",
    "\n",
    "Cancelamos los elementos que dan cero por ortogonalidad.\n",
    "\n",
    "- $\\lambda^0$: $E_i^{(0)} = \\bra{\\psi_i^{(0)}} \\mathcal{H}_0 \\ket{\\psi_i^{(0)}}$\n",
    "- $\\lambda^1$: $E_i^{(1)} = \\bra{\\psi_i^{(0)}} \\mathcal{V}\\ket{\\psi_i^{(0)}}$    \n",
    "- $\\lambda^2$: $E_i^{(2)} = \\bra{\\psi_i^{(0)}}\\mathcal{V}\\ket{\\psi_i^{(1)}}$\n",
    "- $\\lambda^n$: $E_i^{(n)} = \\bra{\\psi_i^{(0)}}\\mathcal{V}\\ket{\\psi_i^{(n-1)}}$\n",
    "\n",
    "**¡Hemos obtenido las correcciones a orden-n de la energía!**"
   ]
  },
  {
   "cell_type": "markdown",
   "metadata": {},
   "source": [
    "## Corrección a la función de onda"
   ]
  },
  {
   "cell_type": "markdown",
   "metadata": {},
   "source": [
    "Previamente teníamos:\n",
    "\\begin{equation}\n",
    "    \\mathcal{H}_0 \\ket{\\psi_i^{(1)}} + \\mathcal{V}\\ket{\\psi_i^{(0)}} = E_i^{(0)} \\ket{\\psi_i^{(1)}} + E_i^{(1)} \\ket{\\psi_i^{(0)}}\n",
    "\\end{equation}\n",
    "\n",
    "\n",
    "Multiplicando por $\\bra{\\psi_k^{(0)}}$ y reacomodando:\n",
    "\\begin{equation}\n",
    "    (E_i^{(0)} - E_k^{(0)})\\braket{\\psi_k^{(0)}}{\\psi_i^{(1)}} = \\bra{\\psi_k^{(0)}} \\mathcal{V} \\ket{\\psi_i^{(0)}}\n",
    "\\end{equation}\n",
    "\n",
    "Por lo tanto:\n",
    "\\begin{equation}\n",
    "    c_{ik}^{(1)} = \\braket{\\psi_k^{(0)}}{\\psi_i^{(1)}} = \\frac{\\bra{\\psi_k^{(0)}} \\mathcal{V} \\ket{\\psi_i^{(0)}}}{E_i^{(0)} - E_k^{(0)}}\n",
    "\\end{equation}\n",
    "\n",
    "- Ya tenemos los coeficientes $c_{ik}^{(1)} = \\braket{\\psi_k^{(0)}}{\\psi_i^{(1)}} = \\frac{\\bra{\\psi_k^{(0)}} V \\ket{\\psi_i^{(0)}}}{E_i^{(0)} - E_k^{(0)}}$.\n",
    "- Por tanto tenemos la corrección a la función de onda $\\ket{\\psi_i^{(1)}} = \\sum_k c_{ik}^{(1)} \\ket{\\psi_k^{(0)}}$.\n",
    "- Por tanto tenemos la corrección a la energía $E_i^{(2)} = \\bra{\\psi_i^{(0)}}\\mathcal{V}\\ket{\\psi_i^{(1)}}$.\n",
    "\n",
    "Repitiendo el procedimiento podemos obtener otras correcciones."
   ]
  }
 ],
 "metadata": {
  "kernelspec": {
   "display_name": "Python 3",
   "language": "python",
   "name": "python3"
  },
  "language_info": {
   "codemirror_mode": {
    "name": "ipython",
    "version": 3
   },
   "file_extension": ".py",
   "mimetype": "text/x-python",
   "name": "python",
   "nbconvert_exporter": "python",
   "pygments_lexer": "ipython3",
   "version": "3.7.7"
  }
 },
 "nbformat": 4,
 "nbformat_minor": 4
}
