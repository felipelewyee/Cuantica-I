{
 "cells": [
  {
   "cell_type": "markdown",
   "metadata": {
    "id": "3_tkSDmfEtap"
   },
   "source": [
    "# Efecto Túnel"
   ]
  },
  {
   "cell_type": "markdown",
   "metadata": {
    "id": "ffWT6U3FE6a9"
   },
   "source": [
    "## Barrera de potencial $V$ de longitud infinita\n",
    "\n",
    "Considere una partícula moviéndose hacia una barrera de potencial V en $x=0$. Antes de $x=0$ el potencial vale cero, y después vale $V$, es decir:\n",
    "\n",
    "$$\n",
    "V(x) = \\left\\{\n",
    "  \\begin{array}{lll}\n",
    "  0      & \\mathrm{si\\ } x < 0 & I\\\\\n",
    "  V & \\mathrm{si\\ } 0 \\le x < \\infty & II \\\\\n",
    "  \\end{array}\n",
    "  \\right.\n",
    "$$\n",
    "\n",
    "En este sistema consideraremos el caso en el que la partícula tiene menor energía, $E$, que el potencial, $V$, es decir, $E < V$.\n",
    "\n",
    "```{admonition} Para pensar\n",
    ":class: tip\n",
    "De manera clásica, la partícula no podría pasar del lado izquierdo (región I) al lado derecho (región II) de la caja, porque no tiene suficiente energía. Por esta razón, no podríamos encontrar a la partícula en la región II. ¿Qué pasará cuánticamente?\n",
    "```\n",
    "\n",
    "Para resolver el sistema hay que planear el Hamiltoniano por regiones y resolver una función de onda para cada región.\n",
    "\n",
    "```{admonition} Inserto matemático: Hamiltoniano por regiones\n",
    ":class: dropdown\n",
    "\n",
    "| Región      | Hamiltoniano | Función de onda | Constantes |\n",
    "|:----------------:|:---------:|:--------:|:--------:|\n",
    "| I | $- \\frac{\\hbar^2}{2m} \\frac{d^2}{dx^2}$ | $\\psi_I(x) = Acos(k_1x) + Bsin(k_1x)$ | $k_1^2 = \\frac{2mE}{\\hbar^2}$ |\n",
    "| II| $- \\frac{\\hbar^2}{2m} \\frac{d^2}{dx^2} + V$ | $\\psi_{II}(x) = C e^{-k_2x} + De^{k_2x}$ | $k_2^2 = \\frac{2m(V-E)}{\\hbar^2}$ |\n",
    "```\n",
    "\n",
    "Se obtienen las funciones de onda\n",
    "\n",
    "$$\n",
    "\\psi_I(x) = Acos(k_1x) + Bsin(k_1x)\n",
    "$$\n",
    "\n",
    "$$\n",
    "\\psi_{II}(x) = C e^{-k_2x} + De^{k_2x}\n",
    "$$\n",
    "\n",
    "Los coeficientes pueden obtenerse a partir de la condición de continuidad de la función de onda en $x=0$\n",
    "\n",
    "```{admonition} Inserto matemático: Condiciones de continuidad\n",
    ":class: dropdown\n",
    "\n",
    "| Regiones | Condición | Ecuación |\n",
    "|:---: |:---: | :---:|\n",
    "| I y II | $\\psi_{I}(0) = \\psi_{II}(0)$ | $A = C$ |\n",
    "| II | $\\psi_{II}(\\infty) = 0$ | $D = 0$|\n",
    "| I y II | $\\frac{\\psi_{I}}{dx}(0) = \\frac{\\psi_{II}}{dx}(0)$ | $k_1 B = - k_2 C$|\n",
    "```\n",
    "\n",
    "Se obtiene\n",
    "\n",
    "$$\n",
    "B = -\\frac{k_2}{k_1} A\n",
    "$$\n",
    "\n",
    "$$\n",
    "C = A\n",
    "$$\n",
    "\n",
    "$$\n",
    "D = 0\n",
    "$$"
   ]
  },
  {
   "cell_type": "markdown",
   "metadata": {
    "id": "DjqT9ED5L0CL"
   },
   "source": [
    "**Importe numpy y pyplot de matplotlib.**"
   ]
  },
  {
   "cell_type": "code",
   "execution_count": 2,
   "metadata": {
    "id": "kZHhg0qML4oc"
   },
   "outputs": [],
   "source": [
    "# Importe librerías"
   ]
  },
  {
   "cell_type": "code",
   "execution_count": 3,
   "metadata": {
    "id": "VAKUysgW4W01",
    "tags": [
     "hide-cell"
    ]
   },
   "outputs": [],
   "source": [
    "import numpy as np\n",
    "from matplotlib import pyplot as plt"
   ]
  },
  {
   "cell_type": "markdown",
   "metadata": {
    "id": "r8oBQQpjL9dN"
   },
   "source": [
    "**De valores a las constantes del sistema**. Considere $m=1$, $\\hbar=1$. Asigne algún valor a la energía y al potencial, respetando que $V > E$, observe que en este caso la energía no está cuantizada, por lo que puede tomar cualquier valor. A manera de ejemplo, considere $E=1$ y $V=10$. "
   ]
  },
  {
   "cell_type": "code",
   "execution_count": 4,
   "metadata": {
    "id": "w5aUcz4ee-jY"
   },
   "outputs": [],
   "source": [
    "# Valores de m,hbar,E,V"
   ]
  },
  {
   "cell_type": "code",
   "execution_count": 5,
   "metadata": {
    "id": "YVvBrBC04NBX",
    "tags": [
     "hide-cell"
    ]
   },
   "outputs": [],
   "source": [
    "m = 1\n",
    "hbar = 1\n",
    "E = 1\n",
    "V = 10"
   ]
  },
  {
   "cell_type": "markdown",
   "metadata": {
    "id": "EruRn1ePNTM0"
   },
   "source": [
    "Defina $k_1$ y $k_2$, recuerde que\n",
    "\n",
    "$$\n",
    "k_1 = \\frac{\\sqrt{2mE}}{\\hbar}\n",
    "$$\n",
    "\n",
    "$$\n",
    "k_2 = \\frac{\\sqrt{2m(V-E)}}{\\hbar}\n",
    "$$"
   ]
  },
  {
   "cell_type": "code",
   "execution_count": 6,
   "metadata": {
    "id": "DoUmGJlefDwC"
   },
   "outputs": [],
   "source": [
    "# k1 y k2"
   ]
  },
  {
   "cell_type": "code",
   "execution_count": 7,
   "metadata": {
    "id": "fNQ-Is1YNqnF",
    "tags": [
     "hide-cell"
    ]
   },
   "outputs": [],
   "source": [
    "k1 = np.sqrt(2*m*E)/hbar\n",
    "k2 = np.sqrt(2*m*(V-E))/hbar"
   ]
  },
  {
   "cell_type": "markdown",
   "metadata": {
    "id": "WKp5MbiLNxwD"
   },
   "source": [
    "Defina las constantes\n",
    "\n",
    "$$\n",
    "B = -\\frac{k_2}{k_1} A\n",
    "$$\n",
    "\n",
    "$$\n",
    "C = A\n",
    "$$\n",
    "\n",
    "Por conveniencia, defina \n",
    "\n",
    "$$\n",
    "A=1\n",
    "$$"
   ]
  },
  {
   "cell_type": "code",
   "execution_count": 8,
   "metadata": {
    "id": "mXcgmjRNfF3B"
   },
   "outputs": [],
   "source": [
    "# A, B, C"
   ]
  },
  {
   "cell_type": "code",
   "execution_count": 9,
   "metadata": {
    "id": "DUCNfee44hk0",
    "tags": [
     "hide-cell"
    ]
   },
   "outputs": [],
   "source": [
    "A = 1\n",
    "B = -k2/k1*A\n",
    "C = A"
   ]
  },
  {
   "cell_type": "markdown",
   "metadata": {
    "id": "QZP7my2TOcEA"
   },
   "source": [
    "Defina el dominio de $x$ para la región I y para la región II, recuerde que ambos se separan en $x=0$."
   ]
  },
  {
   "cell_type": "code",
   "execution_count": 10,
   "metadata": {
    "id": "8-IZ33_HfJK8"
   },
   "outputs": [],
   "source": [
    "# x1 y x2"
   ]
  },
  {
   "cell_type": "code",
   "execution_count": 11,
   "metadata": {
    "id": "2Oi_f3p94ybq",
    "tags": [
     "hide-cell"
    ]
   },
   "outputs": [],
   "source": [
    "x1 = np.linspace(-10,0,100)\n",
    "x2 = np.linspace(0,10,100)"
   ]
  },
  {
   "cell_type": "markdown",
   "metadata": {
    "id": "419fEO_IOqLT"
   },
   "source": [
    "Genere la función de onda para la región I y para la región II. Recuerde\n",
    "\n",
    "$$\n",
    "\\psi_I = A cos(k_1 x) + B sin(k_1 x)\n",
    "$$\n",
    "\n",
    "$$\n",
    "\\psi_{II} = C e^{-k_2 x}\n",
    "$$"
   ]
  },
  {
   "cell_type": "code",
   "execution_count": 12,
   "metadata": {
    "id": "6u0bu0eTfMBO"
   },
   "outputs": [],
   "source": [
    "# psi_I y psi_II"
   ]
  },
  {
   "cell_type": "code",
   "execution_count": 13,
   "metadata": {
    "id": "Zu_vFHRI41YD",
    "tags": [
     "hide-cell"
    ]
   },
   "outputs": [],
   "source": [
    "psi_I = A*np.cos(k1*x1) + B *np.sin(k1*x1)\n",
    "psi_II = C*np.exp(-k2*x2)"
   ]
  },
  {
   "cell_type": "markdown",
   "metadata": {
    "id": "czcRD_87O-i8"
   },
   "source": [
    "Grafique $\\psi_I$ y $\\psi_{II}$"
   ]
  },
  {
   "cell_type": "code",
   "execution_count": 14,
   "metadata": {
    "id": "i4OnkCKvfOmh"
   },
   "outputs": [],
   "source": [
    "# Grafica"
   ]
  },
  {
   "cell_type": "code",
   "execution_count": 15,
   "metadata": {
    "colab": {
     "base_uri": "https://localhost:8080/",
     "height": 282
    },
    "id": "MOSRlMvf5Lze",
    "outputId": "1b25b149-aac9-4a16-a1a7-41ed7180482a",
    "tags": [
     "hide-input"
    ]
   },
   "outputs": [
    {
     "data": {
      "text/plain": [
       "[<matplotlib.lines.Line2D at 0x15360531dd10>]"
      ]
     },
     "execution_count": 15,
     "metadata": {},
     "output_type": "execute_result"
    },
    {
     "data": {
      "image/png": "[encoded data removed]",
      "text/plain": [
       "<Figure size 432x288 with 1 Axes>"
      ]
     },
     "metadata": {
      "needs_background": "light"
     },
     "output_type": "display_data"
    }
   ],
   "source": [
    "plt.plot(x1,psi_I)\n",
    "plt.plot(x2,psi_II)"
   ]
  },
  {
   "cell_type": "markdown",
   "metadata": {
    "id": "Iw51Kw7eRdZV"
   },
   "source": [
    "Note que la partícula puede ser encontrada dentro de la región clásicamente prohibida, esto se conoce como penetración. \n",
    "\n",
    "```{admonition} Concepto: Longitud de decaimiento\n",
    ":class: note\n",
    "\n",
    "La longitud de decaimiento, $\\frac{1}{k_2}$ es la distancia dentro de la barrera a la cual la función de onda a deacído a  $\\frac{1}{e}$.\n",
    "```"
   ]
  },
  {
   "cell_type": "markdown",
   "metadata": {
    "id": "yszq5r5yfR5Q"
   },
   "source": [
    "**Calcule la longitud de decaimiento de este sistema.**"
   ]
  },
  {
   "cell_type": "markdown",
   "metadata": {
    "id": "XsVKjeftRffY"
   },
   "source": [
    "## Barrera de potencial $V$ de longitud finita\n",
    "\n",
    "Considere una partícula moviéndose por la izquierda hacia una barrera de potencial V en $0 \\leq x \\leq  L$, es decir:\n",
    "\n",
    "$$\n",
    "V(x) = \\left\\{\n",
    "  \\begin{array}{lll}\n",
    "  0      & \\mathrm{si\\ } x < 0 & I\\\\\n",
    "  V & \\mathrm{si\\ } 0 \\leq x \\leq L & II \\\\\n",
    "  0 & \\mathrm{si\\ } L \\le x & II \\\\\n",
    "  \\end{array}\n",
    "  \\right.\n",
    "$$\n",
    "\n",
    "Primero consideraremos el caso en el que la partícula tiene menor energía, $E$, que el potencial, $V$, es decir, $E < V$.\n",
    "\n",
    "El sistema puede analizarse por regiones\n",
    "```{admonition} Inserto matemático: Hamiltoniano por regiones\n",
    ":class: dropdown\n",
    "\n",
    "| Región      | Hamiltoniano | Función de onda | Constantes |\n",
    "|:----------------:|:---------:|:--------:|:--------:|\n",
    "| I | $- \\frac{\\hbar^2}{2m} \\frac{d^2}{dx^2}$ | $\\psi_I(x) = Ae^{k_1x} + Be^{-k_1x}$ | $k_1^2 = \\frac{2mE}{\\hbar^2}$ |\n",
    "| II| $- \\frac{\\hbar^2}{2m} \\frac{d^2}{dx^2} + V$ | $\\psi_{II}(x) = C e^{-k_2x} + De^{k_2x}$ | $k_2^2 = \\frac{2m(V-E)}{\\hbar^2}$ |\n",
    "| III | $- \\frac{\\hbar^2}{2m} \\frac{d^2}{dx^2}$ | $\\psi_{III}(x) = Fe^{ik_1x} + Ge^{-ik_1x}$ | $k_1^2 = \\frac{2mE}{\\hbar^2}$ |\n",
    "```\n",
    "\n",
    "Los coeficientes pueden obtenerse a partir de la condición de continuidad de la función de onda en $x=0$ y $x=L$\n",
    "```{admonition} Inserto matemático: Condiciones de continuidad\n",
    ":class: dropdown\n",
    "\n",
    "| Regiones | Condición | Ecuación |\n",
    "|:---: |:---: | :---:|\n",
    "| I y II | $\\psi_{I}(0) = \\psi_{II}(0)$ | $A + B = C + D$ |\n",
    "| I y II | $\\frac{\\psi_{I}}{dx}(0) = \\frac{\\psi_{II}}{dx}(0)$ | $ik_1 (A + B) = -k_2 (C - D)$|\n",
    "|   III  | La partícula viaja hacia la derecha | $G = 0$ |\n",
    "| II y III | $\\psi_{II}(L) = \\psi_{III}(L)$ | $Ce^{-k_2L} + De^{k_2L} = F e^{ik_1L}$|\n",
    "| II y III | $\\frac{d\\psi_{II}}{dx}(L) = \\frac{d\\psi_{III}}{dx}(L)$ | $-k_2 C e^{-k_2L} + k_2 D e^{k_2L}  = ik_1F e^{ik_1L}$|\n",
    "\n",
    "Al despejar, se obtiene\n",
    "\n",
    "$$\n",
    "C = \\frac{F}{2} \\left( 1 + \\frac{i k_1}{k_2} \\right) e^{ik_1L - k_2L}\n",
    "$$\n",
    "\n",
    "$$\n",
    "D = \\frac{F}{2} \\left( 1 - \\frac{i k_1}{k_2} \\right) e^{ik_1L + k_2L}\n",
    "$$\n",
    "\n",
    "$$\n",
    "A = \\frac{1}{2} [1 - \\frac{i k_1}{k_2} \\right)C + 1 + \\frac{i k_1}{k_2} \\right)D]\n",
    "$$\n",
    "\n",
    "```\n",
    "\n",
    "El coeficiente de transmisión se puede encontrar al dividir el cuadrado del coeficiente de la parte de la función que representa el paso de partículas a la región III (coeficiente F), entre el cuadrado del coeficiente de la parte de la función de onda que representa a la partícula dirigiénsoe hacia la región I (coeficiente A).\n",
    "\n",
    "$$\n",
    "T = \\frac{|F|^2}{|A|^2} = \\frac{16(E/V)(1-E/V)}{16(E/V)(1-E/V) + (e^{k_2L} - e^{-k_2L})^2}\n",
    "$$"
   ]
  },
  {
   "cell_type": "markdown",
   "metadata": {
    "id": "RwWTP7KtY9dm"
   },
   "source": [
    "**De valores a las constantes del sistema**. Considere $m=1$, $\\hbar=1$ y $L=1$."
   ]
  },
  {
   "cell_type": "code",
   "execution_count": 16,
   "metadata": {
    "id": "PqrqsJVKfbCv"
   },
   "outputs": [],
   "source": [
    "# m, hbar, L"
   ]
  },
  {
   "cell_type": "code",
   "execution_count": 17,
   "metadata": {
    "id": "xRe4PfpC5eEV",
    "tags": [
     "hide-cell"
    ]
   },
   "outputs": [],
   "source": [
    "m = 1\n",
    "hbar = 1\n",
    "L = 1"
   ]
  },
  {
   "cell_type": "markdown",
   "metadata": {
    "id": "rKxvs_5kd5Dv"
   },
   "source": [
    "Para $V=2,4,8,16,32$:\n",
    "\n",
    "1 Defina un conjunto de 100 energías de 0 a V. **Sugerencia.** Use linspace.\n",
    "\n",
    "2 Calcule $k_2$\n",
    "\n",
    "$$\n",
    "k_2^2 = \\frac{2m(V-E)}{\\hbar^2}\n",
    "$$\n",
    "\n",
    "3 Calcule el coeficiente de transmisión. Recuerde\n",
    "\n",
    "$$\n",
    "T = \\frac{16(E/V)(1-E/V)}{16(E/V)(1-E/V) + (e^{k_2L} - e^{-k_2L})^2}\n",
    "$$\n",
    "\n",
    "4 Grafique T vs E/V"
   ]
  },
  {
   "cell_type": "code",
   "execution_count": 20,
   "metadata": {
    "id": "Dp-Y47d-gCfG"
   },
   "outputs": [],
   "source": [
    "# Gráficas"
   ]
  },
  {
   "cell_type": "code",
   "execution_count": 36,
   "metadata": {
    "colab": {
     "base_uri": "https://localhost:8080/",
     "height": 282
    },
    "id": "5odQjn0r5eNQ",
    "outputId": "f0d61c3c-563a-47b7-8fac-0dd709b71c89",
    "tags": [
     "hide-input"
    ]
   },
   "outputs": [
    {
     "data": {
      "image/png": "[encoded data removed]",
      "text/plain": [
       "<Figure size 432x288 with 1 Axes>"
      ]
     },
     "metadata": {
      "needs_background": "light"
     },
     "output_type": "display_data"
    }
   ],
   "source": [
    "for V in [2,4,8,16,32]:\n",
    "    \n",
    "    E = np.linspace(0,V,100)\n",
    "    k2 = np.sqrt(2*m*(V-E)/hbar**2)\n",
    "    T = 16*(E/V)*(1-E/V)/(16*(E/V)*(1-E/V) + (np.exp(k2*L) - np.exp(-k2*L))**2)\n",
    "    plt.plot(E/V,T,label=\"V = \"+str(V))\n",
    "    plt.legend()"
   ]
  },
  {
   "cell_type": "markdown",
   "metadata": {},
   "source": [
    "```{admonition} Para pensar\n",
    ":class: tip\n",
    "\n",
    "De manera clásica, cuando la partícula tiene mayor energía que el potencial, $E>V$, debería poder moverse sin ninguna restricción. ¿Qué pasará cuánticamente? \n",
    "```"
   ]
  },
  {
   "cell_type": "markdown",
   "metadata": {},
   "source": [
    "Cuando $E>V$, el coeficiente de transmisión es\n",
    "\n",
    "$$\n",
    "T = \\frac{4(E/V)(E/V-1)}{4(E/V)(E/V-1) + sin^2(k_3L)}\n",
    "$$\n",
    "\n",
    "con \n",
    "\n",
    "$$\n",
    "k_3^2 = \\frac{2m(E-V)}{\\hbar^2}\n",
    "$$\n",
    "\n",
    "Para $V=2,4,8,16,32$:\n",
    "\n",
    "1 Defina un conjunto de 100 energías de V a 4V. **Sugerencia.** Use linspace.\n",
    "\n",
    "2 Calcule $k_3$\n",
    "\n",
    "3 Calcule el coeficiente de transmisión. Recuerde\n",
    "\n",
    "4 Grafique T vs E/V"
   ]
  },
  {
   "cell_type": "code",
   "execution_count": null,
   "metadata": {},
   "outputs": [],
   "source": [
    "# Gráfica"
   ]
  },
  {
   "cell_type": "code",
   "execution_count": 38,
   "metadata": {
    "tags": [
     "hide-cell"
    ]
   },
   "outputs": [
    {
     "name": "stderr",
     "output_type": "stream",
     "text": [
      "/home/jfhlewyee/Software/anaconda3/envs/book/lib/python3.7/site-packages/ipykernel_launcher.py:5: RuntimeWarning: invalid value encountered in true_divide\n",
      "  \"\"\"\n",
      "/home/jfhlewyee/Software/anaconda3/envs/book/lib/python3.7/site-packages/ipykernel_launcher.py:5: RuntimeWarning: invalid value encountered in true_divide\n",
      "  \"\"\"\n",
      "/home/jfhlewyee/Software/anaconda3/envs/book/lib/python3.7/site-packages/ipykernel_launcher.py:5: RuntimeWarning: invalid value encountered in true_divide\n",
      "  \"\"\"\n",
      "/home/jfhlewyee/Software/anaconda3/envs/book/lib/python3.7/site-packages/ipykernel_launcher.py:5: RuntimeWarning: invalid value encountered in true_divide\n",
      "  \"\"\"\n",
      "/home/jfhlewyee/Software/anaconda3/envs/book/lib/python3.7/site-packages/ipykernel_launcher.py:5: RuntimeWarning: invalid value encountered in true_divide\n",
      "  \"\"\"\n"
     ]
    },
    {
     "data": {
      "image/png": "[encoded data removed]",
      "text/plain": [
       "<Figure size 432x288 with 1 Axes>"
      ]
     },
     "metadata": {
      "needs_background": "light"
     },
     "output_type": "display_data"
    }
   ],
   "source": [
    "for V in [2,4,8,16,32]:\n",
    "    \n",
    "    E = np.linspace(V,4*V,100)\n",
    "    k3 = np.sqrt(2*m*(E-V)/hbar**2)\n",
    "    T = 4*(E/V)*(E/V-1)/(4*(E/V)*(E/V-1) + (np.sin(k3*L))**2)\n",
    "    plt.plot(E/V,T,label=\"V = \"+str(V))\n",
    "    plt.legend()"
   ]
  }
 ],
 "metadata": {
  "celltoolbar": "Tags",
  "colab": {
   "name": "Tunel.ipynb",
   "provenance": []
  },
  "kernelspec": {
   "display_name": "Python 3",
   "language": "python",
   "name": "python3"
  },
  "language_info": {
   "codemirror_mode": {
    "name": "ipython",
    "version": 3
   },
   "file_extension": ".py",
   "mimetype": "text/x-python",
   "name": "python",
   "nbconvert_exporter": "python",
   "pygments_lexer": "ipython3",
   "version": "3.7.9"
  }
 },
 "nbformat": 4,
 "nbformat_minor": 1
}
