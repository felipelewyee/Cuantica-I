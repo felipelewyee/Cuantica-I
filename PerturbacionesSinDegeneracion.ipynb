{
 "cells": [
  {
   "cell_type": "markdown",
   "metadata": {},
   "source": [
    "# Teoría de perturbaciones (niveles de energía no degenerados)"
   ]
  },
  {
   "cell_type": "markdown",
   "metadata": {},
   "source": [
    "El objetivo es determinar una solución aproximada a la ecuación de Schrödinger para un Hamiltoniano $\\hat{H}$. La suposición importante en la teoría de perturbaciones es que $\\hat{H}$ es un poco diferente de un Hamiltoniano $\\hat{H}^{(0)}$ del cual conocemos su solución; es decir, conocemos sus eigenfunciones y eigenvalores. Esto es \n",
    "\n",
    "$$\n",
    "\\hat{H}^{(0)} \\psi_n^{(0)} = E_n^{(0)}  \\psi_n^{(0)}\n",
    "$$\n",
    "\n",
    "donde tanto $E_n^{(0)}$ y $\\psi_n^{(0)}$ son conocidos. La diferencia entre $\\hat{H}$ y $\\hat{H}^{(0)}$ se llama la perturbación y la denotamos por $\\hat{H}'$, esto es\n",
    "\n",
    "$$\n",
    "\\hat{H}' = \\hat{H}-\\hat{H}^{(0)}\n",
    "$$\n",
    "\n",
    "El método presentado en este notebook tiene la suposición los niveles de energía $\\big\\{ E_n^{(0)}\\big\\}$ no están degenerados.\n",
    "\n",
    "Proponemos una solución en serie aproximada a los eigenvalores ($E_n$) y las eigenfunciones ($\\psi_n$) de $\\hat{H}$ en términos de $E_n^{(0)}$ y $\\psi_n^{(0)}$ y correcciones a dichos valores. De tal forma que tenemos,\n",
    "\n",
    "$$\n",
    "E_n &=& E_n^{(0)}+ E_n^{(1)} + E_n^{(2)} +\\ldots \\\\\n",
    "\\psi_n &=& \\psi_n^{(0)}+\\psi^{(1)}+\\psi^{(2)}+\\ldots\n",
    "$$\n",
    "\n",
    "```{admonition} Inserto matemático: Correcciones\n",
    ":class: dropdown\n",
    "\n",
    "Con el fin de escribir las expresiones para las diferentes correcciones introducimos la notación para los elementos de matriz de la perturbación, ($\\hat{H}'$),\n",
    "\n",
    "$$\n",
    "\\hat{H}'_{m,n} = \\langle \\psi_m^{(0)} | \\hat{H}' | \\psi_n^{(0)} \\rangle = \\int \\big( \\psi_m^{(0)} \\big)^* \\hat{H}' \\psi_n ^{(0)} \\,dq\n",
    "$$\n",
    "\n",
    "donde $\\psi_n^{(0)}(q)$ son la eigenfunciones que conocemos de $\\hat{H}^{(0)}$ y hemos denoatdo por $q$ a las coordenadas de las que dependen.\n",
    "\n",
    "En términos de los elementos de matriz de $\\hat{H}'$ tenemos,\n",
    "\n",
    "$$\n",
    "E_n \\approx E_n^{(0)} +H'_{n,n} + \\sum_{m \\neq n } \\frac{|H'_{m,n}|^2}{E_n^{(0)}-E_m^{(0)}}\n",
    "$$\n",
    "\n",
    "y\n",
    "\n",
    "$$\n",
    "\\psi_n \\approx \\psi_n^{(0)} + \\sum_{m\\neq n} \\frac{\\hat{H}'_{m,n}}{E_n^{(0)}-E_m^{(0)}} \\psi_m^{(0)}\n",
    "$$\n",
    "```\n",
    "\n",
    "---"
   ]
  },
  {
   "cell_type": "markdown",
   "metadata": {},
   "source": [
    "## Ejemplo - Oscilador anarmónico\n",
    "En Hamiltoniano del oscilador anarmónico de una partícula en una dimensión es:\n",
    "\n",
    "$$\n",
    "\\hat{H} = \\underbrace{-\\frac{\\hbar^2}{2m} \\frac{d^2}{dx^2} + \\frac{1}{2} k x^2 }_{\\hat{H}^{(0)}} + \\underbrace{cx^3 + dx^4}_{\\hat{H}'}\n",
    "$$\n",
    "\n",
    "Los eigenvalores y eigenfunciones del oscilador armónico son:\n",
    "\n",
    "$$\n",
    "E_n^{(0)} = \\bigg(n+\\frac{1}{2}\\bigg) h\\nu\n",
    "$$\n",
    "\n",
    "$$\n",
    "\\psi_n^{(0)} (x) = \\frac{1}{\\sqrt{2^n n !}} \\bigg( \\frac{\\alpha}{\\pi} \\bigg)^{1/4} e^{-\\alpha x^2/2 } H_n\\bigg( \\alpha^{1/2}\\,x \\bigg)\n",
    "$$\n",
    "\n",
    "donde  $\\alpha = 2\\pi\\nu m /\\hbar$ y \n",
    "\n",
    "$$\n",
    "\\nu = \\frac{1}{2\\pi }\\bigg( \\frac{k}{m}  \\bigg)^{1/2}\n",
    "$$\n",
    "\n",
    "Realicemos numéricamente el cálculo de los elementos de matriz. "
   ]
  },
  {
   "cell_type": "markdown",
   "metadata": {},
   "source": [
    "**Importe las siguientes librerías**\n",
    "\n",
    "- pylab\n",
    "- scipy.special\n",
    "\n",
    "De la librería `scipy.special` ocuparemos las funciones `factorial` y `eval_hermite`"
   ]
  },
  {
   "cell_type": "code",
   "execution_count": 1,
   "metadata": {},
   "outputs": [],
   "source": [
    "# Librerías"
   ]
  },
  {
   "cell_type": "code",
   "execution_count": 2,
   "metadata": {
    "tags": [
     "hide-cell"
    ]
   },
   "outputs": [],
   "source": [
    "from pylab import *\n",
    "from scipy.special import factorial\n",
    "from scipy.special import eval_hermite as Hn"
   ]
  },
  {
   "cell_type": "markdown",
   "metadata": {},
   "source": [
    "**Defina los valores de los parámetros y constantes a usar.** \n",
    "\n",
    "Tomemos de ejemplo los valores de la molécula de CO.\n",
    "\n",
    "\n",
    "|Parámetro|Valor|\n",
    "|-------- |--------|\n",
    "|     $k$|$1902.5\\,{\\rm N/m}$           |\n",
    "|   $\\mu$|$1.1391 \\times10^{-26}\\,{\\rm kg}$|\n",
    "|   $\\nu$|$\\displaystyle \\frac{1}{2\\pi}\\sqrt{\\frac{k}{m}}$|\n",
    "|$\\alpha$|$2\\pi\\nu m/\\hbar $|\n",
    "\n"
   ]
  },
  {
   "cell_type": "code",
   "execution_count": 3,
   "metadata": {},
   "outputs": [],
   "source": [
    "# Defina los valores y constantes en el Hamiltoniano del oscilador armónico \n",
    "# e imprima los valores de ν y el valor del E = hν/2"
   ]
  },
  {
   "cell_type": "code",
   "execution_count": 4,
   "metadata": {
    "tags": [
     "hide-cell"
    ]
   },
   "outputs": [
    {
     "name": "stdout",
     "output_type": "stream",
     "text": [
      "    ν  = 6.504e+13 [Hz]\n",
      "√(1/α) = 4.760e-12 [m]\n",
      "E0^(0) = 0.135 [eV]\n"
     ]
    }
   ],
   "source": [
    "π = pi\n",
    "k = 1902.5             # [ N·m^{-1}]  constante de fuerza del CO\n",
    "m = 1.1391e-26         # [kg] masa reducida de C-O\n",
    "ħ = 1.0545718e-34      # [J·s] \n",
    "h = 2*pi*ħ\n",
    "e = 1.602e-19\n",
    "ν = 0.5*sqrt( k/m )/π\n",
    "α = 2*π*ν*m/ħ          # [m^{-2}]\n",
    "\n",
    "print (\"    ν  = {0:.3e} [Hz]\".format(ν))\n",
    "print (\"√(1/α) = {0:.3e} [m]\".format(1/sqrt(α)))\n",
    "\n",
    "# n -> nivel de energía\n",
    "n   = 0\n",
    "\n",
    "# Definimos una función que nos dé la eigenenergía del \n",
    "# oscilado armónico\n",
    "def eigenEn0(n):\n",
    "    return (n+0.5) *h*ν\n",
    "\n",
    "E00 = eigenEn0(0)\n",
    "\n",
    "print (\"E0^(0) = {0:.3f} [eV]\".format(E00/e))\n",
    "# Notemos que al imprimir el valor de E00 dividimos\n",
    "# por la carga elemental para obtener las unidades de eV."
   ]
  },
  {
   "cell_type": "markdown",
   "metadata": {},
   "source": [
    "**Defina las eigenfunciones del oscilador armónico.**"
   ]
  },
  {
   "cell_type": "code",
   "execution_count": 5,
   "metadata": {},
   "outputs": [],
   "source": [
    "# Define como función de python las eigenfunciones del oscilador armónico"
   ]
  },
  {
   "cell_type": "code",
   "execution_count": 6,
   "metadata": {
    "tags": [
     "hide-input"
    ]
   },
   "outputs": [],
   "source": [
    "# Definimos la función que nos devuelva la eigenfunción \n",
    "# del oscilador armónico\n",
    "def funcΨ0n(n,x):\n",
    "    return ( 1/sqrt(2**n*factorial(n)) )*( (α/π)**(0.25) )*exp(-α*x*x/2)*Hn(n,sqrt(α)*x)"
   ]
  },
  {
   "cell_type": "markdown",
   "metadata": {},
   "source": [
    "**Verifica la normalización de las eigenfunciones**\n",
    "\n",
    "```{margin}\n",
    "La integral numérica de una función puede realizarse con la función `numpy.trapz`.\n",
    "```"
   ]
  },
  {
   "cell_type": "code",
   "execution_count": 7,
   "metadata": {},
   "outputs": [],
   "source": [
    "# Define un intervalo donde evaluar la función y la integral\n",
    "# La integral numérica de una función puede realizarse con \n",
    "# la función numpy.trapz"
   ]
  },
  {
   "cell_type": "code",
   "execution_count": 8,
   "metadata": {
    "tags": [
     "hide-input"
    ]
   },
   "outputs": [
    {
     "name": "stdout",
     "output_type": "stream",
     "text": [
      "Integral: 1.000\n"
     ]
    }
   ],
   "source": [
    "# La longitud (1/α)^{1/2} es característica de las eigenfunciones \n",
    "# por lo que es un buen parámetro para determinar el intervalo de \n",
    "# los valores de x.\n",
    "\n",
    "x   = linspace(-10/sqrt(α),10/sqrt(α),10000)\n",
    "Ψ0n = funcΨ0n(n,x)\n",
    "\n",
    "# Podemos verificar que las eigenfunciones están normalizadas utilizando la regla del trapecio\n",
    "# Notemos que las eigenfunciones son reales por lo que Ψ*(x) = Ψ(x)\n",
    "Ψ2       = Ψ0n*Ψ0n\n",
    "Integral = trapz(Ψ2,x)\n",
    "print (\"Integral: {0:.3f}\".format(Integral))"
   ]
  },
  {
   "cell_type": "markdown",
   "metadata": {},
   "source": [
    "**Evalúa los elementos de matriz de $H'=cx^3+dx^4$** \n",
    "\n",
    "Utiliza que $c=600\\,{\\rm J}/{\\rm m}^3$ y $d=1\\times 10^{-4}\\alpha k^2/4$"
   ]
  },
  {
   "cell_type": "code",
   "execution_count": 9,
   "metadata": {},
   "outputs": [],
   "source": [
    "# Define H' y define una función para evaluar \n",
    "# los elementos de matriz dado un m y n"
   ]
  },
  {
   "cell_type": "code",
   "execution_count": 10,
   "metadata": {
    "tags": [
     "hide-input"
    ]
   },
   "outputs": [],
   "source": [
    "# Definimos la perturbación H'\n",
    "c  = 600; d = 1e-4*(α*k*k)/4\n",
    "\n",
    "Hp = c*x**3 + d*x**4\n",
    "\n",
    "# Definimos la función que evalúa\n",
    "def ElementoMatriz(m,n,x):\n",
    "    Ψm0 = funcΨ0n(m,x)\n",
    "    Ψn0 = funcΨ0n(n,x)\n",
    "    Int = trapz( Ψm0*Hp*Ψn0,x )\n",
    "    return Int"
   ]
  },
  {
   "cell_type": "markdown",
   "metadata": {},
   "source": [
    "**Visualiza los elementos de matriz**\n",
    "\n",
    "```{margin}\n",
    "Los valores de los elementos de una matriz pueden graficarse usando `matplotlib.pyplot.imshow`.\n",
    "```\n"
   ]
  },
  {
   "cell_type": "code",
   "execution_count": 11,
   "metadata": {
    "tags": [
     "hide-input"
    ]
   },
   "outputs": [
    {
     "data": {
      "image/png": "[encoded data removed]",
      "text/plain": [
       "<Figure size 432x288 with 2 Axes>"
      ]
     },
     "metadata": {
      "needs_background": "light"
     },
     "output_type": "display_data"
    }
   ],
   "source": [
    "# Construimos los elementos de matriz de H'_{m,n}\n",
    "# Notemos que numéricamente la matriz\n",
    "# tiene un tamaño finito\n",
    "m_max = 20\n",
    "\n",
    "matrizHp = zeros((m_max,m_max))\n",
    "\n",
    "for m in range(m_max):\n",
    "    for n in range(m_max):\n",
    "        matrizHp[(m,n)] = ElementoMatriz(m,n,x)\n",
    "\n",
    "# Las matrices se pueden visualizar utilizando un mapa de colores\n",
    "plotM = imshow(matrizHp/e,cmap=\"Greys\");\n",
    "plt.colorbar(label=\"$H'_{mn} [eV]$\");\n",
    "# Notamos como los valores distinto de cero están cerca de la diagonal\n",
    "# lo cual es típico en la teoría de perturbaciones"
   ]
  },
  {
   "cell_type": "markdown",
   "metadata": {},
   "source": [
    "---"
   ]
  },
  {
   "cell_type": "markdown",
   "metadata": {},
   "source": [
    "### Ejercicio 1. Corrección a primer orden (analítico vs numérico)\n",
    "La corrección a primer orden de la energía de la energía del estado base es,\n",
    "\n",
    "$$\n",
    "E_0^{(1)} = \\frac{3d}{4\\alpha^2} = \\frac{3dh^2}{64\\pi^4 \\nu^2 m^2}\n",
    "$$\n",
    "\n",
    "**¿Podría verificarla numéricamente?**"
   ]
  },
  {
   "cell_type": "code",
   "execution_count": 12,
   "metadata": {},
   "outputs": [],
   "source": [
    "# Compare la expresión analítica con la corrección a primer orden"
   ]
  },
  {
   "cell_type": "code",
   "execution_count": 13,
   "metadata": {
    "tags": [
     "hide-input"
    ]
   },
   "outputs": [
    {
     "name": "stdout",
     "output_type": "stream",
     "text": [
      "E0^(1) = 9.597e-03 [eV]\n",
      "E0^(1) = 9.597e-03 [eV]\n",
      "E0^(0) = 1.345e-01 [eV]\n",
      "    En ≈ 1.441e-01 [eV]\n"
     ]
    }
   ],
   "source": [
    "# Solución\n",
    "\n",
    "# De acuerdo con la expresión analítica\n",
    "E01analitico = 3*d/4/α/α\n",
    "print (\"E0^(1) = {0:.3e} [eV]\".format(E01analitico/e))\n",
    "\n",
    "# De la teoría de perturbaciones tenemos que\n",
    "# E0^(1) = H'_{0,0}\n",
    "E01numerico = matrizHp[(0,0)]\n",
    "print (\"E0^(1) = {0:.3e} [eV]\".format(E01numerico/e))\n",
    "\n",
    "E00 = eigenEn0(0)\n",
    "\n",
    "print (\"E0^(0) = {0:.3e} [eV]\".format(E00/e))\n",
    "\n",
    "# Por tanto la aproximación a primer orden en la energía es:\n",
    "print (\"    En ≈ {0:.3e} [eV]\".format(E00/e + E01numerico/e))\n",
    "# ¿La energía es mayor o menor a la del oscilador armónico?"
   ]
  },
  {
   "cell_type": "markdown",
   "metadata": {},
   "source": [
    "### Ejercicio 2. Correcciones a primer orden (niveles excitados)\n",
    "\n",
    "¿Podría calcular la corrección a primer orden del primer nivel excitado del oscilador armónico?"
   ]
  },
  {
   "cell_type": "code",
   "execution_count": 14,
   "metadata": {},
   "outputs": [],
   "source": [
    "# Calcule las correcciones a primer orden de n>0"
   ]
  },
  {
   "cell_type": "code",
   "execution_count": 15,
   "metadata": {
    "tags": [
     "hide-input"
    ]
   },
   "outputs": [
    {
     "name": "stdout",
     "output_type": "stream",
     "text": [
      "E1^(1) = 4.798e-02 [eV]\n",
      "E1^(0) = 4.035e-01 [eV]\n",
      "    En ≈ 4.515e-01 [eV]\n"
     ]
    }
   ],
   "source": [
    "# Solución\n",
    "\n",
    "# De la teoría de perturbaciones tenemos que\n",
    "# E1^(1) = H'_{1,1}\n",
    "E11numerico = matrizHp[(1,1)]\n",
    "print (\"E1^(1) = {0:.3e} [eV]\".format(E11numerico/e))\n",
    "\n",
    "E10 = eigenEn0(1)\n",
    "\n",
    "print (\"E1^(0) = {0:.3e} [eV]\".format(E10/e))\n",
    "\n",
    "# Por tanto la aproximación a primer orden en la energía es:\n",
    "print (\"    En ≈ {0:.3e} [eV]\".format(E10/e + E11numerico/e))\n",
    "# ¿La energía es mayor o menor a la del oscilador armónico?"
   ]
  },
  {
   "cell_type": "markdown",
   "metadata": {},
   "source": [
    "### Ejercicio 3. Correcciones a primer orden (primeros 5 niveles)\n",
    "Realiza un gráfico de los primeros 5 niveles de energía del oscilador armónico y los niveles con la primera corrección a la energía."
   ]
  },
  {
   "cell_type": "code",
   "execution_count": 16,
   "metadata": {},
   "outputs": [],
   "source": [
    "# Solución\n",
    "\n",
    "En1numerico = array( [ matrizHp[n,n] for n in range(5) ] )\n",
    "\n",
    "En0         = array( [ eigenEn0(n) for n in range(5) ] )\n",
    "\n",
    "Enapprox    = En0 + En1numerico"
   ]
  },
  {
   "cell_type": "code",
   "execution_count": 17,
   "metadata": {},
   "outputs": [
    {
     "data": {
      "text/plain": [
       "Text(0, 0.5, '$E [eV]$')"
      ]
     },
     "execution_count": 17,
     "metadata": {},
     "output_type": "execute_result"
    },
    {
     "data": {
      "image/png": "[encoded data removed]",
      "text/plain": [
       "<Figure size 432x288 with 1 Axes>"
      ]
     },
     "metadata": {
      "needs_background": "light"
     },
     "output_type": "display_data"
    }
   ],
   "source": [
    "for n in range(5):\n",
    "    plot( [0,1],[En0[n]/e,En0[n]/e],c='k' )\n",
    "    plot( [0,1],[Enapprox[n]/e,Enapprox[n]/e],c='r' )\n",
    "    text(-0.5,En0[n]/e,\"n={0}\".format(n))\n",
    "    text( 1.1,Enapprox[n]/e,\"n={0}\".format(n),color='r')\n",
    "xlim(-2,3)\n",
    "xticks([])\n",
    "ylabel(\"$E [eV]$\")"
   ]
  },
  {
   "cell_type": "markdown",
   "metadata": {},
   "source": [
    "### Corrección a segundo orden\n",
    "\n",
    "De la teoría de perturbaciones tenemos que \n",
    "\n",
    "$$\n",
    "E_n ^{(2)}=\\sum_{m \\neq n } \\frac{|H'_{m,n}|^2}{E_n^{(0)}-E_m^{(0)}}\n",
    "$$"
   ]
  },
  {
   "cell_type": "code",
   "execution_count": 18,
   "metadata": {},
   "outputs": [
    {
     "data": {
      "image/png": "[encoded data removed]",
      "text/plain": [
       "<Figure size 432x288 with 2 Axes>"
      ]
     },
     "metadata": {
      "needs_background": "light"
     },
     "output_type": "display_data"
    }
   ],
   "source": [
    "# Previamente realizamos el gráfico de los elementos de matriz\n",
    "\n",
    "# Las matrices se pueden visualizar utilizando un mapa de colores\n",
    "plotM = imshow(matrizHp/e,cmap=\"Greys\");\n",
    "plt.colorbar(label=\"$H'_{mn} [eV]$\");\n",
    "# Notamos como los valores distinto de cero están cerca de la diagonal\n",
    "# lo cual es típico en la teoría de perturbaciones"
   ]
  },
  {
   "cell_type": "code",
   "execution_count": 19,
   "metadata": {},
   "outputs": [],
   "source": [
    "# Sin embargo, los términos a sumar son los elementos de matriz \n",
    "# al cuadrado divididos por la diferencia de energía del nivel a corregir.\n",
    "\n",
    "# Analicemos los términos de la suma cuando n = 0, es decir el estado base\n",
    "n   = 0\n",
    "E00 = eigenEn0(0) \n",
    "# Dado que las eigenfunciones son reales no tenemos que tomar el conjugado\n",
    "SegundoOrden = array( [ matrizHp[(m,n)]*matrizHp[(m,n)]/( eigenEn0(n)-eigenEn0(m) ) \\\n",
    "                    for m in range(m_max) if m != n ] )"
   ]
  },
  {
   "cell_type": "code",
   "execution_count": 20,
   "metadata": {},
   "outputs": [
    {
     "data": {
      "image/png": "[encoded data removed]",
      "text/plain": [
       "<Figure size 432x288 with 1 Axes>"
      ]
     },
     "metadata": {
      "needs_background": "light"
     },
     "output_type": "display_data"
    }
   ],
   "source": [
    "# Grafiquemos los SegundoOrden\n",
    "plot(range(1,m_max),SegundoOrden/e,'o-');\n",
    "xticks([1,2,3,4,5,6,7]);\n",
    "ylabel(\"$E$ [eV]\")\n",
    "xlabel(\"m\");\n",
    "\n",
    "#Podemos notar en este caso que la mayor corrección al estado base proviene del nivel n = 2"
   ]
  },
  {
   "cell_type": "code",
   "execution_count": 21,
   "metadata": {},
   "outputs": [
    {
     "name": "stdout",
     "output_type": "stream",
     "text": [
      " Máximo valor de los sumandos: -3.143e-41 eV\n"
     ]
    }
   ],
   "source": [
    "# Notamos que los sumandos siempre son negativos para el estado base\n",
    "print (\" Máximo valor de los sumandos: {0:.3e} eV\".format( max(SegundoOrden)/e ))\n",
    "# Por lo que las correcciones de segundo orden disminuirán con respecto a \n",
    "# las de primer orden."
   ]
  },
  {
   "cell_type": "markdown",
   "metadata": {},
   "source": [
    "### Ejercicio 4. Correcciones primer orden vs segundo orden\n",
    "Realiza un gráfico de los primeros 5 niveles de energía del oscilador armónico y los niveles con la segunda corrección a la energía. ¿Es muy diferente al resultado de la corrección a primer orden?"
   ]
  },
  {
   "cell_type": "code",
   "execution_count": 22,
   "metadata": {},
   "outputs": [],
   "source": [
    "# Solución"
   ]
  },
  {
   "cell_type": "code",
   "execution_count": 24,
   "metadata": {
    "tags": [
     "hide-input"
    ]
   },
   "outputs": [
    {
     "data": {
      "image/png": "[encoded data removed]",
      "text/plain": [
       "<Figure size 432x288 with 1 Axes>"
      ]
     },
     "metadata": {
      "needs_background": "light"
     },
     "output_type": "display_data"
    }
   ],
   "source": [
    "def SumaSegundoOrden(n,m_max=20):\n",
    "    SegundoOrden = array( [ matrizHp[(m,n)]*matrizHp[(m,n)]/( eigenEn0(n)-eigenEn0(m) ) \\\n",
    "                        for m in range(m_max) if m != n ] )\n",
    "    En2 = SegundoOrden.sum()\n",
    "    return En2\n",
    "\n",
    "\n",
    "En1numerico = array( [ matrizHp[n,n] for n in range(5) ] )\n",
    "\n",
    "En2numerico = array( [ SumaSegundoOrden(n) for n in range(5) ] )\n",
    "\n",
    "En0         = array( [ eigenEn0(n) for n in range(5) ] )\n",
    "\n",
    "\n",
    "Enapprox1 = En0 + En1numerico\n",
    "Enapprox2 = En0 + En1numerico + En2numerico\n",
    "\n",
    "\n",
    "plot( [0,1],[En0[0]/e,En0[0]/e],c='k',label='(0)' )\n",
    "plot( [0,1],[Enapprox1[0]/e,Enapprox1[0]/e],c='r',label='1er' )\n",
    "plot( [0.2,1.2],[Enapprox2[0]/e,Enapprox2[0]/e],c='b',label='2d0' )\n",
    "text(-0.5,En0[0]/e,\"n={0}\".format(n))\n",
    "text( 1.1,Enapprox1[0]/e,\"n={0}\".format(n),color='r')\n",
    "text( 1.5,Enapprox2[0]/e,\"n={0}\".format(n),color='b')\n",
    "for n in range(1,5):\n",
    "    plot( [0,1],[En0[n]/e,En0[n]/e],c='k' )\n",
    "    plot( [0,1],[Enapprox1[n]/e,Enapprox1[n]/e],c='r' )\n",
    "    plot( [0,1],[Enapprox2[n]/e,Enapprox2[n]/e],c='b' )\n",
    "    text(-0.5,En0[n]/e,\"n={0}\".format(n))\n",
    "    text( 1.1,Enapprox1[n]/e,\"n={0}\".format(n),color='r')\n",
    "    text( 1.5,Enapprox2[n]/e,\"n={0}\".format(n),color='b')\n",
    "xlim(-1,3)\n",
    "xticks([])\n",
    "ylabel(\"$E [eV]$\");\n",
    "legend(loc=0);"
   ]
  },
  {
   "cell_type": "code",
   "execution_count": null,
   "metadata": {},
   "outputs": [],
   "source": []
  }
 ],
 "metadata": {
  "celltoolbar": "Tags",
  "kernelspec": {
   "display_name": "Python 3 (ipykernel)",
   "language": "python",
   "name": "python3"
  },
  "language_info": {
   "codemirror_mode": {
    "name": "ipython",
    "version": 3
   },
   "file_extension": ".py",
   "mimetype": "text/x-python",
   "name": "python",
   "nbconvert_exporter": "python",
   "pygments_lexer": "ipython3",
   "version": "3.7.0"
  }
 },
 "nbformat": 4,
 "nbformat_minor": 4
}
