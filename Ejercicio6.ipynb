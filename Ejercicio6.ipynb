{
 "cells": [
  {
   "cell_type": "markdown",
   "metadata": {},
   "source": [
    "# Método variacional lineal"
   ]
  },
  {
   "cell_type": "markdown",
   "metadata": {},
   "source": [
    "El método variacional lineal permite resolver el problema\n",
    "\\begin{equation}\n",
    "H\\psi = E \\psi\n",
    "\\end{equation}\n",
    "al expresar la función de onda como una combinación lineal de funciones. Cuando las funciones $\\psi_i$ forman un conjunto completo, la combinación lineal es exacta, sin embargo, en la práctica se usan solo algunas funciones, por lo que la función de onda resultante es aproximada, es decir\n",
    "\\begin{equation}\n",
    "\\psi_{prueba} = \\sum_{i=1} c_i \\psi_i  \n",
    "\\end{equation}\n",
    "\n",
    "Al sustituir la expansión de la función de onda en la ecuación de Schrodinger, se obtiene la ecuación\n",
    "\\begin{equation}\n",
    "\\mathcal{H} \\mathcal{C} = \\mathcal{S} \\mathcal{C} \\mathcal{\\varepsilon}\n",
    "\\end{equation}\n",
    "\n",
    "En general uno raliza los siguientes pasos:\n",
    "\n",
    "1. Se seleccionan las funciones $\\psi_i$ que se usarán para expandir la función de onda, es común elegir funciones exponenciales o gaussianas.\n",
    "2. Se evalúan las matrices $\\mathcal{H}$, y $\\mathcal{S}$.\n",
    "3. Se resuelve el problema de valores propios $\\mathcal{H}\\mathcal{C} = \\mathcal{S}\\mathcal{C} \\mathcal{\\epsilon}$.\n",
    "4. Se construye la función de onda utilizando los coeficientes obtenidos.\n",
    "\n",
    "Una consecuencia de este método es que sin importar las funciones $\\psi_i$ que se usen, siempre que cumplan con las restricciones del problema, la solución de prueba siempre tiene una energía mayor a la solución exacta. Por lo tanto, podemos construir varias funciones de prueba y tomar la que de la energía más baja.\n",
    "\n",
    "Para ejemplificar este procedimiento, resolveremos el átomo de hidrógeno utilizando el método variacional lineal. Ya que sí conocemos las soluciones exactas del átomo de hidrógeno, podremos comparar las funciones de onda aproximadas con las funciones de onda exactas."
   ]
  },
  {
   "cell_type": "markdown",
   "metadata": {},
   "source": [
    "## Átomo de hidrógeno con dos gausianas"
   ]
  },
  {
   "cell_type": "markdown",
   "metadata": {},
   "source": [
    "**Paso 1.** Seleccionar funciones $\\psi_i$ para construir $\\psi_{prueba}$\n",
    "\\begin{equation}\n",
    "\\psi_{prueba} = \\sum_{i=1} c_i \\psi_i  \n",
    "\\end{equation}"
   ]
  },
  {
   "cell_type": "markdown",
   "metadata": {},
   "source": [
    "Para este ejemplo tomaremos dos funciones gaussianas:\n",
    "\\begin{equation}\n",
    "\\psi_1 = \\left( \\frac{2(1.309756377)}{\\pi} \\right)^{\\frac{3}{4}} e^{-1.309756377r^2}\n",
    "\\end{equation}\n",
    "\\begin{equation}\n",
    "\\psi_2 = \\left( \\frac{2(0.233135974)}{\\pi} \\right)^{\\frac{3}{4}} e^{-0.233135974r^2}\n",
    "\\end{equation}"
   ]
  },
  {
   "cell_type": "code",
   "execution_count": null,
   "metadata": {},
   "outputs": [],
   "source": [
    "import numpy as np\n",
    "import sympy as sp\n",
    "\n",
    "r = sp.Symbol(\"r\")\n",
    "psi_1 = (2*1.309756377/sp.pi)**(3/4)*sp.exp(-1.309756377*r**2)\n",
    "psi_2 = (2*0.233135974/sp.pi)**(3/4)*sp.exp(-0.233135974*r**2)\n",
    "print(\"psi_1\")\n",
    "sp.pprint(psi_1)\n",
    "print(\"psi_2\")\n",
    "sp.pprint(psi_2)"
   ]
  },
  {
   "cell_type": "markdown",
   "metadata": {},
   "source": [
    "**Paso 2.** Evaluar las matrices $\\mathcal{H}$ y $\\mathcal{S}$."
   ]
  },
  {
   "cell_type": "markdown",
   "metadata": {},
   "source": [
    "El Hamiltoniano del átomo de hidrógeno es\n",
    "\\begin{equation}\n",
    "\\hat{H} = -\\frac{1}{2} \\nabla^2 - \\frac{1}{r} = -\\frac{1}{2} \\frac{1}{r} \\frac{d^2}{dr^2} r -\\frac{1}{r}\n",
    "\\end{equation}\n",
    "\n",
    "Por tanto, la matriz $\\mathcal{H}$ es\n",
    "\n",
    "$$\n",
    "\\mathcal{H} = \\begin{pmatrix} H_{11} & H_{12}\\\\\n",
    "H_{21} & H_{22}\n",
    "\\end{pmatrix} = \\begin{pmatrix} 4 \\pi\\int_0^\\infty \\psi_1^* \\hat{H} \\psi_1 r^2dr & 4 \\pi\\int_0^\\infty \\psi_1^* \\hat{H} \\psi_2 r^2dr\\\\\n",
    "4 \\pi\\int_0^\\infty \\psi_2^* \\hat{H} \\psi_1 r^2dr & 4 \\pi\\int_0^\\infty \\psi_2^* \\hat{H} \\psi_2 r^2dr\n",
    "\\end{pmatrix}\n",
    "$$"
   ]
  },
  {
   "cell_type": "code",
   "execution_count": null,
   "metadata": {},
   "outputs": [],
   "source": [
    "H_1 = -1/2*1/r*sp.diff(r*psi_1,r,r) - 1/r*psi_1\n",
    "H_2 = -1/2*1/r*sp.diff(r*psi_2,r,r) - 1/r*psi_2\n",
    "\n",
    "H = sp.zeros(2)\n",
    "H[0,0] = 4*sp.pi*sp.integrate(psi_1*H_1*r**2,(r,0,sp.oo))\n",
    "H[0,1] = 4*sp.pi*sp.integrate(psi_1*H_2*r**2,(r,0,sp.oo))\n",
    "H[1,0] = 4*sp.pi*sp.integrate(psi_2*H_1*r**2,(r,0,sp.oo))\n",
    "H[1,1] = 4*sp.pi*sp.integrate(psi_2*H_2*r**2,(r,0,sp.oo))\n",
    "H=H.evalf()\n",
    "H"
   ]
  },
  {
   "cell_type": "markdown",
   "metadata": {},
   "source": [
    "La matriz S es\n",
    "\n",
    "$$\n",
    "\\mathcal{S} = \\begin{pmatrix} S_{11} & S_{12}\\\\\n",
    "S_{21} & S_{22}\n",
    "\\end{pmatrix} = \\begin{pmatrix} 4 \\pi\\int_0^\\infty \\psi_1^* \\psi_1 r^2dr & 4 \\pi\\int_0^\\infty \\psi_1^* \\psi_2 r^2dr\\\\\n",
    "4 \\pi\\int_0^\\infty \\psi_2^* \\psi_1 r^2dr & 4 \\pi\\int_0^\\infty \\psi_2^* \\psi_2 r^2dr\n",
    "\\end{pmatrix}\n",
    "$$"
   ]
  },
  {
   "cell_type": "code",
   "execution_count": null,
   "metadata": {},
   "outputs": [],
   "source": [
    "S = sp.zeros(2)\n",
    "S[0,0] = 4*sp.pi*sp.integrate(psi_1*psi_1*r**2,(r,0,sp.oo))\n",
    "S[0,1] = 4*sp.pi*sp.integrate(psi_1*psi_2*r**2,(r,0,sp.oo))\n",
    "S[1,0] = 4*sp.pi*sp.integrate(psi_2*psi_1*r**2,(r,0,sp.oo))\n",
    "S[1,1] = 4*sp.pi*sp.integrate(psi_2*psi_2*r**2,(r,0,sp.oo))\n",
    "S"
   ]
  },
  {
   "cell_type": "markdown",
   "metadata": {},
   "source": [
    "**Paso 3.** Resolver $\\color{red}{\\mathcal{H}\\mathcal{C} = \\mathcal{S}\\mathcal{C} \\mathcal{\\epsilon}}$\n",
    "\n",
    "Para ello utilizaremos la instrucción\n",
    "~~~python\n",
    "E,C = LA.eigh(H,S)\n",
    "~~~\n",
    "la cual resuelve directamente el problema $\\mathcal{H}\\mathcal{C} = \\mathcal{S}\\mathcal{C} \\mathcal{\\epsilon}$. La columna de $\\mathcal{C}$ con la energía más baja nos indica los coeficientes de la combinación lineal de la función de onda."
   ]
  },
  {
   "cell_type": "code",
   "execution_count": null,
   "metadata": {},
   "outputs": [],
   "source": [
    "from scipy import linalg as LA\n",
    "import numpy\n",
    "\n",
    "H = np.array(H).astype(np.float64)\n",
    "S = np.array(S).astype(np.float64)\n",
    "\n",
    "E,C = LA.eigh(H,S)\n",
    "print(E)\n",
    "print(C)"
   ]
  },
  {
   "cell_type": "markdown",
   "metadata": {},
   "source": [
    "**Paso 4.** Susituir los coeficientes en $\\psi_{prueba} = \\sum_{i=1} c_i \\psi_i$ para construir la función de onda."
   ]
  },
  {
   "cell_type": "code",
   "execution_count": null,
   "metadata": {},
   "outputs": [],
   "source": [
    "psi_p = C[0][0]*psi_1 + C[1][0]*psi_2"
   ]
  },
  {
   "cell_type": "code",
   "execution_count": null,
   "metadata": {},
   "outputs": [],
   "source": [
    "psi_p"
   ]
  },
  {
   "cell_type": "markdown",
   "metadata": {},
   "source": [
    "Adicionalmente, se puede comprobar que se cumple la condición de normalización\n",
    "\\begin{equation}\n",
    "4\\pi \\int_0^{\\infty} r^2 |\\psi_{prueba}|^2 dr= 1\n",
    "\\end{equation}"
   ]
  },
  {
   "cell_type": "code",
   "execution_count": null,
   "metadata": {},
   "outputs": [],
   "source": [
    "4*sp.pi*sp.integrate(psi_p*psi_p*r**2,(r,0,sp.oo))"
   ]
  },
  {
   "cell_type": "markdown",
   "metadata": {},
   "source": [
    "Almacenamos la función de prueba, así como cada una de las gausianas que la componen para comparar con la función de onda exacta."
   ]
  },
  {
   "cell_type": "code",
   "execution_count": null,
   "metadata": {},
   "outputs": [],
   "source": [
    "psi_2g = psi_p\n",
    "psi_2g_1 = psi_1\n",
    "psi_2g_2 = psi_2"
   ]
  },
  {
   "cell_type": "markdown",
   "metadata": {},
   "source": [
    "Graficamos las dos funciones $\\psi_1$ y $\\psi_2$, así como la $\\psi_{prueba}$ y la solución exacta para el átomo de hidrógeno (1s). Recordar que\n",
    "\\begin{equation}\n",
    "1s = \\pi^{-1/2} e^{-|r|}\n",
    "\\end{equation}"
   ]
  },
  {
   "cell_type": "code",
   "execution_count": null,
   "metadata": {},
   "outputs": [],
   "source": [
    "from matplotlib import pyplot as plt\n",
    "\n",
    "s=1/sp.sqrt(sp.pi)*sp.exp(-sp.Abs(r))\n",
    "lam_s = sp.lambdify(r,s,modules=['numpy'])\n",
    "lam_psi_2g = sp.lambdify(r,psi_2g,modules=['numpy'])\n",
    "lam_psi_2g_1 = sp.lambdify(r,psi_2g_1,modules=['numpy'])\n",
    "lam_psi_2g_2 = sp.lambdify(r,psi_2g_2,modules=['numpy'])\n",
    "\n",
    "r1 = np.linspace(-7,7,100)\n",
    "psi_s = lam_s(r1)\n",
    "psi_2g1 = lam_psi_2g(r1)\n",
    "psi_2g_1 = lam_psi_2g_1(r1)\n",
    "psi_2g_2 = lam_psi_2g_2(r1)\n",
    "\n",
    "plt.plot(r1,psi_s,label=\"1s\")\n",
    "plt.plot(r1,-psi_2g1,label=\"2g\")\n",
    "plt.plot(r1,psi_2g_1,label=\"psi_1\",linestyle=':')\n",
    "plt.plot(r1,psi_2g_2,label=\"psi_2\",linestyle=':')\n",
    "plt.legend()\n",
    "plt.show()"
   ]
  },
  {
   "cell_type": "markdown",
   "metadata": {},
   "source": [
    "## Átomo de hidrógeno con tres gausianas"
   ]
  },
  {
   "cell_type": "markdown",
   "metadata": {},
   "source": [
    "**Paso 1.** Seleccionar funciones $\\psi_i$ para construir $\\psi_{prueba}$\n",
    "\\begin{equation}\n",
    "\\psi_{prueba} = \\sum_{i=1} c_i \\psi_i  \n",
    "\\end{equation}\n",
    "\n",
    "Para este ejemplo tomaremos tres funciones gaussianas:\n",
    "\\begin{equation}\n",
    "\\psi_1 = \\left( \\frac{2(3.42525091)}{\\pi} \\right)^{\\frac{3}{4}} e^{-3.42525091r^2}\n",
    "\\end{equation}\n",
    "\\begin{equation}\n",
    "\\psi_2 = \\left( \\frac{2(0.62391373)}{\\pi} \\right)^{\\frac{3}{4}} e^{-0.62391373r^2}\n",
    "\\end{equation}\n",
    "\\begin{equation}\n",
    "\\psi_3 = \\left( \\frac{2(0.16885540)}{\\pi} \\right)^{\\frac{3}{4}} e^{-0.16885540r^2}\n",
    "\\end{equation}"
   ]
  },
  {
   "cell_type": "code",
   "execution_count": null,
   "metadata": {},
   "outputs": [],
   "source": [
    "import numpy as np\n",
    "import sympy as sp\n",
    "\n",
    "sp.init_printing()\n",
    "\n",
    "r = sp.Symbol(\"r\")\n",
    "psi_1 = (2*3.42525091/sp.pi)**(3/4)*sp.exp(-3.42525091*r**2)\n",
    "psi_2 = (2*0.62391373/sp.pi)**(3/4)*sp.exp(-0.62391373*r**2)\n",
    "psi_3 = (2*0.16885540/sp.pi)**(3/4)*sp.exp(-0.16885540*r**2)\n",
    "print(\"psi_1\")\n",
    "sp.pprint(psi_1)\n",
    "print(\"psi_2\")\n",
    "sp.pprint(psi_2)\n",
    "print(\"psi_3\")\n",
    "sp.pprint(psi_3)"
   ]
  },
  {
   "cell_type": "markdown",
   "metadata": {},
   "source": [
    "El Hamiltoniano del átomo de hidrógeno es\n",
    "\\begin{equation}\n",
    "\\hat{H} = -\\frac{1}{2} \\nabla^2 - \\frac{1}{r} = -\\frac{1}{2} \\frac{1}{r} \\frac{d^2}{dr^2} r -\\frac{1}{r}\n",
    "\\end{equation}\n",
    "\n",
    "Por tanto, la matriz $\\mathcal{H}$ es\n",
    "\n",
    "$$\n",
    "\\mathcal{H} = \\begin{pmatrix} H_{11} & H_{12} & H_{13}\\\\\n",
    "H_{21} & H_{22} & H_{23}\\\\\n",
    "H_{31} & H_{32} & H_{33}\\\\\n",
    "\\end{pmatrix} = \\begin{pmatrix} 4 \\pi\\int_0^\\infty \\psi_1^* \\hat{H} \\psi_1 r^2dr & 4 \\pi\\int_0^\\infty \\psi_1^* \\hat{H} \\psi_2 r^2dr & 4 \\pi\\int_0^\\infty \\psi_1^* \\hat{H} \\psi_3 r^2dr\\\\\n",
    "4 \\pi\\int_0^\\infty \\psi_2^* \\hat{H} \\psi_1 r^2dr & 4 \\pi\\int_0^\\infty \\psi_2^* \\hat{H} \\psi_2 r^2dr & 4 \\pi\\int_0^\\infty \\psi_2^* \\hat{H} \\psi_3 r^2dr\\\\\n",
    "4 \\pi\\int_0^\\infty \\psi_3^* \\hat{H} \\psi_1 r^2dr & 4 \\pi\\int_0^\\infty \\psi_3^* \\hat{H} \\psi_2 r^2dr & 4 \\pi\\int_0^\\infty \\psi_3^* \\hat{H} \\psi_3 r^2dr\\\\\n",
    "\\end{pmatrix}\n",
    "$$"
   ]
  },
  {
   "cell_type": "code",
   "execution_count": null,
   "metadata": {},
   "outputs": [],
   "source": [
    "H_1 = -1/2*1/r*sp.diff(r*psi_1,r,r) - 1/r*psi_1\n",
    "H_2 = -1/2*1/r*sp.diff(r*psi_2,r,r) - 1/r*psi_2\n",
    "H_3 = -1/2*1/r*sp.diff(r*psi_3,r,r) - 1/r*psi_3\n",
    "\n",
    "H = sp.zeros(3)\n",
    "H[0,0] = 4*sp.pi*sp.integrate(psi_1*H_1*r**2,(r,0,sp.oo))\n",
    "H[0,1] = 4*sp.pi*sp.integrate(psi_1*H_2*r**2,(r,0,sp.oo))\n",
    "H[0,2] = 4*sp.pi*sp.integrate(psi_1*H_3*r**2,(r,0,sp.oo))\n",
    "H[1,0] = 4*sp.pi*sp.integrate(psi_2*H_1*r**2,(r,0,sp.oo))\n",
    "H[1,1] = 4*sp.pi*sp.integrate(psi_2*H_2*r**2,(r,0,sp.oo))\n",
    "H[1,2] = 4*sp.pi*sp.integrate(psi_2*H_3*r**2,(r,0,sp.oo))\n",
    "H[2,0] = 4*sp.pi*sp.integrate(psi_3*H_1*r**2,(r,0,sp.oo))\n",
    "H[2,1] = 4*sp.pi*sp.integrate(psi_3*H_2*r**2,(r,0,sp.oo))\n",
    "H[2,2] = 4*sp.pi*sp.integrate(psi_3*H_3*r**2,(r,0,sp.oo))\n",
    "\n",
    "H=H.evalf()\n",
    "H"
   ]
  },
  {
   "cell_type": "markdown",
   "metadata": {},
   "source": [
    "La matriz S es\n",
    "\n",
    "$$\n",
    "\\mathcal{S} = \\begin{pmatrix} S_{11} & S_{12} & S_{13}\\\\\n",
    "S_{21} & S_{22} & S_{23} \\\\\n",
    "S_{31} & S_{32} & S_{33} \\\\\n",
    "\\end{pmatrix} = \\begin{pmatrix} 4 \\pi\\int_0^\\infty \\psi_1^* \\psi_1 r^2dr & 4 \\pi\\int_0^\\infty \\psi_1^* \\psi_2 r^2dr & 4 \\pi\\int_0^\\infty \\psi_1^* \\psi_3 r^2dr\\\\\n",
    "4 \\pi\\int_0^\\infty \\psi_2^* \\psi_1 r^2dr & 4 \\pi\\int_0^\\infty \\psi_2^* \\psi_2 r^2dr & 4 \\pi\\int_0^\\infty \\psi_2^* \\psi_3 r^2dr\\\\\n",
    "4 \\pi\\int_0^\\infty \\psi_2^* \\psi_3 r^2dr & 4 \\pi\\int_0^\\infty \\psi_3^* \\psi_2 r^2dr & 4 \\pi\\int_0^\\infty \\psi_3^* \\psi_3 r^2dr\n",
    "\\end{pmatrix}\n",
    "$$"
   ]
  },
  {
   "cell_type": "code",
   "execution_count": null,
   "metadata": {},
   "outputs": [],
   "source": [
    "S = sp.zeros(3)\n",
    "S[0,0] = 4*sp.pi*sp.integrate(psi_1*psi_1*r**2,(r,0,sp.oo))\n",
    "S[0,1] = 4*sp.pi*sp.integrate(psi_1*psi_2*r**2,(r,0,sp.oo))\n",
    "S[0,2] = 4*sp.pi*sp.integrate(psi_1*psi_3*r**2,(r,0,sp.oo))\n",
    "S[1,0] = 4*sp.pi*sp.integrate(psi_2*psi_1*r**2,(r,0,sp.oo))\n",
    "S[1,1] = 4*sp.pi*sp.integrate(psi_2*psi_2*r**2,(r,0,sp.oo))\n",
    "S[1,2] = 4*sp.pi*sp.integrate(psi_2*psi_3*r**2,(r,0,sp.oo))\n",
    "S[2,0] = 4*sp.pi*sp.integrate(psi_3*psi_1*r**2,(r,0,sp.oo))\n",
    "S[2,1] = 4*sp.pi*sp.integrate(psi_3*psi_2*r**2,(r,0,sp.oo))\n",
    "S[2,2] = 4*sp.pi*sp.integrate(psi_3*psi_3*r**2,(r,0,sp.oo))\n",
    "S"
   ]
  },
  {
   "cell_type": "markdown",
   "metadata": {},
   "source": [
    "**Paso 3.** Resolver $\\color{red}{\\mathcal{H}\\mathcal{C} = \\mathcal{S}\\mathcal{C} \\mathcal{\\epsilon}}$\n",
    "\n",
    "Para ello utilizaremos la instrucción\n",
    "~~~python\n",
    "E,C = LA.eigh(H,S)\n",
    "~~~\n",
    "la cual resuelve directamente el problema $\\mathcal{H}\\mathcal{C} = \\mathcal{S}\\mathcal{C} \\mathcal{\\epsilon}$. La columna de $\\mathcal{C}$ con la energía más baja nos indica los coeficientes de la combinación lineal de la función de onda."
   ]
  },
  {
   "cell_type": "code",
   "execution_count": null,
   "metadata": {},
   "outputs": [],
   "source": [
    "from scipy import linalg as LA\n",
    "\n",
    "H = np.array(H).astype(np.float64)\n",
    "S = np.array(S).astype(np.float64)\n",
    "\n",
    "E,C = LA.eigh(H,S)\n",
    "print(E)\n",
    "print(C)"
   ]
  },
  {
   "cell_type": "markdown",
   "metadata": {},
   "source": [
    "**Paso 4.** Susituir los coeficientes en $\\psi_{prueba} = \\sum_{i=1} c_i \\psi_i$ para construir la función de onda."
   ]
  },
  {
   "cell_type": "code",
   "execution_count": null,
   "metadata": {},
   "outputs": [],
   "source": [
    "psi_p = C[0][0]*psi_1 + C[1][0]*psi_2 + C[2][0]*psi_3"
   ]
  },
  {
   "cell_type": "code",
   "execution_count": null,
   "metadata": {},
   "outputs": [],
   "source": [
    "psi_p"
   ]
  },
  {
   "cell_type": "code",
   "execution_count": null,
   "metadata": {},
   "outputs": [],
   "source": [
    "4*sp.pi*sp.integrate(psi_p*psi_p*r**2,(r,0,sp.oo))"
   ]
  },
  {
   "cell_type": "code",
   "execution_count": null,
   "metadata": {},
   "outputs": [],
   "source": [
    "psi_3g = psi_p\n",
    "psi_3g_1 = psi_1\n",
    "psi_3g_2 = psi_2\n",
    "psi_3g_3 = psi_3"
   ]
  },
  {
   "cell_type": "code",
   "execution_count": null,
   "metadata": {
    "scrolled": true
   },
   "outputs": [],
   "source": [
    "from matplotlib import pyplot as plt\n",
    "\n",
    "s=1/sp.sqrt(sp.pi)*sp.exp(-sp.Abs(r))\n",
    "lam_s = sp.lambdify(r,s,modules=['numpy'])\n",
    "lam_psi_3g = sp.lambdify(r,psi_3g,modules=['numpy'])\n",
    "lam_psi_3g_1 = sp.lambdify(r,psi_3g_1,modules=['numpy'])\n",
    "lam_psi_3g_2 = sp.lambdify(r,psi_3g_2,modules=['numpy'])\n",
    "lam_psi_3g_3 = sp.lambdify(r,psi_3g_3,modules=['numpy'])\n",
    "\n",
    "r1 = np.linspace(-7,7,100)\n",
    "psi_s = lam_s(r1)\n",
    "psi_3g1 = lam_psi_3g(r1)\n",
    "psi_3g_1 = lam_psi_3g_1(r1)\n",
    "psi_3g_2 = lam_psi_3g_2(r1)\n",
    "psi_3g_3 = lam_psi_3g_3(r1)\n",
    "\n",
    "plt.plot(r1,psi_s,label=\"1s\")\n",
    "plt.plot(r1,psi_3g1,label=\"3g\")\n",
    "plt.plot(r1,psi_3g_1,label=\"psi_1\",linestyle=':')\n",
    "plt.plot(r1,psi_3g_2,label=\"psi_2\",linestyle=':')\n",
    "plt.plot(r1,psi_3g_3,label=\"psi_3\",linestyle=':')\n",
    "plt.legend()\n",
    "plt.show()"
   ]
  },
  {
   "cell_type": "markdown",
   "metadata": {},
   "source": [
    "## Átomo de hidrógeno dos gaussianas vs tres gaussianas"
   ]
  },
  {
   "cell_type": "markdown",
   "metadata": {},
   "source": [
    "En la gráfica se compara la función de onda aproximada por el método variacional lineal con dos gausianas y con tres gausianas contra la solución exacta del átomo de hidrógeno del orbital 1s. "
   ]
  },
  {
   "cell_type": "code",
   "execution_count": null,
   "metadata": {},
   "outputs": [],
   "source": [
    "from matplotlib import pyplot as plt\n",
    "\n",
    "s=1/sp.sqrt(sp.pi)*sp.exp(-sp.Abs(r))\n",
    "lam_s = sp.lambdify(r,s,modules=['numpy'])\n",
    "lam_psi_2g = sp.lambdify(r,psi_2g,modules=['numpy'])\n",
    "lam_psi_3g = sp.lambdify(r,psi_3g,modules=['numpy'])\n",
    "\n",
    "r1 = np.linspace(-7,7,100)\n",
    "psi_s = lam_s(r1)\n",
    "psi_2g1 = lam_psi_2g(r1)\n",
    "psi_3g1 = lam_psi_3g(r1)\n",
    "\n",
    "plt.plot(r1,psi_s,label=\"1s\")\n",
    "plt.plot(r1,-psi_2g1,label=\"2g\")\n",
    "plt.plot(r1,psi_3g1,label=\"3g\")\n",
    "plt.legend()\n",
    "plt.show()"
   ]
  },
  {
   "cell_type": "markdown",
   "metadata": {},
   "source": [
    "## Referencias"
   ]
  },
  {
   "cell_type": "markdown",
   "metadata": {},
   "source": [
    "- Atkins, P. W.; Friedman, R. Molecular Quantum Mechanics, 4th ed.; Oxford University Press: New York, 2005.\n",
    "- Pilar, F. L. Elementary Quantum Chemistry; 2001.\n",
    "- Zettili, N. Quantum Mechanics: Concepts and Applications, 2nd ed.; Wiley: Chichester, U.K, 2009.\n",
    "- Levine, I. N. Quantum Chemistry, 5th ed.; Prentice Hall: Upper Saddle River, N.J, 2000.\n",
    "- McQuarrie, D. A.; Simon, J. D. Physical Chemistry: A Molecular Approach; University Science Books: Sausalito, Calif, 1997."
   ]
  }
 ],
 "metadata": {
  "kernelspec": {
   "display_name": "Python 3",
   "language": "python",
   "name": "python3"
  },
  "language_info": {
   "codemirror_mode": {
    "name": "ipython",
    "version": 3
   },
   "file_extension": ".py",
   "mimetype": "text/x-python",
   "name": "python",
   "nbconvert_exporter": "python",
   "pygments_lexer": "ipython3",
   "version": "3.8.3"
  }
 },
 "nbformat": 4,
 "nbformat_minor": 2
}
