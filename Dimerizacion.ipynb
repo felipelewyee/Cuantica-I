{
 "cells": [
  {
   "cell_type": "markdown",
   "metadata": {},
   "source": [
    "# Dimerización de $NO_2$"
   ]
  },
  {
   "cell_type": "markdown",
   "metadata": {},
   "source": [
    "```{warning}\n",
    "Si está utilizando Google Colab o la ejecución en línea, debe de ejecutar al inicio el siguiente código\n",
    "~~~python\n",
    "!pip install pyscf\n",
    "!pip install geomeTRIC\n",
    "~~~\n",
    "```"
   ]
  },
  {
   "cell_type": "markdown",
   "metadata": {},
   "source": [
    "El $N_2O_4$ es un compuesto que se encuentra en la atmósfera. Con los cambios de temperatura se descompone en el radical $NO_2$ mediante la reacción:\n",
    "\n",
    "$N_2O_4 <=> 2NO_2$\n",
    "\n",
    "Las geometrías de $N_2O_4$ y $NO_2$ se dan a continuación:\n",
    "\n",
    "Molécula: $N_2O_4$ Carga: 0 Multiplicidad: 1\n",
    "\n",
    "|Átomo |x (Å)  |y (Å)  |z (Å) |\n",
    "|------|-------|-------|------|\n",
    "|N     |0.0000 |0.0000 |0.0000|\n",
    "|N     |-1.7820|0.0000 |0.0000|\n",
    "|O     |0.4516 |1.1010 |0.0000|\n",
    "|O     |0.4516 |-1.1010|0.0000|\n",
    "|O     |-2.2336|1.1010 |0.0000|\n",
    "|O     |-2.2336|-1.1010|0.0000|\n",
    "\n",
    "Molécula: $NO_2$ Carga: 0 Multiplicidad: 2\n",
    "\n",
    "|Átomo |x (Å)  |y (Å)  |z (Å) |\n",
    "|------|-------|-------|------|\n",
    "|N     | 0.0000| 0.0000|0.0000|\n",
    "|O     | 0.0000| 1.0989|0.4653|\n",
    "|O     | 0.0000|-1.0989|0.4653|\n"
   ]
  },
  {
   "cell_type": "code",
   "execution_count": 6,
   "metadata": {
    "scrolled": true
   },
   "outputs": [],
   "source": [
    "# Importe PySCF y su Optimizador"
   ]
  },
  {
   "cell_type": "code",
   "execution_count": 26,
   "metadata": {
    "scrolled": true,
    "tags": [
     "hide-cell"
    ]
   },
   "outputs": [],
   "source": [
    "# Descomentar estas líneas si está en modo online\n",
    "\n",
    "#!pip install pyscf\n",
    "#!pip install geomeTRIC\n",
    "\n",
    "import pyscf\n",
    "from pyscf.geomopt.geometric_solver import optimize"
   ]
  },
  {
   "cell_type": "markdown",
   "metadata": {},
   "source": [
    "**Pregunta 1.** Calcule la energía de la molécula de $N_2O_4$ con HF y la base aug-cc-pvdz. "
   ]
  },
  {
   "cell_type": "code",
   "execution_count": 40,
   "metadata": {
    "scrolled": true
   },
   "outputs": [
    {
     "name": "stderr",
     "output_type": "stream",
     "text": [
      "\n",
      "                                        \u001b[91m())))))))))))))))/\u001b[0m                     \n",
      "                                    \u001b[91m())))))))))))))))))))))))),\u001b[0m                \n",
      "                                \u001b[91m*)))))))))))))))))))))))))))))))))\u001b[0m             \n",
      "                        \u001b[94m#,\u001b[0m    \u001b[91m()))))))))/\u001b[0m                \u001b[91m.)))))))))),\u001b[0m          \n",
      "                      \u001b[94m#%%%%,\u001b[0m  \u001b[91m())))))\u001b[0m                        \u001b[91m.))))))))*\u001b[0m        \n",
      "                      \u001b[94m*%%%%%%,\u001b[0m  \u001b[91m))\u001b[0m              \u001b[93m..\u001b[0m              \u001b[91m,))))))).\u001b[0m      \n",
      "                        \u001b[94m*%%%%%%,\u001b[0m         \u001b[93m***************/.\u001b[0m        \u001b[91m.)))))))\u001b[0m     \n",
      "                \u001b[94m#%%/\u001b[0m      \u001b[94m(%%%%%%,\u001b[0m    \u001b[93m/*********************.\u001b[0m       \u001b[91m)))))))\u001b[0m    \n",
      "              \u001b[94m.%%%%%%#\u001b[0m      \u001b[94m*%%%%%%,\u001b[0m  \u001b[93m*******/,\u001b[0m     \u001b[93m**********,\u001b[0m      \u001b[91m.))))))\u001b[0m   \n",
      "                \u001b[94m.%%%%%%/\u001b[0m      \u001b[94m*%%%%%%,\u001b[0m  \u001b[93m**\u001b[0m              \u001b[93m********\u001b[0m      \u001b[91m.))))))\u001b[0m  \n",
      "          \u001b[94m##\u001b[0m      \u001b[94m.%%%%%%/\u001b[0m      \u001b[94m(%%%%%%,\u001b[0m                  \u001b[93m,******\u001b[0m      \u001b[91m/)))))\u001b[0m  \n",
      "        \u001b[94m%%%%%%\u001b[0m      \u001b[94m.%%%%%%#\u001b[0m      \u001b[94m*%%%%%%,\u001b[0m    \u001b[92m,/////.\u001b[0m       \u001b[93m******\u001b[0m      \u001b[91m))))))\u001b[0m \n",
      "      \u001b[94m#%\u001b[0m      \u001b[94m%%\u001b[0m      \u001b[94m.%%%%%%/\u001b[0m      \u001b[94m*%%%%%%,\u001b[0m  \u001b[92m////////,\u001b[0m      \u001b[93m*****/\u001b[0m     \u001b[91m,)))))\u001b[0m \n",
      "    \u001b[94m#%%\u001b[0m  \u001b[94m%%%\u001b[0m  \u001b[94m%%%#\u001b[0m      \u001b[94m.%%%%%%/\u001b[0m      \u001b[94m(%%%%%%,\u001b[0m  \u001b[92m///////.\u001b[0m     \u001b[93m/*****\u001b[0m      \u001b[91m))))).\u001b[0m\n",
      "  \u001b[94m#%%%%.\u001b[0m      \u001b[94m%%%%%#\u001b[0m      \u001b[94m/%%%%%%*\u001b[0m      \u001b[94m#%%%%%%\u001b[0m   \u001b[92m/////)\u001b[0m     \u001b[93m******\u001b[0m      \u001b[91m))))),\u001b[0m\n",
      "    \u001b[94m#%%%%##%\u001b[0m  \u001b[94m%%%#\u001b[0m      \u001b[94m.%%%%%%/\u001b[0m      \u001b[94m(%%%%%%,\u001b[0m  \u001b[92m///////.\u001b[0m     \u001b[93m/*****\u001b[0m      \u001b[91m))))).\u001b[0m\n",
      "      \u001b[94m##\u001b[0m     \u001b[94m%%%\u001b[0m      \u001b[94m.%%%%%%/\u001b[0m      \u001b[94m*%%%%%%,\u001b[0m  \u001b[92m////////.\u001b[0m      \u001b[93m*****/\u001b[0m     \u001b[91m,)))))\u001b[0m \n",
      "        \u001b[94m#%%%%#\u001b[0m      \u001b[94m/%%%%%%/\u001b[0m      \u001b[94m(%%%%%%\u001b[0m      \u001b[92m/)/)//\u001b[0m       \u001b[93m******\u001b[0m      \u001b[91m))))))\u001b[0m \n",
      "          \u001b[94m##\u001b[0m      \u001b[94m.%%%%%%/\u001b[0m      \u001b[94m(%%%%%%,\u001b[0m                  \u001b[93m*******\u001b[0m      \u001b[91m))))))\u001b[0m  \n",
      "                \u001b[94m.%%%%%%/\u001b[0m      \u001b[94m*%%%%%%,\u001b[0m  \u001b[93m**.\u001b[0m             \u001b[93m/*******\u001b[0m      \u001b[91m.))))))\u001b[0m  \n",
      "              \u001b[94m*%%%%%%/\u001b[0m      \u001b[94m(%%%%%%\u001b[0m   \u001b[93m********/*..,*/*********\u001b[0m       \u001b[91m*))))))\u001b[0m   \n",
      "                \u001b[94m#%%/\u001b[0m      \u001b[94m(%%%%%%,\u001b[0m    \u001b[93m*********************/\u001b[0m        \u001b[91m)))))))\u001b[0m    \n",
      "                        \u001b[94m*%%%%%%,\u001b[0m         \u001b[93m,**************/\u001b[0m         \u001b[91m,))))))/\u001b[0m     \n",
      "                      \u001b[94m(%%%%%%\u001b[0m   \u001b[91m()\u001b[0m                              \u001b[91m))))))))\u001b[0m       \n",
      "                      \u001b[94m#%%%%,\u001b[0m  \u001b[91m())))))\u001b[0m                        \u001b[91m,)))))))),\u001b[0m        \n",
      "                        \u001b[94m#,\u001b[0m    \u001b[91m())))))))))\u001b[0m                \u001b[91m,)))))))))).\u001b[0m          \n",
      "                                 \u001b[91m()))))))))))))))))))))))))))))))/\u001b[0m             \n",
      "                                    \u001b[91m())))))))))))))))))))))))).\u001b[0m                \n",
      "                                         \u001b[91m())))))))))))))),\u001b[0m                     \n",
      "\n",
      "-=# \u001b[1;94m geomeTRIC started. Version: 0.9.7.2 \u001b[0m #=-\n",
      "geometric-optimize called with the following command line:\n",
      "/home/jfhlewyee/anaconda3/envs/jb/lib/python3.9/site-packages/ipykernel_launcher.py -f /home/jfhlewyee/.local/share/jupyter/runtime/kernel-358feb44-e974-44ce-bd45-badfebb58697.json\n",
      "18 internal coordinates being used (instead of 18 Cartesians)\n",
      "Internal coordinate system (atoms numbered from 1):\n",
      "Distance 1-2\n",
      "Distance 1-5\n",
      "Distance 1-6\n",
      "Distance 2-3\n",
      "Distance 2-4\n",
      "Angle 2-1-6\n",
      "Angle 5-1-6\n",
      "Angle 1-2-4\n",
      "Angle 3-2-4\n",
      "Out-of-Plane 1-2-5-6\n",
      "Out-of-Plane 2-1-3-4\n",
      "Dihedral 5-1-2-3\n",
      "Dihedral 5-1-2-4\n",
      "Dihedral 6-1-2-3\n",
      "Dihedral 6-1-2-4\n",
      "Translation-X 1-6\n",
      "Translation-Y 1-6\n",
      "Translation-Z 1-6\n",
      "Rotation-A 1-6\n",
      "Rotation-B 1-6\n",
      "Rotation-C 1-6\n",
      "<class 'geometric.internal.Distance'> : 5\n",
      "<class 'geometric.internal.Angle'> : 4\n",
      "<class 'geometric.internal.OutOfPlane'> : 2\n",
      "<class 'geometric.internal.Dihedral'> : 4\n",
      "<class 'geometric.internal.TranslationX'> : 1\n",
      "<class 'geometric.internal.TranslationY'> : 1\n",
      "<class 'geometric.internal.TranslationZ'> : 1\n",
      "<class 'geometric.internal.RotationA'> : 1\n",
      "<class 'geometric.internal.RotationB'> : 1\n",
      "<class 'geometric.internal.RotationC'> : 1\n"
     ]
    },
    {
     "name": "stdout",
     "output_type": "stream",
     "text": [
      "\n",
      "Geometry optimization cycle 1\n",
      "Cartesian coordinates (Angstrom)\n",
      " Atom        New coordinates             dX        dY        dZ\n",
      "   N  -4.846380   1.761090   0.000000    0.000000  0.000000  0.000000\n",
      "   N  -3.468880   1.784150   0.000000    0.000000  0.000000  0.000000\n",
      "   O  -2.823850   2.931690   0.000000    0.000000  0.000000  0.000000\n",
      "   O  -2.850550   0.762760   0.000000    0.000000  0.000000  0.000000\n",
      "   O  -5.464710   2.782480   0.000000    0.000000  0.000000  0.000000\n",
      "   O  -5.491410   0.613550   0.000000    0.000000  0.000000  0.000000\n",
      "converged SCF energy = -408.034646158383\n",
      "--------------- SCF_Scanner gradients ---------------\n",
      "         x                y                z\n",
      "0 N     0.2081707192     0.0585029341    -0.0000000000\n",
      "1 N    -0.2081707192    -0.0585029341     0.0000000000\n",
      "2 O     0.0944553150     0.0966506139     0.0000000000\n",
      "3 O     0.0661972026    -0.0370192391    -0.0000000000\n",
      "4 O    -0.0661972026     0.0370192391     0.0000000000\n",
      "5 O    -0.0944553150    -0.0966506139    -0.0000000000\n",
      "----------------------------------------------\n",
      "cycle 1: E = -408.034646158  dE = -408.035  norm(grad) = 0.376227\n"
     ]
    },
    {
     "name": "stderr",
     "output_type": "stream",
     "text": [
      "Step    0 : Gradient = 1.536e-01/2.162e-01 (rms/max) Energy = -408.0346461584\n",
      "Hessian Eigenvalues: 2.30000e-02 2.81592e-02 2.85714e-02 ... 6.28366e-01 1.07911e+00 1.07911e+00\n"
     ]
    },
    {
     "name": "stdout",
     "output_type": "stream",
     "text": [
      "\n",
      "Geometry optimization cycle 2\n",
      "Cartesian coordinates (Angstrom)\n",
      " Atom        New coordinates             dX        dY        dZ\n",
      "   N  -4.858557   1.736198  -0.000000   -0.012177 -0.024892 -0.000000\n",
      "   N  -3.450842   1.757509  -0.000000    0.018038 -0.026641 -0.000000\n",
      "   O  -3.010820   2.922023   0.000000   -0.186970 -0.009667  0.000000\n",
      "   O  -2.842610   0.758811   0.000000    0.007940 -0.003949  0.000000\n",
      "   O  -5.317302   2.811789  -0.000000    0.147408  0.029309 -0.000000\n",
      "   O  -5.465648   0.649389   0.000000    0.025762  0.035839  0.000000\n",
      "\n",
      "WARN: Large deviations found between the input molecule and the molecule from chkfile\n",
      "Initial guess density matrix may have large error.\n",
      "\n",
      "converged SCF energy = -408.083493912674\n",
      "--------------- SCF_Scanner gradients ---------------\n",
      "         x                y                z\n",
      "0 N     0.1320939616     0.0466022054    -0.0000000000\n",
      "1 N    -0.1234078200    -0.0787657914    -0.0000000000\n",
      "2 O     0.0230604134     0.0897842904     0.0000000000\n",
      "3 O     0.0258475779    -0.0073415021     0.0000000000\n",
      "4 O     0.0054625235     0.0210066580     0.0000000000\n",
      "5 O    -0.0630566565    -0.0712858602    -0.0000000000\n",
      "----------------------------------------------\n",
      "cycle 2: E = -408.083493913  dE = -0.0488478  norm(grad) = 0.244741\n"
     ]
    },
    {
     "name": "stderr",
     "output_type": "stream",
     "text": [
      "Step    1 : Displace = \u001b[0m1.012e-01\u001b[0m/\u001b[0m1.872e-01\u001b[0m (rms/max) Trust = 1.000e-01 (=) Grad = \u001b[0m9.992e-02\u001b[0m/\u001b[0m1.464e-01\u001b[0m (rms/max) E (change) = -408.0834939127 (\u001b[0m-4.885e-02\u001b[0m) Quality = \u001b[0m0.992\u001b[0m\n",
      "Hessian Eigenvalues: 2.30000e-02 2.81592e-02 2.85714e-02 ... 8.72669e-01 1.07900e+00 1.24860e+00\n"
     ]
    },
    {
     "name": "stdout",
     "output_type": "stream",
     "text": [
      "\n",
      "Geometry optimization cycle 3\n",
      "Cartesian coordinates (Angstrom)\n",
      " Atom        New coordinates             dX        dY        dZ\n",
      "   N  -4.902273   1.786461   0.000000   -0.043716  0.050263  0.000000\n",
      "   N  -3.407253   1.808412  -0.000000    0.043589  0.050903 -0.000000\n",
      "   O  -2.901393   2.800734  -0.000000    0.109427 -0.121290 -0.000000\n",
      "   O  -2.968463   0.762681  -0.000000   -0.125852  0.003870 -0.000000\n",
      "   O  -5.508855   2.746001   0.000000   -0.191553 -0.065788  0.000000\n",
      "   O  -5.257542   0.731432   0.000000    0.208106  0.082042  0.000000\n",
      "\n",
      "WARN: Large deviations found between the input molecule and the molecule from chkfile\n",
      "Initial guess density matrix may have large error.\n",
      "\n",
      "converged SCF energy = -408.088752087569\n",
      "--------------- SCF_Scanner gradients ---------------\n",
      "         x                y                z\n",
      "0 N    -0.0140518822    -0.0216958049    -0.0000000000\n",
      "1 N     0.0212827731     0.0333036788     0.0000000000\n",
      "2 O    -0.0426140142    -0.1301198337    -0.0000000000\n",
      "3 O    -0.0326966722     0.0798467912     0.0000000000\n",
      "4 O     0.0171220663    -0.0926296141     0.0000000000\n",
      "5 O     0.0509577292     0.1312947827    -0.0000000000\n",
      "----------------------------------------------\n",
      "cycle 3: E = -408.088752088  dE = -0.00525817  norm(grad) = 0.23902\n"
     ]
    },
    {
     "name": "stderr",
     "output_type": "stream",
     "text": [
      "Step    2 : Displace = \u001b[0m1.541e-01\u001b[0m/\u001b[0m2.230e-01\u001b[0m (rms/max) Trust = 1.414e-01 (\u001b[92m+\u001b[0m) Grad = \u001b[0m9.758e-02\u001b[0m/\u001b[0m1.408e-01\u001b[0m (rms/max) E (change) = -408.0887520876 (\u001b[0m-5.258e-03\u001b[0m) Quality = \u001b[0m0.082\u001b[0m\n",
      "Hessian Eigenvalues: 2.30000e-02 2.81592e-02 2.85714e-02 ... 1.07894e+00 1.19548e+00 1.28141e+00\n"
     ]
    },
    {
     "name": "stdout",
     "output_type": "stream",
     "text": [
      "\n",
      "Geometry optimization cycle 4\n",
      "Cartesian coordinates (Angstrom)\n",
      " Atom        New coordinates             dX        dY        dZ\n",
      "   N  -4.922658   1.754932   0.000000   -0.020384 -0.031529  0.000000\n",
      "   N  -3.399129   1.803138  -0.000000    0.008124 -0.005273 -0.000000\n",
      "   O  -2.916598   2.870962  -0.000000   -0.015204  0.070229  0.000000\n",
      "   O  -2.918574   0.745893  -0.000000    0.049889 -0.016788 -0.000000\n",
      "   O  -5.437362   2.797745  -0.000000    0.071493  0.051744 -0.000000\n",
      "   O  -5.351460   0.663050   0.000000   -0.093918 -0.068381  0.000000\n",
      "\n",
      "WARN: Large deviations found between the input molecule and the molecule from chkfile\n",
      "Initial guess density matrix may have large error.\n",
      "\n",
      "converged SCF energy = -408.114295119652\n",
      "--------------- SCF_Scanner gradients ---------------\n",
      "         x                y                z\n",
      "0 N     0.0256720501     0.0116848438    -0.0000000000\n",
      "1 N    -0.0301060756    -0.0059787283     0.0000000000\n",
      "2 O     0.0127862364     0.0055703528     0.0000000000\n",
      "3 O    -0.0041529016     0.0053528716    -0.0000000000\n",
      "4 O    -0.0006962990    -0.0021382373     0.0000000000\n",
      "5 O    -0.0035030103    -0.0144911026     0.0000000000\n",
      "----------------------------------------------\n",
      "cycle 4: E = -408.11429512  dE = -0.025543  norm(grad) = 0.0469622\n"
     ]
    },
    {
     "name": "stderr",
     "output_type": "stream",
     "text": [
      "Step    3 : Displace = \u001b[0m7.155e-02\u001b[0m/\u001b[0m1.160e-01\u001b[0m (rms/max) Trust = 7.071e-02 (\u001b[91m-\u001b[0m) Grad = \u001b[0m1.917e-02\u001b[0m/\u001b[0m3.069e-02\u001b[0m (rms/max) E (change) = -408.1142951197 (\u001b[0m-2.554e-02\u001b[0m) Quality = \u001b[0m0.848\u001b[0m\n",
      "Hessian Eigenvalues: 2.30000e-02 2.81592e-02 2.85714e-02 ... 1.07839e+00 1.18291e+00 1.38419e+00\n"
     ]
    },
    {
     "name": "stdout",
     "output_type": "stream",
     "text": [
      "\n",
      "Geometry optimization cycle 5\n",
      "Cartesian coordinates (Angstrom)\n",
      " Atom        New coordinates             dX        dY        dZ\n",
      "   N  -4.929575   1.760467   0.000000   -0.006917  0.005535  0.000000\n",
      "   N  -3.369056   1.770875   0.000000    0.030073 -0.032263  0.000000\n",
      "   O  -2.984784   2.870166  -0.000000   -0.068186 -0.000797 -0.000000\n",
      "   O  -2.842865   0.728733   0.000000    0.075709 -0.017160  0.000000\n",
      "   O  -5.432383   2.813406  -0.000000    0.004978  0.015661 -0.000000\n",
      "   O  -5.387117   0.692073   0.000000   -0.035657  0.029023 -0.000000\n",
      "\n",
      "WARN: Large deviations found between the input molecule and the molecule from chkfile\n",
      "Initial guess density matrix may have large error.\n",
      "\n",
      "converged SCF energy = -408.114465985344\n",
      "--------------- SCF_Scanner gradients ---------------\n",
      "         x                y                z\n",
      "0 N     0.0199911025     0.0058899299     0.0000000000\n",
      "1 N    -0.0055004975    -0.0133490288    -0.0000000000\n",
      "2 O    -0.0131869283     0.0059687843     0.0000000000\n",
      "3 O     0.0095399026    -0.0091892512     0.0000000000\n",
      "4 O    -0.0096448108     0.0027229039    -0.0000000000\n",
      "5 O    -0.0011987684     0.0079566619    -0.0000000000\n",
      "----------------------------------------------\n",
      "cycle 5: E = -408.114465985  dE = -0.000170866  norm(grad) = 0.034539\n"
     ]
    },
    {
     "name": "stderr",
     "output_type": "stream",
     "text": [
      "Step    4 : Displace = \u001b[0m5.014e-02\u001b[0m/\u001b[0m7.755e-02\u001b[0m (rms/max) Trust = 1.000e-01 (\u001b[92m+\u001b[0m) Grad = \u001b[0m1.410e-02\u001b[0m/\u001b[0m2.084e-02\u001b[0m (rms/max) E (change) = -408.1144659853 (\u001b[0m-1.709e-04\u001b[0m) Quality = \u001b[0m0.075\u001b[0m\n",
      "Hessian Eigenvalues: 2.30000e-02 2.81592e-02 2.85714e-02 ... 1.13234e+00 1.26969e+00 1.38234e+00\n"
     ]
    },
    {
     "name": "stdout",
     "output_type": "stream",
     "text": [
      "\n",
      "Geometry optimization cycle 6\n",
      "Cartesian coordinates (Angstrom)\n",
      " Atom        New coordinates             dX        dY        dZ\n",
      "   N  -4.952798   1.736022  -0.000000   -0.023223 -0.024445 -0.000000\n",
      "   N  -3.371179   1.797624   0.000000   -0.002124  0.026749  0.000000\n",
      "   O  -2.946338   2.872635  -0.000000    0.038446  0.002469 -0.000000\n",
      "   O  -2.860287   0.750687   0.000000   -0.017422  0.021954  0.000000\n",
      "   O  -5.411487   2.806676  -0.000000    0.020896 -0.006730 -0.000000\n",
      "   O  -5.403690   0.672076   0.000000   -0.016573 -0.019997  0.000000\n",
      "converged SCF energy = -408.115680252896\n",
      "--------------- SCF_Scanner gradients ---------------\n",
      "         x                y                z\n",
      "0 N    -0.0046836295    -0.0206208294    -0.0000000000\n",
      "1 N    -0.0041381532     0.0153680449     0.0000000000\n",
      "2 O    -0.0017418537    -0.0112852831    -0.0000000000\n",
      "3 O     0.0027635469     0.0026671966    -0.0000000000\n",
      "4 O     0.0066597551     0.0038790661     0.0000000000\n",
      "5 O     0.0011403343     0.0099918048     0.0000000000\n",
      "----------------------------------------------\n",
      "cycle 6: E = -408.115680253  dE = -0.00121427  norm(grad) = 0.0317196\n"
     ]
    },
    {
     "name": "stderr",
     "output_type": "stream",
     "text": [
      "Step    5 : Displace = \u001b[0m2.967e-02\u001b[0m/\u001b[0m3.891e-02\u001b[0m (rms/max) Trust = 5.000e-02 (\u001b[91m-\u001b[0m) Grad = \u001b[0m1.295e-02\u001b[0m/\u001b[0m2.115e-02\u001b[0m (rms/max) E (change) = -408.1156802529 (\u001b[0m-1.214e-03\u001b[0m) Quality = \u001b[0m0.593\u001b[0m\n",
      "Hessian Eigenvalues: 2.30000e-02 2.81592e-02 2.85714e-02 ... 1.11154e+00 1.22012e+00 1.38661e+00\n"
     ]
    },
    {
     "name": "stdout",
     "output_type": "stream",
     "text": [
      "\n",
      "Geometry optimization cycle 7\n",
      "Cartesian coordinates (Angstrom)\n",
      " Atom        New coordinates             dX        dY        dZ\n",
      "   N  -4.946261   1.753580  -0.000000    0.006537  0.017558 -0.000000\n",
      "   N  -3.368492   1.797755   0.000000    0.002687  0.000131 -0.000000\n",
      "   O  -2.925622   2.874402  -0.000000    0.020716  0.001767  0.000000\n",
      "   O  -2.890736   0.737325   0.000000   -0.030450 -0.013362  0.000000\n",
      "   O  -5.445227   2.803850  -0.000000   -0.033740 -0.002826  0.000000\n",
      "   O  -5.369442   0.668809   0.000000    0.034249 -0.003268 -0.000000\n",
      "converged SCF energy = -408.116201751501\n",
      "--------------- SCF_Scanner gradients ---------------\n",
      "         x                y                z\n",
      "0 N     0.0036293799     0.0027505433     0.0000000000\n",
      "1 N    -0.0031730665     0.0006525179    -0.0000000000\n",
      "2 O     0.0017636797     0.0027401726     0.0000000000\n",
      "3 O    -0.0022759198    -0.0025497349     0.0000000000\n",
      "4 O    -0.0005949334     0.0003662561    -0.0000000000\n",
      "5 O     0.0006508601    -0.0039597550    -0.0000000000\n",
      "----------------------------------------------\n",
      "cycle 7: E = -408.116201752  dE = -0.000521499  norm(grad) = 0.00837397\n"
     ]
    },
    {
     "name": "stderr",
     "output_type": "stream",
     "text": [
      "Step    6 : Displace = \u001b[0m2.654e-02\u001b[0m/\u001b[0m3.467e-02\u001b[0m (rms/max) Trust = 5.000e-02 (=) Grad = \u001b[0m3.419e-03\u001b[0m/\u001b[0m4.554e-03\u001b[0m (rms/max) E (change) = -408.1162017515 (\u001b[0m-5.215e-04\u001b[0m) Quality = \u001b[0m0.678\u001b[0m\n",
      "Hessian Eigenvalues: 2.30000e-02 2.81592e-02 2.85714e-02 ... 1.10744e+00 1.24155e+00 1.40142e+00\n"
     ]
    },
    {
     "name": "stdout",
     "output_type": "stream",
     "text": [
      "\n",
      "Geometry optimization cycle 8\n",
      "Cartesian coordinates (Angstrom)\n",
      " Atom        New coordinates             dX        dY        dZ\n",
      "   N  -4.949592   1.751178  -0.000000   -0.003331 -0.002401 -0.000000\n",
      "   N  -3.365404   1.793865   0.000000    0.003087 -0.003890 -0.000000\n",
      "   O  -2.933581   2.872859  -0.000000   -0.007959 -0.001543 -0.000000\n",
      "   O  -2.873866   0.740151   0.000000    0.016870  0.002826 -0.000000\n",
      "   O  -5.440573   2.805185  -0.000000    0.004654  0.001335  0.000000\n",
      "   O  -5.382763   0.672482   0.000000   -0.013321  0.003673  0.000000\n",
      "converged SCF energy = -408.116312733881\n",
      "--------------- SCF_Scanner gradients ---------------\n",
      "         x                y                z\n",
      "0 N     0.0018818462    -0.0001959476    -0.0000000000\n",
      "1 N    -0.0015260048     0.0003711404     0.0000000000\n",
      "2 O    -0.0000375823    -0.0004583727    -0.0000000000\n",
      "3 O     0.0005962544    -0.0002102601    -0.0000000000\n",
      "4 O    -0.0005990998     0.0002622409     0.0000000000\n",
      "5 O    -0.0003154137     0.0002311991     0.0000000000\n",
      "----------------------------------------------\n",
      "cycle 8: E = -408.116312734  dE = -0.000110982  norm(grad) = 0.00269036\n"
     ]
    },
    {
     "name": "stderr",
     "output_type": "stream",
     "text": [
      "Step    7 : Displace = \u001b[0m1.012e-02\u001b[0m/\u001b[0m1.701e-02\u001b[0m (rms/max) Trust = 5.000e-02 (=) Grad = \u001b[0m1.098e-03\u001b[0m/\u001b[0m1.892e-03\u001b[0m (rms/max) E (change) = -408.1163127339 (\u001b[0m-1.110e-04\u001b[0m) Quality = \u001b[0m0.979\u001b[0m\n",
      "Hessian Eigenvalues: 2.30000e-02 2.81592e-02 2.85714e-02 ... 1.10999e+00 1.21397e+00 1.40082e+00\n"
     ]
    },
    {
     "name": "stdout",
     "output_type": "stream",
     "text": [
      "\n",
      "Geometry optimization cycle 9\n",
      "Cartesian coordinates (Angstrom)\n",
      " Atom        New coordinates             dX        dY        dZ\n",
      "   N  -4.950998   1.750817   0.000000   -0.001406 -0.000362  0.000000\n",
      "   N  -3.364257   1.794205  -0.000000    0.001147  0.000340 -0.000000\n",
      "   O  -2.933025   2.873428  -0.000000    0.000556  0.000570 -0.000000\n",
      "   O  -2.874289   0.739960   0.000000   -0.000423 -0.000191 -0.000000\n",
      "   O  -5.440339   2.805321  -0.000000    0.000235  0.000136 -0.000000\n",
      "   O  -5.382873   0.671989   0.000000   -0.000110 -0.000493 -0.000000\n",
      "converged SCF energy = -408.116318074558\n",
      "--------------- SCF_Scanner gradients ---------------\n",
      "         x                y                z\n",
      "0 N     0.0002805676    -0.0006550057     0.0000000000\n",
      "1 N    -0.0003609887     0.0004278542    -0.0000000000\n",
      "2 O    -0.0001786224    -0.0001414696     0.0000000000\n",
      "3 O     0.0000801035    -0.0002682070     0.0000000000\n",
      "4 O     0.0000183315     0.0002190731    -0.0000000000\n",
      "5 O     0.0001606085     0.0004177550    -0.0000000000\n",
      "----------------------------------------------\n",
      "cycle 9: E = -408.116318075  dE = -5.34068e-06  norm(grad) = 0.00109546\n"
     ]
    },
    {
     "name": "stderr",
     "output_type": "stream",
     "text": [
      "Step    8 : Displace = \u001b[92m8.866e-04\u001b[0m/\u001b[92m1.452e-03\u001b[0m (rms/max) Trust = 7.071e-02 (\u001b[92m+\u001b[0m) Grad = \u001b[0m4.472e-04\u001b[0m/\u001b[0m7.126e-04\u001b[0m (rms/max) E (change) = -408.1163180746 (\u001b[0m-5.341e-06\u001b[0m) Quality = \u001b[0m1.159\u001b[0m\n",
      "Hessian Eigenvalues: 2.30000e-02 2.81592e-02 2.85714e-02 ... 1.10779e+00 1.26497e+00 1.40201e+00\n"
     ]
    },
    {
     "name": "stdout",
     "output_type": "stream",
     "text": [
      "\n",
      "Geometry optimization cycle 10\n",
      "Cartesian coordinates (Angstrom)\n",
      " Atom        New coordinates             dX        dY        dZ\n",
      "   N  -4.951622   1.751001  -0.000000   -0.000624  0.000184 -0.000000\n",
      "   N  -3.363661   1.794251   0.000000    0.000595  0.000046  0.000000\n",
      "   O  -2.932140   2.873412  -0.000000    0.000885 -0.000016 -0.000000\n",
      "   O  -2.874142   0.740075   0.000000    0.000147  0.000115  0.000000\n",
      "   O  -5.441074   2.805222   0.000000   -0.000735 -0.000099  0.000000\n",
      "   O  -5.383140   0.671760   0.000000   -0.000268 -0.000229  0.000000\n",
      "converged SCF energy = -408.116318916615\n",
      "--------------- SCF_Scanner gradients ---------------\n",
      "         x                y                z\n",
      "0 N     0.0000058825    -0.0000059100    -0.0000000000\n",
      "1 N     0.0000176620     0.0000883575     0.0000000000\n",
      "2 O    -0.0000392934    -0.0001096574    -0.0000000000\n",
      "3 O    -0.0000339831     0.0000469479    -0.0000000000\n",
      "4 O     0.0000407372     0.0000123316     0.0000000000\n",
      "5 O     0.0000089949    -0.0000320696     0.0000000000\n",
      "----------------------------------------------\n",
      "cycle 10: E = -408.116318917  dE = -8.42057e-07  norm(grad) = 0.000167443\n"
     ]
    },
    {
     "name": "stderr",
     "output_type": "stream",
     "text": [
      "Step    9 : Displace = \u001b[92m6.154e-04\u001b[0m/\u001b[92m8.889e-04\u001b[0m (rms/max) Trust = 1.000e-01 (\u001b[92m+\u001b[0m) Grad = \u001b[92m6.836e-05\u001b[0m/\u001b[92m1.165e-04\u001b[0m (rms/max) E (change) = -408.1163189166 (\u001b[92m-8.421e-07\u001b[0m) Quality = \u001b[0m1.061\u001b[0m\n",
      "Converged! =D\n",
      "\n",
      "    #==========================================================================#\n",
      "    #| If this code has benefited your research, please support us by citing: |#\n",
      "    #|                                                                        |#\n",
      "    #| Wang, L.-P.; Song, C.C. (2016) \"Geometry optimization made simple with |#\n",
      "    #| translation and rotation coordinates\", J. Chem, Phys. 144, 214108.     |#\n",
      "    #| http://dx.doi.org/10.1063/1.4952956                                    |#\n",
      "    #==========================================================================#\n",
      "    \n",
      "Time elapsed since start of run_optimizer: 43.045 seconds\n"
     ]
    },
    {
     "name": "stdout",
     "output_type": "stream",
     "text": [
      "converged SCF energy = -408.116318916672\n"
     ]
    }
   ],
   "source": [
    "N2O4 = pyscf.gto.M(atom=\"\"\"\n",
    "   N       -4.84638        1.76109        0.00000\n",
    "   N       -3.46888        1.78415        0.00000\n",
    "   O       -2.82385        2.93169       -0.00000\n",
    "   O       -2.85055        0.76276        0.00000\n",
    "   O       -5.46471        2.78248        0.00000\n",
    "   O       -5.49141        0.61355        0.00000\n",
    "\"\"\",basis=\"aug-cc-pVDZ\")\n",
    "N2O4.max_memory = 2000\n",
    "N2O4.build()\n",
    "\n",
    "rhf = pyscf.scf.RHF(N2O4)\n",
    "\n",
    "N2O4_eq = optimize(rhf)\n",
    "\n",
    "rhf = pyscf.scf.RHF(N2O4_eq)\n",
    "n2o4 = rhf.kernel()"
   ]
  },
  {
   "cell_type": "markdown",
   "metadata": {},
   "source": [
    "**Pregunta 2.** Calcule la energía de la molécula de $NO_2$ con HF y la base aug-cc-pvdz. [Complete donde haga falta - Reemplace las X]"
   ]
  },
  {
   "cell_type": "code",
   "execution_count": 43,
   "metadata": {
    "scrolled": true
   },
   "outputs": [
    {
     "name": "stderr",
     "output_type": "stream",
     "text": [
      "\n",
      "                                        \u001b[91m())))))))))))))))/\u001b[0m                     \n",
      "                                    \u001b[91m())))))))))))))))))))))))),\u001b[0m                \n",
      "                                \u001b[91m*)))))))))))))))))))))))))))))))))\u001b[0m             \n",
      "                        \u001b[94m#,\u001b[0m    \u001b[91m()))))))))/\u001b[0m                \u001b[91m.)))))))))),\u001b[0m          \n",
      "                      \u001b[94m#%%%%,\u001b[0m  \u001b[91m())))))\u001b[0m                        \u001b[91m.))))))))*\u001b[0m        \n",
      "                      \u001b[94m*%%%%%%,\u001b[0m  \u001b[91m))\u001b[0m              \u001b[93m..\u001b[0m              \u001b[91m,))))))).\u001b[0m      \n",
      "                        \u001b[94m*%%%%%%,\u001b[0m         \u001b[93m***************/.\u001b[0m        \u001b[91m.)))))))\u001b[0m     \n",
      "                \u001b[94m#%%/\u001b[0m      \u001b[94m(%%%%%%,\u001b[0m    \u001b[93m/*********************.\u001b[0m       \u001b[91m)))))))\u001b[0m    \n",
      "              \u001b[94m.%%%%%%#\u001b[0m      \u001b[94m*%%%%%%,\u001b[0m  \u001b[93m*******/,\u001b[0m     \u001b[93m**********,\u001b[0m      \u001b[91m.))))))\u001b[0m   \n",
      "                \u001b[94m.%%%%%%/\u001b[0m      \u001b[94m*%%%%%%,\u001b[0m  \u001b[93m**\u001b[0m              \u001b[93m********\u001b[0m      \u001b[91m.))))))\u001b[0m  \n",
      "          \u001b[94m##\u001b[0m      \u001b[94m.%%%%%%/\u001b[0m      \u001b[94m(%%%%%%,\u001b[0m                  \u001b[93m,******\u001b[0m      \u001b[91m/)))))\u001b[0m  \n",
      "        \u001b[94m%%%%%%\u001b[0m      \u001b[94m.%%%%%%#\u001b[0m      \u001b[94m*%%%%%%,\u001b[0m    \u001b[92m,/////.\u001b[0m       \u001b[93m******\u001b[0m      \u001b[91m))))))\u001b[0m \n",
      "      \u001b[94m#%\u001b[0m      \u001b[94m%%\u001b[0m      \u001b[94m.%%%%%%/\u001b[0m      \u001b[94m*%%%%%%,\u001b[0m  \u001b[92m////////,\u001b[0m      \u001b[93m*****/\u001b[0m     \u001b[91m,)))))\u001b[0m \n",
      "    \u001b[94m#%%\u001b[0m  \u001b[94m%%%\u001b[0m  \u001b[94m%%%#\u001b[0m      \u001b[94m.%%%%%%/\u001b[0m      \u001b[94m(%%%%%%,\u001b[0m  \u001b[92m///////.\u001b[0m     \u001b[93m/*****\u001b[0m      \u001b[91m))))).\u001b[0m\n",
      "  \u001b[94m#%%%%.\u001b[0m      \u001b[94m%%%%%#\u001b[0m      \u001b[94m/%%%%%%*\u001b[0m      \u001b[94m#%%%%%%\u001b[0m   \u001b[92m/////)\u001b[0m     \u001b[93m******\u001b[0m      \u001b[91m))))),\u001b[0m\n",
      "    \u001b[94m#%%%%##%\u001b[0m  \u001b[94m%%%#\u001b[0m      \u001b[94m.%%%%%%/\u001b[0m      \u001b[94m(%%%%%%,\u001b[0m  \u001b[92m///////.\u001b[0m     \u001b[93m/*****\u001b[0m      \u001b[91m))))).\u001b[0m\n",
      "      \u001b[94m##\u001b[0m     \u001b[94m%%%\u001b[0m      \u001b[94m.%%%%%%/\u001b[0m      \u001b[94m*%%%%%%,\u001b[0m  \u001b[92m////////.\u001b[0m      \u001b[93m*****/\u001b[0m     \u001b[91m,)))))\u001b[0m \n",
      "        \u001b[94m#%%%%#\u001b[0m      \u001b[94m/%%%%%%/\u001b[0m      \u001b[94m(%%%%%%\u001b[0m      \u001b[92m/)/)//\u001b[0m       \u001b[93m******\u001b[0m      \u001b[91m))))))\u001b[0m \n",
      "          \u001b[94m##\u001b[0m      \u001b[94m.%%%%%%/\u001b[0m      \u001b[94m(%%%%%%,\u001b[0m                  \u001b[93m*******\u001b[0m      \u001b[91m))))))\u001b[0m  \n",
      "                \u001b[94m.%%%%%%/\u001b[0m      \u001b[94m*%%%%%%,\u001b[0m  \u001b[93m**.\u001b[0m             \u001b[93m/*******\u001b[0m      \u001b[91m.))))))\u001b[0m  \n",
      "              \u001b[94m*%%%%%%/\u001b[0m      \u001b[94m(%%%%%%\u001b[0m   \u001b[93m********/*..,*/*********\u001b[0m       \u001b[91m*))))))\u001b[0m   \n",
      "                \u001b[94m#%%/\u001b[0m      \u001b[94m(%%%%%%,\u001b[0m    \u001b[93m*********************/\u001b[0m        \u001b[91m)))))))\u001b[0m    \n",
      "                        \u001b[94m*%%%%%%,\u001b[0m         \u001b[93m,**************/\u001b[0m         \u001b[91m,))))))/\u001b[0m     \n",
      "                      \u001b[94m(%%%%%%\u001b[0m   \u001b[91m()\u001b[0m                              \u001b[91m))))))))\u001b[0m       \n",
      "                      \u001b[94m#%%%%,\u001b[0m  \u001b[91m())))))\u001b[0m                        \u001b[91m,)))))))),\u001b[0m        \n",
      "                        \u001b[94m#,\u001b[0m    \u001b[91m())))))))))\u001b[0m                \u001b[91m,)))))))))).\u001b[0m          \n",
      "                                 \u001b[91m()))))))))))))))))))))))))))))))/\u001b[0m             \n",
      "                                    \u001b[91m())))))))))))))))))))))))).\u001b[0m                \n",
      "                                         \u001b[91m())))))))))))))),\u001b[0m                     \n",
      "\n",
      "-=# \u001b[1;94m geomeTRIC started. Version: 0.9.7.2 \u001b[0m #=-\n",
      "geometric-optimize called with the following command line:\n",
      "/home/jfhlewyee/anaconda3/envs/jb/lib/python3.9/site-packages/ipykernel_launcher.py -f /home/jfhlewyee/.local/share/jupyter/runtime/kernel-358feb44-e974-44ce-bd45-badfebb58697.json\n",
      "9 internal coordinates being used (instead of 9 Cartesians)\n",
      "Internal coordinate system (atoms numbered from 1):\n",
      "Distance 1-2\n",
      "Distance 1-3\n",
      "Angle 2-1-3\n",
      "Translation-X 1-3\n",
      "Translation-Y 1-3\n",
      "Translation-Z 1-3\n",
      "Rotation-A 1-3\n",
      "Rotation-B 1-3\n",
      "Rotation-C 1-3\n",
      "<class 'geometric.internal.Distance'> : 2\n",
      "<class 'geometric.internal.Angle'> : 1\n",
      "<class 'geometric.internal.TranslationX'> : 1\n",
      "<class 'geometric.internal.TranslationY'> : 1\n",
      "<class 'geometric.internal.TranslationZ'> : 1\n",
      "<class 'geometric.internal.RotationA'> : 1\n",
      "<class 'geometric.internal.RotationB'> : 1\n",
      "<class 'geometric.internal.RotationC'> : 1\n"
     ]
    },
    {
     "name": "stdout",
     "output_type": "stream",
     "text": [
      "\n",
      "Geometry optimization cycle 1\n",
      "Cartesian coordinates (Angstrom)\n",
      " Atom        New coordinates             dX        dY        dZ\n",
      "   N  -4.395390   1.873800   0.000000    0.000000  0.000000  0.000000\n",
      "   O  -3.909780   3.095200   0.000000    0.000000  0.000000  0.000000\n",
      "   O  -3.655940   0.938100   0.000000    0.000000  0.000000  0.000000\n",
      "converged SCF energy = -204.031651344624  <S^2> = 0.85628569  2S+1 = 2.1036023\n",
      "--------------- SCF_Scanner gradients ---------------\n",
      "         x                y                z\n",
      "0 N    -0.1568709457    -0.0421698819     0.0000000000\n",
      "1 O     0.0719972432     0.0892808868    -0.0000000000\n",
      "2 O     0.0848737025    -0.0471110050    -0.0000000000\n",
      "----------------------------------------------\n",
      "cycle 1: E = -204.031651345  dE = -204.032  norm(grad) = 0.221279\n"
     ]
    },
    {
     "name": "stderr",
     "output_type": "stream",
     "text": [
      "Step    0 : Gradient = 1.278e-01/1.624e-01 (rms/max) Energy = -204.0316513446\n",
      "Hessian Eigenvalues: 5.00000e-02 5.00000e-02 5.00000e-02 ... 2.50000e-01 6.33488e-01 1.08625e+00\n"
     ]
    },
    {
     "name": "stdout",
     "output_type": "stream",
     "text": [
      "\n",
      "Geometry optimization cycle 2\n",
      "Cartesian coordinates (Angstrom)\n",
      " Atom        New coordinates             dX        dY        dZ\n",
      "   N  -4.256623   1.910543  -0.000000    0.138767  0.036743 -0.000000\n",
      "   O  -3.983454   3.102514   0.000000   -0.073674  0.007314  0.000000\n",
      "   O  -3.721033   0.894043  -0.000000   -0.065093 -0.044057 -0.000000\n",
      "\n",
      "WARN: Large deviations found between the input molecule and the molecule from chkfile\n",
      "Initial guess density matrix may have large error.\n",
      "\n",
      "converged SCF energy = -204.064395959327  <S^2> = 0.77178859  2S+1 = 2.0216712\n",
      "--------------- SCF_Scanner gradients ---------------\n",
      "         x                y                z\n",
      "0 N    -0.0000370022    -0.0693865259     0.0000000000\n",
      "1 O     0.0072227122     0.0809746067     0.0000000000\n",
      "2 O    -0.0071857100    -0.0115880808    -0.0000000000\n",
      "----------------------------------------------\n",
      "cycle 2: E = -204.064395959  dE = -0.0327446  norm(grad) = 0.107747\n"
     ]
    },
    {
     "name": "stderr",
     "output_type": "stream",
     "text": [
      "Step    1 : Displace = \u001b[0m1.037e-01\u001b[0m/\u001b[0m1.435e-01\u001b[0m (rms/max) Trust = 1.000e-01 (=) Grad = \u001b[0m6.221e-02\u001b[0m/\u001b[0m8.130e-02\u001b[0m (rms/max) E (change) = -204.0643959593 (\u001b[0m-3.274e-02\u001b[0m) Quality = \u001b[0m1.197\u001b[0m\n",
      "Hessian Eigenvalues: 5.00000e-02 5.00000e-02 5.00000e-02 ... 2.88851e-01 4.78375e-01 1.11087e+00\n"
     ]
    },
    {
     "name": "stdout",
     "output_type": "stream",
     "text": [
      "\n",
      "Geometry optimization cycle 3\n",
      "Cartesian coordinates (Angstrom)\n",
      " Atom        New coordinates             dX        dY        dZ\n",
      "   N  -4.253633   1.939328  -0.000000    0.002990  0.028785 -0.000000\n",
      "   O  -3.985935   3.028642  -0.000000   -0.002481 -0.073872 -0.000000\n",
      "   O  -3.721543   0.939130   0.000000   -0.000510  0.045087  0.000000\n",
      "\n",
      "WARN: Large deviations found between the input molecule and the molecule from chkfile\n",
      "Initial guess density matrix may have large error.\n",
      "\n",
      "converged SCF energy = -204.06506430725  <S^2> = 0.76435055  2S+1 = 2.0142994\n",
      "--------------- SCF_Scanner gradients ---------------\n",
      "         x                y                z\n",
      "0 N     0.0612076683     0.0277706884     0.0000000000\n",
      "1 O    -0.0250211129    -0.0896913226    -0.0000000000\n",
      "2 O    -0.0361865554     0.0619206342    -0.0000000000\n",
      "----------------------------------------------\n",
      "cycle 3: E = -204.065064307  dE = -0.000668348  norm(grad) = 0.135395\n"
     ]
    },
    {
     "name": "stderr",
     "output_type": "stream",
     "text": [
      "Step    2 : Displace = \u001b[0m5.265e-02\u001b[0m/\u001b[0m7.388e-02\u001b[0m (rms/max) Trust = 1.414e-01 (\u001b[92m+\u001b[0m) Grad = \u001b[0m7.817e-02\u001b[0m/\u001b[0m9.312e-02\u001b[0m (rms/max) E (change) = -204.0650643073 (\u001b[0m-6.683e-04\u001b[0m) Quality = \u001b[0m0.083\u001b[0m\n",
      "Hessian Eigenvalues: 5.00000e-02 5.00000e-02 5.00000e-02 ... 3.25873e-01 7.81652e-01 1.34502e+00\n"
     ]
    },
    {
     "name": "stdout",
     "output_type": "stream",
     "text": [
      "\n",
      "Geometry optimization cycle 4\n",
      "Cartesian coordinates (Angstrom)\n",
      " Atom        New coordinates             dX        dY        dZ\n",
      "   N  -4.274267   1.925809  -0.000000   -0.020635 -0.013519 -0.000000\n",
      "   O  -3.976313   3.062298   0.000000    0.009622  0.033656  0.000000\n",
      "   O  -3.710530   0.918993  -0.000000    0.011013 -0.020137 -0.000000\n",
      "\n",
      "WARN: Large deviations found between the input molecule and the molecule from chkfile\n",
      "Initial guess density matrix may have large error.\n",
      "\n",
      "converged SCF energy = -204.069908577933  <S^2> = 0.76742937  2S+1 = 2.0173541\n",
      "--------------- SCF_Scanner gradients ---------------\n",
      "         x                y                z\n",
      "0 N    -0.0030473522    -0.0253509043    -0.0000000000\n",
      "1 O     0.0056727205     0.0195674811     0.0000000000\n",
      "2 O    -0.0026253683     0.0057834233     0.0000000000\n",
      "----------------------------------------------\n",
      "cycle 4: E = -204.069908578  dE = -0.00484427  norm(grad) = 0.033277\n"
     ]
    },
    {
     "name": "stderr",
     "output_type": "stream",
     "text": [
      "Step    3 : Displace = \u001b[0m2.805e-02\u001b[0m/\u001b[0m3.487e-02\u001b[0m (rms/max) Trust = 7.071e-02 (\u001b[91m-\u001b[0m) Grad = \u001b[0m1.921e-02\u001b[0m/\u001b[0m2.553e-02\u001b[0m (rms/max) E (change) = -204.0699085779 (\u001b[0m-4.844e-03\u001b[0m) Quality = \u001b[0m0.780\u001b[0m\n",
      "Hessian Eigenvalues: 5.00000e-02 5.00000e-02 5.00000e-02 ... 3.32174e-01 9.08211e-01 1.30377e+00\n"
     ]
    },
    {
     "name": "stdout",
     "output_type": "stream",
     "text": [
      "\n",
      "Geometry optimization cycle 5\n",
      "Cartesian coordinates (Angstrom)\n",
      " Atom        New coordinates             dX        dY        dZ\n",
      "   N  -4.271532   1.931599  -0.000000    0.002735  0.005790  0.000000\n",
      "   O  -3.978970   3.057947   0.000000   -0.002657 -0.004351  0.000000\n",
      "   O  -3.710608   0.917554  -0.000000   -0.000078 -0.001439 -0.000000\n",
      "\n",
      "WARN: Large deviations found between the input molecule and the molecule from chkfile\n",
      "Initial guess density matrix may have large error.\n",
      "\n",
      "converged SCF energy = -204.070214351129  <S^2> = 0.76695559  2S+1 = 2.0168843\n",
      "--------------- SCF_Scanner gradients ---------------\n",
      "         x                y                z\n",
      "0 N     0.0006098718    -0.0059564586     0.0000000000\n",
      "1 O     0.0006875392     0.0046621393     0.0000000000\n",
      "2 O    -0.0012974110     0.0012943192    -0.0000000000\n",
      "----------------------------------------------\n",
      "cycle 5: E = -204.070214351  dE = -0.000305773  norm(grad) = 0.00783697\n"
     ]
    },
    {
     "name": "stderr",
     "output_type": "stream",
     "text": [
      "Step    4 : Displace = \u001b[0m4.789e-03\u001b[0m/\u001b[0m6.486e-03\u001b[0m (rms/max) Trust = 1.000e-01 (\u001b[92m+\u001b[0m) Grad = \u001b[0m4.525e-03\u001b[0m/\u001b[0m5.988e-03\u001b[0m (rms/max) E (change) = -204.0702143511 (\u001b[0m-3.058e-04\u001b[0m) Quality = \u001b[0m1.228\u001b[0m\n",
      "Hessian Eigenvalues: 5.00000e-02 5.00000e-02 5.00000e-02 ... 3.47868e-01 6.90208e-01 1.28576e+00\n"
     ]
    },
    {
     "name": "stdout",
     "output_type": "stream",
     "text": [
      "\n",
      "Geometry optimization cycle 6\n",
      "Cartesian coordinates (Angstrom)\n",
      " Atom        New coordinates             dX        dY        dZ\n",
      "   N  -4.272577   1.933145  -0.000000   -0.001044  0.001546 -0.000000\n",
      "   O  -3.978784   3.055705   0.000000    0.000185 -0.002242 -0.000000\n",
      "   O  -3.709749   0.918250   0.000000    0.000859  0.000697  0.000000\n",
      "converged SCF energy = -204.070231917669  <S^2> = 0.76691499  2S+1 = 2.0168441\n",
      "--------------- SCF_Scanner gradients ---------------\n",
      "         x                y                z\n",
      "0 N     0.0001272783     0.0001947804    -0.0000000000\n",
      "1 O    -0.0000289909    -0.0006556160    -0.0000000000\n",
      "2 O    -0.0000982874     0.0004608356     0.0000000000\n",
      "----------------------------------------------\n",
      "cycle 6: E = -204.070231918  dE = -1.75665e-05  norm(grad) = 0.000840739\n"
     ]
    },
    {
     "name": "stderr",
     "output_type": "stream",
     "text": [
      "Step    5 : Displace = \u001b[0m1.798e-03\u001b[0m/\u001b[0m2.272e-03\u001b[0m (rms/max) Trust = 1.414e-01 (\u001b[92m+\u001b[0m) Grad = \u001b[0m4.854e-04\u001b[0m/\u001b[0m6.563e-04\u001b[0m (rms/max) E (change) = -204.0702319177 (\u001b[0m-1.757e-05\u001b[0m) Quality = \u001b[0m0.912\u001b[0m\n",
      "Hessian Eigenvalues: 5.00000e-02 5.00000e-02 5.00000e-02 ... 3.57265e-01 7.00526e-01 1.34672e+00\n"
     ]
    },
    {
     "name": "stdout",
     "output_type": "stream",
     "text": [
      "\n",
      "Geometry optimization cycle 7\n",
      "Cartesian coordinates (Angstrom)\n",
      " Atom        New coordinates             dX        dY        dZ\n",
      "   N  -4.272357   1.933125  -0.000000    0.000219 -0.000019  0.000000\n",
      "   O  -3.978921   3.056068   0.000000   -0.000137  0.000364  0.000000\n",
      "   O  -3.709831   0.917906  -0.000000   -0.000082 -0.000344 -0.000000\n",
      "converged SCF energy = -204.070232250849  <S^2> = 0.7669235  2S+1 = 2.0168525\n",
      "--------------- SCF_Scanner gradients ---------------\n",
      "         x                y                z\n",
      "0 N     0.0000757409     0.0000021022     0.0000000000\n",
      "1 O    -0.0000340872    -0.0000233940    -0.0000000000\n",
      "2 O    -0.0000416536     0.0000212918     0.0000000000\n",
      "----------------------------------------------\n",
      "cycle 7: E = -204.070232251  dE = -3.33179e-07  norm(grad) = 9.81768e-05\n"
     ]
    },
    {
     "name": "stderr",
     "output_type": "stream",
     "text": [
      "Step    6 : Displace = \u001b[92m3.289e-04\u001b[0m/\u001b[92m3.912e-04\u001b[0m (rms/max) Trust = 2.000e-01 (\u001b[92m+\u001b[0m) Grad = \u001b[92m5.668e-05\u001b[0m/\u001b[92m7.577e-05\u001b[0m (rms/max) E (change) = -204.0702322508 (\u001b[92m-3.332e-07\u001b[0m) Quality = \u001b[0m0.978\u001b[0m\n",
      "Converged! =D\n",
      "\n",
      "    #==========================================================================#\n",
      "    #| If this code has benefited your research, please support us by citing: |#\n",
      "    #|                                                                        |#\n",
      "    #| Wang, L.-P.; Song, C.C. (2016) \"Geometry optimization made simple with |#\n",
      "    #| translation and rotation coordinates\", J. Chem, Phys. 144, 214108.     |#\n",
      "    #| http://dx.doi.org/10.1063/1.4952956                                    |#\n",
      "    #==========================================================================#\n",
      "    \n",
      "Time elapsed since start of run_optimizer: 7.080 seconds\n"
     ]
    },
    {
     "name": "stdout",
     "output_type": "stream",
     "text": [
      "converged SCF energy = -204.07023225096  <S^2> = 0.76692232  2S+1 = 2.0168513\n"
     ]
    }
   ],
   "source": [
    "NO2 = pyscf.gto.M(atom=\"\"\"\n",
    "   N       -4.39539        1.87380        0.00000\n",
    "   O       -3.90978        3.09520       -0.00000\n",
    "   O       -3.65594        0.93810        0.00000\n",
    "\"\"\",spin=1,basis=\"aug-cc-pVDZ\")\n",
    "NO2.max_memory = 2000\n",
    "NO2.build()\n",
    "\n",
    "uhf = pyscf.scf.UHF(NO2)\n",
    "\n",
    "NO2_eq = optimize(uhf)\n",
    "\n",
    "uhf = pyscf.scf.UHF(NO2_eq)\n",
    "no2 = uhf.kernel()"
   ]
  },
  {
   "cell_type": "markdown",
   "metadata": {},
   "source": [
    "**Pregunta a.** Calcule el $\\Delta U$ de la reacción $N_2O_4 <=> 2NO_2$ según HF."
   ]
  },
  {
   "cell_type": "code",
   "execution_count": 44,
   "metadata": {
    "scrolled": true
   },
   "outputs": [
    {
     "data": {
      "text/plain": [
       "-63.39423406965042"
      ]
     },
     "execution_count": 44,
     "metadata": {},
     "output_type": "execute_result"
    }
   ],
   "source": [
    "(2*no2-n2o4)*2625.5"
   ]
  },
  {
   "cell_type": "markdown",
   "metadata": {},
   "source": [
    "**Pregunta 3.** Calcule la energía de la molécula de $N_2O_4$ con DFT B3LYP y la base aug-cc-pvdz."
   ]
  },
  {
   "cell_type": "code",
   "execution_count": 46,
   "metadata": {
    "scrolled": true
   },
   "outputs": [
    {
     "name": "stderr",
     "output_type": "stream",
     "text": [
      "\n",
      "                                        \u001b[91m())))))))))))))))/\u001b[0m                     \n",
      "                                    \u001b[91m())))))))))))))))))))))))),\u001b[0m                \n",
      "                                \u001b[91m*)))))))))))))))))))))))))))))))))\u001b[0m             \n",
      "                        \u001b[94m#,\u001b[0m    \u001b[91m()))))))))/\u001b[0m                \u001b[91m.)))))))))),\u001b[0m          \n",
      "                      \u001b[94m#%%%%,\u001b[0m  \u001b[91m())))))\u001b[0m                        \u001b[91m.))))))))*\u001b[0m        \n",
      "                      \u001b[94m*%%%%%%,\u001b[0m  \u001b[91m))\u001b[0m              \u001b[93m..\u001b[0m              \u001b[91m,))))))).\u001b[0m      \n",
      "                        \u001b[94m*%%%%%%,\u001b[0m         \u001b[93m***************/.\u001b[0m        \u001b[91m.)))))))\u001b[0m     \n",
      "                \u001b[94m#%%/\u001b[0m      \u001b[94m(%%%%%%,\u001b[0m    \u001b[93m/*********************.\u001b[0m       \u001b[91m)))))))\u001b[0m    \n",
      "              \u001b[94m.%%%%%%#\u001b[0m      \u001b[94m*%%%%%%,\u001b[0m  \u001b[93m*******/,\u001b[0m     \u001b[93m**********,\u001b[0m      \u001b[91m.))))))\u001b[0m   \n",
      "                \u001b[94m.%%%%%%/\u001b[0m      \u001b[94m*%%%%%%,\u001b[0m  \u001b[93m**\u001b[0m              \u001b[93m********\u001b[0m      \u001b[91m.))))))\u001b[0m  \n",
      "          \u001b[94m##\u001b[0m      \u001b[94m.%%%%%%/\u001b[0m      \u001b[94m(%%%%%%,\u001b[0m                  \u001b[93m,******\u001b[0m      \u001b[91m/)))))\u001b[0m  \n",
      "        \u001b[94m%%%%%%\u001b[0m      \u001b[94m.%%%%%%#\u001b[0m      \u001b[94m*%%%%%%,\u001b[0m    \u001b[92m,/////.\u001b[0m       \u001b[93m******\u001b[0m      \u001b[91m))))))\u001b[0m \n",
      "      \u001b[94m#%\u001b[0m      \u001b[94m%%\u001b[0m      \u001b[94m.%%%%%%/\u001b[0m      \u001b[94m*%%%%%%,\u001b[0m  \u001b[92m////////,\u001b[0m      \u001b[93m*****/\u001b[0m     \u001b[91m,)))))\u001b[0m \n",
      "    \u001b[94m#%%\u001b[0m  \u001b[94m%%%\u001b[0m  \u001b[94m%%%#\u001b[0m      \u001b[94m.%%%%%%/\u001b[0m      \u001b[94m(%%%%%%,\u001b[0m  \u001b[92m///////.\u001b[0m     \u001b[93m/*****\u001b[0m      \u001b[91m))))).\u001b[0m\n",
      "  \u001b[94m#%%%%.\u001b[0m      \u001b[94m%%%%%#\u001b[0m      \u001b[94m/%%%%%%*\u001b[0m      \u001b[94m#%%%%%%\u001b[0m   \u001b[92m/////)\u001b[0m     \u001b[93m******\u001b[0m      \u001b[91m))))),\u001b[0m\n",
      "    \u001b[94m#%%%%##%\u001b[0m  \u001b[94m%%%#\u001b[0m      \u001b[94m.%%%%%%/\u001b[0m      \u001b[94m(%%%%%%,\u001b[0m  \u001b[92m///////.\u001b[0m     \u001b[93m/*****\u001b[0m      \u001b[91m))))).\u001b[0m\n",
      "      \u001b[94m##\u001b[0m     \u001b[94m%%%\u001b[0m      \u001b[94m.%%%%%%/\u001b[0m      \u001b[94m*%%%%%%,\u001b[0m  \u001b[92m////////.\u001b[0m      \u001b[93m*****/\u001b[0m     \u001b[91m,)))))\u001b[0m \n",
      "        \u001b[94m#%%%%#\u001b[0m      \u001b[94m/%%%%%%/\u001b[0m      \u001b[94m(%%%%%%\u001b[0m      \u001b[92m/)/)//\u001b[0m       \u001b[93m******\u001b[0m      \u001b[91m))))))\u001b[0m \n",
      "          \u001b[94m##\u001b[0m      \u001b[94m.%%%%%%/\u001b[0m      \u001b[94m(%%%%%%,\u001b[0m                  \u001b[93m*******\u001b[0m      \u001b[91m))))))\u001b[0m  \n",
      "                \u001b[94m.%%%%%%/\u001b[0m      \u001b[94m*%%%%%%,\u001b[0m  \u001b[93m**.\u001b[0m             \u001b[93m/*******\u001b[0m      \u001b[91m.))))))\u001b[0m  \n",
      "              \u001b[94m*%%%%%%/\u001b[0m      \u001b[94m(%%%%%%\u001b[0m   \u001b[93m********/*..,*/*********\u001b[0m       \u001b[91m*))))))\u001b[0m   \n",
      "                \u001b[94m#%%/\u001b[0m      \u001b[94m(%%%%%%,\u001b[0m    \u001b[93m*********************/\u001b[0m        \u001b[91m)))))))\u001b[0m    \n",
      "                        \u001b[94m*%%%%%%,\u001b[0m         \u001b[93m,**************/\u001b[0m         \u001b[91m,))))))/\u001b[0m     \n",
      "                      \u001b[94m(%%%%%%\u001b[0m   \u001b[91m()\u001b[0m                              \u001b[91m))))))))\u001b[0m       \n",
      "                      \u001b[94m#%%%%,\u001b[0m  \u001b[91m())))))\u001b[0m                        \u001b[91m,)))))))),\u001b[0m        \n",
      "                        \u001b[94m#,\u001b[0m    \u001b[91m())))))))))\u001b[0m                \u001b[91m,)))))))))).\u001b[0m          \n",
      "                                 \u001b[91m()))))))))))))))))))))))))))))))/\u001b[0m             \n",
      "                                    \u001b[91m())))))))))))))))))))))))).\u001b[0m                \n",
      "                                         \u001b[91m())))))))))))))),\u001b[0m                     \n",
      "\n",
      "-=# \u001b[1;94m geomeTRIC started. Version: 0.9.7.2 \u001b[0m #=-\n",
      "geometric-optimize called with the following command line:\n",
      "/home/jfhlewyee/anaconda3/envs/jb/lib/python3.9/site-packages/ipykernel_launcher.py -f /home/jfhlewyee/.local/share/jupyter/runtime/kernel-358feb44-e974-44ce-bd45-badfebb58697.json\n",
      "18 internal coordinates being used (instead of 18 Cartesians)\n",
      "Internal coordinate system (atoms numbered from 1):\n",
      "Distance 1-2\n",
      "Distance 1-5\n",
      "Distance 1-6\n",
      "Distance 2-3\n",
      "Distance 2-4\n",
      "Angle 2-1-6\n",
      "Angle 5-1-6\n",
      "Angle 1-2-4\n",
      "Angle 3-2-4\n",
      "Out-of-Plane 1-2-5-6\n",
      "Out-of-Plane 2-1-3-4\n",
      "Dihedral 5-1-2-3\n",
      "Dihedral 5-1-2-4\n",
      "Dihedral 6-1-2-3\n",
      "Dihedral 6-1-2-4\n",
      "Translation-X 1-6\n",
      "Translation-Y 1-6\n",
      "Translation-Z 1-6\n",
      "Rotation-A 1-6\n",
      "Rotation-B 1-6\n",
      "Rotation-C 1-6\n",
      "<class 'geometric.internal.Distance'> : 5\n",
      "<class 'geometric.internal.Angle'> : 4\n",
      "<class 'geometric.internal.OutOfPlane'> : 2\n",
      "<class 'geometric.internal.Dihedral'> : 4\n",
      "<class 'geometric.internal.TranslationX'> : 1\n",
      "<class 'geometric.internal.TranslationY'> : 1\n",
      "<class 'geometric.internal.TranslationZ'> : 1\n",
      "<class 'geometric.internal.RotationA'> : 1\n",
      "<class 'geometric.internal.RotationB'> : 1\n",
      "<class 'geometric.internal.RotationC'> : 1\n"
     ]
    },
    {
     "name": "stdout",
     "output_type": "stream",
     "text": [
      "\n",
      "Geometry optimization cycle 1\n",
      "Cartesian coordinates (Angstrom)\n",
      " Atom        New coordinates             dX        dY        dZ\n",
      "   N  -4.846380   1.761090   0.000000    0.000000  0.000000  0.000000\n",
      "   N  -3.468880   1.784150   0.000000    0.000000  0.000000  0.000000\n",
      "   O  -2.823850   2.931690   0.000000    0.000000  0.000000  0.000000\n",
      "   O  -2.850550   0.762760   0.000000    0.000000  0.000000  0.000000\n",
      "   O  -5.464710   2.782480   0.000000    0.000000  0.000000  0.000000\n",
      "   O  -5.491410   0.613550   0.000000    0.000000  0.000000  0.000000\n",
      "converged SCF energy = -410.001293320942\n",
      "--------------- SCF_Scanner gradients ---------------\n",
      "         x                y                z\n",
      "0 N     0.1737854991     0.0734043449    -0.0000000000\n",
      "1 N    -0.1737854991    -0.0734043449     0.0000000000\n",
      "2 O     0.0701937011     0.0535757855    -0.0000000000\n",
      "3 O     0.0182082544     0.0306359244     0.0000000000\n",
      "4 O    -0.0182082544    -0.0306359244     0.0000000000\n",
      "5 O    -0.0701937011    -0.0535757856    -0.0000000000\n",
      "----------------------------------------------\n",
      "cycle 1: E = -410.001293321  dE = -410.001  norm(grad) = 0.298855\n"
     ]
    },
    {
     "name": "stderr",
     "output_type": "stream",
     "text": [
      "Step    0 : Gradient = 1.220e-01/1.887e-01 (rms/max) Energy = -410.0012933209\n",
      "Hessian Eigenvalues: 2.30000e-02 2.81592e-02 2.85714e-02 ... 6.28366e-01 1.07911e+00 1.07911e+00\n"
     ]
    },
    {
     "name": "stdout",
     "output_type": "stream",
     "text": [
      "\n",
      "Geometry optimization cycle 2\n",
      "Cartesian coordinates (Angstrom)\n",
      " Atom        New coordinates             dX        dY        dZ\n",
      "   N  -4.867782   1.748472  -0.000000   -0.021402 -0.012618 -0.000000\n",
      "   N  -3.431266   1.742669  -0.000000    0.037614 -0.041481 -0.000000\n",
      "   O  -3.013609   2.940631  -0.000000   -0.189759  0.008941 -0.000000\n",
      "   O  -2.799471   0.721809  -0.000000    0.051079 -0.040951 -0.000000\n",
      "   O  -5.355117   2.845661  -0.000000    0.109593  0.063181 -0.000000\n",
      "   O  -5.478536   0.636478   0.000000    0.012874  0.022928  0.000000\n",
      "\n",
      "WARN: Large deviations found between the input molecule and the molecule from chkfile\n",
      "Initial guess density matrix may have large error.\n",
      "\n",
      "converged SCF energy = -410.03318865251\n",
      "--------------- SCF_Scanner gradients ---------------\n",
      "         x                y                z\n",
      "0 N     0.1291888523     0.0499282232     0.0000000000\n",
      "1 N    -0.1100041999    -0.0703749030    -0.0000000000\n",
      "2 O     0.0041822652     0.0613895352    -0.0000000000\n",
      "3 O     0.0157574521     0.0020653141     0.0000000000\n",
      "4 O     0.0049680245     0.0040774031     0.0000000000\n",
      "5 O    -0.0440454105    -0.0471280791    -0.0000000000\n",
      "----------------------------------------------\n",
      "cycle 2: E = -410.033188653  dE = -0.0318953  norm(grad) = 0.210896\n"
     ]
    },
    {
     "name": "stderr",
     "output_type": "stream",
     "text": [
      "Step    1 : Displace = \u001b[0m1.007e-01\u001b[0m/\u001b[0m1.899e-01\u001b[0m (rms/max) Trust = 1.000e-01 (=) Grad = \u001b[0m8.610e-02\u001b[0m/\u001b[0m1.385e-01\u001b[0m (rms/max) E (change) = -410.0331886525 (\u001b[0m-3.190e-02\u001b[0m) Quality = \u001b[0m0.904\u001b[0m\n",
      "Hessian Eigenvalues: 2.30000e-02 2.81592e-02 2.85714e-02 ... 9.52116e-01 1.07897e+00 1.18518e+00\n"
     ]
    },
    {
     "name": "stdout",
     "output_type": "stream",
     "text": [
      "\n",
      "Geometry optimization cycle 3\n",
      "Cartesian coordinates (Angstrom)\n",
      " Atom        New coordinates             dX        dY        dZ\n",
      "   N  -4.959425   1.780901  -0.000000   -0.091643  0.032428 -0.000000\n",
      "   N  -3.360077   1.806326   0.000000    0.071189  0.063658  0.000000\n",
      "   O  -2.874441   2.856632   0.000000    0.139167 -0.083999  0.000000\n",
      "   O  -2.902116   0.689472  -0.000000   -0.102645 -0.032337  0.000000\n",
      "   O  -5.562333   2.829292  -0.000000   -0.207216 -0.016369 -0.000000\n",
      "   O  -5.288461   0.674067   0.000000    0.190075  0.037590 -0.000000\n",
      "\n",
      "WARN: Large deviations found between the input molecule and the molecule from chkfile\n",
      "Initial guess density matrix may have large error.\n",
      "\n",
      "converged SCF energy = -410.057337907484\n",
      "--------------- SCF_Scanner gradients ---------------\n",
      "         x                y                z\n",
      "0 N     0.0234961851    -0.0505108238    -0.0000000000\n",
      "1 N    -0.0220760812     0.0527270607     0.0000000000\n",
      "2 O    -0.0280590357    -0.0645944811     0.0000000000\n",
      "3 O    -0.0016997733    -0.0072482633    -0.0000000000\n",
      "4 O    -0.0133474193     0.0032668536     0.0000000000\n",
      "5 O     0.0416884054     0.0663455808     0.0000000000\n",
      "----------------------------------------------\n",
      "cycle 3: E = -410.057337907  dE = -0.0241493  norm(grad) = 0.133096\n"
     ]
    },
    {
     "name": "stderr",
     "output_type": "stream",
     "text": [
      "Step    2 : Displace = \u001b[0m1.513e-01\u001b[0m/\u001b[0m2.057e-01\u001b[0m (rms/max) Trust = 1.414e-01 (\u001b[92m+\u001b[0m) Grad = \u001b[0m5.434e-02\u001b[0m/\u001b[0m7.836e-02\u001b[0m (rms/max) E (change) = -410.0573379075 (\u001b[0m-2.415e-02\u001b[0m) Quality = \u001b[0m0.485\u001b[0m\n",
      "Hessian Eigenvalues: 2.30000e-02 2.81592e-02 2.85714e-02 ... 1.00315e+00 1.07934e+00 1.18021e+00\n"
     ]
    },
    {
     "name": "stdout",
     "output_type": "stream",
     "text": [
      "\n",
      "Geometry optimization cycle 4\n",
      "Cartesian coordinates (Angstrom)\n",
      " Atom        New coordinates             dX        dY        dZ\n",
      "   N  -5.002714   1.713676  -0.000000   -0.043289 -0.067224 -0.000000\n",
      "   N  -3.346515   1.836480  -0.000000    0.013562  0.030154 -0.000000\n",
      "   O  -2.841076   2.913493  -0.000000    0.033365  0.056861 -0.000000\n",
      "   O  -2.861118   0.734773   0.000000    0.040998  0.045301  0.000000\n",
      "   O  -5.454146   2.831503  -0.000000    0.108187  0.002211 -0.000000\n",
      "   O  -5.442145   0.608093  -0.000000   -0.153684 -0.065974 -0.000000\n",
      "\n",
      "WARN: Large deviations found between the input molecule and the molecule from chkfile\n",
      "Initial guess density matrix may have large error.\n",
      "\n",
      "converged SCF energy = -410.066444633222\n",
      "--------------- SCF_Scanner gradients ---------------\n",
      "         x                y                z\n",
      "0 N     0.0163336085    -0.0340558741     0.0000000000\n",
      "1 N    -0.0377100293     0.0351553919    -0.0000000000\n",
      "2 O     0.0111736770    -0.0115039048    -0.0000000000\n",
      "3 O    -0.0026560478    -0.0010001089    -0.0000000000\n",
      "4 O     0.0129629345     0.0146356205    -0.0000000000\n",
      "5 O    -0.0001271583    -0.0032323220    -0.0000000000\n",
      "----------------------------------------------\n",
      "cycle 4: E = -410.066444633  dE = -0.00910673  norm(grad) = 0.0688657\n"
     ]
    },
    {
     "name": "stderr",
     "output_type": "stream",
     "text": [
      "Step    3 : Displace = \u001b[0m9.596e-02\u001b[0m/\u001b[0m1.674e-01\u001b[0m (rms/max) Trust = 1.414e-01 (=) Grad = \u001b[0m2.811e-02\u001b[0m/\u001b[0m5.156e-02\u001b[0m (rms/max) E (change) = -410.0664446332 (\u001b[0m-9.107e-03\u001b[0m) Quality = \u001b[0m0.697\u001b[0m\n",
      "Hessian Eigenvalues: 2.30000e-02 2.81592e-02 2.85714e-02 ... 9.69352e-01 1.08359e+00 1.17477e+00\n"
     ]
    },
    {
     "name": "stdout",
     "output_type": "stream",
     "text": [
      "\n",
      "Geometry optimization cycle 5\n",
      "Cartesian coordinates (Angstrom)\n",
      " Atom        New coordinates             dX        dY        dZ\n",
      "   N  -5.000375   1.762421  -0.000000    0.002339  0.048744 -0.000000\n",
      "   N  -3.282490   1.776101  -0.000000    0.064025 -0.060379  0.000000\n",
      "   O  -2.876350   2.921664  -0.000000   -0.035274  0.008171  0.000000\n",
      "   O  -2.761499   0.693304   0.000000    0.099620 -0.041470  0.000000\n",
      "   O  -5.541544   2.832824  -0.000000   -0.087398  0.001321 -0.000000\n",
      "   O  -5.484881   0.652634  -0.000000   -0.042736  0.044541 -0.000000\n",
      "\n",
      "WARN: Large deviations found between the input molecule and the molecule from chkfile\n",
      "Initial guess density matrix may have large error.\n",
      "\n",
      "converged SCF energy = -410.069652770563\n",
      "--------------- SCF_Scanner gradients ---------------\n",
      "         x                y                z\n",
      "0 N     0.0447041361     0.0189350869     0.0000000000\n",
      "1 N    -0.0250315230    -0.0219826733    -0.0000000000\n",
      "2 O     0.0043324069     0.0306773849    -0.0000000000\n",
      "3 O     0.0103149821    -0.0171277292     0.0000000000\n",
      "4 O    -0.0172405861     0.0003769136    -0.0000000000\n",
      "5 O    -0.0170578662    -0.0108621207    -0.0000000000\n",
      "----------------------------------------------\n",
      "cycle 5: E = -410.069652771  dE = -0.00320814  norm(grad) = 0.0743826\n"
     ]
    },
    {
     "name": "stderr",
     "output_type": "stream",
     "text": [
      "Step    4 : Displace = \u001b[0m7.586e-02\u001b[0m/\u001b[0m1.082e-01\u001b[0m (rms/max) Trust = 1.414e-01 (=) Grad = \u001b[0m3.037e-02\u001b[0m/\u001b[0m4.855e-02\u001b[0m (rms/max) E (change) = -410.0696527706 (\u001b[0m-3.208e-03\u001b[0m) Quality = \u001b[0m0.419\u001b[0m\n",
      "Hessian Eigenvalues: 2.30000e-02 2.81592e-02 2.85714e-02 ... 1.00200e+00 1.09539e+00 1.20155e+00\n"
     ]
    },
    {
     "name": "stdout",
     "output_type": "stream",
     "text": [
      "\n",
      "Geometry optimization cycle 6\n",
      "Cartesian coordinates (Angstrom)\n",
      " Atom        New coordinates             dX        dY        dZ\n",
      "   N  -5.031631   1.746702  -0.000000   -0.031256 -0.015719  0.000000\n",
      "   N  -3.277777   1.792728   0.000000    0.004712  0.016627  0.000000\n",
      "   O  -2.864695   2.908856   0.000000    0.011654 -0.012808  0.000000\n",
      "   O  -2.769480   0.710040   0.000000   -0.007982  0.016736  0.000000\n",
      "   O  -5.524396   2.837429  -0.000000    0.017148  0.004605  0.000000\n",
      "   O  -5.479762   0.642579   0.000000    0.005119 -0.010055  0.000000\n",
      "converged SCF energy = -410.073021513432\n",
      "--------------- SCF_Scanner gradients ---------------\n",
      "         x                y                z\n",
      "0 N     0.0107597767    -0.0048275312    -0.0000000000\n",
      "1 N    -0.0060801820     0.0043978143     0.0000000000\n",
      "2 O    -0.0031677155    -0.0032451148    -0.0000000000\n",
      "3 O     0.0025466934    -0.0030597658    -0.0000000000\n",
      "4 O    -0.0032964914     0.0026565860    -0.0000000000\n",
      "5 O    -0.0007545822     0.0040843407     0.0000000000\n",
      "----------------------------------------------\n",
      "cycle 6: E = -410.073021513  dE = -0.00336874  norm(grad) = 0.0163394\n"
     ]
    },
    {
     "name": "stderr",
     "output_type": "stream",
     "text": [
      "Step    5 : Displace = \u001b[0m2.084e-02\u001b[0m/\u001b[0m3.466e-02\u001b[0m (rms/max) Trust = 1.414e-01 (=) Grad = \u001b[0m6.671e-03\u001b[0m/\u001b[0m1.179e-02\u001b[0m (rms/max) E (change) = -410.0730215134 (\u001b[0m-3.369e-03\u001b[0m) Quality = \u001b[0m1.132\u001b[0m\n",
      "Hessian Eigenvalues: 2.30000e-02 2.81592e-02 2.85714e-02 ... 9.89148e-01 1.09817e+00 1.15773e+00\n"
     ]
    },
    {
     "name": "stdout",
     "output_type": "stream",
     "text": [
      "\n",
      "Geometry optimization cycle 7\n",
      "Cartesian coordinates (Angstrom)\n",
      " Atom        New coordinates             dX        dY        dZ\n",
      "   N  -5.045335   1.745706  -0.000000   -0.013704 -0.000996 -0.000000\n",
      "   N  -3.270085   1.797223  -0.000000    0.007692  0.004495 -0.000000\n",
      "   O  -2.848073   2.911763  -0.000000    0.016622  0.002906 -0.000000\n",
      "   O  -2.774575   0.710963   0.000000   -0.005094  0.000924 -0.000000\n",
      "   O  -5.530806   2.837061  -0.000000   -0.006410 -0.000368  0.000000\n",
      "   O  -5.479275   0.635165  -0.000000    0.000487 -0.007414 -0.000000\n",
      "converged SCF energy = -410.073333689174\n",
      "--------------- SCF_Scanner gradients ---------------\n",
      "         x                y                z\n",
      "0 N     0.0025431147    -0.0027088201     0.0000000000\n",
      "1 N    -0.0018154349     0.0021784457    -0.0000000000\n",
      "2 O    -0.0016232109    -0.0010600339     0.0000000000\n",
      "3 O    -0.0001306319    -0.0011132049     0.0000000000\n",
      "4 O     0.0003373261     0.0020392216    -0.0000000000\n",
      "5 O     0.0006908487     0.0006667650    -0.0000000000\n",
      "----------------------------------------------\n",
      "cycle 7: E = -410.073333689  dE = -0.000312176  norm(grad) = 0.00566175\n"
     ]
    },
    {
     "name": "stderr",
     "output_type": "stream",
     "text": [
      "Step    6 : Displace = \u001b[0m1.061e-02\u001b[0m/\u001b[0m1.714e-02\u001b[0m (rms/max) Trust = 2.000e-01 (\u001b[92m+\u001b[0m) Grad = \u001b[0m2.311e-03\u001b[0m/\u001b[0m3.716e-03\u001b[0m (rms/max) E (change) = -410.0733336892 (\u001b[0m-3.122e-04\u001b[0m) Quality = \u001b[0m1.280\u001b[0m\n",
      "Hessian Eigenvalues: 2.30000e-02 2.81592e-02 2.85714e-02 ... 1.03315e+00 1.11818e+00 1.12698e+00\n"
     ]
    },
    {
     "name": "stdout",
     "output_type": "stream",
     "text": [
      "\n",
      "Geometry optimization cycle 8\n",
      "Cartesian coordinates (Angstrom)\n",
      " Atom        New coordinates             dX        dY        dZ\n",
      "   N  -5.054281   1.746429   0.000000   -0.008947  0.000724  0.000000\n",
      "   N  -3.262372   1.798082   0.000000    0.007713  0.000859  0.000000\n",
      "   O  -2.836654   2.912031   0.000000    0.011420  0.000268  0.000000\n",
      "   O  -2.769794   0.711950   0.000000    0.004781  0.000986 -0.000000\n",
      "   O  -5.541242   2.835123   0.000000   -0.010436 -0.001938  0.000000\n",
      "   O  -5.484024   0.633922  -0.000000   -0.004749 -0.001243 -0.000000\n",
      "\n",
      "WARN: Large deviations found between the input molecule and the molecule from chkfile\n",
      "Initial guess density matrix may have large error.\n",
      "\n",
      "converged SCF energy = -410.073412820186\n",
      "--------------- SCF_Scanner gradients ---------------\n",
      "         x                y                z\n",
      "0 N    -0.0005698628    -0.0002835625    -0.0000000000\n",
      "1 N     0.0002909269     0.0001090060     0.0000000000\n",
      "2 O    -0.0006551036    -0.0003656279    -0.0000000000\n",
      "3 O    -0.0005671463     0.0003991838    -0.0000000000\n",
      "4 O     0.0009486032     0.0000226040     0.0000000000\n",
      "5 O     0.0005530098     0.0001192086     0.0000000000\n",
      "----------------------------------------------\n",
      "cycle 8: E = -410.07341282  dE = -7.9131e-05  norm(grad) = 0.0016631\n"
     ]
    },
    {
     "name": "stderr",
     "output_type": "stream",
     "text": [
      "Step    7 : Displace = \u001b[0m8.475e-03\u001b[0m/\u001b[0m1.174e-02\u001b[0m (rms/max) Trust = 2.828e-01 (\u001b[92m+\u001b[0m) Grad = \u001b[0m6.790e-04\u001b[0m/\u001b[0m9.489e-04\u001b[0m (rms/max) E (change) = -410.0734128202 (\u001b[0m-7.913e-05\u001b[0m) Quality = \u001b[0m1.214\u001b[0m\n",
      "Hessian Eigenvalues: 2.30000e-02 2.81592e-02 2.85714e-02 ... 1.02597e+00 1.09176e+00 1.14342e+00\n"
     ]
    },
    {
     "name": "stdout",
     "output_type": "stream",
     "text": [
      "\n",
      "Geometry optimization cycle 9\n",
      "Cartesian coordinates (Angstrom)\n",
      " Atom        New coordinates             dX        dY        dZ\n",
      "   N  -5.056550   1.746948   0.000000   -0.002268  0.000519  0.000000\n",
      "   N  -3.259899   1.798396  -0.000000    0.002473  0.000314 -0.000000\n",
      "   O  -2.832148   2.912037   0.000000    0.004506  0.000006  0.000000\n",
      "   O  -2.767562   0.712079   0.000000    0.002232  0.000129  0.000000\n",
      "   O  -5.546708   2.834150   0.000000   -0.005467 -0.000973  0.000000\n",
      "   O  -5.485564   0.633772  -0.000000   -0.001540 -0.000150  0.000000\n",
      "converged SCF energy = -410.073421899349\n",
      "--------------- SCF_Scanner gradients ---------------\n",
      "         x                y                z\n",
      "0 N    -0.0003193362     0.0003829812     0.0000000000\n",
      "1 N     0.0001083338    -0.0003459249    -0.0000000000\n",
      "2 O    -0.0000553443     0.0001225090     0.0000000000\n",
      "3 O    -0.0001520753     0.0002495187     0.0000000000\n",
      "4 O     0.0003633910    -0.0001946592    -0.0000000000\n",
      "5 O     0.0000551224    -0.0002141725    -0.0000000000\n",
      "----------------------------------------------\n",
      "cycle 9: E = -410.073421899  dE = -9.07916e-06  norm(grad) = 0.00083807\n"
     ]
    },
    {
     "name": "stderr",
     "output_type": "stream",
     "text": [
      "Step    8 : Displace = \u001b[0m3.406e-03\u001b[0m/\u001b[0m5.291e-03\u001b[0m (rms/max) Trust = 3.000e-01 (\u001b[92m+\u001b[0m) Grad = \u001b[0m3.421e-04\u001b[0m/\u001b[0m4.986e-04\u001b[0m (rms/max) E (change) = -410.0734218993 (\u001b[0m-9.079e-06\u001b[0m) Quality = \u001b[0m1.151\u001b[0m\n",
      "Hessian Eigenvalues: 2.30000e-02 2.81592e-02 2.85714e-02 ... 9.31784e-01 1.09172e+00 1.13489e+00\n"
     ]
    },
    {
     "name": "stdout",
     "output_type": "stream",
     "text": [
      "\n",
      "Geometry optimization cycle 10\n",
      "Cartesian coordinates (Angstrom)\n",
      " Atom        New coordinates             dX        dY        dZ\n",
      "   N  -5.056722   1.746929  -0.000000   -0.000172 -0.000019 -0.000000\n",
      "   N  -3.259481   1.798684   0.000000    0.000418  0.000288  0.000000\n",
      "   O  -2.831310   2.912096  -0.000000    0.000838  0.000059 -0.000000\n",
      "   O  -2.767245   0.712147  -0.000000    0.000316  0.000067 -0.000000\n",
      "   O  -5.548227   2.833725  -0.000000   -0.001518 -0.000426 -0.000000\n",
      "   O  -5.485456   0.633761  -0.000000    0.000108 -0.000011 -0.000000\n",
      "converged SCF energy = -410.073422480324\n",
      "--------------- SCF_Scanner gradients ---------------\n",
      "         x                y                z\n",
      "0 N    -0.0000900808     0.0001137531    -0.0000000000\n",
      "1 N     0.0000180862    -0.0000985676     0.0000000000\n",
      "2 O     0.0000080393     0.0000547314    -0.0000000000\n",
      "3 O    -0.0000040846     0.0000424076    -0.0000000000\n",
      "4 O     0.0000819967    -0.0000982980     0.0000000000\n",
      "5 O    -0.0000138809    -0.0000139069     0.0000000000\n",
      "----------------------------------------------\n",
      "cycle 10: E = -410.07342248  dE = -5.80976e-07  norm(grad) = 0.000229661\n"
     ]
    },
    {
     "name": "stderr",
     "output_type": "stream",
     "text": [
      "Step    9 : Displace = \u001b[92m7.373e-04\u001b[0m/\u001b[92m1.367e-03\u001b[0m (rms/max) Trust = 3.000e-01 (=) Grad = \u001b[92m9.376e-05\u001b[0m/\u001b[92m1.451e-04\u001b[0m (rms/max) E (change) = -410.0734224803 (\u001b[92m-5.810e-07\u001b[0m) Quality = \u001b[0m1.143\u001b[0m\n",
      "Converged! =D\n",
      "\n",
      "    #==========================================================================#\n",
      "    #| If this code has benefited your research, please support us by citing: |#\n",
      "    #|                                                                        |#\n",
      "    #| Wang, L.-P.; Song, C.C. (2016) \"Geometry optimization made simple with |#\n",
      "    #| translation and rotation coordinates\", J. Chem, Phys. 144, 214108.     |#\n",
      "    #| http://dx.doi.org/10.1063/1.4952956                                    |#\n",
      "    #==========================================================================#\n",
      "    \n",
      "Time elapsed since start of run_optimizer: 158.443 seconds\n"
     ]
    },
    {
     "name": "stdout",
     "output_type": "stream",
     "text": [
      "converged SCF energy = -410.073422479453\n"
     ]
    }
   ],
   "source": [
    "N2O4 = pyscf.gto.M(atom=\"\"\"\n",
    "   N       -4.84638        1.76109        0.00000\n",
    "   N       -3.46888        1.78415        0.00000\n",
    "   O       -2.82385        2.93169       -0.00000\n",
    "   O       -2.85055        0.76276        0.00000\n",
    "   O       -5.46471        2.78248        0.00000\n",
    "   O       -5.49141        0.61355        0.00000\n",
    "\"\"\",basis=\"aug-cc-pVDZ\")\n",
    "N2O4.max_memory = 2000\n",
    "N2O4.build()\n",
    "\n",
    "rks = pyscf.dft.RKS(N2O4)\n",
    "rks.xc = \"B3LYP\"\n",
    "N2O4_eq = optimize(rks)\n",
    "\n",
    "rks = pyscf.dft.RKS(N2O4_eq)\n",
    "rks.xc = \"B3LYP\"\n",
    "n2o4 = rks.kernel()"
   ]
  },
  {
   "cell_type": "markdown",
   "metadata": {},
   "source": [
    "**Pregunta 4.** Calcule la energía de la molécula de $NO_2$ con DFT B3LYP y la base aug-cc-pvdz."
   ]
  },
  {
   "cell_type": "code",
   "execution_count": 45,
   "metadata": {
    "scrolled": true
   },
   "outputs": [
    {
     "name": "stderr",
     "output_type": "stream",
     "text": [
      "\n",
      "                                        \u001b[91m())))))))))))))))/\u001b[0m                     \n",
      "                                    \u001b[91m())))))))))))))))))))))))),\u001b[0m                \n",
      "                                \u001b[91m*)))))))))))))))))))))))))))))))))\u001b[0m             \n",
      "                        \u001b[94m#,\u001b[0m    \u001b[91m()))))))))/\u001b[0m                \u001b[91m.)))))))))),\u001b[0m          \n",
      "                      \u001b[94m#%%%%,\u001b[0m  \u001b[91m())))))\u001b[0m                        \u001b[91m.))))))))*\u001b[0m        \n",
      "                      \u001b[94m*%%%%%%,\u001b[0m  \u001b[91m))\u001b[0m              \u001b[93m..\u001b[0m              \u001b[91m,))))))).\u001b[0m      \n",
      "                        \u001b[94m*%%%%%%,\u001b[0m         \u001b[93m***************/.\u001b[0m        \u001b[91m.)))))))\u001b[0m     \n",
      "                \u001b[94m#%%/\u001b[0m      \u001b[94m(%%%%%%,\u001b[0m    \u001b[93m/*********************.\u001b[0m       \u001b[91m)))))))\u001b[0m    \n",
      "              \u001b[94m.%%%%%%#\u001b[0m      \u001b[94m*%%%%%%,\u001b[0m  \u001b[93m*******/,\u001b[0m     \u001b[93m**********,\u001b[0m      \u001b[91m.))))))\u001b[0m   \n",
      "                \u001b[94m.%%%%%%/\u001b[0m      \u001b[94m*%%%%%%,\u001b[0m  \u001b[93m**\u001b[0m              \u001b[93m********\u001b[0m      \u001b[91m.))))))\u001b[0m  \n",
      "          \u001b[94m##\u001b[0m      \u001b[94m.%%%%%%/\u001b[0m      \u001b[94m(%%%%%%,\u001b[0m                  \u001b[93m,******\u001b[0m      \u001b[91m/)))))\u001b[0m  \n",
      "        \u001b[94m%%%%%%\u001b[0m      \u001b[94m.%%%%%%#\u001b[0m      \u001b[94m*%%%%%%,\u001b[0m    \u001b[92m,/////.\u001b[0m       \u001b[93m******\u001b[0m      \u001b[91m))))))\u001b[0m \n",
      "      \u001b[94m#%\u001b[0m      \u001b[94m%%\u001b[0m      \u001b[94m.%%%%%%/\u001b[0m      \u001b[94m*%%%%%%,\u001b[0m  \u001b[92m////////,\u001b[0m      \u001b[93m*****/\u001b[0m     \u001b[91m,)))))\u001b[0m \n",
      "    \u001b[94m#%%\u001b[0m  \u001b[94m%%%\u001b[0m  \u001b[94m%%%#\u001b[0m      \u001b[94m.%%%%%%/\u001b[0m      \u001b[94m(%%%%%%,\u001b[0m  \u001b[92m///////.\u001b[0m     \u001b[93m/*****\u001b[0m      \u001b[91m))))).\u001b[0m\n",
      "  \u001b[94m#%%%%.\u001b[0m      \u001b[94m%%%%%#\u001b[0m      \u001b[94m/%%%%%%*\u001b[0m      \u001b[94m#%%%%%%\u001b[0m   \u001b[92m/////)\u001b[0m     \u001b[93m******\u001b[0m      \u001b[91m))))),\u001b[0m\n",
      "    \u001b[94m#%%%%##%\u001b[0m  \u001b[94m%%%#\u001b[0m      \u001b[94m.%%%%%%/\u001b[0m      \u001b[94m(%%%%%%,\u001b[0m  \u001b[92m///////.\u001b[0m     \u001b[93m/*****\u001b[0m      \u001b[91m))))).\u001b[0m\n",
      "      \u001b[94m##\u001b[0m     \u001b[94m%%%\u001b[0m      \u001b[94m.%%%%%%/\u001b[0m      \u001b[94m*%%%%%%,\u001b[0m  \u001b[92m////////.\u001b[0m      \u001b[93m*****/\u001b[0m     \u001b[91m,)))))\u001b[0m \n",
      "        \u001b[94m#%%%%#\u001b[0m      \u001b[94m/%%%%%%/\u001b[0m      \u001b[94m(%%%%%%\u001b[0m      \u001b[92m/)/)//\u001b[0m       \u001b[93m******\u001b[0m      \u001b[91m))))))\u001b[0m \n",
      "          \u001b[94m##\u001b[0m      \u001b[94m.%%%%%%/\u001b[0m      \u001b[94m(%%%%%%,\u001b[0m                  \u001b[93m*******\u001b[0m      \u001b[91m))))))\u001b[0m  \n",
      "                \u001b[94m.%%%%%%/\u001b[0m      \u001b[94m*%%%%%%,\u001b[0m  \u001b[93m**.\u001b[0m             \u001b[93m/*******\u001b[0m      \u001b[91m.))))))\u001b[0m  \n",
      "              \u001b[94m*%%%%%%/\u001b[0m      \u001b[94m(%%%%%%\u001b[0m   \u001b[93m********/*..,*/*********\u001b[0m       \u001b[91m*))))))\u001b[0m   \n",
      "                \u001b[94m#%%/\u001b[0m      \u001b[94m(%%%%%%,\u001b[0m    \u001b[93m*********************/\u001b[0m        \u001b[91m)))))))\u001b[0m    \n",
      "                        \u001b[94m*%%%%%%,\u001b[0m         \u001b[93m,**************/\u001b[0m         \u001b[91m,))))))/\u001b[0m     \n",
      "                      \u001b[94m(%%%%%%\u001b[0m   \u001b[91m()\u001b[0m                              \u001b[91m))))))))\u001b[0m       \n",
      "                      \u001b[94m#%%%%,\u001b[0m  \u001b[91m())))))\u001b[0m                        \u001b[91m,)))))))),\u001b[0m        \n",
      "                        \u001b[94m#,\u001b[0m    \u001b[91m())))))))))\u001b[0m                \u001b[91m,)))))))))).\u001b[0m          \n",
      "                                 \u001b[91m()))))))))))))))))))))))))))))))/\u001b[0m             \n",
      "                                    \u001b[91m())))))))))))))))))))))))).\u001b[0m                \n",
      "                                         \u001b[91m())))))))))))))),\u001b[0m                     \n",
      "\n",
      "-=# \u001b[1;94m geomeTRIC started. Version: 0.9.7.2 \u001b[0m #=-\n",
      "geometric-optimize called with the following command line:\n",
      "/home/jfhlewyee/anaconda3/envs/jb/lib/python3.9/site-packages/ipykernel_launcher.py -f /home/jfhlewyee/.local/share/jupyter/runtime/kernel-358feb44-e974-44ce-bd45-badfebb58697.json\n",
      "9 internal coordinates being used (instead of 9 Cartesians)\n",
      "Internal coordinate system (atoms numbered from 1):\n",
      "Distance 1-2\n",
      "Distance 1-3\n",
      "Angle 2-1-3\n",
      "Translation-X 1-3\n",
      "Translation-Y 1-3\n",
      "Translation-Z 1-3\n",
      "Rotation-A 1-3\n",
      "Rotation-B 1-3\n",
      "Rotation-C 1-3\n",
      "<class 'geometric.internal.Distance'> : 2\n",
      "<class 'geometric.internal.Angle'> : 1\n",
      "<class 'geometric.internal.TranslationX'> : 1\n",
      "<class 'geometric.internal.TranslationY'> : 1\n",
      "<class 'geometric.internal.TranslationZ'> : 1\n",
      "<class 'geometric.internal.RotationA'> : 1\n",
      "<class 'geometric.internal.RotationB'> : 1\n",
      "<class 'geometric.internal.RotationC'> : 1\n"
     ]
    },
    {
     "name": "stdout",
     "output_type": "stream",
     "text": [
      "\n",
      "Geometry optimization cycle 1\n",
      "Cartesian coordinates (Angstrom)\n",
      " Atom        New coordinates             dX        dY        dZ\n",
      "   N  -4.395390   1.873800   0.000000    0.000000  0.000000  0.000000\n",
      "   O  -3.909780   3.095200   0.000000    0.000000  0.000000  0.000000\n",
      "   O  -3.655940   0.938100   0.000000    0.000000  0.000000  0.000000\n",
      "converged SCF energy = -205.006014544468  <S^2> = 0.7562289  2S+1 = 2.0062192\n",
      "--------------- SCF_Scanner gradients ---------------\n",
      "         x                y                z\n",
      "0 N    -0.0881936123    -0.0754352455    -0.0000000000\n",
      "1 O     0.0574496356     0.0565532836     0.0000000000\n",
      "2 O     0.0307665852     0.0188656586     0.0000000000\n",
      "----------------------------------------------\n",
      "cycle 1: E = -205.006014544  dE = -205.006  norm(grad) = 0.145842\n"
     ]
    },
    {
     "name": "stderr",
     "output_type": "stream",
     "text": [
      "Step    0 : Gradient = 8.420e-02/1.161e-01 (rms/max) Energy = -205.0060145445\n",
      "Hessian Eigenvalues: 5.00000e-02 5.00000e-02 5.00000e-02 ... 2.50000e-01 6.33488e-01 1.08625e+00\n"
     ]
    },
    {
     "name": "stdout",
     "output_type": "stream",
     "text": [
      "\n",
      "Geometry optimization cycle 2\n",
      "Cartesian coordinates (Angstrom)\n",
      " Atom        New coordinates             dX        dY        dZ\n",
      "   N  -4.270945   1.912939  -0.000000    0.124445  0.039139 -0.000000\n",
      "   O  -3.981123   3.131713  -0.000000   -0.071343  0.036513 -0.000000\n",
      "   O  -3.709759   0.862965   0.000000   -0.053819 -0.075135  0.000000\n",
      "\n",
      "WARN: Large deviations found between the input molecule and the molecule from chkfile\n",
      "Initial guess density matrix may have large error.\n",
      "\n",
      "converged SCF energy = -205.021763341302  <S^2> = 0.75400217  2S+1 = 2.0039982\n",
      "--------------- SCF_Scanner gradients ---------------\n",
      "         x                y                z\n",
      "0 N     0.0069751291    -0.0521527880     0.0000000000\n",
      "1 O     0.0021197446     0.0631181693    -0.0000000000\n",
      "2 O    -0.0091172316    -0.0109331571     0.0000000000\n",
      "----------------------------------------------\n",
      "cycle 2: E = -205.021763341  dE = -0.0157488  norm(grad) = 0.0834243\n"
     ]
    },
    {
     "name": "stderr",
     "output_type": "stream",
     "text": [
      "Step    1 : Displace = \u001b[0m1.033e-01\u001b[0m/\u001b[0m1.306e-01\u001b[0m (rms/max) Trust = 1.000e-01 (=) Grad = \u001b[0m4.817e-02\u001b[0m/\u001b[0m6.315e-02\u001b[0m (rms/max) E (change) = -205.0217633413 (\u001b[0m-1.575e-02\u001b[0m) Quality = \u001b[0m0.908\u001b[0m\n",
      "Hessian Eigenvalues: 5.00000e-02 5.00000e-02 5.00000e-02 ... 2.92045e-01 5.79152e-01 1.08609e+00\n"
     ]
    },
    {
     "name": "stdout",
     "output_type": "stream",
     "text": [
      "\n",
      "Geometry optimization cycle 3\n",
      "Cartesian coordinates (Angstrom)\n",
      " Atom        New coordinates             dX        dY        dZ\n",
      "   N  -4.278090   1.931793  -0.000000   -0.007144  0.018854 -0.000000\n",
      "   O  -3.978664   3.083135  -0.000000    0.002459 -0.048579  0.000000\n",
      "   O  -3.704580   0.891855  -0.000000    0.005179  0.028890 -0.000000\n",
      "\n",
      "WARN: Large deviations found between the input molecule and the molecule from chkfile\n",
      "Initial guess density matrix may have large error.\n",
      "\n",
      "converged SCF energy = -205.025756907829  <S^2> = 0.75346594  2S+1 = 2.0034629\n",
      "--------------- SCF_Scanner gradients ---------------\n",
      "         x                y                z\n",
      "0 N     0.0218837896     0.0003340375    -0.0000000000\n",
      "1 O    -0.0089979939    -0.0117271095    -0.0000000000\n",
      "2 O    -0.0129015226     0.0114230981    -0.0000000000\n",
      "----------------------------------------------\n",
      "cycle 3: E = -205.025756908  dE = -0.00399357  norm(grad) = 0.0315347\n"
     ]
    },
    {
     "name": "stderr",
     "output_type": "stream",
     "text": [
      "Step    2 : Displace = \u001b[0m3.476e-02\u001b[0m/\u001b[0m4.851e-02\u001b[0m (rms/max) Trust = 1.414e-01 (\u001b[92m+\u001b[0m) Grad = \u001b[0m1.821e-02\u001b[0m/\u001b[0m2.189e-02\u001b[0m (rms/max) E (change) = -205.0257569078 (\u001b[0m-3.994e-03\u001b[0m) Quality = \u001b[0m0.948\u001b[0m\n",
      "Hessian Eigenvalues: 4.99998e-02 5.00000e-02 5.00000e-02 ... 3.07639e-01 5.93325e-01 1.15858e+00\n"
     ]
    },
    {
     "name": "stdout",
     "output_type": "stream",
     "text": [
      "\n",
      "Geometry optimization cycle 4\n",
      "Cartesian coordinates (Angstrom)\n",
      " Atom        New coordinates             dX        dY        dZ\n",
      "   N  -4.296888   1.927100   0.000000   -0.018798 -0.004693  0.000000\n",
      "   O  -3.969206   3.083527  -0.000000    0.009458  0.000392  0.000000\n",
      "   O  -3.694818   0.895351   0.000000    0.009762  0.003496  0.000000\n",
      "\n",
      "WARN: Large deviations found between the input molecule and the molecule from chkfile\n",
      "Initial guess density matrix may have large error.\n",
      "\n",
      "converged SCF energy = -205.026273423135  <S^2> = 0.75367588  2S+1 = 2.0036725\n",
      "--------------- SCF_Scanner gradients ---------------\n",
      "         x                y                z\n",
      "0 N     0.0003911941    -0.0077167653    -0.0000000000\n",
      "1 O     0.0015912932     0.0029438537    -0.0000000000\n",
      "2 O    -0.0019870636     0.0047863876     0.0000000000\n",
      "----------------------------------------------\n",
      "cycle 4: E = -205.026273423  dE = -0.000516515  norm(grad) = 0.00988726\n"
     ]
    },
    {
     "name": "stderr",
     "output_type": "stream",
     "text": [
      "Step    3 : Displace = \u001b[0m1.380e-02\u001b[0m/\u001b[0m1.943e-02\u001b[0m (rms/max) Trust = 2.000e-01 (\u001b[92m+\u001b[0m) Grad = \u001b[0m5.708e-03\u001b[0m/\u001b[0m7.727e-03\u001b[0m (rms/max) E (change) = -205.0262734231 (\u001b[0m-5.165e-04\u001b[0m) Quality = \u001b[0m0.918\u001b[0m\n",
      "Hessian Eigenvalues: 4.99964e-02 5.00000e-02 5.00000e-02 ... 3.31269e-01 6.67267e-01 1.02679e+00\n"
     ]
    },
    {
     "name": "stdout",
     "output_type": "stream",
     "text": [
      "\n",
      "Geometry optimization cycle 5\n",
      "Cartesian coordinates (Angstrom)\n",
      " Atom        New coordinates             dX        dY        dZ\n",
      "   N  -4.295783   1.928810   0.000000    0.001104  0.001709  0.000000\n",
      "   O  -3.970885   3.083072   0.000000   -0.001679 -0.000455  0.000000\n",
      "   O  -3.694073   0.893629   0.000000    0.000746 -0.001722  0.000000\n",
      "converged SCF energy = -205.026304393285  <S^2> = 0.75366781  2S+1 = 2.0036645\n",
      "--------------- SCF_Scanner gradients ---------------\n",
      "         x                y                z\n",
      "0 N     0.0004836401    -0.0018083731     0.0000000000\n",
      "1 O     0.0002554377     0.0002652979     0.0000000000\n",
      "2 O    -0.0007445410     0.0015581567    -0.0000000000\n",
      "----------------------------------------------\n",
      "cycle 5: E = -205.026304393  dE = -3.09701e-05  norm(grad) = 0.00257331\n"
     ]
    },
    {
     "name": "stderr",
     "output_type": "stream",
     "text": [
      "Step    4 : Displace = \u001b[0m1.781e-03\u001b[0m/\u001b[0m2.305e-03\u001b[0m (rms/max) Trust = 2.828e-01 (\u001b[92m+\u001b[0m) Grad = \u001b[0m1.486e-03\u001b[0m/\u001b[0m1.872e-03\u001b[0m (rms/max) E (change) = -205.0263043933 (\u001b[0m-3.097e-05\u001b[0m) Quality = \u001b[0m1.237\u001b[0m\n",
      "Hessian Eigenvalues: 4.98619e-02 4.99999e-02 5.00000e-02 ... 3.29382e-01 5.87414e-01 8.94671e-01\n"
     ]
    },
    {
     "name": "stdout",
     "output_type": "stream",
     "text": [
      "\n",
      "Geometry optimization cycle 6\n",
      "Cartesian coordinates (Angstrom)\n",
      " Atom        New coordinates             dX        dY        dZ\n",
      "   N  -4.295521   1.928972   0.000000    0.000262  0.000162  0.000000\n",
      "   O  -3.971952   3.083077  -0.000000   -0.001067  0.000005 -0.000000\n",
      "   O  -3.693028   0.892806   0.000000    0.001045 -0.000823  0.000000\n",
      "converged SCF energy = -205.026306742757  <S^2> = 0.75367134  2S+1 = 2.003668\n",
      "--------------- SCF_Scanner gradients ---------------\n",
      "         x                y                z\n",
      "0 N     0.0000626309    -0.0000075419     0.0000000000\n",
      "1 O    -0.0000069993    -0.0000027042     0.0000000000\n",
      "2 O    -0.0000613964     0.0000254769    -0.0000000000\n",
      "----------------------------------------------\n",
      "cycle 6: E = -205.026306743  dE = -2.34947e-06  norm(grad) = 9.19478e-05\n"
     ]
    },
    {
     "name": "stderr",
     "output_type": "stream",
     "text": [
      "Step    5 : Displace = \u001b[92m6.432e-04\u001b[0m/\u001b[92m8.435e-04\u001b[0m (rms/max) Trust = 3.000e-01 (\u001b[92m+\u001b[0m) Grad = \u001b[92m5.309e-05\u001b[0m/\u001b[92m6.647e-05\u001b[0m (rms/max) E (change) = -205.0263067428 (\u001b[0m-2.349e-06\u001b[0m) Quality = \u001b[0m0.995\u001b[0m\n",
      "Hessian Eigenvalues: 4.82586e-02 4.99999e-02 5.00000e-02 ... 3.34391e-01 5.90599e-01 8.82982e-01\n"
     ]
    },
    {
     "name": "stdout",
     "output_type": "stream",
     "text": [
      "\n",
      "Geometry optimization cycle 7\n",
      "Cartesian coordinates (Angstrom)\n",
      " Atom        New coordinates             dX        dY        dZ\n",
      "   N  -4.295497   1.928634   0.000000    0.000024 -0.000338 -0.000000\n",
      "   O  -3.972514   3.082897  -0.000000   -0.000563 -0.000180 -0.000000\n",
      "   O  -3.692297   0.892815   0.000000    0.000731  0.000009  0.000000\n",
      "converged SCF energy = -205.026306739807  <S^2> = 0.75367199  2S+1 = 2.0036686\n",
      "--------------- SCF_Scanner gradients ---------------\n",
      "         x                y                z\n",
      "0 N    -0.0000082739     0.0000469876    -0.0000000000\n",
      "1 O     0.0000127177    -0.0000149521    -0.0000000000\n",
      "2 O    -0.0000102613    -0.0000171665    -0.0000000000\n",
      "----------------------------------------------\n",
      "cycle 7: E = -205.02630674  dE = 2.94915e-09  norm(grad) = 5.53316e-05\n"
     ]
    },
    {
     "name": "stderr",
     "output_type": "stream",
     "text": [
      "Step    6 : Displace = \u001b[92m4.673e-05\u001b[0m/\u001b[92m6.445e-05\u001b[0m (rms/max) Trust = 3.000e-01 (=) Grad = \u001b[92m3.195e-05\u001b[0m/\u001b[92m4.771e-05\u001b[0m (rms/max) E (change) = -205.0263067398 (\u001b[91m+2.949e-09\u001b[0m) Quality = \u001b[91m-0.086\u001b[0m\n",
      "Converged! =D\n",
      "\n",
      "    #==========================================================================#\n",
      "    #| If this code has benefited your research, please support us by citing: |#\n",
      "    #|                                                                        |#\n",
      "    #| Wang, L.-P.; Song, C.C. (2016) \"Geometry optimization made simple with |#\n",
      "    #| translation and rotation coordinates\", J. Chem, Phys. 144, 214108.     |#\n",
      "    #| http://dx.doi.org/10.1063/1.4952956                                    |#\n",
      "    #==========================================================================#\n",
      "    \n",
      "Time elapsed since start of run_optimizer: 31.677 seconds\n"
     ]
    },
    {
     "name": "stdout",
     "output_type": "stream",
     "text": [
      "converged SCF energy = -205.026306740328  <S^2> = 0.75367198  2S+1 = 2.0036686\n"
     ]
    }
   ],
   "source": [
    "NO2 = pyscf.gto.M(atom=\"\"\"\n",
    "   N       -4.39539        1.87380        0.00000\n",
    "   O       -3.90978        3.09520       -0.00000\n",
    "   O       -3.65594        0.93810        0.00000\n",
    "\"\"\",spin=1,basis=\"aug-cc-pVDZ\")\n",
    "NO2.max_memory = 2000\n",
    "NO2.build()\n",
    "\n",
    "uks = pyscf.dft.UKS(NO2)\n",
    "uks.xc = \"B3LYP\"\n",
    "NO2_eq = optimize(uks)\n",
    "\n",
    "uks = pyscf.dft.UKS(NO2_eq)\n",
    "uks.xc = \"B3LYP\"\n",
    "no2 = uks.kernel()"
   ]
  },
  {
   "cell_type": "markdown",
   "metadata": {},
   "source": [
    "**Pregunta b.** Calcule el $\\Delta U$ de la reacción $N_2O_4 <=> 2NO_2$ según DFT B3LYP."
   ]
  },
  {
   "cell_type": "code",
   "execution_count": 47,
   "metadata": {
    "scrolled": true
   },
   "outputs": [
    {
     "data": {
      "text/plain": [
       "54.634026341993206"
      ]
     },
     "execution_count": 47,
     "metadata": {},
     "output_type": "execute_result"
    }
   ],
   "source": [
    "(2*no2-n2o4)*2625.5"
   ]
  },
  {
   "cell_type": "markdown",
   "metadata": {},
   "source": [
    "## Referencias"
   ]
  },
  {
   "cell_type": "markdown",
   "metadata": {},
   "source": [
    "- Parrish, R. M.; Burns, L. A.; Smith, D. G. A.; Simmonett, A. C.; DePrince, A. E.; Hohenstein, E. G.; Bozkaya, U.; Sokolov, A. Y.; Di Remigio, R.; Richard, R. M.; et al. **Psi4 1.1: An Open-Source Electronic Structure Program Emphasizing Automation, Advanced Libraries, and Interoperability.** Journal of Chemical Theory and Computation 2017, 13 (7), 3185–3197.\n"
   ]
  }
 ],
 "metadata": {
  "celltoolbar": "Tags",
  "kernelspec": {
   "display_name": "Python 3 (ipykernel)",
   "language": "python",
   "name": "python3"
  },
  "language_info": {
   "codemirror_mode": {
    "name": "ipython",
    "version": 3
   },
   "file_extension": ".py",
   "mimetype": "text/x-python",
   "name": "python",
   "nbconvert_exporter": "python",
   "pygments_lexer": "ipython3",
   "version": "3.9.12"
  }
 },
 "nbformat": 4,
 "nbformat_minor": 2
}
