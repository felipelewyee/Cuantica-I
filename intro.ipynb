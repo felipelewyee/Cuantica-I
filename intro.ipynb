{
 "cells": [
  {
   "cell_type": "markdown",
   "metadata": {},
   "source": [
    "# La Química Cuántica a tu alcance"
   ]
  },
  {
   "cell_type": "markdown",
   "metadata": {},
   "source": [
    "El presente libro digital tiene como objetivo ser un manual de prácticas para la asignatura de [`Química Cuántica I (clave 1404)`](https://quimica.unam.mx/wp-content/uploads/2022/02/1404-Quimica-Cuantica-I-Q.pdf) y auxiliar en [`Química Cuántica II (clave 0038)`](https://quimica.unam.mx/wp-content/uploads/2022/02/0038-Quimica-Cuantica-II-Q.pdf) de la Facultad de Química (UNAM). El libro digital es un esfuerzo compartido de Juan Felipe Huan Lew Yee, José Eduardo Barrios Vargas y Jorge Martín del Campo Ramírez, en conjunto con los profesores del Departamento de Física y Química Teórica. Toda retroalimentación es bienvenida, y se le invita a compartirla a los correos:\n",
    "\n",
    "**M. en C. Juan Felipe Huan Lew Yee**: [felipe.lew.yee@quimica.unam.mx](mailto:felipe.lew.yee@quimica.unam.mx)\n",
    "\n",
    "**Dr. Jorge Martín del Campo Ramírez**: [jormacara@quimica.unam.mx](mailto:jormacara@quimica.unam.mx)\n",
    "\n",
    "**Dr. José Eduardo Barrios Vargas**: [jebarrios@quimica.unam.mx](mailto:jebarrios@quimica.unam.mx)\n",
    "\n",
    "## Uso del libro digital\n",
    "\n",
    "Se recomienda la lectura en el orden de los capítulos, el cual puede seguirse utilizando la barra de navegación que aparece del lado izquierdo en computadoras, o con el menú emergente en dispositivos móviles.\n",
    "\n",
    "Se ha buscado reducir lo más posible los antecedentes matemáticos requeridos, por lo que en la mayoría de los ejercicios se plantea el problema y se pasa directamente al análisis de la solución. Aunque se asume que las ecuaciones han sido previamente revisadas en clase, el desarrollo matemático correspondiente se encuentra en celdas ocultas como la siguiente:\n",
    "```{admonition} Inserto matemático: Celda con contenido matemático oculto\n",
    ":class: dropdown\n",
    "\n",
    "La lectura de este apartado matemático oculto es opcional si ya se conoce la deducción previa de las ecuaciones, pero aquí está por si alguien lo necesita. Aquí van algunas funciones trigonométricas\n",
    "\n",
    "$$\n",
    "y = \\sin(x)\n",
    "$$\n",
    "\n",
    "$$\n",
    "y = \\cos(x)\n",
    "$$\n",
    "\n",
    "$$\n",
    "y = \\tan(x) = \\frac{\\sin(x)}{\\cos(x)}\n",
    "$$\n",
    "```"
   ]
  },
  {
   "cell_type": "markdown",
   "metadata": {},
   "source": [
    "La primera vez que se presente una instrucción o un bloque de código se mostrará directamente para copiar y pegar en la celda, por ejemplo, el siguiente código muestra como realizar una impresión:\n",
    "````{admonition} Aprendizaje de código\n",
    ":class: important\n",
    "```\n",
    "print(\"Bienvenidos al manual de Química Cuántica I\")\n",
    "```\n",
    "````"
   ]
  },
  {
   "cell_type": "markdown",
   "metadata": {},
   "source": [
    "A lo largo de los ejercicios encontrará celdas vacías con una nota para indicar que debe ser llenada siguiendo alguna instrucción, **como la siguiente**:"
   ]
  },
  {
   "cell_type": "code",
   "execution_count": 1,
   "metadata": {},
   "outputs": [],
   "source": [
    "# Llene la siguiente celda con su código"
   ]
  },
  {
   "cell_type": "markdown",
   "metadata": {},
   "source": [
    "La respuesta se encuentra oculta para permitir que se resuelva el ejercicio en la celda vacía por cuenta propia. Para revelar la respuesta hay que presionar botones como el siguiente:"
   ]
  },
  {
   "cell_type": "code",
   "execution_count": 2,
   "metadata": {
    "tags": [
     "hide-cell"
    ]
   },
   "outputs": [
    {
     "name": "stdout",
     "output_type": "stream",
     "text": [
      "Bienvenidos al manual de Química Cuántica I, esta es la respuesta oculta a una pregunta\n"
     ]
    }
   ],
   "source": [
    "print(\"Bienvenidos al manual de Química Cuántica I, esta es la respuesta oculta a una pregunta\")"
   ]
  },
  {
   "cell_type": "markdown",
   "metadata": {},
   "source": [
    "```{admonition} ¡Creemos en tí!\n",
    ":class: attention\n",
    "Realmente queremos resaltar lo importante que es intentar resolver los problemas antes de revelar la respuesta. Al inicio puede ser complicado, pero se obtiene una gran recompensa en `conocimiento` y `habilidad`, y se volverá más sencillo con cada ejercicio resuelto. Confiamos en su `creatividad`, y si fuera necesario, siempre podemos aprender de la respuesta oculta.\n",
    "```"
   ]
  },
  {
   "cell_type": "markdown",
   "metadata": {},
   "source": [
    "## Ejecución\n",
    "\n",
    "Este libro permite interactuar con el contenido. Seleccione la opción que le resulte más conveniente.\n",
    "\n",
    "```{admonition} En la misma página web\n",
    ":class: tip\n",
    ":class: dropdown\n",
    "Puede ejecutar los notebooks directamente en el libro haciendo clic sobre el botón de la nave, y luego sobre el botón de `Live Code`.\n",
    "\n",
    "![Live Code](images/live_code.png)\n",
    "```\n",
    "\n",
    "```{admonition} Google Colab\n",
    ":class: tip\n",
    ":class: dropdown\n",
    "\n",
    "Los notebooks pueden ejecutarse en línea desde `Google Colab` al presionar el ícono de la nave y dar clic sobre Colab, este ícono aparece en la parte superior de cada notebook. Los archivos generados en Google Colab se guardan automáticamente en su Google Drive.\n",
    "\n",
    "![Google Colab example button](images/google_colab.png)\n",
    "```\n",
    "\n",
    "Los ejercicios de este libro requieren un conocimiento básico de Python, mismo que puede adquirirse en el primer capítulo del libro."
   ]
  }
 ],
 "metadata": {
  "celltoolbar": "Tags",
  "kernelspec": {
   "display_name": "Python 3 (ipykernel)",
   "language": "python",
   "name": "python3"
  },
  "language_info": {
   "codemirror_mode": {
    "name": "ipython",
    "version": 3
   },
   "file_extension": ".py",
   "mimetype": "text/x-python",
   "name": "python",
   "nbconvert_exporter": "python",
   "pygments_lexer": "ipython3",
   "version": "3.9.12"
  }
 },
 "nbformat": 4,
 "nbformat_minor": 4
}
