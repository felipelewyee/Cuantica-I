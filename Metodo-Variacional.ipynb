{
 "cells": [
  {
   "cell_type": "markdown",
   "metadata": {},
   "source": [
    "# Método variacional"
   ]
  },
  {
   "cell_type": "markdown",
   "metadata": {},
   "source": [
    "````{admonition} Ver Antes\n",
    ":class: seealso\n",
    "\n",
    "Antes de resolver estos ejercicios, puede resultarle de utilidad revisar el Notebook de [](Algebra-Simbolica.ipynb).\n",
    "````"
   ]
  },
  {
   "cell_type": "markdown",
   "metadata": {},
   "source": [
    "````{admonition} Principio Variacional\n",
    ":class: Note\n",
    "\n",
    "Si se usa una función de prueba normalizada que satisfaga las condiciones de frontera del sistema, el valor esperado del Hamiltoniano es un límite superior a la energía, es decir,\n",
    "\n",
    "\\begin{eqnarray*}\n",
    "    E_{\\rm prueba} &=& \\int \\psi_{\\rm prueba}^* \\hat{H} \\psi_{\\rm prueba} d\\tau \\geq E_{\\rm exacta} \\>\\>.\n",
    "\\end{eqnarray*}\n",
    "\n",
    "Esto significa que se puede proponer una función de prueba que satisfaga las condiciones del sistema, y el valor esperado de la energía siempre estará por arriba del valor exacto, y sólo será igual si la función de prueba corresponde a la función de onda exacta del sistema.\n",
    "````"
   ]
  },
  {
   "cell_type": "markdown",
   "metadata": {},
   "source": [
    "## Átomo de hidrógeno"
   ]
  },
  {
   "cell_type": "markdown",
   "metadata": {},
   "source": [
    "La parte radial del Hamiltoniano del átomo de hidrógeno es\n",
    "\\begin{equation*}\n",
    "H = -\\frac{1}{2} \\left( \\frac{1}{r^2}\\frac{d}{dr}r^2\\frac{d}{dr} \\right)-\\frac{1}{r} \\>\\>.\n",
    "\\end{equation*}\n",
    "\n",
    "```{margin}\n",
    "El Hamiltoniano del átomo de hidrógeno contiene una parte radial y una parte angular, sin embargo, estas son separables y la energía sólo depende de la parte radial.\n",
    "```\n",
    "\n",
    "Considere la función de prueba con $\\alpha>0$\n",
    "\\begin{equation*}\n",
    "\\psi_{\\rm prueba} = \\left( \\frac{2\\alpha}{\\pi} \\right)^{3/4} e^{-\\alpha r^2}  \\>\\>,\n",
    "\\end{equation*}\n",
    "```{margin}\n",
    "Note que la función de prueba propuesta no es la eigenfunción del estado base.\n",
    "```\n",
    "\n",
    "calcule la energía correspondiente al átomo de hidrógeno usando la función de prueba,\n",
    "\\begin{eqnarray*}\n",
    "E_{\\rm prueba} &=& \\int_{0}^{\\phi=2\\pi} \\int_{0}^{\\theta=\\pi} \\int_{0}^{r=\\infty} r^2 \\sin \\theta \\left( \\psi_{\\rm prueba}^* \\hat{H} \\psi_{\\rm prueba} \\right) dr d\\theta d\\phi \\>\\>.\n",
    "\\end{eqnarray*}"
   ]
  },
  {
   "cell_type": "markdown",
   "metadata": {},
   "source": [
    "**Paso 0.** Importe sympy."
   ]
  },
  {
   "cell_type": "code",
   "execution_count": 1,
   "metadata": {},
   "outputs": [],
   "source": [
    "# Importe sympy"
   ]
  },
  {
   "cell_type": "code",
   "execution_count": 2,
   "metadata": {
    "tags": [
     "hide-input"
    ]
   },
   "outputs": [],
   "source": [
    "import sympy as sym"
   ]
  },
  {
   "cell_type": "markdown",
   "metadata": {},
   "source": [
    "**Paso 1.** Identifique las variables y declárelas como símbolos. En este caso: $r$ y $alpha$."
   ]
  },
  {
   "cell_type": "code",
   "execution_count": 3,
   "metadata": {},
   "outputs": [],
   "source": [
    "# Declare las variables r y alpha como símbolos"
   ]
  },
  {
   "cell_type": "code",
   "execution_count": 4,
   "metadata": {
    "tags": [
     "hide-cell"
    ]
   },
   "outputs": [],
   "source": [
    "r=sym.symbols(\"r\")\n",
    "alpha=sym.symbols(\"alpha\",positive=\"True\") #positive=True indica que alpha solo puede ser positivo."
   ]
  },
  {
   "cell_type": "markdown",
   "metadata": {},
   "source": [
    "**Paso 2.** Declare la función de prueba, $\\psi_{\\rm prueba}$, con las variables anteriores."
   ]
  },
  {
   "cell_type": "code",
   "execution_count": 5,
   "metadata": {},
   "outputs": [],
   "source": [
    "# Declare la función de prueba"
   ]
  },
  {
   "cell_type": "code",
   "execution_count": 6,
   "metadata": {
    "tags": [
     "hide-cell"
    ]
   },
   "outputs": [
    {
     "name": "stdout",
     "output_type": "stream",
     "text": [
      "               2\n",
      " 3/4  3/4  -α⋅r \n",
      "2   ⋅α   ⋅ℯ     \n",
      "────────────────\n",
      "       3/4      \n",
      "      π         \n"
     ]
    }
   ],
   "source": [
    "psi=(2*alpha/sym.pi)**(sym.S(3)/4)*sym.exp(-alpha*r**2)\n",
    "sym.pprint(psi)"
   ]
  },
  {
   "cell_type": "markdown",
   "metadata": {},
   "source": [
    "**Paso 3.** Opcional. Identifique si hay partes de la ecuación que pueda agrupar o distribuir con operaciones simples, como multiplicación y expréselas por separado.\n",
    "\n",
    "En este caso\n",
    "\\begin{eqnarray*}\n",
    "E_{\\rm prueba} &=& \\int_{0}^{\\phi=2\\pi} \\int_{0}^{\\theta=\\pi} \\int_{0}^{r=\\infty} r^2 \\sin \\theta \\bigg( \\psi_{\\rm prueba}^* \\hat{H} \\psi_{\\rm prueba} \\bigg) dr d\\theta d\\phi\\\\\n",
    "&=& \\int_{0}^{\\phi=2\\pi} \\int_{0}^{\\theta=\\pi} \\int_{0}^{r=\\infty} r^2 \\sin \\theta \\left\\{ \\psi_{\\rm prueba}^* \\left[ -\\frac{1}{2} \\left( \\frac{1}{r^2}\\frac{d}{dr}r^2\\frac{d}{dr} \\right)-\\frac{1}{r} \\right] \\psi_{\\rm prueba} \\right\\} dr d\\theta d\\phi\\\\\n",
    "&=& \\int_{0}^{\\theta=\\pi} \\sin \\theta d\\theta \\int_{0}^{\\phi=2\\pi} d\\phi \\int_{0}^{r=\\infty} r^2 \\left\\{ \\psi_{\\rm prueba}^* \\left[ -\\frac{1}{2} \\left( \\frac{1}{r^2}\\frac{d}{dr}r^2\\frac{d}{dr} \\right)-\\frac{1}{r} \\right] \\psi_{\\rm prueba} \\right\\} dr\\\\\n",
    "&=& 4\\pi \\int_{0}^{r=\\infty} r^2 \\left[ \\psi_{\\rm prueba}^* \\left( \\color{red}{ -\\frac{1}{2}  \\frac{1}{r^2}\\frac{d}{dr}r^2\\frac{d}{dr} \\psi_{\\rm prueba}} \\color{blue}{-\\frac{1 }{r}\\psi_{\\rm prueba}} \\right)  \\right] dr \\\\\n",
    "\\end{eqnarray*}\n",
    "\n",
    "Sugerimos que a la parte en $\\color{red}{rojo}$ le llamemos A, y a la parte en $\\color{blue}{azul}$ le llamemos B. Esto es opcional pero hará más fácil escribir la integral.\n",
    "\n",
    "```{margin}\n",
    "Recuerde que puede hacer derivadas con la función `sym.diff()`\n",
    "```"
   ]
  },
  {
   "cell_type": "code",
   "execution_count": 7,
   "metadata": {},
   "outputs": [],
   "source": [
    "# Declare A (rojo) y B (azul)"
   ]
  },
  {
   "cell_type": "code",
   "execution_count": 8,
   "metadata": {
    "tags": [
     "hide-cell"
    ]
   },
   "outputs": [],
   "source": [
    "# Primera parte (en rojo)\n",
    "d_psi=sym.diff(psi,r)\n",
    "dd_psi=sym.diff(r**2*d_psi,r)\n",
    "A=(-sym.S(1)/2)*(1/r**2)*dd_psi\n",
    "\n",
    "# Primera parte (en azul)\n",
    "B=-(1/r)*psi"
   ]
  },
  {
   "cell_type": "markdown",
   "metadata": {},
   "source": [
    "**Paso 4.** Exprese la función a integrar y resuelva la integral con `sp.integrate()`"
   ]
  },
  {
   "cell_type": "code",
   "execution_count": 9,
   "metadata": {},
   "outputs": [],
   "source": [
    "# Declare la función e integre para obtener la energía"
   ]
  },
  {
   "cell_type": "code",
   "execution_count": 10,
   "metadata": {
    "tags": [
     "hide-cell"
    ]
   },
   "outputs": [
    {
     "name": "stdout",
     "output_type": "stream",
     "text": [
      "  2⋅√2⋅√α   3⋅α\n",
      "- ─────── + ───\n",
      "     √π      2 \n"
     ]
    }
   ],
   "source": [
    "f=r**2*psi*(A+B)\n",
    "E=sym.integrate(4*sym.pi*f,(r,0,sym.oo))\n",
    "sym.pprint(E)"
   ]
  },
  {
   "cell_type": "code",
   "execution_count": 11,
   "metadata": {
    "tags": [
     "remove-cell"
    ]
   },
   "outputs": [],
   "source": [
    "from OptMultiple import MultipleChoice"
   ]
  },
  {
   "cell_type": "code",
   "execution_count": 12,
   "metadata": {
    "tags": [
     "remove-input"
    ]
   },
   "outputs": [
    {
     "data": {
      "text/html": [
       "<div class=\"note admonition\"><p class=\"admonition-title\">Pregunta</p><p><span class=\"math notranslate nohighlight\">¿Cómo difiere la energía obtenida con la función de prueba respecto a la energía exacta del átomo de hidrógeno?</span></p><form><input type=\"radio\" name=\"answer\" value=\"La energía de la función de prueba es mayor que la exacta.\"><span class=\"math notranslate nohighlight\">La energía de la función de prueba es mayor que la exacta.</span><br><input type=\"radio\" name=\"answer\" value=\"La energía de la función de prueba es igual a la exacta.\"><span class=\"math notranslate nohighlight\">La energía de la función de prueba es igual a la exacta.</span><br><input type=\"radio\" name=\"answer\" value=\"La energía de la función de prueba es menor que la exacta.\"><span class=\"math notranslate nohighlight\">La energía de la función de prueba es menor que la exacta.</span><br></form>\n",
       "<details class=\"toggle-details\">\n",
       "<summary class=\"toggle-details__summary\">\n",
       "<svg xmlns=\"http://www.w3.org/2000/svg\" class=\"tb-icon toggle-chevron-right\" width=\"44\" height=\"44\" viewBox=\"0 0 24 24\" stroke-width=\"1.5\" stroke=\"#000000\" fill=\"none\" stroke-linecap=\"round\" stroke-linejoin=\"round\">\n",
       "<path stroke=\"none\" d=\"M0 0h24v24H0z\" fill=\"none\"></path>\n",
       "<polyline points=\"9 6 15 12 9 18\"></polyline>\n",
       "</svg>\n",
       "<span class=\"toggle-details__summary-text\">Mostrar respuesta</span>\n",
       "</summary>\n",
       "<div class=\"cell_output docutils container\">\n",
       "<div><span class=\"math notranslate nohighlight\">La respuesta correcta es: <br><b>La energía de la función de prueba es mayor que la exacta.</b><br><span class=\"math notranslate nohighlight\">Dado que la función de prueba no es la exacta, por el principio variacional se cumple que \\( E_{\\mathrm{prueba}} > E_{\\mathrm{exacta}} \\).Note que para cualquier \\(\\alpha>0\\), la energía de prueba obtenida es más positiva que la energía exacta del átomo de hidrógeno de \\(-0.5\\) Hartree.</span></span></div>\n",
       "</div></details>\n",
       "</div)"
      ],
      "text/plain": [
       "<OptMultiple.MultipleChoice at 0x1507ef44b100>"
      ]
     },
     "execution_count": 12,
     "metadata": {},
     "output_type": "execute_result"
    }
   ],
   "source": [
    "question = \"¿Cómo difiere la energía obtenida con la función de prueba respecto a la energía exacta del átomo de hidrógeno?\"\n",
    "answers = [\n",
    "    \"La energía de la función de prueba es mayor que la exacta.\",\n",
    "    \"La energía de la función de prueba es igual a la exacta.\",\n",
    "    \"La energía de la función de prueba es menor que la exacta.\",\n",
    "]\n",
    "explanation = (\n",
    "    \"Dado que la función de prueba no es la exacta, por el principio variacional se cumple que \\( E_{\\mathrm{prueba}} > E_{\\mathrm{exacta}} \\).\" \n",
    "    \"Note que para cualquier \\(\\\\alpha>0\\), la energía de prueba obtenida es más positiva que la energía exacta del átomo de hidrógeno de \\(-0.5\\) Hartree.\"\n",
    ")\n",
    "MultipleChoice(\n",
    "    question, answers, correct_answer=0, explanation=explanation\n",
    ")"
   ]
  },
  {
   "cell_type": "markdown",
   "metadata": {},
   "source": [
    "```{admonition} Pregunta\n",
    ":class: note\n",
    "\n",
    "¿Cómo podría obtener el valor de $\\alpha$ que de la energía más cercana a la exacta para la función de prueba propuesta?\n",
    "\n",
    "**Idea.** Recuerde máximos y mínimos de Cálculo I.\n",
    "\n",
    "```"
   ]
  },
  {
   "cell_type": "markdown",
   "metadata": {},
   "source": [
    "## Referencias"
   ]
  },
  {
   "cell_type": "markdown",
   "metadata": {},
   "source": [
    "- F.L. Pilar, Elementary Quantum Chemistry (Dover ed., 2001).\n",
    "-  A. Szabo y N.S. Ostlund, Modern Quantum Chemistry: Introduction to Advanced Electronic Structure Theory (Dover ed., 1996)."
   ]
  }
 ],
 "metadata": {
  "celltoolbar": "Tags",
  "kernelspec": {
   "display_name": "Python 3 (ipykernel)",
   "language": "python",
   "name": "python3"
  },
  "language_info": {
   "codemirror_mode": {
    "name": "ipython",
    "version": 3
   },
   "file_extension": ".py",
   "mimetype": "text/x-python",
   "name": "python",
   "nbconvert_exporter": "python",
   "pygments_lexer": "ipython3",
   "version": "3.9.12"
  }
 },
 "nbformat": 4,
 "nbformat_minor": 2
}
