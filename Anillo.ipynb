{
 "cells": [
  {
   "cell_type": "markdown",
   "metadata": {
    "colab_type": "text",
    "id": "C4mRnLa0Whcu"
   },
   "source": [
    "# Partícula en el anillo"
   ]
  },
  {
   "cell_type": "markdown",
   "metadata": {
    "colab_type": "text",
    "id": "4xRjrOOoWhcv"
   },
   "source": [
    "Es el sistema de una partícula moviéndose en una trayectoria de radio constante tal que $x^2 + y^2 = r^2$.\n",
    "\n",
    "\n",
    "```{admonition} Inserto matemático: Hamiltoniano del sistema\n",
    ":class: dropdown\n",
    "El Hamiltoniano para una partícula en dos dimensiones, tanto en coordenadas cartesianas como en coordenadas polares es\n",
    "\n",
    "$$\n",
    "H = -\\frac{\\hbar^2}{2m} \\left( \\frac{\\partial^2}{\\partial x^2} + \\frac{\\partial^2}{\\partial y^2} \\right) = -\\frac{\\hbar^2}{2mr^2} \\left( \\frac{\\partial^2}{\\partial r^2} + \\frac{1}{r} \\frac{\\partial}{\\partial r} + \\frac{1}{r^2} \\frac{\\partial^2}{\\partial \\phi^2} \\right)\n",
    "$$\n",
    "\n",
    "Como r es constante en el anillo, entonces se eliminan las derivadas respecto a r, y el Hamiltoniano se vuelve más simple\n",
    "\n",
    "$$\n",
    "H = -\\frac{\\hbar^2}{2mr^2} \\frac{d^2}{d\\phi^2}\n",
    "$$\n",
    "\n",
    "Al sustituir el Hamiltoniano en la ecuación de Schrödinger, se obtiene\n",
    "$$\n",
    "-\\frac{\\hbar^2}{2mr^2} \\frac{d^2}{d\\phi^2} \\psi = E \\psi\n",
    "$$\n",
    "```\n",
    "\n",
    "La solución a la ecuación diferencial tiene la forma\n",
    "\n",
    "$$\n",
    "\\psi = Ae^{im_l\\phi} + Be^{-im_l\\phi}\n",
    "$$\n",
    "\n",
    "con $m_l = ( 2mr^2 E/\\hbar^2 )^{1/2}$. Despejando se obtiene que \n",
    "\n",
    "$$\n",
    "E = \\frac{\\hbar^2 m_l^2}{2mr^2}\n",
    "$$\n",
    "\n",
    "```{admonition} Inserto matemático: Condiciones a la frontera\n",
    ":class: dropdown\n",
    "\n",
    "Debido a que la función de onda debe ser contínua, y a que la partícula se mueve en un anillo, debe de cumplirse la condición cíclica $\\psi(\\phi) = \\psi(\\phi+2\\pi)$, es decir que al dar una vuelta, la función de onda debe terminar en el mismo punto donde comenzó. Sustituyendo la función de onda en la condición cíclica se obtiene\n",
    "\n",
    "$$\n",
    "Ae^{im_l\\phi} + Be^{-im_l\\phi} = Ae^{im_l\\phi}e^{im_l2\\pi} + Be^{-im_l\\phi}e^{-im_l2\\pi}\n",
    "$$\n",
    "\n",
    "Para que la igualdad anterior pueda cumplirse, $m_l$ debe ser un número entero, tal que se cumpla $e^{im_l2\\pi}=e^{-im_l2\\pi}=1$. Esto origina la cuantización $m_l = {0, \\pm 1, \\pm 2, \\cdots}$.\n",
    "```\n",
    "\n",
    "Tras aplicar las condiciones a la frontera, normalizar y con B=0,\n",
    "\n",
    "$$\n",
    "\\psi = \\left( \\frac{1}{2\\pi} \\right)^{1/2} e^{i m_l \\phi} = \\left( \\frac{1}{2\\pi} \\right)^{1/2} cos(m_l \\phi) + i \\left( \\frac{1}{2\\pi} \\right)^{1/2} sin(m_l \\phi)\n",
    "$$"
   ]
  },
  {
   "cell_type": "markdown",
   "metadata": {
    "colab_type": "text",
    "id": "EhguX53jWhcw"
   },
   "source": [
    "**Grafique la función de onda y su cuadrado para $m_l=1$**"
   ]
  },
  {
   "cell_type": "code",
   "execution_count": null,
   "metadata": {},
   "outputs": [],
   "source": [
    "# Gráfica"
   ]
  },
  {
   "cell_type": "code",
   "execution_count": null,
   "metadata": {
    "colab": {},
    "colab_type": "code",
    "id": "EnNBWgqFWhcy",
    "tags": [
     "hide-input"
    ]
   },
   "outputs": [],
   "source": [
    "# Grafica\n",
    "\n",
    "from mpl_toolkits.mplot3d import Axes3D\n",
    "import numpy as np\n",
    "import matplotlib.pyplot as plt\n",
    "\n",
    "#Numero cuantico\n",
    "ml=1\n",
    "\n",
    "#Coordenadas polares\n",
    "phi = np.linspace(0, 2 * np.pi, 100)\n",
    "r=1.0\n",
    "psi_r = np.sqrt(1/(2*np.pi))*np.cos(ml*phi)\n",
    "psi_i = np.sqrt(1/(2*np.pi))*np.sin(ml*phi)\n",
    "\n",
    "#Grafica de la funcion de onda\n",
    "fig = plt.figure()\n",
    "ax = fig.gca(projection='3d')\n",
    "x = r * np.sin(phi)\n",
    "y = r * np.cos(phi)\n",
    "ax.plot(x, y, 0, color='k') #Eje de la grafica\n",
    "ax.plot(x, y, psi_r, label='psi-R')\n",
    "ax.plot(x, y, psi_i, label='psi-I')\n",
    "ax.legend()\n",
    "plt.show()\n",
    "\n",
    "#Grafica del cuadrado de la funcion de onda\n",
    "fig = plt.figure()\n",
    "ax = fig.gca(projection='3d')\n",
    "x = r * np.sin(phi)\n",
    "y = r * np.cos(phi)\n",
    "ax.plot(x, y, 0, color='k') #Eje de la grafica\n",
    "ax.plot(x, y, ((psi_r+1J*psi_i)*(psi_r-1J*psi_i)).real, label='$psi^2$')\n",
    "ax.legend()\n",
    "plt.show()"
   ]
  },
  {
   "cell_type": "markdown",
   "metadata": {},
   "source": [
    "**Referencias**"
   ]
  },
  {
   "cell_type": "markdown",
   "metadata": {
    "colab_type": "text",
    "id": "8pVzHYyUWhc8"
   },
   "source": [
    "- Atkins, P. W.; Friedman, R. Molecular Quantum Mechanics, 4th ed.; Oxford University Press: New York, 2005.\n",
    "- Zettili, N. Quantum Mechanics: Concepts and Applications, 2nd ed.; Wiley: Chichester, U.K, 2009.\n",
    "- Levine, I. N. Quantum Chemistry, 5th ed.; Prentice Hall: Upper Saddle River, N.J, 2000.\n",
    "- McQuarrie, D. A.; Simon, J. D. Physical Chemistry: A Molecular Approach; University Science Books: Sausalito, Calif, 1997."
   ]
  }
 ],
 "metadata": {
  "celltoolbar": "Tags",
  "colab": {
   "name": "Ejercicio2.ipynb",
   "provenance": []
  },
  "kernelspec": {
   "display_name": "Python 3",
   "language": "python",
   "name": "python3"
  },
  "language_info": {
   "codemirror_mode": {
    "name": "ipython",
    "version": 3
   },
   "file_extension": ".py",
   "mimetype": "text/x-python",
   "name": "python",
   "nbconvert_exporter": "python",
   "pygments_lexer": "ipython3",
   "version": "3.7.9"
  }
 },
 "nbformat": 4,
 "nbformat_minor": 1
}
