{
 "cells": [
  {
   "cell_type": "markdown",
   "metadata": {},
   "source": [
    "# Software"
   ]
  },
  {
   "cell_type": "markdown",
   "metadata": {},
   "source": [
    "Los `software de estructura electrónica` se dedican a calcular diversas propiedades de las moléculas utilizando la teoría que se ve en `química cuántica`. En general, esto nos sirve para `predecir la reactividad química`, desde poder predecir si una reacción procederá o no, hasta cosas más avanzadas como cinéticas de reacción y pKas o potenciales redox. En este notebook estaremos usando el software `psi4`, sin embargo, existe una gran cantidad de software, desde los libres y gratuitos hasta los privados y de pago.\n",
    "\n",
    "```{note}\n",
    "Algunos programas de estructura electrónica son:\n",
    "- Gaussian (https://gaussian.com)\n",
    "- Psi4 (http://www.psicode.org)\n",
    "- PySCF (https://pyscf.org)\n",
    "- NWChem (http://www.nwchem-sw.org)\n",
    "- QChem (http://www.q-chem.com)\n",
    "- TeraChem (http://www.petachem.com)\n",
    "- deMon2k (http://www.demon-software.com)\n",
    "- Orca (https://orcaforum.cec.mpg.de)\n",
    "- Molcas (http://www.molcas.org)\n",
    "- ADF (https://www.scm.com)\n",
    "- GAMESS (http://www.msg.chem.iastate.edu/gamess)\n",
    "- Quantum Espresso (https://www.quantum-espresso.org)\n",
    "```"
   ]
  },
  {
   "cell_type": "markdown",
   "metadata": {},
   "source": [
    "## Aprendiendo a usar Psi4"
   ]
  },
  {
   "cell_type": "markdown",
   "metadata": {},
   "source": [
    "```{warning}\n",
    "Si está utilizando Google Colab o la ejecución en línea, debe de ejecutar al inicio el siguiente código\n",
    "~~~python\n",
    "!wget -c https://repo.continuum.io/miniconda/Miniconda3-latest-Linux-x86_64.sh\n",
    "!chmod +x Miniconda3-latest-Linux-x86_64.sh\n",
    "!bash ./Miniconda3-latest-Linux-x86_64.sh -b -f -p /usr/local\n",
    "!conda install -y psi4 python=3.7 -c psi4\n",
    "import sys\n",
    "sys.path.append(\"/usr/local/lib/python3.7/site-packages/\")\n",
    "~~~\n",
    "```"
   ]
  },
  {
   "cell_type": "markdown",
   "metadata": {},
   "source": [
    "Para usar Psi4, puede importarlo como si de una librería se tratase, es decir\n",
    "\n",
    "~~~python\n",
    "import psi4\n",
    "~~~\n",
    "**Importe psi4 en la siguiente celda**"
   ]
  },
  {
   "cell_type": "code",
   "execution_count": 1,
   "metadata": {},
   "outputs": [],
   "source": [
    "# importe psi4"
   ]
  },
  {
   "cell_type": "code",
   "execution_count": 2,
   "metadata": {
    "tags": [
     "hide-cell"
    ]
   },
   "outputs": [],
   "source": [
    "# Descomentar estas líneas si está en modo online\n",
    "\n",
    "#!wget -c https://repo.continuum.io/miniconda/Miniconda3-latest-Linux-x86_64.sh\n",
    "#!chmod +x Miniconda3-latest-Linux-x86_64.sh\n",
    "#!bash ./Miniconda3-latest-Linux-x86_64.sh -b -f -p /usr/local\n",
    "#!conda install -y psi4 python=3.7 -c psi4\n",
    "#import sys\n",
    "#sys.path.append(\"/usr/local/lib/python3.7/site-packages/\")\n",
    "\n",
    "import psi4"
   ]
  },
  {
   "cell_type": "markdown",
   "metadata": {},
   "source": [
    "En la mayoría de los software es común (pero no obligatorio) que antes de mandar el cálculo de una molécula se asigne una cantidad de memoria RAM, por ejemplo 2 gb. \n",
    "\n",
    "En psi4 esto se hace mediante la instrucción\n",
    "~~~python\n",
    "psi4.set_memory(\"2 gb\")\n",
    "~~~\n",
    "\n",
    "**Asigne memoria a su cálculo**"
   ]
  },
  {
   "cell_type": "code",
   "execution_count": 3,
   "metadata": {},
   "outputs": [],
   "source": [
    "# Establezca memoria"
   ]
  },
  {
   "cell_type": "code",
   "execution_count": 4,
   "metadata": {
    "tags": [
     "hide-cell"
    ]
   },
   "outputs": [
    {
     "data": {
      "text/plain": [
       "2000000000"
      ]
     },
     "execution_count": 4,
     "metadata": {},
     "output_type": "execute_result"
    }
   ],
   "source": [
    "# Establezca memoria\n",
    "psi4.set_memory(\"2 gb\")"
   ]
  },
  {
   "cell_type": "markdown",
   "metadata": {},
   "source": [
    "```{note}\n",
    "Los software usan la RAM asignada para guardar vectores y matrices como lo ha hecho en las prácticas anteriores. Si la memoria es suficiente, el programa guardará todo y el cálculo será más rápido, si no la hay, el cálculo será más lento. `A más memoria los cálculos tienden a ser igual o más rápidos`\n",
    "```\n",
    "\n",
    "```{warning}\n",
    "La cantidad de memoria que puede asignar al cálculo depende de la cantidad de RAM que tenga su computadora. Recomendamos asignar menos memoria del total disponible ya que la memoria se reparte con los demás programas de su computadora. \n",
    "```"
   ]
  },
  {
   "cell_type": "markdown",
   "metadata": {},
   "source": [
    "El siguiente paso es **declarar las coordenadas de los átomos que forman la molécula**. Para ello se pueden usar visualizadores como `Avogadro` o `IQmol`. También es posible obtener valores experimentales o calculados de https://cccbdb.nist.gov/ . En este caso utilizaremos los resultados experimentales de benceno.\n",
    "\n",
    "Use las siguientes líneas para declarar la geometría\n",
    "```{margin}\n",
    "En este caso el 0 y el 1 indican la `carga` y `multiplicidad`, posteriormente viene el `X`, `Y`, `Z` y las unidades en las que se expresan las coordenadas.\n",
    "```\n",
    "\n",
    "```\n",
    "benzene = psi4.geometry(\"\"\"\n",
    "0 1\n",
    "C 0.0000 1.3970 0.0000\n",
    "C 1.2098 0.6985 0.0000\n",
    "C 1.2098 -0.6985 0.0000\n",
    "C 0.0000 -1.3970 0.0000\n",
    "C -1.2098 -0.6985 0.0000\n",
    "C -1.2098 0.6985 0.0000\n",
    "H 0.0000 2.4810 0.0000\n",
    "H 2.1486 1.2405 0.0000\n",
    "H 2.1486 -1.2405 0.0000\n",
    "H 0.0000 -2.4810 0.0000\n",
    "H -2.1486 -1.2405 0.0000\n",
    "H -2.1486 1.2405 0.0000\n",
    "units angstrom\n",
    "\"\"\")\n",
    "```"
   ]
  },
  {
   "cell_type": "code",
   "execution_count": 5,
   "metadata": {},
   "outputs": [],
   "source": [
    "#Geometría"
   ]
  },
  {
   "cell_type": "code",
   "execution_count": 6,
   "metadata": {
    "tags": [
     "hide-cell"
    ]
   },
   "outputs": [],
   "source": [
    "benzene = psi4.geometry(\"\"\"\n",
    "0 1\n",
    "C 0.0000 1.3970 0.0000\n",
    "C 1.2098 0.6985 0.0000\n",
    "C 1.2098 -0.6985 0.0000\n",
    "C 0.0000 -1.3970 0.0000\n",
    "C -1.2098 -0.6985 0.0000\n",
    "C -1.2098 0.6985 0.0000\n",
    "H 0.0000 2.4810 0.0000\n",
    "H 2.1486 1.2405 0.0000\n",
    "H 2.1486 -1.2405 0.0000\n",
    "H 0.0000 -2.4810 0.0000\n",
    "H -2.1486 -1.2405 0.0000\n",
    "H -2.1486 1.2405 0.0000\n",
    "units angstrom\n",
    "\"\"\")"
   ]
  },
  {
   "cell_type": "markdown",
   "metadata": {},
   "source": [
    "Para realizar un cálculo de `energía` de una molécula `con la geometría` especificada arriba, es necesario especificar  un `método` y una `base` en la siguiente instrucción\n",
    "~~~python\n",
    "psi4.energy('método/base')\n",
    "~~~\n",
    "\n",
    "**Realice un cálculo con el método HF y la base 6-31G**"
   ]
  },
  {
   "cell_type": "code",
   "execution_count": 7,
   "metadata": {},
   "outputs": [],
   "source": [
    "# Benceno HF/6-31G"
   ]
  },
  {
   "cell_type": "code",
   "execution_count": 8,
   "metadata": {
    "tags": [
     "hide-cell"
    ]
   },
   "outputs": [
    {
     "data": {
      "text/plain": [
       "-230.62318235368576"
      ]
     },
     "execution_count": 8,
     "metadata": {},
     "output_type": "execute_result"
    }
   ],
   "source": [
    "# Benceno HF/6-31G\n",
    "psi4.energy('HF/6-31G')"
   ]
  },
  {
   "cell_type": "markdown",
   "metadata": {},
   "source": [
    "**Calcule la energía de benceno con MP2 y 6-31G**"
   ]
  },
  {
   "cell_type": "code",
   "execution_count": 9,
   "metadata": {},
   "outputs": [],
   "source": [
    "# Benceno MP2/6-31G"
   ]
  },
  {
   "cell_type": "code",
   "execution_count": 10,
   "metadata": {
    "tags": [
     "hide-cell"
    ]
   },
   "outputs": [
    {
     "data": {
      "text/plain": [
       "-231.1469747677921"
      ]
     },
     "execution_count": 10,
     "metadata": {},
     "output_type": "execute_result"
    }
   ],
   "source": [
    "# Benceno MP2/6-31G\n",
    "psi4.energy('MP2/6-31G')"
   ]
  },
  {
   "cell_type": "markdown",
   "metadata": {},
   "source": [
    "**Calcule la energía de benceno con el funcional M062X y la base 6-31G**"
   ]
  },
  {
   "cell_type": "code",
   "execution_count": 11,
   "metadata": {},
   "outputs": [],
   "source": [
    "# Benceno M062X/6-31G"
   ]
  },
  {
   "cell_type": "code",
   "execution_count": 12,
   "metadata": {
    "tags": [
     "hide-cell"
    ]
   },
   "outputs": [
    {
     "data": {
      "text/plain": [
       "-232.09147480648218"
      ]
     },
     "execution_count": 12,
     "metadata": {},
     "output_type": "execute_result"
    }
   ],
   "source": [
    "# Benceno M062X/6-31G\n",
    "psi4.energy('M062X/6-31G')"
   ]
  },
  {
   "cell_type": "markdown",
   "metadata": {},
   "source": [
    "Usualmente la geometría especificada no es necesariamente la geometría real. Es posible pedir al software que mueva los átomos hasta encontrar las coordenadas que representen un mínimo de energía con el método y base usados. Esto se llama `optimización de geometrías` y se hace con la línea\n",
    "\n",
    "```\n",
    "psi4.opt('método/base')\n",
    "```\n",
    "\n",
    "**Optimice la geometría de benceno con el método M062X y base 6-31G e imprima su energía**.\n",
    "\n",
    "```{warning}\n",
    "Este cálculo puede tardar entre 1 y 10 minutos dependiendo del procesador de cada computadora.\n",
    "```"
   ]
  },
  {
   "cell_type": "code",
   "execution_count": 13,
   "metadata": {
    "tags": [
     "hide-cell"
    ]
   },
   "outputs": [
    {
     "name": "stdout",
     "output_type": "stream",
     "text": [
      "Optimizer: Optimization complete!\n"
     ]
    },
    {
     "data": {
      "text/plain": [
       "-232.0914786670685"
      ]
     },
     "execution_count": 13,
     "metadata": {},
     "output_type": "execute_result"
    }
   ],
   "source": [
    "psi4.opt('M062X/6-31G')"
   ]
  },
  {
   "cell_type": "markdown",
   "metadata": {},
   "source": [
    "## Referencias"
   ]
  },
  {
   "cell_type": "markdown",
   "metadata": {},
   "source": [
    "- Smith, D. G. A.; Burns, L. A.; Sirianni, D. A.; Nascimento, D. R.; Kumar, A.; James, A. M.; Schriber, J. B.; Zhang, T.; Zhang, B.; Abbott, A. S.; et al. Psi4NumPy : An Interactive Quantum Chemistry Programming Environment for Reference Implementations and Rapid Development. Journal of Chemical Theory and Computation 2018, 14 (7), 3504–3511.\n",
    "- https://github.com/psi4/psi4numpy/tree/master/Tutorials"
   ]
  },
  {
   "cell_type": "code",
   "execution_count": null,
   "metadata": {},
   "outputs": [],
   "source": []
  }
 ],
 "metadata": {
  "celltoolbar": "Tags",
  "kernelspec": {
   "display_name": "Python 3 (ipykernel)",
   "language": "python",
   "name": "python3"
  },
  "language_info": {
   "codemirror_mode": {
    "name": "ipython",
    "version": 3
   },
   "file_extension": ".py",
   "mimetype": "text/x-python",
   "name": "python",
   "nbconvert_exporter": "python",
   "pygments_lexer": "ipython3",
   "version": "3.10.4"
  }
 },
 "nbformat": 4,
 "nbformat_minor": 2
}
