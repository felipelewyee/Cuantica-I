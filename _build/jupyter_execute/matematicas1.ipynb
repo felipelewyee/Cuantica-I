{
 "cells": [
  {
   "cell_type": "markdown",
   "metadata": {},
   "source": [
    "# Expansión en series"
   ]
  },
  {
   "cell_type": "markdown",
   "metadata": {},
   "source": [
    "## Serie de Taylor"
   ]
  },
  {
   "cell_type": "markdown",
   "metadata": {},
   "source": [
    "Sea una función f(x) continua e infinitamente diferenciable, esta puede expresarse en torno a $a$ mediante una serie de potencias\n",
    "\\begin{equation}\n",
    "f(x) = \\sum_{n=0}^\\infty c_n (x-a)^n\n",
    "\\end{equation}\n",
    "\n",
    "La m-ésima derivada de $f(x)$ es:\n",
    "\\begin{equation}\n",
    "f^{(m)}(x) = \\sum_{n=m}^\\infty c_n (m!)(x-a)^{n-m} = \\sum_{p=0}^\\infty c_{p+m} (m!)(x-a)^{p}\n",
    "\\end{equation}\n",
    "\n",
    "donde se ha hecho el cambio de índice $p=n-m$. Al evaluar en x=a se obtiene\n",
    "\\begin{equation}\n",
    "f^{(m)}(a) = \\sum_{p=0}^\\infty c_{p+m} (m!)(a-a)^{p} = c_p (m!)\n",
    "\\end{equation}\n",
    "\n",
    "El único término que sobrevive es el que tiene potencia cero, despejando $c_p$:\n",
    "\\begin{equation}\n",
    "c_m = \\frac{f^{(m)}(a)}{m!}\n",
    "\\end{equation}\n",
    "\n",
    "Sustituyendo en la serie\n",
    "\\begin{equation}\n",
    "f(x) = \\sum_{n=0}^\\infty \\frac{f^{(n)}(a)}{n!} (x-a)^n\n",
    "\\end{equation}"
   ]
  },
  {
   "cell_type": "markdown",
   "metadata": {},
   "source": [
    "**Haga la expansión en series de Taylor en torno a $x=0$ de $f(x)=e^{x}$ en el intervalo $x \\varepsilon [0,10]$ hasta potencias de grado 10.**"
   ]
  },
  {
   "cell_type": "code",
   "execution_count": 1,
   "metadata": {
    "execution": {
     "iopub.execute_input": "2020-09-05T15:26:10.954399Z",
     "iopub.status.busy": "2020-09-05T15:26:10.953383Z",
     "iopub.status.idle": "2020-09-05T15:26:11.494849Z",
     "shell.execute_reply": "2020-09-05T15:26:11.494287Z"
    }
   },
   "outputs": [
    {
     "data": {
      "image/png": "[encoded data removed]",
      "text/plain": [
       "<Figure size 432x288 with 1 Axes>"
      ]
     },
     "metadata": {
      "filenames": {
       "image/png": "/home/jfhlewyee/Cuantica-I/_build/jupyter_execute/matematicas1_4_0.png"
      },
      "needs_background": "light"
     },
     "output_type": "display_data"
    }
   ],
   "source": [
    "from scipy.misc import derivative\n",
    "from matplotlib import pyplot as plt\n",
    "import numpy as np\n",
    "\n",
    "def f(x):\n",
    "    return np.exp(x)\n",
    "\n",
    "a=0.0\n",
    "\n",
    "x=np.linspace(0,10,11)\n",
    "\n",
    "y=f(a)*(x-a)**0.0\n",
    "for n in range(1,11):\n",
    "    y=y+derivative(f,a,n=n,order=2*n+1)/np.math.factorial(n)*(x-a)**n\n",
    "    \n",
    "plt.scatter(x,y,color='r')\n",
    "plt.plot(x,f(x))\n",
    "plt.show()"
   ]
  },
  {
   "cell_type": "markdown",
   "metadata": {},
   "source": [
    "## Serie de Fourier"
   ]
  },
  {
   "cell_type": "markdown",
   "metadata": {},
   "source": [
    "Una funcion periodica se puede aproximar por\n",
    "\\begin{equation}\n",
    "f(x)=\\frac{a_0}{2} + \\sum_{n=1}^{\\infty} \\left[ a_n cos \\left( \\frac{2n\\pi}{T}x \\right) + b_n sin \\left( \\frac{2n\\pi}{T}x \\right) \\right]\n",
    "\\end{equation}\n",
    "\n",
    "donde\n",
    "\\begin{equation}\n",
    "a_0 = \\frac{2}{T} \\int\\limits_{-T/2}^{T/2} f(x) dx\n",
    "\\end{equation}\n",
    "\\begin{equation}\n",
    "a_n = \\frac{2}{T} \\int\\limits_{-T/2}^{T/2} f(x) cos \\left( \\frac{2n\\pi}{T}x \\right) dx\n",
    "\\end{equation}\n",
    "\\begin{equation}\n",
    "b_n = \\frac{2}{T} \\int\\limits_{-T/2}^{T/2} f(x) sin \\left( \\frac{2n\\pi}{T}x \\right) dx\n",
    "\\end{equation}\n"
   ]
  },
  {
   "cell_type": "markdown",
   "metadata": {},
   "source": [
    "**Haga la expansión en series de Fourier de la $f(x)=x$ en el intervalo $x \\varepsilon [-10,10]$ con $n=10$**"
   ]
  },
  {
   "cell_type": "code",
   "execution_count": 2,
   "metadata": {
    "execution": {
     "iopub.execute_input": "2020-09-05T15:26:11.501455Z",
     "iopub.status.busy": "2020-09-05T15:26:11.500917Z",
     "iopub.status.idle": "2020-09-05T15:26:11.652388Z",
     "shell.execute_reply": "2020-09-05T15:26:11.652825Z"
    }
   },
   "outputs": [
    {
     "data": {
      "image/png": "[encoded data removed]",
      "text/plain": [
       "<Figure size 432x288 with 1 Axes>"
      ]
     },
     "metadata": {
      "filenames": {
       "image/png": "/home/jfhlewyee/Cuantica-I/_build/jupyter_execute/matematicas1_8_0.png"
      },
      "needs_background": "light"
     },
     "output_type": "display_data"
    }
   ],
   "source": [
    "from scipy import integrate\n",
    "from matplotlib import pyplot as plt\n",
    "import numpy as np\n",
    "\n",
    "a=-10.0\n",
    "b=10.0\n",
    "\n",
    "T=b-a\n",
    "\n",
    "x=np.linspace(a,b,100)\n",
    "\n",
    "a_0 = 2.0/T*integrate.quad(lambda x: x,a,b)[0]\n",
    "y = a_0/2.0*x**0.0\n",
    "\n",
    "for n in range(1,11):\n",
    "    a_n = 2.0/T*integrate.quad(lambda x: x*np.cos(2*n*np.pi/T*x),a,b)[0]\n",
    "    b_n = 2.0/T*integrate.quad(lambda x: x*np.sin(2*n*np.pi/T*x),a,b)[0]\n",
    "    y=y+a_n*np.cos(2*n*np.pi/T*x)+b_n*np.sin(2*n*np.pi/T*x)\n",
    "    \n",
    "plt.plot(x,y,color='r')\n",
    "plt.plot(x,x)\n",
    "plt.show()"
   ]
  },
  {
   "cell_type": "markdown",
   "metadata": {},
   "source": [
    "**Haga la expansión en series de Fourier de la fución escalón en el intervalo $x \\varepsilon [-10,10]$ con $n=10$**\n",
    "\n",
    "\\begin{equation}\n",
    "f(x) = \\left\\{\n",
    "  \\begin{array}{ll}\n",
    "  0      & \\mathrm{si\\ } x < 0\\\\\n",
    "  1 & \\mathrm{si\\ } x>0 \\\\\n",
    "  \\end{array}\n",
    "  \\right.\n",
    "\\end{equation}\n"
   ]
  },
  {
   "cell_type": "code",
   "execution_count": 3,
   "metadata": {
    "execution": {
     "iopub.execute_input": "2020-09-05T15:26:11.731808Z",
     "iopub.status.busy": "2020-09-05T15:26:11.729737Z",
     "iopub.status.idle": "2020-09-05T15:26:11.841913Z",
     "shell.execute_reply": "2020-09-05T15:26:11.841477Z"
    }
   },
   "outputs": [
    {
     "data": {
      "image/png": "[encoded data removed]",
      "text/plain": [
       "<Figure size 432x288 with 1 Axes>"
      ]
     },
     "metadata": {
      "filenames": {
       "image/png": "/home/jfhlewyee/Cuantica-I/_build/jupyter_execute/matematicas1_10_0.png"
      },
      "needs_background": "light"
     },
     "output_type": "display_data"
    }
   ],
   "source": [
    "from scipy import integrate\n",
    "from matplotlib import pyplot as plt\n",
    "import numpy as np\n",
    "\n",
    "a=-10.0\n",
    "b=10.0\n",
    "\n",
    "T=b-a\n",
    "\n",
    "x=np.linspace(-10,10,100)\n",
    "\n",
    "a_0 = 2.0/T*integrate.quad(lambda x: np.piecewise(x,x>=0,[1,0]),a,b)[0]\n",
    "y = a_0/2.0*x**0.0\n",
    "\n",
    "for n in range(1,11):\n",
    "    a_n = 2.0/T*integrate.quad(lambda x: np.piecewise(x,x>=0,[1,0])*np.cos(2*n*np.pi/T*x),a,b)[0]\n",
    "    b_n = 2.0/T*integrate.quad(lambda x: np.piecewise(x,x>=0,[1,0])*np.sin(2*n*np.pi/T*x),a,b)[0]\n",
    "    y=y+a_n*np.cos(2*n*np.pi/T*x)+b_n*np.sin(2*n*np.pi/T*x)\n",
    "    \n",
    "plt.plot(x,y,color='r')\n",
    "plt.plot(x,np.piecewise(x,x>=0,[1,0]))\n",
    "plt.show()"
   ]
  },
  {
   "cell_type": "markdown",
   "metadata": {},
   "source": [
    "## Referencias"
   ]
  },
  {
   "cell_type": "markdown",
   "metadata": {},
   "source": [
    "- Gersting, J. L. Technical Calculus with Analytic Geometry, Dover ed.; Dover: New York, 1992.\n",
    "- Jackson, J. D. Mathematics for Quantum Mechanics: An Introductory Survey of Operators, Eigenvalues, and Linear Vector Spaces, Dover ed.; Dover books on mathematics; Dover: Mineola, N.Y, 2006.\n",
    "- Tolstov, G. P. Fourier Series, Nachdr.; Dover books on mathematics; Dover: New York, 2009."
   ]
  }
 ],
 "metadata": {
  "kernelspec": {
   "display_name": "Python 3",
   "language": "python",
   "name": "python3"
  },
  "language_info": {
   "codemirror_mode": {
    "name": "ipython",
    "version": 3
   },
   "file_extension": ".py",
   "mimetype": "text/x-python",
   "name": "python",
   "nbconvert_exporter": "python",
   "pygments_lexer": "ipython3",
   "version": "3.7.7"
  }
 },
 "nbformat": 4,
 "nbformat_minor": 2
}