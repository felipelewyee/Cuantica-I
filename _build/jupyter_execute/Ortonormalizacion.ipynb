{
 "cells": [
  {
   "cell_type": "markdown",
   "metadata": {},
   "source": [
    "# Normalización y Ortogonalidad"
   ]
  },
  {
   "cell_type": "markdown",
   "metadata": {},
   "source": [
    "## Normalización"
   ]
  },
  {
   "cell_type": "markdown",
   "metadata": {},
   "source": [
    "Frecuentemente se busca que la función de onda esté normalizada, es decir, que se cumpla la siguiente integral\n",
    "\n",
    "$$\n",
    "\\int \\psi_{normalizada} \\psi_{normalizada}* = \\int |\\psi_{normalizada}|^2 = 1\n",
    "$$\n",
    "\n",
    "Las funciones de onda no siempre están normalizadas, pero podemos realizar los siguientes pasos para construir una `función de onda normalizada`.\n",
    "\n",
    "```{tip}\n",
    "1 Integrar el cuadrado de la función de onda original en el dominio.\n",
    "\n",
    "$$\n",
    "N^2 = \\int_{x_1}^{x_2} \\psi_{original}^2 dr\n",
    "$$\n",
    "\n",
    "2 Obtener la norma de la función de onda.\n",
    "\n",
    "$$\n",
    "N = \\sqrt{N^2} = \\sqrt{\\int_{x_1}^{x_2} |\\psi_{original}|^2 dx}\n",
    "$$\n",
    "\n",
    "3 Multiplicar la función de onda original por el inverso de su norma.\n",
    "\n",
    "$$\n",
    "\\psi_{normalizada} = \\frac{1}{N} \\psi_{original}\n",
    "$$\n",
    "```\n",
    "\n",
    "```{margin}\n",
    "El inverso de la norma también recibe el nombre de constante de normalización, $C$, es decir, $C = \\frac{1}{N}$. En este caso, la función de onda normalizada se obtiene mediante $\\psi_{normalizada} = C \\psi_{original}$.\n",
    "```\n",
    "\n",
    "```{margin}\n",
    "Si $N=1$, la función de onda original ya está normalizada.\n",
    "```"
   ]
  },
  {
   "cell_type": "code",
   "execution_count": null,
   "metadata": {},
   "outputs": [],
   "source": []
  },
  {
   "cell_type": "code",
   "execution_count": null,
   "metadata": {},
   "outputs": [],
   "source": []
  },
  {
   "cell_type": "code",
   "execution_count": null,
   "metadata": {},
   "outputs": [],
   "source": []
  },
  {
   "cell_type": "code",
   "execution_count": null,
   "metadata": {},
   "outputs": [],
   "source": []
  },
  {
   "cell_type": "markdown",
   "metadata": {},
   "source": [
    "También podemos hacer integrales con Python. Por ejemplo, vamos a integrar $y=x^2$ en el dominio $-3 \\leq x \\leq3$. Para ello importaremos el subpaquete integrate de la librería scipy.\n",
    "~~~python\n",
    "from scipy import integrate\n",
    "~~~\n",
    "y luego realizaremos la integral con la función quad\n",
    "~~~python\n",
    "integrate.quad(lambda x: x**2,-3,3)\n",
    "~~~\n",
    "Aquí \"lambda\" indica las variables de la ecuación, seguido de la ecuación y los límites de la integral. **Pruebe a realizar la integral.**"
   ]
  },
  {
   "cell_type": "code",
   "execution_count": 1,
   "metadata": {},
   "outputs": [],
   "source": [
    "# Integre y = x**2 de -3 a 3"
   ]
  },
  {
   "cell_type": "code",
   "execution_count": 2,
   "metadata": {
    "tags": [
     "hide-cell"
    ]
   },
   "outputs": [
    {
     "data": {
      "text/plain": [
       "(18.0, 1.9984014443252818e-13)"
      ]
     },
     "execution_count": 2,
     "metadata": {},
     "output_type": "execute_result"
    }
   ],
   "source": [
    "import scipy.integrate as integrate\n",
    "integrate.quad(lambda x: x**2,-3,3)"
   ]
  },
  {
   "cell_type": "markdown",
   "metadata": {},
   "source": [
    "Considere la función de onda $\\psi = x$, con $x \\epsilon [-3,3]$, **proponga una función de onda normalizada y evalúe la integral con integrate.quad para comprobar que la norma es 1.**\n",
    "\n",
    "```{tip}\n",
    "Recuerde que para normalizar:\n",
    "1 Integre el cuadrado de la función de onda en el dominio.\n",
    "\n",
    "$$\n",
    "N^2 = \\int_{x_1}^{x_2} \\psi_original^2 dr\n",
    "$$\n",
    "\n",
    "2 Obtenga la norma.\n",
    "\n",
    "$$\n",
    "N = \\sqrt{N^2} = \\sqrt{\\int_{x_1}^{x_2} |\\psi_{original}|^2 dx}\n",
    "$$\n",
    "\n",
    "3 Multiplique la función de onda original por el inverso de su norma.\n",
    "\n",
    "$$\n",
    "\\psi_{normalizada} = \\frac{1}{N} \\psi_{original}\n",
    "$$\n",
    "```"
   ]
  },
  {
   "cell_type": "code",
   "execution_count": 3,
   "metadata": {},
   "outputs": [],
   "source": [
    "#Normalice función de onda"
   ]
  },
  {
   "cell_type": "code",
   "execution_count": 4,
   "metadata": {
    "tags": [
     "hide-cell"
    ]
   },
   "outputs": [
    {
     "name": "stdout",
     "output_type": "stream",
     "text": [
      "N**2 = 18.0\n"
     ]
    },
    {
     "ename": "NameError",
     "evalue": "name 'np' is not defined",
     "output_type": "error",
     "traceback": [
      "\u001b[0;31m---------------------------------------------------------------------------\u001b[0m",
      "\u001b[0;31mNameError\u001b[0m                                 Traceback (most recent call last)",
      "\u001b[0;32m<ipython-input-4-b2df9a5841ba>\u001b[0m in \u001b[0;36m<module>\u001b[0;34m\u001b[0m\n\u001b[1;32m      2\u001b[0m \u001b[0mprint\u001b[0m\u001b[0;34m(\u001b[0m\u001b[0;34m\"N**2 =\"\u001b[0m\u001b[0;34m,\u001b[0m\u001b[0mnorm2\u001b[0m\u001b[0;34m)\u001b[0m\u001b[0;34m\u001b[0m\u001b[0;34m\u001b[0m\u001b[0m\n\u001b[1;32m      3\u001b[0m \u001b[0;34m\u001b[0m\u001b[0m\n\u001b[0;32m----> 4\u001b[0;31m \u001b[0mnorm\u001b[0m \u001b[0;34m=\u001b[0m \u001b[0mnp\u001b[0m\u001b[0;34m.\u001b[0m\u001b[0msqrt\u001b[0m\u001b[0;34m(\u001b[0m\u001b[0mnorm2\u001b[0m\u001b[0;34m)\u001b[0m\u001b[0;34m\u001b[0m\u001b[0;34m\u001b[0m\u001b[0m\n\u001b[0m\u001b[1;32m      5\u001b[0m \u001b[0mprint\u001b[0m\u001b[0;34m(\u001b[0m\u001b[0;34m\"N =\"\u001b[0m\u001b[0;34m,\u001b[0m\u001b[0mnorm\u001b[0m\u001b[0;34m)\u001b[0m\u001b[0;34m\u001b[0m\u001b[0;34m\u001b[0m\u001b[0m\n\u001b[1;32m      6\u001b[0m \u001b[0;34m\u001b[0m\u001b[0m\n",
      "\u001b[0;31mNameError\u001b[0m: name 'np' is not defined"
     ]
    }
   ],
   "source": [
    "norm2 = integrate.quad(lambda x: x*x,-3,3)[0]\n",
    "print(\"N**2 =\",norm2)\n",
    "\n",
    "norm = np.sqrt(norm2)\n",
    "print(\"N =\",norm)\n",
    "\n",
    "integrate.quad(lambda x: (x/norm)*(x/norm),-3,3)"
   ]
  },
  {
   "cell_type": "markdown",
   "metadata": {},
   "source": [
    "**OPCIONAL**\n",
    "\n",
    "También es posible realizar integrales triples, el siguiente ejemplo solo es demostrativo, **simplemente copie y pegue para realizar la integral.**\n",
    "\n",
    "Sea la función de onda\n",
    "\n",
    "$$\n",
    "\\psi = e^{-(x^2+y^2+z^2)}=e^{-r^2}\n",
    "$$\n",
    "\n",
    "La integral de su cuadrado será\n",
    "\n",
    "$$\n",
    "N^2 = \\int \\psi^* \\psi d\\textbf{r} = \\int\\limits_{0}^\\infty \\int\\limits_{0}^{2\\pi} \\int\\limits_{0}^\\pi\\psi^* \\psi r^2 sin\\theta dr d\\phi d\\theta = \\int\\limits_{0}^{\\pi} sin \\theta d\\theta \\int\\limits_{0}^{2\\pi} d\\phi \\int\\limits_{0}^\\infty e^{-2r^2} r^2 dr = \\left(2\\pi\\right)\\left(2\\right)\\left(\\frac{1}{8}\\sqrt{\\frac{\\pi}{2}}\\right) = \\left(\\frac{\\pi}{2}\\right)^{3/2}\n",
    "$$\n",
    "\n",
    "El siguiente código evalúa la integral y la guarda en la variable \"norm2\".\n",
    "~~~python\n",
    "norm2 = integrate.tplquad(lambda theta,phi,r: r**2.0*np.sin(theta)*np.exp(-2.0*r**2.0), 0, np.inf, lambda r: 0, lambda theta: 2*np.pi,lambda r, theta: 0, lambda r, theta: np.pi)[0]\n",
    "~~~"
   ]
  },
  {
   "cell_type": "code",
   "execution_count": 25,
   "metadata": {},
   "outputs": [],
   "source": [
    "#Encuentre el cuadrado de la norma de la funión de onda"
   ]
  },
  {
   "cell_type": "code",
   "execution_count": 26,
   "metadata": {
    "tags": [
     "hide-cell"
    ]
   },
   "outputs": [
    {
     "name": "stdout",
     "output_type": "stream",
     "text": [
      "N**2 = 1.968701243215302\n"
     ]
    }
   ],
   "source": [
    "norm2 = integrate.tplquad(lambda theta,phi,r: r**2.0*np.sin(theta)*np.exp(-2.0*r**2.0), 0, np.inf, lambda r: 0, lambda theta: 2*np.pi,lambda r, theta: 0, lambda r, theta: np.pi)[0]\n",
    "\n",
    "print(\"N**2 =\",norm2)"
   ]
  },
  {
   "cell_type": "markdown",
   "metadata": {},
   "source": [
    "**Compruebe que numéricamente esto es $\\left(\\frac{\\pi}{2}\\right)^{3/2}$.**"
   ]
  },
  {
   "cell_type": "code",
   "execution_count": 27,
   "metadata": {},
   "outputs": [],
   "source": [
    "#Evalúe (pi/2)^(3/2)"
   ]
  },
  {
   "cell_type": "code",
   "execution_count": 28,
   "metadata": {
    "tags": [
     "hide-cell"
    ]
   },
   "outputs": [
    {
     "name": "stdout",
     "output_type": "stream",
     "text": [
      "1.9687012432153024\n"
     ]
    }
   ],
   "source": [
    "print((np.pi/2)**(3/2))"
   ]
  },
  {
   "cell_type": "markdown",
   "metadata": {},
   "source": [
    "Evalúe la norma"
   ]
  },
  {
   "cell_type": "code",
   "execution_count": 29,
   "metadata": {},
   "outputs": [],
   "source": [
    "# Constante de normalización"
   ]
  },
  {
   "cell_type": "code",
   "execution_count": 30,
   "metadata": {
    "tags": [
     "hide-cell"
    ]
   },
   "outputs": [
    {
     "name": "stdout",
     "output_type": "stream",
     "text": [
      "N = 1.403104145534216\n"
     ]
    }
   ],
   "source": [
    "norm = np.sqrt(norm2)\n",
    "print(\"N =\",norm)"
   ]
  },
  {
   "cell_type": "markdown",
   "metadata": {},
   "source": [
    "**OPCIONAL**\n",
    "\n",
    "Proponga una $\\psi$ normalizada, y compruebe que la integral de su cuadrado da 1. Recuerde la siguiente relación\n",
    "\n",
    "$$\n",
    "\\psi_{normalizada} = \\frac{1}{\\sqrt{N}} \\psi_{original}\n",
    "$$\n",
    "\n",
    "y que para este ejercicio\n",
    "\n",
    "$$\n",
    "\\psi_{original} = e^{-r}\n",
    "$$"
   ]
  },
  {
   "cell_type": "code",
   "execution_count": 31,
   "metadata": {},
   "outputs": [],
   "source": [
    "#Comprobación"
   ]
  },
  {
   "cell_type": "code",
   "execution_count": 32,
   "metadata": {
    "tags": [
     "hide-cell"
    ]
   },
   "outputs": [
    {
     "name": "stdout",
     "output_type": "stream",
     "text": [
      "(1.0, 5.07838216823191e-10)\n"
     ]
    }
   ],
   "source": [
    "norm = integrate.tplquad(lambda theta,phi,r: 1/norm**2*r**2.0*np.sin(theta)*np.exp(-2.0*r**2.0), 0, np.inf, lambda r: 0, lambda theta: 2*np.pi,lambda r, theta: 0, lambda r, theta: np.pi)\n",
    "print(norm)"
   ]
  },
  {
   "cell_type": "markdown",
   "metadata": {},
   "source": [
    "**OPCIONAL**\n",
    "\n",
    "**Repita el proceso de normalización para $\\psi=re^{-r^2}$.** La integral sin normalizar será\n",
    "\n",
    "$$\n",
    "\\int \\psi^* \\psi d\\textbf{r} = \\frac{3}{4}\\left(\\frac{\\pi}{2}\\right)^{3/2}\n",
    "$$"
   ]
  },
  {
   "cell_type": "code",
   "execution_count": 33,
   "metadata": {},
   "outputs": [],
   "source": [
    "#Normalice"
   ]
  },
  {
   "cell_type": "code",
   "execution_count": 34,
   "metadata": {
    "tags": [
     "hide-cell"
    ]
   },
   "outputs": [
    {
     "name": "stdout",
     "output_type": "stream",
     "text": [
      "N**2 = 1.4765259324114768\n",
      "N = 1.2151238341878892\n",
      "(1.0, 5.088497375982098e-09)\n"
     ]
    }
   ],
   "source": [
    "norm2=integrate.tplquad(lambda theta,phi,r: r**4.0*np.sin(theta)*np.exp(-2.0*r**2.0), 0, np.inf, lambda r: 0, lambda theta: 2*np.pi,lambda r, theta: 0, lambda r, theta: np.pi)[0]\n",
    "print(\"N**2 =\",norm2)\n",
    "\n",
    "norm = np.sqrt(norm2)\n",
    "print(\"N =\",norm)\n",
    "\n",
    "norm=integrate.tplquad(lambda theta,phi,r: 1/norm**2*r**4.0*np.sin(theta)*np.exp(-2.0*r**2.0), 0, np.inf, lambda r: 0, lambda theta: 2*np.pi,lambda r, theta: 0, lambda r, theta: np.pi)\n",
    "print(norm)"
   ]
  }
 ],
 "metadata": {
  "celltoolbar": "Tags",
  "kernelspec": {
   "display_name": "Python 3",
   "language": "python",
   "name": "python3"
  },
  "language_info": {
   "codemirror_mode": {
    "name": "ipython",
    "version": 3
   },
   "file_extension": ".py",
   "mimetype": "text/x-python",
   "name": "python",
   "nbconvert_exporter": "python",
   "pygments_lexer": "ipython3",
   "version": "3.7.9"
  }
 },
 "nbformat": 4,
 "nbformat_minor": 2
}