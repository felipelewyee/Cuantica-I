{
 "cells": [
  {
   "cell_type": "markdown",
   "metadata": {},
   "source": [
    "# Álgebra simbólica"
   ]
  },
  {
   "cell_type": "markdown",
   "metadata": {},
   "source": [
    "Sympy es una librería de algebra simbólica. Se importa así:"
   ]
  },
  {
   "cell_type": "code",
   "execution_count": 1,
   "metadata": {
    "execution": {
     "iopub.execute_input": "2020-09-05T06:32:18.739879Z",
     "iopub.status.busy": "2020-09-05T06:32:18.739021Z",
     "iopub.status.idle": "2020-09-05T06:32:19.039550Z",
     "shell.execute_reply": "2020-09-05T06:32:19.038967Z"
    }
   },
   "outputs": [],
   "source": [
    "import sympy as sym"
   ]
  },
  {
   "cell_type": "markdown",
   "metadata": {},
   "source": [
    "En vez de realizar operaciones de manera numérica, el álgebra simbólica guarda las operaciones como símbolos. Obtenga la siguiente operación:\n",
    "\\begin{equation}\n",
    "\\sqrt{11}\n",
    "\\end{equation}\n",
    "Usando python estándar\n",
    "~~~python\n",
    "import numpy as np\n",
    "a=np.sqrt(11)\n",
    "print(a)\n",
    "~~~\n",
    "y usando sympy\n",
    "~~~python\n",
    "import sympy as sym\n",
    "a=sympy.sqrt(11)\n",
    "print(a)\n",
    "~~~"
   ]
  },
  {
   "cell_type": "code",
   "execution_count": 2,
   "metadata": {
    "execution": {
     "iopub.execute_input": "2020-09-05T06:32:19.043798Z",
     "iopub.status.busy": "2020-09-05T06:32:19.042884Z",
     "iopub.status.idle": "2020-09-05T06:32:19.126378Z",
     "shell.execute_reply": "2020-09-05T06:32:19.125604Z"
    }
   },
   "outputs": [
    {
     "data": {
      "text/plain": [
       "3.3166247903554"
      ]
     },
     "execution_count": 2,
     "metadata": {},
     "output_type": "execute_result"
    }
   ],
   "source": [
    "import numpy as np\n",
    "a=np.sqrt(11)\n",
    "a"
   ]
  },
  {
   "cell_type": "code",
   "execution_count": 3,
   "metadata": {
    "execution": {
     "iopub.execute_input": "2020-09-05T06:32:19.132202Z",
     "iopub.status.busy": "2020-09-05T06:32:19.131433Z",
     "iopub.status.idle": "2020-09-05T06:32:19.134139Z",
     "shell.execute_reply": "2020-09-05T06:32:19.134746Z"
    }
   },
   "outputs": [
    {
     "data": {
      "text/latex": [
       "$\\displaystyle \\sqrt{11}$"
      ],
      "text/plain": [
       "sqrt(11)"
      ]
     },
     "execution_count": 3,
     "metadata": {},
     "output_type": "execute_result"
    }
   ],
   "source": [
    "import sympy as sym\n",
    "a=sym.sqrt(11)\n",
    "a"
   ]
  },
  {
   "cell_type": "markdown",
   "metadata": {},
   "source": [
    "Podemos mejorar la apariencia de una expresión si en vez de usar print utilizamos:\n",
    "~~~python\n",
    "sym.pprint(a)\n",
    "~~~\n",
    "o si simplemente poniendo la expresión."
   ]
  },
  {
   "cell_type": "code",
   "execution_count": 4,
   "metadata": {
    "execution": {
     "iopub.execute_input": "2020-09-05T06:32:19.138927Z",
     "iopub.status.busy": "2020-09-05T06:32:19.138173Z",
     "iopub.status.idle": "2020-09-05T06:32:19.141357Z",
     "shell.execute_reply": "2020-09-05T06:32:19.141964Z"
    }
   },
   "outputs": [
    {
     "name": "stdout",
     "output_type": "stream",
     "text": [
      "√11\n"
     ]
    }
   ],
   "source": [
    "sym.pprint(a)"
   ]
  },
  {
   "cell_type": "markdown",
   "metadata": {},
   "source": [
    "Podemos obtener el valor numérico con evalf(). Obtenga el valor numérico de $\\sqrt{11}$"
   ]
  },
  {
   "cell_type": "code",
   "execution_count": 5,
   "metadata": {
    "execution": {
     "iopub.execute_input": "2020-09-05T06:32:19.146438Z",
     "iopub.status.busy": "2020-09-05T06:32:19.145809Z",
     "iopub.status.idle": "2020-09-05T06:32:19.149016Z",
     "shell.execute_reply": "2020-09-05T06:32:19.148584Z"
    }
   },
   "outputs": [
    {
     "data": {
      "text/latex": [
       "$\\displaystyle 3.3166247903554$"
      ],
      "text/plain": [
       "3.31662479035540"
      ]
     },
     "execution_count": 5,
     "metadata": {},
     "output_type": "execute_result"
    }
   ],
   "source": [
    "a.evalf()"
   ]
  },
  {
   "cell_type": "markdown",
   "metadata": {},
   "source": [
    "Las variables comunes de álgebra son símbolos. Si quiero definir x:"
   ]
  },
  {
   "cell_type": "code",
   "execution_count": 6,
   "metadata": {
    "execution": {
     "iopub.execute_input": "2020-09-05T06:32:19.152464Z",
     "iopub.status.busy": "2020-09-05T06:32:19.151848Z",
     "iopub.status.idle": "2020-09-05T06:32:19.153786Z",
     "shell.execute_reply": "2020-09-05T06:32:19.154185Z"
    }
   },
   "outputs": [],
   "source": [
    "x=sym.symbols(\"x\")"
   ]
  },
  {
   "cell_type": "markdown",
   "metadata": {},
   "source": [
    "Imprimimos x para verificar."
   ]
  },
  {
   "cell_type": "code",
   "execution_count": 7,
   "metadata": {
    "execution": {
     "iopub.execute_input": "2020-09-05T06:32:19.157840Z",
     "iopub.status.busy": "2020-09-05T06:32:19.157302Z",
     "iopub.status.idle": "2020-09-05T06:32:19.160379Z",
     "shell.execute_reply": "2020-09-05T06:32:19.159955Z"
    }
   },
   "outputs": [
    {
     "data": {
      "text/latex": [
       "$\\displaystyle x$"
      ],
      "text/plain": [
       "x"
      ]
     },
     "execution_count": 7,
     "metadata": {},
     "output_type": "execute_result"
    }
   ],
   "source": [
    "x"
   ]
  },
  {
   "cell_type": "markdown",
   "metadata": {},
   "source": [
    "Una variable puede almacenar cosas distintas a su nombre. Pruebe con\n",
    "~~~python\n",
    "y=x+1\n",
    "~~~"
   ]
  },
  {
   "cell_type": "code",
   "execution_count": 8,
   "metadata": {
    "execution": {
     "iopub.execute_input": "2020-09-05T06:32:19.163895Z",
     "iopub.status.busy": "2020-09-05T06:32:19.163286Z",
     "iopub.status.idle": "2020-09-05T06:32:19.198703Z",
     "shell.execute_reply": "2020-09-05T06:32:19.199115Z"
    }
   },
   "outputs": [
    {
     "data": {
      "text/latex": [
       "$\\displaystyle x + 1$"
      ],
      "text/plain": [
       "x + 1"
      ]
     },
     "execution_count": 8,
     "metadata": {},
     "output_type": "execute_result"
    }
   ],
   "source": [
    "y=x+1\n",
    "y"
   ]
  },
  {
   "cell_type": "markdown",
   "metadata": {},
   "source": [
    "Es posible multiplicar expresiones y hacerles cualquier tipo de operación. Por ejemplo, haga el producto $xy$, guárdelo en una variable $z$ e imprima el resultado."
   ]
  },
  {
   "cell_type": "code",
   "execution_count": 9,
   "metadata": {
    "execution": {
     "iopub.execute_input": "2020-09-05T06:32:19.207845Z",
     "iopub.status.busy": "2020-09-05T06:32:19.206909Z",
     "iopub.status.idle": "2020-09-05T06:32:19.462569Z",
     "shell.execute_reply": "2020-09-05T06:32:19.463067Z"
    }
   },
   "outputs": [
    {
     "data": {
      "text/latex": [
       "$\\displaystyle x \\left(x + 1\\right)$"
      ],
      "text/plain": [
       "x*(x + 1)"
      ]
     },
     "execution_count": 9,
     "metadata": {},
     "output_type": "execute_result"
    }
   ],
   "source": [
    "z=y*x\n",
    "z"
   ]
  },
  {
   "cell_type": "markdown",
   "metadata": {},
   "source": [
    "Se puede obtener el resultado de desarrollar las operaciones con \n",
    "~~~python\n",
    "sym.expand(expresión)\n",
    "~~~\n",
    "Desarrolle la operación contenida en z, guárdelo en una variable c e imprimala."
   ]
  },
  {
   "cell_type": "code",
   "execution_count": 10,
   "metadata": {
    "execution": {
     "iopub.execute_input": "2020-09-05T06:32:19.467660Z",
     "iopub.status.busy": "2020-09-05T06:32:19.467128Z",
     "iopub.status.idle": "2020-09-05T06:32:19.469819Z",
     "shell.execute_reply": "2020-09-05T06:32:19.469391Z"
    }
   },
   "outputs": [
    {
     "name": "stdout",
     "output_type": "stream",
     "text": [
      " 2    \n",
      "x  + x\n"
     ]
    }
   ],
   "source": [
    "c=sym.expand(z)\n",
    "sym.pprint(c)"
   ]
  },
  {
   "cell_type": "markdown",
   "metadata": {},
   "source": [
    "Podemos obtener expresiones en su forma factorizada con sp.simplify(). Pruebe con la variable c.\n"
   ]
  },
  {
   "cell_type": "code",
   "execution_count": 11,
   "metadata": {
    "execution": {
     "iopub.execute_input": "2020-09-05T06:32:19.487087Z",
     "iopub.status.busy": "2020-09-05T06:32:19.486402Z",
     "iopub.status.idle": "2020-09-05T06:32:19.489236Z",
     "shell.execute_reply": "2020-09-05T06:32:19.489642Z"
    }
   },
   "outputs": [
    {
     "data": {
      "text/latex": [
       "$\\displaystyle x \\left(x + 1\\right)$"
      ],
      "text/plain": [
       "x*(x + 1)"
      ]
     },
     "execution_count": 11,
     "metadata": {},
     "output_type": "execute_result"
    }
   ],
   "source": [
    "sym.simplify(c)"
   ]
  },
  {
   "cell_type": "markdown",
   "metadata": {},
   "source": [
    "Se pueden utilizar álgebra simbólica para derivar, esto se hace con \n",
    "~~~python\n",
    "sym.diff(funcion, variable a derivar1, variable a derivar2, variable a derivar3,...).\n",
    "~~~\n",
    "\n",
    "\n",
    "Exprese de manera simbólica la función\n",
    "\\begin{equation}\n",
    "f=x^2+sin(x)\n",
    "\\end{equation}\n",
    "y obtenga $\\frac{df}{dx}$ y $\\frac{d^2f}{dx^2}$."
   ]
  },
  {
   "cell_type": "code",
   "execution_count": 12,
   "metadata": {
    "execution": {
     "iopub.execute_input": "2020-09-05T06:32:19.493665Z",
     "iopub.status.busy": "2020-09-05T06:32:19.493171Z",
     "iopub.status.idle": "2020-09-05T06:32:19.508566Z",
     "shell.execute_reply": "2020-09-05T06:32:19.508949Z"
    }
   },
   "outputs": [
    {
     "name": "stdout",
     "output_type": "stream",
     "text": [
      " 2         \n",
      "x  + sin(x)\n",
      "2⋅x + cos(x)\n",
      "2 - sin(x)\n"
     ]
    }
   ],
   "source": [
    "x=sym.symbols(\"x\")\n",
    "f=x**2+sym.sin(x)\n",
    "sym.pprint(f)\n",
    "sym.pprint(sym.diff(f,x))\n",
    "sym.pprint(sym.diff(f,x,x))"
   ]
  },
  {
   "cell_type": "markdown",
   "metadata": {},
   "source": [
    "Podemos integrar con \n",
    "~~~python\n",
    "sym.integrate(funcion, variable a integrar1, variable a integrar2, variable a integrar3,...)\n",
    "~~~\n",
    "Defina la función\n",
    "\\begin{equation}\n",
    "f=e^{-r}\n",
    "\\end{equation}\n",
    "Y realice la integral indefnida\n",
    "\\begin{equation}\n",
    "\\int e^{-r} dr\n",
    "\\end{equation}\n"
   ]
  },
  {
   "cell_type": "code",
   "execution_count": 13,
   "metadata": {
    "execution": {
     "iopub.execute_input": "2020-09-05T06:32:19.515579Z",
     "iopub.status.busy": "2020-09-05T06:32:19.514621Z",
     "iopub.status.idle": "2020-09-05T06:32:19.549258Z",
     "shell.execute_reply": "2020-09-05T06:32:19.549736Z"
    }
   },
   "outputs": [
    {
     "name": "stdout",
     "output_type": "stream",
     "text": [
      " -r\n",
      "ℯ  \n",
      "  -r\n",
      "-ℯ  \n"
     ]
    }
   ],
   "source": [
    "r=sym.symbols(\"r\")\n",
    "f=sym.exp(-r)\n",
    "sym.pprint(f)\n",
    "sym.pprint(sym.integrate(f,r))"
   ]
  },
  {
   "cell_type": "markdown",
   "metadata": {},
   "source": [
    "Podemos integrar de manera definida con \n",
    "~~~python\n",
    "sym.integrate(funcion, (variable_a_integrar1,lim_inf1,lim_sup1), (variable_a_integrar2,lim_inf2,lim_sup2),(variable_a_integrar3,lim_inf3,lim_sup3),...)\n",
    "~~~\n",
    "Defina la función\n",
    "\\begin{equation}\n",
    "f=e^{-\\alpha r^2}\n",
    "\\end{equation}\n",
    "Y realice la integral\n",
    "\\begin{equation}\n",
    "\\int_0^\\infty e^{-\\alpha r^2} dr\n",
    "\\end{equation}\n"
   ]
  },
  {
   "cell_type": "code",
   "execution_count": 14,
   "metadata": {
    "execution": {
     "iopub.execute_input": "2020-09-05T06:32:19.623023Z",
     "iopub.status.busy": "2020-09-05T06:32:19.587395Z",
     "iopub.status.idle": "2020-09-05T06:32:19.765372Z",
     "shell.execute_reply": "2020-09-05T06:32:19.765771Z"
    }
   },
   "outputs": [
    {
     "name": "stdout",
     "output_type": "stream",
     "text": [
      " √π \n",
      "────\n",
      "2⋅√α\n"
     ]
    }
   ],
   "source": [
    "r=sym.symbols(\"r\")\n",
    "alpha=sym.symbols(\"alpha\",positive=True)\n",
    "f=sym.exp(-alpha*r**2)\n",
    "sym.pprint(sym.integrate(f,(r,0,sym.oo)))"
   ]
  },
  {
   "cell_type": "markdown",
   "metadata": {},
   "source": [
    "También se pueden resolver ecuaciones diferenciales. dsolve indica resolver una ecuación, y Eq indica la ecuación.\n",
    "Resuelva\n",
    "\\begin{equation}\n",
    "-\\frac{\\hbar^2}{2m} \\frac{d^2}{dx^2} \\psi(x) = E \\psi(x)\n",
    "\\end{equation}\n",
    "Con $k^2=\\frac{2mE}{\\hbar^2}$\n",
    "\\begin{equation}\n",
    "\\frac{d^2}{dx^2} \\psi(x) + k^2 \\psi(x) = 0\n",
    "\\end{equation}"
   ]
  },
  {
   "cell_type": "code",
   "execution_count": 15,
   "metadata": {
    "execution": {
     "iopub.execute_input": "2020-09-05T06:32:19.837853Z",
     "iopub.status.busy": "2020-09-05T06:32:19.802192Z",
     "iopub.status.idle": "2020-09-05T06:32:20.072618Z",
     "shell.execute_reply": "2020-09-05T06:32:20.073018Z"
    }
   },
   "outputs": [
    {
     "name": "stdout",
     "output_type": "stream",
     "text": [
      "            2          \n",
      " 2         d           \n",
      "k ⋅ψ(x) + ───(ψ(x)) = 0\n",
      "            2          \n",
      "          dx           \n"
     ]
    },
    {
     "name": "stdout",
     "output_type": "stream",
     "text": [
      "           -ⅈ⋅k⋅x       ⅈ⋅k⋅x\n",
      "ψ(x) = C₁⋅ℯ       + C₂⋅ℯ     \n"
     ]
    }
   ],
   "source": [
    "x=sym.symbols(\"x\")\n",
    "k=sym.symbols(\"k\")\n",
    "\n",
    "psi=sym.Function(\"psi\")\n",
    "eq=sym.Eq(psi(x).diff(x,x)+k**2*psi(x),0)\n",
    "sym.pprint(eq)\n",
    "\n",
    "sym.pprint(sym.dsolve(eq,psi(x)))"
   ]
  },
  {
   "cell_type": "markdown",
   "metadata": {},
   "source": [
    "La parte radial del Hamiltoniano del átomo de hidrógeno es\n",
    "\\begin{equation}\n",
    "H = -\\frac{1}{2} \\left( \\frac{1}{r^2}\\frac{d}{dr}r^2\\frac{d}{dr} \\right)-\\frac{1}{r}\n",
    "\\end{equation}\n",
    "\n",
    "Se usa la función de prueba\n",
    "\\begin{equation}\n",
    "\\psi^{prueba} = \\left( \\frac{2\\alpha}{\\pi} \\right)^{3/4} e^{-\\alpha r^2}\n",
    "\\end{equation}\n",
    "\n",
    "La energía se obtiene como:\n",
    "\\begin{equation}\n",
    "E^{prueba} = \\int_{0}^{r=\\infty} \\int_{0}^{\\theta=\\pi} \\int_{0}^{\\phi=2\\pi} r^2 sin \\theta \\left( {\\psi^{prueba}}^* \\hat{H} \\psi^{prueba} \\right) dr d\\theta d\\phi\n",
    "\\end{equation}\n"
   ]
  },
  {
   "cell_type": "code",
   "execution_count": 16,
   "metadata": {
    "execution": {
     "iopub.execute_input": "2020-09-05T06:32:20.105747Z",
     "iopub.status.busy": "2020-09-05T06:32:20.100724Z",
     "iopub.status.idle": "2020-09-05T06:32:20.269411Z",
     "shell.execute_reply": "2020-09-05T06:32:20.268922Z"
    }
   },
   "outputs": [
    {
     "name": "stdout",
     "output_type": "stream",
     "text": [
      "  2⋅√2⋅√α        \n",
      "- ─────── + 1.5⋅α\n",
      "     √π          \n"
     ]
    }
   ],
   "source": [
    "r=sym.symbols(\"r\")\n",
    "alpha=sym.symbols(\"alpha\",positive=True)\n",
    "psi=(2*alpha/sym.pi)**(sym.S(3)/4)*sym.exp(-alpha*r**2)\n",
    "#sym.pprint(psi)\n",
    "\n",
    "sym.pprint(sym.integrate(4*sym.pi*r**2*psi*(-1/2*1/r**2*sym.diff(r**2*sym.diff(psi,r),r)-psi/r),(r,0,sym.oo)))"
   ]
  },
  {
   "cell_type": "markdown",
   "metadata": {},
   "source": [
    "## Átomo de hidrógeno"
   ]
  },
  {
   "cell_type": "markdown",
   "metadata": {},
   "source": [
    "La parte radial del Hamiltoniano del átomo de hidrógeno es\n",
    "\\begin{equation}\n",
    "H = -\\frac{1}{2} \\left( \\frac{1}{r^2}\\frac{d}{dr}r^2\\frac{d}{dr} \\right)-\\frac{1}{r}\n",
    "\\end{equation}\n",
    "\n",
    "Se usa la función de prueba\n",
    "\\begin{equation}\n",
    "\\psi^{prueba} = \\left( \\frac{2\\alpha}{\\pi} \\right)^{3/4} e^{-\\alpha r^2}\n",
    "\\end{equation}\n",
    "\n",
    "La energía se obtiene como:\n",
    "\\begin{eqnarray}\n",
    "E^{prueba} &=& \\int_{0}^{r=\\infty} \\int_{0}^{\\theta=\\pi} \\int_{0}^{\\phi=2\\pi} r^2 sin \\theta \\left( {\\psi^{prueba}}^* \\hat{H} \\psi^{prueba} \\right) dr d\\theta d\\phi\n",
    "\\end{eqnarray}\n"
   ]
  },
  {
   "cell_type": "markdown",
   "metadata": {},
   "source": [
    "**Paso 1.** Identifique las variables y declarelas como símbolos. En este caso: $r$ y $alpha$."
   ]
  },
  {
   "cell_type": "code",
   "execution_count": 17,
   "metadata": {
    "execution": {
     "iopub.execute_input": "2020-09-05T06:32:20.273452Z",
     "iopub.status.busy": "2020-09-05T06:32:20.272885Z",
     "iopub.status.idle": "2020-09-05T06:32:20.275152Z",
     "shell.execute_reply": "2020-09-05T06:32:20.274700Z"
    }
   },
   "outputs": [],
   "source": [
    "r=sym.symbols(\"r\")\n",
    "alpha=sym.symbols(\"alpha\",positive=\"True\") #positive=True indica que alpha solo puede ser positivo."
   ]
  },
  {
   "cell_type": "markdown",
   "metadata": {},
   "source": [
    "**Paso 2.** Identifique si existe alguna función que pueda ser expresada con las variables anteriores. En este caso sí la hay y es $\\psi^{prueba}$."
   ]
  },
  {
   "cell_type": "code",
   "execution_count": 18,
   "metadata": {
    "execution": {
     "iopub.execute_input": "2020-09-05T06:32:20.280556Z",
     "iopub.status.busy": "2020-09-05T06:32:20.279963Z",
     "iopub.status.idle": "2020-09-05T06:32:20.282846Z",
     "shell.execute_reply": "2020-09-05T06:32:20.282419Z"
    }
   },
   "outputs": [
    {
     "name": "stdout",
     "output_type": "stream",
     "text": [
      "               2\n",
      " 3/4  3/4  -α⋅r \n",
      "2   ⋅α   ⋅ℯ     \n",
      "────────────────\n",
      "       3/4      \n",
      "      π         \n"
     ]
    }
   ],
   "source": [
    "psi=(2*alpha/sym.pi)**(sym.S(3)/4)*sym.exp(-alpha*r**2)\n",
    "sym.pprint(psi)"
   ]
  },
  {
   "cell_type": "markdown",
   "metadata": {},
   "source": [
    "**Paso 3.** Opcional. Identifique si hay partes de la ecuación que pueda agrupar o distirbuir con operaciones simples, como multiplicación y expréselas por separado.\n",
    "\n",
    "En este caso\n",
    "\\begin{eqnarray}\n",
    "E^{prueba} &=& \\int_{0}^{r=\\infty} \\int_{0}^{\\theta=\\pi} \\int_{0}^{\\phi=2\\pi} r^2 sin \\theta \\left( {\\psi^{prueba}}^* \\hat{H} \\psi^{prueba} \\right) dr d\\theta d\\phi\\\\\n",
    "&=& \\int_{0}^{r=\\infty} \\int_{0}^{\\theta=\\pi} \\int_{0}^{\\phi=2\\pi} r^2 sin \\theta \\left( {\\psi^{prueba}}^* \\left( -\\frac{1}{2} \\left( \\frac{1}{r^2}\\frac{d}{dr}r^2\\frac{d}{dr} \\right)-\\frac{1}{r} \\right) \\psi^{prueba} \\right) dr d\\theta d\\phi\\\\\n",
    "&=& 4\\pi \\int_{0}^{r=\\infty} r^2 \\left( {\\psi^{prueba}}^* \\left( \\color{red}{ -\\frac{1}{2}  \\frac{1}{r^2}\\frac{d}{dr}r^2\\frac{d}{dr} \\psi^{prueba}} \\color{blue}{-\\frac{1 }{r}\\psi^{prueba}} \\right)  \\right) dr \\\\\n",
    "\\end{eqnarray}\n",
    "\n",
    "A la parte en $\\color{red}{rojo}$ le llamaremos A, y a la parte en $\\color{blue}{azul}$ le llamaremos B."
   ]
  },
  {
   "cell_type": "code",
   "execution_count": 19,
   "metadata": {
    "execution": {
     "iopub.execute_input": "2020-09-05T06:32:20.289724Z",
     "iopub.status.busy": "2020-09-05T06:32:20.288981Z",
     "iopub.status.idle": "2020-09-05T06:32:20.291059Z",
     "shell.execute_reply": "2020-09-05T06:32:20.291470Z"
    }
   },
   "outputs": [],
   "source": [
    "# Primera parte (en rojo)\n",
    "d_psi=sym.diff(psi,r)\n",
    "dd_psi=sym.diff(r**2*d_psi,r)\n",
    "A=(-sym.S(1)/2)*(1/r**2)*dd_psi\n",
    "\n",
    "# Primera parte (en azul)\n",
    "B=-(1/r)*psi"
   ]
  },
  {
   "cell_type": "markdown",
   "metadata": {},
   "source": [
    "**Paso 4.** Exprese la función a integrar y haga la integral con $sp.integrate()$"
   ]
  },
  {
   "cell_type": "code",
   "execution_count": 20,
   "metadata": {
    "execution": {
     "iopub.execute_input": "2020-09-05T06:32:20.383731Z",
     "iopub.status.busy": "2020-09-05T06:32:20.347940Z",
     "iopub.status.idle": "2020-09-05T06:32:20.437423Z",
     "shell.execute_reply": "2020-09-05T06:32:20.436883Z"
    }
   },
   "outputs": [
    {
     "name": "stdout",
     "output_type": "stream",
     "text": [
      "  2⋅√2⋅√α   3⋅α\n",
      "- ─────── + ───\n",
      "     √π      2 \n"
     ]
    }
   ],
   "source": [
    "f=r**2*psi*(A+B)\n",
    "E=sym.integrate(4*sym.pi*f,(r,0,sym.oo))\n",
    "sym.pprint(E)"
   ]
  },
  {
   "cell_type": "markdown",
   "metadata": {},
   "source": [
    "## Referencias"
   ]
  },
  {
   "cell_type": "markdown",
   "metadata": {},
   "source": [
    "Página oficial de sympy\n",
    "www.sympy.org"
   ]
  }
 ],
 "metadata": {
  "kernelspec": {
   "display_name": "Python 3",
   "language": "python",
   "name": "python3"
  },
  "language_info": {
   "codemirror_mode": {
    "name": "ipython",
    "version": 3
   },
   "file_extension": ".py",
   "mimetype": "text/x-python",
   "name": "python",
   "nbconvert_exporter": "python",
   "pygments_lexer": "ipython3",
   "version": "3.7.7"
  }
 },
 "nbformat": 4,
 "nbformat_minor": 2
}