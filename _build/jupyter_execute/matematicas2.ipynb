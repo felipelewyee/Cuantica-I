{
 "cells": [
  {
   "cell_type": "markdown",
   "metadata": {},
   "source": [
    "# Álgebra simbólica"
   ]
  },
  {
   "cell_type": "markdown",
   "metadata": {},
   "source": [
    "Sympy es una librería de algebra simbólica. Se importa así:"
   ]
  },
  {
   "cell_type": "code",
   "execution_count": 1,
   "metadata": {
    "execution": {
     "iopub.execute_input": "2020-09-05T00:42:38.275071Z",
     "iopub.status.busy": "2020-09-05T00:42:38.273272Z",
     "iopub.status.idle": "2020-09-05T00:42:38.576100Z",
     "shell.execute_reply": "2020-09-05T00:42:38.575407Z"
    }
   },
   "outputs": [],
   "source": [
    "import sympy as sym"
   ]
  },
  {
   "cell_type": "markdown",
   "metadata": {},
   "source": [
    "En vez de realizar operaciones de manera numérica, el álgebra simbólica guarda las operaciones como símbolos. Obtenga la siguiente operación:\n",
    "\\begin{equation}\n",
    "\\sqrt{11}\n",
    "\\end{equation}\n",
    "Usando python estándar\n",
    "~~~python\n",
    "import numpy as np\n",
    "a=np.sqrt(11)\n",
    "print(a)\n",
    "~~~\n",
    "y usando sympy\n",
    "~~~python\n",
    "import sympy as sym\n",
    "a=sympy.sqrt(11)\n",
    "print(a)\n",
    "~~~"
   ]
  },
  {
   "cell_type": "code",
   "execution_count": 2,
   "metadata": {
    "execution": {
     "iopub.execute_input": "2020-09-05T00:42:38.580311Z",
     "iopub.status.busy": "2020-09-05T00:42:38.579459Z",
     "iopub.status.idle": "2020-09-05T00:42:38.657178Z",
     "shell.execute_reply": "2020-09-05T00:42:38.657575Z"
    }
   },
   "outputs": [
    {
     "data": {
      "text/plain": [
       "3.3166247903554"
      ]
     },
     "execution_count": 2,
     "metadata": {},
     "output_type": "execute_result"
    }
   ],
   "source": [
    "import numpy as np\n",
    "a=np.sqrt(11)\n",
    "a"
   ]
  },
  {
   "cell_type": "code",
   "execution_count": 3,
   "metadata": {
    "execution": {
     "iopub.execute_input": "2020-09-05T00:42:38.662889Z",
     "iopub.status.busy": "2020-09-05T00:42:38.662242Z",
     "iopub.status.idle": "2020-09-05T00:42:38.665027Z",
     "shell.execute_reply": "2020-09-05T00:42:38.665435Z"
    }
   },
   "outputs": [
    {
     "data": {
      "text/latex": [
       "$\\displaystyle \\sqrt{11}$"
      ],
      "text/plain": [
       "sqrt(11)"
      ]
     },
     "execution_count": 3,
     "metadata": {},
     "output_type": "execute_result"
    }
   ],
   "source": [
    "import sympy as sym\n",
    "a=sym.sqrt(11)\n",
    "a"
   ]
  },
  {
   "cell_type": "markdown",
   "metadata": {},
   "source": [
    "Podemos mejorar la apariencia de una expresión si en vez de usar print utilizamos:\n",
    "~~~python\n",
    "sym.pprint(a)\n",
    "~~~\n",
    "o si simplemente poniendo la expresión."
   ]
  },
  {
   "cell_type": "code",
   "execution_count": 4,
   "metadata": {
    "execution": {
     "iopub.execute_input": "2020-09-05T00:42:38.669124Z",
     "iopub.status.busy": "2020-09-05T00:42:38.668513Z",
     "iopub.status.idle": "2020-09-05T00:42:38.671086Z",
     "shell.execute_reply": "2020-09-05T00:42:38.671490Z"
    }
   },
   "outputs": [
    {
     "name": "stdout",
     "output_type": "stream",
     "text": [
      "√11\n"
     ]
    }
   ],
   "source": [
    "sym.pprint(a)"
   ]
  },
  {
   "cell_type": "markdown",
   "metadata": {},
   "source": [
    "Podemos obtener el valor numérico con evalf(). Obtenga el valor numérico de $\\sqrt{11}$"
   ]
  },
  {
   "cell_type": "code",
   "execution_count": 5,
   "metadata": {
    "execution": {
     "iopub.execute_input": "2020-09-05T00:42:38.675489Z",
     "iopub.status.busy": "2020-09-05T00:42:38.674852Z",
     "iopub.status.idle": "2020-09-05T00:42:38.677519Z",
     "shell.execute_reply": "2020-09-05T00:42:38.677935Z"
    }
   },
   "outputs": [
    {
     "data": {
      "text/latex": [
       "$\\displaystyle 3.3166247903554$"
      ],
      "text/plain": [
       "3.31662479035540"
      ]
     },
     "execution_count": 5,
     "metadata": {},
     "output_type": "execute_result"
    }
   ],
   "source": [
    "a.evalf()"
   ]
  },
  {
   "cell_type": "markdown",
   "metadata": {},
   "source": [
    "Las variables comunes de álgebra son símbolos. Si quiero definir x:"
   ]
  },
  {
   "cell_type": "code",
   "execution_count": 6,
   "metadata": {
    "execution": {
     "iopub.execute_input": "2020-09-05T00:42:38.681473Z",
     "iopub.status.busy": "2020-09-05T00:42:38.680932Z",
     "iopub.status.idle": "2020-09-05T00:42:38.683208Z",
     "shell.execute_reply": "2020-09-05T00:42:38.682762Z"
    }
   },
   "outputs": [],
   "source": [
    "x=sym.symbols(\"x\")"
   ]
  },
  {
   "cell_type": "markdown",
   "metadata": {},
   "source": [
    "Imprimimos x para verificar."
   ]
  },
  {
   "cell_type": "code",
   "execution_count": 7,
   "metadata": {
    "execution": {
     "iopub.execute_input": "2020-09-05T00:42:38.687201Z",
     "iopub.status.busy": "2020-09-05T00:42:38.686421Z",
     "iopub.status.idle": "2020-09-05T00:42:38.689170Z",
     "shell.execute_reply": "2020-09-05T00:42:38.689581Z"
    }
   },
   "outputs": [
    {
     "data": {
      "text/latex": [
       "$\\displaystyle x$"
      ],
      "text/plain": [
       "x"
      ]
     },
     "execution_count": 7,
     "metadata": {},
     "output_type": "execute_result"
    }
   ],
   "source": [
    "x"
   ]
  },
  {
   "cell_type": "markdown",
   "metadata": {},
   "source": [
    "Una variable puede almacenar cosas distintas a su nombre. Pruebe con\n",
    "~~~python\n",
    "y=x+1\n",
    "~~~"
   ]
  },
  {
   "cell_type": "code",
   "execution_count": 8,
   "metadata": {
    "execution": {
     "iopub.execute_input": "2020-09-05T00:42:38.693933Z",
     "iopub.status.busy": "2020-09-05T00:42:38.692731Z",
     "iopub.status.idle": "2020-09-05T00:42:38.725636Z",
     "shell.execute_reply": "2020-09-05T00:42:38.726038Z"
    }
   },
   "outputs": [
    {
     "data": {
      "text/latex": [
       "$\\displaystyle x + 1$"
      ],
      "text/plain": [
       "x + 1"
      ]
     },
     "execution_count": 8,
     "metadata": {},
     "output_type": "execute_result"
    }
   ],
   "source": [
    "y=x+1\n",
    "y"
   ]
  },
  {
   "cell_type": "markdown",
   "metadata": {},
   "source": [
    "Es posible multiplicar expresiones y hacerles cualquier tipo de operación. Por ejemplo, haga el producto $xy$, guárdelo en una variable $z$ e imprima el resultado."
   ]
  },
  {
   "cell_type": "code",
   "execution_count": 9,
   "metadata": {
    "execution": {
     "iopub.execute_input": "2020-09-05T00:42:38.731745Z",
     "iopub.status.busy": "2020-09-05T00:42:38.731228Z",
     "iopub.status.idle": "2020-09-05T00:42:38.982248Z",
     "shell.execute_reply": "2020-09-05T00:42:38.982764Z"
    }
   },
   "outputs": [
    {
     "data": {
      "text/latex": [
       "$\\displaystyle x \\left(x + 1\\right)$"
      ],
      "text/plain": [
       "x*(x + 1)"
      ]
     },
     "execution_count": 9,
     "metadata": {},
     "output_type": "execute_result"
    }
   ],
   "source": [
    "z=y*x\n",
    "z"
   ]
  },
  {
   "cell_type": "markdown",
   "metadata": {},
   "source": [
    "Se puede obtener el resultado de desarrollar las operaciones con \n",
    "~~~python\n",
    "sym.expand(expresión)\n",
    "~~~\n",
    "Desarrolle la operación contenida en z, guárdelo en una variable c e imprimala."
   ]
  },
  {
   "cell_type": "code",
   "execution_count": 10,
   "metadata": {
    "execution": {
     "iopub.execute_input": "2020-09-05T00:42:38.987559Z",
     "iopub.status.busy": "2020-09-05T00:42:38.987012Z",
     "iopub.status.idle": "2020-09-05T00:42:38.989232Z",
     "shell.execute_reply": "2020-09-05T00:42:38.989622Z"
    }
   },
   "outputs": [
    {
     "name": "stdout",
     "output_type": "stream",
     "text": [
      " 2    \n",
      "x  + x\n"
     ]
    }
   ],
   "source": [
    "c=sym.expand(z)\n",
    "sym.pprint(c)"
   ]
  },
  {
   "cell_type": "markdown",
   "metadata": {},
   "source": [
    "Podemos obtener expresiones en su forma factorizada con sp.simplify(). Pruebe con la variable c.\n"
   ]
  },
  {
   "cell_type": "code",
   "execution_count": 11,
   "metadata": {
    "execution": {
     "iopub.execute_input": "2020-09-05T00:42:39.007951Z",
     "iopub.status.busy": "2020-09-05T00:42:39.007410Z",
     "iopub.status.idle": "2020-09-05T00:42:39.010284Z",
     "shell.execute_reply": "2020-09-05T00:42:39.010676Z"
    }
   },
   "outputs": [
    {
     "data": {
      "text/latex": [
       "$\\displaystyle x \\left(x + 1\\right)$"
      ],
      "text/plain": [
       "x*(x + 1)"
      ]
     },
     "execution_count": 11,
     "metadata": {},
     "output_type": "execute_result"
    }
   ],
   "source": [
    "sym.simplify(c)"
   ]
  },
  {
   "cell_type": "markdown",
   "metadata": {},
   "source": [
    "Se pueden utilizar álgebra simbólica para derivar, esto se hace con \n",
    "~~~python\n",
    "sym.diff(funcion, variable a derivar1, variable a derivar2, variable a derivar3,...).\n",
    "~~~\n",
    "\n",
    "\n",
    "Exprese de manera simbólica la función\n",
    "\\begin{equation}\n",
    "f=x^2+sin(x)\n",
    "\\end{equation}\n",
    "y obtenga $\\frac{df}{dx}$ y $\\frac{d^2f}{dx^2}$."
   ]
  },
  {
   "cell_type": "code",
   "execution_count": 12,
   "metadata": {
    "execution": {
     "iopub.execute_input": "2020-09-05T00:42:39.014880Z",
     "iopub.status.busy": "2020-09-05T00:42:39.014321Z",
     "iopub.status.idle": "2020-09-05T00:42:39.029380Z",
     "shell.execute_reply": "2020-09-05T00:42:39.029811Z"
    }
   },
   "outputs": [
    {
     "name": "stdout",
     "output_type": "stream",
     "text": [
      " 2         \n",
      "x  + sin(x)\n",
      "2⋅x + cos(x)\n",
      "2 - sin(x)\n"
     ]
    }
   ],
   "source": [
    "x=sym.symbols(\"x\")\n",
    "f=x**2+sym.sin(x)\n",
    "sym.pprint(f)\n",
    "sym.pprint(sym.diff(f,x))\n",
    "sym.pprint(sym.diff(f,x,x))"
   ]
  },
  {
   "cell_type": "markdown",
   "metadata": {},
   "source": [
    "Podemos integrar con \n",
    "~~~python\n",
    "sym.integrate(funcion, variable a integrar1, variable a integrar2, variable a integrar3,...)\n",
    "~~~\n",
    "Defina la función\n",
    "\\begin{equation}\n",
    "f=e^{-r}\n",
    "\\end{equation}\n",
    "Y realice la integral indefnida\n",
    "\\begin{equation}\n",
    "\\int e^{-r} dr\n",
    "\\end{equation}\n"
   ]
  },
  {
   "cell_type": "code",
   "execution_count": 13,
   "metadata": {
    "execution": {
     "iopub.execute_input": "2020-09-05T00:42:39.035904Z",
     "iopub.status.busy": "2020-09-05T00:42:39.035172Z",
     "iopub.status.idle": "2020-09-05T00:42:39.073212Z",
     "shell.execute_reply": "2020-09-05T00:42:39.073676Z"
    }
   },
   "outputs": [
    {
     "name": "stdout",
     "output_type": "stream",
     "text": [
      " -r\n",
      "ℯ  \n",
      "  -r\n",
      "-ℯ  \n"
     ]
    }
   ],
   "source": [
    "r=sym.symbols(\"r\")\n",
    "f=sym.exp(-r)\n",
    "sym.pprint(f)\n",
    "sym.pprint(sym.integrate(f,r))"
   ]
  },
  {
   "cell_type": "markdown",
   "metadata": {},
   "source": [
    "Podemos integrar de manera definida con \n",
    "~~~python\n",
    "sym.integrate(funcion, (variable_a_integrar1,lim_inf1,lim_sup1), (variable_a_integrar2,lim_inf2,lim_sup2),(variable_a_integrar3,lim_inf3,lim_sup3),...)\n",
    "~~~\n",
    "Defina la función\n",
    "\\begin{equation}\n",
    "f=e^{-\\alpha r^2}\n",
    "\\end{equation}\n",
    "Y realice la integral\n",
    "\\begin{equation}\n",
    "\\int_0^\\infty e^{-\\alpha r^2} dr\n",
    "\\end{equation}\n"
   ]
  },
  {
   "cell_type": "code",
   "execution_count": 14,
   "metadata": {
    "execution": {
     "iopub.execute_input": "2020-09-05T00:42:39.147288Z",
     "iopub.status.busy": "2020-09-05T00:42:39.111632Z",
     "iopub.status.idle": "2020-09-05T00:42:39.300759Z",
     "shell.execute_reply": "2020-09-05T00:42:39.300204Z"
    }
   },
   "outputs": [
    {
     "name": "stdout",
     "output_type": "stream",
     "text": [
      " √π \n",
      "────\n",
      "2⋅√α\n"
     ]
    }
   ],
   "source": [
    "r=sym.symbols(\"r\")\n",
    "alpha=sym.symbols(\"alpha\",positive=True)\n",
    "f=sym.exp(-alpha*r**2)\n",
    "sym.pprint(sym.integrate(f,(r,0,sym.oo)))"
   ]
  },
  {
   "cell_type": "markdown",
   "metadata": {},
   "source": [
    "También se pueden resolver ecuaciones diferenciales. dsolve indica resolver una ecuación, y Eq indica la ecuación.\n",
    "Resuelva\n",
    "\\begin{equation}\n",
    "-\\frac{\\hbar^2}{2m} \\frac{d^2}{dx^2} \\psi(x) = E \\psi(x)\n",
    "\\end{equation}\n",
    "Con $k^2=\\frac{2mE}{\\hbar^2}$\n",
    "\\begin{equation}\n",
    "\\frac{d^2}{dx^2} \\psi(x) + k^2 \\psi(x) = 0\n",
    "\\end{equation}"
   ]
  },
  {
   "cell_type": "code",
   "execution_count": 15,
   "metadata": {
    "execution": {
     "iopub.execute_input": "2020-09-05T00:42:39.378398Z",
     "iopub.status.busy": "2020-09-05T00:42:39.342576Z",
     "iopub.status.idle": "2020-09-05T00:42:39.613322Z",
     "shell.execute_reply": "2020-09-05T00:42:39.613817Z"
    }
   },
   "outputs": [
    {
     "name": "stdout",
     "output_type": "stream",
     "text": [
      "            2          \n",
      " 2         d           \n",
      "k ⋅ψ(x) + ───(ψ(x)) = 0\n",
      "            2          \n",
      "          dx           \n"
     ]
    },
    {
     "name": "stdout",
     "output_type": "stream",
     "text": [
      "           -ⅈ⋅k⋅x       ⅈ⋅k⋅x\n",
      "ψ(x) = C₁⋅ℯ       + C₂⋅ℯ     \n"
     ]
    }
   ],
   "source": [
    "x=sym.symbols(\"x\")\n",
    "k=sym.symbols(\"k\")\n",
    "\n",
    "psi=sym.Function(\"psi\")\n",
    "eq=sym.Eq(psi(x).diff(x,x)+k**2*psi(x),0)\n",
    "sym.pprint(eq)\n",
    "\n",
    "sym.pprint(sym.dsolve(eq,psi(x)))"
   ]
  },
  {
   "cell_type": "markdown",
   "metadata": {},
   "source": [
    "La parte radial del Hamiltoniano del átomo de hidrógeno es\n",
    "\\begin{equation}\n",
    "H = -\\frac{1}{2} \\left( \\frac{1}{r^2}\\frac{d}{dr}r^2\\frac{d}{dr} \\right)-\\frac{1}{r}\n",
    "\\end{equation}\n",
    "\n",
    "Se usa la función de prueba\n",
    "\\begin{equation}\n",
    "\\psi^{prueba} = \\left( \\frac{2\\alpha}{\\pi} \\right)^{3/4} e^{-\\alpha r^2}\n",
    "\\end{equation}\n",
    "\n",
    "La energía se obtiene como:\n",
    "\\begin{equation}\n",
    "E^{prueba} = \\int_{0}^{r=\\infty} \\int_{0}^{\\theta=\\pi} \\int_{0}^{\\phi=2\\pi} r^2 sin \\theta \\left( {\\psi^{prueba}}^* \\hat{H} \\psi^{prueba} \\right) dr d\\theta d\\phi\n",
    "\\end{equation}\n"
   ]
  },
  {
   "cell_type": "code",
   "execution_count": 16,
   "metadata": {
    "execution": {
     "iopub.execute_input": "2020-09-05T00:42:39.687390Z",
     "iopub.status.busy": "2020-09-05T00:42:39.651594Z",
     "iopub.status.idle": "2020-09-05T00:42:39.842304Z",
     "shell.execute_reply": "2020-09-05T00:42:39.841817Z"
    }
   },
   "outputs": [
    {
     "name": "stdout",
     "output_type": "stream",
     "text": [
      "  2⋅√2⋅√α        \n",
      "- ─────── + 1.5⋅α\n",
      "     √π          \n"
     ]
    }
   ],
   "source": [
    "r=sym.symbols(\"r\")\n",
    "alpha=sym.symbols(\"alpha\",positive=True)\n",
    "psi=(2*alpha/sym.pi)**(sym.S(3)/4)*sym.exp(-alpha*r**2)\n",
    "#sym.pprint(psi)\n",
    "\n",
    "sym.pprint(sym.integrate(4*sym.pi*r**2*psi*(-1/2*1/r**2*sym.diff(r**2*sym.diff(psi,r),r)-psi/r),(r,0,sym.oo)))"
   ]
  },
  {
   "cell_type": "markdown",
   "metadata": {},
   "source": [
    "## Átomo de hidrógeno"
   ]
  },
  {
   "cell_type": "markdown",
   "metadata": {},
   "source": [
    "La parte radial del Hamiltoniano del átomo de hidrógeno es\n",
    "\\begin{equation}\n",
    "H = -\\frac{1}{2} \\left( \\frac{1}{r^2}\\frac{d}{dr}r^2\\frac{d}{dr} \\right)-\\frac{1}{r}\n",
    "\\end{equation}\n",
    "\n",
    "Se usa la función de prueba\n",
    "\\begin{equation}\n",
    "\\psi^{prueba} = \\left( \\frac{2\\alpha}{\\pi} \\right)^{3/4} e^{-\\alpha r^2}\n",
    "\\end{equation}\n",
    "\n",
    "La energía se obtiene como:\n",
    "\\begin{eqnarray}\n",
    "E^{prueba} &=& \\int_{0}^{r=\\infty} \\int_{0}^{\\theta=\\pi} \\int_{0}^{\\phi=2\\pi} r^2 sin \\theta \\left( {\\psi^{prueba}}^* \\hat{H} \\psi^{prueba} \\right) dr d\\theta d\\phi\n",
    "\\end{eqnarray}\n"
   ]
  },
  {
   "cell_type": "markdown",
   "metadata": {},
   "source": [
    "**Paso 1.** Identifique las variables y declarelas como símbolos. En este caso: $r$ y $alpha$."
   ]
  },
  {
   "cell_type": "code",
   "execution_count": 17,
   "metadata": {
    "execution": {
     "iopub.execute_input": "2020-09-05T00:42:39.846016Z",
     "iopub.status.busy": "2020-09-05T00:42:39.845481Z",
     "iopub.status.idle": "2020-09-05T00:42:39.847720Z",
     "shell.execute_reply": "2020-09-05T00:42:39.847249Z"
    }
   },
   "outputs": [],
   "source": [
    "r=sym.symbols(\"r\")\n",
    "alpha=sym.symbols(\"alpha\",positive=\"True\") #positive=True indica que alpha solo puede ser positivo."
   ]
  },
  {
   "cell_type": "markdown",
   "metadata": {},
   "source": [
    "**Paso 2.** Identifique si existe alguna función que pueda ser expresada con las variables anteriores. En este caso sí la hay y es $\\psi^{prueba}$."
   ]
  },
  {
   "cell_type": "code",
   "execution_count": 18,
   "metadata": {
    "execution": {
     "iopub.execute_input": "2020-09-05T00:42:39.853878Z",
     "iopub.status.busy": "2020-09-05T00:42:39.853081Z",
     "iopub.status.idle": "2020-09-05T00:42:39.856057Z",
     "shell.execute_reply": "2020-09-05T00:42:39.856609Z"
    }
   },
   "outputs": [
    {
     "name": "stdout",
     "output_type": "stream",
     "text": [
      "               2\n",
      " 3/4  3/4  -α⋅r \n",
      "2   ⋅α   ⋅ℯ     \n",
      "────────────────\n",
      "       3/4      \n",
      "      π         \n"
     ]
    }
   ],
   "source": [
    "psi=(2*alpha/sym.pi)**(sym.S(3)/4)*sym.exp(-alpha*r**2)\n",
    "sym.pprint(psi)"
   ]
  },
  {
   "cell_type": "markdown",
   "metadata": {},
   "source": [
    "**Paso 3.** Opcional. Identifique si hay partes de la ecuación que pueda agrupar o distirbuir con operaciones simples, como multiplicación y expréselas por separado.\n",
    "\n",
    "En este caso\n",
    "\\begin{eqnarray}\n",
    "E^{prueba} &=& \\int_{0}^{r=\\infty} \\int_{0}^{\\theta=\\pi} \\int_{0}^{\\phi=2\\pi} r^2 sin \\theta \\left( {\\psi^{prueba}}^* \\hat{H} \\psi^{prueba} \\right) dr d\\theta d\\phi\\\\\n",
    "&=& \\int_{0}^{r=\\infty} \\int_{0}^{\\theta=\\pi} \\int_{0}^{\\phi=2\\pi} r^2 sin \\theta \\left( {\\psi^{prueba}}^* \\left( -\\frac{1}{2} \\left( \\frac{1}{r^2}\\frac{d}{dr}r^2\\frac{d}{dr} \\right)-\\frac{1}{r} \\right) \\psi^{prueba} \\right) dr d\\theta d\\phi\\\\\n",
    "&=& 4\\pi \\int_{0}^{r=\\infty} r^2 \\left( {\\psi^{prueba}}^* \\left( \\color{red}{ -\\frac{1}{2}  \\frac{1}{r^2}\\frac{d}{dr}r^2\\frac{d}{dr} \\psi^{prueba}} \\color{blue}{-\\frac{1 }{r}\\psi^{prueba}} \\right)  \\right) dr \\\\\n",
    "\\end{eqnarray}\n",
    "\n",
    "A la parte en $\\color{red}{rojo}$ le llamaremos A, y a la parte en $\\color{blue}{azul}$ le llamaremos B."
   ]
  },
  {
   "cell_type": "code",
   "execution_count": 19,
   "metadata": {
    "execution": {
     "iopub.execute_input": "2020-09-05T00:42:39.865627Z",
     "iopub.status.busy": "2020-09-05T00:42:39.864780Z",
     "iopub.status.idle": "2020-09-05T00:42:39.866931Z",
     "shell.execute_reply": "2020-09-05T00:42:39.867488Z"
    }
   },
   "outputs": [],
   "source": [
    "# Primera parte (en rojo)\n",
    "d_psi=sym.diff(psi,r)\n",
    "dd_psi=sym.diff(r**2*d_psi,r)\n",
    "A=(-sym.S(1)/2)*(1/r**2)*dd_psi\n",
    "\n",
    "# Primera parte (en azul)\n",
    "B=-(1/r)*psi"
   ]
  },
  {
   "cell_type": "markdown",
   "metadata": {},
   "source": [
    "**Paso 4.** Exprese la función a integrar y haga la integral con $sp.integrate()$"
   ]
  },
  {
   "cell_type": "code",
   "execution_count": 20,
   "metadata": {
    "execution": {
     "iopub.execute_input": "2020-09-05T00:42:39.941381Z",
     "iopub.status.busy": "2020-09-05T00:42:39.905595Z",
     "iopub.status.idle": "2020-09-05T00:42:39.984221Z",
     "shell.execute_reply": "2020-09-05T00:42:39.984636Z"
    }
   },
   "outputs": [
    {
     "name": "stdout",
     "output_type": "stream",
     "text": [
      "  2⋅√2⋅√α   3⋅α\n",
      "- ─────── + ───\n",
      "     √π      2 \n"
     ]
    }
   ],
   "source": [
    "f=r**2*psi*(A+B)\n",
    "E=sym.integrate(4*sym.pi*f,(r,0,sym.oo))\n",
    "sym.pprint(E)"
   ]
  },
  {
   "cell_type": "markdown",
   "metadata": {},
   "source": [
    "## Referencias"
   ]
  },
  {
   "cell_type": "markdown",
   "metadata": {},
   "source": [
    "Página oficial de sympy\n",
    "www.sympy.org"
   ]
  }
 ],
 "metadata": {
  "kernelspec": {
   "display_name": "Python 3",
   "language": "python",
   "name": "python3"
  },
  "language_info": {
   "codemirror_mode": {
    "name": "ipython",
    "version": 3
   },
   "file_extension": ".py",
   "mimetype": "text/x-python",
   "name": "python",
   "nbconvert_exporter": "python",
   "pygments_lexer": "ipython3",
   "version": "3.7.7"
  }
 },
 "nbformat": 4,
 "nbformat_minor": 2
}