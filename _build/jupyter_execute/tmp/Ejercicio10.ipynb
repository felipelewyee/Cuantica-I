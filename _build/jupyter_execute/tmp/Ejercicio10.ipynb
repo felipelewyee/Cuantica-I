{
 "cells": [
  {
   "cell_type": "markdown",
   "metadata": {},
   "source": [
    "# Ejercicio 10"
   ]
  },
  {
   "cell_type": "markdown",
   "metadata": {},
   "source": [
    "## Catenaria: Un problema de cálculo de variaciones"
   ]
  },
  {
   "cell_type": "markdown",
   "metadata": {},
   "source": [
    "Considere una cadena que cuelga de los puntos (-a,0) y (a,0), utilizaremos el cálculo de variaciones para obtener la función de mínima energía que describe a la cadena en un campo gravitacional constante."
   ]
  },
  {
   "cell_type": "markdown",
   "metadata": {},
   "source": [
    "### Energía de la cadena"
   ]
  },
  {
   "cell_type": "markdown",
   "metadata": {},
   "source": [
    "Si la cadena tiene una longitud de $2L$ y una masa de $M$, la masa de un segmento $ds$ de la cadena está dada por\n",
    "\\begin{equation}\n",
    "dm = \\frac{M}{2L} ds\n",
    "\\end{equation}\n",
    "y la energía de una porción de la cadena está dada por\n",
    "\\begin{equation}\n",
    "dU = gydm\n",
    "\\end{equation}\n",
    "Sustituyendo\n",
    "\\begin{equation}\n",
    "dU = gy \\frac{M}{2L} ds = gy \\frac{M}{2L} \\sqrt{(dx)^2 + (dy)^2} = gy \\frac{M}{2L} \\sqrt{1 + (y_x)^2} dx\n",
    "\\end{equation}\n",
    "Por tanto, la energía está dada por\n",
    "\\begin{equation}\n",
    "U = \\int_{-a}^a gy \\frac{M}{2L} \\sqrt{1 + (y_x)^2} dx\n",
    "\\end{equation}"
   ]
  },
  {
   "cell_type": "markdown",
   "metadata": {},
   "source": [
    "### Longitud de la cadena"
   ]
  },
  {
   "cell_type": "markdown",
   "metadata": {},
   "source": [
    "El segmento de la cadena debe ser la longitud total\n",
    "\\begin{equation}\n",
    "\\int_{-a}^a ds = \\int_{-a}^a \\sqrt{1 + (y_x)^2} dx = 2L\n",
    "\\end{equation}\n",
    "Esto es equivalente a\n",
    "\\begin{equation}\n",
    "\\int_{-a}^a \\left( \\sqrt{1 + (y_x)^2} - \\frac{L}{a} \\right) dx = 0\n",
    "\\end{equation}"
   ]
  },
  {
   "cell_type": "markdown",
   "metadata": {},
   "source": [
    "### Multiplicador de Lagrange"
   ]
  },
  {
   "cell_type": "markdown",
   "metadata": {},
   "source": [
    "A la función de energía se le puede agregar la restricción de la longitud\n",
    "\\begin{equation}\n",
    "U = \\int_{-a}^a gy \\frac{M}{2L} \\sqrt{1 + (y_x)^2} dx + \\lambda \\int_{-a}^a \\left( \\sqrt{1 + (y_x)^2} - \\frac{L}{a} \\right) dx\n",
    "\\end{equation}\n",
    "donde $\\lambda$ es un multiplicador indeterminado de Lagrange, nótese que formalente solo le hemos agregado un cero a la energía $U$.\n",
    "\n",
    "Otra forma de escribir $U$ es\n",
    "\\begin{equation}\n",
    "U = g \\frac{M}{2L} \\int_{-a}^a \\left[ y \\sqrt{1 + (y_x)^2} + \\lambda' \\left( \\sqrt{1 + (y_x)^2} - \\frac{L}{a} \\right) \\right ] dx = g \\frac{M}{2L} \\int_{-a}^a f dx\n",
    "\\end{equation}\n",
    "con\n",
    "\\begin{equation}\n",
    "f = y \\sqrt{1 + (y_x)^2} + \\lambda' \\left( \\sqrt{1 + (y_x)^2} - \\frac{L}{a} \\right)\n",
    "\\end{equation}\n"
   ]
  },
  {
   "cell_type": "markdown",
   "metadata": {},
   "source": [
    "### Ecuación de Euler"
   ]
  },
  {
   "cell_type": "markdown",
   "metadata": {},
   "source": [
    "La ecuación de Euler junto con la identidad de Beltrami permite obtener \n",
    "\\begin{equation}\n",
    "f - y_x \\frac{\\partial f}{\\partial y_x} = C\n",
    "\\end{equation}\n",
    "\n",
    "que al sustituir el valor de f resulta\n",
    "\\begin{equation}\n",
    "y\\sqrt{1+(y_x)^2} + \\lambda'\\left( \\sqrt{1 + (y_x)^2} - \\frac{L}{a} \\right) - y_x \\left( \\frac{yy_x}{\\sqrt{1+(y_x)^2}} + \\lambda' \\frac{y}{\\sqrt{1+(y_x)^2}} \\right) = C\n",
    "\\end{equation}\n",
    "\n",
    "al despejar $y_x$\n",
    "\\begin{equation}\n",
    "\\frac{dy}{dx} = y_x = \\sqrt{\\left( \\frac{a(y+\\lambda')}{L\\lambda' + aC} \\right)^2 - 1} = \\sqrt{\\left( \\frac{y+D}{k} \\right)^2 - 1} \n",
    "\\end{equation}\n",
    "\n",
    "Al poner $x$ en función de $y$\n",
    "\\begin{equation}\n",
    "dx = \\frac{k}{\\sqrt{\\left( y+D \\right)^2 - k^2 }} dy\n",
    "\\end{equation}\n",
    "\n",
    "Finalmente, integramos\n",
    "\\begin{equation}\n",
    "x = k arccosh \\left(\\frac{y+D}{k} \\right) + F\n",
    "\\end{equation}\n",
    "\n",
    "Despejamos $y$ en función de $x$\n",
    "\\begin{equation}\n",
    "y = k cosh \\left(\\frac{x-F}{k} \\right) - D\n",
    "\\end{equation}"
   ]
  },
  {
   "cell_type": "markdown",
   "metadata": {},
   "source": [
    "### Condiciones de frontera"
   ]
  },
  {
   "cell_type": "markdown",
   "metadata": {},
   "source": [
    "#### De donde se sostiene la cadena"
   ]
  },
  {
   "cell_type": "markdown",
   "metadata": {},
   "source": [
    "Se debe cumplir $y(-a) = 0$\n",
    "\\begin{equation}\n",
    "y(-a) = kcosh \\left(\\frac{-a-F}{k}\\right)- D = kcosh \\left(\\frac{a+F}{k}\\right)- D = 0\n",
    "\\end{equation}\n",
    "\n",
    "Se debe cumplir $y(a) = 0$\n",
    "\\begin{equation}\n",
    "y(a) = kcosh \\left(\\frac{a-F}{k}\\right)- D = 0\n",
    "\\end{equation}\n",
    "\n",
    "Por tanto\n",
    "\\begin{equation}\n",
    "kcosh \\left(\\frac{a+F}{k}\\right)- D = kcosh \\left(\\frac{a-F}{k}\\right)- D\n",
    "\\end{equation}\n",
    "\n",
    "Lo que solo se cumple si $F = 0$. Sustituyendo en $y(a)$\n",
    "\\begin{equation}\n",
    "D = kcosh \\left(\\frac{a}{k}\\right)\n",
    "\\end{equation}"
   ]
  },
  {
   "cell_type": "markdown",
   "metadata": {},
   "source": [
    "#### De la longitud de la cadena"
   ]
  },
  {
   "cell_type": "markdown",
   "metadata": {},
   "source": [
    "Ya podemos sustituir la forma de $y$ para ajustarla a la longitud de la cadena\n",
    "\n",
    "\\begin{equation}\n",
    "2L = \\int_{-a}^a \\sqrt{1 + (y_x)^2} dx = \\int_{-a}^a \\sqrt{1 + sinh^2 \\left(\\frac{x}{k} \\right)} dx = 2k sinh\\left(\\frac{a}{k}\\right)\n",
    "\\end{equation}\n",
    "\n",
    "Finalmente\n",
    "\\begin{equation}\n",
    "k sinh\\left(\\frac{a}{k} \\right) = L\n",
    "\\end{equation}"
   ]
  },
  {
   "cell_type": "markdown",
   "metadata": {},
   "source": [
    "## Gráfica"
   ]
  },
  {
   "cell_type": "markdown",
   "metadata": {},
   "source": [
    "La forma de la cadena está dada por\n",
    "\\begin{equation}\n",
    "y = k cosh \\left(\\frac{x}{k} \\right) - D\n",
    "\\end{equation}\n",
    "con\n",
    "\\begin{equation}\n",
    "D = kcosh \\left(\\frac{a}{k}\\right)\n",
    "\\end{equation}\n",
    "\\begin{equation}\n",
    "k sinh\\left(\\frac{a}{k} \\right) = L\n",
    "\\end{equation}\n",
    "donde la constante $D$ y $k$ se determinan únicamente por la longitud $L$ y los puntos $-a$ y $a$."
   ]
  },
  {
   "cell_type": "markdown",
   "metadata": {},
   "source": [
    "Damos un valor a las constantes $a$ y $L$. "
   ]
  },
  {
   "cell_type": "code",
   "execution_count": 1,
   "metadata": {
    "execution": {
     "iopub.execute_input": "2020-08-28T05:50:40.345976Z",
     "iopub.status.busy": "2020-08-28T05:50:40.345249Z",
     "iopub.status.idle": "2020-08-28T05:50:40.347810Z",
     "shell.execute_reply": "2020-08-28T05:50:40.348399Z"
    }
   },
   "outputs": [],
   "source": [
    "a = 10\n",
    "L = 20"
   ]
  },
  {
   "cell_type": "markdown",
   "metadata": {},
   "source": [
    "Importamos librerías."
   ]
  },
  {
   "cell_type": "code",
   "execution_count": 2,
   "metadata": {
    "execution": {
     "iopub.execute_input": "2020-08-28T05:50:40.353128Z",
     "iopub.status.busy": "2020-08-28T05:50:40.352357Z",
     "iopub.status.idle": "2020-08-28T05:50:40.709146Z",
     "shell.execute_reply": "2020-08-28T05:50:40.709578Z"
    }
   },
   "outputs": [],
   "source": [
    "import numpy as np\n",
    "from scipy.optimize import brentq\n",
    "import matplotlib.pyplot as plt"
   ]
  },
  {
   "cell_type": "markdown",
   "metadata": {},
   "source": [
    "Definimos la función:\n",
    "\\begin{equation}\n",
    "f(k) = k sinh \\left(\\frac{a}{k} \\right) - L\n",
    "\\end{equation}\n",
    "El valor adecuado de $k$ es una raíz de $f(k)$, es decir\n",
    "\\begin{equation}\n",
    "f(k) = 0\n",
    "\\end{equation}"
   ]
  },
  {
   "cell_type": "code",
   "execution_count": 3,
   "metadata": {
    "execution": {
     "iopub.execute_input": "2020-08-28T05:50:40.713097Z",
     "iopub.status.busy": "2020-08-28T05:50:40.712575Z",
     "iopub.status.idle": "2020-08-28T05:50:40.714604Z",
     "shell.execute_reply": "2020-08-28T05:50:40.714990Z"
    }
   },
   "outputs": [],
   "source": [
    "def f(k):\n",
    "    return k*np.sinh(a/k) - L"
   ]
  },
  {
   "cell_type": "markdown",
   "metadata": {},
   "source": [
    "Buscamos la raíz de la función f(k)."
   ]
  },
  {
   "cell_type": "code",
   "execution_count": 4,
   "metadata": {
    "execution": {
     "iopub.execute_input": "2020-08-28T05:50:40.719021Z",
     "iopub.status.busy": "2020-08-28T05:50:40.718380Z",
     "iopub.status.idle": "2020-08-28T05:50:40.720920Z",
     "shell.execute_reply": "2020-08-28T05:50:40.721315Z"
    }
   },
   "outputs": [
    {
     "name": "stdout",
     "output_type": "stream",
     "text": [
      "4.592804301552232\n"
     ]
    }
   ],
   "source": [
    "k = brentq(f, 0.02, 100)\n",
    "print(k)"
   ]
  },
  {
   "cell_type": "markdown",
   "metadata": {},
   "source": [
    "Generamos la función"
   ]
  },
  {
   "cell_type": "code",
   "execution_count": 5,
   "metadata": {
    "execution": {
     "iopub.execute_input": "2020-08-28T05:50:40.724856Z",
     "iopub.status.busy": "2020-08-28T05:50:40.724347Z",
     "iopub.status.idle": "2020-08-28T05:50:40.726288Z",
     "shell.execute_reply": "2020-08-28T05:50:40.726684Z"
    }
   },
   "outputs": [],
   "source": [
    "def D(k):\n",
    "    return k*np.cosh(a/k)\n",
    "\n",
    "def y(x):\n",
    "    return k*np.cosh(x/k) - D(k)"
   ]
  },
  {
   "cell_type": "markdown",
   "metadata": {},
   "source": [
    "Se realiza la gráfica"
   ]
  },
  {
   "cell_type": "code",
   "execution_count": 6,
   "metadata": {
    "execution": {
     "iopub.execute_input": "2020-08-28T05:50:40.745427Z",
     "iopub.status.busy": "2020-08-28T05:50:40.744881Z",
     "iopub.status.idle": "2020-08-28T05:50:40.924967Z",
     "shell.execute_reply": "2020-08-28T05:50:40.924497Z"
    }
   },
   "outputs": [
    {
     "data": {
      "text/plain": [
       "(-40.0, 10.0)"
      ]
     },
     "execution_count": 6,
     "metadata": {},
     "output_type": "execute_result"
    },
    {
     "data": {
      "image/png": "[encoded data removed]",
      "text/plain": [
       "<Figure size 432x288 with 1 Axes>"
      ]
     },
     "metadata": {
      "filenames": {
       "image/png": "/home/jfhlewyee/Cuantica-I/_build/jupyter_execute/tmp/Ejercicio10_29_1.png"
      },
      "needs_background": "light"
     },
     "output_type": "display_data"
    }
   ],
   "source": [
    "x = np.linspace(-a,a,100)\n",
    "plt.scatter(-a,0)\n",
    "plt.scatter(a,0)\n",
    "plt.plot(x,y(x))\n",
    "plt.ylim(-40,10)"
   ]
  },
  {
   "cell_type": "markdown",
   "metadata": {},
   "source": [
    "## Referencias"
   ]
  },
  {
   "cell_type": "markdown",
   "metadata": {},
   "source": [
    "- George, A. H. W. and F. H. Mathematical Methods for Physicist Seventh Edition; 2013, pp. 1081-1092. \n",
    "- Equilibrium Shape of a Rope Hanging from Two Endpoints http://semmat.dmf.unicatt.it/~paolini/divulgazione/mateott/catenaria/catenary/catenary.htm?fbclid=IwAR2VWhmP33C48hPv0GgizjbyP4t94EAKuStE_gJjoKKGtYNmE6YMGhlU8ig (accessed Feb 10, 2020).    "
   ]
  },
  {
   "cell_type": "markdown",
   "metadata": {},
   "source": [
    "## Autores"
   ]
  },
  {
   "cell_type": "markdown",
   "metadata": {},
   "source": [
    "Hecho por Juan Felipe Huan Lew Yee y Jorge Martín del Campo Ramírez para la clase de Química Cuántica I del ciclo 2019-I. Universidad Nacional Autónoma de México.\n",
    "\n",
    "Este archivo puede distribuise libremente y ser considerado Open Source. Si deseas modificarlo para su distribución, solo se pide conservar el nombre de los autores originales."
   ]
  }
 ],
 "metadata": {
  "kernelspec": {
   "display_name": "Python 3",
   "language": "python",
   "name": "python3"
  },
  "language_info": {
   "codemirror_mode": {
    "name": "ipython",
    "version": 3
   },
   "file_extension": ".py",
   "mimetype": "text/x-python",
   "name": "python",
   "nbconvert_exporter": "python",
   "pygments_lexer": "ipython3",
   "version": "3.8.5"
  }
 },
 "nbformat": 4,
 "nbformat_minor": 4
}