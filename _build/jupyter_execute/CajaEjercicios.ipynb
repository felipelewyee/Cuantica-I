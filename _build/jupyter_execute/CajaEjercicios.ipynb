{
 "cells": [
  {
   "cell_type": "markdown",
   "id": "62226541",
   "metadata": {},
   "source": [
    "# Ejercicios partícula en una caja"
   ]
  },
  {
   "cell_type": "code",
   "execution_count": 1,
   "id": "425df77a",
   "metadata": {
    "tags": [
     "remove-cell"
    ]
   },
   "outputs": [],
   "source": [
    "from OptMultiple import MultipleChoice"
   ]
  },
  {
   "cell_type": "code",
   "execution_count": 2,
   "id": "d8dff3a0",
   "metadata": {
    "tags": [
     "remove-input"
    ]
   },
   "outputs": [
    {
     "data": {
      "text/html": [
       "<div class=\"note admonition\"><p class=\"admonition-title\">Cuestionamiento</p><p><span class=\"math notranslate nohighlight\">La energía del estado base de una partícula en una caja es cero.</span></p><form><input type=\"radio\" name=\"answer\" value=\"Falso\"><span class=\"math notranslate nohighlight\">Falso</span><br><input type=\"radio\" name=\"answer\" value=\"Cierto\"><span class=\"math notranslate nohighlight\">Cierto</span><br></form>\n",
       "<details class=\"toggle-details\">\n",
       "<summary class=\"toggle-details__summary\">\n",
       "<svg xmlns=\"http://www.w3.org/2000/svg\" class=\"tb-icon toggle-chevron-right\" width=\"44\" height=\"44\" viewBox=\"0 0 24 24\" stroke-width=\"1.5\" stroke=\"#000000\" fill=\"none\" stroke-linecap=\"round\" stroke-linejoin=\"round\">\n",
       "<path stroke=\"none\" d=\"M0 0h24v24H0z\" fill=\"none\"></path>\n",
       "<polyline points=\"9 6 15 12 9 18\"></polyline>\n",
       "</svg>\n",
       "<span class=\"toggle-details__summary-text\">Mostrar respuesta</span>\n",
       "</summary>\n",
       "<div class=\"cell_output docutils container\">\n",
       "<div><span class=\"math notranslate nohighlight\">La respuesta correcta es: <br><b>Falso</b><br><span class=\"math notranslate nohighlight\">Dado que si E=0 entonces ψ=0 y dicha solución no cumple que su cuadrado sea una densidad de probabilidad.</span></span></div>\n",
       "</div></details>\n",
       "</div)"
      ],
      "text/plain": [
       "<OptMultiple.MultipleChoice at 0x7f4a387236d8>"
      ]
     },
     "execution_count": 2,
     "metadata": {},
     "output_type": "execute_result"
    }
   ],
   "source": [
    "question = \"La energía del estado base de una partícula en una caja es cero.\"\n",
    "answers = [\n",
    "    \"Falso\",\n",
    "    \"Cierto\"\n",
    "]\n",
    "explanation = (\n",
    "    \"Dado que si E=0 entonces ψ=0\"\n",
    "    \" y dicha solución no cumple que su cuadrado sea una densidad de probabilidad.\"\n",
    ")\n",
    "MultipleChoice(\n",
    "    question, answers, correct_answer=0, explanation=explanation\n",
    ")"
   ]
  },
  {
   "cell_type": "code",
   "execution_count": null,
   "id": "f3399fd1",
   "metadata": {},
   "outputs": [],
   "source": []
  }
 ],
 "metadata": {
  "celltoolbar": "Tags",
  "kernelspec": {
   "display_name": "Python 3 (ipykernel)",
   "language": "python",
   "name": "python3"
  },
  "language_info": {
   "codemirror_mode": {
    "name": "ipython",
    "version": 3
   },
   "file_extension": ".py",
   "mimetype": "text/x-python",
   "name": "python",
   "nbconvert_exporter": "python",
   "pygments_lexer": "ipython3",
   "version": "3.7.0"
  }
 },
 "nbformat": 4,
 "nbformat_minor": 5
}