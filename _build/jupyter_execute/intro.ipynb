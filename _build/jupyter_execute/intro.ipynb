{
 "cells": [
  {
   "cell_type": "markdown",
   "metadata": {},
   "source": [
    "# La Química Cuántica a tu alcance"
   ]
  },
  {
   "cell_type": "markdown",
   "metadata": {},
   "source": [
    "El presente libro digital tiene como objetivo ser un manual de prácticas para la asignatura de [`Química Cuántica I (clave 1404)`](https://quimica.unam.mx/wp-content/uploads/2017/03/1404qcuanticauno.pdf) de la Facultad de Química (UNAM). La última sección puede considerarse una parte avanzada disponible de manera opcional para quien desee aprender más, y puede ser de utilidad para la asignatura de [`Química Cuántica II (clave 0038)`](https://quimica.unam.mx/wp-content/uploads/2017/06/0038qcuanticados_Q.pdf). El libro digital es un esfuerzo compartido de Juan Felipe Huan Lew Yee, Eduardo Barrios Vargas y Jorge Marín del Campo Ramírez, en conjunto con los profesores del Departamento de Física y Química Teórica. Toda retroalimentación es bienvenida, y se le invita a compartirla a los correos:\n",
    "\n",
    "M. en C. Juan Felipe Huan Lew Yee: [felipe.lew.yee@gmail.com](mailto:felipe.lew.yee@gmail.com)\n",
    "\n",
    "Dr. Jorge Martín del Campo Ramirez: [jormacara@gmail.com](mailto:jormacara@gmail.com)\n",
    "\n",
    "Dr. José Eduardo Barrios Vargas: [j.e.barrios@gmail.com](mailto:j.e.barrios@gmail.com)\n",
    "\n",
    "Se ha buscado reducir lo más posible los antecedentes matemáticos requeridos, por lo que en la mayoría de los ejercicios se plantea el problema y se pasa directamente a la solución sin realizar el desarrollo. Se asume que las ecuaciones han sido previamente revisadas en clase, sin embargo, en muchos notebooks pueden encontrarse partes clave del desarrollo matemático ocultas en una celda como la siguiente\n",
    "```{admonition} Inserto matemático: Celda con contenido matemático oculto\n",
    ":class: dropdown\n",
    "\n",
    "La lectura de este apartado matemático oculto es opcional si ya se conoce la deducción previa de las ecuaciones, pero aquí está por si alguien lo necesita. Aquí van algunas funciones trigonométricas\n",
    "\n",
    "$$\n",
    "y = sin(x)\n",
    "$$\n",
    "\n",
    "$$\n",
    "y = cos(x)\n",
    "$$\n",
    "\n",
    "$$\n",
    "y = tan(x) = \\frac{sin(x)}{cos(x)}\n",
    "$$\n",
    "```"
   ]
  },
  {
   "cell_type": "markdown",
   "metadata": {},
   "source": [
    "Para los alumnos del curso de `Química Cuántca I` se recomienda la lectura en el orden de los capítulos, el cual puede seguirse utilizando la barra de navegación que aparece del lado izquierdo en computadoras, o con el menú emergente en dispositivos móviles. Este libro permite interactuar con el contenido, para lo cual se recomienda alguna de las dos opciones siguientes:\n",
    "\n",
    "````{admonition} Ejecución de los notebooks (en línea)\n",
    ":class: tip\n",
    "Los notebooks pueden ejecutarse en línea desde **Google Colab** al presionar el ícono de la nave y dar clic sobre Colab, este ícono aparece en la parte superior de cada notebook. Los archivos generados en Google Colab se guardan automáticamente en su Google Drive. El único requisito este tener una cuenta asociada a **Google**.\n",
    "\n",
    "![Google Colab example button](images/google_colab.png)\n",
    "````\n",
    "\n",
    "````{admonition} Ejecución de los notebooks (en computadora)\n",
    ":class: tip\n",
    "Puede descargar los *.ipynb y ejecutarlos directamente en su computadora dando click sobre el botón con la flecha apuntando hacia abajo. Para ejecutarlos localmente es su computadora se requiere una instalación previa de Python. En caso de no tenerla puede instalar [Anaconda](https://www.anaconda.com/products/individual). Una vez descargado puede interactuar con el notebook utilizando Jupyter Notebook.\n",
    "\n",
    "En caso de tener una instalación local de Anaconda en Linux verifique que tenga instaladas las librerías utilizadas en los notebooks. Dichas librerías las puede instalar desde la terminal utilizando las siguientes líneas:\n",
    "```\n",
    "conda install matplotlib numpy scipy sympy \n",
    "```\n",
    "Después, puede ejecutar un notebook con Jupyter\n",
    "```\n",
    "jupyter notebook NOMBRE.ipynb\n",
    "```\n",
    "\n",
    "Algunos ejercicios utilizan el software psi4, este se puede instalar desde Anaconda con\n",
    "```\n",
    "conda install psi4 psi4-rt python=3.7 -c psi4\n",
    "```\n",
    "````\n",
    "\n",
    "Los ejercicios de este libro requieren un conocimiento básico de Python, mismo que puede adquirirse en el primer capítulo del libro. "
   ]
  },
  {
   "cell_type": "markdown",
   "metadata": {},
   "source": [
    "## Uso del manual"
   ]
  },
  {
   "cell_type": "markdown",
   "metadata": {},
   "source": [
    "A lo largo de los ejercicios encontrará celdas con el código correspondiente, y celdas vacías con una nota para indicar que debe ser llenada siguiendo alguna instrucción, **como la siguiente**"
   ]
  },
  {
   "cell_type": "code",
   "execution_count": 1,
   "metadata": {},
   "outputs": [],
   "source": [
    "# Llene la siguiente celda con su código"
   ]
  },
  {
   "cell_type": "markdown",
   "metadata": {},
   "source": [
    "La primera vez que se presente una instrucción se mostrará directamente para copiar y pegar en la celda, por ejemplo, el siguiente código muestra como realizar una impresión\n",
    "```\n",
    "print(\"Bienvenidos al manual de Química Cuántica I\")\n",
    "```"
   ]
  },
  {
   "cell_type": "markdown",
   "metadata": {},
   "source": [
    "Posteriormente, cuando se solicite realizar algo usando código ya presentado, se mostrará la respuesta oculta para permitir que se intente resolver el ejercicio en la celda vacía por cuenta propia. Para revelar la respuesta hay que presionar en el botón con el símbolo + como en la siguiente celda"
   ]
  },
  {
   "cell_type": "code",
   "execution_count": 2,
   "metadata": {
    "tags": [
     "hide-cell"
    ]
   },
   "outputs": [
    {
     "name": "stdout",
     "output_type": "stream",
     "text": [
      "Bienvenidos al manual de Química Cuántica I\n"
     ]
    }
   ],
   "source": [
    "print(\"Bienvenidos al manual de Química Cuántica I\")"
   ]
  },
  {
   "cell_type": "markdown",
   "metadata": {},
   "source": [
    "\n",
    "```{toctree}\n",
    ":hidden:\n",
    ":titlesonly:\n",
    ":numbered: \n",
    ":caption: Python\n",
    "\n",
    "Tutorial-Basico\n",
    "Tutorial-Avanzado\n",
    "```\n",
    "\n",
    "\n",
    "```{toctree}\n",
    ":hidden:\n",
    ":titlesonly:\n",
    ":numbered: \n",
    ":caption: Sistemas Sencillos\n",
    "\n",
    "Caja\n",
    "CajaConTope\n",
    "Anillo_Esfera_Rotor\n",
    "Oscilador\n",
    "```\n",
    "\n",
    "\n",
    "```{toctree}\n",
    ":hidden:\n",
    ":titlesonly:\n",
    ":numbered: \n",
    ":caption: Átomo de Hidrógeno\n",
    "\n",
    "Radial\n",
    "Orbitales\n",
    "```\n",
    "\n",
    "\n",
    "```{toctree}\n",
    ":hidden:\n",
    ":titlesonly:\n",
    ":numbered: \n",
    ":caption: Métodos Aproximados\n",
    "\n",
    "Variacional_Lineal\n",
    "PerturbacionesSinDegeneracion\n",
    "```\n",
    "\n",
    "\n",
    "```{toctree}\n",
    ":hidden:\n",
    ":titlesonly:\n",
    ":numbered: \n",
    ":caption: Sistemas de Muchos Electrones\n",
    "\n",
    "Software\n",
    "Hartree-Fock\n",
    "Moller-Plesset\n",
    "DFT\n",
    "Dimerizacion\n",
    "```\n",
    "\n",
    "\n",
    "```{toctree}\n",
    ":hidden:\n",
    ":titlesonly:\n",
    ":numbered: \n",
    ":caption: Matemáticas\n",
    "\n",
    "matematicas1\n",
    "matematicas2\n",
    "```\n"
   ]
  }
 ],
 "metadata": {
  "celltoolbar": "Tags",
  "kernelspec": {
   "display_name": "Python 3",
   "language": "python",
   "name": "python3"
  },
  "language_info": {
   "codemirror_mode": {
    "name": "ipython",
    "version": 3
   },
   "file_extension": ".py",
   "mimetype": "text/x-python",
   "name": "python",
   "nbconvert_exporter": "python",
   "pygments_lexer": "ipython3",
   "version": "3.7.9"
  }
 },
 "nbformat": 4,
 "nbformat_minor": 4
}