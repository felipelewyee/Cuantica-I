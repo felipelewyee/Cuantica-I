{
 "cells": [
  {
   "cell_type": "markdown",
   "metadata": {},
   "source": [
    "# Ejercicio 9."
   ]
  },
  {
   "cell_type": "markdown",
   "metadata": {},
   "source": [
    "El $N_2O_4$ es un compuesto que se encuentra en la atmósfera. Con los cambios de temperatura se descompone en el radical $NO_2$ mediante la reacción:\n",
    "\n",
    "$N_2O_4 <=> 2NO_2$\n",
    "\n",
    "Las geometrías de $N_2O_4$ y $NO_2$ se dan a continuación:\n",
    "\n",
    "Molécula: $N_2O_4$ Carga: 0 Multiplicidad: 1\n",
    "\n",
    "|Átomo |x (Å)  |y (Å)  |z (Å) |\n",
    "|------|-------|-------|------|\n",
    "|N     |0.0000 |0.0000 |0.0000|\n",
    "|N     |-1.7820|0.0000 |0.0000|\n",
    "|O     |0.4516 |1.1010 |0.0000|\n",
    "|O     |0.4516 |-1.1010|0.0000|\n",
    "|O     |-2.2336|1.1010 |0.0000|\n",
    "|O     |-2.2336|-1.1010|0.0000|\n",
    "\n",
    "Molécula: $NO_2$ Carga: 0 Multiplicidad: 2\n",
    "\n",
    "|Átomo |x (Å)  |y (Å)  |z (Å) |\n",
    "|------|-------|-------|------|\n",
    "|N     | 0.0000| 0.0000|0.0000|\n",
    "|O     | 0.0000| 1.0989|0.4653|\n",
    "|O     | 0.0000|-1.0989|0.4653|\n"
   ]
  },
  {
   "cell_type": "markdown",
   "metadata": {},
   "source": [
    "**Pregunta 1.** Calule la energía de la molécula de $N_2O_4$ con HF y la base aug-cc-pvdz. "
   ]
  },
  {
   "cell_type": "code",
   "execution_count": 1,
   "metadata": {},
   "outputs": [
    {
     "ename": "ModuleNotFoundError",
     "evalue": "No module named 'psi4'",
     "output_type": "error",
     "traceback": [
      "\u001b[0;31m---------------------------------------------------------------------------\u001b[0m",
      "\u001b[0;31mModuleNotFoundError\u001b[0m                       Traceback (most recent call last)",
      "\u001b[0;32m<ipython-input-1-1e671bb0dca4>\u001b[0m in \u001b[0;36m<module>\u001b[0;34m\u001b[0m\n\u001b[0;32m----> 1\u001b[0;31m \u001b[0;32mimport\u001b[0m \u001b[0mpsi4\u001b[0m\u001b[0;34m\u001b[0m\u001b[0;34m\u001b[0m\u001b[0m\n\u001b[0m\u001b[1;32m      2\u001b[0m \u001b[0mpsi4\u001b[0m\u001b[0;34m.\u001b[0m\u001b[0mset_memory\u001b[0m\u001b[0;34m(\u001b[0m\u001b[0;34m\"2 gb\"\u001b[0m\u001b[0;34m)\u001b[0m\u001b[0;34m\u001b[0m\u001b[0;34m\u001b[0m\u001b[0m\n\u001b[1;32m      3\u001b[0m psi4.geometry(\"\"\"\n\u001b[1;32m      4\u001b[0m \u001b[0;36m0\u001b[0m \u001b[0;36m1\u001b[0m\u001b[0;34m\u001b[0m\u001b[0;34m\u001b[0m\u001b[0m\n\u001b[1;32m      5\u001b[0m    \u001b[0mN\u001b[0m       \u001b[0;34m-\u001b[0m\u001b[0;36m4.84638\u001b[0m        \u001b[0;36m1.76109\u001b[0m        \u001b[0;36m0.00000\u001b[0m\u001b[0;34m\u001b[0m\u001b[0;34m\u001b[0m\u001b[0m\n",
      "\u001b[0;31mModuleNotFoundError\u001b[0m: No module named 'psi4'"
     ]
    }
   ],
   "source": [
    "import psi4\n",
    "psi4.set_memory(\"2 gb\")\n",
    "psi4.geometry(\"\"\"\n",
    "0 1\n",
    "   N       -4.84638        1.76109        0.00000\n",
    "   N       -3.46888        1.78415        0.00000\n",
    "   O       -2.82385        2.93169       -0.00000\n",
    "   O       -2.85055        0.76276        0.00000\n",
    "   O       -5.46471        2.78248        0.00000\n",
    "   O       -5.49141        0.61355        0.00000\n",
    "\"\"\")\n",
    "n2o4,wfn=psi4.opt(\"HF/aug-cc-pvdz\", return_wfn=True)\n",
    "print(n2o4)"
   ]
  },
  {
   "cell_type": "markdown",
   "metadata": {},
   "source": [
    "**Pregunta 2.** Calule la energía de la molécula de $NO_2$ con HF y la base aug-cc-pvdz. [Complete donde haga falta - Reemplace las X]"
   ]
  },
  {
   "cell_type": "code",
   "execution_count": 2,
   "metadata": {},
   "outputs": [
    {
     "name": "stdout",
     "output_type": "stream",
     "text": [
      "Optimizer: Optimization complete!\n",
      "-204.0480358908478\n"
     ]
    }
   ],
   "source": [
    "import psi4\n",
    "NO2 = psi4.geometry(\"\"\"\n",
    "0 2\n",
    "   N        XXXXXXX        XXXXXXX        XXXXXXX\n",
    "   O        XXXXXXX        XXXXXXX        XXXXXXX\n",
    "   O        XXXXXXX        XXXXXXX        XXXXXXX\n",
    "units angstrom\n",
    "\"\"\")\n",
    "psi4.set_options({'reference': 'uhf'})\n",
    "no2=psi4.optimize(\"XX/XXX-XX-XXXX\")\n",
    "print(no2)"
   ]
  },
  {
   "cell_type": "markdown",
   "metadata": {},
   "source": [
    "**Pregunta a.** Calcule el $\\Delta U$ de la reacción $N_2O_4 <=> 2NO_2$ según HF."
   ]
  },
  {
   "cell_type": "code",
   "execution_count": 3,
   "metadata": {},
   "outputs": [
    {
     "data": {
      "text/plain": [
       "50.15571407130565"
      ]
     },
     "execution_count": 3,
     "metadata": {},
     "output_type": "execute_result"
    }
   ],
   "source": []
  },
  {
   "cell_type": "markdown",
   "metadata": {},
   "source": [
    "**Pregunta 3.** Calule la energía de la molécula de $N_2O_4$ con DFT B3LYP y la base aug-cc-pvdz."
   ]
  },
  {
   "cell_type": "code",
   "execution_count": 4,
   "metadata": {},
   "outputs": [
    {
     "name": "stdout",
     "output_type": "stream",
     "text": [
      "Optimizer: Optimization complete!\n",
      "-410.24642989056423\n"
     ]
    }
   ],
   "source": []
  },
  {
   "cell_type": "markdown",
   "metadata": {},
   "source": [
    "**Pregunta 4.** Calule la energía de la molécula de $NO_2$ con DFT B3LYP y la base aug-cc-pvdz."
   ]
  },
  {
   "cell_type": "code",
   "execution_count": 5,
   "metadata": {},
   "outputs": [
    {
     "name": "stdout",
     "output_type": "stream",
     "text": [
      "Optimizer: Optimization complete!\n",
      "-205.11260373419236\n"
     ]
    }
   ],
   "source": []
  },
  {
   "cell_type": "markdown",
   "metadata": {},
   "source": [
    "**Preguna b.** Calcule el $\\Delta U$ de la reacción $N_2O_4 <=> 2NO_2$ según DFT B3LYP."
   ]
  },
  {
   "cell_type": "code",
   "execution_count": 6,
   "metadata": {},
   "outputs": [
    {
     "data": {
      "text/plain": [
       "55.719469432291504"
      ]
     },
     "execution_count": 6,
     "metadata": {},
     "output_type": "execute_result"
    }
   ],
   "source": []
  },
  {
   "cell_type": "markdown",
   "metadata": {},
   "source": [
    "## Referencias"
   ]
  },
  {
   "cell_type": "markdown",
   "metadata": {},
   "source": [
    "- Parrish, R. M.; Burns, L. A.; Smith, D. G. A.; Simmonett, A. C.; DePrince, A. E.; Hohenstein, E. G.; Bozkaya, U.; Sokolov, A. Y.; Di Remigio, R.; Richard, R. M.; et al. **Psi4 1.1: An Open-Source Electronic Structure Program Emphasizing Automation, Advanced Libraries, and Interoperability.** Journal of Chemical Theory and Computation 2017, 13 (7), 3185–3197.\n"
   ]
  },
  {
   "cell_type": "markdown",
   "metadata": {},
   "source": [
    "Hecho por Juan Felipe Huan Lew Yee y Jorge Martín del Campo Ramírez para la clase de Química Cuántica I del ciclo 2019-I. Universidad Nacional Autónoma de México.\n",
    "\n",
    "Este archivo puede distribuise libremente y ser considerado Open Source. Si deseas modificarlo para su distribución, solo se pide conservar el nombre de los autores originales."
   ]
  }
 ],
 "metadata": {
  "kernelspec": {
   "display_name": "Python 3",
   "language": "python",
   "name": "python3"
  },
  "language_info": {
   "codemirror_mode": {
    "name": "ipython",
    "version": 3
   },
   "file_extension": ".py",
   "mimetype": "text/x-python",
   "name": "python",
   "nbconvert_exporter": "python",
   "pygments_lexer": "ipython3",
   "version": "3.8.5"
  }
 },
 "nbformat": 4,
 "nbformat_minor": 2
}