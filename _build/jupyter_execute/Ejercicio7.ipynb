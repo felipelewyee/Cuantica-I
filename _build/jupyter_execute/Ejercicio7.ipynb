{
 "cells": [
  {
   "cell_type": "markdown",
   "metadata": {},
   "source": [
    "# Software"
   ]
  },
  {
   "cell_type": "markdown",
   "metadata": {},
   "source": [
    "Lista de algunos programas de química cuántica:\n",
    "- Gaussian (https://gaussian.com/)\n",
    "- Psi4 (http://www.psicode.org/)\n",
    "- NWChem (http://www.nwchem-sw.org)\n",
    "- QChem (http://www.q-chem.com/)\n",
    "- TeraChem (http://www.petachem.com)\n",
    "- deMon (http://www.demon-software.com)\n",
    "- Orca (https://orcaforum.cec.mpg.de/)\n",
    "- Molcas (http://www.molcas.org/)\n",
    "- ADF (https://www.scm.com/)\n",
    "- GAMESS (http://www.msg.chem.iastate.edu/gamess/)\n",
    "- Quantum Espresso (https://www.quantum-espresso.org/)"
   ]
  },
  {
   "cell_type": "markdown",
   "metadata": {},
   "source": [
    "## Aprendiendo a usar psi4"
   ]
  },
  {
   "cell_type": "markdown",
   "metadata": {},
   "source": [
    "Importamos psi4 con\n",
    "~~~python\n",
    "import psi4\n",
    "~~~"
   ]
  },
  {
   "cell_type": "code",
   "execution_count": 1,
   "metadata": {
    "execution": {
     "iopub.execute_input": "2020-08-29T22:53:17.917903Z",
     "iopub.status.busy": "2020-08-29T22:53:17.916209Z",
     "iopub.status.idle": "2020-08-29T22:53:18.609318Z",
     "shell.execute_reply": "2020-08-29T22:53:18.609756Z"
    }
   },
   "outputs": [],
   "source": [
    "# importe psi4\n",
    "import psi4"
   ]
  },
  {
   "cell_type": "markdown",
   "metadata": {},
   "source": [
    "Asignamos una cantidad de memoria, por ejemplo 2 gb, con\n",
    "~~~python\n",
    "psi4.set_memory(\"2 gb\")\n",
    "~~~"
   ]
  },
  {
   "cell_type": "code",
   "execution_count": 2,
   "metadata": {
    "execution": {
     "iopub.execute_input": "2020-08-29T22:53:18.618841Z",
     "iopub.status.busy": "2020-08-29T22:53:18.618240Z",
     "iopub.status.idle": "2020-08-29T22:53:18.621060Z",
     "shell.execute_reply": "2020-08-29T22:53:18.621454Z"
    }
   },
   "outputs": [
    {
     "data": {
      "text/plain": [
       "2000000000"
      ]
     },
     "execution_count": 2,
     "metadata": {},
     "output_type": "execute_result"
    }
   ],
   "source": [
    "# Establezca memoria\n",
    "psi4.set_memory(\"2 gb\")"
   ]
  },
  {
   "cell_type": "markdown",
   "metadata": {},
   "source": [
    "Declaramos las coordenadas de la molécula. Para ello usamos visualizadores como Avogadro. También podemos obtener valores experimentales de https://cccbdb.nist.gov/ . En este caso utilizaremos los resultados experimentales de benceno."
   ]
  },
  {
   "cell_type": "code",
   "execution_count": 3,
   "metadata": {
    "execution": {
     "iopub.execute_input": "2020-08-29T22:53:18.646385Z",
     "iopub.status.busy": "2020-08-29T22:53:18.645547Z",
     "iopub.status.idle": "2020-08-29T22:53:18.650056Z",
     "shell.execute_reply": "2020-08-29T22:53:18.649202Z"
    }
   },
   "outputs": [],
   "source": [
    "benzene = psi4.geometry(\"\"\"\n",
    "0 1\n",
    "C 0.0000 1.3970 0.0000\n",
    "C 1.2098 0.6985 0.0000\n",
    "C 1.2098 -0.6985 0.0000\n",
    "C 0.0000 -1.3970 0.0000\n",
    "C -1.2098 -0.6985 0.0000\n",
    "C -1.2098 0.6985 0.0000\n",
    "H 0.0000 2.4810 0.0000\n",
    "H 2.1486 1.2405 0.0000\n",
    "H 2.1486 -1.2405 0.0000\n",
    "H 0.0000 -2.4810 0.0000\n",
    "H -2.1486 -1.2405 0.0000\n",
    "H -2.1486 1.2405 0.0000\n",
    "units angstrom\n",
    "\"\"\")"
   ]
  },
  {
   "cell_type": "markdown",
   "metadata": {},
   "source": [
    "Realizamos el cálculo de energía con un **método** y una **base**. Por ejemplo, un cálculo de MP2 con base 6-31G sería\n",
    "~~~python\n",
    "psi4.energy('mp2/6-31G')\n",
    "~~~"
   ]
  },
  {
   "cell_type": "code",
   "execution_count": 4,
   "metadata": {
    "execution": {
     "iopub.execute_input": "2020-08-29T22:53:18.662253Z",
     "iopub.status.busy": "2020-08-29T22:53:18.661744Z",
     "iopub.status.idle": "2020-08-29T22:53:20.613623Z",
     "shell.execute_reply": "2020-08-29T22:53:20.613049Z"
    }
   },
   "outputs": [
    {
     "data": {
      "text/plain": [
       "-231.1469747676175"
      ]
     },
     "execution_count": 4,
     "metadata": {},
     "output_type": "execute_result"
    }
   ],
   "source": [
    "# Benzeno mp2/6-31G\n",
    "psi4.energy('mp2/6-31G')"
   ]
  },
  {
   "cell_type": "markdown",
   "metadata": {},
   "source": [
    "Calcule la energía de benceno con MP3 y 6-31G"
   ]
  },
  {
   "cell_type": "code",
   "execution_count": 5,
   "metadata": {
    "execution": {
     "iopub.execute_input": "2020-08-29T22:53:20.616978Z",
     "iopub.status.busy": "2020-08-29T22:53:20.616344Z",
     "iopub.status.idle": "2020-08-29T22:53:20.618807Z",
     "shell.execute_reply": "2020-08-29T22:53:20.619658Z"
    }
   },
   "outputs": [],
   "source": [
    "# Benzeno mp3/6-31G"
   ]
  },
  {
   "cell_type": "markdown",
   "metadata": {},
   "source": [
    "Calcule la energía de benceno con MP4 y 6-31G"
   ]
  },
  {
   "cell_type": "code",
   "execution_count": 6,
   "metadata": {
    "execution": {
     "iopub.execute_input": "2020-08-29T22:53:20.624181Z",
     "iopub.status.busy": "2020-08-29T22:53:20.623358Z",
     "iopub.status.idle": "2020-08-29T22:53:20.627172Z",
     "shell.execute_reply": "2020-08-29T22:53:20.627751Z"
    }
   },
   "outputs": [],
   "source": [
    "# Benzeno mp4/6-31G"
   ]
  },
  {
   "cell_type": "markdown",
   "metadata": {},
   "source": [
    "## Referencias"
   ]
  },
  {
   "cell_type": "markdown",
   "metadata": {},
   "source": [
    "- Smith, D. G. A.; Burns, L. A.; Sirianni, D. A.; Nascimento, D. R.; Kumar, A.; James, A. M.; Schriber, J. B.; Zhang, T.; Zhang, B.; Abbott, A. S.; et al. Psi4NumPy : An Interactive Quantum Chemistry Programming Environment for Reference Implementations and Rapid Development. Journal of Chemical Theory and Computation 2018, 14 (7), 3504–3511.\n",
    "- https://github.com/psi4/psi4numpy/tree/master/Tutorials"
   ]
  },
  {
   "cell_type": "markdown",
   "metadata": {},
   "source": [
    "Hecho por Juan Felipe Huan Lew Yee y Jorge Martín del Campo Ramírez para la clase de Química Cuántica I del ciclo 2019-I. Universidad Nacional Autónoma de México.\n",
    "\n",
    "Este archivo puede distribuise libremente y ser considerado Open Source. Si deseas modificarlo para su distribución, solo se pide conservar el nombre de los autores originales."
   ]
  }
 ],
 "metadata": {
  "kernelspec": {
   "display_name": "Python 3",
   "language": "python",
   "name": "python3"
  },
  "language_info": {
   "codemirror_mode": {
    "name": "ipython",
    "version": 3
   },
   "file_extension": ".py",
   "mimetype": "text/x-python",
   "name": "python",
   "nbconvert_exporter": "python",
   "pygments_lexer": "ipython3",
   "version": "3.7.7"
  }
 },
 "nbformat": 4,
 "nbformat_minor": 2
}