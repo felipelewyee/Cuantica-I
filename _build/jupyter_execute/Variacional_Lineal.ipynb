{
 "cells": [
  {
   "cell_type": "markdown",
   "metadata": {},
   "source": [
    "# Método variacional lineal"
   ]
  },
  {
   "cell_type": "markdown",
   "metadata": {},
   "source": [
    "El método variacional lineal permite resolver el problema\n",
    "\n",
    "$$\n",
    "H\\psi = E \\psi\n",
    "$$\n",
    "\n",
    "al expresar la función de onda como una combinación lineal de funciones. Cuando las funciones $\\psi_i$ forman un conjunto completo, la combinación lineal es exacta, sin embargo, en la práctica se usan solo algunas funciones, por lo que la función de onda resultante es aproximada, es decir\n",
    "\n",
    "$$\n",
    "\\psi_{prueba} = \\sum_{i=1} c_i \\psi_i  \n",
    "$$\n",
    "\n",
    "Al sustituir la expansión de la función de onda en la ecuación de Schrodinger, se obtiene la ecuación\n",
    "\n",
    "$$\n",
    "\\mathcal{H} \\mathcal{C} = \\mathcal{S} \\mathcal{C} \\mathcal{\\varepsilon}\n",
    "$$\n",
    "\n",
    "En general uno raliza los siguientes pasos:\n",
    "\n",
    "1. Se seleccionan las funciones $\\psi_i$ que se usarán para expandir la función de onda, es común elegir funciones exponenciales o gaussianas.\n",
    "2. Se evalúan las matrices $\\mathcal{H}$, y $\\mathcal{S}$.\n",
    "3. Se resuelve el problema de valores propios $\\mathcal{H}\\mathcal{C} = \\mathcal{S}\\mathcal{C} \\mathcal{\\epsilon}$.\n",
    "4. Se construye la función de onda utilizando los coeficientes obtenidos.\n",
    "\n",
    "Una consecuencia de este método es que sin importar las funciones $\\psi_i$ que se usen, siempre que cumplan con las restricciones del problema, la solución de prueba siempre tiene una energía mayor o igual a la solución exacta. Por lo tanto, podemos construir varias funciones de prueba y tomar la que de la energía más baja.\n",
    "\n",
    "Para ejemplificar este procedimiento, resolveremos el átomo de hidrógeno utilizando el método variacional lineal. Ya que sí conocemos las soluciones exactas del átomo de hidrógeno, podremos comparar las funciones de onda aproximadas con las funciones de onda exactas."
   ]
  },
  {
   "cell_type": "markdown",
   "metadata": {},
   "source": [
    "**Importe las siguientes librerías**\n",
    "\n",
    "- numpy\n",
    "- sympy"
   ]
  },
  {
   "cell_type": "code",
   "execution_count": 1,
   "metadata": {},
   "outputs": [],
   "source": [
    "# Librerías"
   ]
  },
  {
   "cell_type": "code",
   "execution_count": 2,
   "metadata": {
    "tags": [
     "hide-cell"
    ]
   },
   "outputs": [],
   "source": [
    "import numpy as np\n",
    "import sympy as sp"
   ]
  },
  {
   "cell_type": "markdown",
   "metadata": {},
   "source": [
    "## Átomo de hidrógeno con dos gausianas"
   ]
  },
  {
   "cell_type": "markdown",
   "metadata": {},
   "source": [
    "**Paso 1.** Seleccionar funciones $\\psi_i$ para construir $\\psi_{prueba}$\n",
    "\n",
    "$$\n",
    "\\psi_{prueba} = \\sum_{i=1} c_i \\psi_i  \n",
    "$$"
   ]
  },
  {
   "cell_type": "markdown",
   "metadata": {},
   "source": [
    "Para este ejemplo tomaremos dos funciones gaussianas:\n",
    "\n",
    "$$\n",
    "\\psi_1 = \\left( \\frac{2(1.309756377)}{\\pi} \\right)^{\\frac{3}{4}} e^{-1.309756377r^2}\n",
    "$$\n",
    "\n",
    "$$\n",
    "\\psi_2 = \\left( \\frac{2(0.233135974)}{\\pi} \\right)^{\\frac{3}{4}} e^{-0.233135974r^2}\n",
    "$$\n",
    "\n",
    "**Defina las funciones gaussianas usando álgebra simbólica**"
   ]
  },
  {
   "cell_type": "code",
   "execution_count": 3,
   "metadata": {},
   "outputs": [],
   "source": [
    "# Defina funciones"
   ]
  },
  {
   "cell_type": "code",
   "execution_count": 4,
   "metadata": {
    "tags": [
     "hide-cell"
    ]
   },
   "outputs": [
    {
     "name": "stdout",
     "output_type": "stream",
     "text": [
      "psi_1\n"
     ]
    },
    {
     "name": "stdout",
     "output_type": "stream",
     "text": [
      "                                       2\n",
      "                  -0.75  -1.309756377⋅r \n",
      "2.05904286572975⋅π     ⋅ℯ               \n",
      "psi_2\n",
      "                                        2\n",
      "                   -0.75  -0.233135974⋅r \n",
      "0.564260261842472⋅π     ⋅ℯ               \n"
     ]
    }
   ],
   "source": [
    "\n",
    "\n",
    "r = sp.Symbol(\"r\")\n",
    "psi_1 = (2*1.309756377/sp.pi)**(3/4)*sp.exp(-1.309756377*r**2)\n",
    "psi_2 = (2*0.233135974/sp.pi)**(3/4)*sp.exp(-0.233135974*r**2)\n",
    "print(\"psi_1\")\n",
    "sp.pprint(psi_1)\n",
    "print(\"psi_2\")\n",
    "sp.pprint(psi_2)"
   ]
  },
  {
   "cell_type": "markdown",
   "metadata": {},
   "source": [
    "**Paso 2.** Evaluar las matrices $\\mathcal{H}$ y $\\mathcal{S}$."
   ]
  },
  {
   "cell_type": "markdown",
   "metadata": {},
   "source": [
    "El Hamiltoniano del átomo de hidrógeno es\n",
    "\n",
    "$$\n",
    "\\hat{H} = -\\frac{1}{2} \\nabla^2 - \\frac{1}{r} = -\\frac{1}{2} \\frac{1}{r} \\frac{d^2}{dr^2} r -\\frac{1}{r}\n",
    "$$\n",
    "\n",
    "Por tanto, la matriz $\\mathcal{H}$ es\n",
    "\n",
    "$$\n",
    "\\mathcal{H} = \\begin{pmatrix} H_{11} & H_{12}\\\\\n",
    "H_{21} & H_{22}\n",
    "\\end{pmatrix} = \\begin{pmatrix} 4 \\pi\\int_0^\\infty \\psi_1^* \\hat{H} \\psi_1 r^2dr & 4 \\pi\\int_0^\\infty \\psi_1^* \\hat{H} \\psi_2 r^2dr\\\\\n",
    "4 \\pi\\int_0^\\infty \\psi_2^* \\hat{H} \\psi_1 r^2dr & 4 \\pi\\int_0^\\infty \\psi_2^* \\hat{H} \\psi_2 r^2dr\n",
    "\\end{pmatrix}\n",
    "$$\n",
    "\n",
    "**Genere una matriz de 2x2 y evalúe las integrales**"
   ]
  },
  {
   "cell_type": "code",
   "execution_count": 5,
   "metadata": {},
   "outputs": [],
   "source": [
    "# Matriz H"
   ]
  },
  {
   "cell_type": "code",
   "execution_count": 6,
   "metadata": {
    "tags": [
     "hide-cell"
    ]
   },
   "outputs": [
    {
     "data": {
      "text/latex": [
       "$\\displaystyle \\left[\\begin{matrix}0.138363165534784 & -0.489760093394105\\\\-0.489760093394105 & -0.420799694276402\\end{matrix}\\right]$"
      ],
      "text/plain": [
       "Matrix([\n",
       "[ 0.138363165534784, -0.489760093394105],\n",
       "[-0.489760093394105, -0.420799694276402]])"
      ]
     },
     "execution_count": 6,
     "metadata": {},
     "output_type": "execute_result"
    }
   ],
   "source": [
    "H_1 = -1/2*1/r*sp.diff(r*psi_1,r,r) - 1/r*psi_1\n",
    "H_2 = -1/2*1/r*sp.diff(r*psi_2,r,r) - 1/r*psi_2\n",
    "\n",
    "H = sp.zeros(2)\n",
    "H[0,0] = 4*sp.pi*sp.integrate(psi_1*H_1*r**2,(r,0,sp.oo))\n",
    "H[0,1] = 4*sp.pi*sp.integrate(psi_1*H_2*r**2,(r,0,sp.oo))\n",
    "H[1,0] = 4*sp.pi*sp.integrate(psi_2*H_1*r**2,(r,0,sp.oo))\n",
    "H[1,1] = 4*sp.pi*sp.integrate(psi_2*H_2*r**2,(r,0,sp.oo))\n",
    "H=H.evalf()\n",
    "H"
   ]
  },
  {
   "cell_type": "markdown",
   "metadata": {},
   "source": [
    "La matriz S es\n",
    "\n",
    "$$\n",
    "\\mathcal{S} = \\begin{pmatrix} S_{11} & S_{12}\\\\\n",
    "S_{21} & S_{22}\n",
    "\\end{pmatrix} = \\begin{pmatrix} 4 \\pi\\int_0^\\infty \\psi_1^* \\psi_1 r^2dr & 4 \\pi\\int_0^\\infty \\psi_1^* \\psi_2 r^2dr\\\\\n",
    "4 \\pi\\int_0^\\infty \\psi_2^* \\psi_1 r^2dr & 4 \\pi\\int_0^\\infty \\psi_2^* \\psi_2 r^2dr\n",
    "\\end{pmatrix}\n",
    "$$\n",
    "\n",
    "**Genere una matrix de 2x2 y evalúe las integrales**"
   ]
  },
  {
   "cell_type": "code",
   "execution_count": 7,
   "metadata": {},
   "outputs": [],
   "source": [
    "# Matriz S"
   ]
  },
  {
   "cell_type": "code",
   "execution_count": 8,
   "metadata": {
    "tags": [
     "hide-cell"
    ]
   },
   "outputs": [
    {
     "data": {
      "text/latex": [
       "$\\displaystyle \\left[\\begin{matrix}1.0 & 0.606235570910297\\\\0.606235570910297 & 1.0\\end{matrix}\\right]$"
      ],
      "text/plain": [
       "Matrix([\n",
       "[              1.0, 0.606235570910297],\n",
       "[0.606235570910297,               1.0]])"
      ]
     },
     "execution_count": 8,
     "metadata": {},
     "output_type": "execute_result"
    }
   ],
   "source": [
    "S = sp.zeros(2)\n",
    "S[0,0] = 4*sp.pi*sp.integrate(psi_1*psi_1*r**2,(r,0,sp.oo))\n",
    "S[0,1] = 4*sp.pi*sp.integrate(psi_1*psi_2*r**2,(r,0,sp.oo))\n",
    "S[1,0] = 4*sp.pi*sp.integrate(psi_2*psi_1*r**2,(r,0,sp.oo))\n",
    "S[1,1] = 4*sp.pi*sp.integrate(psi_2*psi_2*r**2,(r,0,sp.oo))\n",
    "S"
   ]
  },
  {
   "cell_type": "markdown",
   "metadata": {},
   "source": [
    "**Paso 3.** Resolver $\\color{red}{\\mathcal{H}\\mathcal{C} = \\mathcal{S}\\mathcal{C} \\mathcal{\\epsilon}}$\n",
    "\n",
    "Para ello utilizaremos la instrucción\n",
    "~~~python\n",
    "E,C = LA.eigh(H,S)\n",
    "~~~\n",
    "la cual resuelve directamente el problema $\\mathcal{H}\\mathcal{C} = \\mathcal{S}\\mathcal{C} \\mathcal{\\epsilon}$. La columna de $\\mathcal{C}$ con la energía más baja nos indica los coeficientes de la combinación lineal de la función de onda."
   ]
  },
  {
   "cell_type": "code",
   "execution_count": 9,
   "metadata": {},
   "outputs": [],
   "source": [
    "# Resuelva HC = SCe"
   ]
  },
  {
   "cell_type": "code",
   "execution_count": 10,
   "metadata": {
    "tags": [
     "hide-cell"
    ]
   },
   "outputs": [
    {
     "name": "stdout",
     "output_type": "stream",
     "text": [
      "[-0.4831514   0.97547404]\n",
      "[[-0.2599737  -1.23024195]\n",
      " [-0.82078782  0.95256965]]\n"
     ]
    }
   ],
   "source": [
    "from scipy import linalg as LA\n",
    "import numpy\n",
    "\n",
    "H = np.array(H).astype(np.float64)\n",
    "S = np.array(S).astype(np.float64)\n",
    "\n",
    "E,C = LA.eigh(H,S)\n",
    "print(E)\n",
    "print(C)"
   ]
  },
  {
   "cell_type": "markdown",
   "metadata": {},
   "source": [
    "**Paso 4.** Susituir los coeficientes en $\\psi_{prueba} = \\sum_{i=1} c_i \\psi_i$ para construir la función de onda."
   ]
  },
  {
   "cell_type": "code",
   "execution_count": 11,
   "metadata": {},
   "outputs": [],
   "source": [
    "# Genere función de prueba"
   ]
  },
  {
   "cell_type": "code",
   "execution_count": 12,
   "metadata": {
    "tags": [
     "hide-cell"
    ]
   },
   "outputs": [
    {
     "data": {
      "text/latex": [
       "$\\displaystyle - \\frac{0.535296992908604 e^{- 1.309756377 r^{2}}}{\\pi^{0.75}} - \\frac{0.46313795048033 e^{- 0.233135974 r^{2}}}{\\pi^{0.75}}$"
      ],
      "text/plain": [
       "-0.535296992908604*pi**(-0.75)*exp(-1.309756377*r**2) - 0.46313795048033*pi**(-0.75)*exp(-0.233135974*r**2)"
      ]
     },
     "execution_count": 12,
     "metadata": {},
     "output_type": "execute_result"
    }
   ],
   "source": [
    "psi_p = C[0][0]*psi_1 + C[1][0]*psi_2\n",
    "psi_p"
   ]
  },
  {
   "cell_type": "markdown",
   "metadata": {},
   "source": [
    "Adicionalmente, se puede comprobar que se cumple la condición de normalización. **Evalúe la integral**\n",
    "\n",
    "$$\n",
    "4\\pi \\int_0^{\\infty} r^2 |\\psi_{prueba}|^2 dr= 1\n",
    "$$"
   ]
  },
  {
   "cell_type": "code",
   "execution_count": 13,
   "metadata": {},
   "outputs": [],
   "source": [
    "# Integral"
   ]
  },
  {
   "cell_type": "code",
   "execution_count": 14,
   "metadata": {
    "tags": [
     "hide-cell"
    ]
   },
   "outputs": [
    {
     "data": {
      "text/latex": [
       "$\\displaystyle 1.0$"
      ],
      "text/plain": [
       "1.00000000000000"
      ]
     },
     "execution_count": 14,
     "metadata": {},
     "output_type": "execute_result"
    }
   ],
   "source": [
    "4*sp.pi*sp.integrate(psi_p*psi_p*r**2,(r,0,sp.oo))"
   ]
  },
  {
   "cell_type": "markdown",
   "metadata": {},
   "source": [
    "**Almacene la función de prueba, así como cada una de las gausianas que la componen para comparar con la función de onda exacta**."
   ]
  },
  {
   "cell_type": "code",
   "execution_count": 15,
   "metadata": {},
   "outputs": [],
   "source": [
    "# Código"
   ]
  },
  {
   "cell_type": "code",
   "execution_count": 16,
   "metadata": {},
   "outputs": [],
   "source": [
    "psi_2g = psi_p\n",
    "psi_2g_1 = psi_1\n",
    "psi_2g_2 = psi_2"
   ]
  },
  {
   "cell_type": "markdown",
   "metadata": {},
   "source": [
    "**Genere la gráfica de las dos funciones $\\psi_1$ y $\\psi_2$, así como la $\\psi_{prueba}$ y la solución exacta para el átomo de hidrógeno (1s)**\n",
    "\n",
    "```{tip}\n",
    "Recuerde\n",
    "\n",
    "$$\n",
    "1s = \\pi^{-1/2} e^{-|r|}\n",
    "$$\n",
    "```"
   ]
  },
  {
   "cell_type": "code",
   "execution_count": 17,
   "metadata": {},
   "outputs": [],
   "source": [
    "# Gráfica"
   ]
  },
  {
   "cell_type": "code",
   "execution_count": 18,
   "metadata": {
    "tags": [
     "hide-cell"
    ]
   },
   "outputs": [
    {
     "data": {
      "image/png": "[encoded data removed]",
      "text/plain": [
       "<Figure size 432x288 with 1 Axes>"
      ]
     },
     "metadata": {
      "filenames": {
       "image/png": "/home/jfhlewyee/Cuantica-I/_build/jupyter_execute/Variacional_Lineal_31_0.png"
      },
      "needs_background": "light"
     },
     "output_type": "display_data"
    }
   ],
   "source": [
    "from matplotlib import pyplot as plt\n",
    "\n",
    "s=1/sp.sqrt(sp.pi)*sp.exp(-sp.Abs(r))\n",
    "lam_s = sp.lambdify(r,s,modules=['numpy'])\n",
    "lam_psi_2g = sp.lambdify(r,psi_2g,modules=['numpy'])\n",
    "lam_psi_2g_1 = sp.lambdify(r,psi_2g_1,modules=['numpy'])\n",
    "lam_psi_2g_2 = sp.lambdify(r,psi_2g_2,modules=['numpy'])\n",
    "\n",
    "r1 = np.linspace(-7,7,100)\n",
    "psi_s = lam_s(r1)\n",
    "psi_2g1 = lam_psi_2g(r1)\n",
    "psi_2g_1 = lam_psi_2g_1(r1)\n",
    "psi_2g_2 = lam_psi_2g_2(r1)\n",
    "\n",
    "plt.plot(r1,psi_s,label=\"1s\")\n",
    "plt.plot(r1,-psi_2g1,label=\"2g\")\n",
    "plt.plot(r1,psi_2g_1,label=\"psi_1\",linestyle=':')\n",
    "plt.plot(r1,psi_2g_2,label=\"psi_2\",linestyle=':')\n",
    "plt.legend()\n",
    "plt.show()"
   ]
  },
  {
   "cell_type": "markdown",
   "metadata": {},
   "source": [
    "## Átomo de hidrógeno con tres gausianas"
   ]
  },
  {
   "cell_type": "markdown",
   "metadata": {},
   "source": [
    "**Paso 1.** Seleccionar funciones $\\psi_i$ para construir $\\psi_{prueba}$\n",
    "\n",
    "$$\n",
    "\\psi_{prueba} = \\sum_{i=1} c_i \\psi_i  \n",
    "$$\n",
    "\n",
    "Para este ejemplo **declare tres funciones gaussianas**\n",
    "\n",
    "$$\n",
    "\\psi_1 = \\left( \\frac{2(3.42525091)}{\\pi} \\right)^{\\frac{3}{4}} e^{-3.42525091r^2}\n",
    "$$\n",
    "\n",
    "$$\n",
    "\\psi_2 = \\left( \\frac{2(0.62391373)}{\\pi} \\right)^{\\frac{3}{4}} e^{-0.62391373r^2}\n",
    "$$\n",
    "\n",
    "$$\n",
    "\\psi_3 = \\left( \\frac{2(0.16885540)}{\\pi} \\right)^{\\frac{3}{4}} e^{-0.16885540r^2}\n",
    "$$"
   ]
  },
  {
   "cell_type": "code",
   "execution_count": 19,
   "metadata": {},
   "outputs": [],
   "source": [
    "# Declare funciones"
   ]
  },
  {
   "cell_type": "code",
   "execution_count": 20,
   "metadata": {
    "tags": [
     "hide-cell"
    ]
   },
   "outputs": [
    {
     "name": "stdout",
     "output_type": "stream",
     "text": [
      "psi_1\n",
      "                                      2\n",
      "                  -0.75  -3.42525091⋅r \n",
      "4.23439910835034⋅π     ⋅ℯ              \n",
      "psi_2\n",
      "                                     2\n",
      "                 -0.75  -0.62391373⋅r \n",
      "1.1806356801173⋅π     ⋅ℯ              \n",
      "psi_3\n",
      "                                      2\n",
      "                   -0.75  -0.1688554⋅r \n",
      "0.443005085955685⋅π     ⋅ℯ             \n"
     ]
    }
   ],
   "source": [
    "sp.init_printing()\n",
    "\n",
    "r = sp.Symbol(\"r\")\n",
    "psi_1 = (2*3.42525091/sp.pi)**(3/4)*sp.exp(-3.42525091*r**2)\n",
    "psi_2 = (2*0.62391373/sp.pi)**(3/4)*sp.exp(-0.62391373*r**2)\n",
    "psi_3 = (2*0.16885540/sp.pi)**(3/4)*sp.exp(-0.16885540*r**2)\n",
    "print(\"psi_1\")\n",
    "sp.pprint(psi_1)\n",
    "print(\"psi_2\")\n",
    "sp.pprint(psi_2)\n",
    "print(\"psi_3\")\n",
    "sp.pprint(psi_3)"
   ]
  },
  {
   "cell_type": "markdown",
   "metadata": {},
   "source": [
    "El Hamiltoniano del átomo de hidrógeno es\n",
    "\n",
    "$$\n",
    "\\hat{H} = -\\frac{1}{2} \\nabla^2 - \\frac{1}{r} = -\\frac{1}{2} \\frac{1}{r} \\frac{d^2}{dr^2} r -\\frac{1}{r}\n",
    "$$\n",
    "\n",
    "Por tanto, la matriz $\\mathcal{H}$ es\n",
    "\n",
    "$$\n",
    "\\mathcal{H} = \\begin{pmatrix} H_{11} & H_{12} & H_{13}\\\\\n",
    "H_{21} & H_{22} & H_{23}\\\\\n",
    "H_{31} & H_{32} & H_{33}\\\\\n",
    "\\end{pmatrix} = \\begin{pmatrix} 4 \\pi\\int_0^\\infty \\psi_1^* \\hat{H} \\psi_1 r^2dr & 4 \\pi\\int_0^\\infty \\psi_1^* \\hat{H} \\psi_2 r^2dr & 4 \\pi\\int_0^\\infty \\psi_1^* \\hat{H} \\psi_3 r^2dr\\\\\n",
    "4 \\pi\\int_0^\\infty \\psi_2^* \\hat{H} \\psi_1 r^2dr & 4 \\pi\\int_0^\\infty \\psi_2^* \\hat{H} \\psi_2 r^2dr & 4 \\pi\\int_0^\\infty \\psi_2^* \\hat{H} \\psi_3 r^2dr\\\\\n",
    "4 \\pi\\int_0^\\infty \\psi_3^* \\hat{H} \\psi_1 r^2dr & 4 \\pi\\int_0^\\infty \\psi_3^* \\hat{H} \\psi_2 r^2dr & 4 \\pi\\int_0^\\infty \\psi_3^* \\hat{H} \\psi_3 r^2dr\\\\\n",
    "\\end{pmatrix}\n",
    "$$\n",
    "\n",
    "**Evalúe la matriz H**"
   ]
  },
  {
   "cell_type": "code",
   "execution_count": 21,
   "metadata": {},
   "outputs": [],
   "source": [
    "# Matriz H"
   ]
  },
  {
   "cell_type": "code",
   "execution_count": 22,
   "metadata": {
    "tags": [
     "hide-cell"
    ]
   },
   "outputs": [
    {
     "data": {
      "image/png": "[encoded data removed]",
      "text/latex": [
       "$\\displaystyle \\left[\\begin{matrix}2.18451729124954 & -0.421671712626339 & -0.456023099400813\\\\-0.421671712626338 & -0.324598867969427 & -0.449040085682301\\\\-0.456023099400813 & -0.4490400856823 & -0.402450645695726\\end{matrix}\\right]$"
      ],
      "text/plain": [
       "⎡ 2.18451729124954   -0.421671712626339  -0.456023099400813⎤\n",
       "⎢                                                          ⎥\n",
       "⎢-0.421671712626338  -0.324598867969427  -0.449040085682301⎥\n",
       "⎢                                                          ⎥\n",
       "⎣-0.456023099400813   -0.4490400856823   -0.402450645695726⎦"
      ]
     },
     "execution_count": 22,
     "metadata": {
      "filenames": {
       "image/png": "/home/jfhlewyee/Cuantica-I/_build/jupyter_execute/Variacional_Lineal_38_0.png"
      }
     },
     "output_type": "execute_result"
    }
   ],
   "source": [
    "H_1 = -1/2*1/r*sp.diff(r*psi_1,r,r) - 1/r*psi_1\n",
    "H_2 = -1/2*1/r*sp.diff(r*psi_2,r,r) - 1/r*psi_2\n",
    "H_3 = -1/2*1/r*sp.diff(r*psi_3,r,r) - 1/r*psi_3\n",
    "\n",
    "H = sp.zeros(3)\n",
    "H[0,0] = 4*sp.pi*sp.integrate(psi_1*H_1*r**2,(r,0,sp.oo))\n",
    "H[0,1] = 4*sp.pi*sp.integrate(psi_1*H_2*r**2,(r,0,sp.oo))\n",
    "H[0,2] = 4*sp.pi*sp.integrate(psi_1*H_3*r**2,(r,0,sp.oo))\n",
    "H[1,0] = 4*sp.pi*sp.integrate(psi_2*H_1*r**2,(r,0,sp.oo))\n",
    "H[1,1] = 4*sp.pi*sp.integrate(psi_2*H_2*r**2,(r,0,sp.oo))\n",
    "H[1,2] = 4*sp.pi*sp.integrate(psi_2*H_3*r**2,(r,0,sp.oo))\n",
    "H[2,0] = 4*sp.pi*sp.integrate(psi_3*H_1*r**2,(r,0,sp.oo))\n",
    "H[2,1] = 4*sp.pi*sp.integrate(psi_3*H_2*r**2,(r,0,sp.oo))\n",
    "H[2,2] = 4*sp.pi*sp.integrate(psi_3*H_3*r**2,(r,0,sp.oo))\n",
    "\n",
    "H=H.evalf()\n",
    "H"
   ]
  },
  {
   "cell_type": "markdown",
   "metadata": {},
   "source": [
    "**Evalúe la matriz S**\n",
    "\n",
    "$$\n",
    "\\mathcal{S} = \\begin{pmatrix} S_{11} & S_{12} & S_{13}\\\\\n",
    "S_{21} & S_{22} & S_{23} \\\\\n",
    "S_{31} & S_{32} & S_{33} \\\\\n",
    "\\end{pmatrix} = \\begin{pmatrix} 4 \\pi\\int_0^\\infty \\psi_1^* \\psi_1 r^2dr & 4 \\pi\\int_0^\\infty \\psi_1^* \\psi_2 r^2dr & 4 \\pi\\int_0^\\infty \\psi_1^* \\psi_3 r^2dr\\\\\n",
    "4 \\pi\\int_0^\\infty \\psi_2^* \\psi_1 r^2dr & 4 \\pi\\int_0^\\infty \\psi_2^* \\psi_2 r^2dr & 4 \\pi\\int_0^\\infty \\psi_2^* \\psi_3 r^2dr\\\\\n",
    "4 \\pi\\int_0^\\infty \\psi_2^* \\psi_3 r^2dr & 4 \\pi\\int_0^\\infty \\psi_3^* \\psi_2 r^2dr & 4 \\pi\\int_0^\\infty \\psi_3^* \\psi_3 r^2dr\n",
    "\\end{pmatrix}\n",
    "$$"
   ]
  },
  {
   "cell_type": "code",
   "execution_count": 23,
   "metadata": {},
   "outputs": [],
   "source": [
    "# Matriz S"
   ]
  },
  {
   "cell_type": "code",
   "execution_count": 24,
   "metadata": {
    "tags": [
     "hide-cell"
    ]
   },
   "outputs": [
    {
     "data": {
      "image/png": "[encoded data removed]",
      "text/latex": [
       "$\\displaystyle \\left[\\begin{matrix}1.0 & 0.613563533690226 & 0.275305015423435\\\\0.613563533690226 & 1.0 & 0.740976646110113\\\\0.275305015423435 & 0.740976646110113 & 1.0\\end{matrix}\\right]$"
      ],
      "text/plain": [
       "⎡       1.0         0.613563533690226  0.275305015423435⎤\n",
       "⎢                                                       ⎥\n",
       "⎢0.613563533690226         1.0         0.740976646110113⎥\n",
       "⎢                                                       ⎥\n",
       "⎣0.275305015423435  0.740976646110113         1.0       ⎦"
      ]
     },
     "execution_count": 24,
     "metadata": {
      "filenames": {
       "image/png": "/home/jfhlewyee/Cuantica-I/_build/jupyter_execute/Variacional_Lineal_41_0.png"
      }
     },
     "output_type": "execute_result"
    }
   ],
   "source": [
    "S = sp.zeros(3)\n",
    "S[0,0] = 4*sp.pi*sp.integrate(psi_1*psi_1*r**2,(r,0,sp.oo))\n",
    "S[0,1] = 4*sp.pi*sp.integrate(psi_1*psi_2*r**2,(r,0,sp.oo))\n",
    "S[0,2] = 4*sp.pi*sp.integrate(psi_1*psi_3*r**2,(r,0,sp.oo))\n",
    "S[1,0] = 4*sp.pi*sp.integrate(psi_2*psi_1*r**2,(r,0,sp.oo))\n",
    "S[1,1] = 4*sp.pi*sp.integrate(psi_2*psi_2*r**2,(r,0,sp.oo))\n",
    "S[1,2] = 4*sp.pi*sp.integrate(psi_2*psi_3*r**2,(r,0,sp.oo))\n",
    "S[2,0] = 4*sp.pi*sp.integrate(psi_3*psi_1*r**2,(r,0,sp.oo))\n",
    "S[2,1] = 4*sp.pi*sp.integrate(psi_3*psi_2*r**2,(r,0,sp.oo))\n",
    "S[2,2] = 4*sp.pi*sp.integrate(psi_3*psi_3*r**2,(r,0,sp.oo))\n",
    "S"
   ]
  },
  {
   "cell_type": "markdown",
   "metadata": {},
   "source": [
    "**Paso 3.** Resolver $\\color{red}{\\mathcal{H}\\mathcal{C} = \\mathcal{S}\\mathcal{C} \\mathcal{\\epsilon}}$\n",
    "\n",
    "Para ello utilizaremos la instrucción\n",
    "~~~python\n",
    "E,C = LA.eigh(H,S)\n",
    "~~~\n",
    "la cual resuelve directamente el problema $\\mathcal{H}\\mathcal{C} = \\mathcal{S}\\mathcal{C} \\mathcal{\\epsilon}$. La columna de $\\mathcal{C}$ con la energía más baja nos indica los coeficientes de la combinación lineal de la función de onda."
   ]
  },
  {
   "cell_type": "code",
   "execution_count": 25,
   "metadata": {},
   "outputs": [],
   "source": [
    "# Resuelva HC=SCe"
   ]
  },
  {
   "cell_type": "code",
   "execution_count": 26,
   "metadata": {
    "tags": [
     "hide-cell"
    ]
   },
   "outputs": [
    {
     "name": "stdout",
     "output_type": "stream",
     "text": [
      "[-0.4957408   0.32474441  4.70775684]\n",
      "[[ 0.09347468  0.06200336 -1.34099753]\n",
      " [ 0.37301543  1.35732612  1.31521322]\n",
      " [ 0.64687893 -1.33378635 -0.55358619]]\n"
     ]
    }
   ],
   "source": [
    "from scipy import linalg as LA\n",
    "\n",
    "H = np.array(H).astype(np.float64)\n",
    "S = np.array(S).astype(np.float64)\n",
    "\n",
    "E,C = LA.eigh(H,S)\n",
    "print(E)\n",
    "print(C)"
   ]
  },
  {
   "cell_type": "markdown",
   "metadata": {},
   "source": [
    "**Paso 4.** Sustituir los coeficientes en $\\psi_{prueba} = \\sum_{i=1} c_i \\psi_i$ para construir la función de onda."
   ]
  },
  {
   "cell_type": "code",
   "execution_count": 27,
   "metadata": {},
   "outputs": [],
   "source": [
    "# Genere la función de onda"
   ]
  },
  {
   "cell_type": "code",
   "execution_count": 28,
   "metadata": {
    "tags": [
     "hide-cell"
    ]
   },
   "outputs": [
    {
     "data": {
      "image/png": "[encoded data removed]",
      "text/latex": [
       "$\\displaystyle \\frac{0.395809094246985 e^{- 3.42525091 r^{2}}}{\\pi^{0.75}} + \\frac{0.440395331272388 e^{- 0.62391373 r^{2}}}{\\pi^{0.75}} + \\frac{0.286570656160425 e^{- 0.1688554 r^{2}}}{\\pi^{0.75}}$"
      ],
      "text/plain": [
       "                                       2                                      \n",
       "                   -0.75  -3.42525091⋅r                       -0.75  -0.623913\n",
       "0.395809094246985⋅π     ⋅ℯ               + 0.440395331272388⋅π     ⋅ℯ         \n",
       "\n",
       "    2                                         2\n",
       "73⋅r                       -0.75  -0.1688554⋅r \n",
       "      + 0.286570656160425⋅π     ⋅ℯ             "
      ]
     },
     "execution_count": 28,
     "metadata": {
      "filenames": {
       "image/png": "/home/jfhlewyee/Cuantica-I/_build/jupyter_execute/Variacional_Lineal_47_0.png"
      }
     },
     "output_type": "execute_result"
    }
   ],
   "source": [
    "psi_p = C[0][0]*psi_1 + C[1][0]*psi_2 + C[2][0]*psi_3\n",
    "psi_p"
   ]
  },
  {
   "cell_type": "markdown",
   "metadata": {},
   "source": [
    "**Compruebe la normalización**"
   ]
  },
  {
   "cell_type": "code",
   "execution_count": 29,
   "metadata": {},
   "outputs": [],
   "source": [
    "# Normalizacióm"
   ]
  },
  {
   "cell_type": "code",
   "execution_count": 30,
   "metadata": {
    "tags": [
     "hide-cell"
    ]
   },
   "outputs": [
    {
     "data": {
      "image/png": "[encoded data removed]",
      "text/latex": [
       "$\\displaystyle 0.999999999999999$"
      ],
      "text/plain": [
       "0.999999999999999"
      ]
     },
     "execution_count": 30,
     "metadata": {
      "filenames": {
       "image/png": "/home/jfhlewyee/Cuantica-I/_build/jupyter_execute/Variacional_Lineal_50_0.png"
      }
     },
     "output_type": "execute_result"
    }
   ],
   "source": [
    "4*sp.pi*sp.integrate(psi_p*psi_p*r**2,(r,0,sp.oo))"
   ]
  },
  {
   "cell_type": "markdown",
   "metadata": {},
   "source": [
    "**Guarde sus funciones para graficar**"
   ]
  },
  {
   "cell_type": "code",
   "execution_count": 31,
   "metadata": {},
   "outputs": [],
   "source": [
    "# Guarde funciones"
   ]
  },
  {
   "cell_type": "code",
   "execution_count": 32,
   "metadata": {
    "tags": [
     "hide-cell"
    ]
   },
   "outputs": [],
   "source": [
    "psi_3g = psi_p\n",
    "psi_3g_1 = psi_1\n",
    "psi_3g_2 = psi_2\n",
    "psi_3g_3 = psi_3"
   ]
  },
  {
   "cell_type": "markdown",
   "metadata": {},
   "source": [
    "**Genere la gráfica con tres gaussianas**"
   ]
  },
  {
   "cell_type": "code",
   "execution_count": 33,
   "metadata": {},
   "outputs": [],
   "source": [
    "# Gráfica"
   ]
  },
  {
   "cell_type": "code",
   "execution_count": 34,
   "metadata": {
    "scrolled": true
   },
   "outputs": [
    {
     "data": {
      "image/png": "[encoded data removed]",
      "text/plain": [
       "<Figure size 432x288 with 1 Axes>"
      ]
     },
     "metadata": {
      "filenames": {
       "image/png": "/home/jfhlewyee/Cuantica-I/_build/jupyter_execute/Variacional_Lineal_56_0.png"
      },
      "needs_background": "light"
     },
     "output_type": "display_data"
    }
   ],
   "source": [
    "from matplotlib import pyplot as plt\n",
    "\n",
    "s=1/sp.sqrt(sp.pi)*sp.exp(-sp.Abs(r))\n",
    "lam_s = sp.lambdify(r,s,modules=['numpy'])\n",
    "lam_psi_3g = sp.lambdify(r,psi_3g,modules=['numpy'])\n",
    "lam_psi_3g_1 = sp.lambdify(r,psi_3g_1,modules=['numpy'])\n",
    "lam_psi_3g_2 = sp.lambdify(r,psi_3g_2,modules=['numpy'])\n",
    "lam_psi_3g_3 = sp.lambdify(r,psi_3g_3,modules=['numpy'])\n",
    "\n",
    "r1 = np.linspace(-7,7,100)\n",
    "psi_s = lam_s(r1)\n",
    "psi_3g1 = lam_psi_3g(r1)\n",
    "psi_3g_1 = lam_psi_3g_1(r1)\n",
    "psi_3g_2 = lam_psi_3g_2(r1)\n",
    "psi_3g_3 = lam_psi_3g_3(r1)\n",
    "\n",
    "plt.plot(r1,psi_s,label=\"1s\")\n",
    "plt.plot(r1,psi_3g1,label=\"3g\")\n",
    "plt.plot(r1,psi_3g_1,label=\"psi_1\",linestyle=':')\n",
    "plt.plot(r1,psi_3g_2,label=\"psi_2\",linestyle=':')\n",
    "plt.plot(r1,psi_3g_3,label=\"psi_3\",linestyle=':')\n",
    "plt.legend()\n",
    "plt.show()"
   ]
  },
  {
   "cell_type": "markdown",
   "metadata": {},
   "source": [
    "## Átomo de hidrógeno dos gaussianas vs tres gaussianas"
   ]
  },
  {
   "cell_type": "markdown",
   "metadata": {},
   "source": [
    "En la gráfica se compara la función de onda aproximada por el método variacional lineal con dos gausianas y con tres gausianas contra la solución exacta del átomo de hidrógeno del orbital 1s. "
   ]
  },
  {
   "cell_type": "code",
   "execution_count": 35,
   "metadata": {},
   "outputs": [
    {
     "data": {
      "image/png": "[encoded data removed]",
      "text/plain": [
       "<Figure size 432x288 with 1 Axes>"
      ]
     },
     "metadata": {
      "filenames": {
       "image/png": "/home/jfhlewyee/Cuantica-I/_build/jupyter_execute/Variacional_Lineal_59_0.png"
      },
      "needs_background": "light"
     },
     "output_type": "display_data"
    }
   ],
   "source": [
    "from matplotlib import pyplot as plt\n",
    "\n",
    "s=1/sp.sqrt(sp.pi)*sp.exp(-sp.Abs(r))\n",
    "lam_s = sp.lambdify(r,s,modules=['numpy'])\n",
    "lam_psi_2g = sp.lambdify(r,psi_2g,modules=['numpy'])\n",
    "lam_psi_3g = sp.lambdify(r,psi_3g,modules=['numpy'])\n",
    "\n",
    "r1 = np.linspace(-7,7,100)\n",
    "psi_s = lam_s(r1)\n",
    "psi_2g1 = lam_psi_2g(r1)\n",
    "psi_3g1 = lam_psi_3g(r1)\n",
    "\n",
    "plt.plot(r1,psi_s,label=\"1s\")\n",
    "plt.plot(r1,-psi_2g1,label=\"2g\")\n",
    "plt.plot(r1,psi_3g1,label=\"3g\")\n",
    "plt.legend()\n",
    "plt.show()"
   ]
  },
  {
   "cell_type": "markdown",
   "metadata": {},
   "source": [
    "## Referencias"
   ]
  },
  {
   "cell_type": "markdown",
   "metadata": {},
   "source": [
    "- Atkins, P. W.; Friedman, R. Molecular Quantum Mechanics, 4th ed.; Oxford University Press: New York, 2005.\n",
    "- Pilar, F. L. Elementary Quantum Chemistry; 2001.\n",
    "- Zettili, N. Quantum Mechanics: Concepts and Applications, 2nd ed.; Wiley: Chichester, U.K, 2009.\n",
    "- Levine, I. N. Quantum Chemistry, 5th ed.; Prentice Hall: Upper Saddle River, N.J, 2000.\n",
    "- McQuarrie, D. A.; Simon, J. D. Physical Chemistry: A Molecular Approach; University Science Books: Sausalito, Calif, 1997."
   ]
  }
 ],
 "metadata": {
  "celltoolbar": "Tags",
  "kernelspec": {
   "display_name": "Python 3",
   "language": "python",
   "name": "python3"
  },
  "language_info": {
   "codemirror_mode": {
    "name": "ipython",
    "version": 3
   },
   "file_extension": ".py",
   "mimetype": "text/x-python",
   "name": "python",
   "nbconvert_exporter": "python",
   "pygments_lexer": "ipython3",
   "version": "3.7.9"
  }
 },
 "nbformat": 4,
 "nbformat_minor": 2
}