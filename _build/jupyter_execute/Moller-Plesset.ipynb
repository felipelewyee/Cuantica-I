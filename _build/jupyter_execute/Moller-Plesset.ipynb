{
 "cells": [
  {
   "cell_type": "markdown",
   "metadata": {},
   "source": [
    "# Moller-Plesset"
   ]
  },
  {
   "cell_type": "markdown",
   "metadata": {},
   "source": [
    "Las ecuaciones de Moller-Plesset surgen de aplicar la teoría de perturbaciones a Hartree-Fock. Para ello se toma como sistema conocido el Hamiltoniano de Hartree-Fock ($\\mathcal{H}_0$) y se le aplica  una perturbación ($\\mathcal{V}$) para convertirlo en el Hamiltoniano del sistema con correlación electrónica ($\\mathcal{H}$).\n",
    "\\begin{equation}\n",
    "\\mathcal{H} = \\mathcal{H}_0 + \\mathcal{V}\n",
    "\\end{equation}"
   ]
  },
  {
   "cell_type": "markdown",
   "metadata": {},
   "source": [
    "Para comenzar, **importe las librerías numpy y psi4**."
   ]
  },
  {
   "cell_type": "code",
   "execution_count": 1,
   "metadata": {
    "execution": {
     "iopub.execute_input": "2020-09-05T18:02:56.064903Z",
     "iopub.status.busy": "2020-09-05T18:02:56.064092Z",
     "iopub.status.idle": "2020-09-05T18:02:56.763498Z",
     "shell.execute_reply": "2020-09-05T18:02:56.763040Z"
    },
    "tags": [
     "hide-cell"
    ]
   },
   "outputs": [],
   "source": [
    "import numpy as np\n",
    "import psi4"
   ]
  },
  {
   "cell_type": "code",
   "execution_count": 2,
   "metadata": {
    "execution": {
     "iopub.execute_input": "2020-09-05T18:02:56.766916Z",
     "iopub.status.busy": "2020-09-05T18:02:56.766237Z",
     "iopub.status.idle": "2020-09-05T18:02:56.768155Z",
     "shell.execute_reply": "2020-09-05T18:02:56.768550Z"
    }
   },
   "outputs": [],
   "source": [
    "# Importe librerías"
   ]
  },
  {
   "cell_type": "markdown",
   "metadata": {},
   "source": [
    "**Defina una molécula de su interés.** A continuación se proporciona la geometría de la molécula de hidrógeno, aunque puede usar cualquier otro sistema. Se recomienda que sea pequeño por tiempo de ejecución.\n",
    "```\n",
    "H 0.0000  0.0000 0.0000\n",
    "H 0.0000  0.0000 0.7414 \n",
    "```"
   ]
  },
  {
   "cell_type": "code",
   "execution_count": 3,
   "metadata": {
    "execution": {
     "iopub.execute_input": "2020-09-05T18:02:56.792608Z",
     "iopub.status.busy": "2020-09-05T18:02:56.791688Z",
     "iopub.status.idle": "2020-09-05T18:02:56.794718Z",
     "shell.execute_reply": "2020-09-05T18:02:56.795478Z"
    },
    "tags": [
     "hide-cell"
    ]
   },
   "outputs": [],
   "source": [
    "mol = psi4.geometry(\"\"\"\n",
    "0 1\n",
    "H 0.0000  0.0000 0.0000\n",
    "H 0.0000  0.0000 0.7414 \n",
    "units angstrom\n",
    "symmetry C1\n",
    "\"\"\")"
   ]
  },
  {
   "cell_type": "code",
   "execution_count": 4,
   "metadata": {
    "execution": {
     "iopub.execute_input": "2020-09-05T18:02:56.804371Z",
     "iopub.status.busy": "2020-09-05T18:02:56.802357Z",
     "iopub.status.idle": "2020-09-05T18:02:56.806656Z",
     "shell.execute_reply": "2020-09-05T18:02:56.806176Z"
    }
   },
   "outputs": [],
   "source": [
    "# Defina molécula"
   ]
  },
  {
   "cell_type": "markdown",
   "metadata": {},
   "source": [
    "Ya que la teoría de Moller-Plesset corrige el Hamiltoniano de Hartree-Fock, **realice un cálculo de Hartree-Fock y recupere la energía y la función de onda**. La energía resultante contiene tanto energía electrónica como nuclear. Seleccione la base que desee, por ejemplo, 6-31G"
   ]
  },
  {
   "cell_type": "code",
   "execution_count": 5,
   "metadata": {
    "execution": {
     "iopub.execute_input": "2020-09-05T18:02:56.819205Z",
     "iopub.status.busy": "2020-09-05T18:02:56.818635Z",
     "iopub.status.idle": "2020-09-05T18:02:57.175516Z",
     "shell.execute_reply": "2020-09-05T18:02:57.175979Z"
    },
    "tags": [
     "hide-cell"
    ]
   },
   "outputs": [
    {
     "name": "stdout",
     "output_type": "stream",
     "text": [
      "E_HF = -1.1267350944766286\n"
     ]
    }
   ],
   "source": [
    "E_HF, wfn = psi4.energy('HF/6-31G',return_wfn=True)\n",
    "print(\"E_HF =\",E_HF)"
   ]
  },
  {
   "cell_type": "code",
   "execution_count": 6,
   "metadata": {
    "execution": {
     "iopub.execute_input": "2020-09-05T18:02:57.179001Z",
     "iopub.status.busy": "2020-09-05T18:02:57.178497Z",
     "iopub.status.idle": "2020-09-05T18:02:57.180572Z",
     "shell.execute_reply": "2020-09-05T18:02:57.181392Z"
    }
   },
   "outputs": [],
   "source": [
    "# Calcule E_HF y wfn"
   ]
  },
  {
   "cell_type": "markdown",
   "metadata": {},
   "source": [
    "**Obtenga la energía nuclear**"
   ]
  },
  {
   "cell_type": "code",
   "execution_count": 7,
   "metadata": {
    "execution": {
     "iopub.execute_input": "2020-09-05T18:02:57.187698Z",
     "iopub.status.busy": "2020-09-05T18:02:57.186890Z",
     "iopub.status.idle": "2020-09-05T18:02:57.190765Z",
     "shell.execute_reply": "2020-09-05T18:02:57.190268Z"
    },
    "tags": [
     "hide-cell"
    ]
   },
   "outputs": [
    {
     "name": "stdout",
     "output_type": "stream",
     "text": [
      "E_nuc = 0.7137539933504182\n"
     ]
    }
   ],
   "source": [
    "E_nuc = mol.nuclear_repulsion_energy() \n",
    "print(\"E_nuc =\",E_nuc)"
   ]
  },
  {
   "cell_type": "code",
   "execution_count": 8,
   "metadata": {
    "execution": {
     "iopub.execute_input": "2020-09-05T18:02:57.194074Z",
     "iopub.status.busy": "2020-09-05T18:02:57.193521Z",
     "iopub.status.idle": "2020-09-05T18:02:57.195545Z",
     "shell.execute_reply": "2020-09-05T18:02:57.195934Z"
    }
   },
   "outputs": [],
   "source": [
    "# E_nuc"
   ]
  },
  {
   "cell_type": "markdown",
   "metadata": {},
   "source": [
    "**Obtenga los coeficientes de los orbitales moleculares a partir de la función de onda**"
   ]
  },
  {
   "cell_type": "code",
   "execution_count": 9,
   "metadata": {
    "execution": {
     "iopub.execute_input": "2020-09-05T18:02:57.199559Z",
     "iopub.status.busy": "2020-09-05T18:02:57.198969Z",
     "iopub.status.idle": "2020-09-05T18:02:57.201091Z",
     "shell.execute_reply": "2020-09-05T18:02:57.201580Z"
    },
    "tags": [
     "hide-cell"
    ]
   },
   "outputs": [],
   "source": [
    "C = np.asarray(wfn.Ca())"
   ]
  },
  {
   "cell_type": "code",
   "execution_count": 10,
   "metadata": {
    "execution": {
     "iopub.execute_input": "2020-09-05T18:02:57.204823Z",
     "iopub.status.busy": "2020-09-05T18:02:57.204161Z",
     "iopub.status.idle": "2020-09-05T18:02:57.206552Z",
     "shell.execute_reply": "2020-09-05T18:02:57.206108Z"
    }
   },
   "outputs": [],
   "source": [
    "# Coeficientes"
   ]
  },
  {
   "cell_type": "markdown",
   "metadata": {},
   "source": [
    "**Obtenga el número de funciones de base ($N_{bf}$), de orbitales moleculares ($N_{mo})$ y de electrones ($N_{e}$)**"
   ]
  },
  {
   "cell_type": "code",
   "execution_count": 11,
   "metadata": {
    "execution": {
     "iopub.execute_input": "2020-09-05T18:02:57.211479Z",
     "iopub.status.busy": "2020-09-05T18:02:57.210626Z",
     "iopub.status.idle": "2020-09-05T18:02:57.214155Z",
     "shell.execute_reply": "2020-09-05T18:02:57.214730Z"
    },
    "tags": [
     "hide-cell"
    ]
   },
   "outputs": [
    {
     "name": "stdout",
     "output_type": "stream",
     "text": [
      "nbf = 4  nmo = 4  ne = 2\n"
     ]
    }
   ],
   "source": [
    "nbf = len(C)\n",
    "nmo = wfn.nmo()\n",
    "ne = wfn.nalpha() + wfn.nbeta()\n",
    "print(\"nbf =\",nbf,\" nmo =\",nmo,\" ne =\",ne)"
   ]
  },
  {
   "cell_type": "code",
   "execution_count": 12,
   "metadata": {
    "execution": {
     "iopub.execute_input": "2020-09-05T18:02:57.218942Z",
     "iopub.status.busy": "2020-09-05T18:02:57.218168Z",
     "iopub.status.idle": "2020-09-05T18:02:57.220454Z",
     "shell.execute_reply": "2020-09-05T18:02:57.220991Z"
    }
   },
   "outputs": [],
   "source": [
    "# nbf, nmo y ne"
   ]
  },
  {
   "cell_type": "markdown",
   "metadata": {},
   "source": [
    "Vamos a necesitar integrales de repulsión electónica\n",
    "\\begin{equation}\n",
    "[\\mu \\nu | \\sigma \\lambda] = \\int \\int \\frac{\\mu(r_1) \\nu(r_1) \\sigma(r_2) \\lambda(r_2)}{ |r_1 - r_2| } dr_1 dr_2\n",
    "\\end{equation}\n",
    "donde $\\mu$, $\\nu$, $\\sigma$ y $\\lambda$ se refieren a orbitales atómicos.\n",
    "\n",
    "**Obtenga las las integrales $[\\mu\\nu|\\sigma\\lambda]$ y guardarlas en la variable I_AO**\n",
    "`````{tip}\n",
    "Puede usar las siguientes líneas\n",
    "~~~\n",
    "mints = psi4.core.MintsHelper(wfn.basisset())\n",
    "I_AO = np.asarray(mints.ao_eri())\n",
    "~~~\n",
    "`````"
   ]
  },
  {
   "cell_type": "code",
   "execution_count": 13,
   "metadata": {
    "execution": {
     "iopub.execute_input": "2020-09-05T18:02:57.240929Z",
     "iopub.status.busy": "2020-09-05T18:02:57.240347Z",
     "iopub.status.idle": "2020-09-05T18:02:57.242774Z",
     "shell.execute_reply": "2020-09-05T18:02:57.242322Z"
    },
    "tags": [
     "hide-cell"
    ]
   },
   "outputs": [],
   "source": [
    "mints = psi4.core.MintsHelper(wfn.basisset())\n",
    "I_AO = np.asarray(mints.ao_eri())"
   ]
  },
  {
   "cell_type": "code",
   "execution_count": 14,
   "metadata": {
    "execution": {
     "iopub.execute_input": "2020-09-05T18:02:57.245887Z",
     "iopub.status.busy": "2020-09-05T18:02:57.245351Z",
     "iopub.status.idle": "2020-09-05T18:02:57.247875Z",
     "shell.execute_reply": "2020-09-05T18:02:57.247355Z"
    }
   },
   "outputs": [],
   "source": [
    "# ERIs I_AO"
   ]
  },
  {
   "cell_type": "markdown",
   "metadata": {},
   "source": [
    "```{Note}\n",
    "Los software de estructura electrónica usan formas optimizados de las ecuaciones aquí mostradas. Este notebook ha sido creado sólo con fines didácticos.\n",
    "```"
   ]
  },
  {
   "cell_type": "markdown",
   "metadata": {},
   "source": [
    "La teoría de Moller-Plesset requiere que estas integrales sean transformadas a orbital molecular. Recuerde que un orbital molecular es una combinación lineal de orbitales atómicos\n",
    "\\begin{equation}\n",
    "p(r) = \\sum_\\mu C_{\\mu p} \\mu (r)\n",
    "\\end{equation}\n",
    "\n",
    "En el siguiente recuadro **declare una variable I_MO de dimensión ($N_{MO}$,$N_{MO}$,$N_{MO}$,$N_{MO}$), y lleve a cabo la transformación**\n",
    "\n",
    "\\begin{equation}\n",
    "[pq|rt] = \\sum_{\\mu\\nu\\sigma\\lambda}^N C_{\\mu p} C_{\\nu q} C_{\\sigma r} C_{\\lambda s} [\\mu \\nu | \\sigma \\lambda]\n",
    "\\end{equation}"
   ]
  },
  {
   "cell_type": "markdown",
   "metadata": {},
   "source": [
    "```{tip}\n",
    "Utilice 4 for para recorrer los orbitales moleculares, y 4 for para recorrer las funciones de base.\n",
    "```\n",
    "\n",
    "`````{margin}\n",
    "Alternativamente puede usar la instrucción\n",
    "~~~\n",
    "I_MO = np.einsum('mp,nq,sr,lt,mnsl->pqrt',C,C,C,C,I_AO,optimize=True)\n",
    "~~~\n",
    "La cual es sustancialmente más rápida que los 8 for. Esto puede hacer su programa más rápido si su sistema no es tan pequeño.\n",
    "`````"
   ]
  },
  {
   "cell_type": "code",
   "execution_count": 15,
   "metadata": {
    "execution": {
     "iopub.execute_input": "2020-09-05T18:02:57.262937Z",
     "iopub.status.busy": "2020-09-05T18:02:57.257836Z",
     "iopub.status.idle": "2020-09-05T18:02:57.538772Z",
     "shell.execute_reply": "2020-09-05T18:02:57.538116Z"
    },
    "tags": [
     "hide-cell"
    ]
   },
   "outputs": [],
   "source": [
    "I_MO = np.zeros((nmo,nmo,nmo,nmo))\n",
    "for p in range(nmo):\n",
    "    for q in range(nmo):\n",
    "        for r in range(nmo):\n",
    "            for t in range(nmo):\n",
    "                for m in range(nbf):\n",
    "                    for n in range(nbf):\n",
    "                        for s in range(nbf):\n",
    "                            for l in range(nbf):\n",
    "                                I_MO[p][q][r][t] = I_MO[p][q][r][t] + C[m][p]*C[n][q]*C[s][r]*C[l][t]*I_AO[m][n][s][l]"
   ]
  },
  {
   "cell_type": "code",
   "execution_count": 16,
   "metadata": {
    "execution": {
     "iopub.execute_input": "2020-09-05T18:02:57.542367Z",
     "iopub.status.busy": "2020-09-05T18:02:57.541617Z",
     "iopub.status.idle": "2020-09-05T18:02:57.543680Z",
     "shell.execute_reply": "2020-09-05T18:02:57.544095Z"
    }
   },
   "outputs": [],
   "source": [
    "# ERIs I_MO"
   ]
  },
  {
   "cell_type": "markdown",
   "metadata": {},
   "source": [
    "**Obtenga las energías de los orbitales moleculares ($\\varepsilon_a$)**\n",
    "`````{tip}\n",
    "Puede usar el siguiente código\n",
    "~~~\n",
    "epsilon = wfn.epsilon_a()\n",
    "~~~\n",
    "`````"
   ]
  },
  {
   "cell_type": "code",
   "execution_count": 17,
   "metadata": {
    "execution": {
     "iopub.execute_input": "2020-09-05T18:02:57.547887Z",
     "iopub.status.busy": "2020-09-05T18:02:57.547250Z",
     "iopub.status.idle": "2020-09-05T18:02:57.549561Z",
     "shell.execute_reply": "2020-09-05T18:02:57.549121Z"
    },
    "tags": [
     "hide-cell"
    ]
   },
   "outputs": [],
   "source": [
    "epsilon = np.array(wfn.epsilon_a())"
   ]
  },
  {
   "cell_type": "code",
   "execution_count": 18,
   "metadata": {
    "execution": {
     "iopub.execute_input": "2020-09-05T18:02:57.552639Z",
     "iopub.status.busy": "2020-09-05T18:02:57.552113Z",
     "iopub.status.idle": "2020-09-05T18:02:57.554168Z",
     "shell.execute_reply": "2020-09-05T18:02:57.554736Z"
    }
   },
   "outputs": [],
   "source": [
    "# epsilon"
   ]
  },
  {
   "cell_type": "markdown",
   "metadata": {},
   "source": [
    "Recordando teoría de perturbaciones, es posible realizar correcciones de n-orden a la energía $E_i^{(n)}$, tal que la energía electrónica total del estado basal ($i=0$) es\n",
    "\\begin{equation}\n",
    "E = E_0^{(0)} + E_0^{(1)} + E_0^{(2)} + E_0^{(3)} + E_0^{(4)} ...\n",
    "\\end{equation}\n",
    "\n",
    "dependiendo del n-orden hasta el que se haga la corrección sobre la energía al cálculo se le denomina MPn, siendo los más comunes son MP2, MP3 y MP4.\n",
    "\n",
    "En Moller-Plesset estos términos son:\n",
    "\\begin{equation}\n",
    "E_0^{(0)} = 2\\sum_{a}^{N_e/2} {\\varepsilon_a}\n",
    "\\end{equation}\n",
    "\\begin{equation}\n",
    "E_0^{(1)} = -2 \\sum_{a}^{N_e/2}\\sum_{b}^{N_e/2} [aa|bb] - [ab|ba]\n",
    "\\end{equation}\n",
    "donde los índices $a$, $b$ refieren a orbitales moleculares ocupados, y los términos $\\varepsilon_a$, $\\varepsilon_b$, a sus energías.\n",
    "\n",
    "**Calcule $E_0^{(0)}$ y $E_0^{(1)}$**."
   ]
  },
  {
   "cell_type": "markdown",
   "metadata": {},
   "source": [
    "```{Caution}\n",
    "Aunque las sumas empiezan en el primer orbital molecular ocupado, recuerde que en Python los índices empiezan en cero.\n",
    "```"
   ]
  },
  {
   "cell_type": "code",
   "execution_count": 19,
   "metadata": {
    "execution": {
     "iopub.execute_input": "2020-09-05T18:02:57.560858Z",
     "iopub.status.busy": "2020-09-05T18:02:57.560070Z",
     "iopub.status.idle": "2020-09-05T18:02:57.562911Z",
     "shell.execute_reply": "2020-09-05T18:02:57.562269Z"
    },
    "tags": [
     "hide-cell"
    ]
   },
   "outputs": [],
   "source": [
    "E_0 = 0\n",
    "for a in range(int(ne/2)):\n",
    "    E_0 = E_0 + 2*epsilon[a]\n",
    "    \n",
    "E_1 = 0\n",
    "for a in range(int(ne/2)):\n",
    "    for b in range(int(ne/2)):\n",
    "        E_1 = E_1 - 2 * I_MO[a][a][b][b] + I_MO[a][b][b][a]"
   ]
  },
  {
   "cell_type": "code",
   "execution_count": 20,
   "metadata": {
    "execution": {
     "iopub.execute_input": "2020-09-05T18:02:57.566718Z",
     "iopub.status.busy": "2020-09-05T18:02:57.566042Z",
     "iopub.status.idle": "2020-09-05T18:02:57.568181Z",
     "shell.execute_reply": "2020-09-05T18:02:57.568671Z"
    }
   },
   "outputs": [],
   "source": [
    "# E_0 y E_1"
   ]
  },
  {
   "cell_type": "markdown",
   "metadata": {},
   "source": [
    "**Calcule la energía total de MP1**, recuerde sumar la energía nuclear, es decir\n",
    "\n",
    "\\begin{equation}\n",
    "E_{MP1} = E_{nuc} + E_0^{(0)} + E_0^{(1)}\n",
    "\\end{equation}"
   ]
  },
  {
   "cell_type": "code",
   "execution_count": 21,
   "metadata": {
    "execution": {
     "iopub.execute_input": "2020-09-05T18:02:57.572909Z",
     "iopub.status.busy": "2020-09-05T18:02:57.572276Z",
     "iopub.status.idle": "2020-09-05T18:02:57.575844Z",
     "shell.execute_reply": "2020-09-05T18:02:57.576515Z"
    },
    "tags": [
     "hide-cell"
    ]
   },
   "outputs": [
    {
     "name": "stdout",
     "output_type": "stream",
     "text": [
      "E_MP1 = -1.1267362218749755\n"
     ]
    }
   ],
   "source": [
    "E_MP1 = E_nuc + E_0 + E_1\n",
    "print(\"E_MP1 =\",E_MP1)"
   ]
  },
  {
   "cell_type": "code",
   "execution_count": 22,
   "metadata": {
    "execution": {
     "iopub.execute_input": "2020-09-05T18:02:57.581548Z",
     "iopub.status.busy": "2020-09-05T18:02:57.580432Z",
     "iopub.status.idle": "2020-09-05T18:02:57.583212Z",
     "shell.execute_reply": "2020-09-05T18:02:57.583817Z"
    }
   },
   "outputs": [],
   "source": [
    "# E_MP1"
   ]
  },
  {
   "cell_type": "markdown",
   "metadata": {},
   "source": [
    "Calcule la diferencia entre $E_{MP1}$ y la energía de Hartree-Fock que calculó al inicio, **¿Cuál es la energía de correlación? ¿Cómo se relaciona $E_{MP1}$ con $E_{HF}$?**"
   ]
  },
  {
   "cell_type": "markdown",
   "metadata": {},
   "source": [
    "**Respuesta:**"
   ]
  },
  {
   "cell_type": "markdown",
   "metadata": {},
   "source": [
    "La energía de Hartree-Fock se calcula como\n",
    "\\begin{equation}\n",
    "E_{HF} = E_{nuc} + 2\\sum_a^{N_e/2} {\\varepsilon_a} -2 \\sum_{a}^{N/2}\\sum_{b}^{N/2} [aa|bb] - [ab|ba]\n",
    "\\end{equation}\n",
    "\n",
    "esta es exactamente la misma expresion que $E_{MP1}$. La primera corrección a la energía aparece en $E_{MP2}$. La corrección a segundo orden es\n",
    "\\begin{equation}\n",
    "E_0^{(2)} = 2 \\sum_{a}^{N_e/2}\\sum_{b}^{N_e/2}\\sum_{r=N_e+1}^{N_{bf}}\\sum_{s=N_e+1}^{N_{bf}} \\frac{[ar|bs][ra|sb]}{\\varepsilon_{a}+\\varepsilon_{b}-\\varepsilon_{r}-\\varepsilon_{s}} - \\sum_{abrs}^{N_e/2} \\frac{[ar|bs][rb|sa]}{\\varepsilon_{a}+\\varepsilon_{b}-\\varepsilon_{r}-\\varepsilon_{s}}\n",
    "\\end{equation}\n",
    "\n",
    "donde $r$, $s$ son los orbitales moleculares desocupados.\n",
    "\n",
    "**Calcule $E_0^{(2)}$, la energía de $MP2$** dada por\n",
    "\\begin{equation}\n",
    "E_{MP2} = E_{nuc} + E_0^{(0)} + E_0^{(1)} + E_0^{(2)}\n",
    "\\end{equation}\n",
    "\n",
    "**y la energía de correlación**\n",
    "\\begin{equation}\n",
    "E_{corr} = E_{MP2} - E_{HF}\n",
    "\\end{equation}"
   ]
  },
  {
   "cell_type": "code",
   "execution_count": 23,
   "metadata": {
    "execution": {
     "iopub.execute_input": "2020-09-05T18:02:57.593580Z",
     "iopub.status.busy": "2020-09-05T18:02:57.592796Z",
     "iopub.status.idle": "2020-09-05T18:02:57.595302Z",
     "shell.execute_reply": "2020-09-05T18:02:57.595707Z"
    },
    "tags": [
     "hide-cell"
    ]
   },
   "outputs": [
    {
     "name": "stdout",
     "output_type": "stream",
     "text": [
      "E_MP2 = -1.1441326668038203\n",
      "E_corr = -0.017397572327191746\n"
     ]
    }
   ],
   "source": [
    "E_2 = 0\n",
    "for a in range(int(ne/2)):\n",
    "    for b in range(int(ne/2)):\n",
    "        for r in range(int(ne/2),nbf):\n",
    "            for s in range(int(ne/2),nbf):\n",
    "                E_2 = E_2 + 2*(I_MO[a][r][b][s]*I_MO[r][a][s][b])/(epsilon[a] + epsilon[b] - epsilon[r]- epsilon[s])\n",
    "                E_2 = E_2 -   (I_MO[a][r][b][s]*I_MO[r][b][s][a])/(epsilon[a] + epsilon[b] - epsilon[r]- epsilon[s])\n",
    "                \n",
    "E_MP2 = E_nuc + E_0 + E_1 + E_2\n",
    "print(\"E_MP2 =\",E_MP2)\n",
    "\n",
    "print(\"E_corr =\",E_MP2-E_HF)"
   ]
  },
  {
   "cell_type": "code",
   "execution_count": 24,
   "metadata": {
    "execution": {
     "iopub.execute_input": "2020-09-05T18:02:57.598683Z",
     "iopub.status.busy": "2020-09-05T18:02:57.598173Z",
     "iopub.status.idle": "2020-09-05T18:02:57.600215Z",
     "shell.execute_reply": "2020-09-05T18:02:57.600612Z"
    }
   },
   "outputs": [],
   "source": [
    "# E_2, E_MP2 y E_corr"
   ]
  },
  {
   "cell_type": "markdown",
   "metadata": {},
   "source": [
    "```{important}\n",
    "Generalizando, la energía total de MPn es\n",
    "\\begin{equation}\n",
    "E_{MPn} = E_{nuc} + E_0^{(0)} + E_0^{(1)} + E_0^{(2)} + ... + E_0^{(n)}\n",
    "\\end{equation}\n",
    "\n",
    "Al restarle la energía de Hartree-Fock se obtiene\n",
    "\\begin{equation}\n",
    "E_{corr} = E_{MPn} - E_{HF} = E_0^{(2)} + ... + E_0^{(n)}\n",
    "\\end{equation}\n",
    "```"
   ]
  },
  {
   "cell_type": "markdown",
   "metadata": {},
   "source": [
    "**Adapte la instrucción a MP2 junto con la base que usó para comprobar sus resultados**.\n",
    "```\n",
    "E_MPn = psi4.energy('MPn/Base')\n",
    "print(\"E_MPn =\",E_MPn)\n",
    "```"
   ]
  },
  {
   "cell_type": "code",
   "execution_count": 25,
   "metadata": {
    "execution": {
     "iopub.execute_input": "2020-09-05T18:02:57.616649Z",
     "iopub.status.busy": "2020-09-05T18:02:57.616153Z",
     "iopub.status.idle": "2020-09-05T18:02:58.036887Z",
     "shell.execute_reply": "2020-09-05T18:02:58.037309Z"
    },
    "tags": [
     "hide-cell"
    ]
   },
   "outputs": [
    {
     "name": "stdout",
     "output_type": "stream",
     "text": [
      "E_MP2 = -1.144114422972474\n"
     ]
    }
   ],
   "source": [
    "E_MP2 = psi4.energy('MP2/6-31G')\n",
    "print(\"E_MP2 =\",E_MP2)"
   ]
  },
  {
   "cell_type": "code",
   "execution_count": 26,
   "metadata": {
    "execution": {
     "iopub.execute_input": "2020-09-05T18:02:58.040686Z",
     "iopub.status.busy": "2020-09-05T18:02:58.039927Z",
     "iopub.status.idle": "2020-09-05T18:02:58.042682Z",
     "shell.execute_reply": "2020-09-05T18:02:58.042124Z"
    }
   },
   "outputs": [],
   "source": [
    "# E_MP2 psi4"
   ]
  }
 ],
 "metadata": {
  "celltoolbar": "Tags",
  "kernelspec": {
   "display_name": "Python 3",
   "language": "python",
   "name": "python3"
  },
  "language_info": {
   "codemirror_mode": {
    "name": "ipython",
    "version": 3
   },
   "file_extension": ".py",
   "mimetype": "text/x-python",
   "name": "python",
   "nbconvert_exporter": "python",
   "pygments_lexer": "ipython3",
   "version": "3.7.7"
  }
 },
 "nbformat": 4,
 "nbformat_minor": 4
}