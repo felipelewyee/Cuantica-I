{
 "cells": [
  {
   "cell_type": "markdown",
   "metadata": {},
   "source": [
    "# Moller-Plesset"
   ]
  },
  {
   "cell_type": "markdown",
   "metadata": {},
   "source": [
    "Las ecuaciones de Moller-Plesset surgen de aplicar la teoría de perturbaciones a Hartree-Fock. Para ello se toma como sistema conocido el Hamiltoniano de Hartree-Fock ($\\mathcal{H}_0$) y se le aplica  una perturbación ($\\mathcal{V}$) para convertirlo en el Hamiltoniano del sistema con correlación electrónica ($\\mathcal{H}$).\n",
    "\\begin{equation}\n",
    "\\mathcal{H} = \\mathcal{H}_0 + \\mathcal{V}\n",
    "\\end{equation}"
   ]
  },
  {
   "cell_type": "markdown",
   "metadata": {},
   "source": [
    "Para comenzar, **importe las librerías numpy y psi4**."
   ]
  },
  {
   "cell_type": "code",
   "execution_count": 1,
   "metadata": {
    "execution": {
     "iopub.execute_input": "2020-09-05T21:19:21.545532Z",
     "iopub.status.busy": "2020-09-05T21:19:21.543691Z",
     "iopub.status.idle": "2020-09-05T21:19:22.244539Z",
     "shell.execute_reply": "2020-09-05T21:19:22.243915Z"
    },
    "tags": [
     "hide-cell"
    ]
   },
   "outputs": [],
   "source": [
    "import numpy as np\n",
    "import psi4"
   ]
  },
  {
   "cell_type": "code",
   "execution_count": 2,
   "metadata": {
    "execution": {
     "iopub.execute_input": "2020-09-05T21:19:22.248207Z",
     "iopub.status.busy": "2020-09-05T21:19:22.247582Z",
     "iopub.status.idle": "2020-09-05T21:19:22.249726Z",
     "shell.execute_reply": "2020-09-05T21:19:22.250131Z"
    }
   },
   "outputs": [],
   "source": [
    "# Importe librerías"
   ]
  },
  {
   "cell_type": "markdown",
   "metadata": {},
   "source": [
    "**Defina una molécula de su interés.** A continuación se proporciona la geometría de la molécula de hidrógeno, aunque puede usar cualquier otro sistema. Se recomienda que sea pequeño por tiempo de ejecución.\n",
    "```\n",
    "H 0.0000  0.0000 0.0000\n",
    "H 0.0000  0.0000 0.7414 \n",
    "```"
   ]
  },
  {
   "cell_type": "code",
   "execution_count": 3,
   "metadata": {
    "execution": {
     "iopub.execute_input": "2020-09-05T21:19:22.275718Z",
     "iopub.status.busy": "2020-09-05T21:19:22.275047Z",
     "iopub.status.idle": "2020-09-05T21:19:22.278473Z",
     "shell.execute_reply": "2020-09-05T21:19:22.279523Z"
    },
    "tags": [
     "hide-cell"
    ]
   },
   "outputs": [],
   "source": [
    "mol = psi4.geometry(\"\"\"\n",
    "0 1\n",
    "H 0.0000  0.0000 0.0000\n",
    "H 0.0000  0.0000 0.7414 \n",
    "units angstrom\n",
    "symmetry C1\n",
    "\"\"\")"
   ]
  },
  {
   "cell_type": "code",
   "execution_count": 4,
   "metadata": {
    "execution": {
     "iopub.execute_input": "2020-09-05T21:19:22.285628Z",
     "iopub.status.busy": "2020-09-05T21:19:22.284403Z",
     "iopub.status.idle": "2020-09-05T21:19:22.288298Z",
     "shell.execute_reply": "2020-09-05T21:19:22.287549Z"
    }
   },
   "outputs": [],
   "source": [
    "# Defina molécula"
   ]
  },
  {
   "cell_type": "markdown",
   "metadata": {},
   "source": [
    "Ya que la teoría de Moller-Plesset corrige el Hamiltoniano de Hartree-Fock, **realice un cálculo de Hartree-Fock y recupere la energía y la función de onda**. La energía resultante contiene tanto energía electrónica como nuclear. Seleccione la base que desee, por ejemplo, 6-31G"
   ]
  },
  {
   "cell_type": "code",
   "execution_count": 5,
   "metadata": {
    "execution": {
     "iopub.execute_input": "2020-09-05T21:19:22.304743Z",
     "iopub.status.busy": "2020-09-05T21:19:22.303915Z",
     "iopub.status.idle": "2020-09-05T21:19:22.672321Z",
     "shell.execute_reply": "2020-09-05T21:19:22.672772Z"
    },
    "tags": [
     "hide-cell"
    ]
   },
   "outputs": [
    {
     "name": "stdout",
     "output_type": "stream",
     "text": [
      "E_HF = -1.1267350944766286\n"
     ]
    }
   ],
   "source": [
    "E_HF, wfn = psi4.energy('HF/6-31G',return_wfn=True)\n",
    "print(\"E_HF =\",E_HF)"
   ]
  },
  {
   "cell_type": "code",
   "execution_count": 6,
   "metadata": {
    "execution": {
     "iopub.execute_input": "2020-09-05T21:19:22.676063Z",
     "iopub.status.busy": "2020-09-05T21:19:22.675380Z",
     "iopub.status.idle": "2020-09-05T21:19:22.678196Z",
     "shell.execute_reply": "2020-09-05T21:19:22.678721Z"
    }
   },
   "outputs": [],
   "source": [
    "# Calcule E_HF y wfn"
   ]
  },
  {
   "cell_type": "markdown",
   "metadata": {},
   "source": [
    "**Obtenga la energía nuclear**"
   ]
  },
  {
   "cell_type": "code",
   "execution_count": 7,
   "metadata": {
    "execution": {
     "iopub.execute_input": "2020-09-05T21:19:22.683029Z",
     "iopub.status.busy": "2020-09-05T21:19:22.682442Z",
     "iopub.status.idle": "2020-09-05T21:19:22.685307Z",
     "shell.execute_reply": "2020-09-05T21:19:22.685755Z"
    },
    "tags": [
     "hide-cell"
    ]
   },
   "outputs": [
    {
     "name": "stdout",
     "output_type": "stream",
     "text": [
      "E_nuc = 0.7137539933504182\n"
     ]
    }
   ],
   "source": [
    "E_nuc = mol.nuclear_repulsion_energy() \n",
    "print(\"E_nuc =\",E_nuc)"
   ]
  },
  {
   "cell_type": "code",
   "execution_count": 8,
   "metadata": {
    "execution": {
     "iopub.execute_input": "2020-09-05T21:19:22.689558Z",
     "iopub.status.busy": "2020-09-05T21:19:22.689062Z",
     "iopub.status.idle": "2020-09-05T21:19:22.691033Z",
     "shell.execute_reply": "2020-09-05T21:19:22.691450Z"
    }
   },
   "outputs": [],
   "source": [
    "# E_nuc"
   ]
  },
  {
   "cell_type": "markdown",
   "metadata": {},
   "source": [
    "**Obtenga los coeficientes de los orbitales moleculares a partir de la función de onda**"
   ]
  },
  {
   "cell_type": "code",
   "execution_count": 9,
   "metadata": {
    "execution": {
     "iopub.execute_input": "2020-09-05T21:19:22.695092Z",
     "iopub.status.busy": "2020-09-05T21:19:22.694461Z",
     "iopub.status.idle": "2020-09-05T21:19:22.697027Z",
     "shell.execute_reply": "2020-09-05T21:19:22.697567Z"
    },
    "tags": [
     "hide-cell"
    ]
   },
   "outputs": [],
   "source": [
    "C = np.asarray(wfn.Ca())"
   ]
  },
  {
   "cell_type": "code",
   "execution_count": 10,
   "metadata": {
    "execution": {
     "iopub.execute_input": "2020-09-05T21:19:22.701324Z",
     "iopub.status.busy": "2020-09-05T21:19:22.700686Z",
     "iopub.status.idle": "2020-09-05T21:19:22.702904Z",
     "shell.execute_reply": "2020-09-05T21:19:22.703396Z"
    }
   },
   "outputs": [],
   "source": [
    "# Coeficientes"
   ]
  },
  {
   "cell_type": "markdown",
   "metadata": {},
   "source": [
    "**Obtenga el número de funciones de base ($N_{bf}$), de orbitales moleculares ($N_{mo})$ y de electrones ($N_{e}$)**"
   ]
  },
  {
   "cell_type": "code",
   "execution_count": 11,
   "metadata": {
    "execution": {
     "iopub.execute_input": "2020-09-05T21:19:22.708637Z",
     "iopub.status.busy": "2020-09-05T21:19:22.707993Z",
     "iopub.status.idle": "2020-09-05T21:19:22.711192Z",
     "shell.execute_reply": "2020-09-05T21:19:22.711694Z"
    },
    "tags": [
     "hide-cell"
    ]
   },
   "outputs": [
    {
     "name": "stdout",
     "output_type": "stream",
     "text": [
      "nbf = 4  nmo = 4  ne = 2\n"
     ]
    }
   ],
   "source": [
    "nbf = len(C)\n",
    "nmo = wfn.nmo()\n",
    "ne = wfn.nalpha() + wfn.nbeta()\n",
    "print(\"nbf =\",nbf,\" nmo =\",nmo,\" ne =\",ne)"
   ]
  },
  {
   "cell_type": "code",
   "execution_count": 12,
   "metadata": {
    "execution": {
     "iopub.execute_input": "2020-09-05T21:19:22.715334Z",
     "iopub.status.busy": "2020-09-05T21:19:22.714719Z",
     "iopub.status.idle": "2020-09-05T21:19:22.717722Z",
     "shell.execute_reply": "2020-09-05T21:19:22.717134Z"
    }
   },
   "outputs": [],
   "source": [
    "# nbf, nmo y ne"
   ]
  },
  {
   "cell_type": "markdown",
   "metadata": {},
   "source": [
    "Vamos a necesitar integrales de repulsión electónica\n",
    "\\begin{equation}\n",
    "[\\mu \\nu | \\sigma \\lambda] = \\int \\int \\frac{\\mu(r_1) \\nu(r_1) \\sigma(r_2) \\lambda(r_2)}{ |r_1 - r_2| } dr_1 dr_2\n",
    "\\end{equation}\n",
    "donde $\\mu$, $\\nu$, $\\sigma$ y $\\lambda$ se refieren a orbitales atómicos.\n",
    "\n",
    "**Obtenga las las integrales $[\\mu\\nu|\\sigma\\lambda]$ y guardarlas en la variable I_AO**\n",
    "`````{tip}\n",
    "Puede usar las siguientes líneas\n",
    "~~~\n",
    "mints = psi4.core.MintsHelper(wfn.basisset())\n",
    "I_AO = np.asarray(mints.ao_eri())\n",
    "~~~\n",
    "`````"
   ]
  },
  {
   "cell_type": "code",
   "execution_count": 13,
   "metadata": {
    "execution": {
     "iopub.execute_input": "2020-09-05T21:19:22.738781Z",
     "iopub.status.busy": "2020-09-05T21:19:22.738221Z",
     "iopub.status.idle": "2020-09-05T21:19:22.740416Z",
     "shell.execute_reply": "2020-09-05T21:19:22.740906Z"
    },
    "tags": [
     "hide-cell"
    ]
   },
   "outputs": [],
   "source": [
    "mints = psi4.core.MintsHelper(wfn.basisset())\n",
    "I_AO = np.asarray(mints.ao_eri())"
   ]
  },
  {
   "cell_type": "code",
   "execution_count": 14,
   "metadata": {
    "execution": {
     "iopub.execute_input": "2020-09-05T21:19:22.743950Z",
     "iopub.status.busy": "2020-09-05T21:19:22.743451Z",
     "iopub.status.idle": "2020-09-05T21:19:22.745454Z",
     "shell.execute_reply": "2020-09-05T21:19:22.745937Z"
    }
   },
   "outputs": [],
   "source": [
    "# ERIs I_AO"
   ]
  },
  {
   "cell_type": "markdown",
   "metadata": {},
   "source": [
    "```{Note}\n",
    "Los software de estructura electrónica usan formas optimizados de las ecuaciones aquí mostradas. Este notebook ha sido creado sólo con fines didácticos.\n",
    "```"
   ]
  },
  {
   "cell_type": "markdown",
   "metadata": {},
   "source": [
    "La teoría de Moller-Plesset requiere que estas integrales sean transformadas a orbital molecular. Recuerde que un orbital molecular es una combinación lineal de orbitales atómicos\n",
    "\\begin{equation}\n",
    "p(r) = \\sum_\\mu C_{\\mu p} \\mu (r)\n",
    "\\end{equation}\n",
    "\n",
    "En el siguiente recuadro **declare una variable I_MO de dimensión ($N_{MO}$,$N_{MO}$,$N_{MO}$,$N_{MO}$), y lleve a cabo la transformación**\n",
    "\n",
    "\\begin{equation}\n",
    "[pq|rt] = \\sum_{\\mu\\nu\\sigma\\lambda}^N C_{\\mu p} C_{\\nu q} C_{\\sigma r} C_{\\lambda s} [\\mu \\nu | \\sigma \\lambda]\n",
    "\\end{equation}"
   ]
  },
  {
   "cell_type": "markdown",
   "metadata": {},
   "source": [
    "```{tip}\n",
    "Utilice 4 for para recorrer los orbitales moleculares, y 4 for para recorrer las funciones de base.\n",
    "```\n",
    "\n",
    "`````{margin}\n",
    "Alternativamente puede usar la instrucción\n",
    "~~~\n",
    "I_MO = np.einsum('mp,nq,sr,lt,mnsl->pqrt',C,C,C,C,I_AO,optimize=True)\n",
    "~~~\n",
    "La cual es sustancialmente más rápida que los 8 for. Esto puede hacer su programa más rápido si su sistema no es tan pequeño.\n",
    "`````"
   ]
  },
  {
   "cell_type": "code",
   "execution_count": 15,
   "metadata": {
    "execution": {
     "iopub.execute_input": "2020-09-05T21:19:22.821605Z",
     "iopub.status.busy": "2020-09-05T21:19:22.786152Z",
     "iopub.status.idle": "2020-09-05T21:19:23.031654Z",
     "shell.execute_reply": "2020-09-05T21:19:23.031189Z"
    },
    "tags": [
     "hide-cell"
    ]
   },
   "outputs": [],
   "source": [
    "I_MO = np.zeros((nmo,nmo,nmo,nmo))\n",
    "for p in range(nmo):\n",
    "    for q in range(nmo):\n",
    "        for r in range(nmo):\n",
    "            for t in range(nmo):\n",
    "                for m in range(nbf):\n",
    "                    for n in range(nbf):\n",
    "                        for s in range(nbf):\n",
    "                            for l in range(nbf):\n",
    "                                I_MO[p][q][r][t] = I_MO[p][q][r][t] + C[m][p]*C[n][q]*C[s][r]*C[l][t]*I_AO[m][n][s][l]"
   ]
  },
  {
   "cell_type": "code",
   "execution_count": 16,
   "metadata": {
    "execution": {
     "iopub.execute_input": "2020-09-05T21:19:23.034854Z",
     "iopub.status.busy": "2020-09-05T21:19:23.034365Z",
     "iopub.status.idle": "2020-09-05T21:19:23.037594Z",
     "shell.execute_reply": "2020-09-05T21:19:23.037991Z"
    }
   },
   "outputs": [],
   "source": [
    "# ERIs I_MO"
   ]
  },
  {
   "cell_type": "markdown",
   "metadata": {},
   "source": [
    "**Obtenga las energías de los orbitales moleculares ($\\varepsilon_a$)**\n",
    "`````{tip}\n",
    "Puede usar el siguiente código\n",
    "~~~\n",
    "epsilon = wfn.epsilon_a()\n",
    "~~~\n",
    "`````"
   ]
  },
  {
   "cell_type": "code",
   "execution_count": 17,
   "metadata": {
    "execution": {
     "iopub.execute_input": "2020-09-05T21:19:23.041632Z",
     "iopub.status.busy": "2020-09-05T21:19:23.041082Z",
     "iopub.status.idle": "2020-09-05T21:19:23.044198Z",
     "shell.execute_reply": "2020-09-05T21:19:23.043734Z"
    },
    "tags": [
     "hide-cell"
    ]
   },
   "outputs": [],
   "source": [
    "epsilon = np.array(wfn.epsilon_a())"
   ]
  },
  {
   "cell_type": "code",
   "execution_count": 18,
   "metadata": {
    "execution": {
     "iopub.execute_input": "2020-09-05T21:19:23.047306Z",
     "iopub.status.busy": "2020-09-05T21:19:23.046781Z",
     "iopub.status.idle": "2020-09-05T21:19:23.049431Z",
     "shell.execute_reply": "2020-09-05T21:19:23.048903Z"
    }
   },
   "outputs": [],
   "source": [
    "# epsilon"
   ]
  },
  {
   "cell_type": "markdown",
   "metadata": {},
   "source": [
    "Recordando teoría de perturbaciones, es posible realizar correcciones de n-orden a la energía $E_i^{(n)}$, tal que la energía electrónica total del estado basal ($i=0$) es\n",
    "\\begin{equation}\n",
    "E = E_0^{(0)} + E_0^{(1)} + E_0^{(2)} + E_0^{(3)} + E_0^{(4)} ...\n",
    "\\end{equation}\n",
    "\n",
    "dependiendo del n-orden hasta el que se haga la corrección sobre la energía al cálculo se le denomina MPn, siendo los más comunes son MP2, MP3 y MP4.\n",
    "\n",
    "En Moller-Plesset estos términos son:\n",
    "\\begin{equation}\n",
    "E_0^{(0)} = 2\\sum_{a}^{N_e/2} {\\varepsilon_a}\n",
    "\\end{equation}\n",
    "\\begin{equation}\n",
    "E_0^{(1)} = -2 \\sum_{a}^{N_e/2}\\sum_{b}^{N_e/2} [aa|bb] - [ab|ba]\n",
    "\\end{equation}\n",
    "donde los índices $a$, $b$ refieren a orbitales moleculares ocupados, y los términos $\\varepsilon_a$, $\\varepsilon_b$, a sus energías.\n",
    "\n",
    "**Calcule $E_0^{(0)}$ y $E_0^{(1)}$**."
   ]
  },
  {
   "cell_type": "markdown",
   "metadata": {},
   "source": [
    "```{Caution}\n",
    "Aunque las sumas empiezan en el primer orbital molecular ocupado, recuerde que en Python los índices empiezan en cero.\n",
    "```"
   ]
  },
  {
   "cell_type": "code",
   "execution_count": 19,
   "metadata": {
    "execution": {
     "iopub.execute_input": "2020-09-05T21:19:23.054096Z",
     "iopub.status.busy": "2020-09-05T21:19:23.053622Z",
     "iopub.status.idle": "2020-09-05T21:19:23.056860Z",
     "shell.execute_reply": "2020-09-05T21:19:23.057279Z"
    },
    "tags": [
     "hide-cell"
    ]
   },
   "outputs": [],
   "source": [
    "E_0 = 0\n",
    "for a in range(int(ne/2)):\n",
    "    E_0 = E_0 + 2*epsilon[a]\n",
    "    \n",
    "E_1 = 0\n",
    "for a in range(int(ne/2)):\n",
    "    for b in range(int(ne/2)):\n",
    "        E_1 = E_1 - 2 * I_MO[a][a][b][b] + I_MO[a][b][b][a]"
   ]
  },
  {
   "cell_type": "code",
   "execution_count": 20,
   "metadata": {
    "execution": {
     "iopub.execute_input": "2020-09-05T21:19:23.060761Z",
     "iopub.status.busy": "2020-09-05T21:19:23.060047Z",
     "iopub.status.idle": "2020-09-05T21:19:23.063919Z",
     "shell.execute_reply": "2020-09-05T21:19:23.064346Z"
    }
   },
   "outputs": [],
   "source": [
    "# E_0 y E_1"
   ]
  },
  {
   "cell_type": "markdown",
   "metadata": {},
   "source": [
    "**Calcule la energía total de MP1**, recuerde sumar la energía nuclear, es decir\n",
    "\n",
    "\\begin{equation}\n",
    "E_{MP1} = E_{nuc} + E_0^{(0)} + E_0^{(1)}\n",
    "\\end{equation}"
   ]
  },
  {
   "cell_type": "code",
   "execution_count": 21,
   "metadata": {
    "execution": {
     "iopub.execute_input": "2020-09-05T21:19:23.067850Z",
     "iopub.status.busy": "2020-09-05T21:19:23.067362Z",
     "iopub.status.idle": "2020-09-05T21:19:23.069852Z",
     "shell.execute_reply": "2020-09-05T21:19:23.070246Z"
    },
    "tags": [
     "hide-cell"
    ]
   },
   "outputs": [
    {
     "name": "stdout",
     "output_type": "stream",
     "text": [
      "E_MP1 = -1.1267362218749755\n"
     ]
    }
   ],
   "source": [
    "E_MP1 = E_nuc + E_0 + E_1\n",
    "print(\"E_MP1 =\",E_MP1)"
   ]
  },
  {
   "cell_type": "code",
   "execution_count": 22,
   "metadata": {
    "execution": {
     "iopub.execute_input": "2020-09-05T21:19:23.073234Z",
     "iopub.status.busy": "2020-09-05T21:19:23.072733Z",
     "iopub.status.idle": "2020-09-05T21:19:23.074614Z",
     "shell.execute_reply": "2020-09-05T21:19:23.075004Z"
    }
   },
   "outputs": [],
   "source": [
    "# E_MP1"
   ]
  },
  {
   "cell_type": "markdown",
   "metadata": {},
   "source": [
    "Calcule la diferencia entre $E_{MP1}$ y la energía de Hartree-Fock que calculó al inicio, **¿Cuál es la energía de correlación? ¿Cómo se relaciona $E_{MP1}$ con $E_{HF}$?**"
   ]
  },
  {
   "cell_type": "markdown",
   "metadata": {},
   "source": [
    "**Respuesta:**"
   ]
  },
  {
   "cell_type": "markdown",
   "metadata": {},
   "source": [
    "La energía de Hartree-Fock se calcula como\n",
    "\\begin{equation}\n",
    "E_{HF} = E_{nuc} + 2\\sum_a^{N_e/2} {\\varepsilon_a} -2 \\sum_{a}^{N/2}\\sum_{b}^{N/2} [aa|bb] - [ab|ba]\n",
    "\\end{equation}\n",
    "\n",
    "esta es exactamente la misma expresion que $E_{MP1}$. La primera corrección a la energía aparece en $E_{MP2}$. La corrección a segundo orden es\n",
    "\\begin{equation}\n",
    "E_0^{(2)} = 2 \\sum_{a}^{N_e/2}\\sum_{b}^{N_e/2}\\sum_{r=N_e+1}^{N_{bf}}\\sum_{s=N_e+1}^{N_{bf}} \\frac{[ar|bs][ra|sb]}{\\varepsilon_{a}+\\varepsilon_{b}-\\varepsilon_{r}-\\varepsilon_{s}} - \\sum_{abrs}^{N_e/2} \\frac{[ar|bs][rb|sa]}{\\varepsilon_{a}+\\varepsilon_{b}-\\varepsilon_{r}-\\varepsilon_{s}}\n",
    "\\end{equation}\n",
    "\n",
    "donde $r$, $s$ son los orbitales moleculares desocupados.\n",
    "\n",
    "**Calcule $E_0^{(2)}$, la energía de $MP2$** dada por\n",
    "\\begin{equation}\n",
    "E_{MP2} = E_{nuc} + E_0^{(0)} + E_0^{(1)} + E_0^{(2)}\n",
    "\\end{equation}\n",
    "\n",
    "**y la energía de correlación**\n",
    "\\begin{equation}\n",
    "E_{corr} = E_{MP2} - E_{HF}\n",
    "\\end{equation}"
   ]
  },
  {
   "cell_type": "code",
   "execution_count": 23,
   "metadata": {
    "execution": {
     "iopub.execute_input": "2020-09-05T21:19:23.081451Z",
     "iopub.status.busy": "2020-09-05T21:19:23.080937Z",
     "iopub.status.idle": "2020-09-05T21:19:23.083307Z",
     "shell.execute_reply": "2020-09-05T21:19:23.083699Z"
    },
    "tags": [
     "hide-cell"
    ]
   },
   "outputs": [
    {
     "name": "stdout",
     "output_type": "stream",
     "text": [
      "E_MP2 = -1.1441326668038203\n",
      "E_corr = -0.017397572327191746\n"
     ]
    }
   ],
   "source": [
    "E_2 = 0\n",
    "for a in range(int(ne/2)):\n",
    "    for b in range(int(ne/2)):\n",
    "        for r in range(int(ne/2),nbf):\n",
    "            for s in range(int(ne/2),nbf):\n",
    "                E_2 = E_2 + 2*(I_MO[a][r][b][s]*I_MO[r][a][s][b])/(epsilon[a] + epsilon[b] - epsilon[r]- epsilon[s])\n",
    "                E_2 = E_2 -   (I_MO[a][r][b][s]*I_MO[r][b][s][a])/(epsilon[a] + epsilon[b] - epsilon[r]- epsilon[s])\n",
    "                \n",
    "E_MP2 = E_nuc + E_0 + E_1 + E_2\n",
    "print(\"E_MP2 =\",E_MP2)\n",
    "\n",
    "print(\"E_corr =\",E_MP2-E_HF)"
   ]
  },
  {
   "cell_type": "code",
   "execution_count": 24,
   "metadata": {
    "execution": {
     "iopub.execute_input": "2020-09-05T21:19:23.087243Z",
     "iopub.status.busy": "2020-09-05T21:19:23.086618Z",
     "iopub.status.idle": "2020-09-05T21:19:23.089386Z",
     "shell.execute_reply": "2020-09-05T21:19:23.088865Z"
    }
   },
   "outputs": [],
   "source": [
    "# E_2, E_MP2 y E_corr"
   ]
  },
  {
   "cell_type": "markdown",
   "metadata": {},
   "source": [
    "```{important}\n",
    "Generalizando, la energía total de MPn es\n",
    "\\begin{equation}\n",
    "E_{MPn} = E_{nuc} + E_0^{(0)} + E_0^{(1)} + E_0^{(2)} + ... + E_0^{(n)}\n",
    "\\end{equation}\n",
    "\n",
    "Al restarle la energía de Hartree-Fock se obtiene\n",
    "\\begin{equation}\n",
    "E_{corr} = E_{MPn} - E_{HF} = E_0^{(2)} + ... + E_0^{(n)}\n",
    "\\end{equation}\n",
    "```"
   ]
  },
  {
   "cell_type": "markdown",
   "metadata": {},
   "source": [
    "**Adapte la instrucción a MP2 junto con la base que usó para comprobar sus resultados**.\n",
    "```\n",
    "E_MPn = psi4.energy('MPn/Base')\n",
    "print(\"E_MPn =\",E_MPn)\n",
    "```"
   ]
  },
  {
   "cell_type": "code",
   "execution_count": 25,
   "metadata": {
    "execution": {
     "iopub.execute_input": "2020-09-05T21:19:23.101665Z",
     "iopub.status.busy": "2020-09-05T21:19:23.099453Z",
     "iopub.status.idle": "2020-09-05T21:19:23.525993Z",
     "shell.execute_reply": "2020-09-05T21:19:23.526404Z"
    },
    "tags": [
     "hide-cell"
    ]
   },
   "outputs": [
    {
     "name": "stdout",
     "output_type": "stream",
     "text": [
      "E_MP2 = -1.144114422972474\n"
     ]
    }
   ],
   "source": [
    "E_MP2 = psi4.energy('MP2/6-31G')\n",
    "print(\"E_MP2 =\",E_MP2)"
   ]
  },
  {
   "cell_type": "code",
   "execution_count": 26,
   "metadata": {
    "execution": {
     "iopub.execute_input": "2020-09-05T21:19:23.529409Z",
     "iopub.status.busy": "2020-09-05T21:19:23.528901Z",
     "iopub.status.idle": "2020-09-05T21:19:23.530997Z",
     "shell.execute_reply": "2020-09-05T21:19:23.531388Z"
    }
   },
   "outputs": [],
   "source": [
    "# E_MP2 psi4"
   ]
  }
 ],
 "metadata": {
  "celltoolbar": "Tags",
  "kernelspec": {
   "display_name": "Python 3",
   "language": "python",
   "name": "python3"
  },
  "language_info": {
   "codemirror_mode": {
    "name": "ipython",
    "version": 3
   },
   "file_extension": ".py",
   "mimetype": "text/x-python",
   "name": "python",
   "nbconvert_exporter": "python",
   "pygments_lexer": "ipython3",
   "version": "3.7.7"
  }
 },
 "nbformat": 4,
 "nbformat_minor": 4
}