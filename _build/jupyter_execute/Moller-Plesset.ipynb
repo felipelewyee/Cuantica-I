{
 "cells": [
  {
   "cell_type": "markdown",
   "metadata": {},
   "source": [
    "# Moller-Plesset"
   ]
  },
  {
   "cell_type": "markdown",
   "metadata": {},
   "source": [
    "Las ecuaciones de Moller-Plesset surgen de tomar un sistema representado por Hartree-Fock como sistema conocido ($\\mathcal{H}_0$) y aplicarle una perturbación ($\\mathcal{V}$) para convertirlo en el sistema con correlación ($\\mathcal{H}$).\n",
    "\\begin{equation}\n",
    "\\mathcal{H} = \\mathcal{H}_0 + \\mathcal{V}\n",
    "\\end{equation}\n",
    "\n",
    "Recordando de teoría de perturbaciones, es posible realizar correcciones de n-orden a la energía $E_i^{(n)}$ y a la función de onda $\\psi_i^{(n)}$. La corrección a la energía del estado basal ($i=0$) toma la forma\n",
    "\n",
    "\\begin{equation}\n",
    "E_0 = E_0^{(0)} + E_0^{(1)} + E_0^{(2)} + E_0^{(3)} + ...\n",
    "\\end{equation}\n",
    "\n",
    "y en Moller-Plesset estos términos son:\n",
    "\n",
    "- $E_0^{(0)} = \\sum_a {\\varepsilon_a}$\n",
    "- $E_0^{(1)} = -\\frac{1}{2} \\sum_{ab} [aa|bb] - [ab|ba]$\n",
    "- $E_0^{(2)} = 2 \\sum_{abrs}^{N/2} \\frac{[ar|bs][ra|sb]}{\\varepsilon_{a}+\\varepsilon_{b}-\\varepsilon_{r}-\\varepsilon_{s}} - \\sum_{abrs}^{N/2} \\frac{[ar|bs][rb|sa]}{\\varepsilon_{a}+\\varepsilon_{b}-\\varepsilon_{r}-\\varepsilon_{s}}$\n",
    "\n",
    "donde los índices $a$, $b$ refieren a orbitales moleculares ocupados, y $r$, $s$ a orbitales moleculares desocupados, los términos $\\varepsilon_a$, $\\varepsilon_b$, $\\varepsilon_r$, $\\varepsilon_s$ refieren a sus energías orbitales, y los términos entre paréntesis son integrales de repulsión electrónica moleculares, que se calculan mediante \n",
    "\\begin{equation}\n",
    "[pq|rs] = \\sum_{\\mu\\nu\\sigma\\lambda}^N C_{\\mu p} C_{\\nu q} C_{\\sigma r} C_{\\lambda s} [\\mu \\nu | \\sigma \\lambda]\n",
    "\\end{equation}\n",
    "\n",
    "donde $\\mu$, $\\nu$, $\\sigma$ y $\\lambda$ se refieren a orbitales atómicos, y\n",
    "\\begin{equation}\n",
    "[\\mu \\nu | \\sigma \\lambda] = \\int \\int \\frac{\\mu(r_1) \\nu(r_1) \\sigma(r_2) \\lambda(r_2)}{ |r_1 - r_2| } dr_1 dr_2\n",
    "\\end{equation}\n",
    "\n",
    "En química cuántica es de especial interés la corrección a la energía, por lo que dependiendo de su orden de corrección la metodología se denomina MPn.\n",
    "\n",
    "La energía de Hartree-Fock está dada por\n",
    "\\begin{equation}\n",
    "E_{HF} = E_0^{(0)} + E_0^{(1)}\n",
    "\\end{equation}\n",
    "\n",
    "por lo que la correlación electrónica es\n",
    "\\begin{equation}\n",
    "E_{corr} = E_0^{(2)} + E_0^{(3)} + ...\n",
    "\\end{equation}"
   ]
  },
  {
   "cell_type": "code",
   "execution_count": null,
   "metadata": {},
   "outputs": [],
   "source": []
  }
 ],
 "metadata": {
  "kernelspec": {
   "display_name": "Python 3",
   "language": "python",
   "name": "python3"
  },
  "language_info": {
   "codemirror_mode": {
    "name": "ipython",
    "version": 3
   },
   "file_extension": ".py",
   "mimetype": "text/x-python",
   "name": "python",
   "nbconvert_exporter": "python",
   "pygments_lexer": "ipython3",
   "version": "3.7.7"
  }
 },
 "nbformat": 4,
 "nbformat_minor": 4
}