{
 "cells": [
  {
   "cell_type": "markdown",
   "metadata": {},
   "source": [
    "# Moller-Plesset (MPn)"
   ]
  },
  {
   "cell_type": "markdown",
   "metadata": {},
   "source": [
    "Las ecuaciones de Moller-Plesset surgen de aplicar la teoría de perturbaciones a Hartree-Fock. Para ello se toma como sistema conocido el Hamiltoniano de Hartree-Fock ($\\mathcal{H}_0$) y se le aplica  una perturbación ($\\mathcal{V}$) para convertirlo en el Hamiltoniano del sistema con correlación electrónica ($\\mathcal{H}$).\n",
    "\n",
    "$$\n",
    "\\mathcal{H} = \\mathcal{H}_0 + \\mathcal{V}\n",
    "$$"
   ]
  },
  {
   "cell_type": "markdown",
   "metadata": {},
   "source": [
    "Para comenzar, **importe las librerías numpy y psi4**."
   ]
  },
  {
   "cell_type": "code",
   "execution_count": 1,
   "metadata": {},
   "outputs": [],
   "source": [
    "# Importe librerías"
   ]
  },
  {
   "cell_type": "code",
   "execution_count": 2,
   "metadata": {
    "tags": [
     "hide-cell"
    ]
   },
   "outputs": [],
   "source": [
    "import numpy as np\n",
    "import psi4"
   ]
  },
  {
   "cell_type": "markdown",
   "metadata": {},
   "source": [
    "**Defina una molécula de su interés.** A continuación se proporciona la geometría de la molécula de hidrógeno, aunque puede usar cualquier otro sistema. Se recomienda que sea pequeño por tiempo de ejecución.\n",
    "```\n",
    "H 0.0000  0.0000 0.0000\n",
    "H 0.0000  0.0000 0.7414 \n",
    "```"
   ]
  },
  {
   "cell_type": "code",
   "execution_count": 3,
   "metadata": {},
   "outputs": [],
   "source": [
    "# Defina molécula"
   ]
  },
  {
   "cell_type": "code",
   "execution_count": 4,
   "metadata": {
    "tags": [
     "hide-cell"
    ]
   },
   "outputs": [],
   "source": [
    "mol = psi4.geometry(\"\"\"\n",
    "0 1\n",
    "H 0.0000  0.0000 0.0000\n",
    "H 0.0000  0.0000 0.7414 \n",
    "units angstrom\n",
    "symmetry C1\n",
    "\"\"\")"
   ]
  },
  {
   "cell_type": "markdown",
   "metadata": {},
   "source": [
    "Ya que la teoría de Moller-Plesset corrige el Hamiltoniano de Hartree-Fock, **realice un cálculo de Hartree-Fock y recupere la energía y la función de onda**. La energía resultante contiene tanto energía electrónica como nuclear. Seleccione la base que desee, por ejemplo, 6-31G"
   ]
  },
  {
   "cell_type": "code",
   "execution_count": 5,
   "metadata": {},
   "outputs": [],
   "source": [
    "# Calcule E_HF y wfn"
   ]
  },
  {
   "cell_type": "code",
   "execution_count": 6,
   "metadata": {
    "tags": [
     "hide-cell"
    ]
   },
   "outputs": [
    {
     "name": "stdout",
     "output_type": "stream",
     "text": [
      "\n",
      "*** tstart() called on BlauweDraak\n",
      "*** at Thu Jun  2 11:07:52 2022\n",
      "\n",
      "   => Loading Basis Set <=\n",
      "\n",
      "    Name: 6-31G\n",
      "    Role: ORBITAL\n",
      "    Keyword: BASIS\n",
      "    atoms 1-2 entry H          line    26 file /home/jebarrios/anaconda3/envs/QCI/share/psi4/basis/6-31g.gbs \n",
      "\n",
      "\n",
      "         ---------------------------------------------------------\n",
      "                                   SCF\n",
      "            by Justin Turney, Rob Parrish, Andy Simmonett\n",
      "                             and Daniel Smith\n",
      "                              RHF Reference\n",
      "                        1 Threads,    500 MiB Core\n",
      "         ---------------------------------------------------------\n",
      "\n",
      "  ==> Geometry <==\n",
      "\n",
      "    Molecular point group: c1\n",
      "    Full point group: D_inf_h\n",
      "\n",
      "    Geometry (in Angstrom), charge = 0, multiplicity = 1:\n",
      "\n",
      "       Center              X                  Y                   Z               Mass       \n",
      "    ------------   -----------------  -----------------  -----------------  -----------------\n",
      "         H            0.000000000000     0.000000000000    -0.370700000000     1.007825032070\n",
      "         H            0.000000000000     0.000000000000     0.370700000000     1.007825032070\n",
      "\n",
      "  Running in c1 symmetry.\n",
      "\n",
      "  Rotational constants: A = ************  B =     60.86059  C =     60.86059 [cm^-1]\n",
      "  Rotational constants: A = ************  B = 1824554.69688  C = 1824554.69688 [MHz]\n",
      "  Nuclear repulsion =    0.713753990544915\n",
      "\n",
      "  Charge       = 0\n",
      "  Multiplicity = 1\n",
      "  Electrons    = 2\n",
      "  Nalpha       = 1\n",
      "  Nbeta        = 1\n",
      "\n",
      "  ==> Algorithm <==\n",
      "\n",
      "  SCF Algorithm Type is DF.\n",
      "  DIIS enabled.\n",
      "  MOM disabled.\n",
      "  Fractional occupation disabled.\n",
      "  Guess Type is SAD.\n",
      "  Energy threshold   = 1.00e-06\n",
      "  Density threshold  = 1.00e-06\n",
      "  Integral threshold = 0.00e+00\n",
      "\n",
      "  ==> Primary Basis <==\n",
      "\n",
      "  Basis Set: 6-31G\n",
      "    Blend: 6-31G\n",
      "    Number of shells: 4\n",
      "    Number of basis function: 4\n",
      "    Number of Cartesian functions: 4\n",
      "    Spherical Harmonics?: false\n",
      "    Max angular momentum: 0\n",
      "\n"
     ]
    },
    {
     "name": "stdout",
     "output_type": "stream",
     "text": [
      "   => Loading Basis Set <=\n",
      "\n",
      "    Name: (6-31G AUX)\n",
      "    Role: JKFIT\n",
      "    Keyword: DF_BASIS_SCF\n",
      "    atoms 1-2 entry H          line    51 file /home/jebarrios/anaconda3/envs/QCI/share/psi4/basis/cc-pvdz-jkfit.gbs \n",
      "\n",
      "  ==> Pre-Iterations <==\n",
      "\n",
      "   -------------------------------------------------------\n",
      "    Irrep   Nso     Nmo     Nalpha   Nbeta   Ndocc  Nsocc\n",
      "   -------------------------------------------------------\n",
      "     A          4       4       0       0       0       0\n",
      "   -------------------------------------------------------\n",
      "    Total       4       4       1       1       1       0\n",
      "   -------------------------------------------------------\n",
      "\n",
      "  ==> Integral Setup <==\n",
      "\n",
      "  ==> DiskDFJK: Density-Fitted J/K Matrices <==\n",
      "\n",
      "    J tasked:                  Yes\n",
      "    K tasked:                  Yes\n",
      "    wK tasked:                  No\n",
      "    OpenMP threads:              1\n",
      "    Integrals threads:           1\n",
      "    Memory (MB):               375\n",
      "    Algorithm:                Core\n",
      "    Integral Cache:           NONE\n",
      "    Schwarz Cutoff:          1E-12\n",
      "    Fitting Condition:       1E-12\n",
      "\n",
      "   => Auxiliary Basis Set <=\n",
      "\n",
      "  Basis Set: (6-31G AUX)\n",
      "    Blend: CC-PVDZ-JKFIT\n",
      "    Number of shells: 18\n",
      "    Number of basis function: 50\n",
      "    Number of Cartesian functions: 50\n",
      "    Spherical Harmonics?: false\n",
      "    Max angular momentum: 2\n",
      "\n",
      "  Minimum eigenvalue in the overlap matrix is 9.6516473117E-02.\n",
      "  Using Symmetric Orthogonalization.\n",
      "\n",
      "  SCF Guess: Superposition of Atomic Densities via on-the-fly atomic UHF.\n",
      "\n",
      "  ==> Iterations <==\n",
      "\n",
      "                           Total Energy        Delta E     RMS |[F,P]|\n",
      "\n",
      "   @DF-RHF iter   0:    -0.84676995053392   -8.46770e-01   4.58205e-02 \n",
      "   @DF-RHF iter   1:    -1.12563169218406   -2.78862e-01   8.98304e-03 \n",
      "   @DF-RHF iter   2:    -1.12671102300079   -1.07933e-03   1.32528e-03 DIIS\n",
      "   @DF-RHF iter   3:    -1.12673509439969   -2.40714e-05   1.47147e-06 DIIS\n",
      "   @DF-RHF iter   4:    -1.12673509442939   -2.96909e-11   9.44948e-10 DIIS\n",
      "\n",
      "  ==> Post-Iterations <==\n",
      "\n",
      "    Orbital Energies [Eh]\n",
      "    ---------------------\n",
      "\n",
      "    Doubly Occupied:                                                      \n",
      "\n",
      "       1A     -0.595394  \n",
      "\n",
      "    Virtual:                                                              \n",
      "\n",
      "       2A      0.238117     3A      0.775393     4A      1.402580  \n",
      "\n",
      "    Final Occupation by Irrep:\n",
      "              A \n",
      "    DOCC [     1 ]\n",
      "\n",
      "  Energy converged.\n",
      "\n",
      "  @DF-RHF Final Energy:    -1.12673509442939\n",
      "\n",
      "   => Energetics <=\n",
      "\n",
      "    Nuclear Repulsion Energy =              0.7137539905449153\n",
      "    One-Electron Energy =                  -2.4901908886154214\n",
      "    Two-Electron Energy =                   0.6497018036411206\n",
      "    Total Energy =                         -1.1267350944293855\n",
      "\n",
      "\n",
      "\n",
      "Properties will be evaluated at   0.000000,   0.000000,   0.000000 [a0]\n",
      "\n",
      "Properties computed using the SCF density matrix\n",
      "\n",
      "  Nuclear Dipole Moment: [e a0]\n",
      "     X:     0.0000      Y:     0.0000      Z:     0.0000\n",
      "\n",
      "  Electronic Dipole Moment: [e a0]\n",
      "     X:     0.0000      Y:     0.0000      Z:    -0.0000\n",
      "\n",
      "  Dipole Moment: [e a0]\n",
      "     X:     0.0000      Y:     0.0000      Z:    -0.0000     Total:     0.0000\n",
      "\n",
      "  Dipole Moment: [D]\n",
      "     X:     0.0000      Y:     0.0000      Z:    -0.0000     Total:     0.0000\n",
      "\n",
      "E_HF = -1.1267350944293855\n",
      "\n",
      "*** tstop() called on BlauweDraak at Thu Jun  2 11:07:52 2022\n",
      "Module time:\n",
      "\tuser time   =       0.24 seconds =       0.00 minutes\n",
      "\tsystem time =       0.00 seconds =       0.00 minutes\n",
      "\ttotal time  =          0 seconds =       0.00 minutes\n",
      "Total time:\n",
      "\tuser time   =       0.24 seconds =       0.00 minutes\n",
      "\tsystem time =       0.00 seconds =       0.00 minutes\n",
      "\ttotal time  =          0 seconds =       0.00 minutes\n"
     ]
    }
   ],
   "source": [
    "E_HF, wfn = psi4.energy('HF/6-31G',return_wfn=True)\n",
    "print(\"E_HF =\",E_HF)"
   ]
  },
  {
   "cell_type": "markdown",
   "metadata": {},
   "source": [
    "**Obtenga la energía nuclear**"
   ]
  },
  {
   "cell_type": "code",
   "execution_count": 7,
   "metadata": {},
   "outputs": [],
   "source": [
    "# E_nuc"
   ]
  },
  {
   "cell_type": "code",
   "execution_count": 8,
   "metadata": {
    "tags": [
     "hide-cell"
    ]
   },
   "outputs": [
    {
     "name": "stdout",
     "output_type": "stream",
     "text": [
      "E_nuc = 0.7137539905449154\n"
     ]
    }
   ],
   "source": [
    "E_nuc = mol.nuclear_repulsion_energy() \n",
    "print(\"E_nuc =\",E_nuc)"
   ]
  },
  {
   "cell_type": "markdown",
   "metadata": {},
   "source": [
    "**Obtenga los coeficientes de los orbitales moleculares a partir de la función de onda**"
   ]
  },
  {
   "cell_type": "code",
   "execution_count": 9,
   "metadata": {},
   "outputs": [],
   "source": [
    "# Coeficientes"
   ]
  },
  {
   "cell_type": "code",
   "execution_count": 10,
   "metadata": {
    "tags": [
     "hide-cell"
    ]
   },
   "outputs": [],
   "source": [
    "C = np.asarray(wfn.Ca())"
   ]
  },
  {
   "cell_type": "markdown",
   "metadata": {},
   "source": [
    "**Obtenga el número de funciones de base ($N_{bf}$), de orbitales moleculares ($N_{mo})$ y de electrones ($N_{e}$)**"
   ]
  },
  {
   "cell_type": "code",
   "execution_count": 11,
   "metadata": {},
   "outputs": [],
   "source": [
    "# nbf, nmo y ne"
   ]
  },
  {
   "cell_type": "code",
   "execution_count": 12,
   "metadata": {
    "tags": [
     "hide-cell"
    ]
   },
   "outputs": [
    {
     "name": "stdout",
     "output_type": "stream",
     "text": [
      "nbf = 4  nmo = 4  ne = 2\n"
     ]
    }
   ],
   "source": [
    "nbf = len(C)\n",
    "nmo = wfn.nmo()\n",
    "ne = wfn.nalpha() + wfn.nbeta()\n",
    "print(\"nbf =\",nbf,\" nmo =\",nmo,\" ne =\",ne)"
   ]
  },
  {
   "cell_type": "markdown",
   "metadata": {},
   "source": [
    "Vamos a necesitar integrales de repulsión electrónica\n",
    "\n",
    "$$\n",
    "[\\mu \\nu | \\sigma \\lambda] = \\int \\int \\frac{\\mu(r_1) \\nu(r_1) \\sigma(r_2) \\lambda(r_2)}{ |r_1 - r_2| } dr_1 dr_2\n",
    "$$\n",
    "donde $\\mu$, $\\nu$, $\\sigma$ y $\\lambda$ se refieren a orbitales atómicos.\n",
    "\n",
    "**Obtenga las integrales $[\\mu\\nu|\\sigma\\lambda]$ y guardarlas en la variable I_AO**\n",
    "`````{tip}\n",
    "Puede usar las siguientes líneas\n",
    "~~~\n",
    "mints = psi4.core.MintsHelper(wfn.basisset())\n",
    "I_AO = np.asarray(mints.ao_eri())\n",
    "~~~\n",
    "`````"
   ]
  },
  {
   "cell_type": "code",
   "execution_count": 13,
   "metadata": {},
   "outputs": [],
   "source": [
    "# ERIs I_AO"
   ]
  },
  {
   "cell_type": "code",
   "execution_count": 14,
   "metadata": {
    "tags": [
     "hide-cell"
    ]
   },
   "outputs": [],
   "source": [
    "mints = psi4.core.MintsHelper(wfn.basisset())\n",
    "I_AO = np.asarray(mints.ao_eri())"
   ]
  },
  {
   "cell_type": "markdown",
   "metadata": {},
   "source": [
    "```{Note}\n",
    "Los software de estructura electrónica usan formas optimizadas de las ecuaciones aquí mostradas. Este notebook ha sido creado solo con fines didácticos.\n",
    "```"
   ]
  },
  {
   "cell_type": "markdown",
   "metadata": {},
   "source": [
    "La teoría de Moller-Plesset requiere que estas integrales sean transformadas a orbital molecular. Recuerde que un orbital molecular es una combinación lineal de orbitales atómicos\n",
    "\n",
    "$$\n",
    "p(r) = \\sum_\\mu C_{\\mu p} \\mu (r)\n",
    "$$\n",
    "\n",
    "En el siguiente recuadro **declare una variable I_MO de dimensión ($N_{MO}$,$N_{MO}$,$N_{MO}$,$N_{MO}$), y lleve a cabo la transformación**\n",
    "\n",
    "$$\n",
    "[pq|rt] = \\sum_{\\mu\\nu\\sigma\\lambda}^N C_{\\mu p} C_{\\nu q} C_{\\sigma r} C_{\\lambda s} [\\mu \\nu | \\sigma \\lambda]\n",
    "$$"
   ]
  },
  {
   "cell_type": "markdown",
   "metadata": {},
   "source": [
    "```{tip}\n",
    "Utilice 4 for para recorrer los orbitales moleculares, y 4 for para recorrer las funciones de base.\n",
    "```\n",
    "\n",
    "`````{margin}\n",
    "Alternativamente puede usar la instrucción\n",
    "~~~\n",
    "I_MO = np.einsum('mp,nq,sr,lt,mnsl->pqrt',C,C,C,C,I_AO,optimize=True)\n",
    "~~~\n",
    "La cual es sustancialmente más rápida que los 8 for. Esto puede hacer su programa más rápido si su sistema no es tan pequeño.\n",
    "`````"
   ]
  },
  {
   "cell_type": "code",
   "execution_count": 15,
   "metadata": {},
   "outputs": [],
   "source": [
    "# ERIs I_MO"
   ]
  },
  {
   "cell_type": "code",
   "execution_count": 16,
   "metadata": {
    "tags": [
     "hide-cell"
    ]
   },
   "outputs": [],
   "source": [
    "I_MO = np.zeros((nmo,nmo,nmo,nmo))\n",
    "for p in range(nmo):\n",
    "    for q in range(nmo):\n",
    "        for r in range(nmo):\n",
    "            for t in range(nmo):\n",
    "                for m in range(nbf):\n",
    "                    for n in range(nbf):\n",
    "                        for s in range(nbf):\n",
    "                            for l in range(nbf):\n",
    "                                I_MO[p][q][r][t] = I_MO[p][q][r][t] + C[m][p]*C[n][q]*C[s][r]*C[l][t]*I_AO[m][n][s][l]"
   ]
  },
  {
   "cell_type": "markdown",
   "metadata": {},
   "source": [
    "**Obtenga las energías de los orbitales moleculares ($\\varepsilon_a$)**\n",
    "`````{tip}\n",
    "Puede usar el siguiente código\n",
    "~~~\n",
    "epsilon = wfn.epsilon_a()\n",
    "~~~\n",
    "`````"
   ]
  },
  {
   "cell_type": "code",
   "execution_count": 17,
   "metadata": {},
   "outputs": [],
   "source": [
    "# epsilon"
   ]
  },
  {
   "cell_type": "code",
   "execution_count": 18,
   "metadata": {
    "tags": [
     "hide-cell"
    ]
   },
   "outputs": [],
   "source": [
    "epsilon = np.array(wfn.epsilon_a())"
   ]
  },
  {
   "cell_type": "markdown",
   "metadata": {},
   "source": [
    "Recordando teoría de perturbaciones, es posible realizar correcciones de n-orden a la energía $E_i^{(n)}$, tal que la energía electrónica total del estado basal ($i=0$) es\n",
    "\n",
    "$$\n",
    "E = E_0^{(0)} + E_0^{(1)} + E_0^{(2)} + E_0^{(3)} + E_0^{(4)} ...\n",
    "$$\n",
    "\n",
    "dependiendo del n-orden hasta el que se haga la corrección sobre la energía al cálculo se le denomina MPn, siendo los más comunes son MP2, MP3 y MP4.\n",
    "\n",
    "En Moller-Plesset estos términos son:\n",
    "\n",
    "$$\n",
    "E_0^{(0)} = 2\\sum_{a}^{N_e/2} {\\varepsilon_a}\n",
    "$$\n",
    "\n",
    "$$\n",
    "E_0^{(1)} = -2 \\sum_{a}^{N_e/2}\\sum_{b}^{N_e/2} [aa|bb] - [ab|ba]\n",
    "$$\n",
    "\n",
    "donde los índices $a$, $b$ refieren a orbitales moleculares ocupados, y los términos $\\varepsilon_a$, $\\varepsilon_b$, a sus energías.\n",
    "\n",
    "**Calcule $E_0^{(0)}$ y $E_0^{(1)}$**."
   ]
  },
  {
   "cell_type": "markdown",
   "metadata": {},
   "source": [
    "```{Caution}\n",
    "Aunque las sumas empiezan en el primer orbital molecular ocupado, recuerde que en Python los índices empiezan en cero.\n",
    "```"
   ]
  },
  {
   "cell_type": "code",
   "execution_count": 19,
   "metadata": {},
   "outputs": [],
   "source": [
    "# E_0 y E_1"
   ]
  },
  {
   "cell_type": "code",
   "execution_count": 20,
   "metadata": {
    "tags": [
     "hide-cell"
    ]
   },
   "outputs": [],
   "source": [
    "E_0 = 0\n",
    "for a in range(int(ne/2)):\n",
    "    E_0 = E_0 + 2*epsilon[a]\n",
    "    \n",
    "E_1 = 0\n",
    "for a in range(int(ne/2)):\n",
    "    for b in range(int(ne/2)):\n",
    "        E_1 = E_1 - 2 * I_MO[a][a][b][b] + I_MO[a][b][b][a]"
   ]
  },
  {
   "cell_type": "markdown",
   "metadata": {},
   "source": [
    "**Calcule la energía total de MP1**, recuerde sumar la energía nuclear, es decir\n",
    "\n",
    "$$\n",
    "E_{MP1} = E_{nuc} + E_0^{(0)} + E_0^{(1)}\n",
    "$$"
   ]
  },
  {
   "cell_type": "code",
   "execution_count": 21,
   "metadata": {},
   "outputs": [],
   "source": [
    "# E_MP1"
   ]
  },
  {
   "cell_type": "code",
   "execution_count": 22,
   "metadata": {
    "tags": [
     "hide-cell"
    ]
   },
   "outputs": [
    {
     "name": "stdout",
     "output_type": "stream",
     "text": [
      "E_MP1 = -1.1267362218076697\n"
     ]
    }
   ],
   "source": [
    "E_MP1 = E_nuc + E_0 + E_1\n",
    "print(\"E_MP1 =\",E_MP1)"
   ]
  },
  {
   "cell_type": "markdown",
   "metadata": {},
   "source": [
    "```{admonition} Pregunta\n",
    ":class: warning\n",
    "\n",
    "Calcule la diferencia entre $E_{MP1}$ y la energía de Hartree-Fock que calculó al inicio, **¿Cuál es la energía de correlación? ¿Cómo se relaciona $E_{MP1}$ con $E_{HF}$?\n",
    "```"
   ]
  },
  {
   "cell_type": "markdown",
   "metadata": {},
   "source": [
    "La energía de Hartree-Fock se calcula como\n",
    "\n",
    "$$\n",
    "E_{HF} = E_{nuc} + 2\\sum_a^{N_e/2} {\\varepsilon_a} -2 \\sum_{a}^{N/2}\\sum_{b}^{N/2} [aa|bb] - [ab|ba]\n",
    "$$\n",
    "\n",
    "esta es exactamente la misma expresion que $E_{MP1}$. La primera corrección a la energía aparece en $E_{MP2}$. La corrección a segundo orden es\n",
    "\n",
    "$$\n",
    "E_0^{(2)} = 2 \\sum_{a}^{N_e/2}\\sum_{b}^{N_e/2}\\sum_{r=N_e+1}^{N_{bf}}\\sum_{s=N_e+1}^{N_{bf}} \\frac{[ar|bs][ra|sb]}{\\varepsilon_{a}+\\varepsilon_{b}-\\varepsilon_{r}-\\varepsilon_{s}} - \\sum_{abrs}^{N_e/2} \\frac{[ar|bs][rb|sa]}{\\varepsilon_{a}+\\varepsilon_{b}-\\varepsilon_{r}-\\varepsilon_{s}}\n",
    "$$\n",
    "\n",
    "donde $r$, $s$ son los orbitales moleculares desocupados.\n",
    "\n",
    "**Calcule $E_0^{(2)}$, la energía de $MP2$** dada por\n",
    "\n",
    "$$\n",
    "E_{MP2} = E_{nuc} + E_0^{(0)} + E_0^{(1)} + E_0^{(2)}\n",
    "$$\n",
    "\n",
    "**y la energía de correlación**\n",
    "\n",
    "$$\n",
    "E_{corr} = E_{MP2} - E_{HF}\n",
    "$$"
   ]
  },
  {
   "cell_type": "code",
   "execution_count": 23,
   "metadata": {},
   "outputs": [],
   "source": [
    "# E_2, E_MP2 y E_corr"
   ]
  },
  {
   "cell_type": "code",
   "execution_count": 24,
   "metadata": {
    "tags": [
     "hide-cell"
    ]
   },
   "outputs": [
    {
     "name": "stdout",
     "output_type": "stream",
     "text": [
      "E_MP2 = -1.144132666768362\n",
      "E_corr = -0.01739757233897654\n"
     ]
    }
   ],
   "source": [
    "E_2 = 0\n",
    "for a in range(int(ne/2)):\n",
    "    for b in range(int(ne/2)):\n",
    "        for r in range(int(ne/2),nbf):\n",
    "            for s in range(int(ne/2),nbf):\n",
    "                E_2 = E_2 + 2*(I_MO[a][r][b][s]*I_MO[r][a][s][b])/(epsilon[a] + epsilon[b] - epsilon[r]- epsilon[s])\n",
    "                E_2 = E_2 -   (I_MO[a][r][b][s]*I_MO[r][b][s][a])/(epsilon[a] + epsilon[b] - epsilon[r]- epsilon[s])\n",
    "                \n",
    "E_MP2 = E_nuc + E_0 + E_1 + E_2\n",
    "print(\"E_MP2 =\",E_MP2)\n",
    "\n",
    "print(\"E_corr =\",E_MP2-E_HF)"
   ]
  },
  {
   "cell_type": "markdown",
   "metadata": {},
   "source": [
    "```{important}\n",
    "Generalizando, la energía total de MPn es\n",
    "\n",
    "$$\n",
    "E_{MPn} = E_{nuc} + E_0^{(0)} + E_0^{(1)} + E_0^{(2)} + ... + E_0^{(n)}\n",
    "$$\n",
    "\n",
    "Al restarle la energía de Hartree-Fock se obtiene\n",
    "\n",
    "$$\n",
    "E_{corr} = E_{MPn} - E_{HF} = E_0^{(2)} + ... + E_0^{(n)}\n",
    "$$\n",
    "```"
   ]
  },
  {
   "cell_type": "markdown",
   "metadata": {},
   "source": [
    "**Adapte la instrucción a MP2 junto con la base que usó para comprobar sus resultados**.\n",
    "```\n",
    "E_MPn = psi4.energy('MPn/Base')\n",
    "print(\"E_MPn =\",E_MPn)\n",
    "```"
   ]
  },
  {
   "cell_type": "code",
   "execution_count": 25,
   "metadata": {},
   "outputs": [],
   "source": [
    "# E_MP2 psi4"
   ]
  },
  {
   "cell_type": "code",
   "execution_count": 26,
   "metadata": {
    "tags": [
     "hide-cell"
    ]
   },
   "outputs": [
    {
     "name": "stdout",
     "output_type": "stream",
     "text": [
      "    SCF Algorithm Type (re)set to DF.\n",
      "\n",
      "*** tstart() called on BlauweDraak\n",
      "*** at Thu Jun  2 11:07:53 2022\n",
      "\n",
      "   => Loading Basis Set <=\n",
      "\n",
      "    Name: 6-31G\n",
      "    Role: ORBITAL\n",
      "    Keyword: BASIS\n",
      "    atoms 1-2 entry H          line    26 file /home/jebarrios/anaconda3/envs/QCI/share/psi4/basis/6-31g.gbs \n",
      "\n",
      "\n",
      "         ---------------------------------------------------------\n",
      "                                   SCF\n",
      "            by Justin Turney, Rob Parrish, Andy Simmonett\n",
      "                             and Daniel Smith\n",
      "                              RHF Reference\n",
      "                        1 Threads,    500 MiB Core\n",
      "         ---------------------------------------------------------\n",
      "\n",
      "  ==> Geometry <==\n",
      "\n",
      "    Molecular point group: c1\n",
      "    Full point group: D_inf_h\n",
      "\n",
      "    Geometry (in Angstrom), charge = 0, multiplicity = 1:\n",
      "\n",
      "       Center              X                  Y                   Z               Mass       \n",
      "    ------------   -----------------  -----------------  -----------------  -----------------\n",
      "         H            0.000000000000     0.000000000000    -0.370700000000     1.007825032070\n",
      "         H            0.000000000000     0.000000000000     0.370700000000     1.007825032070\n",
      "\n",
      "  Running in c1 symmetry.\n",
      "\n",
      "  Rotational constants: A = ************  B =     60.86059  C =     60.86059 [cm^-1]\n",
      "  Rotational constants: A = ************  B = 1824554.69688  C = 1824554.69688 [MHz]\n",
      "  Nuclear repulsion =    0.713753990544916\n",
      "\n",
      "  Charge       = 0\n",
      "  Multiplicity = 1\n",
      "  Electrons    = 2\n",
      "  Nalpha       = 1\n",
      "  Nbeta        = 1\n",
      "\n",
      "  ==> Algorithm <==\n",
      "\n",
      "  SCF Algorithm Type is DF.\n",
      "  DIIS enabled.\n",
      "  MOM disabled.\n",
      "  Fractional occupation disabled.\n",
      "  Guess Type is SAD.\n",
      "  Energy threshold   = 1.00e-08\n",
      "  Density threshold  = 1.00e-08\n",
      "  Integral threshold = 0.00e+00\n",
      "\n",
      "  ==> Primary Basis <==\n",
      "\n",
      "  Basis Set: 6-31G\n",
      "    Blend: 6-31G\n",
      "    Number of shells: 4\n",
      "    Number of basis function: 4\n",
      "    Number of Cartesian functions: 4\n",
      "    Spherical Harmonics?: false\n",
      "    Max angular momentum: 0\n",
      "\n"
     ]
    },
    {
     "name": "stdout",
     "output_type": "stream",
     "text": [
      "   => Loading Basis Set <=\n",
      "\n",
      "    Name: (6-31G AUX)\n",
      "    Role: JKFIT\n",
      "    Keyword: DF_BASIS_SCF\n",
      "    atoms 1-2 entry H          line    51 file /home/jebarrios/anaconda3/envs/QCI/share/psi4/basis/cc-pvdz-jkfit.gbs \n",
      "\n",
      "  ==> Pre-Iterations <==\n",
      "\n",
      "   -------------------------------------------------------\n",
      "    Irrep   Nso     Nmo     Nalpha   Nbeta   Ndocc  Nsocc\n",
      "   -------------------------------------------------------\n",
      "     A          4       4       0       0       0       0\n",
      "   -------------------------------------------------------\n",
      "    Total       4       4       1       1       1       0\n",
      "   -------------------------------------------------------\n",
      "\n",
      "  ==> Integral Setup <==\n",
      "\n",
      "  ==> DiskDFJK: Density-Fitted J/K Matrices <==\n",
      "\n",
      "    J tasked:                  Yes\n",
      "    K tasked:                  Yes\n",
      "    wK tasked:                  No\n",
      "    OpenMP threads:              1\n",
      "    Integrals threads:           1\n",
      "    Memory (MB):               375\n",
      "    Algorithm:                Core\n",
      "    Integral Cache:           NONE\n",
      "    Schwarz Cutoff:          1E-12\n",
      "    Fitting Condition:       1E-12\n",
      "\n",
      "   => Auxiliary Basis Set <=\n",
      "\n",
      "  Basis Set: (6-31G AUX)\n",
      "    Blend: CC-PVDZ-JKFIT\n",
      "    Number of shells: 18\n",
      "    Number of basis function: 50\n",
      "    Number of Cartesian functions: 50\n",
      "    Spherical Harmonics?: false\n",
      "    Max angular momentum: 2\n",
      "\n",
      "  Minimum eigenvalue in the overlap matrix is 9.6516473117E-02.\n",
      "  Using Symmetric Orthogonalization.\n",
      "\n",
      "  SCF Guess: Superposition of Atomic Densities via on-the-fly atomic UHF.\n",
      "\n",
      "  ==> Iterations <==\n",
      "\n",
      "                           Total Energy        Delta E     RMS |[F,P]|\n",
      "\n",
      "   @DF-RHF iter   0:    -0.84676995053393   -8.46770e-01   4.58205"
     ]
    },
    {
     "name": "stdout",
     "output_type": "stream",
     "text": [
      "e-02 \n",
      "   @DF-RHF iter   1:    -1.12563169218407   -2.78862e-01   8.98304e-03 \n",
      "   @DF-RHF iter   2:    -1.12671102300080   -1.07933e-03   1.32528e-03 DIIS\n",
      "   @DF-RHF iter   3:    -1.12673509439970   -2.40714e-05   1.47147e-06 DIIS\n",
      "   @DF-RHF iter   4:    -1.12673509442939   -2.96894e-11   9.44948e-10 DIIS\n",
      "\n",
      "  ==> Post-Iterations <==\n",
      "\n",
      "    Orbital Energies [Eh]\n",
      "    ---------------------\n",
      "\n",
      "    Doubly Occupied:                                                      \n",
      "\n",
      "       1A     -0.595394  \n",
      "\n",
      "    Virtual:                                                              \n",
      "\n",
      "       2A      0.238117     3A      0.775393     4A      1.402580  \n",
      "\n",
      "    Final Occupation by Irrep:\n",
      "              A \n",
      "    DOCC [     1 ]\n",
      "\n",
      "  Energy converged.\n",
      "\n",
      "  @DF-RHF Final Energy:    -1.12673509442939\n",
      "\n",
      "   => Energetics <=\n",
      "\n",
      "    Nuclear Repulsion Energy =              0.7137539905449155\n",
      "    One-Electron Energy =                  -2.4901908886154178\n",
      "    Two-Electron Energy =                   0.6497018036411097\n",
      "    Total Energy =                         -1.1267350944293926\n",
      "\n",
      "\n",
      "\n",
      "Properties will be evaluated at   0.000000,   0.000000,   0.000000 [a0]\n",
      "\n",
      "Properties computed using the SCF density matrix\n",
      "\n",
      "  Nuclear Dipole Moment: [e a0]\n",
      "     X:     0.0000      Y:     0.0000      Z:     0.0000\n",
      "\n",
      "  Electronic Dipole Moment: [e a0]\n",
      "     X:     0.0000      Y:     0.0000      Z:     0.0000\n",
      "\n",
      "  Dipole Moment: [e a0]\n",
      "     X:     0.0000      Y:     0.0000      Z:     0.0000     Total:     0.0000\n",
      "\n",
      "  Dipole Moment: [D]\n",
      "     X:     0.0000      Y:     0.0000      Z:     0.0000     Total:     0.0000\n",
      "\n",
      "\n",
      "*** tstop() called on BlauweDraak at Thu Jun  2 11:07:53 2022\n",
      "Module time:\n",
      "\tuser time   =       0.22 seconds =       0.00 minutes\n",
      "\tsystem time =       0.00 seconds =       0.00 minutes\n",
      "\ttotal time  =          0 seconds =       0.00 minutes\n",
      "Total time:\n",
      "\tuser time   =       0.74 seconds =       0.01 minutes\n",
      "\tsystem time =       0.01 seconds =       0.00 minutes\n",
      "\ttotal time  =          1 seconds =       0.02 minutes\n",
      "\n",
      "*** tstart() called on BlauweDraak\n",
      "*** at Thu Jun  2 11:07:53 2022\n",
      "\n",
      "\n",
      "  //>>>>>>>>>>>>>>>>>>>>>>>>>>>>>>>>>>>//\n",
      "  //               DFMP2               //\n",
      "  //<<<<<<<<<<<<<<<<<<<<<<<<<<<<<<<<<<<//\n",
      "\n",
      "   => Loading Basis Set <=\n",
      "\n",
      "    Name: (6-31G AUX)\n",
      "    Role: RIFIT\n",
      "    Keyword: DF_BASIS_MP2\n",
      "    atoms 1-2 entry H          line    19 file /home/jebarrios/anaconda3/envs/QCI/share/psi4/basis/cc-pvdz-ri.gbs \n",
      "\n",
      "\t --------------------------------------------------------\n",
      "\t                          DF-MP2                         \n",
      "\t      2nd-Order Density-Fitted Moller-Plesset Theory     \n",
      "E_MP2 = -1.1441144229571236\n",
      "\t              RMP2 Wavefunction,   1 Threads             \n",
      "\t                                                         \n",
      "\t        Rob Parrish, Justin Turney, Andy Simmonett,      \n",
      "\t           Ed Hohenstein, and C. David Sherrill          \n",
      "\t --------------------------------------------------------\n",
      "\n",
      "   => Auxiliary Basis Set <=\n",
      "\n",
      "  Basis Set: (6-31G AUX)\n",
      "    Blend: CC-PVDZ-RI\n",
      "    Number of shells: 12\n",
      "    Number of basis function: 28\n",
      "    Number of Cartesian functions: 30\n",
      "    Spherical Harmonics?: true\n",
      "    Max angular momentum: 2\n",
      "\n",
      "\t --------------------------------------------------------\n",
      "\t                 NBF =     4, NAUX =    28\n",
      "\t --------------------------------------------------------\n",
      "\t   CLASS    FOCC     OCC    AOCC    AVIR     VIR    FVIR\n",
      "\t   PAIRS       0       1       1       3       3       0\n",
      "\t --------------------------------------------------------\n",
      "\n",
      "\t-----------------------------------------------------------\n",
      "\t ==================> DF-MP2 Energies <==================== \n",
      "\t-----------------------------------------------------------\n",
      "\t Reference Energy          =      -1.1267350944293926 [Eh]\n",
      "\t Singles Energy            =      -0.0000000000000000 [Eh]\n",
      "\t Same-Spin Energy          =       0.0000000000000000 [Eh]\n",
      "\t Opposite-Spin Energy      =      -0.0173793285277310 [Eh]\n",
      "\t Correlation Energy        =      -0.0173793285277310 [Eh]\n",
      "\t Total Energy              =      -1.1441144229571236 [Eh]\n",
      "\t-----------------------------------------------------------\n",
      "\t ================> DF-SCS-MP2 Energies <================== \n",
      "\t-----------------------------------------------------------\n",
      "\t SCS Same-Spin Scale       =       0.3333333333333333 [-]\n",
      "\t SCS Opposite-Spin Scale   =       1.2000000000000000 [-]\n",
      "\t SCS Same-Spin Energy      =       0.0000000000000000 [Eh]\n",
      "\t SCS Opposite-Spin Energy  =      -0.0208551942332772 [Eh]\n",
      "\t SCS Correlation Energy    =      -0.0208551942332772 [Eh]\n",
      "\t SCS Total Energy          =      -1.1475902886626697 [Eh]\n",
      "\t------------------------------------------------"
     ]
    },
    {
     "name": "stdout",
     "output_type": "stream",
     "text": [
      "-----------\n",
      "\n",
      "\n",
      "*** tstop() called on BlauweDraak at Thu Jun  2 11:07:53 2022\n",
      "Module time:\n",
      "\tuser time   =       0.06 seconds =       0.00 minutes\n",
      "\tsystem time =       0.00 seconds =       0.00 minutes\n",
      "\ttotal time  =          0 seconds =       0.00 minutes\n",
      "Total time:\n",
      "\tuser time   =       0.80 seconds =       0.01 minutes\n",
      "\tsystem time =       0.01 seconds =       0.00 minutes\n",
      "\ttotal time  =          1 seconds =       0.02 minutes\n"
     ]
    }
   ],
   "source": [
    "E_MP2 = psi4.energy('MP2/6-31G')\n",
    "print(\"E_MP2 =\",E_MP2)"
   ]
  }
 ],
 "metadata": {
  "celltoolbar": "Tags",
  "kernelspec": {
   "display_name": "Python 3 (ipykernel)",
   "language": "python",
   "name": "python3"
  },
  "language_info": {
   "codemirror_mode": {
    "name": "ipython",
    "version": 3
   },
   "file_extension": ".py",
   "mimetype": "text/x-python",
   "name": "python",
   "nbconvert_exporter": "python",
   "pygments_lexer": "ipython3",
   "version": "3.7.0"
  }
 },
 "nbformat": 4,
 "nbformat_minor": 4
}