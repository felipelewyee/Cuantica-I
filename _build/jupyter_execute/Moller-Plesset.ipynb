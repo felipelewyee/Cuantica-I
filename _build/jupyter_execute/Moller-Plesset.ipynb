{
 "cells": [
  {
   "cell_type": "markdown",
   "metadata": {},
   "source": [
    "# Möller-Plesset (MPn)"
   ]
  },
  {
   "cell_type": "markdown",
   "metadata": {},
   "source": [
    "```{warning}\n",
    "Si está utilizando Google Colab o la ejecución en línea, debe de ejecutar al inicio el siguiente código\n",
    "~~~\n",
    "!pip install pyscf\n",
    "~~~\n",
    "```"
   ]
  },
  {
   "cell_type": "markdown",
   "metadata": {},
   "source": [
    "Las ecuaciones de Möller-Plesset surgen de aplicar la teoría de perturbaciones a Hartree-Fock. Para ello se toma como sistema conocido el Hamiltoniano de Hartree-Fock ($\\mathcal{H}_0$) y se le aplica  una perturbación ($\\mathcal{V}$) para convertirlo en el Hamiltoniano del sistema con correlación electrónica ($\\mathcal{H}$).\n",
    "\n",
    "$$\n",
    "\\mathcal{H} = \\mathcal{H}_0 + \\mathcal{V}\n",
    "$$"
   ]
  },
  {
   "cell_type": "markdown",
   "metadata": {},
   "source": [
    "Para comenzar, **importe las librerías numpy y PySCF**."
   ]
  },
  {
   "cell_type": "code",
   "execution_count": 1,
   "metadata": {},
   "outputs": [],
   "source": [
    "# Importe librerías"
   ]
  },
  {
   "cell_type": "code",
   "execution_count": 2,
   "metadata": {
    "tags": [
     "hide-cell"
    ]
   },
   "outputs": [],
   "source": [
    "# Descomentar estas líneas si está en modo online\n",
    "\n",
    "#!pip install pyscf\n",
    "\n",
    "import pyscf\n",
    "from pyscf import scf\n",
    "from pyscf import mp\n",
    "import numpy as np"
   ]
  },
  {
   "cell_type": "markdown",
   "metadata": {},
   "source": [
    "**Defina una molécula de su interés y seleccione una base.** A continuación se proporciona la geometría de la molécula de hidrógeno y se recomienda usar la base 6-31G, aunque puede usar cualquier otro sistema. Se recomienda que sea pequeño por tiempo de ejecución.\n",
    "```\n",
    "H 0.0000  0.0000 0.0000\n",
    "H 0.0000  0.0000 0.7414 \n",
    "```"
   ]
  },
  {
   "cell_type": "code",
   "execution_count": 3,
   "metadata": {},
   "outputs": [],
   "source": [
    "# Defina molécula"
   ]
  },
  {
   "cell_type": "code",
   "execution_count": 4,
   "metadata": {
    "tags": [
     "hide-cell"
    ]
   },
   "outputs": [],
   "source": [
    "mol = pyscf.gto.Mole(atom = \"\"\"\n",
    "    H 0.0000  0.0000 0.0000\n",
    "    H 0.0000  0.0000 0.7414 \n",
    "    \"\"\",basis = \"6-31G\")\n",
    "mol = mol.build()"
   ]
  },
  {
   "cell_type": "markdown",
   "metadata": {},
   "source": [
    "Ya que la teoría de Möller-Plesset corrige el Hamiltoniano de Hartree-Fock, **realice un cálculo de Hartree-Fock y recupere la energía.**"
   ]
  },
  {
   "cell_type": "code",
   "execution_count": 5,
   "metadata": {},
   "outputs": [],
   "source": [
    "# Calcule E_HF"
   ]
  },
  {
   "cell_type": "code",
   "execution_count": 6,
   "metadata": {
    "tags": [
     "hide-cell"
    ]
   },
   "outputs": [
    {
     "name": "stdout",
     "output_type": "stream",
     "text": [
      "converged SCF energy = -1.12673396711657\n"
     ]
    }
   ],
   "source": [
    "rhf = scf.RHF(mol)\n",
    "E_HF = rhf.kernel()"
   ]
  },
  {
   "cell_type": "markdown",
   "metadata": {},
   "source": [
    "**Obtenga la energía nuclear**"
   ]
  },
  {
   "cell_type": "code",
   "execution_count": 7,
   "metadata": {},
   "outputs": [],
   "source": [
    "# E_nuc"
   ]
  },
  {
   "cell_type": "code",
   "execution_count": 8,
   "metadata": {
    "tags": [
     "hide-cell"
    ]
   },
   "outputs": [
    {
     "name": "stdout",
     "output_type": "stream",
     "text": [
      "E_nuc = 0.7137539936876182\n"
     ]
    }
   ],
   "source": [
    "E_nuc = mol.energy_nuc() \n",
    "print(\"E_nuc =\",E_nuc)"
   ]
  },
  {
   "cell_type": "markdown",
   "metadata": {},
   "source": [
    "**Obtenga los coeficientes de los orbitales moleculares.** Utilice la instrucción\n",
    "~~~python\n",
    "C = rhf.mo_coeff\n",
    "~~~"
   ]
  },
  {
   "cell_type": "code",
   "execution_count": 9,
   "metadata": {},
   "outputs": [],
   "source": [
    "# Coeficientes"
   ]
  },
  {
   "cell_type": "markdown",
   "metadata": {},
   "source": [
    "**Obtenga el número de funciones de base ($N_{bf}$), de orbitales moleculares ($N_{mo})$ y de electrones ($N_{e}$)**"
   ]
  },
  {
   "cell_type": "code",
   "execution_count": 10,
   "metadata": {
    "tags": [
     "hide-cell"
    ]
   },
   "outputs": [],
   "source": [
    "C = rhf.mo_coeff"
   ]
  },
  {
   "cell_type": "code",
   "execution_count": 11,
   "metadata": {},
   "outputs": [
    {
     "data": {
      "text/plain": [
       "array([[ 0.32670763,  0.12292411,  0.76693628, -1.1214825 ],\n",
       "       [ 0.2721563 ,  1.71135642, -0.68633984,  1.34834978],\n",
       "       [ 0.32670763, -0.12292411,  0.76693628,  1.1214825 ],\n",
       "       [ 0.2721563 , -1.71135642, -0.68633984, -1.34834978]])"
      ]
     },
     "execution_count": 11,
     "metadata": {},
     "output_type": "execute_result"
    }
   ],
   "source": [
    "C"
   ]
  },
  {
   "cell_type": "code",
   "execution_count": 12,
   "metadata": {},
   "outputs": [],
   "source": [
    "# nbf, nmo y ne"
   ]
  },
  {
   "cell_type": "code",
   "execution_count": 13,
   "metadata": {
    "tags": [
     "hide-cell"
    ]
   },
   "outputs": [
    {
     "name": "stdout",
     "output_type": "stream",
     "text": [
      "nbf = 4  nmo = 4  ne = 2\n"
     ]
    }
   ],
   "source": [
    "nbf = len(C)\n",
    "nmo = nbf\n",
    "ne = mol.nelectron\n",
    "print(\"nbf =\",nbf,\" nmo =\",nmo,\" ne =\",ne)"
   ]
  },
  {
   "cell_type": "markdown",
   "metadata": {},
   "source": [
    "Vamos a necesitar integrales de repulsión electrónica\n",
    "\n",
    "$$\n",
    "[\\mu \\nu | \\sigma \\lambda] = \\int \\int \\frac{\\mu(r_1) \\nu(r_1) \\sigma(r_2) \\lambda(r_2)}{ |r_1 - r_2| } dr_1 dr_2\n",
    "$$\n",
    "donde $\\mu$, $\\nu$, $\\sigma$ y $\\lambda$ se refieren a orbitales atómicos.\n",
    "\n",
    "**Obtenga las integrales $[\\mu\\nu|\\sigma\\lambda]$ y guardarlas en la variable I_AO**\n",
    "`````{tip}\n",
    "Puede usar las siguientes líneas\n",
    "~~~\n",
    "I_AO = mol.intor('int2e')\n",
    "~~~\n",
    "`````"
   ]
  },
  {
   "cell_type": "code",
   "execution_count": 14,
   "metadata": {},
   "outputs": [],
   "source": [
    "# ERIs I_AO"
   ]
  },
  {
   "cell_type": "code",
   "execution_count": 15,
   "metadata": {
    "tags": [
     "hide-cell"
    ]
   },
   "outputs": [],
   "source": [
    "I_AO = mol.intor('int2e')"
   ]
  },
  {
   "cell_type": "markdown",
   "metadata": {},
   "source": [
    "```{Note}\n",
    "Los software de estructura electrónica usan formas optimizadas de las ecuaciones aquí mostradas. Este notebook ha sido creado solo con fines didácticos.\n",
    "```"
   ]
  },
  {
   "cell_type": "markdown",
   "metadata": {},
   "source": [
    "La teoría de Möller-Plesset requiere que estas integrales sean transformadas a orbital molecular. Recuerde que un orbital molecular es una combinación lineal de orbitales atómicos\n",
    "\n",
    "$$\n",
    "p(r) = \\sum_\\mu C_{\\mu p} \\mu (r)\n",
    "$$\n",
    "\n",
    "En el siguiente recuadro **declare una variable I_MO de dimensión ($N_{MO}$,$N_{MO}$,$N_{MO}$,$N_{MO}$), y lleve a cabo la transformación**\n",
    "\n",
    "$$\n",
    "[pq|rt] = \\sum_{\\mu\\nu\\sigma\\lambda}^N C_{\\mu p} C_{\\nu q} C_{\\sigma r} C_{\\lambda s} [\\mu \\nu | \\sigma \\lambda]\n",
    "$$"
   ]
  },
  {
   "cell_type": "markdown",
   "metadata": {},
   "source": [
    "```{tip}\n",
    "Utilice 4 for para recorrer los orbitales moleculares, y 4 for para recorrer las funciones de base.\n",
    "```\n",
    "\n",
    "`````{margin}\n",
    "Alternativamente puede usar la instrucción\n",
    "~~~\n",
    "I_MO = np.einsum('mp,nq,sr,lt,mnsl->pqrt',C,C,C,C,I_AO,optimize=True)\n",
    "~~~\n",
    "La cual es sustancialmente más rápida que los 8 for. Esto puede hacer su programa más rápido si su sistema no es tan pequeño.\n",
    "`````"
   ]
  },
  {
   "cell_type": "code",
   "execution_count": 16,
   "metadata": {},
   "outputs": [],
   "source": [
    "# ERIs I_MO"
   ]
  },
  {
   "cell_type": "code",
   "execution_count": 17,
   "metadata": {
    "tags": [
     "hide-cell"
    ]
   },
   "outputs": [],
   "source": [
    "I_MO = np.zeros((nmo,nmo,nmo,nmo))\n",
    "for p in range(nmo):\n",
    "    for q in range(nmo):\n",
    "        for r in range(nmo):\n",
    "            for t in range(nmo):\n",
    "                for m in range(nbf):\n",
    "                    for n in range(nbf):\n",
    "                        for s in range(nbf):\n",
    "                            for l in range(nbf):\n",
    "                                I_MO[p][q][r][t] = I_MO[p][q][r][t] + C[m][p]*C[n][q]*C[s][r]*C[l][t]*I_AO[m][n][s][l]"
   ]
  },
  {
   "cell_type": "markdown",
   "metadata": {},
   "source": [
    "**Obtenga las energías de los orbitales moleculares ($\\varepsilon_a$)**\n",
    "`````{tip}\n",
    "Puede usar el siguiente código\n",
    "~~~\n",
    "epsilon = rhf.mo_energy\n",
    "~~~\n",
    "`````"
   ]
  },
  {
   "cell_type": "code",
   "execution_count": 18,
   "metadata": {},
   "outputs": [],
   "source": [
    "# epsilon"
   ]
  },
  {
   "cell_type": "code",
   "execution_count": 19,
   "metadata": {
    "tags": [
     "hide-cell"
    ]
   },
   "outputs": [],
   "source": [
    "epsilon = rhf.mo_energy"
   ]
  },
  {
   "cell_type": "markdown",
   "metadata": {},
   "source": [
    "Recordando teoría de perturbaciones, es posible realizar correcciones de n-orden a la energía $E_i^{(n)}$, tal que la energía electrónica total del estado basal ($i=0$) es\n",
    "\n",
    "$$\n",
    "E = E_0^{(0)} + E_0^{(1)} + E_0^{(2)} + E_0^{(3)} + E_0^{(4)} ...\n",
    "$$\n",
    "\n",
    "dependiendo del n-orden hasta el que se haga la corrección sobre la energía al cálculo se le denomina MPn, siendo los más comunes son MP2, MP3 y MP4.\n",
    "\n",
    "En Möller-Plesset estos términos son:\n",
    "\n",
    "$$\n",
    "E_0^{(0)} = 2\\sum_{a}^{N_e/2} {\\varepsilon_a}\n",
    "$$\n",
    "\n",
    "$$\n",
    "E_0^{(1)} = -2 \\sum_{a}^{N_e/2}\\sum_{b}^{N_e/2} [aa|bb] - [ab|ba]\n",
    "$$\n",
    "\n",
    "donde los índices $a$, $b$ refieren a orbitales moleculares ocupados, y los términos $\\varepsilon_a$, $\\varepsilon_b$, a sus energías.\n",
    "\n",
    "**Calcule $E_0^{(0)}$ y $E_0^{(1)}$**."
   ]
  },
  {
   "cell_type": "markdown",
   "metadata": {},
   "source": [
    "```{Caution}\n",
    "Aunque las sumas empiezan en el primer orbital molecular ocupado, recuerde que en Python los índices empiezan en cero.\n",
    "```"
   ]
  },
  {
   "cell_type": "code",
   "execution_count": 20,
   "metadata": {},
   "outputs": [],
   "source": [
    "# E_0 y E_1"
   ]
  },
  {
   "cell_type": "code",
   "execution_count": 21,
   "metadata": {
    "tags": [
     "hide-cell"
    ]
   },
   "outputs": [],
   "source": [
    "E_0 = 0\n",
    "for a in range(int(ne/2)):\n",
    "    E_0 = E_0 + 2*epsilon[a]\n",
    "    \n",
    "E_1 = 0\n",
    "for a in range(int(ne/2)):\n",
    "    for b in range(int(ne/2)):\n",
    "        E_1 = E_1 - 2 * I_MO[a][a][b][b] + I_MO[a][b][b][a]"
   ]
  },
  {
   "cell_type": "markdown",
   "metadata": {},
   "source": [
    "**Calcule la energía total de MP1**, recuerde sumar la energía nuclear, es decir\n",
    "\n",
    "$$\n",
    "E_{MP1} = E_{nuc} + E_0^{(0)} + E_0^{(1)}\n",
    "$$"
   ]
  },
  {
   "cell_type": "code",
   "execution_count": 22,
   "metadata": {},
   "outputs": [],
   "source": [
    "# E_MP1"
   ]
  },
  {
   "cell_type": "code",
   "execution_count": 23,
   "metadata": {
    "tags": [
     "hide-cell"
    ]
   },
   "outputs": [
    {
     "name": "stdout",
     "output_type": "stream",
     "text": [
      "E_MP1 = -1.1267344779324089\n"
     ]
    }
   ],
   "source": [
    "E_MP1 = E_nuc + E_0 + E_1\n",
    "print(\"E_MP1 =\",E_MP1)"
   ]
  },
  {
   "cell_type": "markdown",
   "metadata": {},
   "source": [
    "```{admonition} Pregunta\n",
    ":class: warning\n",
    "\n",
    "Calcule la diferencia entre $E_{MP1}$ y la energía de Hartree-Fock que calculó al inicio, **¿Cuál es la energía de correlación? ¿Cómo se relaciona $E_{MP1}$ con $E_{HF}$?\n",
    "```"
   ]
  },
  {
   "cell_type": "markdown",
   "metadata": {},
   "source": [
    "La energía de Hartree-Fock se calcula como\n",
    "\n",
    "$$\n",
    "E_{HF} = E_{nuc} + 2\\sum_a^{N_e/2} {\\varepsilon_a} -2 \\sum_{a}^{N/2}\\sum_{b}^{N/2} [aa|bb] - [ab|ba]\n",
    "$$\n",
    "\n",
    "esta es exactamente la misma expresion que $E_{MP1}$. La primera corrección a la energía aparece en $E_{MP2}$. La corrección a segundo orden es\n",
    "\n",
    "$$\n",
    "E_0^{(2)} = 2 \\sum_{a}^{N_e/2}\\sum_{b}^{N_e/2}\\sum_{r=N_e+1}^{N_{bf}}\\sum_{s=N_e+1}^{N_{bf}} \\frac{[ar|bs][ra|sb]}{\\varepsilon_{a}+\\varepsilon_{b}-\\varepsilon_{r}-\\varepsilon_{s}} - \\sum_{abrs}^{N_e/2} \\frac{[ar|bs][rb|sa]}{\\varepsilon_{a}+\\varepsilon_{b}-\\varepsilon_{r}-\\varepsilon_{s}}\n",
    "$$\n",
    "\n",
    "donde $r$, $s$ son los orbitales moleculares desocupados.\n",
    "\n",
    "**Calcule $E_0^{(2)}$, la energía de $MP2$** dada por\n",
    "\n",
    "$$\n",
    "E_{MP2} = E_{nuc} + E_0^{(0)} + E_0^{(1)} + E_0^{(2)}\n",
    "$$\n",
    "\n",
    "**y la energía de correlación**\n",
    "\n",
    "$$\n",
    "E_{corr} = E_{MP2} - E_{HF}\n",
    "$$"
   ]
  },
  {
   "cell_type": "code",
   "execution_count": 24,
   "metadata": {},
   "outputs": [],
   "source": [
    "# E_2, E_MP2 y E_corr"
   ]
  },
  {
   "cell_type": "code",
   "execution_count": 25,
   "metadata": {
    "tags": [
     "hide-cell"
    ]
   },
   "outputs": [
    {
     "name": "stdout",
     "output_type": "stream",
     "text": [
      "E_MP2 = -1.1441309213453636\n",
      "E_corr = -0.017396954228796613\n"
     ]
    }
   ],
   "source": [
    "E_2 = 0\n",
    "for a in range(int(ne/2)):\n",
    "    for b in range(int(ne/2)):\n",
    "        for r in range(int(ne/2),nbf):\n",
    "            for s in range(int(ne/2),nbf):\n",
    "                E_2 = E_2 + 2*(I_MO[a][r][b][s]*I_MO[r][a][s][b])/(epsilon[a] + epsilon[b] - epsilon[r]- epsilon[s])\n",
    "                E_2 = E_2 -   (I_MO[a][r][b][s]*I_MO[r][b][s][a])/(epsilon[a] + epsilon[b] - epsilon[r]- epsilon[s])\n",
    "                \n",
    "E_MP2 = E_nuc + E_0 + E_1 + E_2\n",
    "print(\"E_MP2 =\",E_MP2)\n",
    "\n",
    "print(\"E_corr =\",E_MP2-E_HF)"
   ]
  },
  {
   "cell_type": "markdown",
   "metadata": {},
   "source": [
    "```{important}\n",
    "Generalizando, la energía total de MPn es\n",
    "\n",
    "$$\n",
    "E_{MPn} = E_{nuc} + E_0^{(0)} + E_0^{(1)} + E_0^{(2)} + ... + E_0^{(n)}\n",
    "$$\n",
    "\n",
    "Al restarle la energía de Hartree-Fock se obtiene\n",
    "\n",
    "$$\n",
    "E_{corr} = E_{MPn} - E_{HF} = E_0^{(2)} + ... + E_0^{(n)}\n",
    "$$\n",
    "```"
   ]
  },
  {
   "cell_type": "markdown",
   "metadata": {},
   "source": [
    "**Adapte la instrucción a MP2 para comprobar sus resultados**.\n",
    "```\n",
    "mp2 = mp.MP2(mol)\n",
    "E_corr = mp2.kernel()\n",
    "```"
   ]
  },
  {
   "cell_type": "code",
   "execution_count": 26,
   "metadata": {},
   "outputs": [],
   "source": [
    "# E_MP2 PySCF"
   ]
  },
  {
   "cell_type": "code",
   "execution_count": 27,
   "metadata": {
    "tags": [
     "hide-cell"
    ]
   },
   "outputs": [
    {
     "name": "stdout",
     "output_type": "stream",
     "text": [
      "converged SCF energy = -1.12673396711657\n"
     ]
    },
    {
     "name": "stdout",
     "output_type": "stream",
     "text": [
      "E(MP2) = -1.14413041052952  E_corr = -0.0173964434129548\n"
     ]
    }
   ],
   "source": [
    "mp2 = mp.MP2(mol)\n",
    "E_corr = mp2.kernel()"
   ]
  },
  {
   "cell_type": "markdown",
   "metadata": {},
   "source": [
    "## Referencias"
   ]
  },
  {
   "cell_type": "markdown",
   "metadata": {},
   "source": [
    "- C. Møller y M.S. Plesset, Note on an Approximation Treatment for Many-Electron Systems, Phys. Rev. 46, 618 (1934)."
   ]
  }
 ],
 "metadata": {
  "celltoolbar": "Tags",
  "kernelspec": {
   "display_name": "Python 3 (ipykernel)",
   "language": "python",
   "name": "python3"
  },
  "language_info": {
   "codemirror_mode": {
    "name": "ipython",
    "version": 3
   },
   "file_extension": ".py",
   "mimetype": "text/x-python",
   "name": "python",
   "nbconvert_exporter": "python",
   "pygments_lexer": "ipython3",
   "version": "3.10.4"
  }
 },
 "nbformat": 4,
 "nbformat_minor": 4
}