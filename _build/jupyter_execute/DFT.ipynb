{
 "cells": [
  {
   "cell_type": "markdown",
   "metadata": {},
   "source": [
    "# Teoría de funcionales de la densidad (DFT)"
   ]
  },
  {
   "cell_type": "markdown",
   "metadata": {},
   "source": [
    "La teoría de los funcionales de la densidad se basa en que la densidad electrónica contiene toda la información del sistema, por lo que se puede extraer de ella la energía mediante un funcional\n",
    "\n",
    "$$\n",
    "E[\\rho] = T_s[\\rho] + U[\\rho] + V_{nuc}[\\rho] + E_{xc}[\\rho]\n",
    "$$\n",
    "\n",
    "Donde\n",
    "- $E[\\rho]$ es la energía del sistema \n",
    "- $T_s[\\rho]$ es la energía cinética de Kohn-Sham\n",
    "- $U[\\rho]$ es la energía de Hartree\n",
    "- $V[\\rho]$ es la interacción núcleo electrón\n",
    "- $E_{xc} [\\rho]$ es la energía de intercambio correlación\n",
    "\n",
    "En la formulación de Kohn y Sham, la densidad electrónica ($\\rho(r)$) se calcula a partir de los orbitales de Kohn-Sham ($\\psi^{KS}_i(r)$)\n",
    "\n",
    "$$\n",
    "\\rho(r) = \\sum_i^{N} |\\psi^{KS}_i(r)|^2\n",
    "$$\n",
    "\n",
    "\n",
    "```{warning}\n",
    "Los teoremas de Hohenberg y Kohn, y Kohn y Sham prueban que existe un funcional universal que conecta a la densidad electrónica con la energía del sistema, pero este funcional no se conoce, particularmente por la parte de $E_{xc}[\\rho]$. Se han realizado diversas propuestas de como construir este funcional, por lo que en la práctica existen cientos de funcionales de DFT.\n",
    "```\n",
    "\n",
    "```{note}\n",
    "No existe el mejor funcional, sino que depende del sistema químico que se esté estudiando.\n",
    "```\n",
    "\n",
    "En general los funcionales aproximan de diferente manera el intercambio y la correlación, dependiendo de como se aproxime el funcional, estos se pueden clasificar en diferentes categorías. La clasificación fue propuesta por Perdew y se conoce como la `escalera de Jacob`.\n",
    "\n",
    "```{warning}\n",
    "Evaluar la contribución del funcional de intercambio-correlación requiere de realizar integración numérica. Esto se hace con un mallado entorno a la molécula. Existen diversos esquemas para colocar los puntos en el mallado, y para seleccionar cuantos puntos poner, estos puede cambiar de un software a otro, e incluso entre diferentes versiones de un mismo software.\n",
    "```"
   ]
  },
  {
   "cell_type": "markdown",
   "metadata": {},
   "source": [
    "**Importe PySCF**"
   ]
  },
  {
   "cell_type": "markdown",
   "metadata": {},
   "source": [
    "```{warning}\n",
    "Si está utilizando Google Colab o la ejecución en línea, debe de ejecutar al inicio el siguiente código\n",
    "~~~\n",
    "!pip install pyscf\n",
    "~~~\n",
    "```"
   ]
  },
  {
   "cell_type": "code",
   "execution_count": 1,
   "metadata": {},
   "outputs": [],
   "source": [
    "#Importe PySCF"
   ]
  },
  {
   "cell_type": "code",
   "execution_count": 2,
   "metadata": {
    "tags": [
     "hide-cell"
    ]
   },
   "outputs": [],
   "source": [
    "# Descomentar estas líneas si está en modo online\n",
    "\n",
    "#!pip install pyscf\n",
    "\n",
    "import pyscf\n",
    "from pyscf import dft"
   ]
  },
  {
   "cell_type": "markdown",
   "metadata": {},
   "source": [
    "Para ejemplificar el uso de estos funcionales, declare la molécula de agua.\n",
    "\n",
    "```\n",
    "h2o = pyscf.gto.Mole(atom=\"\"\"\n",
    "    O    0.0000    0.0000    0.1173\n",
    "    H    0.0000    0.7572   -0.4692\n",
    "    H    0.0000   -0.7572   -0.4692 \n",
    "\"\"\",basis=\"6-311G\")\n",
    "h2o = h2o.build()\n",
    "```"
   ]
  },
  {
   "cell_type": "code",
   "execution_count": 3,
   "metadata": {},
   "outputs": [],
   "source": [
    "# h2o"
   ]
  },
  {
   "cell_type": "code",
   "execution_count": 4,
   "metadata": {
    "tags": [
     "hide-cell"
    ]
   },
   "outputs": [],
   "source": [
    "h2o = pyscf.gto.Mole(atom=\"\"\"\n",
    "    O    0.0000    0.0000    0.1173\n",
    "    H    0.0000    0.7572   -0.4692\n",
    "    H    0.0000   -0.7572   -0.4692 \n",
    "\"\"\",basis=\"6-311G\")\n",
    "h2o = h2o.build()"
   ]
  },
  {
   "cell_type": "markdown",
   "metadata": {},
   "source": [
    "## Aproximación Local de la Densidad (LDA)\n",
    "\n",
    "Fue una de las primeras aproximaciones y ya ha sido superada. En este caso, el intercambio se calcula mediante\n",
    "\n",
    "$$\n",
    "E_x^{LDA} = -\\frac{3}{4} \\left( \\frac{3}{\\pi} \\right)^{1/3} \\int \\rho^{4/3} (r) dr \n",
    "$$\n",
    "\n",
    "y la correlación se calcula mediante el funcional de Vosko, Wilk y Nusair\n",
    "\n",
    "$$\n",
    "E_c^{LDA} = \\int \\varepsilon_c^{VWN} dr\n",
    "$$\n",
    "\n",
    "Haga un cálculo de energía con LDA y la base 6-311G con la siguiente instrucción\n",
    "```\n",
    "rks = dft.RKS(h2o)\n",
    "rks.xc = \"LDA,VWN\"\n",
    "rks.kernel()\n",
    "```"
   ]
  },
  {
   "cell_type": "code",
   "execution_count": 5,
   "metadata": {},
   "outputs": [],
   "source": [
    "# LDA"
   ]
  },
  {
   "cell_type": "code",
   "execution_count": 6,
   "metadata": {
    "tags": [
     "hide-cell"
    ]
   },
   "outputs": [
    {
     "name": "stdout",
     "output_type": "stream",
     "text": [
      "converged SCF energy = -75.1870745487913\n"
     ]
    },
    {
     "data": {
      "text/plain": [
       "-75.18707454879126"
      ]
     },
     "execution_count": 6,
     "metadata": {},
     "output_type": "execute_result"
    }
   ],
   "source": [
    "rks = dft.RKS(h2o)\n",
    "rks.xc = \"LDA\"\n",
    "rks.kernel()"
   ]
  },
  {
   "cell_type": "markdown",
   "metadata": {},
   "source": [
    "## Aproximación de Gradientes Generalizados (GGA)\n",
    "\n",
    "Esto calcula la energía con base en la densidad electrónica y su gradiente\n",
    "\n",
    "$$\n",
    "E_{xc}^{GGA} = -\\int \\varepsilon_{xc}^{GGA} (\\rho,\\nabla \\rho) dr\n",
    "$$\n",
    "\n",
    "Para ello separa los funcionales en intercambio y correlación.\n",
    "\n",
    "$$\n",
    "\\varepsilon_{xc}^{GGA} = \\varepsilon_{x}^{GGA} + \\varepsilon_{c}^{GGA}\n",
    "$$\n",
    "\n",
    "Algunos funcionales de intercambio GGA son\n",
    "- PWx86: Perdew-Wang 1986\n",
    "- B88: Becke 1988\n",
    "- PWx91: Perdew-Wang 1991\n",
    "- PBE: Perdew-Burke-Ernzerhof\n",
    "    \n",
    "Algunos funcionales de correlación GGA son\n",
    "- LYP: Lee-Yang-Parr\n",
    "- Pc86: Perdew 1986\n",
    "- PWc91: Perdew-Wang 1991\n",
    "- PBE: Perdew-Burke-Ernzerhof\n",
    "    \n",
    "La combinación de estos funcionales genera los funcionales GGA. **Haga un cálculo de energía con PBE y la base 6-311G con la siguiente instrucción**\n",
    "```\n",
    "rks = pyscf.dft.RKS(h2o)\n",
    "rks.xc = \"LDA\"\n",
    "rks.kernel()\n",
    "```"
   ]
  },
  {
   "cell_type": "code",
   "execution_count": 7,
   "metadata": {},
   "outputs": [],
   "source": [
    "# PBE"
   ]
  },
  {
   "cell_type": "code",
   "execution_count": 8,
   "metadata": {
    "tags": [
     "hide-cell"
    ]
   },
   "outputs": [
    {
     "name": "stdout",
     "output_type": "stream",
     "text": [
      "converged SCF energy = -76.3277295533262\n"
     ]
    },
    {
     "data": {
      "text/plain": [
       "-76.32772955332622"
      ]
     },
     "execution_count": 8,
     "metadata": {},
     "output_type": "execute_result"
    }
   ],
   "source": [
    "rks = dft.RKS(h2o)\n",
    "rks.xc = \"PBE\"\n",
    "rks.kernel()"
   ]
  },
  {
   "cell_type": "markdown",
   "metadata": {},
   "source": [
    "## Aproximación meta-GGA\n",
    "\n",
    "Los funcionales meta-GGA usan la densidad electrónica, el gradiente de la densidad electrónica, y el laplaciano de la densidad electrónica.\n",
    "\n",
    "$$\n",
    "E_{xc}^{meta-GGA} = -\\int \\varepsilon_{xc}^{meta-GGA} (\\rho,\\nabla \\rho,\\nabla^2 \\rho) dr\n",
    "$$\n",
    "\n",
    "Algunos ejemplos son:\n",
    "- B95: Becke 1995\n",
    "- TPSS: Tau-Perdew-Staroverov-Scuseria\n",
    "\n",
    "**Haga un cálculo de energía con TPSS y la base 6-311G con la siguiente instrucción**\n",
    "```\n",
    "rks = pyscf.dft.RKS(h2o)\n",
    "rks.xc = \"TPSS\"\n",
    "rks.kernel()\n",
    "```"
   ]
  },
  {
   "cell_type": "code",
   "execution_count": 9,
   "metadata": {},
   "outputs": [],
   "source": [
    "# TPSS"
   ]
  },
  {
   "cell_type": "code",
   "execution_count": 10,
   "metadata": {
    "tags": [
     "hide-cell"
    ]
   },
   "outputs": [
    {
     "name": "stdout",
     "output_type": "stream",
     "text": [
      "converged SCF energy = -76.4172180433964\n"
     ]
    },
    {
     "data": {
      "text/plain": [
       "-76.41721804339645"
      ]
     },
     "execution_count": 10,
     "metadata": {},
     "output_type": "execute_result"
    }
   ],
   "source": [
    "rks = dft.RKS(h2o)\n",
    "rks.xc = \"TPSS\"\n",
    "rks.kernel()"
   ]
  },
  {
   "cell_type": "markdown",
   "metadata": {},
   "source": [
    "## Funcionales Híbridos\n",
    "\n",
    "Mezclan un funcional de intercambio con el `intercambio de Hartree-Fock` en alguna proporción.\n",
    "\n",
    "Algunos ejemplos de estos funcionales son:\n",
    "\n",
    "- B3LYP\n",
    "- PBE0\n",
    "- M05-2X y M06-2X\n",
    "- TPSSh\n",
    "\n",
    "**Haga un cálculo de energía con M06-2X y la base 6-311G con la siguiente instrucción**\n",
    "```\n",
    "rks = pyscf.dft.RKS(h2o)\n",
    "rks.xc = \"M062X\"\n",
    "rks.kernel()\n",
    "```"
   ]
  },
  {
   "cell_type": "code",
   "execution_count": 11,
   "metadata": {},
   "outputs": [],
   "source": [
    "#M062X"
   ]
  },
  {
   "cell_type": "code",
   "execution_count": 12,
   "metadata": {
    "tags": [
     "hide-cell"
    ]
   },
   "outputs": [
    {
     "name": "stdout",
     "output_type": "stream",
     "text": [
      "converged SCF energy = -76.3784002868614\n"
     ]
    },
    {
     "data": {
      "text/plain": [
       "-76.37840028686145"
      ]
     },
     "execution_count": 12,
     "metadata": {},
     "output_type": "execute_result"
    }
   ],
   "source": [
    "rks = dft.RKS(h2o)\n",
    "rks.xc = \"M062X\"\n",
    "rks.kernel()"
   ]
  },
  {
   "cell_type": "markdown",
   "metadata": {},
   "source": [
    "## Referencias\n",
    "\n",
    "- P. Hohenberg y W. Kohn, Inhomogeneous Electron Gas, Physical Review 136, B864 (1964).\n",
    "P. W. Atkins, y R. Friedman, Molecular Quantum Mechanics (Oxford University Press, 2005).\n",
    "- D. Rappoport, N. R. M. Crawford, F. Furche, y K. Burke, Which functional should I choose?, (2008).\n",
    "- W. Koch y M.C. Holthausen, A Chemist’s Guide to Density Functional Theory, (2001).\n",
    "- K. Burke y L.O. Wagner, DFT in a nutshell, Int. J. Quantum Chem. 113, 96 (2013).\n",
    "- K. Burke, Perspective on density functional theory, J. Chem. Phys. 136, (2012)."
   ]
  }
 ],
 "metadata": {
  "celltoolbar": "Tags",
  "kernelspec": {
   "display_name": "Python 3 (ipykernel)",
   "language": "python",
   "name": "python3"
  },
  "language_info": {
   "codemirror_mode": {
    "name": "ipython",
    "version": 3
   },
   "file_extension": ".py",
   "mimetype": "text/x-python",
   "name": "python",
   "nbconvert_exporter": "python",
   "pygments_lexer": "ipython3",
   "version": "3.10.4"
  }
 },
 "nbformat": 4,
 "nbformat_minor": 4
}