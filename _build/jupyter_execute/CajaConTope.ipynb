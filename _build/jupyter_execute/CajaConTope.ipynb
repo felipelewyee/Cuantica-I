{
 "cells": [
  {
   "cell_type": "markdown",
   "metadata": {},
   "source": [
    "# Caja de potencial con un tope en el medio"
   ]
  },
  {
   "cell_type": "markdown",
   "metadata": {},
   "source": [
    "\n",
    "\n",
    "Las cajas de potencial unidimensionales se usan para enseñar y aprender cuántica porque, a pesar de que no existen, son fáciles de resolver y ayudan a irle agarrando la onda al asunto. Esta caja de potencial tiene un \"tope\" en el centro. Es decir, el potencial vale infinito fuera de la caja, vale cero en las zonas de la izquierda y la derecha (de $-L$ a $-a$ y de $+a$ a $+L$) y vale $U$ en el centro (de $-a$ a $+a$), como se ve en la figura.\n",
    "<img src=\"Caja.png\" width=\"500\">\n",
    "La función de onda se obtiene resolviendo la ecuación de Schrödinger\n",
    "$$-\\frac{\\hbar^2}{2m}\\frac{d^2}{dx^2}\\Psi(x)+V(x)\\Psi(x)=E\\Psi(x)$$\n",
    "con la condición a la frontera de que la solución, $Psi(x)$, debe ser continua y de derivada continua. \n",
    "\n",
    "## La condición de continuidad para este problema lleva a la siguiente ecuación\n",
    "La caja va de $-L$ a $+L$, el tope de $-a$ a $+a$.\n",
    "\n",
    "La altura del tope es $U$\n",
    "\n",
    "La solución de la ecuación de Schrödinger lleva a las siguientes ecuaciones, en las que se busca el valor de la energía que las resuelve; la primera es para el caso de una solución par\n",
    "\n",
    "$$\\sqrt{{E\\over U-E}}=\\tanh{\\bigg[\\sqrt{{2m(U-E)\\over \\hbar^2}}a\\bigg]} \\tan{\\bigg[\\sqrt{{2mE\\over \\hbar^2}}(a-L)\\bigg]};$$\n",
    "\n",
    "y la segunda es para el caso de una solución impar,\n",
    "\n",
    "$$\\sqrt{{E\\over U-E}}={ \\tan{\\bigg[\\sqrt{{2mE\\over \\hbar^2}}(a-L)\\bigg]} \\over \\tanh{\\bigg[\\sqrt{{2m(U-E)\\over \\hbar^2}}a\\bigg]}}.$$\n",
    "\n",
    "La solución de estas ecuaciones trascendentales se va a buscar con el método de Newton-Raphson, en el que se busca el valor de la variable, $x_s$, que satisface que una función sea igual a cero:\n",
    "\n",
    "$$f(x_{sol})=0,$$\n",
    " \n",
    "y que está dada aproximadamente por \n",
    "\n",
    "$$x_s \\approx x_0 - {f(x_0)\\over f^\\prime(x_0)}$$\n",
    "\n"
   ]
  },
  {
   "cell_type": "code",
   "execution_count": 7,
   "metadata": {},
   "outputs": [
    {
     "name": "stdout",
     "output_type": "stream",
     "text": [
      "Energias de la caja infinita similar [2.4674011002723395, 9.869604401089358, 22.206609902451056, 39.47841760435743, 61.68502750680849, 88.82643960980423, 0.0, 0.0, 0.0, 0.0, 0.0, 0.0, 0.0, 0.0, 0.0, 0.0, 0.0, 0.0, 0.0, 0.0]\n",
      "Energia:  52.526800596529036\n",
      "2.5313470548085157\n",
      "0.9999999999999999 0.9999999999999999\n",
      "9.158226910279453 61.68502750680849\n"
     ]
    },
    {
     "data": {
      "image/png": "[encoded data removed]",
      "text/plain": [
       "<Figure size 432x288 with 2 Axes>"
      ]
     },
     "metadata": {
      "filenames": {
       "image/png": "/home/jfhlewyee/Cuantica-I/_build/jupyter_execute/CajaConTope_2_1.png"
      },
      "needs_background": "light"
     },
     "output_type": "display_data"
    }
   ],
   "source": [
    "import numpy as np\n",
    "from matplotlib import pyplot as plt\n",
    "from scipy.integrate import simps\n",
    "# fijamos el valor de los parámetros, masa, L, a y U\n",
    "me = 0.5\n",
    "hbar = 1.\n",
    "L=3.\n",
    "a=1.\n",
    "U=60.\n",
    "coef = np.sqrt(2.*me/hbar**2)\n",
    "npo = 1000\n",
    "\n",
    "#Definimos la función par que queremos optimizar\n",
    "def paraNR(E):\n",
    "    global arg1, arg2, coef, U\n",
    "    f = np.tanh(arg1)*np.tan(arg2)+np.sqrt(E/(U-E))\n",
    "    fp = ((np.tanh(arg1))*coef*(L-a)*.5/(np.sqrt(E)*((np.cos(arg2))**2)) - \n",
    "         np.tan(arg2)*(1.-(np.tanh(arg1))**2)*coef*a*.5/np.sqrt(U-E) - \n",
    "         .5*U*np.sqrt((U-E)/E)/(U-E)**2)\n",
    "    return f, fp, E-f/fp\n",
    "\n",
    "#Definimos la función impar que queremos optimizar\n",
    "def imparaNR(E):\n",
    "    global arg1, arg2, coef, U\n",
    "    f = np.tan(arg2)/np.tanh(arg1)+np.sqrt(E/(U-E))   \n",
    "    fp = ((np.tanh(arg1))*coef*(L-a)*.5/(np.sqrt(E)*((np.cos(arg2))**2)) - \n",
    "         np.tan(arg2)*(1.-(np.tanh(arg1))**2)*coef*a*.5/np.sqrt(U-E) - \n",
    "         .5*U*np.sqrt((U-E)/E)/(U-E)**2)\n",
    "    return f, fp, E-f/fp\n",
    "\n",
    "# Buscamos soluciones para E<U\n",
    "#empezamos con el estado basal de la caja sin tope\n",
    "#E0 = 4.*(hbar*np.pi)**2*(1./(2.*me*(L-a)**2)+1./(2.*me*(2*L)**2))/2.\n",
    "energiasinf = (hbar*np.pi)**2*(1./(2.*me*(L-a)**2))\n",
    "nn = 0\n",
    "E_inf = [0.]*(20)\n",
    "while energiasinf <= 1.5*U:   \n",
    "    E_inf[nn]= energiasinf\n",
    "    energiasinf = (nn+2)**2. * energiasinf / (nn+1)**2.\n",
    "    nn = nn + 1\n",
    "print (\"Energias de la caja infinita similar\", E_inf)\n",
    "\n",
    "# E0 es la primera aproximación a la energía\n",
    "E0 = E_inf[0]*.5\n",
    "#E0 = .5\n",
    "#E = 4,8,20\n",
    "E = 54.\n",
    "for i in range (50):\n",
    "    arg1 = ((2.*me*(U-E)/hbar**2)**(.5))*a\n",
    "    arg2 = ((2.*me*(E)/hbar**2)**(.5))*(L-a)\n",
    "    f, fp, En = paraNR(E)\n",
    "    #print f, fp, E, En, np.abs(E-En)\n",
    "    if np.abs(E-En) <= .0001:\n",
    "        E = En\n",
    "        conv = 1\n",
    "        break\n",
    "    else:\n",
    "        E=.8*E+ .2*En\n",
    "        conv = 0\n",
    "if conv == 0 : \n",
    "    print (\"No obtuve solucion en 50 vueltas a NR, me detengo!\")\n",
    "    \n",
    "print (\"Energia: \", E)\n",
    "x_set=np.linspace(-L,L,npo)\n",
    "Psi = [0]*npo\n",
    "Psi2 = [0]*npo\n",
    "k1=np.sqrt(2.*me*E/hbar**2)\n",
    "k2=np.sqrt(2.*me*(U-E)/hbar**2)\n",
    "A=1.\n",
    "C=A*(-np.sin(k1*a)+np.tan(k1*L)*np.cos(k1*a))/(np.exp(k2*a)+np.exp(-k2*a))\n",
    "\n",
    "for i in range (npo):\n",
    "    if x_set[i] <= -a:\n",
    "        Psi[i]=A*(np.sin(k1*x_set[i])+np.tan(k1*L)*np.cos(k1*x_set[i]))\n",
    "    if x_set[i] > -a and x_set[i] < a:\n",
    "        #PP[i]\n",
    "        Psi[i]=C*(np.exp(k2*x_set[i])+np.exp(-k2*x_set[i]))\n",
    "    if x_set[i] >= a:\n",
    "        Psi[i]=A*(-np.sin(k1*x_set[i])+np.tan(k1*L)*np.cos(k1*x_set[i]))\n",
    "    Psi2[i] = Psi[i]*Psi[i]\n",
    "I = simps(Psi2, x_set)\n",
    "print (I)\n",
    "I1 = simps(Psi2/I, x_set)\n",
    "#PP = simps(Psi2/I, x_set,-1.,1.)\n",
    "PP = simps(Psi2/I, x_set)\n",
    "print (I1, PP)\n",
    "fig, axs = plt.subplots(2)\n",
    "#fig.suptitle('Vertically stacked subplots')\n",
    "axs[0].plot(x_set,Psi2/I)\n",
    "\n",
    "#lines = plt.plot(x1, y1, x2, y2)\n",
    "\n",
    "lines = plt.plot([-3.,-3.,-1,-1.,1.,1.,3.,3.],[1.6*U,0.,0.,1.6*U,1.6*U,0.,0.,1.6*U])\n",
    "lines2 = plt.plot([-3.,3.],[E,E])\n",
    "\n",
    "# use keyword args\n",
    "dif= np.min(np.abs(E-E_inf))\n",
    "index_min = np.argmin(np.abs(E-E_inf))\n",
    "print (dif,E_inf[index_min])\n",
    "lines3 = plt.plot([-3.,3.],[E_inf[index_min],E_inf[index_min]])\n",
    "lines4 = plt.plot([-1.,1.],[U,U])\n",
    "plt.setp(lines, color='r', linewidth=2.0)\n",
    "plt.setp(lines2, color='b', linewidth=2.0)\n",
    "plt.setp(lines3, color='r', linewidth=2.0)\n",
    "plt.setp(lines4, color='b', linewidth=2.0)\n",
    "plt.ylim(-.1*U,1.5*U)\n",
    "axs[1].plot(x_set,Psi2/I)\n",
    "#plt.plot(x_set,Psi2/I)\n",
    "plt.show()\n"
   ]
  },
  {
   "cell_type": "markdown",
   "metadata": {},
   "source": [
    "## Autor"
   ]
  },
  {
   "cell_type": "markdown",
   "metadata": {},
   "source": [
    "Este notebook es una contribución del Dr. Carlos Amador Bedolla"
   ]
  }
 ],
 "metadata": {
  "kernelspec": {
   "display_name": "Python 3",
   "language": "python",
   "name": "python3"
  },
  "language_info": {
   "codemirror_mode": {
    "name": "ipython",
    "version": 3
   },
   "file_extension": ".py",
   "mimetype": "text/x-python",
   "name": "python",
   "nbconvert_exporter": "python",
   "pygments_lexer": "ipython3",
   "version": "3.7.7"
  }
 },
 "nbformat": 4,
 "nbformat_minor": 1
}