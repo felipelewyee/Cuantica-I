{
 "cells": [
  {
   "cell_type": "markdown",
   "metadata": {},
   "source": [
    "# Software"
   ]
  },
  {
   "cell_type": "markdown",
   "metadata": {},
   "source": [
    "Los `software de estructura electrónica` se dedican a calcular diversas propiedades de las moléculas utilizando la teoría que se ve en `química cuántica`. En general, esto nos sirve para `predecir la reactividad química`, desde poder predecir si una reacción procederá o no, hasta cosas más avanzadas como cinéticas de reacción y pKas o potenciales redox. En este notebook estaremos usando el software `PySCF`, sin embargo, existe una gran cantidad de software, desde los libres y gratuitos hasta los privados y de pago.\n",
    "\n",
    "```{note}\n",
    "Algunos programas de estructura electrónica son:\n",
    "- Gaussian (https://gaussian.com)\n",
    "- PySCF (https://pyscf.org)\n",
    "- Psi4 (http://www.psicode.org)\n",
    "- NWChem (http://www.nwchem-sw.org)\n",
    "- QChem (http://www.q-chem.com)\n",
    "- TeraChem (http://www.petachem.com)\n",
    "- deMon2k (http://www.demon-software.com)\n",
    "- Orca (https://orcaforum.cec.mpg.de)\n",
    "- Molcas (http://www.molcas.org)\n",
    "- ADF (https://www.scm.com)\n",
    "- GAMESS (http://www.msg.chem.iastate.edu/gamess)\n",
    "- Quantum Espresso (https://www.quantum-espresso.org)\n",
    "```"
   ]
  },
  {
   "cell_type": "markdown",
   "metadata": {},
   "source": [
    "## Aprendiendo a usar PySCF"
   ]
  },
  {
   "cell_type": "markdown",
   "metadata": {},
   "source": [
    "```{warning}\n",
    "Si está utilizando Google Colab o la ejecución en línea, debe de ejecutar al inicio el siguiente código\n",
    "~~~\n",
    "!pip install pyscf\n",
    "!pip install geomeTRIC\n",
    "~~~\n",
    "```"
   ]
  },
  {
   "cell_type": "markdown",
   "metadata": {},
   "source": [
    "Para usar PySCF, puede importarlo como si de una librería se tratase, es decir\n",
    "\n",
    "~~~python\n",
    "import pyscf\n",
    "~~~\n",
    "**Importe PySCF en la siguiente celda**"
   ]
  },
  {
   "cell_type": "code",
   "execution_count": 1,
   "metadata": {},
   "outputs": [],
   "source": [
    "# importe pyscf"
   ]
  },
  {
   "cell_type": "code",
   "execution_count": 2,
   "metadata": {
    "tags": [
     "hide-cell"
    ]
   },
   "outputs": [],
   "source": [
    "# Descomentar estas líneas si está en modo online\n",
    "\n",
    "#!pip install pyscf\n",
    "#!pip install geomeTRIC\n",
    "\n",
    "import pyscf"
   ]
  },
  {
   "cell_type": "markdown",
   "metadata": {},
   "source": [
    "El siguiente paso es **declarar las coordenadas de los átomos que forman la molécula**. Para ello se pueden usar visualizadores como `Avogadro` o `IQmol`. También es posible obtener valores experimentales o calculados de https://cccbdb.nist.gov/ . En este caso utilizaremos los resultados experimentales de benceno.\n",
    "\n",
    "Use las siguientes líneas para declarar la geometría y seleccionar una base\n",
    "```{margin}\n",
    "Se asume que la molécula es neutra. Si desea editar la carga y/o el espín (note que esto es 2S, no la multiplicidad, 2S+1) puede usar instrucciones como\n",
    "\n",
    "~~~python\n",
    "mol.charge = 1\n",
    "mol.spin = 1\n",
    "~~~\n",
    "\n",
    "Recuerde volver a construir la molécula después de cualquier modificación.\n",
    "```\n",
    "\n",
    "```\n",
    "benzene = pyscf.gto.Mole(atom = \"\"\"\n",
    "    C  0.0000  1.3970  0.0000\n",
    "    C  1.2098  0.6985  0.0000\n",
    "    C  1.2098 -0.6985  0.0000\n",
    "    C  0.0000 -1.3970  0.0000\n",
    "    C -1.2098 -0.6985  0.0000\n",
    "    C -1.2098  0.6985  0.0000\n",
    "    H  0.0000  2.4810  0.0000\n",
    "    H  2.1486  1.2405  0.0000\n",
    "    H  2.1486 -1.2405  0.0000\n",
    "    H  0.0000 -2.4810  0.0000\n",
    "    H -2.1486 -1.2405  0.0000\n",
    "    H -2.1486  1.2405  0.0000\n",
    "    \"\"\",basis = \"6-31G\")\n",
    "benzene = benzene.build()\n",
    "```\n",
    "\n",
    "```{margin}\n",
    "En este caso estamos llamando `benzene` a la molécula, usted puede usar cualquier otro nombre que prefiera.\n",
    "```"
   ]
  },
  {
   "cell_type": "code",
   "execution_count": 3,
   "metadata": {},
   "outputs": [],
   "source": [
    "#Geometría"
   ]
  },
  {
   "cell_type": "code",
   "execution_count": 4,
   "metadata": {
    "tags": [
     "hide-cell"
    ]
   },
   "outputs": [],
   "source": [
    "benzene = pyscf.gto.Mole(atom = \"\"\"\n",
    "    C  0.0000  1.3970  0.0000\n",
    "    C  1.2098  0.6985  0.0000\n",
    "    C  1.2098 -0.6985  0.0000\n",
    "    C  0.0000 -1.3970  0.0000\n",
    "    C -1.2098 -0.6985  0.0000\n",
    "    C -1.2098  0.6985  0.0000\n",
    "    H  0.0000  2.4810  0.0000\n",
    "    H  2.1486  1.2405  0.0000\n",
    "    H  2.1486 -1.2405  0.0000\n",
    "    H  0.0000 -2.4810  0.0000\n",
    "    H -2.1486 -1.2405  0.0000\n",
    "    H -2.1486  1.2405  0.0000\n",
    "    \"\"\",basis = \"6-31G\")\n",
    "benzene = benzene.build()"
   ]
  },
  {
   "cell_type": "markdown",
   "metadata": {},
   "source": [
    "En la mayoría de los software es común (pero no obligatorio) que antes de mandar el cálculo de una molécula se asigne una cantidad de memoria RAM, por ejemplo 2000 MB. \n",
    "\n",
    "En PySCF esto se hace mediante la instrucción\n",
    "~~~python\n",
    "mol.max_memory = 2000\n",
    "~~~\n",
    "\n",
    "Cada vez que modifique algún parámetro de la molécula, debe volver a construirla antes de usarla.\n",
    "\n",
    "**Asigne memoria a su cálculo**\n",
    "```{margin}\n",
    "Note que `mol` es el nombre que le asignó a la molécula. En este ejemplo usamos el nombre de benzene.\n",
    "```"
   ]
  },
  {
   "cell_type": "code",
   "execution_count": 5,
   "metadata": {},
   "outputs": [],
   "source": [
    "# Establezca memoria (y reconstruya la molécula)"
   ]
  },
  {
   "cell_type": "code",
   "execution_count": 6,
   "metadata": {
    "tags": [
     "hide-cell"
    ]
   },
   "outputs": [],
   "source": [
    "# Establezca memoria (en MB) (y reconstruya la molécula)\n",
    "benzene.max_memory = 2000\n",
    "benzene = benzene.build()"
   ]
  },
  {
   "cell_type": "markdown",
   "metadata": {},
   "source": [
    "```{note}\n",
    "Los software usan la RAM asignada para guardar vectores y matrices como lo ha hecho en las prácticas anteriores. Si la memoria es suficiente, el programa guardará todo y el cálculo será más rápido, si no la hay, el cálculo será más lento. `A más memoria los cálculos tienden a ser igual o más rápidos`\n",
    "```\n",
    "\n",
    "```{warning}\n",
    "La cantidad de memoria que puede asignar al cálculo depende de la cantidad de RAM que tenga su computadora. Recomendamos asignar menos memoria del total disponible ya que la memoria se reparte con los demás programas de su computadora. \n",
    "```"
   ]
  },
  {
   "cell_type": "markdown",
   "metadata": {},
   "source": [
    "Para realizar un cálculo de `energía` de una molécula `con la geometría y la base` especificada arriba, es necesario especificar un `método`. Por ejemplo, para hacer Hartree-Fock, escribiremos\n",
    "~~~python\n",
    "from pyscf improt scf\n",
    "rhf = scf.RHF(mol)\n",
    "E = rhf.kernel()\n",
    "~~~\n",
    "hemos de cambiar mol por el nombre que le asignamos a nuestra molécula.\n",
    "```{margin}\n",
    "`SCF` significa Self-Consistent Field, `RHF` Significa Restricted Hartree-Fock. En moléculas de capa abierta se debe de usar `UHF` Unrestricted Hartree-Fock o `ROHF` Restricted-Open Hartree-Fock.\n",
    "```\n",
    "\n",
    "**Realice un cálculo con el método HF y la base 6-31G**\n",
    "```{margin}\n",
    "En el caso de este ejemplo, la molécula se llama benzene, así que en vez de escribir mol, escribimos benzene.\n",
    "```"
   ]
  },
  {
   "cell_type": "code",
   "execution_count": 7,
   "metadata": {},
   "outputs": [],
   "source": [
    "# Benceno HF"
   ]
  },
  {
   "cell_type": "code",
   "execution_count": 8,
   "metadata": {
    "tags": [
     "hide-cell"
    ]
   },
   "outputs": [
    {
     "name": "stdout",
     "output_type": "stream",
     "text": [
      "converged SCF energy = -230.623508002015\n"
     ]
    }
   ],
   "source": [
    "# Benceno HF\n",
    "from pyscf import scf\n",
    "rhf = scf.RHF(benzene)\n",
    "E = rhf.kernel()"
   ]
  },
  {
   "cell_type": "markdown",
   "metadata": {},
   "source": [
    "**Calcule la energía de benceno con MP2 y 6-31G**\n",
    "\n",
    "~~~python\n",
    "from pyscf import mp\n",
    "mp2 = mp.MP2(mol)\n",
    "Ecorr = mp2.kernel()\n",
    "~~~\n",
    "```{margin}\n",
    "`MP` significa Möller-Plesset y `MP2` indica que es de Segundo orden.\n",
    "```\n",
    "```{margin}\n",
    "Note que la última línea guarda en Ecorr solo la energía de correlación, no la energía de Hartree-Fock.\n",
    "```"
   ]
  },
  {
   "cell_type": "code",
   "execution_count": 9,
   "metadata": {},
   "outputs": [],
   "source": [
    "# Benceno MP2/6-31G"
   ]
  },
  {
   "cell_type": "code",
   "execution_count": 10,
   "metadata": {
    "tags": [
     "hide-cell"
    ]
   },
   "outputs": [
    {
     "name": "stdout",
     "output_type": "stream",
     "text": [
      "converged SCF energy = -230.623508002015\n"
     ]
    },
    {
     "name": "stdout",
     "output_type": "stream",
     "text": [
      "E(MP2) = -231.147363985908  E_corr = -0.523855983893742\n"
     ]
    }
   ],
   "source": [
    "# Benceno MP2/6-31G\n",
    "from pyscf import mp\n",
    "mp2 = mp.MP2(benzene)\n",
    "Ecorr = mp2.kernel()"
   ]
  },
  {
   "cell_type": "markdown",
   "metadata": {},
   "source": [
    "**Calcule la energía de benceno con el funcional M062X y la base 6-31G**\n",
    "\n",
    "Use el código\n",
    "~~~python\n",
    "from pyscf import dft\n",
    "rks = dft.RKS(mol)\n",
    "rks.xc = 'M062X'\n",
    "E = rks.kernel()\n",
    "~~~\n",
    "```{margin}\n",
    "`DFT` significa Density Functional Theory, y `RKS` significa Restricted Kohn-Sham. En moléculas de capa abierta se debe de usar `UKS` Unrestriced Kohn-Sham. \n",
    "```\n",
    "\n",
    "```{margin}\n",
    "La línea\n",
    "~~~python\n",
    "rks.xc = 'M062X'\n",
    "~~~\n",
    "define el funcional a usar.\n",
    "```"
   ]
  },
  {
   "cell_type": "code",
   "execution_count": 11,
   "metadata": {},
   "outputs": [],
   "source": [
    "# Benceno M062X/6-31G"
   ]
  },
  {
   "cell_type": "code",
   "execution_count": 12,
   "metadata": {
    "tags": [
     "hide-cell"
    ]
   },
   "outputs": [
    {
     "name": "stdout",
     "output_type": "stream",
     "text": [
      "converged SCF energy = -232.091626867516\n"
     ]
    }
   ],
   "source": [
    "# Benceno M062X/6-31G\n",
    "from pyscf import dft\n",
    "rks = dft.RKS(benzene)\n",
    "rks.xc = 'M062X'\n",
    "E = rks.kernel()"
   ]
  },
  {
   "cell_type": "markdown",
   "metadata": {},
   "source": [
    "Usualmente la geometría especificada no es necesariamente la geometría real. Es posible pedir al software que mueva los átomos hasta encontrar las coordenadas que representen un mínimo de energía con el método y base usados. Esto se llama `optimización de geometrías`, para lo cual hay que importar el optimizador y pasar la instancia del método. Por ejemplo, para optimizar con M062X, utilizaremos el rks que definimos antes\n",
    "```\n",
    "from pyscf.geomopt.geometric_solver import optimize\n",
    "mol = geometric_opt(rks)\n",
    "```\n",
    "\n",
    "**Optimice la geometría de benceno con el método M062X y base 6-31G e imprima su energía**.\n",
    "\n",
    "```{warning}\n",
    "Este cálculo puede tardar entre segundos y unos minutos dependiendo del procesador de cada computadora.\n",
    "```"
   ]
  },
  {
   "cell_type": "code",
   "execution_count": 13,
   "metadata": {},
   "outputs": [],
   "source": [
    "# Optimizacion de Geometría"
   ]
  },
  {
   "cell_type": "code",
   "execution_count": 14,
   "metadata": {
    "tags": [
     "hide-cell",
     "hide-ouput"
    ]
   },
   "outputs": [
    {
     "ename": "ModuleNotFoundError",
     "evalue": "No module named 'geometric'",
     "output_type": "error",
     "traceback": [
      "\u001b[0;31m---------------------------------------------------------------------------\u001b[0m",
      "\u001b[0;31mModuleNotFoundError\u001b[0m                       Traceback (most recent call last)",
      "Input \u001b[0;32mIn [14]\u001b[0m, in \u001b[0;36m<cell line: 1>\u001b[0;34m()\u001b[0m\n\u001b[0;32m----> 1\u001b[0m \u001b[38;5;28;01mfrom\u001b[39;00m \u001b[38;5;21;01mpyscf\u001b[39;00m\u001b[38;5;21;01m.\u001b[39;00m\u001b[38;5;21;01mgeomopt\u001b[39;00m\u001b[38;5;21;01m.\u001b[39;00m\u001b[38;5;21;01mgeometric_solver\u001b[39;00m \u001b[38;5;28;01mimport\u001b[39;00m optimize\n\u001b[1;32m      2\u001b[0m mol \u001b[38;5;241m=\u001b[39m optimize(rhf)\n",
      "File \u001b[0;32m~/anaconda3/envs/jb/lib/python3.9/site-packages/pyscf/geomopt/geometric_solver.py:23\u001b[0m, in \u001b[0;36m<module>\u001b[0;34m\u001b[0m\n\u001b[1;32m     21\u001b[0m \u001b[38;5;28;01mimport\u001b[39;00m \u001b[38;5;21;01mtempfile\u001b[39;00m\n\u001b[1;32m     22\u001b[0m \u001b[38;5;28;01mimport\u001b[39;00m \u001b[38;5;21;01mnumpy\u001b[39;00m\n\u001b[0;32m---> 23\u001b[0m \u001b[38;5;28;01mimport\u001b[39;00m \u001b[38;5;21;01mgeometric\u001b[39;00m\n\u001b[1;32m     24\u001b[0m \u001b[38;5;28;01mimport\u001b[39;00m \u001b[38;5;21;01mgeometric\u001b[39;00m\u001b[38;5;21;01m.\u001b[39;00m\u001b[38;5;21;01mmolecule\u001b[39;00m\n\u001b[1;32m     25\u001b[0m \u001b[38;5;66;03m#from geometric import molecule\u001b[39;00m\n",
      "\u001b[0;31mModuleNotFoundError\u001b[0m: No module named 'geometric'"
     ]
    }
   ],
   "source": [
    "from pyscf.geomopt.geometric_solver import optimize\n",
    "mol = optimize(rhf)"
   ]
  },
  {
   "cell_type": "markdown",
   "metadata": {},
   "source": [
    "## Referencias"
   ]
  },
  {
   "cell_type": "markdown",
   "metadata": {},
   "source": [
    "- Q. Sun, T.C. Berkelbach, N.S. Blunt, G.H. Booth, S. Guo, Z. Li, J. Liu, J.D. McClain, E.R. Sayfutyarova, S. Sharma, S. Wouters, y G.K.-L. Chan, **PySCF: the Python-based simulations of chemistry framework**, Wiley Interdiscip. Rev. Comput. Mol. Sci. 8, e1340 (2018).\n",
    "- Q. Sun, X. Zhang, S. Banerjee, P. Bao, M. Barbry, N.S. Blunt, N.A. Bogdanov, G.H. Booth, J. Chen, Z.-H. Cui, J.J. Eriksen, Y. Gao, S. Guo, J. Hermann, M.R. Hermes, K. Koh, P. Koval, S. Lehtola, Z. Li, J. Liu, N. Mardirossian, J.D. McClain, M. Motta, B. Mussard, H.Q. Pham, A. Pulkin, W. Purwanto, P.J. Robinson, E. Ronca, E.R. Sayfutyarova, M. Scheurer, H.F. Schurkus, J.E.T. Smith, C. Sun, S.-N. Sun, S. Upadhyay, L.K. Wagner, X. Wang, A. White, J.D. Whitfield, M.J. Williamson, S. Wouters, J. Yang, J.M. Yu, T. Zhu, T.C. Berkelbach, S. Sharma, A.Y. Sokolov, y G.K.-L. Chan, **Recent developments in the PySCF program package**, J. Chem. Phys. 153, 024109 (2020).\n",
    "- Q. Sun, **Libcint: An efficient general integral library for Gaussian basis functions**, J. Comput. Chem. 36, 1664 (2015).\n",
    "- https://pyscf.org/quickstart.html"
   ]
  }
 ],
 "metadata": {
  "celltoolbar": "Tags",
  "kernelspec": {
   "display_name": "Python 3 (ipykernel)",
   "language": "python",
   "name": "python3"
  },
  "language_info": {
   "codemirror_mode": {
    "name": "ipython",
    "version": 3
   },
   "file_extension": ".py",
   "mimetype": "text/x-python",
   "name": "python",
   "nbconvert_exporter": "python",
   "pygments_lexer": "ipython3",
   "version": "3.9.12"
  }
 },
 "nbformat": 4,
 "nbformat_minor": 2
}