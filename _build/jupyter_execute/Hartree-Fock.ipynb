{
 "cells": [
  {
   "cell_type": "markdown",
   "metadata": {},
   "source": [
    "# Hartree-Fock-Roothan (HF)"
   ]
  },
  {
   "cell_type": "markdown",
   "metadata": {},
   "source": [
    "Tenemos que resolver:\n",
    "\n",
    "$$\n",
    "\\textbf{F} \\textbf{C} = \\textbf{S}\\textbf{C}\\varepsilon\n",
    "$$"
   ]
  },
  {
   "cell_type": "markdown",
   "metadata": {},
   "source": [
    "- <span style=\"color:green\"> **Paso 1.** Especificar molécula: Coordenadas de los núcleos $\\{R_A\\}$, Carga de los núcleos $\\{Z_A\\}$, Número de electrones $(N)$, y funciones base $\\{\\phi_i\\}$</span>\n",
    "- <span style=\"color:green\"> **Paso 2.** Calcular $S$, $H$, $(ij|kl)$.</span>\n",
    "- <span style=\"color:green\"> **Paso 3.** Proponer una matriz $C$.</span>\n",
    "- <span style=\"color:black\"> **Paso 4.** Calcular $P$, $J$ y $K$.</span>\n",
    "- <span style=\"color:black\"> **Paso 5.** Calcular $F=H+2J-K$</span>\n",
    "- <span style=\"color:black\"> **Paso 6.** Resolver $FC=SC\\varepsilon$</span>\n",
    "- <span style=\"color:black\"> **Paso 7.** $E_{elec} = \\sum_\\mu \\sum_\\nu P_{\\nu \\mu} (H_{\\mu \\nu} + F_{\\mu \\nu})$<span>\n",
    "- <span style=\"color:black\"> **Paso 8.** ¿$E_i=E_{i-1}$?, Sí: acabé. No: volver a paso 4.</span>\n",
    "- <span style=\"color:black\">**Paso 9.** Calcular energía nuclear y sumarla a la energía electrónica.</span>"
   ]
  },
  {
   "cell_type": "code",
   "execution_count": 1,
   "metadata": {},
   "outputs": [],
   "source": [
    "import psi4\n",
    "import numpy as np\n",
    "from scipy.linalg import eigh\n",
    "import sympy as sp\n",
    "sp.init_printing()"
   ]
  },
  {
   "cell_type": "markdown",
   "metadata": {},
   "source": [
    "**Paso 1.** Especificar molécula: Coordenadas de los núcleos <span style=\"color:red\">$\\{R_A\\}$</span>, Carga de los núcleos <span style=\"color:red\">$\\{Z_A\\}$</span>, Número de electrones <span style=\"color:red\">$(N)$</span>, y funciones base <span style=\"color:red\">$\\{\\phi_i\\}$</span>."
   ]
  },
  {
   "cell_type": "code",
   "execution_count": 2,
   "metadata": {},
   "outputs": [],
   "source": [
    "H2 = psi4.geometry(\"\"\"\n",
    "0 1\n",
    "H 0.0000  0.0000 0.0000\n",
    "H 0.0000  0.0000 0.7414 \n",
    "units angstrom\n",
    "\"\"\")"
   ]
  },
  {
   "cell_type": "code",
   "execution_count": 3,
   "metadata": {},
   "outputs": [],
   "source": [
    "psi4.set_options({'basis':'STO-3G'})"
   ]
  },
  {
   "cell_type": "markdown",
   "metadata": {},
   "source": [
    "**Paso 2.** Calcular $S$, $H$, $(ij|kl)$.\n",
    "\n",
    "$$\n",
    "S_{ij} = \\int \\psi_i^*(r) \\psi_j(r) dr\n",
    "$$\n",
    "\n",
    "$$\n",
    "H_{ij} = \\int \\psi_i^*(r) \\hat{H} \\psi_j(r) dr\n",
    "$$\n",
    "\n",
    "$$\n",
    "H_{ij} = T_{ij} + V_{ij}\n",
    "$$\n",
    "\n",
    "$$\n",
    "\\psi_i(r) = \\sum_\\mu a_\\mu \\phi_\\mu(r)\n",
    "$$\n",
    "\n",
    "$$\n",
    "(\\mu \\nu|\\sigma \\lambda) = \\int \\int \\phi_\\mu^*(r_1) \\phi_\\nu(r_1) \\frac{1}{r_{12}} \\phi_\\sigma^*(r_2) \\phi_\\lambda(r_2) dr_1 dr_2\n",
    "$$"
   ]
  },
  {
   "cell_type": "code",
   "execution_count": 4,
   "metadata": {},
   "outputs": [
    {
     "name": "stdout",
     "output_type": "stream",
     "text": [
      "----------------Matriz S----------------\n",
      "⎡       1.0         0.658957118138402⎤\n",
      "⎢                                    ⎥\n",
      "⎣0.658957118138402         1.0       ⎦\n",
      "----------------Matriz H----------------\n",
      "⎡ -1.1200511397292   -0.957732217573683⎤\n",
      "⎢                                      ⎥\n",
      "⎣-0.957732217573683   -1.1200511397292 ⎦\n"
     ]
    }
   ],
   "source": [
    "wfn = psi4.core.Wavefunction.build(H2)\n",
    "mints = psi4.core.MintsHelper(wfn.basisset())\n",
    "\n",
    "S = np.asarray(mints.ao_overlap())\n",
    "print(\"----------------Matriz S----------------\")\n",
    "sp.pprint(sp.Matrix(S))\n",
    "\n",
    "T = np.asarray(mints.ao_kinetic())\n",
    "V = np.asarray(mints.ao_potential())\n",
    "H=T+V\n",
    "print(\"----------------Matriz H----------------\")\n",
    "sp.pprint(sp.Matrix(H))\n",
    "\n",
    "I = np.asarray(mints.ao_eri())\n",
    "#print(\"Integrales (ij|kl):\")\n",
    "#print(I)\n",
    "\n",
    "nbf = S.shape[0]\n",
    "ndocc = wfn.nalpha()\n",
    "#print(nbf)\n",
    "#print(ndocc)"
   ]
  },
  {
   "cell_type": "markdown",
   "metadata": {},
   "source": [
    "**Paso 3.** Proponer una matriz C."
   ]
  },
  {
   "cell_type": "code",
   "execution_count": 5,
   "metadata": {},
   "outputs": [
    {
     "name": "stdout",
     "output_type": "stream",
     "text": [
      "[[0. 0.]\n",
      " [0. 0.]]\n"
     ]
    }
   ],
   "source": [
    "C = np.zeros((nbf,nbf))\n",
    "print(C)"
   ]
  },
  {
   "cell_type": "markdown",
   "metadata": {},
   "source": [
    "- **Paso 4.** Calcular $P$, $J$ y $K$.\n",
    "\n",
    "$$\n",
    "P_{\\mu \\nu} = \\sum_a^{N/2} C_{\\mu a} C_{\\nu a}^*\n",
    "$$\n",
    "\n",
    "$$\n",
    "J_{\\mu \\nu} = \\sum_{\\lambda \\sigma} P_{\\lambda \\sigma} (\\mu \\nu | \\sigma \\lambda)\n",
    "$$\n",
    "\n",
    "$$\n",
    "K_{\\mu \\nu} = \\sum_{\\lambda \\sigma} P_{\\lambda \\sigma} (\\mu \\lambda | \\sigma \\nu)\n",
    "$$\n",
    "\n",
    "- **Paso 5.** Calcular $F=H+2J-K$\n",
    "- **Paso 6.** Resolver $FC=SC\\varepsilon$\n",
    "- **Paso 7.** $E_{elec} = \\sum_\\mu \\sum_\\nu P_{\\nu \\mu}(H_{\\mu \\nu} + F_{\\mu \\nu})$\n",
    "- **Paso 8.** ¿$E_i=E_{i-1}$?, Sí: acabé. No: volver a paso 4."
   ]
  },
  {
   "cell_type": "code",
   "execution_count": 6,
   "metadata": {},
   "outputs": [
    {
     "name": "stdout",
     "output_type": "stream",
     "text": [
      "---------------------------------ITERACION---------------------------------\n",
      "------------Matriz C Entrada------------\n",
      "⎡0  0⎤\n",
      "⎢    ⎥\n",
      "⎣0  0⎦\n",
      "----------------Matriz P----------------\n",
      "⎡0  0⎤\n",
      "⎢    ⎥\n",
      "⎣0  0⎦\n",
      "----------------Matriz J----------------\n",
      "⎡0  0⎤\n",
      "⎢    ⎥\n",
      "⎣0  0⎦\n",
      "----------------Matriz K----------------\n",
      "⎡0  0⎤\n",
      "⎢    ⎥\n",
      "⎣0  0⎦\n",
      "----------------Matriz F----------------\n",
      "⎡ -1.1200511397292   -0.957732217573683⎤\n",
      "⎢                                      ⎥\n",
      "⎣-0.957732217573683   -1.1200511397292 ⎦\n",
      "-------------Matriz C Salida-------------\n",
      "⎡-0.548993777539937  1.21082256919196 ⎤\n",
      "⎢                                     ⎥\n",
      "⎣-0.548993777539937  -1.21082256919196⎦\n",
      "Energia Electronica:  0.0\n",
      "---------------------------------ITERACION---------------------------------\n",
      "------------Matriz C Entrada------------\n",
      "⎡-0.548993777539937  1.21082256919196 ⎤\n",
      "⎢                                     ⎥\n",
      "⎣-0.548993777539937  -1.21082256919196⎦\n",
      "----------------Matriz P----------------\n",
      "⎡0.30139416777757  0.30139416777757⎤\n",
      "⎢                                  ⎥\n",
      "⎣0.30139416777757  0.30139416777757⎦\n",
      "----------------Matriz J----------------\n",
      "⎡0.672609505226375  0.446338433792268⎤\n",
      "⎢                                    ⎥\n",
      "⎣0.446338433792268  0.672609505226375⎦\n",
      "----------------Matriz K----------------\n",
      "⎡0.590387598341338  0.528560340677304⎤\n",
      "⎢                                    ⎥\n",
      "⎣0.528560340677304  0.590387598341338⎦\n",
      "----------------Matriz F----------------\n",
      "⎡-0.365219727617788  -0.593615690666451⎤\n",
      "⎢                                      ⎥\n",
      "⎣-0.593615690666451  -0.365219727617788⎦\n",
      "-------------Matriz C Salida-------------\n",
      "⎡-0.548993777539937  -1.21082256919196⎤\n",
      "⎢                                     ⎥\n",
      "⎣-0.548993777539937  1.21082256919196 ⎦\n",
      "Energia Electronica:  -1.8304383774516493\n",
      "---------------------------------ITERACION---------------------------------\n",
      "------------Matriz C Entrada------------\n",
      "⎡-0.548993777539937  -1.21082256919196⎤\n",
      "⎢                                     ⎥\n",
      "⎣-0.548993777539937  1.21082256919196 ⎦\n",
      "----------------Matriz P----------------\n",
      "⎡0.30139416777757  0.30139416777757⎤\n",
      "⎢                                  ⎥\n",
      "⎣0.30139416777757  0.30139416777757⎦\n",
      "----------------Matriz J----------------\n",
      "⎡0.672609505226375  0.446338433792268⎤\n",
      "⎢                                    ⎥\n",
      "⎣0.446338433792268  0.672609505226375⎦\n",
      "----------------Matriz K----------------\n",
      "⎡0.590387598341338  0.528560340677304⎤\n",
      "⎢                                    ⎥\n",
      "⎣0.528560340677304  0.590387598341338⎦\n",
      "----------------Matriz F----------------\n",
      "⎡-0.365219727617788  -0.593615690666451⎤\n",
      "⎢                                      ⎥\n",
      "⎣-0.593615690666451  -0.365219727617788⎦\n",
      "-------------Matriz C Salida-------------\n",
      "⎡-0.548993777539937  -1.21082256919196⎤\n",
      "⎢                                     ⎥\n",
      "⎣-0.548993777539937  1.21082256919196 ⎦\n",
      "Energia Electronica:  -1.8304383774516493\n"
     ]
    }
   ],
   "source": [
    "E_old = -1.0\n",
    "converged=False\n",
    "\n",
    "while(not converged):\n",
    "    print(\"---------------------------------ITERACION---------------------------------\")  \n",
    "\n",
    "    print(\"------------Matriz C Entrada------------\")\n",
    "    sp.pprint(sp.Matrix(C))    \n",
    "    \n",
    "    #Paso 4. Calcular P, J y K\n",
    "    P = np.zeros((nbf,nbf))\n",
    "    for i in range(nbf):\n",
    "        for j in range(nbf):\n",
    "            for k in range(ndocc):\n",
    "                    P[i][j] = P[i][j] + C[i][k]*C[j][k]\n",
    "    print(\"----------------Matriz P----------------\")\n",
    "    sp.pprint(sp.Matrix(P))\n",
    "                    \n",
    "    J = np.zeros((nbf,nbf))\n",
    "    for i in range(nbf):\n",
    "        for j in range(nbf):\n",
    "            for k in range(nbf):\n",
    "                for l in range(nbf):\n",
    "                    J[i][j] = J[i][j] + P[k][l]*I[i][j][l][k]\n",
    "    print(\"----------------Matriz J----------------\")\n",
    "    sp.pprint(sp.Matrix(J))\n",
    "                    \n",
    "    K = np.zeros((nbf,nbf))\n",
    "    for i in range(nbf):\n",
    "        for j in range(nbf):\n",
    "            for k in range(nbf):\n",
    "                for l in range(nbf):\n",
    "                    K[i][j] = K[i][j] + P[k][l]*I[i][l][k][j]         \n",
    "    print(\"----------------Matriz K----------------\")\n",
    "    sp.pprint(sp.Matrix(K))                    \n",
    "\n",
    "    #Paso 5. Calcular F = H + 2J - K\n",
    "    F = H + 2*J - K\n",
    "    print(\"----------------Matriz F----------------\")\n",
    "    sp.pprint(sp.Matrix(F))\n",
    "    \n",
    "    #Paso 6. Resolver FC=SCE\n",
    "    E,C = eigh(F, S, eigvals_only=False)\n",
    "    print(\"-------------Matriz C Salida-------------\")\n",
    "    sp.pprint(sp.Matrix(C))\n",
    "    \n",
    "    #Paso 7. Calcular E=sum_i sum_j P_ji (H_ij+F_ij)\n",
    "    E_elec = 0.0\n",
    "    for i in range(nbf):\n",
    "        for j in range(nbf):\n",
    "            E_elec = E_elec + P[j][i]*(H[i][j] + F[i][j])\n",
    "\n",
    "    \n",
    "    print(\"Energia Electronica: \",E_elec)\n",
    "\n",
    "    #Paso 8. ¿$E_i=E_{i-1}$?, Si: acabe. No: volver a paso 4.\n",
    "    if(abs(E_old - E_elec)< 0.0000001):\n",
    "        converged = True\n",
    "    else:\n",
    "        E_old = E_elec\n",
    "        "
   ]
  },
  {
   "cell_type": "markdown",
   "metadata": {},
   "source": [
    "**Paso 9.** Calcular energía nuclear y sumarla a la energía electrónica.\n",
    "\n",
    "$$\n",
    "E_{\\rm nuc} = \\sum_{A>B}\\frac{Z_AZ_B}{r_{AB}}\n",
    "$$\n",
    "\n",
    "$$\n",
    "E_{Tot} = E_{elec} + E_{nuc}\n",
    "$$"
   ]
  },
  {
   "cell_type": "code",
   "execution_count": 7,
   "metadata": {},
   "outputs": [
    {
     "name": "stdout",
     "output_type": "stream",
     "text": [
      "Energia nuclear:  0.7137539905449153\n",
      "Energia Total:  -1.116684386906734\n"
     ]
    }
   ],
   "source": [
    "E_nuc = H2.nuclear_repulsion_energy() \n",
    "print(\"Energia nuclear: \", E_nuc)\n",
    "E_T = E_elec + E_nuc\n",
    "print(\"Energia Total: \", E_T)"
   ]
  },
  {
   "cell_type": "markdown",
   "metadata": {},
   "source": [
    "## Método Simple. PSI4"
   ]
  },
  {
   "cell_type": "markdown",
   "metadata": {},
   "source": [
    "Geometría del agua\n",
    "\n",
    "|Átomo|X (A)|Y (A)|Z (A)|\n",
    "|----|----|----|----|\n",
    "|H|0.0000|0.0000|0.0000|\n",
    "|H|0.0000|0.0000|0.7414|\n"
   ]
  },
  {
   "cell_type": "code",
   "execution_count": 8,
   "metadata": {},
   "outputs": [],
   "source": [
    "import psi4"
   ]
  },
  {
   "cell_type": "code",
   "execution_count": 9,
   "metadata": {},
   "outputs": [],
   "source": [
    "H2 = psi4.geometry(\"\"\"\n",
    "0 1\n",
    "H 0.0000  0.0000 0.0000\n",
    "H 0.0000  0.0000 0.7414 \n",
    "units angstrom\n",
    "\"\"\")"
   ]
  },
  {
   "cell_type": "code",
   "execution_count": 10,
   "metadata": {},
   "outputs": [
    {
     "name": "stdout",
     "output_type": "stream",
     "text": [
      "   => Loading Basis Set <=\n",
      "\n",
      "    Name: STO-3G\n",
      "    Role: ORBITAL\n",
      "    Keyword: None\n",
      "    atoms 1-2 entry H          line    19 file /home/jebarrios/anaconda3/envs/QCI/share/psi4/basis/sto-3g.gbs \n",
      "\n",
      "\n",
      "*** tstart() called on BlauweDraak\n",
      "*** at Thu Jun  2 11:07:47 2022\n",
      "\n",
      "   => Loading Basis Set <=\n",
      "\n",
      "    Name: 6-311G\n",
      "    Role: ORBITAL\n",
      "    Keyword: BASIS\n",
      "    atoms 1-2 entry H          line    21 file /home/jebarrios/anaconda3/envs/QCI/share/psi4/basis/6-311g.gbs \n",
      "\n",
      "\n",
      "         ---------------------------------------------------------\n",
      "                                   SCF\n",
      "            by Justin Turney, Rob Parrish, Andy Simmonett\n",
      "                             and Daniel Smith\n",
      "                              RHF Reference\n",
      "                        1 Threads,    500 MiB Core\n",
      "         ---------------------------------------------------------\n",
      "\n",
      "  ==> Geometry <==\n",
      "\n",
      "    Molecular point group: d2h\n",
      "    Full point group: D_inf_h\n",
      "\n",
      "    Geometry (in Angstrom), charge = 0, multiplicity = 1:\n",
      "\n",
      "       Center              X                  Y                   Z               Mass       \n",
      "    ------------   -----------------  -----------------  -----------------  -----------------\n",
      "         H            0.000000000000     0.000000000000    -0.370700000000     1.007825032070\n",
      "         H            0.000000000000     0.000000000000     0.370700000000     1.007825032070\n",
      "\n",
      "  Running in d2h symmetry.\n",
      "\n",
      "  Rotational constants: A = ************  B =     60.86059  C =     60.86059 [cm^-1]\n",
      "  Rotational constants: A = ************  B = 1824554.69688  C = 1824554.69688 [MHz]\n",
      "  Nuclear repulsion =    0.713753990544915\n",
      "\n",
      "  Charge       = 0\n",
      "  Multiplicity = 1\n",
      "  Electrons    = 2\n",
      "  Nalpha       = 1\n",
      "  Nbeta        = 1\n",
      "\n",
      "  ==> Algorithm <==\n",
      "\n",
      "  SCF Algorithm Type is DF.\n",
      "  DIIS enabled.\n",
      "  MOM disabled.\n",
      "  Fractional occupation disabled.\n",
      "  Guess Type is SAD.\n",
      "  Energy threshold   = 1.00e-06\n",
      "  Density threshold  = 1.00e-06\n",
      "  Integral threshold = 0.00e+00\n",
      "\n",
      "  ==> Primary Basis <==\n",
      "\n",
      "  Basis Set: 6-311G\n",
      "    Blend: 6-311G\n",
      "    Number of shells: 6\n",
      "    Number of basis function: 6\n",
      "    Number of Cartesian functions: 6\n",
      "    Spherical Harmonics?: true\n",
      "    Max angular momentum: 0\n",
      "\n"
     ]
    },
    {
     "name": "stdout",
     "output_type": "stream",
     "text": [
      "   => Loading Basis Set <=\n",
      "\n",
      "    Name: (6-311G AUX)\n",
      "    Role: JKFIT\n",
      "    Keyword: DF_BASIS_SCF\n",
      "    atoms 1-2 entry H          line    51 file /home/jebarrios/anaconda3/envs/QCI/share/psi4/basis/cc-pvtz-jkfit.gbs \n",
      "\n",
      "  ==> Pre-Iterations <==\n",
      "\n",
      "   -------------------------------------------------------\n",
      "    Irrep   Nso     Nmo     Nalpha   Nbeta   Ndocc  Nsocc\n",
      "   -------------------------------------------------------\n",
      "     Ag         3       3       0       0       0       0\n",
      "     B1g        0       0       0       0       0       0\n",
      "     B2g        0       0       0       0       0       0\n",
      "     B3g        0       0       0       0       0       0\n",
      "     Au         0       0       0       0       0       0\n",
      "     B1u        3       3       0       0       0       0\n",
      "     B2u        0       0       0       0       0       0\n",
      "     B3u        0       0       0       0       0       0\n",
      "   -------------------------------------------------------\n",
      "    Total       6       6       1       1       1       0\n",
      "   --"
     ]
    },
    {
     "name": "stdout",
     "output_type": "stream",
     "text": [
      "-----------------------------------------------------\n",
      "\n",
      "  ==> Integral Setup <==\n",
      "\n",
      "  DFHelper Memory: AOs need 0.000 [GiB]; user supplied 0.366 [GiB]. Using in-core AOs.\n",
      "\n",
      "  ==> MemDFJK: Density-Fitted J/K Matrices <==\n",
      "\n",
      "    J tasked:                   Yes\n",
      "    K tasked:                   Yes\n",
      "    wK tasked:                   No\n",
      "    OpenMP threads:               1\n",
      "    Memory (MB):                375\n",
      "    Algorithm:                 Core\n",
      "    Schwarz Cutoff:           1E-12\n",
      "    Mask sparsity (%):       0.0000\n",
      "    Fitting Condition:        1E-12\n",
      "\n",
      "   => Auxiliary Basis Set <=\n",
      "\n",
      "  Basis Set: (6-311G AUX)\n",
      "    Blend: CC-PVTZ-JKFIT\n",
      "    Number of shells: 20\n",
      "    Number of basis function: 60\n",
      "    Number of Cartesian functions: 70\n",
      "    Spherical Harmonics?: true\n",
      "    Max angular momentum: 3\n",
      "\n",
      "  Minimum eigenvalue in the overlap matrix is 3.1834108481E-02.\n",
      "  Using Symmetric Orthogonalization.\n",
      "\n",
      "  SCF Guess: Superposition of Atomic Densities via on-the-fly atomic UHF.\n",
      "\n",
      "  ==> Iterations <==\n",
      "\n",
      "                           Total Energy        Delta E     RMS |[F,P]|\n",
      "\n",
      "   @DF-RHF iter   0:    -0.85101365944738   -8.51014e-01   5.04289e-02 \n",
      "   @DF-RHF iter   1:    -1.12661284788483   -2.75599e-01   8.37701e-03 \n",
      "   @DF-RHF iter   2:    -1.12791747942841   -1.30463e-03   1.46290e-03 DIIS\n",
      "   @DF-RHF iter   3:    -1.12797084474926   -5.33653e-05   1.46081e-04 DIIS\n",
      "   @DF-RHF iter   4:    -1.12797124766943   -4.02920e-07   9.77689e-07 DIIS\n",
      "\n",
      "  ==> Post-Iterations <==\n",
      "\n",
      "    Orbital Energies [Eh]\n",
      "    ---------------------\n",
      "\n",
      "    Doubly Occupied:                                                      \n",
      "\n",
      "       1Ag    -0.595505  \n",
      "\n",
      "    Virtual:                                                              \n",
      "\n",
      "       1B1u    0.168613     2Ag     0.306255     2B1u    0.650788  \n",
      "       3Ag     2.416154     3B1u    2.746917  \n",
      "\n",
      "    Final Occupation by Irrep:\n",
      "             Ag   B1g   B2g   B3g    Au   B1u   B2u   B3u \n",
      "    DOCC [     1,    0,    0,    0,    0,    0,    0,    0 ]\n",
      "\n",
      "  Energy converged.\n",
      "\n",
      "  @DF-RHF Final Energy:    -1.12797124766943\n",
      "\n",
      "   => Energetics <=\n",
      "\n",
      "    Nuclear Repulsion Energy =              0.7137539905449153\n",
      "    One-Electron Energy =                  -2.4924433692188619\n",
      "    Two-Electron Energy =                   0.6507181310045163\n",
      "    Total Energy =                         -1.1279712476694304\n",
      "\n",
      "\n",
      "\n",
      "Properties will be evaluated at   0.000000,   0.000000,   0.000000 [a0]\n",
      "\n",
      "Properties computed using the SCF density matrix\n",
      "\n",
      "  Nuclear Dipole Moment: [e a0]\n",
      "     X:     0.0000      Y:     0.0000      Z:     0.0000\n",
      "\n",
      "  Electronic Dipole Moment: [e a0]\n",
      "     X:     0.0000      Y:     0.0000      Z:     0.0000\n",
      "\n",
      "  Dipole Moment: [e a0]\n",
      "     X:     0.0000      Y:     0.0000      Z:     0.0000     Total:     0.0000\n",
      "\n",
      "  Dipole Moment: [D]\n",
      "     X:     0.0000      Y:     0.0000      Z:     0.0000     Total:     0.0000\n",
      "\n",
      "\n",
      "*** tstop() called on BlauweDraak at Thu Jun  2 11:07:48 2022\n",
      "Module time:\n",
      "\tuser time   =       0.23 seconds =       0.00 minutes\n",
      "\tsystem time =       0.01 seconds =       0.00 minutes\n",
      "\ttotal time  =          1 seconds =       0.02 minutes\n",
      "Total time:\n",
      "\tuser time   =       0.23 seconds =       0.00 minutes\n",
      "\tsystem time =       0.01 seconds =       0.00 minutes\n",
      "\ttotal time  =          1 seconds =       0.02 minutes\n"
     ]
    },
    {
     "data": {
      "image/png": "[encoded data removed]",
      "text/latex": [
       "$\\displaystyle -1.12797124766943$"
      ],
      "text/plain": [
       "-1.1279712476694304"
      ]
     },
     "execution_count": 10,
     "metadata": {
      "filenames": {
       "image/png": "/home/jebarrios/TQMex Dropbox/Jose Eduardo Barrios Vargas/FQ-UNAM/2_github/Cuantica-I/_build/jupyter_execute/Hartree-Fock_19_3.png"
      }
     },
     "output_type": "execute_result"
    }
   ],
   "source": [
    "psi4.energy(\"HF/6-311G\")"
   ]
  },
  {
   "cell_type": "markdown",
   "metadata": {},
   "source": [
    "## Referencias"
   ]
  },
  {
   "cell_type": "markdown",
   "metadata": {},
   "source": [
    "- Szabo, A.; Ostlund, N. S. Modern Quantum Chemistry: Introduction to Advanced Electronic Structure Theory; Dover Publications: Mineola, N.Y, 1996."
   ]
  }
 ],
 "metadata": {
  "kernelspec": {
   "display_name": "Python 3",
   "language": "python",
   "name": "python3"
  },
  "language_info": {
   "codemirror_mode": {
    "name": "ipython",
    "version": 3
   },
   "file_extension": ".py",
   "mimetype": "text/x-python",
   "name": "python",
   "nbconvert_exporter": "python",
   "pygments_lexer": "ipython3",
   "version": "3.7.0"
  }
 },
 "nbformat": 4,
 "nbformat_minor": 2
}