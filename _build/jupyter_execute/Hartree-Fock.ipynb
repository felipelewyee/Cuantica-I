{
 "cells": [
  {
   "cell_type": "markdown",
   "metadata": {},
   "source": [
    "# Hartree-Fock-Roothan (HF)"
   ]
  },
  {
   "cell_type": "markdown",
   "metadata": {},
   "source": [
    "```{warning}\n",
    "Si está utilizando Google Colab o la ejecución en línea, debe de ejecutar al inicio el siguiente código\n",
    "~~~\n",
    "!pip install pyscf\n",
    "~~~\n",
    "```"
   ]
  },
  {
   "cell_type": "markdown",
   "metadata": {},
   "source": [
    "Tenemos que resolver:\n",
    "\n",
    "$$\n",
    "\\textbf{F} \\textbf{C} = \\textbf{S}\\textbf{C}\\varepsilon\n",
    "$$"
   ]
  },
  {
   "cell_type": "markdown",
   "metadata": {},
   "source": [
    "- <span style=\"color:green\"> **Paso 1.** Especificar molécula: Coordenadas de los núcleos $\\{R_A\\}$, Carga de los núcleos $\\{Z_A\\}$, Número de electrones $(N)$, y funciones base $\\{\\phi_i\\}$</span>\n",
    "- <span style=\"color:green\"> **Paso 2.** Calcular $S$, $H$, $(ij|kl)$.</span>\n",
    "- <span style=\"color:green\"> **Paso 3.** Proponer una matriz $C$.</span>\n",
    "- <span style=\"color:black\"> **Paso 4.** Calcular $P$, $J$ y $K$.</span>\n",
    "- <span style=\"color:black\"> **Paso 5.** Calcular $F=H+2J-K$</span>\n",
    "- <span style=\"color:black\"> **Paso 6.** Resolver $FC=SC\\varepsilon$</span>\n",
    "- <span style=\"color:black\"> **Paso 7.** $E_{elec} = \\sum_\\mu \\sum_\\nu P_{\\nu \\mu} (H_{\\mu \\nu} + F_{\\mu \\nu})$<span>\n",
    "- <span style=\"color:black\"> **Paso 8.** ¿$E_i=E_{i-1}$?, Sí: acabé. No: volver a paso 4.</span>\n",
    "- <span style=\"color:black\">**Paso 9.** Calcular energía nuclear y sumarla a la energía electrónica.</span>"
   ]
  },
  {
   "cell_type": "code",
   "execution_count": 1,
   "metadata": {},
   "outputs": [],
   "source": [
    "# Descomentar estas líneas si está en modo online\n",
    "\n",
    "#!pip install pyscf\n",
    "\n",
    "import pyscf\n",
    "import numpy as np\n",
    "from scipy.linalg import eigh\n",
    "import sympy as sp\n",
    "sp.init_printing()"
   ]
  },
  {
   "cell_type": "markdown",
   "metadata": {},
   "source": [
    "**Paso 1.** Especificar molécula: Coordenadas de los núcleos <span style=\"color:red\">$\\{R_A\\}$</span>, Carga de los núcleos <span style=\"color:red\">$\\{Z_A\\}$</span>, Número de electrones <span style=\"color:red\">$(N)$</span>, y funciones base <span style=\"color:red\">$\\{\\phi_i\\}$</span>."
   ]
  },
  {
   "cell_type": "code",
   "execution_count": 2,
   "metadata": {},
   "outputs": [],
   "source": [
    "H2 = pyscf.gto.Mole(atom = \"\"\"\n",
    "    H 0.0000  0.0000 0.0000\n",
    "    H 0.0000  0.0000 0.7414 \n",
    "    \"\"\",basis = \"STO-3G\")\n",
    "H2 = H2.build()"
   ]
  },
  {
   "cell_type": "markdown",
   "metadata": {},
   "source": [
    "**Paso 2.** Calcular $S$, $H$, $(ij|kl)$.\n",
    "\n",
    "$$\n",
    "S_{ij} = \\int \\psi_i^*(r) \\psi_j(r) dr\n",
    "$$\n",
    "\n",
    "$$\n",
    "H_{ij} = \\int \\psi_i^*(r) \\hat{H} \\psi_j(r) dr\n",
    "$$\n",
    "\n",
    "$$\n",
    "H_{ij} = T_{ij} + V_{ij}\n",
    "$$\n",
    "\n",
    "$$\n",
    "\\psi_i(r) = \\sum_\\mu a_\\mu \\phi_\\mu(r)\n",
    "$$\n",
    "\n",
    "$$\n",
    "(\\mu \\nu|\\sigma \\lambda) = \\int \\int \\phi_\\mu^*(r_1) \\phi_\\nu(r_1) \\frac{1}{r_{12}} \\phi_\\sigma^*(r_2) \\phi_\\lambda(r_2) dr_1 dr_2\n",
    "$$"
   ]
  },
  {
   "cell_type": "code",
   "execution_count": 3,
   "metadata": {},
   "outputs": [
    {
     "name": "stdout",
     "output_type": "stream",
     "text": [
      "----------------Matriz S----------------\n",
      "⎡       1.0         0.658957120274098⎤\n",
      "⎢                                    ⎥\n",
      "⎣0.658957120274098         1.0       ⎦\n",
      "----------------Matriz H----------------\n",
      "⎡-1.12005114184512   -0.957732221404315⎤\n",
      "⎢                                      ⎥\n",
      "⎣-0.957732221404315  -1.12005114184512 ⎦\n"
     ]
    }
   ],
   "source": [
    "S = H2.intor('int1e_ovlp')\n",
    "print(\"----------------Matriz S----------------\")\n",
    "sp.pprint(sp.Matrix(S))\n",
    "\n",
    "T = H2.intor('int1e_kin')\n",
    "V = H2.intor('int1e_nuc')\n",
    "H=T+V\n",
    "print(\"----------------Matriz H----------------\")\n",
    "sp.pprint(sp.Matrix(H))\n",
    "\n",
    "I = H2.intor('int2e')\n",
    "#print(\"Integrales (ij|kl):\")\n",
    "#print(I)\n",
    "\n",
    "nbf = S.shape[0]\n",
    "ndocc = int(H2.nelectron/2)\n",
    "#print(nbf)\n",
    "#print(ndocc)"
   ]
  },
  {
   "cell_type": "markdown",
   "metadata": {},
   "source": [
    "**Paso 3.** Proponer una matriz C."
   ]
  },
  {
   "cell_type": "code",
   "execution_count": 4,
   "metadata": {},
   "outputs": [
    {
     "name": "stdout",
     "output_type": "stream",
     "text": [
      "[[0. 0.]\n",
      " [0. 0.]]\n"
     ]
    }
   ],
   "source": [
    "C = np.zeros((nbf,nbf))\n",
    "print(C)"
   ]
  },
  {
   "cell_type": "markdown",
   "metadata": {},
   "source": [
    "- **Paso 4.** Calcular $P$, $J$ y $K$.\n",
    "\n",
    "$$\n",
    "P_{\\mu \\nu} = \\sum_a^{N/2} C_{\\mu a} C_{\\nu a}^*\n",
    "$$\n",
    "\n",
    "$$\n",
    "J_{\\mu \\nu} = \\sum_{\\lambda \\sigma} P_{\\lambda \\sigma} (\\mu \\nu | \\sigma \\lambda)\n",
    "$$\n",
    "\n",
    "$$\n",
    "K_{\\mu \\nu} = \\sum_{\\lambda \\sigma} P_{\\lambda \\sigma} (\\mu \\lambda | \\sigma \\nu)\n",
    "$$\n",
    "\n",
    "- **Paso 5.** Calcular $F=H+2J-K$\n",
    "- **Paso 6.** Resolver $FC=SC\\varepsilon$\n",
    "- **Paso 7.** $E_{elec} = \\sum_\\mu \\sum_\\nu P_{\\nu \\mu}(H_{\\mu \\nu} + F_{\\mu \\nu})$\n",
    "- **Paso 8.** ¿$E_i=E_{i-1}$?, Sí: acabé. No: volver a paso 4."
   ]
  },
  {
   "cell_type": "code",
   "execution_count": 5,
   "metadata": {},
   "outputs": [
    {
     "name": "stdout",
     "output_type": "stream",
     "text": [
      "---------------------------------ITERACION---------------------------------\n",
      "------------Matriz C Entrada------------\n",
      "⎡0  0⎤\n",
      "⎢    ⎥\n",
      "⎣0  0⎦\n",
      "----------------Matriz P----------------\n",
      "⎡0  0⎤\n",
      "⎢    ⎥\n",
      "⎣0  0⎦\n",
      "----------------Matriz J----------------\n",
      "⎡0  0⎤\n",
      "⎢    ⎥\n",
      "⎣0  0⎦\n",
      "----------------Matriz K----------------\n",
      "⎡0  0⎤\n",
      "⎢    ⎥\n",
      "⎣0  0⎦\n",
      "----------------Matriz F----------------\n",
      "⎡-1.12005114184512   -0.957732221404315⎤\n",
      "⎢                                      ⎥\n",
      "⎣-0.957732221404315  -1.12005114184512 ⎦\n",
      "-------------Matriz C Salida-------------\n",
      "⎡-0.548993777186558  1.2108225729832 ⎤\n",
      "⎢                                    ⎥\n",
      "⎣-0.548993777186557  -1.2108225729832⎦\n",
      "Energia Electronica:  0.0\n",
      "---------------------------------ITERACION---------------------------------\n",
      "------------Matriz C Entrada------------\n",
      "⎡-0.548993777186558  1.2108225729832 ⎤\n",
      "⎢                                    ⎥\n",
      "⎣-0.548993777186557  -1.2108225729832⎦\n",
      "----------------Matriz P----------------\n",
      "⎡0.301394167389564  0.301394167389564⎤\n",
      "⎢                                    ⎥\n",
      "⎣0.301394167389564  0.301394167389563⎦\n",
      "----------------Matriz J----------------\n",
      "⎡0.672609505851563  0.446338435641006⎤\n",
      "⎢                                    ⎥\n",
      "⎣0.446338435641006  0.672609505851562⎦\n",
      "----------------Matriz K----------------\n",
      "⎡0.590387599353547  0.528560342139022⎤\n",
      "⎢                                    ⎥\n",
      "⎣0.528560342139022  0.590387599353547⎦\n",
      "----------------Matriz F----------------\n",
      "⎡-0.365219729495538  -0.593615692261324⎤\n",
      "⎢                                      ⎥\n",
      "⎣-0.593615692261324  -0.365219729495538⎦\n",
      "-------------Matriz C Salida-------------\n",
      "⎡-0.548993777186558  -1.2108225729832⎤\n",
      "⎢                                    ⎥\n",
      "⎣-0.548993777186557  1.2108225729832 ⎦\n",
      "Energia Electronica:  -1.830438380772959\n",
      "---------------------------------ITERACION---------------------------------\n",
      "------------Matriz C Entrada------------\n",
      "⎡-0.548993777186558  -1.2108225729832⎤\n",
      "⎢                                    ⎥\n",
      "⎣-0.548993777186557  1.2108225729832 ⎦\n",
      "----------------Matriz P----------------\n",
      "⎡0.301394167389564  0.301394167389564⎤\n",
      "⎢                                    ⎥\n",
      "⎣0.301394167389564  0.301394167389563⎦\n",
      "----------------Matriz J----------------\n",
      "⎡0.672609505851563  0.446338435641007⎤\n",
      "⎢                                    ⎥\n",
      "⎣0.446338435641007  0.672609505851563⎦\n",
      "----------------Matriz K----------------\n",
      "⎡0.590387599353547  0.528560342139022⎤\n",
      "⎢                                    ⎥\n",
      "⎣0.528560342139022  0.590387599353547⎦\n",
      "----------------Matriz F----------------\n",
      "⎡-0.365219729495538  -0.593615692261324⎤\n",
      "⎢                                      ⎥\n",
      "⎣-0.593615692261323  -0.365219729495537⎦\n",
      "-------------Matriz C Salida-------------\n",
      "⎡-0.548993777186558  -1.2108225729832⎤\n",
      "⎢                                    ⎥\n",
      "⎣-0.548993777186558  1.2108225729832 ⎦\n",
      "Energia Electronica:  -1.8304383807729592\n"
     ]
    }
   ],
   "source": [
    "E_old = -1.0\n",
    "converged=False\n",
    "\n",
    "while(not converged):\n",
    "    print(\"---------------------------------ITERACION---------------------------------\")  \n",
    "\n",
    "    print(\"------------Matriz C Entrada------------\")\n",
    "    sp.pprint(sp.Matrix(C))    \n",
    "    \n",
    "    #Paso 4. Calcular P, J y K\n",
    "    P = np.zeros((nbf,nbf))\n",
    "    for i in range(nbf):\n",
    "        for j in range(nbf):\n",
    "            for k in range(ndocc):\n",
    "                    P[i][j] = P[i][j] + C[i][k]*C[j][k]\n",
    "    print(\"----------------Matriz P----------------\")\n",
    "    sp.pprint(sp.Matrix(P))\n",
    "                    \n",
    "    J = np.zeros((nbf,nbf))\n",
    "    for i in range(nbf):\n",
    "        for j in range(nbf):\n",
    "            for k in range(nbf):\n",
    "                for l in range(nbf):\n",
    "                    J[i][j] = J[i][j] + P[k][l]*I[i][j][l][k]\n",
    "    print(\"----------------Matriz J----------------\")\n",
    "    sp.pprint(sp.Matrix(J))\n",
    "                    \n",
    "    K = np.zeros((nbf,nbf))\n",
    "    for i in range(nbf):\n",
    "        for j in range(nbf):\n",
    "            for k in range(nbf):\n",
    "                for l in range(nbf):\n",
    "                    K[i][j] = K[i][j] + P[k][l]*I[i][l][k][j]         \n",
    "    print(\"----------------Matriz K----------------\")\n",
    "    sp.pprint(sp.Matrix(K))                    \n",
    "\n",
    "    #Paso 5. Calcular F = H + 2J - K\n",
    "    F = H + 2*J - K\n",
    "    print(\"----------------Matriz F----------------\")\n",
    "    sp.pprint(sp.Matrix(F))\n",
    "    \n",
    "    #Paso 6. Resolver FC=SCE\n",
    "    E,C = eigh(F, S, eigvals_only=False)\n",
    "    print(\"-------------Matriz C Salida-------------\")\n",
    "    sp.pprint(sp.Matrix(C))\n",
    "    \n",
    "    #Paso 7. Calcular E=sum_i sum_j P_ji (H_ij+F_ij)\n",
    "    E_elec = 0.0\n",
    "    for i in range(nbf):\n",
    "        for j in range(nbf):\n",
    "            E_elec = E_elec + P[j][i]*(H[i][j] + F[i][j])\n",
    "\n",
    "    \n",
    "    print(\"Energia Electronica: \",E_elec)\n",
    "\n",
    "    #Paso 8. ¿$E_i=E_{i-1}$?, Si: acabe. No: volver a paso 4.\n",
    "    if(abs(E_old - E_elec)< 0.0000001):\n",
    "        converged = True\n",
    "    else:\n",
    "        E_old = E_elec"
   ]
  },
  {
   "cell_type": "markdown",
   "metadata": {},
   "source": [
    "**Paso 9.** Calcular energía nuclear y sumarla a la energía electrónica.\n",
    "\n",
    "$$\n",
    "E_{\\rm nuc} = \\sum_{A>B}\\frac{Z_AZ_B}{r_{AB}}\n",
    "$$\n",
    "\n",
    "$$\n",
    "E_{Tot} = E_{elec} + E_{nuc}\n",
    "$$"
   ]
  },
  {
   "cell_type": "code",
   "execution_count": 6,
   "metadata": {},
   "outputs": [
    {
     "name": "stdout",
     "output_type": "stream",
     "text": [
      "Energia nuclear:  0.7137539936876182\n",
      "Energia Total:  -1.116684387085341\n"
     ]
    }
   ],
   "source": [
    "E_nuc = H2.energy_nuc()\n",
    "print(\"Energia nuclear: \", E_nuc)\n",
    "E_T = E_elec + E_nuc\n",
    "print(\"Energia Total: \", E_T)"
   ]
  },
  {
   "cell_type": "markdown",
   "metadata": {},
   "source": [
    "## Método Simple. PySCF"
   ]
  },
  {
   "cell_type": "markdown",
   "metadata": {},
   "source": [
    "Geometría del agua\n",
    "\n",
    "|Átomo|X (A)|Y (A)|Z (A)|\n",
    "|----|----|----|----|\n",
    "|H|0.0000|0.0000|0.0000|\n",
    "|H|0.0000|0.0000|0.7414|\n"
   ]
  },
  {
   "cell_type": "code",
   "execution_count": 7,
   "metadata": {},
   "outputs": [],
   "source": [
    "from pyscf import scf"
   ]
  },
  {
   "cell_type": "code",
   "execution_count": 8,
   "metadata": {},
   "outputs": [],
   "source": [
    "H2 = pyscf.gto.Mole(atom = \"\"\"\n",
    "    H 0.0000  0.0000 0.0000\n",
    "    H 0.0000  0.0000 0.7414 \n",
    "    \"\"\",basis = \"STO-3G\")\n",
    "H2 = H2.build()"
   ]
  },
  {
   "cell_type": "code",
   "execution_count": 9,
   "metadata": {},
   "outputs": [
    {
     "name": "stdout",
     "output_type": "stream",
     "text": [
      "converged SCF energy = -1.11668438708534\n"
     ]
    },
    {
     "data": {
      "image/png": "[encoded data removed]",
      "text/latex": [
       "$\\displaystyle -1.11668438708534$"
      ],
      "text/plain": [
       "-1.1166843870853405"
      ]
     },
     "execution_count": 9,
     "metadata": {
      "filenames": {
       "image/png": "/home/jfhlewyee/Escritorio/Cuantica-I/_build/jupyter_execute/Hartree-Fock_19_1.png"
      }
     },
     "output_type": "execute_result"
    }
   ],
   "source": [
    "rhf = scf.RHF(H2)\n",
    "rhf.kernel()"
   ]
  },
  {
   "cell_type": "markdown",
   "metadata": {},
   "source": [
    "## Referencias"
   ]
  },
  {
   "cell_type": "markdown",
   "metadata": {},
   "source": [
    "- D.R. Hartree, The Wave Mechanics of an Atom with a Non-Coulomb Central Field. Part I. Theory and Methods, Math. Proc. Cambridge Philos. Soc. 24, 89 (1928).\n",
    "- J.C. Slater, Note on Hartree's method, Phys. Rev. 35, 210 (1930).\n",
    "- V. Fock, Näherungsmethode zur Lösung des quantenmechanischen Mehrkörperproblems, Zeitschrift für Physik 61, 126 (1930).\n",
    "-  C.C.J. Roothaan, New Developments in Molecular Orbital Theory, Rev. Mod. Phys. 23, 69 (1951).\n",
    "- Szabo, A.; Ostlund, N. S. Modern Quantum Chemistry: Introduction to Advanced Electronic Structure Theory; Dover Publications: Mineola, N.Y, 1996."
   ]
  }
 ],
 "metadata": {
  "kernelspec": {
   "display_name": "Python 3 (ipykernel)",
   "language": "python",
   "name": "python3"
  },
  "language_info": {
   "codemirror_mode": {
    "name": "ipython",
    "version": 3
   },
   "file_extension": ".py",
   "mimetype": "text/x-python",
   "name": "python",
   "nbconvert_exporter": "python",
   "pygments_lexer": "ipython3",
   "version": "3.10.4"
  }
 },
 "nbformat": 4,
 "nbformat_minor": 2
}