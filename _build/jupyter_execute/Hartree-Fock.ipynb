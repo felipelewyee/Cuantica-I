{
 "cells": [
  {
   "cell_type": "markdown",
   "metadata": {},
   "source": [
    "# Hartree-Fock-Roothan (HF)"
   ]
  },
  {
   "cell_type": "markdown",
   "metadata": {},
   "source": [
    "Tenemos que resolver:\n",
    "\n",
    "$$\n",
    "\\textbf{F} \\textbf{C} = \\textbf{S}\\textbf{C}\\varepsilon\n",
    "$$"
   ]
  },
  {
   "cell_type": "markdown",
   "metadata": {},
   "source": [
    "- <span style=\"color:green\"> **Paso 1.** Especificar molécula: Coordenadas de los núcleos $\\{R_A\\}$, Carga de los núcleos $\\{Z_A\\}$, Número de electrones $(N)$, y funciones base $\\{\\phi_i\\}$</span>\n",
    "- <span style=\"color:green\"> **Paso 2.** Calcular $S$, $H$, $(ij|kl)$.</span>\n",
    "- <span style=\"color:green\"> **Paso 3.** Proponer una matriz $C$.</span>\n",
    "- <span style=\"color:black\"> **Paso 4.** Calcular $P$, $J$ y $K$.</span>\n",
    "- <span style=\"color:black\"> **Paso 5.** Calcular $F=H+2J-K$</span>\n",
    "- <span style=\"color:black\"> **Paso 6.** Resolver $FC=SC\\varepsilon$</span>\n",
    "- <span style=\"color:black\"> **Paso 7.** $E_{elec} = \\sum_\\mu \\sum_\\nu P_{\\nu \\mu} (H_{\\mu \\nu} + F_{\\mu \\nu})$<span>\n",
    "- <span style=\"color:black\"> **Paso 8.** ¿$E_i=E_{i-1}$?, Sí: acabé. No: volver a paso 4.</span>\n",
    "- <span style=\"color:black\">**Paso 9.** Calcular energía nuclear y sumarla a la energía electrónica.</span>"
   ]
  },
  {
   "cell_type": "code",
   "execution_count": 1,
   "metadata": {},
   "outputs": [],
   "source": [
    "import psi4\n",
    "import numpy as np\n",
    "from scipy.linalg import eigh\n",
    "import sympy as sp\n",
    "sp.init_printing()"
   ]
  },
  {
   "cell_type": "markdown",
   "metadata": {},
   "source": [
    "**Paso 1.** Especificar molécula: Coordenadas de los núcleos <span style=\"color:red\">$\\{R_A\\}$</span>, Carga de los núcleos <span style=\"color:red\">$\\{Z_A\\}$</span>, Número de electrones <span style=\"color:red\">$(N)$</span>, y funciones base <span style=\"color:red\">$\\{\\phi_i\\}$</span>."
   ]
  },
  {
   "cell_type": "code",
   "execution_count": 2,
   "metadata": {},
   "outputs": [],
   "source": [
    "H2 = psi4.geometry(\"\"\"\n",
    "0 1\n",
    "H 0.0000  0.0000 0.0000\n",
    "H 0.0000  0.0000 0.7414 \n",
    "units angstrom\n",
    "\"\"\")"
   ]
  },
  {
   "cell_type": "code",
   "execution_count": 3,
   "metadata": {},
   "outputs": [],
   "source": [
    "psi4.set_options({'basis':'STO-3G'})"
   ]
  },
  {
   "cell_type": "markdown",
   "metadata": {},
   "source": [
    "**Paso 2.** Calcular $S$, $H$, $(ij|kl)$.\n",
    "\n",
    "$$\n",
    "S_{ij} = \\int \\psi_i^*(r) \\psi_j(r) dr\n",
    "$$\n",
    "\n",
    "$$\n",
    "H_{ij} = \\int \\psi_i^*(r) \\hat{H} \\psi_j(r) dr\n",
    "$$\n",
    "\n",
    "$$\n",
    "H_{ij} = T_{ij} + V_{ij}\n",
    "$$\n",
    "\n",
    "$$\n",
    "\\psi_i(r) = \\sum_\\mu a_\\mu \\phi_\\mu(r)\n",
    "$$\n",
    "\n",
    "$$\n",
    "(\\mu \\nu|\\sigma \\lambda) = \\int \\int \\phi_\\mu^*(r_1) \\phi_\\nu(r_1) \\frac{1}{r_{12}} \\phi_\\sigma^*(r_2) \\phi_\\lambda(r_2) dr_1 dr_2\n",
    "$$"
   ]
  },
  {
   "cell_type": "code",
   "execution_count": 4,
   "metadata": {},
   "outputs": [
    {
     "name": "stdout",
     "output_type": "stream",
     "text": [
      "----------------Matriz S----------------\n",
      "⎡       1.0         0.658957120044946⎤\n",
      "⎢                                    ⎥\n",
      "⎣0.658957120044946         1.0       ⎦\n",
      "----------------Matriz H----------------\n",
      "⎡ -1.1200511416181   -0.957732220993301⎤\n",
      "⎢                                      ⎥\n",
      "⎣-0.957732220993301   -1.1200511416181 ⎦\n"
     ]
    }
   ],
   "source": [
    "wfn = psi4.core.Wavefunction.build(H2)\n",
    "mints = psi4.core.MintsHelper(wfn.basisset())\n",
    "\n",
    "S = np.asarray(mints.ao_overlap())\n",
    "print(\"----------------Matriz S----------------\")\n",
    "sp.pprint(sp.Matrix(S))\n",
    "\n",
    "T = np.asarray(mints.ao_kinetic())\n",
    "V = np.asarray(mints.ao_potential())\n",
    "H=T+V\n",
    "print(\"----------------Matriz H----------------\")\n",
    "sp.pprint(sp.Matrix(H))\n",
    "\n",
    "I = np.asarray(mints.ao_eri())\n",
    "#print(\"Integrales (ij|kl):\")\n",
    "#print(I)\n",
    "\n",
    "nbf = S.shape[0]\n",
    "ndocc = wfn.nalpha()\n",
    "#print(nbf)\n",
    "#print(ndocc)"
   ]
  },
  {
   "cell_type": "markdown",
   "metadata": {},
   "source": [
    "**Paso 3.** Proponer una matriz C."
   ]
  },
  {
   "cell_type": "code",
   "execution_count": 5,
   "metadata": {},
   "outputs": [
    {
     "name": "stdout",
     "output_type": "stream",
     "text": [
      "[[0. 0.]\n",
      " [0. 0.]]\n"
     ]
    }
   ],
   "source": [
    "C = np.zeros((nbf,nbf))\n",
    "print(C)"
   ]
  },
  {
   "cell_type": "markdown",
   "metadata": {},
   "source": [
    "- **Paso 4.** Calcular $P$, $J$ y $K$.\n",
    "\n",
    "$$\n",
    "P_{\\mu \\nu} = \\sum_a^{N/2} C_{\\mu a} C_{\\nu a}^*\n",
    "$$\n",
    "\n",
    "$$\n",
    "J_{\\mu \\nu} = \\sum_{\\lambda \\sigma} P_{\\lambda \\sigma} (\\mu \\nu | \\sigma \\lambda)\n",
    "$$\n",
    "\n",
    "$$\n",
    "K_{\\mu \\nu} = \\sum_{\\lambda \\sigma} P_{\\lambda \\sigma} (\\mu \\lambda | \\sigma \\nu)\n",
    "$$\n",
    "\n",
    "- **Paso 5.** Calcular $F=H+2J-K$\n",
    "- **Paso 6.** Resolver $FC=SC\\varepsilon$\n",
    "- **Paso 7.** $E_{elec} = \\sum_\\mu \\sum_\\nu P_{\\nu \\mu}(H_{\\mu \\nu} + F_{\\mu \\nu})$\n",
    "- **Paso 8.** ¿$E_i=E_{i-1}$?, Sí: acabé. No: volver a paso 4."
   ]
  },
  {
   "cell_type": "code",
   "execution_count": 6,
   "metadata": {},
   "outputs": [
    {
     "name": "stdout",
     "output_type": "stream",
     "text": [
      "---------------------------------ITERACION---------------------------------\n",
      "------------Matriz C Entrada------------\n",
      "⎡0.0  0.0⎤\n",
      "⎢        ⎥\n",
      "⎣0.0  0.0⎦\n",
      "----------------Matriz P----------------\n",
      "⎡0.0  0.0⎤\n",
      "⎢        ⎥\n",
      "⎣0.0  0.0⎦\n",
      "----------------Matriz J----------------\n",
      "⎡0.0  0.0⎤\n",
      "⎢        ⎥\n",
      "⎣0.0  0.0⎦\n",
      "----------------Matriz K----------------\n",
      "⎡0.0  0.0⎤\n",
      "⎢        ⎥\n",
      "⎣0.0  0.0⎦\n",
      "----------------Matriz F----------------\n",
      "⎡ -1.1200511416181   -0.957732220993301⎤\n",
      "⎢                                      ⎥\n",
      "⎣-0.957732220993301   -1.1200511416181 ⎦\n",
      "-------------Matriz C Salida-------------\n",
      "⎡-0.548993777224474  1.21082257257642 ⎤\n",
      "⎢                                     ⎥\n",
      "⎣-0.548993777224474  -1.21082257257642⎦\n",
      "Energia Electronica:  0.0\n",
      "---------------------------------ITERACION---------------------------------\n",
      "------------Matriz C Entrada------------\n",
      "⎡-0.548993777224474  1.21082257257642 ⎤\n",
      "⎢                                     ⎥\n",
      "⎣-0.548993777224474  -1.21082257257642⎦\n",
      "----------------Matriz P----------------\n",
      "⎡0.301394167431195  0.301394167431195⎤\n",
      "⎢                                    ⎥\n",
      "⎣0.301394167431195  0.301394167431195⎦\n",
      "----------------Matriz J----------------\n",
      "⎡0.672609505784481  0.446338435442644⎤\n",
      "⎢                                    ⎥\n",
      "⎣0.446338435442644  0.672609505784481⎦\n",
      "----------------Matriz K----------------\n",
      "⎡0.590387599244941  0.528560341982183⎤\n",
      "⎢                                    ⎥\n",
      "⎣0.528560341982183  0.590387599244941⎦\n",
      "----------------Matriz F----------------\n",
      "⎡-0.36521972929408   -0.593615692090197⎤\n",
      "⎢                                      ⎥\n",
      "⎣-0.593615692090197  -0.36521972929408 ⎦\n",
      "-------------Matriz C Salida-------------\n",
      "⎡-0.548993777224474  -1.21082257257642⎤\n",
      "⎢                                     ⎥\n",
      "⎣-0.548993777224474  1.21082257257642 ⎦\n",
      "Energia Electronica:  -1.8304383804166122\n",
      "---------------------------------ITERACION---------------------------------\n",
      "------------Matriz C Entrada------------\n",
      "⎡-0.548993777224474  -1.21082257257642⎤\n",
      "⎢                                     ⎥\n",
      "⎣-0.548993777224474  1.21082257257642 ⎦\n",
      "----------------Matriz P----------------\n",
      "⎡0.301394167431195  0.301394167431195⎤\n",
      "⎢                                    ⎥\n",
      "⎣0.301394167431195  0.301394167431195⎦\n",
      "----------------Matriz J----------------\n",
      "⎡0.672609505784481  0.446338435442644⎤\n",
      "⎢                                    ⎥\n",
      "⎣0.446338435442644  0.672609505784481⎦\n",
      "----------------Matriz K----------------\n",
      "⎡0.590387599244941  0.528560341982183⎤\n",
      "⎢                                    ⎥\n",
      "⎣0.528560341982183  0.590387599244941⎦\n",
      "----------------Matriz F----------------\n",
      "⎡-0.36521972929408   -0.593615692090197⎤\n",
      "⎢                                      ⎥\n",
      "⎣-0.593615692090197  -0.36521972929408 ⎦\n",
      "-------------Matriz C Salida-------------\n",
      "⎡-0.548993777224474  -1.21082257257642⎤\n",
      "⎢                                     ⎥\n",
      "⎣-0.548993777224474  1.21082257257642 ⎦\n",
      "Energia Electronica:  -1.8304383804166122\n"
     ]
    }
   ],
   "source": [
    "E_old = -1.0\n",
    "converged=False\n",
    "\n",
    "while(not converged):\n",
    "    print(\"---------------------------------ITERACION---------------------------------\")  \n",
    "\n",
    "    print(\"------------Matriz C Entrada------------\")\n",
    "    sp.pprint(sp.Matrix(C))    \n",
    "    \n",
    "    #Paso 4. Calcular P, J y K\n",
    "    P = np.zeros((nbf,nbf))\n",
    "    for i in range(nbf):\n",
    "        for j in range(nbf):\n",
    "            for k in range(ndocc):\n",
    "                    P[i][j] = P[i][j] + C[i][k]*C[j][k]\n",
    "    print(\"----------------Matriz P----------------\")\n",
    "    sp.pprint(sp.Matrix(P))\n",
    "                    \n",
    "    J = np.zeros((nbf,nbf))\n",
    "    for i in range(nbf):\n",
    "        for j in range(nbf):\n",
    "            for k in range(nbf):\n",
    "                for l in range(nbf):\n",
    "                    J[i][j] = J[i][j] + P[k][l]*I[i][j][l][k]\n",
    "    print(\"----------------Matriz J----------------\")\n",
    "    sp.pprint(sp.Matrix(J))\n",
    "                    \n",
    "    K = np.zeros((nbf,nbf))\n",
    "    for i in range(nbf):\n",
    "        for j in range(nbf):\n",
    "            for k in range(nbf):\n",
    "                for l in range(nbf):\n",
    "                    K[i][j] = K[i][j] + P[k][l]*I[i][l][k][j]         \n",
    "    print(\"----------------Matriz K----------------\")\n",
    "    sp.pprint(sp.Matrix(K))                    \n",
    "\n",
    "    #Paso 5. Calcular F = H + 2J - K\n",
    "    F = H + 2*J - K\n",
    "    print(\"----------------Matriz F----------------\")\n",
    "    sp.pprint(sp.Matrix(F))\n",
    "    \n",
    "    #Paso 6. Resolver FC=SCE\n",
    "    E,C = eigh(F, S, eigvals_only=False)\n",
    "    print(\"-------------Matriz C Salida-------------\")\n",
    "    sp.pprint(sp.Matrix(C))\n",
    "    \n",
    "    #Paso 7. Calcular E=sum_i sum_j P_ji (H_ij+F_ij)\n",
    "    E_elec = 0.0\n",
    "    for i in range(nbf):\n",
    "        for j in range(nbf):\n",
    "            E_elec = E_elec + P[j][i]*(H[i][j] + F[i][j])\n",
    "\n",
    "    \n",
    "    print(\"Energia Electronica: \",E_elec)\n",
    "\n",
    "    #Paso 8. ¿$E_i=E_{i-1}$?, Si: acabe. No: volver a paso 4.\n",
    "    if(abs(E_old - E_elec)< 0.0000001):\n",
    "        converged = True\n",
    "    else:\n",
    "        E_old = E_elec\n",
    "        "
   ]
  },
  {
   "cell_type": "markdown",
   "metadata": {},
   "source": [
    "**Paso 9.** Calcular energía nuclear y sumarla a la energía electrónica.\n",
    "\n",
    "$$\n",
    "E_{\\rm nuc} = \\sum_{A>B}\\frac{Z_AZ_B}{r_{AB}}\n",
    "$$\n",
    "\n",
    "$$\n",
    "E_{Tot} = E_{elec} + E_{nuc}\n",
    "$$"
   ]
  },
  {
   "cell_type": "code",
   "execution_count": 7,
   "metadata": {},
   "outputs": [
    {
     "name": "stdout",
     "output_type": "stream",
     "text": [
      "Energia nuclear:  0.7137539933504182\n",
      "Energia Total:  -1.116684387066194\n"
     ]
    }
   ],
   "source": [
    "E_nuc = H2.nuclear_repulsion_energy() \n",
    "print(\"Energia nuclear: \", E_nuc)\n",
    "E_T = E_elec + E_nuc\n",
    "print(\"Energia Total: \", E_T)"
   ]
  },
  {
   "cell_type": "markdown",
   "metadata": {},
   "source": [
    "## Método Simple. PSI4"
   ]
  },
  {
   "cell_type": "markdown",
   "metadata": {},
   "source": [
    "Geometría del agua\n",
    "\n",
    "|Átomo|X (A)|Y (A)|Z (A)|\n",
    "|----|----|----|----|\n",
    "|H|0.0000|0.0000|0.0000|\n",
    "|H|0.0000|0.0000|0.7414|\n"
   ]
  },
  {
   "cell_type": "code",
   "execution_count": 8,
   "metadata": {},
   "outputs": [],
   "source": [
    "import psi4"
   ]
  },
  {
   "cell_type": "code",
   "execution_count": 9,
   "metadata": {},
   "outputs": [],
   "source": [
    "H2 = psi4.geometry(\"\"\"\n",
    "0 1\n",
    "H 0.0000  0.0000 0.0000\n",
    "H 0.0000  0.0000 0.7414 \n",
    "units angstrom\n",
    "\"\"\")"
   ]
  },
  {
   "cell_type": "code",
   "execution_count": 10,
   "metadata": {},
   "outputs": [
    {
     "data": {
      "image/png": "[encoded data removed]",
      "text/latex": [
       "$\\displaystyle -1.1279712477294224$"
      ],
      "text/plain": [
       "-1.1279712477294224"
      ]
     },
     "execution_count": 10,
     "metadata": {
      "filenames": {
       "image/png": "/home/jfhlewyee/Cuantica-I/_build/jupyter_execute/Hartree-Fock_19_0.png"
      }
     },
     "output_type": "execute_result"
    }
   ],
   "source": [
    "psi4.energy(\"HF/6-311G\")"
   ]
  },
  {
   "cell_type": "markdown",
   "metadata": {},
   "source": [
    "## Referencias"
   ]
  },
  {
   "cell_type": "markdown",
   "metadata": {},
   "source": [
    "- Szabo, A.; Ostlund, N. S. Modern Quantum Chemistry: Introduction to Advanced Electronic Structure Theory; Dover Publications: Mineola, N.Y, 1996."
   ]
  }
 ],
 "metadata": {
  "kernelspec": {
   "display_name": "Python 3",
   "language": "python",
   "name": "python3"
  },
  "language_info": {
   "codemirror_mode": {
    "name": "ipython",
    "version": 3
   },
   "file_extension": ".py",
   "mimetype": "text/x-python",
   "name": "python",
   "nbconvert_exporter": "python",
   "pygments_lexer": "ipython3",
   "version": "3.7.9"
  }
 },
 "nbformat": 4,
 "nbformat_minor": 2
}