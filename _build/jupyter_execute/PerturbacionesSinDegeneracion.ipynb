{
 "cells": [
  {
   "cell_type": "markdown",
   "metadata": {},
   "source": [
    "# Teoría de perturbaciones (niveles de energía no degenerados)"
   ]
  },
  {
   "cell_type": "markdown",
   "metadata": {},
   "source": [
    "La teoría de perturbaciones es el segundo método de aproximacón más utilizado en la Química Cuántica, después del método variacional.\n",
    "\n",
    "El objetivo es determinar una solución aproximada a la ecuación de Schrödinger para un Hamiltoniano $\\hat{H}$. La suposición importante en la teoría de perturbaciones es que $\\hat{H}$ es un poco diferente de un Hamiltoniano $\\hat{H}^{(0)}$ del cual conocemos su solución; es decir, conocemos sus eigenfunciones y eigenvalores. Esto es \n",
    "\n",
    "$$\n",
    "\\hat{H}^{(0)} \\Psi_n^{(0)} = E_n^{(0)}  \\Psi_n^{(0)}\n",
    "$$\n",
    "\n",
    "donde tanto $E_n^{(0)}$ y $\\Psi_n^{(0)}$ son conocidos. La diferencia entre $\\hat{H}$ y $\\hat{H}^{(0)}$ se llama la perturbación y la denotamos por $\\hat{H}'$, esto es\n",
    "\n",
    "$$\n",
    "\\hat{H}' = \\hat{H}-\\hat{H}^{(0)}\n",
    "$$\n",
    "\n",
    "El método presentado en este notebook tiene la suposición los niveles de energía $\\big\\{ E_n^{(0)}\\big\\}$ no están degenerados.\n",
    "\n",
    "Proponemos una solución en serie aproximada a los eigenvalores ($E_n$) y eigenfunciones ($\\Psi_n$) de $\\hat{H}$ en términos de $E_n^{(0)}$ y $\\Psi_n^{(0)}$ y correcciones a dichos valores. De tal foma que tenemos,\n",
    "\n",
    "\\begin{eqnarray}\n",
    "E_n &=E_n^{(0)}+ E_n^{(1)} + E_n^{(2)} +\\ldots \\\\\n",
    "\\Psi_n& = \\Psi_n^{(0)}+\\Psi^{(1)}+\\Psi^{(2)}+\\ldots\n",
    "\\end{eqnarray}\n",
    "\n",
    "Con el fin de escribir las expresiones para las diferentes correcciones introducimos la notación para los elementos de matriz de la perturbación, ($\\hat{H}'$),\n",
    "\n",
    "$$\n",
    "\\hat{H}'_{m,n} = \\langle \\Psi_m^{(0)} | \\hat{H}' | \\Psi_n^{(0)} \\rangle = \\int \\big( \\Psi_m^{(0)} \\big)^* \\hat{H}' \\Psi_n ^{(0)} \\,dq\n",
    "$$\n",
    "\n",
    "donde $\\Psi_n^{(0)}(q)$ son la eigenfunciones que conocemos de $\\hat{H}^{(0)}$ y hemos denoatdo por $q$ a las coordenadas de las que dependen.\n",
    "\n",
    "En términos de los elementos de matriz de $\\hat{H}'$ tenemos,\n",
    "\n",
    "$$\n",
    "E_n \\approx E_n^{(0)} +H'_{n,n} + \\sum_{m \\neq n } \\frac{|H'_{m,n}|^2}{E_n^{(0)}-E_m^{(0)}}\n",
    "$$\n",
    "\n",
    "y\n",
    "\n",
    "$$\n",
    "\\Psi_n \\approx \\Psi_n^{(0)} + \\sum_{m\\neq n} \\frac{\\hat{H}'_{m,n}}{E_n^{(0)}-E_m^{(0)}} \\Psi_m^{(0)}\n",
    "$$\n",
    "\n",
    "---"
   ]
  },
  {
   "cell_type": "markdown",
   "metadata": {},
   "source": [
    "## Ejemplo-Oscilador anarmónico\n",
    "En Hamiltoniano del oscilador anarmónico de una partícula en una dimensión es:\n",
    "\n",
    "\\begin{eqnarray}\n",
    "\\hat{H} = \\underbrace{-\\frac{\\hbar^2}{2m} \\frac{d^2}{dx^2} + \\frac{1}{2} k x^2 }_{\\hat{H}^{(0)}} + \\underbrace{cx^3 + dx^4}_{\\hat{H}'}\n",
    "\\end{eqnarray}\n",
    "\n",
    "Los eigenvalores y eigenfunciones del oscilador armónico son:\n",
    "\n",
    "\\begin{align}\n",
    "E_n^{(0)} = \\bigg(n+\\frac{1}{2}\\bigg) h\\nu\n",
    "\\end{align}\n",
    "\n",
    "\\begin{align}\n",
    "\\Psi_n^{(0)} (x) = \\frac{1}{\\sqrt{2^n n !}} \\bigg( \\frac{\\alpha}{\\pi} \\bigg)^{1/4} e^{-\\alpha x^2/2 } H_n\\bigg( \\alpha^{1/2}\\,x \\bigg)\n",
    "\\end{align}\n",
    "\n",
    "donde  $\\alpha = 2\\pi\\nu m /\\hbar$ y \n",
    "\n",
    "\\begin{align}\n",
    "\\nu = \\frac{1}{2\\pi }\\bigg( \\frac{k}{m}  \\bigg)^{1/2}\n",
    "\\end{align}\n",
    "\n",
    "Realicemos numéricamente el cáculo de los elementos de matriz. "
   ]
  },
  {
   "cell_type": "code",
   "execution_count": 1,
   "metadata": {
    "execution": {
     "iopub.execute_input": "2020-09-05T20:57:27.935081Z",
     "iopub.status.busy": "2020-09-05T20:57:27.933606Z",
     "iopub.status.idle": "2020-09-05T20:57:28.223664Z",
     "shell.execute_reply": "2020-09-05T20:57:28.224185Z"
    }
   },
   "outputs": [],
   "source": [
    "from pylab import *\n",
    "from scipy.special import factorial\n",
    "from scipy.special import eval_hermite as Hn"
   ]
  },
  {
   "cell_type": "code",
   "execution_count": 2,
   "metadata": {
    "execution": {
     "iopub.execute_input": "2020-09-05T20:57:28.232423Z",
     "iopub.status.busy": "2020-09-05T20:57:28.231554Z",
     "iopub.status.idle": "2020-09-05T20:57:28.235556Z",
     "shell.execute_reply": "2020-09-05T20:57:28.235963Z"
    }
   },
   "outputs": [
    {
     "name": "stdout",
     "output_type": "stream",
     "text": [
      "    ν  = 6.504e+13 [Hz]\n",
      "√(1/α) = 4.760e-12 [m]\n",
      "E0^(0) = 0.135 [eV]\n"
     ]
    }
   ],
   "source": [
    "π = pi\n",
    "k = 1902.5             # [ N·m^{-1}]  constante de fuerza del CO\n",
    "m = 1.1391e-26         # [kg] masa reducida de C-O\n",
    "ħ = 1.0545718e-34      # [J·s] \n",
    "h = 2*pi*ħ\n",
    "e = 1.602e-19\n",
    "ν = 0.5*sqrt( k/m )/π\n",
    "α = 2*π*ν*m/ħ          # [m^{-2}]\n",
    "\n",
    "print (\"    ν  = {0:.3e} [Hz]\".format(ν))\n",
    "print (\"√(1/α) = {0:.3e} [m]\".format(1/sqrt(α)))\n",
    "\n",
    "# n -> nivel de energía\n",
    "n   = 0\n",
    "\n",
    "# Definimos una función que nos de la eigenenergía del \n",
    "# oscilado armónico\n",
    "def eigenEn0(n):\n",
    "    return (n+0.5) *h*ν\n",
    "\n",
    "E00 = eigenEn0(0)\n",
    "\n",
    "print (\"E0^(0) = {0:.3f} [eV]\".format(E00/e))\n",
    "# Notemos que al imprimir el valor de E00 dividimos\n",
    "# por la carga elemental para obtener las unidades de eV.\n",
    "\n",
    "\n",
    "# La longitud (1/α)^{1/2} es característica de las eigenfunciones \n",
    "# por lo que es un buen parámetro para determinar el intervalo de \n",
    "# los valores de x.\n",
    "\n",
    "x   = linspace(-10/sqrt(α),10/sqrt(α),10000)\n",
    "\n",
    "# Definimos la función que nos devuelva la eigenfunción \n",
    "# del oscilador armónico\n",
    "def funcΨ0n(n,x):\n",
    "    return ( 1/sqrt(2**n*factorial(n)) )*( (α/π)**(0.25) )*exp(-α*x*x/2)*Hn(n,sqrt(α)*x)\n",
    "\n",
    "Ψ0n = funcΨ0n(n,x)"
   ]
  },
  {
   "cell_type": "code",
   "execution_count": 3,
   "metadata": {
    "execution": {
     "iopub.execute_input": "2020-09-05T20:57:28.239785Z",
     "iopub.status.busy": "2020-09-05T20:57:28.239094Z",
     "iopub.status.idle": "2020-09-05T20:57:28.242003Z",
     "shell.execute_reply": "2020-09-05T20:57:28.242394Z"
    }
   },
   "outputs": [
    {
     "name": "stdout",
     "output_type": "stream",
     "text": [
      "Integral: 1.000\n"
     ]
    }
   ],
   "source": [
    "# Podemos verificar que las eigenfunciones están normalizadas utilizando la regla del trapecio\n",
    "# Notemos que las eigenfunciones son reales por lo que Ψ*(x) = Ψ(x)\n",
    "Ψ2       = Ψ0n*Ψ0n\n",
    "Integral = trapz(Ψ2,x)\n",
    "print (\"Integral: {0:.3f}\".format(Integral))"
   ]
  },
  {
   "cell_type": "markdown",
   "metadata": {},
   "source": [
    "**Procedemos a evaluar los elementos de matriz**"
   ]
  },
  {
   "cell_type": "code",
   "execution_count": 4,
   "metadata": {
    "execution": {
     "iopub.execute_input": "2020-09-05T20:57:28.247699Z",
     "iopub.status.busy": "2020-09-05T20:57:28.247182Z",
     "iopub.status.idle": "2020-09-05T20:57:28.679038Z",
     "shell.execute_reply": "2020-09-05T20:57:28.679440Z"
    }
   },
   "outputs": [],
   "source": [
    "# Definimos la perturbación H'\n",
    "c  = 600; d = 1e-4*(α*k*k)/4\n",
    "\n",
    "Hp = c*x**3 + d*x**4\n",
    "\n",
    "# Construimos los elementos de matriz de H'_{m,n}\n",
    "# Notemos que numericamente la matriz numericamente\n",
    "# tiene un tamaño finito\n",
    "m_max = 20\n",
    "\n",
    "# Definimos la función que evalúa\n",
    "def ElementoMatriz(m,n,x):\n",
    "    Ψm0 = funcΨ0n(m,x)\n",
    "    Ψn0 = funcΨ0n(n,x)\n",
    "    Int = trapz( Ψm0*Hp*Ψn0,x )\n",
    "    return Int\n",
    "\n",
    "matrizHp = zeros((m_max,m_max))\n",
    "\n",
    "for m in range(m_max):\n",
    "    for mm in range(m_max):\n",
    "        matrizHp[(m,mm)] = ElementoMatriz(m,mm,x)"
   ]
  },
  {
   "cell_type": "code",
   "execution_count": 5,
   "metadata": {
    "execution": {
     "iopub.execute_input": "2020-09-05T20:57:28.695122Z",
     "iopub.status.busy": "2020-09-05T20:57:28.694613Z",
     "iopub.status.idle": "2020-09-05T20:57:29.509824Z",
     "shell.execute_reply": "2020-09-05T20:57:29.509377Z"
    }
   },
   "outputs": [
    {
     "data": {
      "image/png": "[encoded data removed]",
      "text/plain": [
       "<Figure size 432x288 with 2 Axes>"
      ]
     },
     "metadata": {
      "filenames": {
       "image/png": "/home/jfhlewyee/Cuantica-I/_build/jupyter_execute/PerturbacionesSinDegeneracion_8_0.png"
      },
      "needs_background": "light"
     },
     "output_type": "display_data"
    }
   ],
   "source": [
    "# Las matrices se pueden visulizar utilizando un mapa de colores\n",
    "plotM = imshow(matrizHp/e,cmap=\"Greys\");\n",
    "plt.colorbar(label=\"$H'_{mn} [eV]$\");\n",
    "# Notamos como los valores distinto de cero están cerca de la diagonal\n",
    "# lo cual es típico en la teoría de perturbaciones"
   ]
  },
  {
   "cell_type": "markdown",
   "metadata": {},
   "source": [
    "---"
   ]
  },
  {
   "cell_type": "markdown",
   "metadata": {},
   "source": [
    "### Ejercicio 1.\n",
    "La corrección a primer orden de la energía de la energía del estado base es,\n",
    "\\begin{align}\n",
    "E_0^{(1)} = \\frac{3d}{4\\alpha²} = \\frac{3dh^2}{64\\pi^4 \\nu^2 m^2}\n",
    "\\end{align}\n",
    "¿Podría verificarla numéricamente?"
   ]
  },
  {
   "cell_type": "code",
   "execution_count": 6,
   "metadata": {
    "execution": {
     "iopub.execute_input": "2020-09-05T20:57:29.515154Z",
     "iopub.status.busy": "2020-09-05T20:57:29.514541Z",
     "iopub.status.idle": "2020-09-05T20:57:29.517102Z",
     "shell.execute_reply": "2020-09-05T20:57:29.517698Z"
    }
   },
   "outputs": [
    {
     "name": "stdout",
     "output_type": "stream",
     "text": [
      "E0^(1) = 9.597e-03 [eV]\n",
      "E0^(1) = 9.597e-03 [eV]\n",
      "E0^(0) = 1.345e-01 [eV]\n",
      "    En ≈ 1.441e-01 [eV]\n"
     ]
    }
   ],
   "source": [
    "# Solución\n",
    "\n",
    "# De acuerdo con la expresión analítica\n",
    "E01analitico = 3*d/4/α/α\n",
    "print (\"E0^(1) = {0:.3e} [eV]\".format(E01analitico/e))\n",
    "\n",
    "# De la teoría de perturbaciones tenemos que\n",
    "# E0^(1) = H'_{0,0}\n",
    "E01numerico = matrizHp[(0,0)]\n",
    "print (\"E0^(1) = {0:.3e} [eV]\".format(E01numerico/e))\n",
    "\n",
    "E00 = eigenEn0(0)\n",
    "\n",
    "print (\"E0^(0) = {0:.3e} [eV]\".format(E00/e))\n",
    "\n",
    "# Por tanto la aproximación a primer orden en la energía es:\n",
    "print (\"    En ≈ {0:.3e} [eV]\".format(E00/e + E01numerico/e))\n",
    "# ¿La energía es mayor o menor a la del oscilador armónico?"
   ]
  },
  {
   "cell_type": "markdown",
   "metadata": {},
   "source": [
    "### Ejercicio 2.\n",
    "Podría calcular la corrección a primer orden del primer nivel excitado del oscilador armónico."
   ]
  },
  {
   "cell_type": "code",
   "execution_count": 7,
   "metadata": {
    "execution": {
     "iopub.execute_input": "2020-09-05T20:57:29.523082Z",
     "iopub.status.busy": "2020-09-05T20:57:29.522353Z",
     "iopub.status.idle": "2020-09-05T20:57:29.525030Z",
     "shell.execute_reply": "2020-09-05T20:57:29.525453Z"
    }
   },
   "outputs": [
    {
     "name": "stdout",
     "output_type": "stream",
     "text": [
      "E1^(1) = 4.798e-02 [eV]\n",
      "E1^(0) = 4.035e-01 [eV]\n",
      "    En ≈ 4.515e-01 [eV]\n"
     ]
    }
   ],
   "source": [
    "# Solución\n",
    "\n",
    "# De la teoría de perturbaciones tenemos que\n",
    "# E1^(1) = H'_{1,1}\n",
    "E11numerico = matrizHp[(1,1)]\n",
    "print (\"E1^(1) = {0:.3e} [eV]\".format(E11numerico/e))\n",
    "\n",
    "E10 = eigenEn0(1)\n",
    "\n",
    "print (\"E1^(0) = {0:.3e} [eV]\".format(E10/e))\n",
    "\n",
    "# Por tanto la aproximación a primer orden en la energía es:\n",
    "print (\"    En ≈ {0:.3e} [eV]\".format(E10/e + E11numerico/e))\n",
    "# ¿La energía es mayor o menor a la del oscilador armónico?"
   ]
  },
  {
   "cell_type": "markdown",
   "metadata": {},
   "source": [
    "### Ejercicio 3.\n",
    "Realiza un gráfico de los primeros 5 niveles de energía del oscilador armónico y los niveles con la primera corrección a la energía."
   ]
  },
  {
   "cell_type": "code",
   "execution_count": 8,
   "metadata": {
    "execution": {
     "iopub.execute_input": "2020-09-05T20:57:29.530136Z",
     "iopub.status.busy": "2020-09-05T20:57:29.529460Z",
     "iopub.status.idle": "2020-09-05T20:57:29.532238Z",
     "shell.execute_reply": "2020-09-05T20:57:29.531594Z"
    }
   },
   "outputs": [],
   "source": [
    "# Solución\n",
    "\n",
    "En1numerico = array( [ matrizHp[n,n] for n in range(5) ] )\n",
    "\n",
    "En0         = array( [ eigenEn0(n) for n in range(5) ] )\n",
    "\n",
    "Enapprox    = En0 + En1numerico"
   ]
  },
  {
   "cell_type": "code",
   "execution_count": 9,
   "metadata": {
    "execution": {
     "iopub.execute_input": "2020-09-05T20:57:29.552255Z",
     "iopub.status.busy": "2020-09-05T20:57:29.551703Z",
     "iopub.status.idle": "2020-09-05T20:57:29.676266Z",
     "shell.execute_reply": "2020-09-05T20:57:29.675732Z"
    }
   },
   "outputs": [
    {
     "data": {
      "text/plain": [
       "Text(0, 0.5, '$E [eV]$')"
      ]
     },
     "execution_count": 9,
     "metadata": {},
     "output_type": "execute_result"
    },
    {
     "data": {
      "image/png": "[encoded data removed]",
      "text/plain": [
       "<Figure size 432x288 with 1 Axes>"
      ]
     },
     "metadata": {
      "filenames": {
       "image/png": "/home/jfhlewyee/Cuantica-I/_build/jupyter_execute/PerturbacionesSinDegeneracion_16_1.png"
      },
      "needs_background": "light"
     },
     "output_type": "display_data"
    }
   ],
   "source": [
    "for n in range(5):\n",
    "    plot( [0,1],[En0[n]/e,En0[n]/e],c='k' )\n",
    "    plot( [0,1],[Enapprox[n]/e,Enapprox[n]/e],c='r' )\n",
    "    text(-0.5,En0[n]/e,\"n={0}\".format(n))\n",
    "    text( 1.1,Enapprox[n]/e,\"n={0}\".format(n),color='r')\n",
    "xlim(-2,3)\n",
    "xticks([])\n",
    "ylabel(\"$E [eV]$\")"
   ]
  },
  {
   "cell_type": "markdown",
   "metadata": {},
   "source": [
    "### Corrección a segundo orden\n",
    "\n",
    "De la teoría de perturbaciones tenemos que \n",
    "\\begin{align}\n",
    "E_n ^{(2)}=\\sum_{m \\neq n } \\frac{|H'_{m,n}|^2}{E_n^{(0)}-E_m^{(0)}}\n",
    "\\end{align}"
   ]
  },
  {
   "cell_type": "code",
   "execution_count": 10,
   "metadata": {
    "execution": {
     "iopub.execute_input": "2020-09-05T20:57:29.692909Z",
     "iopub.status.busy": "2020-09-05T20:57:29.692035Z",
     "iopub.status.idle": "2020-09-05T20:57:29.894149Z",
     "shell.execute_reply": "2020-09-05T20:57:29.894555Z"
    }
   },
   "outputs": [
    {
     "data": {
      "image/png": "[encoded data removed]",
      "text/plain": [
       "<Figure size 432x288 with 2 Axes>"
      ]
     },
     "metadata": {
      "filenames": {
       "image/png": "/home/jfhlewyee/Cuantica-I/_build/jupyter_execute/PerturbacionesSinDegeneracion_18_0.png"
      },
      "needs_background": "light"
     },
     "output_type": "display_data"
    }
   ],
   "source": [
    "# Previamente realizamos el gráfico de los elementos de matriz\n",
    "\n",
    "# Las matrices se pueden visulizar utilizando un mapa de colores\n",
    "plotM = imshow(matrizHp/e,cmap=\"Greys\");\n",
    "plt.colorbar(label=\"$H'_{mn} [eV]$\");\n",
    "# Notamos como los valores distinto de cero están cerca de la diagonal\n",
    "# lo cual es típico en la teoría de perturbaciones"
   ]
  },
  {
   "cell_type": "code",
   "execution_count": 11,
   "metadata": {
    "execution": {
     "iopub.execute_input": "2020-09-05T20:57:29.899236Z",
     "iopub.status.busy": "2020-09-05T20:57:29.898608Z",
     "iopub.status.idle": "2020-09-05T20:57:29.900774Z",
     "shell.execute_reply": "2020-09-05T20:57:29.901304Z"
    }
   },
   "outputs": [],
   "source": [
    "# Sin embargo, los términos a sumar son los elementos de matriz \n",
    "# al cuadrado dividos por la diferencia de energía del nivel a corregir.\n",
    "\n",
    "# Analicemos los términos de la suma cuando n = 0, es decir el estado base\n",
    "n   = 0\n",
    "E00 = eigenEn0(0) \n",
    "# Dado que las eigenfunciones son reales no tenemos que tomar el conjugado\n",
    "Sumandos = array( [ matrizHp[(m,n)]*matrizHp[(m,n)]/( eigenEn0(n)-eigenEn0(m) ) \\\n",
    "                    for m in range(m_max) if m != n ] )"
   ]
  },
  {
   "cell_type": "code",
   "execution_count": 12,
   "metadata": {
    "execution": {
     "iopub.execute_input": "2020-09-05T20:57:29.918012Z",
     "iopub.status.busy": "2020-09-05T20:57:29.917489Z",
     "iopub.status.idle": "2020-09-05T20:57:30.041995Z",
     "shell.execute_reply": "2020-09-05T20:57:30.042427Z"
    }
   },
   "outputs": [
    {
     "data": {
      "text/plain": [
       "Text(0.5, 0, 'm')"
      ]
     },
     "execution_count": 12,
     "metadata": {},
     "output_type": "execute_result"
    },
    {
     "data": {
      "image/png": "[encoded data removed]",
      "text/plain": [
       "<Figure size 432x288 with 1 Axes>"
      ]
     },
     "metadata": {
      "filenames": {
       "image/png": "/home/jfhlewyee/Cuantica-I/_build/jupyter_execute/PerturbacionesSinDegeneracion_20_1.png"
      },
      "needs_background": "light"
     },
     "output_type": "display_data"
    }
   ],
   "source": [
    "# Grafiquemos los sumandos\n",
    "plot(range(1,m_max),Sumandos/e,'o-');\n",
    "xticks([1,2,3,4,5,6,7]);\n",
    "ylabel(\"$E$ [eV]\")\n",
    "xlabel(\"m\")\n",
    "\n",
    "#Podemos notar en este caso que la mayor corrección al estado base proviene del nivel n = 2"
   ]
  },
  {
   "cell_type": "code",
   "execution_count": 13,
   "metadata": {
    "execution": {
     "iopub.execute_input": "2020-09-05T20:57:30.046125Z",
     "iopub.status.busy": "2020-09-05T20:57:30.045592Z",
     "iopub.status.idle": "2020-09-05T20:57:30.047855Z",
     "shell.execute_reply": "2020-09-05T20:57:30.048258Z"
    }
   },
   "outputs": [
    {
     "name": "stdout",
     "output_type": "stream",
     "text": [
      " Máximo valor de los sumandos: -3.143e-41\n"
     ]
    }
   ],
   "source": [
    "# Notamos que los sumandos siempre son negativos para el estado base\n",
    "print (\" Máximo valor de los sumandos: {0:.3e}\".format( max(Sumandos)/e ))"
   ]
  },
  {
   "cell_type": "markdown",
   "metadata": {},
   "source": [
    "### Ejercicio 4.\n",
    "Realiza un gráfico de los primeros 5 niveles de energía del oscilador armónico y los niveles con la segunda corrección a la energía. ¿Es muy diferente al resultado de la corrección a primer orden?"
   ]
  },
  {
   "cell_type": "code",
   "execution_count": 14,
   "metadata": {
    "execution": {
     "iopub.execute_input": "2020-09-05T20:57:30.051461Z",
     "iopub.status.busy": "2020-09-05T20:57:30.050969Z",
     "iopub.status.idle": "2020-09-05T20:57:30.052885Z",
     "shell.execute_reply": "2020-09-05T20:57:30.053306Z"
    }
   },
   "outputs": [],
   "source": [
    "# Solución"
   ]
  }
 ],
 "metadata": {
  "kernelspec": {
   "display_name": "Python 3",
   "language": "python",
   "name": "python3"
  },
  "language_info": {
   "codemirror_mode": {
    "name": "ipython",
    "version": 3
   },
   "file_extension": ".py",
   "mimetype": "text/x-python",
   "name": "python",
   "nbconvert_exporter": "python",
   "pygments_lexer": "ipython3",
   "version": "3.7.7"
  }
 },
 "nbformat": 4,
 "nbformat_minor": 4
}