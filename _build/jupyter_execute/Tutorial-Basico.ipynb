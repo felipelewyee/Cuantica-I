{
 "cells": [
  {
   "cell_type": "markdown",
   "metadata": {},
   "source": [
    "# Tutorial Básico"
   ]
  },
  {
   "cell_type": "markdown",
   "metadata": {},
   "source": [
    "A continuación aprenderá las funciones básicas de Python como declarar una variable, hacer operaciones básicas y utilizar librerías, así como lo necesario para seguir el manual. **Para usarlo es necesario escribir en los cuadros vacíos y presionar el botón Run o las teclas \"Shift\" + \"Enter\".**\n",
    "\n",
    "## Declarando variables\n",
    "\n",
    "````{admonition} Aprendizaje de código\n",
    ":class: important\n",
    "Al igual que en álgebra, en Python se pueden usar variables para **almacenar valores numéricos**. Por ejemplo:\n",
    "```python\n",
    "x = 5.0\n",
    "```\n",
    "````\n",
    "\n",
    "**En el siguiente recuadro declare una variable llamada \"x\" y asígnele el valor que desee, recuerde dar \"shift\"+\"enter\" o Run.**"
   ]
  },
  {
   "cell_type": "code",
   "execution_count": 1,
   "metadata": {},
   "outputs": [],
   "source": [
    "# Declare una variable x"
   ]
  },
  {
   "cell_type": "markdown",
   "metadata": {},
   "source": [
    "````{admonition} Aprendizaje de código\n",
    ":class: important\n",
    "Es posible **ver (o imprimir) el valor de cualquier variable escribiendo**\n",
    "~~~python\n",
    "print(variable)\n",
    "~~~\n",
    "\n",
    "En nuestro ejemplo\n",
    "~~~python\n",
    "print(x)\n",
    "~~~\n",
    "imprimiría el valor 5.0. \n",
    "````\n",
    "\n",
    "**Imprima el valor de la variable que declaró anteriormente**"
   ]
  },
  {
   "cell_type": "code",
   "execution_count": 2,
   "metadata": {},
   "outputs": [],
   "source": [
    "#Imprima el valor de la variable x"
   ]
  },
  {
   "cell_type": "markdown",
   "metadata": {},
   "source": [
    "## Operaciones Básicas"
   ]
  },
  {
   "cell_type": "markdown",
   "metadata": {},
   "source": [
    "````{admonition} Aprendizaje de código\n",
    ":class: important\n",
    "\n",
    "Las operaciones comunes del álgebra también pueden usarse en Python con una sintaxis muy similar.\n",
    "\n",
    "| Operación     |    Álgebra    |    Python    |\n",
    "|:-------------:|:-------------:|:------------:|\n",
    "|Suma           |     $z=x+y$   |       $z=x+y$|\n",
    "|Resta          |     $z=x-y$   |       $z=x-y$|\n",
    "|Multiplicación |   $z=(x)(y)$  |       $x=x*y$|\n",
    "|División       |$z=\\frac{x}{y}$|       $z=x/y$|\n",
    "|Potencia       |     $z=x^{y}$ |      $z=x**y$|\n",
    "\n",
    "En nuestro ejemplo, podemos declarar una nueva variable, hacer las operaciones anteriores, guardar el resultado e imprimirlo.\n",
    "~~~python\n",
    "#Declaramos la variable x\n",
    "x = 5.0\n",
    "#Declaramos la variable y\n",
    "y = 2.0\n",
    "\n",
    "#Hacemos algunas operaciones con nuestras variables x, y; y guardamos el resultado\n",
    "z_suma  = x+y\n",
    "z_resta = x-y\n",
    "z_mult  = x*y\n",
    "z_div   = x/y\n",
    "z_pot   = x**y\n",
    "\n",
    "#Imprimimos los resultados\n",
    "print(\"x\",x,\"y\",y)\n",
    "print(\"suma\",z_suma)\n",
    "print(\"resta\",z_resta)\n",
    "print(\"multiplicación\",z_mult)\n",
    "print(\"división\",z_div)\n",
    "print(\"potencia\",z_pot)\n",
    "~~~\n",
    "\n",
    "Los resultados se almacenan en las variables z_suma, z_resta, z_mult y z_div. Es importante notar que una variable puede tener un nombre más largo que una sola letra; y que también podemos imprimir texto.\n",
    "\n",
    "````\n",
    "\n",
    "**Declare una variable llamada \"y\", asígnele el valor 10.0, calcule las 5 operaciones utilizando su variable ¨ \"x\" previamente definida, e imprima el resultado.**"
   ]
  },
  {
   "cell_type": "code",
   "execution_count": 3,
   "metadata": {},
   "outputs": [],
   "source": [
    "#Declare variable"
   ]
  },
  {
   "cell_type": "markdown",
   "metadata": {},
   "source": [
    "## Librerías"
   ]
  },
  {
   "cell_type": "markdown",
   "metadata": {},
   "source": [
    "La funcionalidad de Python se puede extender utilizando **librerías**. Existen 4 importantes para el curso, **numpy**, **matplotlib**, **scipy** y **sympy**.\n",
    "\n",
    "````{admonition} Aprendizaje de código\n",
    ":class: important\n",
    "\n",
    "Para activar una librería utilizamos la palabra **import**, seguida del nombre de la librería, por ejemplo\n",
    "~~~python\n",
    "import scipy\n",
    "~~~\n",
    "\n",
    "Frecuentemente utilizamos un alias para asignarle un nombre más corto a la librería. Esto se realiza con la palabra **as** seguida del **alias**.\n",
    "~~~python\n",
    "import numpy as np\n",
    "import sympy as sym\n",
    "~~~\n",
    "\n",
    "También podemos tomar partes específicas de una librería, para ello utilizamos la palabra **from**. Por ejemplo, importaremos el subpaquete pyplot de la librería matplotlib, la cual nos sirve para graficar, y lo renombraremos como plt.\n",
    "~~~python\n",
    "from matplotlib import pyplot as plt\n",
    "~~~\n",
    "\n",
    "````\n",
    "\n",
    "**Copie y pegue las instrucciones anteriores en el recuadro para importar las librerías** numpy, matplotlib, scipy y sympy."
   ]
  },
  {
   "cell_type": "code",
   "execution_count": 4,
   "metadata": {},
   "outputs": [],
   "source": [
    "#Importe librerías"
   ]
  },
  {
   "cell_type": "markdown",
   "metadata": {},
   "source": [
    "````{admonition} Aprendizaje de código\n",
    ":class: important\n",
    "Utilizaremos numpy para obtener la raíz cuadrada de la variable x. Para ello llamaremos a la función sqrt de la librería numpy, esto se realiza escribiendo el nombre de la librería, seguido por un punto, seguido del nombre de la función a usar.\n",
    "~~~python\n",
    "x = 5.0\n",
    "raiz = np.sqrt(x)\n",
    "print(raiz)\n",
    "~~~\n",
    "````\n",
    "\n",
    "**Defina una variable x y obtenga e imprima su raíz cuadrada.**"
   ]
  },
  {
   "cell_type": "code",
   "execution_count": 5,
   "metadata": {},
   "outputs": [],
   "source": [
    "#Raíz cuadrada de x"
   ]
  }
 ],
 "metadata": {
  "kernelspec": {
   "display_name": "Python 3 (ipykernel)",
   "language": "python",
   "name": "python3"
  },
  "language_info": {
   "codemirror_mode": {
    "name": "ipython",
    "version": 3
   },
   "file_extension": ".py",
   "mimetype": "text/x-python",
   "name": "python",
   "nbconvert_exporter": "python",
   "pygments_lexer": "ipython3",
   "version": "3.10.4"
  }
 },
 "nbformat": 4,
 "nbformat_minor": 2
}