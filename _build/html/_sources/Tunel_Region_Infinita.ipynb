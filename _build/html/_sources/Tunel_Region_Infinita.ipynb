{
 "cells": [
  {
   "cell_type": "markdown",
   "metadata": {
    "id": "3_tkSDmfEtap"
   },
   "source": [
    "# Penetración"
   ]
  },
  {
   "cell_type": "markdown",
   "metadata": {
    "id": "ffWT6U3FE6a9"
   },
   "source": [
    "Considere una partícula moviéndose hacia una barrera de potencial de longitud infinita de valor V en $x=0$. Antes de $x=0$ el potencial vale cero, y después vale $V$, es decir:\n",
    "\n",
    "$$\n",
    "V(x) = \\left\\{\n",
    "  \\begin{array}{lll}\n",
    "  0      & \\mathrm{si\\ } x < 0 & I\\\\\n",
    "  V & \\mathrm{si\\ } 0 \\le x < \\infty & II \\\\\n",
    "  \\end{array}\n",
    "  \\right.\n",
    "$$\n",
    "\n",
    "<img src=\"images/tunel-barrera-infinita.png\" alt=\"Figura de tunel de barrera infinita\" width=\"300\"/>\n",
    "\n",
    "En este sistema consideraremos el caso en el que la partícula tiene menor energía, $E$, que el potencial, $V$, es decir, $E < V$.\n",
    "\n",
    "```{admonition} Para pensar\n",
    ":class: tip\n",
    "De manera clásica, la partícula no podría pasar del lado izquierdo (región I) al lado derecho (región II) de la caja, porque no tiene suficiente energía. Por esta razón, no podríamos encontrar a la partícula en la región II. ¿Qué pasará cuánticamente?\n",
    "```\n",
    "\n",
    "Para resolver el sistema hay que planear el Hamiltoniano por regiones y resolver una función de onda para cada región.\n",
    "\n",
    "```{admonition} Inserto matemático: Hamiltoniano por regiones\n",
    ":class: dropdown\n",
    "\n",
    "| Región      | Hamiltoniano | Función de onda | Constantes |\n",
    "|:----------------:|:---------:|:--------:|:--------:|\n",
    "| I | $- \\frac{\\hbar^2}{2m} \\frac{d^2}{dx^2}$ | $\\psi_I(x) = Ae^{ik_1x} + Be^{-ik_1x}$ | $k_1^2 = \\frac{2mE}{\\hbar^2}$ |\n",
    "| II| $- \\frac{\\hbar^2}{2m} \\frac{d^2}{dx^2} + V$ | $\\psi_{II}(x) = C e^{-k_2x} + De^{k_2x}$ | $k_2^2 = \\frac{2m(V-E)}{\\hbar^2}$ |\n",
    "```\n",
    "\n",
    "Se obtienen las funciones de onda\n",
    "\n",
    "$$\n",
    "\\psi_I(x) = Ae^{ik_1x} + Be^{-ik_1x}\n",
    "$$\n",
    "\n",
    "$$\n",
    "\\psi_{II}(x) = C e^{-k_2x} + De^{k_2x}\n",
    "$$\n",
    "\n",
    "Los coeficientes pueden obtenerse a partir de la condición de continuidad de la función de onda en $x=0$\n",
    "\n",
    "```{admonition} Inserto matemático: Condiciones de continuidad\n",
    ":class: dropdown\n",
    "\n",
    "| Regiones | Condición | Ecuación |\n",
    "|:---: |:---: | :---:|\n",
    "| II | $\\psi_{II}(\\infty) = 0$ | $D = 0$|\n",
    "| I y II | $\\psi_{I}(0) = \\psi_{II}(0)$ | $A + B = C$ |\n",
    "| I y II | $\\frac{\\psi_{I}}{dx}(0) = \\frac{\\psi_{II}}{dx}(0)$ | $ik_1 (A - B) = - k_2 C$|\n",
    "```\n",
    "\n",
    "Se obtiene\n",
    "\n",
    "$$\n",
    "B = -\\left(\\frac{k_2 + ik_1}{k_2 - ik_1}\\right) A\n",
    "$$\n",
    "\n",
    "$$\n",
    "C = \\frac{2ik_1}{ik_1 - k_2} A\n",
    "$$"
   ]
  },
  {
   "cell_type": "markdown",
   "metadata": {
    "id": "DjqT9ED5L0CL"
   },
   "source": [
    "**Importe numpy y pyplot de matplotlib.**"
   ]
  },
  {
   "cell_type": "code",
   "execution_count": 4,
   "metadata": {
    "id": "kZHhg0qML4oc"
   },
   "outputs": [],
   "source": [
    "# Importe librerías"
   ]
  },
  {
   "cell_type": "code",
   "execution_count": 5,
   "metadata": {
    "id": "VAKUysgW4W01",
    "tags": [
     "hide-cell"
    ]
   },
   "outputs": [],
   "source": [
    "import numpy as np\n",
    "from matplotlib import pyplot as plt"
   ]
  },
  {
   "cell_type": "markdown",
   "metadata": {
    "id": "r8oBQQpjL9dN"
   },
   "source": [
    "**De valores a las constantes del sistema**. Considere $m=1$, $\\hbar=1$. Asigne algún valor a la energía y al potencial, respetando que $V > E$, observe que en este caso la energía no está cuantizada, por lo que puede tomar cualquier valor. A manera de ejemplo, considere $E=1$ y $V=10$. "
   ]
  },
  {
   "cell_type": "code",
   "execution_count": 6,
   "metadata": {
    "id": "w5aUcz4ee-jY"
   },
   "outputs": [],
   "source": [
    "# Valores de m,hbar,E,V"
   ]
  },
  {
   "cell_type": "code",
   "execution_count": 7,
   "metadata": {
    "id": "YVvBrBC04NBX",
    "tags": [
     "hide-cell"
    ]
   },
   "outputs": [],
   "source": [
    "m = 1\n",
    "hbar = 1\n",
    "E = 1\n",
    "V = 10"
   ]
  },
  {
   "cell_type": "markdown",
   "metadata": {
    "id": "EruRn1ePNTM0"
   },
   "source": [
    "Defina $k_1$ y $k_2$, recuerde que\n",
    "\n",
    "$$\n",
    "k_1 = \\frac{\\sqrt{2mE}}{\\hbar}\n",
    "$$\n",
    "\n",
    "$$\n",
    "k_2 = \\frac{\\sqrt{2m(V-E)}}{\\hbar}\n",
    "$$"
   ]
  },
  {
   "cell_type": "code",
   "execution_count": 8,
   "metadata": {
    "id": "DoUmGJlefDwC"
   },
   "outputs": [],
   "source": [
    "# k1 y k2"
   ]
  },
  {
   "cell_type": "code",
   "execution_count": 9,
   "metadata": {
    "id": "fNQ-Is1YNqnF",
    "tags": [
     "hide-cell"
    ]
   },
   "outputs": [],
   "source": [
    "k1 = np.sqrt(2*m*E)/hbar\n",
    "k2 = np.sqrt(2*m*(V-E))/hbar"
   ]
  },
  {
   "cell_type": "markdown",
   "metadata": {
    "id": "WKp5MbiLNxwD"
   },
   "source": [
    "Defina las constantes\n",
    "\n",
    "$$\n",
    "B = -\\left(\\frac{k_2 + ik_1}{k_2 - ik_1}\\right) A\n",
    "$$\n",
    "\n",
    "$$\n",
    "C = \\frac{2ik_1}{ik_1 - k_2} A\n",
    "$$\n",
    "\n",
    "Por conveniencia, defina \n",
    "\n",
    "$$\n",
    "A=1\n",
    "$$"
   ]
  },
  {
   "cell_type": "code",
   "execution_count": 10,
   "metadata": {
    "id": "mXcgmjRNfF3B"
   },
   "outputs": [],
   "source": [
    "# A, B, C"
   ]
  },
  {
   "cell_type": "code",
   "execution_count": 81,
   "metadata": {
    "id": "DUCNfee44hk0",
    "tags": [
     "hide-cell"
    ]
   },
   "outputs": [],
   "source": [
    "A = 1\n",
    "B = -((k2 + 1j*k1)/(k2 - 1j*k1))*A\n",
    "C = 2*1j*k1/(1j*k1-k2)*A"
   ]
  },
  {
   "cell_type": "markdown",
   "metadata": {
    "id": "QZP7my2TOcEA"
   },
   "source": [
    "Defina el dominio de $x$ para la región I y para la región II, recuerde que ambos se separan en $x=0$."
   ]
  },
  {
   "cell_type": "code",
   "execution_count": 82,
   "metadata": {
    "id": "8-IZ33_HfJK8"
   },
   "outputs": [],
   "source": [
    "# x1 y x2"
   ]
  },
  {
   "cell_type": "code",
   "execution_count": 88,
   "metadata": {
    "id": "2Oi_f3p94ybq",
    "tags": [
     "hide-cell"
    ]
   },
   "outputs": [],
   "source": [
    "x1 = np.linspace(-2,0,100)\n",
    "x2 = np.linspace(0,2,100)"
   ]
  },
  {
   "cell_type": "markdown",
   "metadata": {
    "id": "419fEO_IOqLT"
   },
   "source": [
    "Genere la función de onda para la región I y para la región II. Recuerde\n",
    "\n",
    "$$\n",
    "\\psi_I = A e^{ik_1 x} + B e^{-ik_1 x}\n",
    "$$\n",
    "\n",
    "$$\n",
    "\\psi_{II} = C e^{-k_2 x}\n",
    "$$"
   ]
  },
  {
   "cell_type": "code",
   "execution_count": 89,
   "metadata": {
    "id": "6u0bu0eTfMBO"
   },
   "outputs": [],
   "source": [
    "# psi_I y psi_II"
   ]
  },
  {
   "cell_type": "code",
   "execution_count": 90,
   "metadata": {
    "id": "Zu_vFHRI41YD",
    "tags": [
     "hide-cell"
    ]
   },
   "outputs": [],
   "source": [
    "psi_I = A*np.exp(1j*k1*x1) + B*np.exp(-1j*k1*x1)\n",
    "psi_II = C*np.exp(-k2*x2)"
   ]
  },
  {
   "cell_type": "markdown",
   "metadata": {
    "id": "czcRD_87O-i8"
   },
   "source": [
    "Grafique $|\\psi_I|^2$ y $|\\psi_{II}|^2$"
   ]
  },
  {
   "cell_type": "code",
   "execution_count": 91,
   "metadata": {
    "id": "i4OnkCKvfOmh"
   },
   "outputs": [],
   "source": [
    "# Grafica"
   ]
  },
  {
   "cell_type": "code",
   "execution_count": 92,
   "metadata": {
    "colab": {
     "base_uri": "https://localhost:8080/",
     "height": 282
    },
    "id": "MOSRlMvf5Lze",
    "outputId": "1b25b149-aac9-4a16-a1a7-41ed7180482a",
    "tags": [
     "hide-input"
    ]
   },
   "outputs": [
    {
     "data": {
      "text/plain": [
       "[<matplotlib.lines.Line2D at 0x145537dc7050>]"
      ]
     },
     "execution_count": 92,
     "metadata": {},
     "output_type": "execute_result"
    },
    {
     "data": {
      "image/png": "[encoded data removed]",
      "text/plain": [
       "<Figure size 432x288 with 1 Axes>"
      ]
     },
     "metadata": {
      "needs_background": "light"
     },
     "output_type": "display_data"
    }
   ],
   "source": [
    "plt.plot(x1,abs(psi_I)**2)\n",
    "plt.plot(x2,abs(psi_II)**2)"
   ]
  },
  {
   "cell_type": "markdown",
   "metadata": {
    "id": "Iw51Kw7eRdZV"
   },
   "source": [
    "Note que la partícula puede ser encontrada dentro de la región clásicamente prohibida, esto se conoce como penetración. \n",
    "\n",
    "```{admonition} Concepto: Longitud de decaimiento\n",
    ":class: note\n",
    "\n",
    "La longitud de decaimiento, $\\frac{1}{k_2}$ es la distancia dentro de la barrera a la cual la función de onda a deacído a  $\\frac{1}{e}$.\n",
    "```"
   ]
  },
  {
   "cell_type": "markdown",
   "metadata": {
    "id": "yszq5r5yfR5Q"
   },
   "source": [
    "**Calcule la longitud de decaimiento de este sistema.**"
   ]
  }
 ],
 "metadata": {
  "celltoolbar": "Tags",
  "colab": {
   "name": "Tunel.ipynb",
   "provenance": []
  },
  "kernelspec": {
   "display_name": "Python 3",
   "language": "python",
   "name": "python3"
  },
  "language_info": {
   "codemirror_mode": {
    "name": "ipython",
    "version": 3
   },
   "file_extension": ".py",
   "mimetype": "text/x-python",
   "name": "python",
   "nbconvert_exporter": "python",
   "pygments_lexer": "ipython3",
   "version": "3.7.9"
  }
 },
 "nbformat": 4,
 "nbformat_minor": 1
}
