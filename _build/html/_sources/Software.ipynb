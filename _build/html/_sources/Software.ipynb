{
 "cells": [
  {
   "cell_type": "markdown",
   "metadata": {},
   "source": [
    "# Software"
   ]
  },
  {
   "cell_type": "markdown",
   "metadata": {},
   "source": [
    "Los `software de estructura electrónica` se dedican a calcular diversas propiedades de las moléculas utilizando la teoría que se ve en `química cuántica`. En general, esto nos sirve para `predecir la reactividad química`, desde poder predecir si una reacción procederá o no, hasta cosas más avanzadas como cinéticas de reacción y pKas o potenciales redox. En este notebook estaremos usando el software `PySCF`, sin embargo, existe una gran cantidad de software, desde los libres y gratuitos hasta los privados y de pago.\n",
    "\n",
    "```{note}\n",
    "Algunos programas de estructura electrónica son:\n",
    "- Gaussian (https://gaussian.com)\n",
    "- PySCF (https://pyscf.org)\n",
    "- Psi4 (http://www.psicode.org)\n",
    "- NWChem (http://www.nwchem-sw.org)\n",
    "- QChem (http://www.q-chem.com)\n",
    "- TeraChem (http://www.petachem.com)\n",
    "- deMon2k (http://www.demon-software.com)\n",
    "- Orca (https://orcaforum.cec.mpg.de)\n",
    "- Molcas (http://www.molcas.org)\n",
    "- ADF (https://www.scm.com)\n",
    "- GAMESS (http://www.msg.chem.iastate.edu/gamess)\n",
    "- Quantum Espresso (https://www.quantum-espresso.org)\n",
    "- GPAW (https://wiki.fysik.dtu.dk/gpaw)\n",
    "```"
   ]
  },
  {
   "cell_type": "markdown",
   "metadata": {},
   "source": [
    "## Aprendiendo a usar PySCF"
   ]
  },
  {
   "cell_type": "markdown",
   "metadata": {},
   "source": [
    "```{warning}\n",
    "Si está utilizando Google Colab o la ejecución en línea, debe de ejecutar al inicio el siguiente código\n",
    "~~~\n",
    "!pip install pyscf\n",
    "!pip install geomeTRIC\n",
    "~~~\n",
    "```"
   ]
  },
  {
   "cell_type": "markdown",
   "metadata": {},
   "source": [
    "Para usar PySCF, puede importarlo como si de una librería se tratase, es decir\n",
    "\n",
    "~~~python\n",
    "import pyscf\n",
    "~~~\n",
    "**Importe PySCF en la siguiente celda**"
   ]
  },
  {
   "cell_type": "code",
   "execution_count": 1,
   "metadata": {},
   "outputs": [],
   "source": [
    "# importe pyscf"
   ]
  },
  {
   "cell_type": "code",
   "execution_count": 2,
   "metadata": {
    "tags": [
     "hide-cell"
    ]
   },
   "outputs": [],
   "source": [
    "# Descomentar estas líneas si está en modo online\n",
    "\n",
    "#!pip install pyscf\n",
    "#!pip install geomeTRIC\n",
    "\n",
    "import pyscf"
   ]
  },
  {
   "cell_type": "markdown",
   "metadata": {},
   "source": [
    "El siguiente paso es **declarar las coordenadas de los átomos que forman la molécula**. Para ello se pueden usar visualizadores como `Avogadro` o `IQmol`. También es posible obtener valores experimentales o calculados de https://cccbdb.nist.gov/ . En este caso utilizaremos los resultados experimentales de benceno.\n",
    "\n",
    "Use las siguientes líneas para declarar la geometría y seleccionar una base\n",
    "```{margin}\n",
    "Se asume que la molécula es neutra. Si desea editar la carga y/o el espín (note que esto es 2S, no la multiplicidad, 2S+1) puede usar instrucciones como\n",
    "\n",
    "~~~python\n",
    "mol.charge = 1\n",
    "mol.spin = 1\n",
    "~~~\n",
    "\n",
    "Recuerde volver a construir la molécula después de cualquier modificación.\n",
    "```\n",
    "\n",
    "```\n",
    "benzene = pyscf.gto.Mole(atom = \"\"\"\n",
    "    C  0.0000  1.3970  0.0000\n",
    "    C  1.2098  0.6985  0.0000\n",
    "    C  1.2098 -0.6985  0.0000\n",
    "    C  0.0000 -1.3970  0.0000\n",
    "    C -1.2098 -0.6985  0.0000\n",
    "    C -1.2098  0.6985  0.0000\n",
    "    H  0.0000  2.4810  0.0000\n",
    "    H  2.1486  1.2405  0.0000\n",
    "    H  2.1486 -1.2405  0.0000\n",
    "    H  0.0000 -2.4810  0.0000\n",
    "    H -2.1486 -1.2405  0.0000\n",
    "    H -2.1486  1.2405  0.0000\n",
    "    \"\"\",basis = \"6-31G\")\n",
    "benzene = benzene.build()\n",
    "```\n",
    "\n",
    "```{margin}\n",
    "En este caso estamos llamando `benzene` a la molécula, usted puede usar cualquier otro nombre que prefiera.\n",
    "```"
   ]
  },
  {
   "cell_type": "code",
   "execution_count": 3,
   "metadata": {},
   "outputs": [],
   "source": [
    "#Geometría"
   ]
  },
  {
   "cell_type": "code",
   "execution_count": 4,
   "metadata": {
    "tags": [
     "hide-cell"
    ]
   },
   "outputs": [],
   "source": [
    "benzene = pyscf.gto.Mole(atom = \"\"\"\n",
    "    C  0.0000  1.3970  0.0000\n",
    "    C  1.2098  0.6985  0.0000\n",
    "    C  1.2098 -0.6985  0.0000\n",
    "    C  0.0000 -1.3970  0.0000\n",
    "    C -1.2098 -0.6985  0.0000\n",
    "    C -1.2098  0.6985  0.0000\n",
    "    H  0.0000  2.4810  0.0000\n",
    "    H  2.1486  1.2405  0.0000\n",
    "    H  2.1486 -1.2405  0.0000\n",
    "    H  0.0000 -2.4810  0.0000\n",
    "    H -2.1486 -1.2405  0.0000\n",
    "    H -2.1486  1.2405  0.0000\n",
    "    \"\"\",basis = \"6-31G\")\n",
    "benzene = benzene.build()"
   ]
  },
  {
   "cell_type": "markdown",
   "metadata": {},
   "source": [
    "En la mayoría de los software es común (pero no obligatorio) que antes de mandar el cálculo de una molécula se asigne una cantidad de memoria RAM, por ejemplo 2000 MB. \n",
    "\n",
    "En PySCF esto se hace mediante la instrucción\n",
    "~~~python\n",
    "mol.max_memory = 2000\n",
    "~~~\n",
    "\n",
    "Cada vez que modifique algún parámetro de la molécula, debe volver a construirla antes de usarla.\n",
    "\n",
    "**Asigne memoria a su cálculo**\n",
    "```{margin}\n",
    "Note que `mol` es el nombre que le asignó a la molécula. En este ejemplo usamos el nombre de benzene.\n",
    "```"
   ]
  },
  {
   "cell_type": "code",
   "execution_count": 5,
   "metadata": {},
   "outputs": [],
   "source": [
    "# Establezca memoria (y reconstruya la molécula)"
   ]
  },
  {
   "cell_type": "code",
   "execution_count": 6,
   "metadata": {
    "tags": [
     "hide-cell"
    ]
   },
   "outputs": [],
   "source": [
    "# Establezca memoria (en MB) (y reconstruya la molécula)\n",
    "benzene.max_memory = 2000\n",
    "benzene = benzene.build()"
   ]
  },
  {
   "cell_type": "markdown",
   "metadata": {},
   "source": [
    "```{note}\n",
    "Los software usan la RAM asignada para guardar vectores y matrices como lo ha hecho en las prácticas anteriores. Si la memoria es suficiente, el programa guardará todo y el cálculo será más rápido, si no la hay, el cálculo será más lento. `A más memoria los cálculos tienden a ser igual o más rápidos`\n",
    "```\n",
    "\n",
    "```{warning}\n",
    "La cantidad de memoria que puede asignar al cálculo depende de la cantidad de RAM que tenga su computadora. Recomendamos asignar menos memoria del total disponible ya que la memoria se reparte con los demás programas de su computadora. \n",
    "```"
   ]
  },
  {
   "cell_type": "markdown",
   "metadata": {},
   "source": [
    "Para realizar un cálculo de `energía` de una molécula `con la geometría y la base` especificada arriba, es necesario especificar un `método`. Por ejemplo, para hacer Hartree-Fock, escribiremos\n",
    "~~~python\n",
    "from pyscf improt scf\n",
    "rhf = scf.RHF(mol)\n",
    "E = rhf.kernel()\n",
    "~~~\n",
    "hemos de cambiar mol por el nombre que le asignamos a nuestra molécula.\n",
    "```{margin}\n",
    "`SCF` significa Self-Consistent Field, `RHF` Significa Restricted Hartree-Fock. En moléculas de capa abierta se debe de usar `UHF` Unrestricted Hartree-Fock o `ROHF` Restricted-Open Hartree-Fock.\n",
    "```\n",
    "\n",
    "**Realice un cálculo con el método HF y la base 6-31G**\n",
    "```{margin}\n",
    "En el caso de este ejemplo, la molécula se llama benzene, así que en vez de escribir mol, escribimos benzene.\n",
    "```"
   ]
  },
  {
   "cell_type": "code",
   "execution_count": 7,
   "metadata": {},
   "outputs": [],
   "source": [
    "# Benceno HF"
   ]
  },
  {
   "cell_type": "code",
   "execution_count": 8,
   "metadata": {
    "tags": [
     "hide-cell"
    ]
   },
   "outputs": [
    {
     "name": "stdout",
     "output_type": "stream",
     "text": [
      "converged SCF energy = -230.623508002014\n"
     ]
    }
   ],
   "source": [
    "# Benceno HF\n",
    "from pyscf import scf\n",
    "rhf = scf.RHF(benzene)\n",
    "E = rhf.kernel()"
   ]
  },
  {
   "cell_type": "markdown",
   "metadata": {},
   "source": [
    "**Calcule la energía de benceno con MP2 y 6-31G**\n",
    "\n",
    "~~~python\n",
    "from pyscf import mp\n",
    "mp2 = mp.MP2(mol)\n",
    "Ecorr = mp2.kernel()\n",
    "~~~\n",
    "```{margin}\n",
    "`MP` significa Möller-Plesset y `MP2` indica que es de Segundo orden.\n",
    "```\n",
    "```{margin}\n",
    "Note que la última línea guarda en Ecorr solo la energía de correlación, no la energía de Hartree-Fock.\n",
    "```"
   ]
  },
  {
   "cell_type": "code",
   "execution_count": 9,
   "metadata": {},
   "outputs": [],
   "source": [
    "# Benceno MP2/6-31G"
   ]
  },
  {
   "cell_type": "code",
   "execution_count": 10,
   "metadata": {
    "tags": [
     "hide-cell"
    ]
   },
   "outputs": [
    {
     "name": "stdout",
     "output_type": "stream",
     "text": [
      "converged SCF energy = -230.623508002015\n",
      "E(MP2) = -231.147363985909  E_corr = -0.523855983893737\n"
     ]
    }
   ],
   "source": [
    "# Benceno MP2/6-31G\n",
    "from pyscf import mp\n",
    "mp2 = mp.MP2(benzene)\n",
    "Ecorr = mp2.kernel()"
   ]
  },
  {
   "cell_type": "markdown",
   "metadata": {},
   "source": [
    "**Calcule la energía de benceno con el funcional M062X y la base 6-31G**\n",
    "\n",
    "Use el código\n",
    "~~~python\n",
    "from pyscf import dft\n",
    "rks = dft.RKS(mol)\n",
    "rks.xc = 'M062X'\n",
    "E = rks.kernel()\n",
    "~~~\n",
    "```{margin}\n",
    "`DFT` significa Density Functional Theory, y `RKS` significa Restricted Kohn-Sham. En moléculas de capa abierta se debe de usar `UKS` Unrestriced Kohn-Sham. \n",
    "```\n",
    "\n",
    "```{margin}\n",
    "La línea\n",
    "~~~python\n",
    "rks.xc = 'M062X'\n",
    "~~~\n",
    "define el funcional a usar.\n",
    "```"
   ]
  },
  {
   "cell_type": "code",
   "execution_count": 11,
   "metadata": {},
   "outputs": [],
   "source": [
    "# Benceno M062X/6-31G"
   ]
  },
  {
   "cell_type": "code",
   "execution_count": 12,
   "metadata": {
    "tags": [
     "hide-cell"
    ]
   },
   "outputs": [
    {
     "name": "stdout",
     "output_type": "stream",
     "text": [
      "converged SCF energy = -232.091626867516\n"
     ]
    }
   ],
   "source": [
    "# Benceno M062X/6-31G\n",
    "from pyscf import dft\n",
    "rks = dft.RKS(benzene)\n",
    "rks.xc = 'M062X'\n",
    "E = rks.kernel()"
   ]
  },
  {
   "cell_type": "markdown",
   "metadata": {},
   "source": [
    "Usualmente la geometría especificada no es necesariamente la geometría real. Es posible pedir al software que mueva los átomos hasta encontrar las coordenadas que representen un mínimo de energía con el método y base usados. Esto se llama `optimización de geometrías`, para lo cual hay que importar el optimizador y pasar la instancia del método. Por ejemplo, para optimizar con M062X, utilizaremos el rks que definimos antes\n",
    "```\n",
    "from pyscf.geomopt.geometric_solver import optimize\n",
    "mol = geometric_opt(rks)\n",
    "```\n",
    "\n",
    "**Optimice la geometría de benceno con el método M062X y base 6-31G e imprima su energía**.\n",
    "\n",
    "```{warning}\n",
    "Este cálculo puede tardar entre segundos y unos minutos dependiendo del procesador de cada computadora.\n",
    "```"
   ]
  },
  {
   "cell_type": "code",
   "execution_count": 13,
   "metadata": {},
   "outputs": [],
   "source": [
    "# Optimizacion de Geometría"
   ]
  },
  {
   "cell_type": "code",
   "execution_count": 14,
   "metadata": {
    "tags": [
     "hide-cell",
     "hide-ouput"
    ]
   },
   "outputs": [
    {
     "name": "stderr",
     "output_type": "stream",
     "text": [
      "\n",
      "                                        \u001b[91m())))))))))))))))/\u001b[0m                     \n",
      "                                    \u001b[91m())))))))))))))))))))))))),\u001b[0m                \n",
      "                                \u001b[91m*)))))))))))))))))))))))))))))))))\u001b[0m             \n",
      "                        \u001b[94m#,\u001b[0m    \u001b[91m()))))))))/\u001b[0m                \u001b[91m.)))))))))),\u001b[0m          \n",
      "                      \u001b[94m#%%%%,\u001b[0m  \u001b[91m())))))\u001b[0m                        \u001b[91m.))))))))*\u001b[0m        \n",
      "                      \u001b[94m*%%%%%%,\u001b[0m  \u001b[91m))\u001b[0m              \u001b[93m..\u001b[0m              \u001b[91m,))))))).\u001b[0m      \n",
      "                        \u001b[94m*%%%%%%,\u001b[0m         \u001b[93m***************/.\u001b[0m        \u001b[91m.)))))))\u001b[0m     \n",
      "                \u001b[94m#%%/\u001b[0m      \u001b[94m(%%%%%%,\u001b[0m    \u001b[93m/*********************.\u001b[0m       \u001b[91m)))))))\u001b[0m    \n",
      "              \u001b[94m.%%%%%%#\u001b[0m      \u001b[94m*%%%%%%,\u001b[0m  \u001b[93m*******/,\u001b[0m     \u001b[93m**********,\u001b[0m      \u001b[91m.))))))\u001b[0m   \n",
      "                \u001b[94m.%%%%%%/\u001b[0m      \u001b[94m*%%%%%%,\u001b[0m  \u001b[93m**\u001b[0m              \u001b[93m********\u001b[0m      \u001b[91m.))))))\u001b[0m  \n",
      "          \u001b[94m##\u001b[0m      \u001b[94m.%%%%%%/\u001b[0m      \u001b[94m(%%%%%%,\u001b[0m                  \u001b[93m,******\u001b[0m      \u001b[91m/)))))\u001b[0m  \n",
      "        \u001b[94m%%%%%%\u001b[0m      \u001b[94m.%%%%%%#\u001b[0m      \u001b[94m*%%%%%%,\u001b[0m    \u001b[92m,/////.\u001b[0m       \u001b[93m******\u001b[0m      \u001b[91m))))))\u001b[0m \n",
      "      \u001b[94m#%\u001b[0m      \u001b[94m%%\u001b[0m      \u001b[94m.%%%%%%/\u001b[0m      \u001b[94m*%%%%%%,\u001b[0m  \u001b[92m////////,\u001b[0m      \u001b[93m*****/\u001b[0m     \u001b[91m,)))))\u001b[0m \n",
      "    \u001b[94m#%%\u001b[0m  \u001b[94m%%%\u001b[0m  \u001b[94m%%%#\u001b[0m      \u001b[94m.%%%%%%/\u001b[0m      \u001b[94m(%%%%%%,\u001b[0m  \u001b[92m///////.\u001b[0m     \u001b[93m/*****\u001b[0m      \u001b[91m))))).\u001b[0m\n",
      "  \u001b[94m#%%%%.\u001b[0m      \u001b[94m%%%%%#\u001b[0m      \u001b[94m/%%%%%%*\u001b[0m      \u001b[94m#%%%%%%\u001b[0m   \u001b[92m/////)\u001b[0m     \u001b[93m******\u001b[0m      \u001b[91m))))),\u001b[0m\n",
      "    \u001b[94m#%%%%##%\u001b[0m  \u001b[94m%%%#\u001b[0m      \u001b[94m.%%%%%%/\u001b[0m      \u001b[94m(%%%%%%,\u001b[0m  \u001b[92m///////.\u001b[0m     \u001b[93m/*****\u001b[0m      \u001b[91m))))).\u001b[0m\n",
      "      \u001b[94m##\u001b[0m     \u001b[94m%%%\u001b[0m      \u001b[94m.%%%%%%/\u001b[0m      \u001b[94m*%%%%%%,\u001b[0m  \u001b[92m////////.\u001b[0m      \u001b[93m*****/\u001b[0m     \u001b[91m,)))))\u001b[0m \n",
      "        \u001b[94m#%%%%#\u001b[0m      \u001b[94m/%%%%%%/\u001b[0m      \u001b[94m(%%%%%%\u001b[0m      \u001b[92m/)/)//\u001b[0m       \u001b[93m******\u001b[0m      \u001b[91m))))))\u001b[0m \n",
      "          \u001b[94m##\u001b[0m      \u001b[94m.%%%%%%/\u001b[0m      \u001b[94m(%%%%%%,\u001b[0m                  \u001b[93m*******\u001b[0m      \u001b[91m))))))\u001b[0m  \n",
      "                \u001b[94m.%%%%%%/\u001b[0m      \u001b[94m*%%%%%%,\u001b[0m  \u001b[93m**.\u001b[0m             \u001b[93m/*******\u001b[0m      \u001b[91m.))))))\u001b[0m  \n",
      "              \u001b[94m*%%%%%%/\u001b[0m      \u001b[94m(%%%%%%\u001b[0m   \u001b[93m********/*..,*/*********\u001b[0m       \u001b[91m*))))))\u001b[0m   \n",
      "                \u001b[94m#%%/\u001b[0m      \u001b[94m(%%%%%%,\u001b[0m    \u001b[93m*********************/\u001b[0m        \u001b[91m)))))))\u001b[0m    \n",
      "                        \u001b[94m*%%%%%%,\u001b[0m         \u001b[93m,**************/\u001b[0m         \u001b[91m,))))))/\u001b[0m     \n",
      "                      \u001b[94m(%%%%%%\u001b[0m   \u001b[91m()\u001b[0m                              \u001b[91m))))))))\u001b[0m       \n",
      "                      \u001b[94m#%%%%,\u001b[0m  \u001b[91m())))))\u001b[0m                        \u001b[91m,)))))))),\u001b[0m        \n",
      "                        \u001b[94m#,\u001b[0m    \u001b[91m())))))))))\u001b[0m                \u001b[91m,)))))))))).\u001b[0m          \n",
      "                                 \u001b[91m()))))))))))))))))))))))))))))))/\u001b[0m             \n",
      "                                    \u001b[91m())))))))))))))))))))))))).\u001b[0m                \n",
      "                                         \u001b[91m())))))))))))))),\u001b[0m                     \n",
      "\n",
      "-=# \u001b[1;94m geomeTRIC started. Version: 0.9.7.2 \u001b[0m #=-\n",
      "geometric-optimize called with the following command line:\n",
      "/home/jfhlewyee/anaconda3/envs/jb/lib/python3.9/site-packages/ipykernel_launcher.py -f /home/jfhlewyee/.local/share/jupyter/runtime/kernel-39f774f5-a779-4900-b35d-9e0a5cea6f3f.json\n",
      "36 internal coordinates being used (instead of 36 Cartesians)\n",
      "Internal coordinate system (atoms numbered from 1):\n",
      "Distance 1-2\n",
      "Distance 1-6\n",
      "Distance 1-7\n",
      "Distance 2-3\n",
      "Distance 2-8\n",
      "Distance 3-4\n",
      "Distance 3-9\n",
      "Distance 4-5\n",
      "Distance 4-10\n",
      "Distance 5-6\n",
      "Distance 5-11\n",
      "Distance 6-12\n",
      "Angle 2-1-7\n",
      "Angle 6-1-7\n",
      "Angle 1-2-8\n",
      "Angle 3-2-8\n",
      "Angle 2-3-9\n",
      "Angle 4-3-9\n",
      "Angle 3-4-10\n",
      "Angle 5-4-10\n",
      "Angle 4-5-11\n",
      "Angle 6-5-11\n",
      "Angle 1-6-12\n",
      "Angle 5-6-12\n",
      "Out-of-Plane 1-2-6-7\n",
      "Out-of-Plane 2-1-3-8\n",
      "Out-of-Plane 3-2-4-9\n",
      "Out-of-Plane 4-3-5-10\n",
      "Out-of-Plane 5-4-6-11\n",
      "Out-of-Plane 6-1-5-12\n",
      "Dihedral 6-1-2-3\n",
      "Dihedral 6-1-2-8\n",
      "Dihedral 7-1-2-3\n",
      "Dihedral 7-1-2-8\n",
      "Dihedral 2-1-6-5\n",
      "Dihedral 2-1-6-12\n",
      "Dihedral 7-1-6-5\n",
      "Dihedral 7-1-6-12\n",
      "Dihedral 1-2-3-4\n",
      "Dihedral 1-2-3-9\n",
      "Dihedral 8-2-3-4\n",
      "Dihedral 8-2-3-9\n",
      "Dihedral 2-3-4-5\n",
      "Dihedral 2-3-4-10\n",
      "Dihedral 9-3-4-5\n",
      "Dihedral 9-3-4-10\n",
      "Dihedral 3-4-5-6\n",
      "Dihedral 3-4-5-11\n",
      "Dihedral 10-4-5-6\n",
      "Dihedral 10-4-5-11\n",
      "Dihedral 4-5-6-1\n",
      "Dihedral 4-5-6-12\n",
      "Dihedral 11-5-6-1\n",
      "Dihedral 11-5-6-12\n",
      "Translation-X 1-12\n",
      "Translation-Y 1-12\n",
      "Translation-Z 1-12\n",
      "Rotation-A 1-12\n",
      "Rotation-B 1-12\n",
      "Rotation-C 1-12\n",
      "<class 'geometric.internal.Distance'> : 12\n",
      "<class 'geometric.internal.Angle'> : 12\n",
      "<class 'geometric.internal.OutOfPlane'> : 6\n",
      "<class 'geometric.internal.Dihedral'> : 24\n",
      "<class 'geometric.internal.TranslationX'> : 1\n",
      "<class 'geometric.internal.TranslationY'> : 1\n",
      "<class 'geometric.internal.TranslationZ'> : 1\n",
      "<class 'geometric.internal.RotationA'> : 1\n",
      "<class 'geometric.internal.RotationB'> : 1\n",
      "<class 'geometric.internal.RotationC'> : 1\n"
     ]
    },
    {
     "name": "stdout",
     "output_type": "stream",
     "text": [
      "\n",
      "Geometry optimization cycle 1\n",
      "Cartesian coordinates (Angstrom)\n",
      " Atom        New coordinates             dX        dY        dZ\n",
      "   C   0.000000   1.397000   0.000000    0.000000  0.000000  0.000000\n",
      "   C   1.209800   0.698500   0.000000    0.000000  0.000000  0.000000\n",
      "   C   1.209800  -0.698500   0.000000    0.000000  0.000000  0.000000\n",
      "   C   0.000000  -1.397000   0.000000    0.000000  0.000000  0.000000\n",
      "   C  -1.209800  -0.698500   0.000000    0.000000  0.000000  0.000000\n",
      "   C  -1.209800   0.698500   0.000000    0.000000  0.000000  0.000000\n",
      "   H   0.000000   2.481000   0.000000    0.000000  0.000000  0.000000\n",
      "   H   2.148600   1.240500   0.000000    0.000000  0.000000  0.000000\n",
      "   H   2.148600  -1.240500   0.000000    0.000000  0.000000  0.000000\n",
      "   H   0.000000  -2.481000   0.000000    0.000000  0.000000  0.000000\n",
      "   H  -2.148600  -1.240500   0.000000    0.000000  0.000000  0.000000\n",
      "   H  -2.148600   1.240500   0.000000    0.000000  0.000000  0.000000\n",
      "converged SCF energy = -230.623508002017\n",
      "--------------- SCF_Scanner gradients ---------------\n",
      "         x                y                z\n",
      "0 C    -0.0000000000     0.0015348049     0.0000000000\n",
      "1 C     0.0013014809     0.0007803543     0.0000000000\n",
      "2 C     0.0013014809    -0.0007803543    -0.0000000000\n",
      "3 C    -0.0000000000    -0.0015348049     0.0000000000\n",
      "4 C    -0.0013014809    -0.0007803543     0.0000000000\n",
      "5 C    -0.0013014809     0.0007803543    -0.0000000000\n",
      "6 H     0.0000000000     0.0080211277    -0.0000000000\n",
      "7 H     0.0069607311     0.0040195330    -0.0000000000\n",
      "8 H     0.0069607311    -0.0040195330    -0.0000000000\n",
      "9 H    -0.0000000000    -0.0080211277    -0.0000000000\n",
      "10 H    -0.0069607311    -0.0040195330     0.0000000000\n",
      "11 H    -0.0069607311     0.0040195330    -0.0000000000\n",
      "----------------------------------------------\n",
      "cycle 1: E = -230.623508002  dE = -230.624  norm(grad) = 0.0200258\n"
     ]
    },
    {
     "name": "stderr",
     "output_type": "stream",
     "text": [
      "Step    0 : Gradient = 5.781e-03/8.038e-03 (rms/max) Energy = -230.6235080020\n",
      "Hessian Eigenvalues: 2.30000e-02 2.30000e-02 2.30000e-02 ... 4.61250e-01 4.61268e-01 4.61268e-01\n"
     ]
    },
    {
     "name": "stdout",
     "output_type": "stream",
     "text": [
      "\n",
      "Geometry optimization cycle 2\n",
      "Cartesian coordinates (Angstrom)\n",
      " Atom        New coordinates             dX        dY        dZ\n",
      "   C  -0.000000   1.385947  -0.000000   -0.000000 -0.011053 -0.000000\n",
      "   C   1.200366   0.693005  -0.000000   -0.009434 -0.005495 -0.000000\n",
      "   C   1.200366  -0.693005   0.000000   -0.009434  0.005495  0.000000\n",
      "   C  -0.000000  -1.385947  -0.000000   -0.000000  0.011053 -0.000000\n",
      "   C  -1.200366  -0.693005  -0.000000    0.009434  0.005495 -0.000000\n",
      "   C  -1.200366   0.693005  -0.000000    0.009434 -0.005495 -0.000000\n",
      "   H  -0.000000   2.457996  -0.000000   -0.000000 -0.023004 -0.000000\n",
      "   H   2.128777   1.229045   0.000000   -0.019823 -0.011455  0.000000\n",
      "   H   2.128777  -1.229045   0.000000   -0.019823  0.011455  0.000000\n",
      "   H  -0.000000  -2.457996  -0.000000   -0.000000  0.023004 -0.000000\n",
      "   H  -2.128777  -1.229045  -0.000000    0.019823  0.011455 -0.000000\n",
      "   H  -2.128777   1.229045   0.000000    0.019823 -0.011455  0.000000\n",
      "\n",
      "WARN: Large deviations found between the input molecule and the molecule from chkfile\n",
      "Initial guess density matrix may have large error.\n",
      "\n",
      "converged SCF energy = -230.624434899035\n",
      "--------------- SCF_Scanner gradients ---------------\n",
      "         x                y                z\n",
      "0 C    -0.0000000000    -0.0016273417    -0.0000000000\n",
      "1 C    -0.0013627097    -0.0007867159    -0.0000000000\n",
      "2 C    -0.0013627097     0.0007867159     0.0000000000\n",
      "3 C    -0.0000000000     0.0016273417    -0.0000000000\n",
      "4 C     0.0013627097     0.0007867159    -0.0000000000\n",
      "5 C     0.0013627097    -0.0007867159     0.0000000000\n",
      "6 H    -0.0000000000    -0.0009777321    -0.0000000000\n",
      "7 H    -0.0008418080    -0.0004912628     0.0000000000\n",
      "8 H    -0.0008418080     0.0004912628     0.0000000000\n",
      "9 H    -0.0000000000     0.0009777321    -0.0000000000\n",
      "10 H     0.0008418080     0.0004912628     0.0000000000\n",
      "11 H     0.0008418080    -0.0004912628     0.0000000000\n",
      "----------------------------------------------\n",
      "cycle 2: E = -230.624434899  dE = -0.000926897  norm(grad) = 0.00457296\n"
     ]
    },
    {
     "name": "stderr",
     "output_type": "stream",
     "text": [
      "Step    1 : Displace = \u001b[0m1.797e-02\u001b[0m/\u001b[0m2.300e-02\u001b[0m (rms/max) Trust = 1.000e-01 (=) Grad = \u001b[0m1.320e-03\u001b[0m/\u001b[0m1.627e-03\u001b[0m (rms/max) E (change) = -230.6244348990 (\u001b[0m-9.269e-04\u001b[0m) Quality = \u001b[0m0.814\u001b[0m\n",
      "Hessian Eigenvalues: 2.30000e-02 2.30000e-02 2.30000e-02 ... 4.61250e-01 4.61268e-01 5.51445e-01\n"
     ]
    },
    {
     "name": "stdout",
     "output_type": "stream",
     "text": [
      "\n",
      "Geometry optimization cycle 3\n",
      "Cartesian coordinates (Angstrom)\n",
      " Atom        New coordinates             dX        dY        dZ\n",
      "   C   0.000000   1.388631  -0.000000    0.000000  0.002683 -0.000000\n",
      "   C   1.202301   0.694220  -0.000000    0.001935  0.001215  0.000000\n",
      "   C   1.202301  -0.694220   0.000000    0.001935 -0.001215 -0.000000\n",
      "   C   0.000000  -1.388631   0.000000    0.000000 -0.002683  0.000000\n",
      "   C  -1.202301  -0.694220  -0.000000   -0.001935 -0.001215  0.000000\n",
      "   C  -1.202301   0.694220  -0.000000   -0.001935  0.001215 -0.000000\n",
      "   H   0.000000   2.461850  -0.000000    0.000000  0.003854  0.000000\n",
      "   H   2.131768   1.230763   0.000000    0.002991  0.001718  0.000000\n",
      "   H   2.131768  -1.230763   0.000000    0.002991 -0.001718 -0.000000\n",
      "   H   0.000000  -2.461850   0.000000    0.000000 -0.003854  0.000000\n",
      "   H  -2.131768  -1.230763  -0.000000   -0.002991 -0.001718  0.000000\n",
      "   H  -2.131768   1.230763  -0.000000   -0.002991  0.001718 -0.000000\n",
      "converged SCF energy = -230.624474764293\n",
      "--------------- SCF_Scanner gradients ---------------\n",
      "         x                y                z\n",
      "0 C     0.0000000000     0.0002963729    -0.0000000000\n",
      "1 C     0.0001293122     0.0000674271    -0.0000000000\n",
      "2 C     0.0001293122    -0.0000674271     0.0000000000\n",
      "3 C     0.0000000000    -0.0002963729     0.0000000000\n",
      "4 C    -0.0001293122    -0.0000674271     0.0000000000\n",
      "5 C    -0.0001293122     0.0000674271    -0.0000000000\n",
      "6 H    -0.0000000000    -0.0000415785     0.0000000000\n",
      "7 H    -0.0000544982    -0.0000200601     0.0000000000\n",
      "8 H    -0.0000544982     0.0000200601    -0.0000000000\n",
      "9 H    -0.0000000000     0.0000415785    -0.0000000000\n",
      "10 H     0.0000544982     0.0000200601    -0.0000000000\n",
      "11 H     0.0000544982    -0.0000200601     0.0000000000\n",
      "----------------------------------------------\n",
      "cycle 3: E = -230.624474764  dE = -3.98653e-05  norm(grad) = 0.000526966\n"
     ]
    },
    {
     "name": "stderr",
     "output_type": "stream",
     "text": [
      "Step    2 : Displace = \u001b[0m3.063e-03\u001b[0m/\u001b[0m3.854e-03\u001b[0m (rms/max) Trust = 1.414e-01 (\u001b[92m+\u001b[0m) Grad = \u001b[92m1.521e-04\u001b[0m/\u001b[92m2.964e-04\u001b[0m (rms/max) E (change) = -230.6244747643 (\u001b[0m-3.987e-05\u001b[0m) Quality = \u001b[0m0.957\u001b[0m\n",
      "Hessian Eigenvalues: 2.30000e-02 2.30000e-02 2.30000e-02 ... 4.61250e-01 4.61268e-01 5.83445e-01\n"
     ]
    },
    {
     "name": "stdout",
     "output_type": "stream",
     "text": [
      "\n",
      "Geometry optimization cycle 4\n",
      "Cartesian coordinates (Angstrom)\n",
      " Atom        New coordinates             dX        dY        dZ\n",
      "   C   0.000000   1.387632  -0.000000   -0.000000 -0.000998  0.000000\n",
      "   C   1.202712   0.694143   0.000000    0.000412 -0.000077  0.000000\n",
      "   C   1.202712  -0.694143   0.000000    0.000412  0.000077  0.000000\n",
      "   C   0.000000  -1.387632  -0.000000   -0.000000  0.000998 -0.000000\n",
      "   C  -1.202712  -0.694143  -0.000000   -0.000412  0.000077 -0.000000\n",
      "   C  -1.202712   0.694143  -0.000000   -0.000412 -0.000077  0.000000\n",
      "   H   0.000000   2.460934  -0.000000   -0.000000 -0.000916 -0.000000\n",
      "   H   2.132109   1.231018   0.000000    0.000340  0.000255  0.000000\n",
      "   H   2.132109  -1.231018   0.000000    0.000340 -0.000255  0.000000\n",
      "   H   0.000000  -2.460934  -0.000000    0.000000  0.000916 -0.000000\n",
      "   H  -2.132109  -1.231018  -0.000000   -0.000340 -0.000255 -0.000000\n",
      "   H  -2.132109   1.231018  -0.000000   -0.000340  0.000255 -0.000000\n",
      "converged SCF energy = -230.624474239419\n",
      "--------------- SCF_Scanner gradients ---------------\n",
      "         x                y                z\n",
      "0 C    -0.0000000000    -0.0003543213    -0.0000000000\n",
      "1 C     0.0001292611     0.0001025532     0.0000000000\n",
      "2 C     0.0001292611    -0.0001025532    -0.0000000000\n",
      "3 C    -0.0000000000     0.0003543213    -0.0000000000\n",
      "4 C    -0.0001292611    -0.0001025532    -0.0000000000\n",
      "5 C    -0.0001292611     0.0001025532     0.0000000000\n",
      "6 H     0.0000000000    -0.0000153288     0.0000000000\n",
      "7 H     0.0000502132    -0.0000106425    -0.0000000000\n",
      "8 H     0.0000502132     0.0000106425     0.0000000000\n",
      "9 H     0.0000000000     0.0000153288     0.0000000000\n",
      "10 H    -0.0000502132     0.0000106425    -0.0000000000\n",
      "11 H    -0.0000502132    -0.0000106425    -0.0000000000\n",
      "----------------------------------------------\n",
      "cycle 4: E = -230.624474239  dE = 5.24874e-07  norm(grad) = 0.000609096\n"
     ]
    },
    {
     "name": "stderr",
     "output_type": "stream",
     "text": [
      "Step    3 : Displace = \u001b[92m6.517e-04\u001b[0m/\u001b[92m9.983e-04\u001b[0m (rms/max) Trust = 2.000e-01 (\u001b[92m+\u001b[0m) Grad = \u001b[92m1.758e-04\u001b[0m/\u001b[92m3.543e-04\u001b[0m (rms/max) E (change) = -230.6244742394 (\u001b[91m+5.249e-07\u001b[0m) Quality = \u001b[91m-1.328\u001b[0m\n",
      "Converged! =D\n",
      "\n",
      "    #==========================================================================#\n",
      "    #| If this code has benefited your research, please support us by citing: |#\n",
      "    #|                                                                        |#\n",
      "    #| Wang, L.-P.; Song, C.C. (2016) \"Geometry optimization made simple with |#\n",
      "    #| translation and rotation coordinates\", J. Chem, Phys. 144, 214108.     |#\n",
      "    #| http://dx.doi.org/10.1063/1.4952956                                    |#\n",
      "    #==========================================================================#\n",
      "    \n",
      "Time elapsed since start of run_optimizer: 19.087 seconds\n"
     ]
    }
   ],
   "source": [
    "from pyscf.geomopt.geometric_solver import optimize\n",
    "mol = optimize(rhf)"
   ]
  },
  {
   "cell_type": "markdown",
   "metadata": {},
   "source": [
    "## Referencias"
   ]
  },
  {
   "cell_type": "markdown",
   "metadata": {},
   "source": [
    "- Q. Sun, T.C. Berkelbach, N.S. Blunt, G.H. Booth, S. Guo, Z. Li, J. Liu, J.D. McClain, E.R. Sayfutyarova, S. Sharma, S. Wouters, y G.K.-L. Chan, PySCF: the Python-based simulations of chemistry framework, Wiley Interdiscip. Rev. Comput. Mol. Sci. 8, e1340 (2018).\n",
    "- Q. Sun, X. Zhang, S. Banerjee, P. Bao, M. Barbry, N.S. Blunt, N.A. Bogdanov, G.H. Booth, J. Chen, Z.-H. Cui, J.J. Eriksen, Y. Gao, S. Guo, J. Hermann, M.R. Hermes, K. Koh, P. Koval, S. Lehtola, Z. Li, J. Liu, N. Mardirossian, J.D. McClain, M. Motta, B. Mussard, H.Q. Pham, A. Pulkin, W. Purwanto, P.J. Robinson, E. Ronca, E.R. Sayfutyarova, M. Scheurer, H.F. Schurkus, J.E.T. Smith, C. Sun, S.-N. Sun, S. Upadhyay, L.K. Wagner, X. Wang, A. White, J.D. Whitfield, M.J. Williamson, S. Wouters, J. Yang, J.M. Yu, T. Zhu, T.C. Berkelbach, S. Sharma, A.Y. Sokolov, y G.K.-L. Chan, Recent developments in the PySCF program package, J. Chem. Phys. 153, 024109 (2020).\n",
    "- Q. Sun, Libcint: An efficient general integral library for Gaussian basis functions, J. Comput. Chem. 36, 1664 (2015).\n",
    "- https://pyscf.org/quickstart.html"
   ]
  }
 ],
 "metadata": {
  "celltoolbar": "Tags",
  "kernelspec": {
   "display_name": "Python 3 (ipykernel)",
   "language": "python",
   "name": "python3"
  },
  "language_info": {
   "codemirror_mode": {
    "name": "ipython",
    "version": 3
   },
   "file_extension": ".py",
   "mimetype": "text/x-python",
   "name": "python",
   "nbconvert_exporter": "python",
   "pygments_lexer": "ipython3",
   "version": "3.9.12"
  }
 },
 "nbformat": 4,
 "nbformat_minor": 2
}
