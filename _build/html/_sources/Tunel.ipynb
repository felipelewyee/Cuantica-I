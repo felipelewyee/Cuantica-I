{
 "cells": [
  {
   "cell_type": "markdown",
   "metadata": {
    "id": "3_tkSDmfEtap"
   },
   "source": [
    "# Efecto Túnel"
   ]
  },
  {
   "cell_type": "markdown",
   "metadata": {
    "id": "ffWT6U3FE6a9"
   },
   "source": [
    "## Barrera de potencial $V$ de longitud infinita\n",
    "\n",
    "Considere una partícula moviéndose hacia una barrera de potencial V en $x=0$. Antes de $x=0$ el potencial vale cero, y después vale $V$, es decir:\n",
    "\n",
    "$$\n",
    "V(x) = \\left\\{\n",
    "  \\begin{array}{lll}\n",
    "  0      & \\mathrm{si\\ } x < 0 & I\\\\\n",
    "  V & \\mathrm{si\\ } 0 \\le x < \\infty & II \\\\\n",
    "  \\end{array}\n",
    "  \\right.\n",
    "$$\n",
    "\n",
    "En este sistema consideraremos el caso en el que la partícula tiene menor energía, $E$, que el potencial, $V$, es decir, $E < V$.\n",
    "\n",
    "```{admonition} Para pensar\n",
    ":class: tip\n",
    "De manera clásica, la partícula no podría pasar del lado izquierdo (región I) al lado derecho (región II) de la caja, porque no tiene suficiente energía. Por esta razón, no podríamos encontrar a la partícula en la región II. ¿Qué pasará cuánticamente?\n",
    "```\n",
    "\n",
    "En la región I, la ecuación de Schrödinger es\n",
    "\n",
    "$$\n",
    "\\left(- \\frac{\\hbar^2}{2m} \\frac{d^2}{dx^2} \\right)\\psi_I(x) = E \\psi_I(x)\n",
    "$$\n",
    "\n",
    "cuya solución es\n",
    "\n",
    "$$\n",
    "\\begin{array}{lll}\n",
    "  \\psi_I(x) = Acos(k_1x) + Bsin(k_1x)      & \\mathrm{si\\ } 0 \\le x; & k_1^2 = \\frac{2mE}{\\hbar^2}\\\\\n",
    "  \\end{array}\n",
    "$$\n",
    "\n",
    "En la región II, la ecuación de Schrödinger es\n",
    "\n",
    "$$\n",
    "\\left(- \\frac{\\hbar^2}{2m} \\frac{d^2}{dx^2} + V \\right)\\psi_{II}(x) = E \\psi_{II}(x)\n",
    "$$\n",
    "\n",
    "cuya solución, si $E < V$ es\n",
    "\n",
    "$$\n",
    "\\begin{array}{lll}\n",
    "  \\psi_{II}(x) = C e^{-k_2x} + De^{k_2x}      & \\mathrm{si\\ } 0 \\le x; & k_2^2 = \\frac{2m(V-E)}{\\hbar^2}\\\\\n",
    "  \\end{array}\n",
    "$$\n",
    "\n",
    "Los coeficientes pueden obtenerse a partir de la condicióón de continuidad de la función de onda en $x=0$\n",
    "\n",
    "```{admonition} Inserto matemático: Condiciones de continuidad\n",
    ":class: dropdown\n",
    "\n",
    "Para que la función de onda converga al infinito, se requiere que $D$ sea cero, ya que $e^{k_2x}$ es una función siempre creciente, es decir\n",
    "\n",
    "$$\n",
    "D = 0\n",
    "$$\n",
    "\n",
    "Se requiere que la función de onda de la zona I y de la zona II sean iguales en $x=0$, es decir\n",
    "\n",
    "$$\n",
    "\\psi_I(0) = \\psi_{II}(0)\n",
    "$$\n",
    "\n",
    "$$\n",
    "A = C\n",
    "$$\n",
    "\n",
    "También se requiere que las derivadas de la función de onda de la zona I y de la zona II sean iguales en $x=0$, es decir\n",
    "\n",
    "$$\n",
    "\\frac{d\\psi_I}{dx}(0) = \\frac{d\\psi_{II}}{dx}(0)\n",
    "k_1 B = - k_2 C\n",
    "$$\n",
    "```\n",
    "Se obtiene\n",
    "\n",
    "$$\n",
    "B = -\\frac{k_2}{k_1} A\n",
    "$$\n",
    "\n",
    "$$\n",
    "C = A\n",
    "$$\n",
    "\n",
    "$$\n",
    "D = 0\n",
    "$$"
   ]
  },
  {
   "cell_type": "markdown",
   "metadata": {
    "id": "DjqT9ED5L0CL"
   },
   "source": [
    "**Importe numpy y pyplot de matplotlib.**"
   ]
  },
  {
   "cell_type": "code",
   "execution_count": 68,
   "metadata": {
    "id": "kZHhg0qML4oc"
   },
   "outputs": [],
   "source": [
    "# Importe librerías"
   ]
  },
  {
   "cell_type": "code",
   "execution_count": 69,
   "metadata": {
    "id": "VAKUysgW4W01",
    "tags": [
     "hide-cell"
    ]
   },
   "outputs": [],
   "source": [
    "import numpy as np\n",
    "from matplotlib import pyplot as plt"
   ]
  },
  {
   "cell_type": "markdown",
   "metadata": {
    "id": "r8oBQQpjL9dN"
   },
   "source": [
    "**De valores a las constantes del sistema**. Considere $m=1$, $\\hbar=1$. Asigne algún valor a la energía y al potencial, respetando que $V > E$, observe que en este caso la energía no está cuantizada, por lo que puede tomar cualquier valor. A manera de ejemplo, considere $E=1$ y $V=10$. "
   ]
  },
  {
   "cell_type": "code",
   "execution_count": null,
   "metadata": {
    "id": "w5aUcz4ee-jY"
   },
   "outputs": [],
   "source": [
    "# Valores de m,hbar,E,V"
   ]
  },
  {
   "cell_type": "code",
   "execution_count": 70,
   "metadata": {
    "id": "YVvBrBC04NBX",
    "tags": [
     "hide-cell"
    ]
   },
   "outputs": [],
   "source": [
    "m = 1\n",
    "hbar = 1\n",
    "E = 1\n",
    "V = 10"
   ]
  },
  {
   "cell_type": "markdown",
   "metadata": {
    "id": "EruRn1ePNTM0"
   },
   "source": [
    "Defina $k_1$ y $k_2$, recuerde que\n",
    "\n",
    "$$\n",
    "k_1 = \\frac{\\sqrt{2mE}}{\\hbar}\n",
    "$$\n",
    "\n",
    "$$\n",
    "k_2 = \\frac{\\sqrt{2m(V-E)}}{\\hbar}\n",
    "$$"
   ]
  },
  {
   "cell_type": "code",
   "execution_count": null,
   "metadata": {
    "id": "DoUmGJlefDwC"
   },
   "outputs": [],
   "source": [
    "# k1 y k2"
   ]
  },
  {
   "cell_type": "code",
   "execution_count": 71,
   "metadata": {
    "id": "fNQ-Is1YNqnF",
    "tags": [
     "hide-cell"
    ]
   },
   "outputs": [],
   "source": [
    "k1 = np.sqrt(2*m*E)/hbar\n",
    "k2 = np.sqrt(2*m*(V-E))/hbar"
   ]
  },
  {
   "cell_type": "markdown",
   "metadata": {
    "id": "WKp5MbiLNxwD"
   },
   "source": [
    "Defina las constantes\n",
    "\n",
    "$$\n",
    "B = -\\frac{k_2}{k_1} A\n",
    "$$\n",
    "\n",
    "$$\n",
    "C = A\n",
    "$$\n",
    "\n",
    "Por conveniencia, defina \n",
    "\n",
    "$$\n",
    "A=1\n",
    "$$"
   ]
  },
  {
   "cell_type": "code",
   "execution_count": null,
   "metadata": {
    "id": "mXcgmjRNfF3B"
   },
   "outputs": [],
   "source": [
    "# A, B, C"
   ]
  },
  {
   "cell_type": "code",
   "execution_count": 72,
   "metadata": {
    "id": "DUCNfee44hk0",
    "tags": [
     "hide-cell"
    ]
   },
   "outputs": [],
   "source": [
    "A = 1\n",
    "B = -k2/k1*A\n",
    "C = A"
   ]
  },
  {
   "cell_type": "markdown",
   "metadata": {
    "id": "QZP7my2TOcEA"
   },
   "source": [
    "Defina el dominio de $x$ para la región I y para la región II, recuerde que ambos se separan en $x=0$."
   ]
  },
  {
   "cell_type": "code",
   "execution_count": null,
   "metadata": {
    "id": "8-IZ33_HfJK8"
   },
   "outputs": [],
   "source": [
    "# x1 y x2"
   ]
  },
  {
   "cell_type": "code",
   "execution_count": 73,
   "metadata": {
    "id": "2Oi_f3p94ybq",
    "tags": [
     "hide-cell"
    ]
   },
   "outputs": [],
   "source": [
    "x1 = np.linspace(-10,0,100)\n",
    "x2 = np.linspace(0,10,100)"
   ]
  },
  {
   "cell_type": "markdown",
   "metadata": {
    "id": "419fEO_IOqLT"
   },
   "source": [
    "Genere la función de onda para la región I y para la región II. Recuerde\n",
    "\n",
    "$$\n",
    "\\psi_I = A cos(k_1 x) + B sin(k_1 x)\n",
    "$$\n",
    "\n",
    "$$\n",
    "\\psi_{II} = C e^{-k_2 x}\n",
    "$$"
   ]
  },
  {
   "cell_type": "code",
   "execution_count": null,
   "metadata": {
    "id": "6u0bu0eTfMBO"
   },
   "outputs": [],
   "source": [
    "# psi_I y psi_II"
   ]
  },
  {
   "cell_type": "code",
   "execution_count": 74,
   "metadata": {
    "id": "Zu_vFHRI41YD",
    "tags": [
     "hide-cell"
    ]
   },
   "outputs": [],
   "source": [
    "psi_I = A*np.cos(k1*x1) + B *np.sin(k1*x1)\n",
    "psi_II = C*np.exp(-k2*x2)"
   ]
  },
  {
   "cell_type": "markdown",
   "metadata": {
    "id": "czcRD_87O-i8"
   },
   "source": [
    "Grafique $\\psi_I$ y $\\psi_{II}$"
   ]
  },
  {
   "cell_type": "code",
   "execution_count": null,
   "metadata": {
    "id": "i4OnkCKvfOmh"
   },
   "outputs": [],
   "source": [
    "# Grafica"
   ]
  },
  {
   "cell_type": "code",
   "execution_count": 75,
   "metadata": {
    "colab": {
     "base_uri": "https://localhost:8080/",
     "height": 282
    },
    "id": "MOSRlMvf5Lze",
    "outputId": "1b25b149-aac9-4a16-a1a7-41ed7180482a",
    "tags": [
     "hide-input"
    ]
   },
   "outputs": [
    {
     "data": {
      "text/plain": [
       "[<matplotlib.lines.Line2D at 0x7fcf80c051d0>]"
      ]
     },
     "execution_count": 75,
     "metadata": {
      "tags": []
     },
     "output_type": "execute_result"
    },
    {
     "data": {
      "image/png": "[encoded data removed]",
      "text/plain": [
       "<Figure size 432x288 with 1 Axes>"
      ]
     },
     "metadata": {
      "needs_background": "light",
      "tags": []
     },
     "output_type": "display_data"
    }
   ],
   "source": [
    "plt.plot(x1,psi_I)\n",
    "plt.plot(x2,psi_II)"
   ]
  },
  {
   "cell_type": "markdown",
   "metadata": {
    "id": "Iw51Kw7eRdZV"
   },
   "source": [
    "Note que la partícula puede ser encontrada dentro de la región clásicamente prohibida, esto se conoce como penetración. \n",
    "\n",
    "```{admonition} Concepto: Longitud de decaimiento\n",
    ":class: note\n",
    "\n",
    "La longitud de decaimiento, $\\frac{1}{k_2}$ es la distancia dentro de la barrera a la cual la función de onda a deacído a  $\\frac{1}{e}$.\n",
    "```"
   ]
  },
  {
   "cell_type": "markdown",
   "metadata": {
    "id": "yszq5r5yfR5Q"
   },
   "source": [
    "**Calcule la longitud de decaimiento de este sistema.**"
   ]
  },
  {
   "cell_type": "markdown",
   "metadata": {
    "id": "XsVKjeftRffY"
   },
   "source": [
    "## Barrera de potencial $V$ de longitud finita\n",
    "\n",
    "Considere una partícula moviéndose hacia una barrera de potencial V en $0 \\leq x \\leq  L$, es decir:\n",
    "\n",
    "$$\n",
    "V(x) = \\left\\{\n",
    "  \\begin{array}{lll}\n",
    "  0      & \\mathrm{si\\ } x < 0 & I\\\\\n",
    "  V & \\mathrm{si\\ } 0 \\leq x \\leq L & II \\\\\n",
    "  0 & \\mathrm{si\\ } L \\le x & II \\\\\n",
    "  \\end{array}\n",
    "  \\right.\n",
    "$$\n",
    "\n",
    "En este sistema consideraremos el caso en el que la partícula tiene menor energía, $E$, que el potencial, $V$, es decir, $E < V$.\n",
    "\n",
    "En la región I, la ecuación de Schrödinger es\n",
    "\n",
    "$$\n",
    "\\left(- \\frac{\\hbar^2}{2m} \\frac{d^2}{dx^2} \\right)\\psi_I(x) = E \\psi_I(x)\n",
    "$$\n",
    "\n",
    "cuya solución es\n",
    "\n",
    "$$\n",
    "\\begin{array}{lll}\n",
    "  \\psi_I(x) = Acos(k_1x) + Bsin(k_1x)      & \\mathrm{si\\ } 0 \\le x; & k_1^2 = \\frac{2mE}{\\hbar^2}\\\\\n",
    "  \\end{array}\n",
    "$$\n",
    "\n",
    "En la región II, la ecuación de Schrödinger es\n",
    "\n",
    "$$\n",
    "\\left(- \\frac{\\hbar^2}{2m} \\frac{d^2}{dx^2} + V \\right)\\psi_{II}(x) = E \\psi_{II}(x)\n",
    "$$\n",
    "\n",
    "cuya solución, si $E < V$ es\n",
    "\n",
    "$$\n",
    "\\begin{array}{lll}\n",
    "  \\psi_{II}(x) = C e^{-k_2x} + De^{k_2x}      & \\mathrm{si\\ } 0 \\le x; & k_2^2 = \\frac{2m(V-E)}{\\hbar^2}\\\\\n",
    "  \\end{array}\n",
    "$$\n",
    "\n",
    "En la región III, la ecuación de Schrödinger es\n",
    "\n",
    "$$\n",
    "\\left(- \\frac{\\hbar^2}{2m} \\frac{d^2}{dx^2} \\right)\\psi_{III}(x) = E \\psi_{III}(x)\n",
    "$$\n",
    "\n",
    "cuya solución es\n",
    "\n",
    "$$\n",
    "\\begin{array}{lll}\n",
    "  \\psi_I(x) = Fcos(k_1x) + Gsin(k_1x)      & \\mathrm{si\\ } 0 \\le x; & k_1^2 = \\frac{2mE}{\\hbar^2}\\\\\n",
    "  \\end{array}\n",
    "$$\n",
    "\n",
    "Los coeficientes pueden obtenerse a partir de la condicióón de continuidad de la función de onda en $x=0$\n",
    "\n",
    "```{admonition} Inserto matemático: Condiciones de continuidad\n",
    ":class: dropdown\n",
    "\n",
    "Se requiere que la función de onda de la zona I y de la zona II sean iguales en $x=0$, es decir\n",
    "\n",
    "$$\n",
    "\\psi_I(0) = \\psi_{II}(0)\n",
    "$$\n",
    "\n",
    "$$\n",
    "A = C + D\n",
    "$$\n",
    "\n",
    "También se requiere que las derivadas de la función de onda de la zona I y de la zona II sean iguales en $x=0$, es decir\n",
    "\n",
    "$$\n",
    "\\frac{d\\psi_I}{dx}(0) = \\frac{d\\psi_{II}}{dx}(0)\n",
    "$$\n",
    "\n",
    "$$\n",
    "k_1 B = - k_2 (C - D)\n",
    "$$\n",
    "\n",
    "Se requiere que la función de onda de la zona II y de la zona III sean iguales en $x=L$, es decir\n",
    "\n",
    "$$\n",
    "\\psi_{II}(L) = \\psi_{III}(L)\n",
    "$$\n",
    "\n",
    "$$\n",
    "Ce^{k_2L} + De^{-k_2L} = F cos(k_1L) + G sin(k_1L)\n",
    "$$\n",
    "\n",
    "\n",
    "También se requiere que las derivadas de la función de onda de la zona II y de la zona III sean iguales en $x=L$, es decir\n",
    "\n",
    "$$\n",
    "\\frac{d\\psi_{II}}{dx}(L) = \\frac{d\\psi_{III}}{dx}(L)\n",
    "$$\n",
    "\n",
    "$$\n",
    "-k_2 C e^{-k_2L} + k_2 D e^{k_2L}  = - k_1 F sin(k_1L) + k_1 G cos(k_1L) \n",
    "$$\n",
    "\n",
    "Al dividir la última ecuación entre $k_2$, y sumarla con la penúltima se obtiene\n",
    "\n",
    "$$\n",
    "D = \\frac{F(cos(k_1L) - \\frac{k_1}{k_2}sin(k_1L) ) + G(sin(k_1L) + \\frac{k_1}{k_2}cos(k_1L) )}{2 e^{k_2L}}\n",
    "$$\n",
    "\n",
    "y al restarla\n",
    "\n",
    "$$\n",
    "C = \\frac{F(cos(k_1L) + \\frac{k_2}{k_1}sin(k_1L) ) + G(sin(k_1L) - \\frac{k_2}{k_1}cos(k_1L) )}{2 e^{-k_2L}}\n",
    "$$\n",
    "```\n",
    "\n",
    "Se obtiene\n",
    "\n",
    "$$\n",
    "A = C + D\n",
    "$$\n",
    "\n",
    "$$\n",
    "B = - \\frac{k_2}{k_1} (C - D)\n",
    "$$\n",
    "\n",
    "$$\n",
    "C = \\frac{F(cos(k_1L) + \\frac{k_1}{k_2}sin(k_2L) ) + G(sin(k_1L) - \\frac{k_1}{k_2}cos(k_1L) )}{2 e^{-k_2L}}\n",
    "$$\n",
    "\n",
    "$$\n",
    "D = \\frac{F(cos(k_1L) - \\frac{k_1}{k_2}sin(k_1L) ) + G(sin(k_1L) + \\frac{k_1}{k_2}cos(k_1L) )}{2 e^{k_2L}}\n",
    "$$\n"
   ]
  },
  {
   "cell_type": "markdown",
   "metadata": {
    "id": "RwWTP7KtY9dm"
   },
   "source": [
    "**De valores a las constantes del sistema**. Considere $m=1$, $\\hbar=1$. Asigne algún valor a la energía y al potencial, respetando que $V > E$, observe que en este caso la energía no está cuantizada, por lo que puede tomar cualquier valor. A manera de ejemplo, considere $E=1$ y $V=10$. Asigne un valor a la longitud de la berrera de potencial, por ejemplo, $L=1$."
   ]
  },
  {
   "cell_type": "code",
   "execution_count": null,
   "metadata": {
    "id": "PqrqsJVKfbCv"
   },
   "outputs": [],
   "source": [
    "# m, hbar, L, E, v"
   ]
  },
  {
   "cell_type": "code",
   "execution_count": 89,
   "metadata": {
    "id": "xRe4PfpC5eEV",
    "tags": [
     "hide-cell"
    ]
   },
   "outputs": [],
   "source": [
    "m = 1\n",
    "hbar = 1\n",
    "L = 1\n",
    "E = 1\n",
    "V = 10"
   ]
  },
  {
   "cell_type": "markdown",
   "metadata": {
    "id": "FJpPOfVscbEl"
   },
   "source": [
    "Asigne valores a las constantes $A$, $B$, $C$, $D$, $F$, $G$. Recuerde.\n",
    "\n",
    "$$\n",
    "A = C + D\n",
    "$$\n",
    "\n",
    "$$\n",
    "B = - \\frac{k_2}{k_1} (C - D)\n",
    "$$\n",
    "\n",
    "$$\n",
    "C = \\frac{F(cos(k_1L) + \\frac{k_1}{k_2}sin(k_1L) ) + G(sin(k_1L) - \\frac{k_1}{k_2}cos(k_1L) )}{2 e^{-k_2L}}\n",
    "$$\n",
    "\n",
    "$$\n",
    "D = \\frac{F(cos(k_1L) - \\frac{k_1}{k_2}sin(k_1L) ) + G(sin(k_1L) + \\frac{k_1}{k_2}cos(k_1L) )}{2 e^{k_2L}}\n",
    "$$\n",
    "\n",
    "Por conveniencia, considere $F=1$ y $G=1$."
   ]
  },
  {
   "cell_type": "code",
   "execution_count": null,
   "metadata": {
    "id": "z5mOdK2kfxyx"
   },
   "outputs": [],
   "source": [
    "# A, B, C, D, F, G"
   ]
  },
  {
   "cell_type": "code",
   "execution_count": 90,
   "metadata": {
    "id": "cffLTIHW5eJy",
    "tags": [
     "hide-cell"
    ]
   },
   "outputs": [],
   "source": [
    "F = 1\n",
    "G = 1\n",
    "\n",
    "C = (F*(np.cos(k1*L) + k1/k2*np.sin(k1*L)) + G*(np.sin(k1*L) - k1/k2*np.cos(k1*L)))/(2*np.exp(-k2*L))\n",
    "D = (F*(np.cos(k1*L) - k1/k2*np.sin(k1*L)) + G*(np.sin(k1*L) + k1/k2*np.cos(k1*L)))/(2*np.exp(k2*L))\n",
    "\n",
    "A = C + D\n",
    "\n",
    "B = -k1/k2*(C-D)"
   ]
  },
  {
   "cell_type": "markdown",
   "metadata": {
    "id": "LlvgLyO_c-RC"
   },
   "source": [
    "Defina un dominio para x."
   ]
  },
  {
   "cell_type": "code",
   "execution_count": null,
   "metadata": {
    "id": "6wg3ltCcf3UA"
   },
   "outputs": [],
   "source": [
    "# Dominio de x para región I, II y III"
   ]
  },
  {
   "cell_type": "code",
   "execution_count": 91,
   "metadata": {
    "id": "KjOHGR0oDZ-U",
    "tags": [
     "hide-cell"
    ]
   },
   "outputs": [],
   "source": [
    "x1 = np.linspace(-10,0,100)\n",
    "x2 = np.linspace(0,L,100)\n",
    "x3 = np.linspace(L,10,100)"
   ]
  },
  {
   "cell_type": "markdown",
   "metadata": {
    "id": "Hdhwdfa1dDG6"
   },
   "source": [
    "Defina la función de onda para las tres regiones. Recuerde\n",
    "\n",
    "$$\n",
    "\\psi_I = A cos(k_1x) + B sin(k_1x)\n",
    "$$\n",
    "\n",
    "$$\n",
    "\\psi_{II} = C e^{-k_2 x} + D e^{k_2 x}\n",
    "$$\n",
    "\n",
    "$$\n",
    "\\psi_{III} = F cos(k_1x) + G sin(k_1x)\n",
    "$$"
   ]
  },
  {
   "cell_type": "code",
   "execution_count": null,
   "metadata": {
    "id": "cUdZ6DBqf6v9"
   },
   "outputs": [],
   "source": [
    "# Función de onda para región I, II y III"
   ]
  },
  {
   "cell_type": "code",
   "execution_count": 92,
   "metadata": {
    "id": "iSN1PwOY5eQH",
    "tags": [
     "hide-cell"
    ]
   },
   "outputs": [],
   "source": [
    "psi_I = A*np.cos(k1*x1) + B*np.sin(k1*x1)\n",
    "psi_II = C*np.exp(-k2*x2) + D*np.exp(k2*x2)\n",
    "psi_III = F*np.cos(k1*x3) + G*np.sin(k1*x3)"
   ]
  },
  {
   "cell_type": "markdown",
   "metadata": {
    "id": "rKxvs_5kd5Dv"
   },
   "source": [
    "Grafique la función de onda."
   ]
  },
  {
   "cell_type": "code",
   "execution_count": null,
   "metadata": {
    "id": "Dp-Y47d-gCfG"
   },
   "outputs": [],
   "source": [
    "# Grafique función de onda"
   ]
  },
  {
   "cell_type": "code",
   "execution_count": 93,
   "metadata": {
    "colab": {
     "base_uri": "https://localhost:8080/",
     "height": 282
    },
    "id": "5odQjn0r5eNQ",
    "outputId": "f0d61c3c-563a-47b7-8fac-0dd709b71c89",
    "tags": [
     "hide-input"
    ]
   },
   "outputs": [
    {
     "data": {
      "text/plain": [
       "[<matplotlib.lines.Line2D at 0x7fcf80a74ef0>]"
      ]
     },
     "execution_count": 93,
     "metadata": {
      "tags": []
     },
     "output_type": "execute_result"
    },
    {
     "data": {
      "image/png": "[encoded data removed]",
      "text/plain": [
       "<Figure size 432x288 with 1 Axes>"
      ]
     },
     "metadata": {
      "needs_background": "light",
      "tags": []
     },
     "output_type": "display_data"
    }
   ],
   "source": [
    "plt.plot(x1,psi_I)\n",
    "plt.plot(x2,psi_II)\n",
    "plt.plot(x3,psi_III)"
   ]
  }
 ],
 "metadata": {
  "celltoolbar": "Tags",
  "colab": {
   "name": "Tunel.ipynb",
   "provenance": []
  },
  "kernelspec": {
   "display_name": "Python 3",
   "language": "python",
   "name": "python3"
  },
  "language_info": {
   "codemirror_mode": {
    "name": "ipython",
    "version": 3
   },
   "file_extension": ".py",
   "mimetype": "text/x-python",
   "name": "python",
   "nbconvert_exporter": "python",
   "pygments_lexer": "ipython3",
   "version": "3.7.9"
  }
 },
 "nbformat": 4,
 "nbformat_minor": 1
}
