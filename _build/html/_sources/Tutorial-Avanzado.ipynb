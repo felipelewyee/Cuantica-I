{
 "cells": [
  {
   "cell_type": "markdown",
   "metadata": {},
   "source": [
    "# Tutorial Avanzado."
   ]
  },
  {
   "cell_type": "markdown",
   "metadata": {},
   "source": [
    "En esta parte del tutorial aprenderá a utilizar Python para manejar vectores y matrices, crear gráficas y resolver integrales. Estas funciones serán trascendentales para el curso de `Química Cuántica I`. **Recuerde escribir en los cuadros vacíos y presionar el botón Run o las teclas \"Shift\" + \"Enter\".**\n",
    "\n",
    "Utilizaremos las librerías numpy, matplotlib y scipy que aprendió a utilizar en el Tutorial Básico, **impórtelas en el siguiente recuadro**."
   ]
  },
  {
   "cell_type": "code",
   "execution_count": null,
   "metadata": {},
   "outputs": [],
   "source": [
    "# Importe librerías"
   ]
  },
  {
   "cell_type": "code",
   "execution_count": null,
   "metadata": {
    "tags": [
     "hide-cell"
    ]
   },
   "outputs": [],
   "source": [
    "import numpy as np\n",
    "from matplotlib import pyplot as plt\n",
    "import scipy"
   ]
  },
  {
   "cell_type": "markdown",
   "metadata": {},
   "source": [
    "## Vectores y Matrices"
   ]
  },
  {
   "cell_type": "markdown",
   "metadata": {},
   "source": [
    "Python permite manejar fácilmente objetos multidimensionales, como vectores y matrices. Empezaremos creando una lista, la cual es un conjunto de cosas. Las listas se crean poniendo elementos entre corchetes cuadrados, por ejemplo\n",
    "~~~python\n",
    "lista = [5, 9, 4]\n",
    "~~~\n",
    "\n",
    "Podemos imprimir todos los elementos de la lista con\n",
    "~~~python\n",
    "print(lista)\n",
    "~~~\n",
    "También podemos imprimir un elemento específico indicando el número del elemento entre paréntesis cuadrados. En Python los elementos se cuentan desde \"cero\". Para imprimir el número 9 en la lista anterior ejecutaríamos:\n",
    "~~~python\n",
    "print(lista[1])\n",
    "~~~\n",
    "\n",
    "**Cree la siguiente lista [8,25,32,41] y guárdela en la variable \"lista\". Imprima la lista completa, así como el primer elemento del vector.**"
   ]
  },
  {
   "cell_type": "code",
   "execution_count": null,
   "metadata": {},
   "outputs": [],
   "source": [
    "#Cree una lista"
   ]
  },
  {
   "cell_type": "code",
   "execution_count": null,
   "metadata": {
    "tags": [
     "hide-cell"
    ]
   },
   "outputs": [],
   "source": [
    "lista = [8,25,32,41]\n",
    "print(lista)\n",
    "print(lista[0])"
   ]
  },
  {
   "cell_type": "markdown",
   "metadata": {},
   "source": [
    "La lista puede convertirse en un arreglo de numpy, esto facilita el manejo de cantidades vectoriales. Para declarar la lista anterior como un arreglo de numpy escribiremos\n",
    "~~~python\n",
    "vector = np.array([5, 9, 4])\n",
    "~~~\n",
    "\n",
    "Una ventaja es que podemos declarar dos arreglos, por ejemplo\n",
    "~~~python\n",
    "v1 = np.array([2, 4, 6])\n",
    "v2 = np.array([3, 5, 7])\n",
    "~~~\n",
    "\n",
    "y sumarlos, de una forma muy parecida a como se haría en física.\n",
    "\n",
    "~~~python\n",
    "print(v1+v2)\n",
    "~~~\n",
    "\n",
    "**Cree dos vectores como arreglos de numpy, uno que contenga los elementos \"1,8,6\", y otro que contenga \"5,2,7\", e imprima su suma**"
   ]
  },
  {
   "cell_type": "code",
   "execution_count": null,
   "metadata": {},
   "outputs": [],
   "source": [
    "#Suma de dos vectores"
   ]
  },
  {
   "cell_type": "code",
   "execution_count": null,
   "metadata": {
    "tags": [
     "hide-cell"
    ]
   },
   "outputs": [],
   "source": [
    "v1 = np.array([1,8,6])\n",
    "v2 = np.array([5,2,7])\n",
    "\n",
    "print(v1+v2)"
   ]
  },
  {
   "cell_type": "markdown",
   "metadata": {},
   "source": [
    "También podemos crear matrices como una \"lista de listas\", donde cada lista representa un renglón de la matriz. A continuación generemos una matriz de 3x3 que contenga ceros en todos su elementos\n",
    "~~~python\n",
    "matriz = [[0.0, 0.0, 0.0],[0.0, 0.0, 0.0],[0.0, 0.0, 0.0]]\n",
    "~~~\n",
    "**Genere la matriz de ceros anterior, e imprímala.**"
   ]
  },
  {
   "cell_type": "code",
   "execution_count": null,
   "metadata": {},
   "outputs": [],
   "source": [
    "#Cree matriz"
   ]
  },
  {
   "cell_type": "markdown",
   "metadata": {},
   "source": [
    "Podemos usar numpy para hacer nuestra matriz de ceros de forma más fácil\n",
    "~~~python\n",
    "matriz = np.zeros((3,3))\n",
    "print(matriz)\n",
    "~~~\n",
    "**Prueba usar numpy para definir una matriz de ceros de 5x5, e imprímala.**"
   ]
  },
  {
   "cell_type": "code",
   "execution_count": null,
   "metadata": {},
   "outputs": [],
   "source": [
    "#Cree matriz de ceros con numpy"
   ]
  },
  {
   "cell_type": "code",
   "execution_count": null,
   "metadata": {
    "tags": [
     "hide-cell"
    ]
   },
   "outputs": [],
   "source": [
    "matriz = np.zeros((5,5))\n",
    "print(matriz)"
   ]
  },
  {
   "cell_type": "markdown",
   "metadata": {},
   "source": [
    "**A continuación genere una matriz de 3x3, guárdela en la variable \"matriz1\", y asígnele los valores del 1 al 9, tal que**\n",
    "\n",
    "$$\n",
    "matriz1 = \\begin{pmatrix}\n",
    "1 & 2 & 3\\\\\n",
    "4 & 5 & 6\\\\\n",
    "7 & 8 & 9\\\\\n",
    "\\end{pmatrix}\n",
    "$$\n",
    "\n",
    "Puede ayudarse del siguiente código.\n",
    "~~~python\n",
    "matriz1 = np.zeros((3,3))\n",
    "matriz1[0][0]=1.0\n",
    "matriz1[0][1]=2.0\n",
    "matriz1[0][2]=3.0\n",
    "matriz1[1][0]=4.0\n",
    "matriz1[1][2]=5.0\n",
    "...\n",
    "~~~"
   ]
  },
  {
   "cell_type": "code",
   "execution_count": null,
   "metadata": {},
   "outputs": [],
   "source": [
    "#Llene una matriz de 3x3"
   ]
  },
  {
   "cell_type": "code",
   "execution_count": null,
   "metadata": {
    "tags": [
     "hide-cell"
    ]
   },
   "outputs": [],
   "source": [
    "matriz1 = np.zeros((3,3))\n",
    "matriz1[0][0]=1.0\n",
    "matriz1[0][1]=2.0\n",
    "matriz1[0][2]=3.0\n",
    "matriz1[1][0]=4.0\n",
    "matriz1[1][1]=5.0\n",
    "matriz1[1][2]=6.0\n",
    "matriz1[2][0]=7.0\n",
    "matriz1[2][1]=8.0\n",
    "matriz1[2][2]=9.0"
   ]
  },
  {
   "cell_type": "markdown",
   "metadata": {},
   "source": [
    "Hacer esto puede tomar mucho tiempo con matrices grandes. Existe una instrucción llamada **for** que nos permite hacer cosas repetitivas. Por ejemplo:\n",
    "~~~python\n",
    "matriz2 = np.zeros((3,3))\n",
    "val=0.0\n",
    "for i in range(3):\n",
    "    for j in range(3):\n",
    "        val=val+1.0\n",
    "        matriz2[i][j]=val\n",
    "~~~\n",
    "**Prueba la instrucción anterior e imprime las dos matrices (matriz1 y matriz2) en el siguiente recuadro.**"
   ]
  },
  {
   "cell_type": "code",
   "execution_count": null,
   "metadata": {},
   "outputs": [],
   "source": [
    "#Matriz de 3x3 con for"
   ]
  },
  {
   "cell_type": "markdown",
   "metadata": {},
   "source": [
    "Se pueden multiplicar dos matrices con\n",
    "~~~python\n",
    "matriz3=np.matmul(matriz1,matriz2)\n",
    "~~~\n",
    "**Multiplique las dos matrices anteriores e imprima el resultado.**"
   ]
  },
  {
   "cell_type": "code",
   "execution_count": null,
   "metadata": {},
   "outputs": [],
   "source": [
    "#Matriz3 = Matriz1 x Matriz2"
   ]
  },
  {
   "cell_type": "markdown",
   "metadata": {},
   "source": [
    "Los valores propios ($\\lambda$) y vectores propios ($v$) de una matriz ($M$) son muy importantes en química cuántica. Cumplen la propiedad de que al multipicar la matriz por el vector propio resulta el mismo vector multiplciado por una constante, es decir:\n",
    "\n",
    "$$\n",
    "M v = \\lambda v\n",
    "$$\n",
    "\n",
    "se pueden encontrar con\n",
    "~~~python\n",
    "val,vec=np.linalg.eig(matriz)\n",
    "~~~\n",
    "\n",
    "**Encuentre los valores propios y vectores propios de la matriz 1, e imprímalos.**"
   ]
  },
  {
   "cell_type": "code",
   "execution_count": null,
   "metadata": {},
   "outputs": [],
   "source": [
    "# Valores y vectores propios"
   ]
  },
  {
   "cell_type": "code",
   "execution_count": null,
   "metadata": {
    "tags": [
     "hide-cell"
    ]
   },
   "outputs": [],
   "source": [
    "val,vec=np.linalg.eig(matriz1)"
   ]
  },
  {
   "cell_type": "markdown",
   "metadata": {},
   "source": [
    "## Gráficas"
   ]
  },
  {
   "cell_type": "markdown",
   "metadata": {},
   "source": [
    "Vamos a graficar la función y=sin(x) de -3 a 3.\n",
    "\n",
    "Primero crearemos el dominio de la función (los valores de x), en nuestro ejemplo le daremos 50 puntos. Utilizaremos la función linspace(a,b,n) de numpy, esta crea un conjunto de n números distribuidos en el intervalo de a hasta b.\n",
    "~~~python\n",
    "x=np.linspace(-3,3,50)\n",
    "~~~\n",
    "\n",
    "**Genere el dominio tal que $x\\in[-3,3]$, utilice 50 puntos, guárdelo en la variable x e imprímalo.**"
   ]
  },
  {
   "cell_type": "code",
   "execution_count": null,
   "metadata": {},
   "outputs": [],
   "source": [
    "# Cree dominio de x"
   ]
  },
  {
   "cell_type": "markdown",
   "metadata": {},
   "source": [
    "Obtendremos el valor de \"y\" usando numpy, al escribir la siguiente instrucción Python toma cada valor de x, le aplica la función y lo guarda en la ariable \"y\".\n",
    "~~~python\n",
    "y=np.sin(x)\n",
    "~~~\n",
    "\n",
    "**Evalúe la función**\n",
    "\n",
    "$$\n",
    "y = sin(x)\n",
    "$$"
   ]
  },
  {
   "cell_type": "code",
   "execution_count": null,
   "metadata": {},
   "outputs": [],
   "source": [
    "# Evalúe función"
   ]
  },
  {
   "cell_type": "markdown",
   "metadata": {},
   "source": [
    "Finalmente, **realice la gráfica con**\n",
    "\n",
    "~~~python\n",
    "plt.scatter(x,y)\n",
    "plt.show()\n",
    "~~~"
   ]
  },
  {
   "cell_type": "code",
   "execution_count": null,
   "metadata": {},
   "outputs": [],
   "source": [
    "# Genere gráfica"
   ]
  },
  {
   "cell_type": "markdown",
   "metadata": {},
   "source": [
    "Las instrucciones anteriores son los pasos básicos para generar una gráfica. **En el siguiente recuadro genere la gráfica de las funciones $y_1=e^{-|x|}$ y $y_2=e^{-|x|^2}$ con 100 puntos desde -3 hasta 3.**"
   ]
  },
  {
   "cell_type": "code",
   "execution_count": null,
   "metadata": {},
   "outputs": [],
   "source": [
    "# Gráfica"
   ]
  },
  {
   "cell_type": "code",
   "execution_count": null,
   "metadata": {
    "tags": [
     "hide-cell"
    ]
   },
   "outputs": [],
   "source": [
    "x  = np.linspace(-3,3,100)\n",
    "y1 = np.exp(-np.abs(x))\n",
    "y2 = np.exp(-np.abs(x)**2)\n",
    "\n",
    "plt.scatter(x,y1)\n",
    "plt.scatter(x,y2)\n",
    "\n",
    "plt.show"
   ]
  },
  {
   "cell_type": "markdown",
   "metadata": {},
   "source": [
    "## Integrales"
   ]
  },
  {
   "cell_type": "markdown",
   "metadata": {},
   "source": [
    "También podemos hacer integrales con Python. Por ejemplo, vamos a integrar $y=x^2$ en el dominio $-3 \\leq x \\leq3$. Para ello importaremos el subpaquete integrate de la librería scipy.\n",
    "~~~python\n",
    "from scipy import integrate\n",
    "~~~\n",
    "y luego realizaremos la ingeral con la función quad\n",
    "~~~python\n",
    "integrate.quad(lambda x: x**2,-3,3)\n",
    "~~~\n",
    "Aquí \"lambda\" indica las variables de la ecuación, seguido de la ecuación y los límites de la integral. **Pruebe a realizar la integral.**"
   ]
  },
  {
   "cell_type": "code",
   "execution_count": null,
   "metadata": {},
   "outputs": [],
   "source": [
    "# Integre y = x**2 de -3 a 3"
   ]
  },
  {
   "cell_type": "code",
   "execution_count": null,
   "metadata": {
    "tags": [
     "hide-cell"
    ]
   },
   "outputs": [],
   "source": [
    "import scipy.integrate as integrate\n",
    "integrate.quad(lambda x: x**2,-3,3)"
   ]
  },
  {
   "cell_type": "markdown",
   "metadata": {},
   "source": [
    "Considere la funión de onda $\\psi = x$, con $x \\epsilon [-3,3]$, **proponga una función de onda normalizada y evalúe la integral con integrate.quad para comprobar que la norma es 1.**\n",
    "\n",
    "```{tip}\n",
    "Recuerde que para normalizar:\n",
    "1. Integre el cuadrado de la función de onda en el dominio.\n",
    "\n",
    "$$\n",
    "N^2 = \\int \\psi^2 dr\n",
    "$$\n",
    "\n",
    "2. Calcule la constante de normalización\n",
    "\n",
    "$$\n",
    "C = \\frac{1}{\\sqrt{N^2}} = \\frac{1}{\\sqrt{\\int_{x_1}^{x_2} |\\psi_{original}|^2 dx}}\n",
    "$$\n",
    "\n",
    "3. Evalúe la integral del cuadrado de la función de onda normalizada para comprobar que es igual a 1. Recuerde que la función de onda normalizada es:\n",
    "\n",
    "$$\n",
    "\\psi_{normalizada} = C \\psi_{original}\n",
    "$$\n",
    "```"
   ]
  },
  {
   "cell_type": "code",
   "execution_count": null,
   "metadata": {},
   "outputs": [],
   "source": [
    "#Normalice función de onda"
   ]
  },
  {
   "cell_type": "code",
   "execution_count": null,
   "metadata": {
    "tags": [
     "hide-cell"
    ]
   },
   "outputs": [],
   "source": [
    "import numpy as np\n",
    "norm2 = integrate.quad(lambda x: x*x,-3,3)[0]\n",
    "print(\"N**2 =\",norm2)\n",
    "\n",
    "#Constante de normalizacion\n",
    "C = 1/np.sqrt(norm2)\n",
    "print(\"C =\",C)\n",
    "\n",
    "integrate.quad(lambda x: (C*x)*(C*x),-3,3)"
   ]
  },
  {
   "cell_type": "markdown",
   "metadata": {},
   "source": [
    "**OPCIONAL**\n",
    "\n",
    "También es posible realizar integrales triples, el siguiente ejemplo solo es demostrativo, **simplemente copie y pegue para realizar la integral.**\n",
    "\n",
    "Sea la función de onda\n",
    "\n",
    "$$\n",
    "\\psi = e^{-(x^2+y^2+z^2)}=e^{-r^2}\n",
    "$$\n",
    "\n",
    "La integral de su cuadrado será\n",
    "\n",
    "$$\n",
    "N^2 = \\int \\psi^* \\psi d\\textbf{r} = \\int\\limits_{0}^\\infty \\int\\limits_{0}^{2\\pi} \\int\\limits_{0}^\\pi\\psi^* \\psi r^2 sin\\theta dr d\\phi d\\theta = \\int\\limits_{0}^{\\pi} sin \\theta d\\theta \\int\\limits_{0}^{2\\pi} d\\phi \\int\\limits_{0}^\\infty e^{-2r^2} r^2 dr = \\left(2\\pi\\right)\\left(2\\right)\\left(\\frac{1}{8}\\sqrt{\\frac{\\pi}{2}}\\right) = \\left(\\frac{\\pi}{2}\\right)^{3/2}\n",
    "$$\n",
    "\n",
    "El siguiente código evalúa la integral y la guarda en la variable \"norm2\".\n",
    "~~~python\n",
    "norm2 = integrate.tplquad(lambda theta,phi,r: r**2.0*np.sin(theta)*np.exp(-2.0*r**2.0), 0, np.inf, lambda r: 0, lambda theta: 2*np.pi,lambda r, theta: 0, lambda r, theta: np.pi)[0]\n",
    "~~~"
   ]
  },
  {
   "cell_type": "code",
   "execution_count": null,
   "metadata": {},
   "outputs": [],
   "source": [
    "#Encuentre el cuadrado de la norma de la funión de onda"
   ]
  },
  {
   "cell_type": "code",
   "execution_count": null,
   "metadata": {
    "tags": [
     "hide-cell"
    ]
   },
   "outputs": [],
   "source": [
    "norm2 = integrate.tplquad(lambda theta,phi,r: r**2.0*np.sin(theta)*np.exp(-2.0*r**2.0), 0, np.inf, lambda r: 0, lambda theta: 2*np.pi,lambda r, theta: 0, lambda r, theta: np.pi)[0]\n",
    "\n",
    "print(\"N**2 =\",norm2)"
   ]
  },
  {
   "cell_type": "markdown",
   "metadata": {},
   "source": [
    "**Compruebe que numéricamente esto es $\\left(\\frac{\\pi}{2}\\right)^{3/2}$.**"
   ]
  },
  {
   "cell_type": "code",
   "execution_count": null,
   "metadata": {},
   "outputs": [],
   "source": [
    "#Evalúe (pi/2)^(3/2)"
   ]
  },
  {
   "cell_type": "code",
   "execution_count": null,
   "metadata": {
    "tags": [
     "hide-cell"
    ]
   },
   "outputs": [],
   "source": [
    "print((np.pi/2)**(3/2))"
   ]
  },
  {
   "cell_type": "markdown",
   "metadata": {},
   "source": [
    "Evalúe la constante de normalización"
   ]
  },
  {
   "cell_type": "code",
   "execution_count": null,
   "metadata": {},
   "outputs": [],
   "source": [
    "# Constante de normalización"
   ]
  },
  {
   "cell_type": "code",
   "execution_count": null,
   "metadata": {
    "tags": [
     "hide-cell"
    ]
   },
   "outputs": [],
   "source": [
    "C = 1/np.sqrt(norm2)\n",
    "print(\"C =\",C)"
   ]
  },
  {
   "cell_type": "markdown",
   "metadata": {},
   "source": [
    "**OPCIONAL**\n",
    "\n",
    "Proponga una $\\psi$ normalizada, y compruebe que la integral de su cuadrado da 1. Recuerde la siguiente relación\n",
    "\n",
    "$$\n",
    "\\psi_{normalizada} = \\frac{1}{\\sqrt{norm}} \\psi_{original}\n",
    "$$\n",
    "\n",
    "y que para este ejercicio\n",
    "\n",
    "$$\n",
    "\\psi_{original} = e^{-r}\n",
    "$$"
   ]
  },
  {
   "cell_type": "code",
   "execution_count": null,
   "metadata": {},
   "outputs": [],
   "source": [
    "#Comprobación"
   ]
  },
  {
   "cell_type": "code",
   "execution_count": null,
   "metadata": {
    "tags": [
     "hide-cell"
    ]
   },
   "outputs": [],
   "source": [
    "norm = integrate.tplquad(lambda theta,phi,r: C**2*r**2.0*np.sin(theta)*np.exp(-2.0*r**2.0), 0, np.inf, lambda r: 0, lambda theta: 2*np.pi,lambda r, theta: 0, lambda r, theta: np.pi)\n",
    "print(norm)"
   ]
  },
  {
   "cell_type": "markdown",
   "metadata": {},
   "source": [
    "**OPCIONAL**\n",
    "\n",
    "**Repita el proceso de normalización para $\\psi=re^{-r^2}$.** La integral sin normalizar será\n",
    "\n",
    "$$\n",
    "\\int \\psi^* \\psi d\\textbf{r} = \\frac{3}{4}\\left(\\frac{\\pi}{2}\\right)^{3/2}\n",
    "$$"
   ]
  },
  {
   "cell_type": "code",
   "execution_count": null,
   "metadata": {},
   "outputs": [],
   "source": [
    "#Normalice"
   ]
  },
  {
   "cell_type": "code",
   "execution_count": null,
   "metadata": {
    "tags": [
     "hide-cell"
    ]
   },
   "outputs": [],
   "source": [
    "norm2=integrate.tplquad(lambda theta,phi,r: r**4.0*np.sin(theta)*np.exp(-2.0*r**2.0), 0, np.inf, lambda r: 0, lambda theta: 2*np.pi,lambda r, theta: 0, lambda r, theta: np.pi)[0]\n",
    "print(\"N**2 =\",norm2)\n",
    "\n",
    "C = 1/np.sqrt(norm2)\n",
    "print(\"C =\",C)\n",
    "\n",
    "norm=integrate.tplquad(lambda theta,phi,r: C**2*r**4.0*np.sin(theta)*np.exp(-2.0*r**2.0), 0, np.inf, lambda r: 0, lambda theta: 2*np.pi,lambda r, theta: 0, lambda r, theta: np.pi)\n",
    "print(norm)"
   ]
  }
 ],
 "metadata": {
  "celltoolbar": "Tags",
  "kernelspec": {
   "display_name": "Python 3",
   "language": "python",
   "name": "python3"
  },
  "language_info": {
   "codemirror_mode": {
    "name": "ipython",
    "version": 3
   },
   "file_extension": ".py",
   "mimetype": "text/x-python",
   "name": "python",
   "nbconvert_exporter": "python",
   "pygments_lexer": "ipython3",
   "version": "3.7.9"
  }
 },
 "nbformat": 4,
 "nbformat_minor": 2
}
