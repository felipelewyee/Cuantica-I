{
 "cells": [
  {
   "cell_type": "markdown",
   "metadata": {},
   "source": [
    "# Partícula Libre"
   ]
  },
  {
   "cell_type": "markdown",
   "metadata": {},
   "source": [
    "Es la descripción de una partícula moviéndose en un potencial **uniforme**, **conservativo** y **sin restricciones**.\n",
    "\n",
    "En 1D el Hamiltoniano es\n",
    "\\begin{equation}\n",
    "\\mathcal{H} = - \\frac{\\hbar^2}{2m} \\frac{d^2}{dx^2} + V(x)\n",
    "\\end{equation}\n",
    "\n",
    "La ecuación de Schrodinger a resolver se obtiene de susituir el Hamiltoniano en $\\mathcal{H}\\psi=\\varepsilon\\psi$:\n",
    "\\begin{equation}\n",
    "\\left(- \\frac{\\hbar^2}{2m} \\frac{d^2}{dx^2} +V(x)\\right)\\psi(x)=\\varepsilon\\psi(x)\n",
    "\\end{equation}\n",
    "\n",
    "Esta se puede reescribir como una ecuación diferencial homogénea de segundo orden\n",
    "\\begin{equation}\n",
    "-\\frac{d^2 \\psi(x)}{dx^2} = \\frac{2m(\\varepsilon-V)}{\\hbar^2}\\psi(x) = \\frac{2mE}{\\hbar^2}\\psi(x)\n",
    "\\end{equation}\n",
    "\n",
    "Se necesita una función cuya segunda derivada sea la misma función multiplicada por alguna constante. Esta característica la cumplen las exponenciales, por tanto:\n",
    "\\begin{equation}\n",
    "\\psi = A'e^{ikx} + B'e^{-ikx}\n",
    "\\end{equation}\n",
    "\n",
    "Al sustituir\n",
    "\\begin{equation}\n",
    "-\\frac{d^2 \\psi(x)}{dx^2} = k^2(A'e^{ikx} + B'e^{-ikx}) = k^2\\psi\n",
    "\\end{equation}\n",
    "\n",
    "Por comparación:\n",
    "**\\begin{equation}\n",
    "k^2 = \\frac{2mE}{\\hbar^2}\n",
    "\\end{equation}**\n",
    "\n",
    "Por la identidad de Euler, la función de onda también puede escribirse como:\n",
    "**\\begin{equation}\n",
    "\\psi = Acos(kx) + Bsin(kx)\n",
    "\\end{equation}**"
   ]
  },
  {
   "cell_type": "markdown",
   "metadata": {},
   "source": [
    "# Partícula en una caja"
   ]
  },
  {
   "cell_type": "markdown",
   "metadata": {},
   "source": [
    "En este caso el potencial está definido por:\n",
    "\\begin{equation}\n",
    "V(x) = \\left\\{\n",
    "  \\begin{array}{lll}\n",
    "  \\infty      & \\mathrm{si\\ } x < 0 & I\\\\\n",
    "  V & \\mathrm{si\\ } 0 \\le x \\le L & II \\\\\n",
    "  \\infty     & \\mathrm{si\\ } x > L & III\n",
    "  \\end{array}\n",
    "  \\right.\n",
    "\\end{equation}\n",
    "\n",
    "Esto significa que la partícula está confinada a un intervalo en $x \\epsilon [0,L]$. La función de onda se puede dividir por regiones, tal que\n",
    "\\begin{equation} \n",
    "  \\begin{array}{ll}\n",
    "  \\psi(x) = 0      & \\mathrm{si\\ } x < 0 \\mathrm{\\ o\\ } x>L\\\\\n",
    "  \\end{array}\n",
    "\\end{equation}\n",
    "\n",
    "La región II tiene una función de onda dada por el Hamiltoniano\n",
    "\\begin{equation}\n",
    "\\left(- \\frac{\\hbar^2}{2m} \\frac{d^2}{dx^2} +V(x)\\right)\\psi(x)=\\varepsilon\\psi(x)\n",
    "\\end{equation}\n",
    "cuya solución conocida es\n",
    "\\begin{equation} \n",
    "  \\begin{array}{lll}\n",
    "  \\psi(x) = Acos(kx) + Bsin(kx)      & \\mathrm{si\\ } 0 \\leq x \\leq L; & k^2 = \\frac{2mE}{\\hbar^2}\\\\\n",
    "  \\end{array}\n",
    "\\end{equation}\n",
    "\n",
    "Por la continuidad con la región I, se cumple $A=0$ ya que\n",
    "\\begin{equation}\n",
    "\\psi(0) = 0 = Acos(0) + Bsin(0) = A\n",
    "\\end{equation}\n",
    "Por la continuidad con la región III se tiene\n",
    "\\begin{equation}\n",
    "\\psi(L) = 0 = Bsin(kL)\n",
    "\\end{equation}\n",
    "\n",
    "$B \\neq 0$ porque $\\psi$ se anularía, entonces $kL$ debe ser un múltiplo de $n\\pi$, es decir\n",
    "\\begin{equation} \n",
    "  \\begin{array}{ll}\n",
    "  k=\\frac{n\\pi}{L};      & n=1,2,3,...\\\\\n",
    "  \\end{array}\n",
    "\\end{equation}\n",
    "Al normalizar la función de onda:\n",
    "\\begin{equation}\n",
    "\\psi_n(x)=\\left(\\frac{2}{L}\\right)^{1/2}sin\\left(\\frac{n\\pi x}{L}\\right)\n",
    "\\end{equation}\n",
    "\n",
    "La energía será\n",
    "\\begin{equation} \n",
    "  \\begin{array}{ll}\n",
    "  E = \\frac{\\hbar^2 k^2}{2m} = \\frac{h^2 n^2}{8mL^2};      & n=1,2,3,...\\\\\n",
    "  \\end{array}\n",
    "\\end{equation}\n"
   ]
  },
  {
   "cell_type": "markdown",
   "metadata": {},
   "source": [
    "**Grafique la función de onda y el cuadrado de la función de onda para n=1 para L=4.0 A**\n",
    "\n",
    "Sugerencias\n",
    "1. Importe numpy y matplotlib.pyplot\n",
    "2. Defina la variable L\n",
    "3. Cree el dominio de 0 a L con numpy.linspace\n",
    "4. Calcule la función de onda en el dominio\n",
    "5. Calcule el cuadrado de la función de onda en el dominio\n",
    "6. Grafique la función de onda y su cuadrado usando matplotlib y pyplot.\n"
   ]
  },
  {
   "cell_type": "code",
   "execution_count": null,
   "metadata": {},
   "outputs": [],
   "source": []
  },
  {
   "cell_type": "markdown",
   "metadata": {},
   "source": [
    "**Grafique la función de onda y el cuadrado de la función de onda para n=1,2,3,4 para L=4.0 A**\n",
    "Sugerencias:\n",
    "1. Importe numpy y matplotlib.pyplot\n",
    "2. Defina la variable L\n",
    "3. Cree el dominio de 0 a L con numpy.linspace\n",
    "4. Calcule las 4 funciones de onda en el dominio\n",
    "5. Calcule el cuadrado de las 4 funciones de onda en el dominio\n",
    "6. Grafique las funciones y su cuadrado usando matplotlib y pyplot."
   ]
  },
  {
   "cell_type": "code",
   "execution_count": null,
   "metadata": {},
   "outputs": [],
   "source": []
  },
  {
   "cell_type": "markdown",
   "metadata": {},
   "source": [
    "Como estamos haciendo una secuencia de gráficas donde aumentamos n de uno en uno, podemos hacerlo con un ciclo for"
   ]
  },
  {
   "cell_type": "code",
   "execution_count": null,
   "metadata": {},
   "outputs": [],
   "source": []
  },
  {
   "cell_type": "markdown",
   "metadata": {},
   "source": [
    "**Haga la gráfica de E en función de n para los primeros 10 niveles energéticos de un electrón en una caja.**\n",
    "\n",
    "Recuerde que\n",
    "\\begin{equation} \n",
    "  E = \\frac{h^2 n^2}{8mL^2}\n",
    "\\end{equation}\n",
    "Con $n=1,2,3,...$\n",
    "\n",
    "Considere h=1 y m=1. Esto se llama unidades atómicas. Tome L=1 A"
   ]
  },
  {
   "cell_type": "code",
   "execution_count": null,
   "metadata": {},
   "outputs": [],
   "source": []
  },
  {
   "cell_type": "markdown",
   "metadata": {},
   "source": [
    "**Muestre que $\\psi_1$ y $\\psi_3$ son ortonormales (Tome $L=2.0$).**\n",
    "\n",
    "Ayuda. Haga la integral"
   ]
  },
  {
   "cell_type": "code",
   "execution_count": null,
   "metadata": {},
   "outputs": [],
   "source": []
  },
  {
   "cell_type": "markdown",
   "metadata": {},
   "source": [
    "También existe la partícula en una caja para 2-Dimensiones. Se confina la partícula en $x\\varepsilon[0,L_x]$ y $y\\varepsilon[0,L_y]$.\n",
    "\n",
    "La ecuación de Schrodinger a resolver es\n",
    "\\begin{equation}\n",
    "- \\frac{\\hbar^2}{2m} \\left(\\frac{\\partial^2}{\\partial x^2} + \\frac{\\partial^2}{\\partial y^2} \\right)\\psi(x,y)=E\\psi(x,y)\n",
    "\\end{equation}\n",
    "\n",
    "Que se resuelve por el método de separación de variables y se obtiene:\n",
    "\\begin{equation} \n",
    "  \\begin{array}{ll}\n",
    "  k_x=\\frac{n_x\\pi}{L_x};      & n_x=1,2,3,...\\\\\n",
    "  k_y=\\frac{n_y\\pi}{L_y};      & n_y=1,2,3,...\\\\\n",
    "  \\end{array}\n",
    "\\end{equation}\n",
    "\n",
    "\\begin{equation}\n",
    "\\psi_{n_x,n_y}(x)=\\left(\\frac{2}{L_x}\\right)^{1/2} \\left(\\frac{2}{L_y}\\right)^{1/2}sin\\left(\\frac{n_x\\pi x}{L_x}\\right)sin\\left(\\frac{n_y\\pi y}{L_y}\\right)\n",
    "\\end{equation}\n",
    "\\begin{equation}\n",
    "E = \\frac{h^2 }{8m} \\left(\\frac{n_x^2}{L_x^2} + \\frac{n_y^2}{L_y^2} \\right)\n",
    "\\end{equation}\n"
   ]
  },
  {
   "cell_type": "markdown",
   "metadata": {},
   "source": [
    "**Obtenga la gráfica de $\\psi_{1,1}$, es decir $n_x=1$ y $n_y=1$, y de $|\\psi_{1,1}|^2$ con $L_x = L_y = 4.0$**"
   ]
  },
  {
   "cell_type": "code",
   "execution_count": null,
   "metadata": {},
   "outputs": [],
   "source": [
    "from mpl_toolkits import mplot3d\n",
    "import numpy as np\n",
    "import matplotlib.pyplot as plt\n",
    "\n",
    "Lx=4.0\n",
    "Ly=4.0\n",
    "\n",
    "nx=1.0\n",
    "ny=1.0\n",
    "\n",
    "x = np.linspace(0, Lx, 30)\n",
    "y = np.linspace(0, Ly, 30)\n",
    "X, Y = np.meshgrid(x, y)\n",
    "\n",
    "psi = np.sqrt(2.0/Lx)*np.sqrt(2.0/Ly)*np.sin(nx*np.pi*X/Lx)*np.sin(ny*np.pi*Y/Ly)\n",
    "\n",
    "ax = plt.axes(projection='3d')\n",
    "ax.plot_surface(X, Y, psi, rstride=1, cstride=1,\n",
    "                cmap='YlGnBu', edgecolor='none')\n",
    "ax.set_title(\"$\\Psi$\")\n",
    "plt.show()\n",
    "\n",
    "psi = np.sqrt(2.0/Lx)*np.sqrt(2.0/Ly)*np.sin(nx*np.pi*X/Lx)*np.sin(ny*np.pi*Y/Ly)\n",
    "\n",
    "ax = plt.axes(projection='3d')\n",
    "ax.plot_surface(X, Y, psi**2.0, rstride=1, cstride=1,\n",
    "                cmap='YlGnBu', edgecolor='none')\n",
    "ax.set_title(\"$|\\Psi|^2$\")\n",
    "plt.show()"
   ]
  },
  {
   "cell_type": "markdown",
   "metadata": {},
   "source": [
    "**Obtenga las gráfica de $\\psi_{3,3}$ y $|\\psi_{3,3}|^2$ con $L_x = L_y = 4.0$**"
   ]
  },
  {
   "cell_type": "code",
   "execution_count": null,
   "metadata": {},
   "outputs": [],
   "source": []
  },
  {
   "cell_type": "markdown",
   "metadata": {},
   "source": [
    "# Referencias"
   ]
  },
  {
   "cell_type": "markdown",
   "metadata": {},
   "source": [
    "(1) Pilar, F. L. Elementary Quantum Chemistry, Dover ed.; Dover Publications: Mineola, N.Y, 2001.\n",
    "\n",
    "(2) Breneman, G. L. The Two-Dimensional Particle in a Box. Journal of Chemical Education 1990, 67 (10), 866."
   ]
  },
  {
   "cell_type": "markdown",
   "metadata": {},
   "source": [
    "Hecho por Juan Felipe Huan Lew Yee y Jorge Martín del Campo Ramírez para la clase de Química Cuántica I del ciclo 2019-I. Universidad Nacional Autónoma de México.\n",
    "\n",
    "Este archivo puede distribuise libremente y ser considerado Open Source. Si deseas modificarlo para su distribución, solo se pide conservar el nombre de los autores originales."
   ]
  }
 ],
 "metadata": {
  "kernelspec": {
   "display_name": "Python 3",
   "language": "python",
   "name": "python3"
  },
  "language_info": {
   "codemirror_mode": {
    "name": "ipython",
    "version": 3
   },
   "file_extension": ".py",
   "mimetype": "text/x-python",
   "name": "python",
   "nbconvert_exporter": "python",
   "pygments_lexer": "ipython3",
   "version": "3.6.6"
  }
 },
 "nbformat": 4,
 "nbformat_minor": 2
}
