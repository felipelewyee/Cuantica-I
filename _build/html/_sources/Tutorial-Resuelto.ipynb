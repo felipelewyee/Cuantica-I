{
 "cells": [
  {
   "cell_type": "markdown",
   "metadata": {},
   "source": [
    "# Tutorial."
   ]
  },
  {
   "cell_type": "markdown",
   "metadata": {},
   "source": [
    "Hola!, si estás viendo esto es que instalaste **Anaconda** y **Python** correctamente, **felicidades!**. Este es un tutorial de como usar Python3 y de algunas de las funciones que nos servirán para el curso de **química cuántica I**. **Para usarlo solo tienes que escribir en los cuadros en blanco y presionar el botón Run o \"Shift\" + \"Enter\".**\n",
    "\n",
    "Al igual que en álgebra, en python se pueden usar variables para **almacenar valores numéricos**, por ejemplo\n",
    "~~~python\n",
    "x=5.0\n",
    "~~~\n",
    "**En el siguiente recuadro prueba definir una variable y asignarle un valor, puedes usar el nombre que tu quieras, recuerda dar \"shift\"+\"enter\" o Run.**"
   ]
  },
  {
   "cell_type": "code",
   "execution_count": 1,
   "metadata": {},
   "outputs": [],
   "source": [
    "x=5.0"
   ]
  },
  {
   "cell_type": "markdown",
   "metadata": {},
   "source": [
    "Puedes **ver (o imprimir) el valor de cualquier variable escribiendo**\n",
    "~~~python\n",
    "print(variable)\n",
    "~~~\n",
    "\n",
    "En nuestro ejemplo\n",
    "~~~python\n",
    "print(x)\n",
    "~~~\n",
    "Imprimiría 5.0. **Prueba imprimir el valor de la variable que hiciste arriba**"
   ]
  },
  {
   "cell_type": "code",
   "execution_count": 2,
   "metadata": {},
   "outputs": [
    {
     "name": "stdout",
     "output_type": "stream",
     "text": [
      "5.0\n"
     ]
    }
   ],
   "source": [
    "print(x)"
   ]
  },
  {
   "cell_type": "markdown",
   "metadata": {},
   "source": [
    "También aplican las operaciones conocidas del álgebra, por ejemplo\n",
    "\n",
    "\n",
    "| Operación     |    Álgebra    |    Python    |\n",
    "|---------------|---------------|--------------|\n",
    "|Suma|     $z=x+y$   |       $z=x+y$|\n",
    "|Resta|     $z=x-y$   |       $z=x-y$|\n",
    "|Multiplicación|     $z=(x)(y)$   |       $x=x*y$|\n",
    "|División|     $z=\\frac{x}{y}$   |       $z=x/y$|\n",
    "|Potencia|     $z=x^{y}$   |       $z=x**y$|\n",
    "|---------|-----------------------|------------------|\n",
    "\n",
    "En nuestro ejemplo, podemos escribir una nueva variable, hacer las operaciones, guardar el resultado e imprimirlo\n",
    "~~~python\n",
    "#Definimos la variable y\n",
    "y=2.0\n",
    "#Hacemos algunas operaciones con nuestras variables x, y; y guardamos el resultado\n",
    "z_suma=x+y\n",
    "z_resta=x-y\n",
    "z_mult=x*y\n",
    "z_div=x/y\n",
    "z_pot=x**y\n",
    "#Imprimimos los resultados\n",
    "print(\"x\",x,\"y\",y)\n",
    "print(\"suma\",z_suma)\n",
    "print(\"resta\",z_resta)\n",
    "print(\"multiplicación\",z_mult)\n",
    "print(\"división\",z_div)\n",
    "print(\"potencia\",z_pot)\n",
    "~~~\n",
    "\n",
    "Los resultados se almacenan en las variables z_suma, z_resta, z_mult y z_div. Nota que una variable puede tener un nombre más largo que una letra; y que también podemos imprimir texto.\n",
    "\n",
    "**Define una variable extra, calcula las 5 operaciones y obtén el resultado.**\n"
   ]
  },
  {
   "cell_type": "code",
   "execution_count": 3,
   "metadata": {},
   "outputs": [
    {
     "name": "stdout",
     "output_type": "stream",
     "text": [
      "x= 5.0 y= 2.0\n",
      "suma 7.0\n",
      "resta 3.0\n",
      "multiplicación 10.0\n",
      "división 2.5\n",
      "potencia 25.0\n"
     ]
    }
   ],
   "source": [
    "y=2.0\n",
    "z_suma=x+y\n",
    "z_resta=x-y\n",
    "z_mult=x*y\n",
    "z_div=x/y\n",
    "z_pot=x**y\n",
    "print(\"x=\",x,\"y=\",y)\n",
    "print(\"suma\",z_suma)\n",
    "print(\"resta\",z_resta)\n",
    "print(\"multiplicación\",z_mult)\n",
    "print(\"división\",z_div)\n",
    "print(\"potencia\",z_pot)"
   ]
  },
  {
   "cell_type": "markdown",
   "metadata": {},
   "source": [
    "La funcionalidad de python se puede extender utilizando **módulos**. Existen 2 importantes para el curso, **numpy** y **matplotlib**.\n",
    "**Para activar un módulo utilizamos la palabra import**, por ejemplo\n",
    "~~~python\n",
    "import numpy as np\n",
    "~~~\n",
    "\n",
    "También podemos tomar partes específicas de un módulo con la palabra **from**. Por ejemplo, importaremos la función pyplot de la librería matplotlib, la cual nos sirve para graficar, y la renombraremos como plt.\n",
    "~~~python\n",
    "from matplotlib import pyplot as plt\n",
    "~~~\n",
    "\n",
    "**Copia y pega las instrucciones anteriores en el recuadro para obtener las funciones de las librerias.**"
   ]
  },
  {
   "cell_type": "code",
   "execution_count": 4,
   "metadata": {},
   "outputs": [],
   "source": [
    "import numpy as np\n",
    "from matplotlib import pyplot as plt"
   ]
  },
  {
   "cell_type": "markdown",
   "metadata": {},
   "source": [
    "Utilizaremos numpy para obtener la raíz cuadrada de nuestra variable, en el ejemplo nuestra variable x\n",
    "~~~python\n",
    "x=5.0\n",
    "raiz = np.sqrt(x)\n",
    "print(raiz)\n",
    "~~~\n",
    "\n",
    "**Define una variable y obtén e imprime su raiz cuadrada.**"
   ]
  },
  {
   "cell_type": "code",
   "execution_count": 5,
   "metadata": {},
   "outputs": [
    {
     "name": "stdout",
     "output_type": "stream",
     "text": [
      "2.23606797749979\n"
     ]
    }
   ],
   "source": [
    "x=5.0\n",
    "raiz=np.sqrt(x)\n",
    "print(raiz)"
   ]
  },
  {
   "cell_type": "markdown",
   "metadata": {},
   "source": [
    "Podemos hacer vectores poniéndolos entre corchetes cuadrados, por ejemplo\n",
    "~~~python\n",
    "vector = [5, 9, 4]\n",
    "~~~\n",
    "Podemos imprimir todo el vector con\n",
    "~~~python\n",
    "print(vector)\n",
    "~~~\n",
    "O podemos imprimir un elemento específico. En python los elementos se cuentan desde \"cero\", para imprimir el número 9 haríamos:\n",
    "~~~python\n",
    "print(vector[1])\n",
    "~~~\n",
    "\n",
    "**Crea un vector de dimensión 3 (osea con 3 números), imprime el vector completo e imprime también el primer elemento del vector.**"
   ]
  },
  {
   "cell_type": "code",
   "execution_count": 6,
   "metadata": {},
   "outputs": [
    {
     "name": "stdout",
     "output_type": "stream",
     "text": [
      "[5, 9, 4]\n",
      "5\n"
     ]
    }
   ],
   "source": [
    "vector = [5,9,4]\n",
    "print(vector)\n",
    "print(vector[0])"
   ]
  },
  {
   "cell_type": "markdown",
   "metadata": {},
   "source": [
    "También podemos crear matrices, por ejemplo, vamos a crear una matriz de 3x3 que contenga ceros en todos su elementos\n",
    "~~~python\n",
    "matriz = [[0.0, 0.0, 0.0],[0.0, 0.0, 0.0],[0.0, 0.0, 0.0]]\n",
    "~~~\n",
    "**Prueba haciendo una matriz con valores distintos de cero, e imprime todos los elementos de la matriz.**"
   ]
  },
  {
   "cell_type": "code",
   "execution_count": 7,
   "metadata": {},
   "outputs": [
    {
     "name": "stdout",
     "output_type": "stream",
     "text": [
      "[[1.0, 2.0, 3.0], [4.0, 5.0, 6.0], [7.0, 8.0, 9.0]]\n"
     ]
    }
   ],
   "source": [
    "matriz = [[1.0,2.0,3.0],[4.0,5.0,6.0],[7.0,8.0,9.0]]\n",
    "print(matriz)"
   ]
  },
  {
   "cell_type": "markdown",
   "metadata": {},
   "source": [
    "Podemos usar numpy para hacer nuestra matriz de ceros de forma más fácil\n",
    "~~~python\n",
    "matriz = np.zeros((3,3))\n",
    "print(matriz)\n",
    "~~~\n",
    "**Prueba usar numpy para definir una matriz de ceros de 5x5, e imprimela.**"
   ]
  },
  {
   "cell_type": "code",
   "execution_count": 8,
   "metadata": {},
   "outputs": [
    {
     "name": "stdout",
     "output_type": "stream",
     "text": [
      "[[0. 0. 0. 0. 0.]\n",
      " [0. 0. 0. 0. 0.]\n",
      " [0. 0. 0. 0. 0.]\n",
      " [0. 0. 0. 0. 0.]\n",
      " [0. 0. 0. 0. 0.]]\n"
     ]
    }
   ],
   "source": [
    "matriz = np.zeros((5,5))\n",
    "print(matriz)"
   ]
  },
  {
   "cell_type": "markdown",
   "metadata": {},
   "source": [
    "A continuación define una matriz de 3x3 y asígnale los valores del 1 al 9. Por ejemplo.\n",
    "~~~python\n",
    "matriz1 = np.zeros((3,3))\n",
    "matriz1[0][0]=1.0\n",
    "matriz1[0][1]=2.0\n",
    "matriz1[0][2]=3.0\n",
    "matriz1[1][0]=4.0\n",
    "matriz1[1][2]=5.0\n",
    "...\n",
    "~~~\n",
    "**Escribe y completa el código anterior en el siguiente recuadro, e imprime la matriz.**"
   ]
  },
  {
   "cell_type": "code",
   "execution_count": 9,
   "metadata": {},
   "outputs": [
    {
     "name": "stdout",
     "output_type": "stream",
     "text": [
      "[[1. 2. 3.]\n",
      " [4. 5. 6.]\n",
      " [7. 8. 9.]]\n"
     ]
    }
   ],
   "source": [
    "matriz1 = np.zeros((3,3))\n",
    "matriz1[0][0]=1.0\n",
    "matriz1[0][1]=2.0\n",
    "matriz1[0][2]=3.0\n",
    "matriz1[1][0]=4.0\n",
    "matriz1[1][1]=5.0\n",
    "matriz1[1][2]=6.0\n",
    "matriz1[2][0]=7.0\n",
    "matriz1[2][1]=8.0\n",
    "matriz1[2][2]=9.0\n",
    "print(matriz1)"
   ]
  },
  {
   "cell_type": "markdown",
   "metadata": {},
   "source": [
    "Hacer esto puede tomar mucho tiempo con matrices grandes. Existe una instrucción llamada \"for\" que nos permite hacer cosas repetitivas. Por ejemplo:\n",
    "~~~python\n",
    "matriz2 = np.zeros((3,3))\n",
    "val=0.0\n",
    "for i in range(3):\n",
    "    for j in range(3):\n",
    "        val=val+1.0\n",
    "        matriz2[i][j]=val\n",
    "~~~\n",
    "**Prueba la instrucción anterior e imprime las dos matrices (matriz1 y matriz2) en el siguiente recuadro.**"
   ]
  },
  {
   "cell_type": "code",
   "execution_count": 10,
   "metadata": {},
   "outputs": [
    {
     "name": "stdout",
     "output_type": "stream",
     "text": [
      "[[1. 2. 3.]\n",
      " [4. 5. 6.]\n",
      " [7. 8. 9.]]\n",
      "[[1. 2. 3.]\n",
      " [4. 5. 6.]\n",
      " [7. 8. 9.]]\n"
     ]
    }
   ],
   "source": [
    "matriz2 = np.zeros((3,3))\n",
    "val=0.0\n",
    "for i in range(3):\n",
    "    for j in range(3):\n",
    "        val=val+1.0\n",
    "        matriz2[i][j]=val\n",
    "print(matriz1)\n",
    "print(matriz2)"
   ]
  },
  {
   "cell_type": "markdown",
   "metadata": {},
   "source": [
    "Puedes multiplicar dos matrices con\n",
    "~~~python\n",
    "matriz3=np.matmul(matriz1,matriz2)\n",
    "~~~\n",
    "**Multiplica tus dos matrices anteriores e imprime el resultado.**"
   ]
  },
  {
   "cell_type": "code",
   "execution_count": 11,
   "metadata": {},
   "outputs": [
    {
     "name": "stdout",
     "output_type": "stream",
     "text": [
      "[[ 30.  36.  42.]\n",
      " [ 66.  81.  96.]\n",
      " [102. 126. 150.]]\n"
     ]
    }
   ],
   "source": [
    "matriz3=np.matmul(matriz1,matriz2)\n",
    "print(matriz3)"
   ]
  },
  {
   "cell_type": "markdown",
   "metadata": {},
   "source": [
    "Y puedes encontrar sus eigenvalores y eigenvectores con la instrucción\n",
    "~~~python\n",
    "val,vec=np.linalg.eig(matriz)\n",
    "~~~\n",
    "**Encuentra los eigenvectores y los eigenvalores de tu matriz anterior, e imprimelos.**"
   ]
  },
  {
   "cell_type": "code",
   "execution_count": 12,
   "metadata": {},
   "outputs": [
    {
     "name": "stdout",
     "output_type": "stream",
     "text": [
      "Eigenvalores\n",
      "[ 1.61168440e+01 -1.11684397e+00 -1.30367773e-15]\n",
      "Eigenvectores\n",
      "[[-0.23197069 -0.78583024  0.40824829]\n",
      " [-0.52532209 -0.08675134 -0.81649658]\n",
      " [-0.8186735   0.61232756  0.40824829]]\n"
     ]
    }
   ],
   "source": [
    "val,vec=np.linalg.eig(matriz1)\n",
    "print(\"Eigenvalores\")\n",
    "print(val)\n",
    "print(\"Eigenvectores\")\n",
    "print(vec)"
   ]
  },
  {
   "cell_type": "markdown",
   "metadata": {},
   "source": [
    "Vamos a graficar la función y=sin(x) de -3 a 3.\n",
    "Primero crearemos el dominio de la función (los valores de x), en nuestro ejemplo le daremos 50 puntos. Utilizaremos linspace(a,b,n) que crea un conjunto de n números distribuidos desde a hasta b.\n",
    "~~~python\n",
    "x=np.linspace(-3,3,50)\n",
    "~~~\n",
    "\n",
    "Luego obtendremos el valor de y usando numpy\n",
    "~~~python\n",
    "y=np.sin(x)\n",
    "~~~\n",
    "y graficamos con la instrucción\n",
    "~~~python\n",
    "plt.scatter(x,y)\n",
    "~~~\n",
    "Para abrir la gráfica\n",
    "~~~python\n",
    "plt.show()\n",
    "~~~"
   ]
  },
  {
   "cell_type": "code",
   "execution_count": 13,
   "metadata": {},
   "outputs": [
    {
     "data": {
      "image/png": "[encoded data removed]",
      "text/plain": [
       "<Figure size 432x288 with 1 Axes>"
      ]
     },
     "metadata": {},
     "output_type": "display_data"
    }
   ],
   "source": [
    "x=np.linspace(-3,3,50)\n",
    "y=np.sin(x)\n",
    "plt.scatter(x,y)\n",
    "plt.show()"
   ]
  },
  {
   "cell_type": "markdown",
   "metadata": {},
   "source": [
    "**En el siguiente recuadro haga la gráfica de las funciones $y=e^{-|x|}$ y de $y=e^{-|x|^2}$ con 100 puntos desde -3 hasta 3.**"
   ]
  },
  {
   "cell_type": "code",
   "execution_count": 14,
   "metadata": {},
   "outputs": [
    {
     "data": {
      "image/png": "[encoded data removed]",
      "text/plain": [
       "<Figure size 432x288 with 1 Axes>"
      ]
     },
     "metadata": {},
     "output_type": "display_data"
    }
   ],
   "source": [
    "x=np.linspace(-3,3,200)\n",
    "y1=np.exp(-np.abs(x))\n",
    "y2=np.exp(-np.abs(x)**2.0)\n",
    "plt.scatter(x,y1)\n",
    "plt.scatter(x,y2)\n",
    "plt.show()"
   ]
  },
  {
   "cell_type": "markdown",
   "metadata": {},
   "source": [
    "También podemos hacer integrales con python. Por ejemplo, vamos a integrar y=x^2 en el dominio $-3 \\leq x \\leq3$. Para ello importaremos scipy.integrate.quad con\n",
    "~~~python\n",
    "import scipy.integrate as integrate\n",
    "~~~\n",
    "y luego realizaremos la ingeral\n",
    "~~~python\n",
    "scipy.integrate.quad(lambda x: x^2,-3,3)\n",
    "~~~\n",
    "Aquí \"lambda\" indica las variables de la ecuación, seguido de la ecuación y los límites de la integral. **Pruebe a realizar la integral.**"
   ]
  },
  {
   "cell_type": "markdown",
   "metadata": {},
   "source": [
    "Si tenemos la funión de onda $\\psi = x$, definida con $x \\epsilon [-3,3]$, **proponga una función de onda normalizada y evalúe la integral con scipy.integrate.quad para comprobar que la norma es 1.**"
   ]
  },
  {
   "cell_type": "code",
   "execution_count": 15,
   "metadata": {},
   "outputs": [
    {
     "data": {
      "text/plain": [
       "(18.0, 1.9984014443252818e-13)"
      ]
     },
     "execution_count": 15,
     "metadata": {},
     "output_type": "execute_result"
    }
   ],
   "source": [
    "import scipy.integrate as integrate\n",
    "integrate.quad(lambda x: x**2,-3,3)\n",
    "\n"
   ]
  },
  {
   "cell_type": "code",
   "execution_count": 16,
   "metadata": {},
   "outputs": [
    {
     "name": "stdout",
     "output_type": "stream",
     "text": [
      "(18.0, 1.9984014443252818e-13)\n"
     ]
    },
    {
     "data": {
      "text/plain": [
       "(1.0, 1.1102230246251565e-14)"
      ]
     },
     "execution_count": 16,
     "metadata": {},
     "output_type": "execute_result"
    }
   ],
   "source": [
    "norm2 = integrate.quad(lambda x: x*x,-3,3)\n",
    "print(norm2)\n",
    "#Constante de normalizacion\n",
    "c=np.sqrt(1.0/18.0)\n",
    "integrate.quad(lambda x: (c*x)*(c*x),-3,3)"
   ]
  },
  {
   "cell_type": "markdown",
   "metadata": {},
   "source": [
    "Sea la función de onda\n",
    "\\begin{equation}\n",
    "\\psi = e^{-(x^2+y^2+z^2)}=e^{-r^2}\n",
    "\\end{equation}\n",
    "Su integral de normalización será\n",
    "\\begin{equation}\n",
    "\\int\\limits_{-\\infty}^\\infty \\int\\limits_{-\\infty}^\\infty \\int\\limits_{-\\infty}^\\infty \\psi^* \\psi dx dy dz = \\int \\psi^* \\psi d\\textbf{r} = \\int\\limits_{0}^\\infty \\int\\limits_{0}^{2\\pi} \\int\\limits_{0}^\\pi\\psi^* \\psi r^2 sin\\theta dr d\\phi d\\theta = \\int\\limits_{0}^{\\pi} sin \\theta d\\theta \\int\\limits_{0}^{2\\pi} d\\phi \\int\\limits_{0}^\\infty e^{-2r^2} r^2 dr = \\left(2\\pi\\right)\\left(2\\right)\\left(\\frac{1}{8}\\sqrt{\\frac{\\pi}{2}}\\right) = \\left(\\frac{\\pi}{2}\\right)^{3/2}\n",
    "\\end{equation}\n",
    "\n",
    "Esta es una triple integral que se resuelve como sigue:\n",
    "~~~python\n",
    "gaussian_norm=integrate.tplquad(lambda theta,phi,r: r**2.0*np.sin(theta)*np.exp(-2.0*r**2.0), 0, np.inf, lambda r: 0, lambda theta: 2*np.pi,lambda r, theta: 0, lambda r, theta: np.pi)\n",
    "~~~\n",
    "**En el cuadro de abajo resuelve la integral copiando la línea mostrada e imprime el resultado**"
   ]
  },
  {
   "cell_type": "code",
   "execution_count": 17,
   "metadata": {},
   "outputs": [
    {
     "name": "stdout",
     "output_type": "stream",
     "text": [
      "(1.968701243215302, 9.997813032671455e-10)\n"
     ]
    }
   ],
   "source": [
    "gaussian_norm=integrate.tplquad(lambda theta,phi,r: r**2.0*np.sin(theta)*np.exp(-2.0*r**2.0), 0, np.inf, lambda r: 0, lambda theta: 2*np.pi,lambda r, theta: 0, lambda r, theta: np.pi)\n",
    "print(gaussian_norm)"
   ]
  },
  {
   "cell_type": "markdown",
   "metadata": {},
   "source": [
    "**Comprueba que numéricamente esto es $\\left(\\frac{\\pi}{2}\\right)^{3/2}$ y propón una $\\psi'$ normalizada, compruebe que su norma es uno.**"
   ]
  },
  {
   "cell_type": "code",
   "execution_count": 18,
   "metadata": {},
   "outputs": [
    {
     "name": "stdout",
     "output_type": "stream",
     "text": [
      "1.9687012432153024\n",
      "(1.0, 5.078381030232558e-10)\n"
     ]
    }
   ],
   "source": [
    "print((np.pi/2)**(3/2))\n",
    "gaussian_norm=integrate.tplquad(lambda theta,phi,r: (2/np.pi)**(3/2)*r**2.0*np.sin(theta)*np.exp(-2.0*r**2.0), 0, np.inf, lambda r: 0, lambda theta: 2*np.pi,lambda r, theta: 0, lambda r, theta: np.pi)\n",
    "print(gaussian_norm)"
   ]
  },
  {
   "cell_type": "markdown",
   "metadata": {},
   "source": [
    "**Repita el proceso de normalización para $\\psi=re^{-r^2}$. La integral sin normalizar será\n",
    "\\begin{equation}\n",
    "\\int \\psi^* \\psi d\\textbf{r} = \\frac{3}{4}\\left(\\frac{\\pi}{2}\\right)^{3/2}\n",
    "\\end{equation}**"
   ]
  },
  {
   "cell_type": "code",
   "execution_count": 19,
   "metadata": {},
   "outputs": [
    {
     "name": "stdout",
     "output_type": "stream",
     "text": [
      "(1.4765259324114768, 7.513298188835929e-09)\n",
      "(1.0, 5.088497375982098e-09)\n"
     ]
    }
   ],
   "source": [
    "gaussian_norm=integrate.tplquad(lambda theta,phi,r: r**4.0*np.sin(theta)*np.exp(-2.0*r**2.0), 0, np.inf, lambda r: 0, lambda theta: 2*np.pi,lambda r, theta: 0, lambda r, theta: np.pi)\n",
    "print(gaussian_norm)\n",
    "gaussian_norm=integrate.tplquad(lambda theta,phi,r: (3.0/4.0*(np.pi/2.0)**(3/2))**(-1.0)*r**4.0*np.sin(theta)*np.exp(-2.0*r**2.0), 0, np.inf, lambda r: 0, lambda theta: 2*np.pi,lambda r, theta: 0, lambda r, theta: np.pi)\n",
    "print(gaussian_norm)"
   ]
  },
  {
   "cell_type": "markdown",
   "metadata": {},
   "source": [
    "# Autores"
   ]
  },
  {
   "cell_type": "markdown",
   "metadata": {},
   "source": [
    "Hecho por Juan Felipe Huan Lew Yee y Jorge Martín del Campo Ramírez para la clase de Química Cuántica I del ciclo 2019-I. Universidad Nacional Autónoma de México.\n",
    "\n",
    "Este archivo puede distribuise libremente y ser considerado Open Source. Si deseas modificarlo para su distribución, solo se pide conservar el nombre de los autores originales."
   ]
  }
 ],
 "metadata": {
  "kernelspec": {
   "display_name": "Python 3",
   "language": "python",
   "name": "python3"
  },
  "language_info": {
   "codemirror_mode": {
    "name": "ipython",
    "version": 3
   },
   "file_extension": ".py",
   "mimetype": "text/x-python",
   "name": "python",
   "nbconvert_exporter": "python",
   "pygments_lexer": "ipython3",
   "version": "3.6.6"
  }
 },
 "nbformat": 4,
 "nbformat_minor": 2
}
