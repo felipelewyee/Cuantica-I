{
 "cells": [
  {
   "cell_type": "markdown",
   "id": "62226541",
   "metadata": {},
   "source": [
    "# Ejercicios partícula en una caja"
   ]
  },
  {
   "cell_type": "code",
   "execution_count": 1,
   "id": "425df77a",
   "metadata": {
    "tags": [
     "remove-cell"
    ]
   },
   "outputs": [],
   "source": [
    "from OptMultiple import MultipleChoice"
   ]
  },
  {
   "cell_type": "code",
   "execution_count": 8,
   "id": "d8dff3a0",
   "metadata": {
    "tags": [
     "remove-input"
    ]
   },
   "outputs": [
    {
     "data": {
      "text/html": [
       "<h4>La energía del estado base de una partícula en una caja es cero.</h4><form><input type=\"radio\" name=\"answer\" value=\"Falso\">Falso<br><input type=\"radio\" name=\"answer\" value=\"Cierto\">Cierto<br></form>\n",
       "<button title=\"Click to show/hide content\" type=\"button\"\n",
       "onclick=\"if(document.getElementById('5__rA6v1g6J7dEmLxche8fAY5F4')\n",
       " .style.display=='none') {document.getElementById('5__rA6v1g6J7dEmLxche8fAY5F4')\n",
       " .style.display=''}else{document.getElementById('5__rA6v1g6J7dEmLxche8fAY5F4')\n",
       " .style.display='none'}\">Show answer</button>\n",
       "<div id=\"5__rA6v1g6J7dEmLxche8fAY5F4\" style=\"display:none\">La respuesta correcta es: <br>Falso<br><i>Dado que si E=0 entonces ψ=0 y dicha solución no cumple que su cuadrado sea una densidad de probabilidad.</i></div>"
      ],
      "text/plain": [
       "<OptMultiple.MultipleChoice at 0x7f90d80b6630>"
      ]
     },
     "execution_count": 8,
     "metadata": {},
     "output_type": "execute_result"
    }
   ],
   "source": [
    "question = \"La energía del estado base de una partícula en una caja es cero.\"\n",
    "answers = [\n",
    "    \"Falso\",\n",
    "    \"Cierto\"\n",
    "]\n",
    "explanation = (\n",
    "    \"Dado que si E=0 entonces ψ=0\"\n",
    "    \" y dicha solución no cumple que su cuadrado sea una densidad de probabilidad.\"\n",
    ")\n",
    "MultipleChoice(\n",
    "    question, answers, correct_answer=0, explanation=explanation\n",
    ")"
   ]
  },
  {
   "cell_type": "code",
   "execution_count": null,
   "id": "f3399fd1",
   "metadata": {},
   "outputs": [],
   "source": []
  }
 ],
 "metadata": {
  "celltoolbar": "Tags",
  "kernelspec": {
   "display_name": "Python 3 (ipykernel)",
   "language": "python",
   "name": "python3"
  },
  "language_info": {
   "codemirror_mode": {
    "name": "ipython",
    "version": 3
   },
   "file_extension": ".py",
   "mimetype": "text/x-python",
   "name": "python",
   "nbconvert_exporter": "python",
   "pygments_lexer": "ipython3",
   "version": "3.7.0"
  }
 },
 "nbformat": 4,
 "nbformat_minor": 5
}
